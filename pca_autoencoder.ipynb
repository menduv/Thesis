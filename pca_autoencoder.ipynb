{
 "cells": [
  {
   "cell_type": "code",
   "execution_count": 18,
   "metadata": {},
   "outputs": [],
   "source": [
    "#Importing necessary libraries\n",
    "from sentence_transformers import SentenceTransformer\n",
    "from sklearn.decomposition import PCA\n",
    "import json\n",
    "import numpy as np\n",
    "import pandas as pd\n",
    "from datasets import load_dataset\n",
    "import torch\n",
    "from torch import nn\n",
    "from scipy.stats import pearsonr\n",
    "from torch.utils.data import DataLoader, TensorDataset"
   ]
  },
  {
   "cell_type": "markdown",
   "metadata": {},
   "source": [
    "Maybe the 50 dimensions is a little too small and I should start with 128"
   ]
  },
  {
   "cell_type": "code",
   "execution_count": 2,
   "metadata": {},
   "outputs": [],
   "source": [
    "model = SentenceTransformer('/home/mendu/Thesis/data/musiccaps/embedding_model')"
   ]
  },
  {
   "cell_type": "code",
   "execution_count": 3,
   "metadata": {},
   "outputs": [],
   "source": [
    "# Load your fine-tuned local model \n",
    "model_path = '/home/mendu/Thesis/data/musiccaps/embedding_model'\n",
    "model = SentenceTransformer(model_path)"
   ]
  },
  {
   "cell_type": "code",
   "execution_count": 5,
   "metadata": {},
   "outputs": [],
   "source": [
    "# captions = pd.read_csv('/home/mendu/Thesis/data/musiccaps/lp-music-caps_caption_writing.csv', index_col = [0])"
   ]
  },
  {
   "cell_type": "code",
   "execution_count": 6,
   "metadata": {},
   "outputs": [],
   "source": [
    "msd_dataset = load_dataset('seungheondoh/LP-MusicCaps-MSD')"
   ]
  },
  {
   "cell_type": "code",
   "execution_count": 7,
   "metadata": {},
   "outputs": [],
   "source": [
    "train = pd.DataFrame(msd_dataset['train'])\n",
    "# test = pd.DataFrame(msd_dataset['test'])\n",
    "# valid = pd.DataFrame(msd_dataset['valid'])"
   ]
  },
  {
   "cell_type": "code",
   "execution_count": 8,
   "metadata": {},
   "outputs": [],
   "source": [
    "sentences = train['caption_writing'].to_list()"
   ]
  },
  {
   "cell_type": "code",
   "execution_count": 9,
   "metadata": {},
   "outputs": [
    {
     "data": {
      "application/vnd.jupyter.widget-view+json": {
       "model_id": "82d671b1d97c4f40984c4e2b478ea26a",
       "version_major": 2,
       "version_minor": 0
      },
      "text/plain": [
       "Batches:   0%|          | 0/13903 [00:00<?, ?it/s]"
      ]
     },
     "metadata": {},
     "output_type": "display_data"
    }
   ],
   "source": [
    "# Generate embeddings for your sentences using the fine-tuned model\n",
    "embedded_sentences = model.encode(sentences, show_progress_bar=True, convert_to_numpy=True)\n",
    "\n",
    "# Number of PCA components (e.g., reduce to 50 dimensions)\n",
    "num_components = 50\n",
    "obj = PCA(n_components=num_components)\n",
    "\n",
    "# Fit the PCA model to the embedded sentences (this will find the principal components)\n",
    "pca_embeddings = obj.fit_transform(embedded_sentences)"
   ]
  },
  {
   "cell_type": "code",
   "execution_count": 11,
   "metadata": {},
   "outputs": [
    {
     "name": "stdout",
     "output_type": "stream",
     "text": [
      "Overall Pearson's correlation: 0.9783695752137767\n"
     ]
    }
   ],
   "source": [
    "# Project the PCA embeddings back to the original space\n",
    "projected_embeddings = obj.inverse_transform(pca_embeddings)\n",
    "\n",
    "# Initialize an empty list to store the Pearson correlation coefficients\n",
    "pearsons_correlations = []\n",
    "\n",
    "# Calculate Pearson's correlation for each pair of original and projected embeddings\n",
    "for original, projected in zip(embedded_sentences, projected_embeddings):\n",
    "    # Compute Pearson's r\n",
    "    corr, _ = pearsonr(original, projected)\n",
    "    pearsons_correlations.append(corr)\n",
    "\n",
    "# If you want to compute a single Pearson's correlation coefficient for all data\n",
    "# Concatenate all embeddings and compute the correlation\n",
    "flat_original = embedded_sentences.flatten()\n",
    "flat_projected = projected_embeddings.flatten()\n",
    "overall_corr, _ = pearsonr(flat_original, flat_projected)\n",
    "\n",
    "# print(\"Pearsons correlation for each embedding pair:\", pearsons_correlations)\n",
    "print(\"Overall Pearson's correlation:\", overall_corr)"
   ]
  },
  {
   "cell_type": "code",
   "execution_count": 12,
   "metadata": {},
   "outputs": [
    {
     "name": "stdout",
     "output_type": "stream",
     "text": [
      "Original embeddings shape: (444865, 768)\n",
      "PCA-reduced embeddings shape: (444865, 50)\n"
     ]
    }
   ],
   "source": [
    "print(\"Original embeddings shape:\", embedded_sentences.shape)\n",
    "print(\"PCA-reduced embeddings shape:\", pca_embeddings.shape)"
   ]
  },
  {
   "cell_type": "code",
   "execution_count": 13,
   "metadata": {},
   "outputs": [],
   "source": [
    "# import torch\n",
    "# from torch import nn\n",
    "\n",
    "# class Autoencoder(nn.Module):\n",
    "#     def __init__(self, input_size, encoding_size):\n",
    "#         super(Autoencoder, self).__init__()\n",
    "#         # Encoder\n",
    "#         self.encoder = nn.Sequential(\n",
    "#             nn.Linear(input_size, encoding_size),\n",
    "#             nn.ReLU(True)\n",
    "#         )\n",
    "#         # Decoder\n",
    "#         self.decoder = nn.Sequential(\n",
    "#             nn.Linear(encoding_size, input_size),\n",
    "#             nn.Sigmoid()  # Using Sigmoid because embeddings are likely normalized\n",
    "#         )\n",
    "\n",
    "#     def forward(self, x):\n",
    "#         encoded = self.encoder(x)\n",
    "#         decoded = self.decoder(encoded)\n",
    "#         return decoded\n",
    "    \n",
    "\n",
    "class Autoencoder(nn.Module):\n",
    "    def __init__(self, input_size, encoding_size):\n",
    "        super(Autoencoder, self).__init__()\n",
    "        # Encoder\n",
    "        self.encoder = nn.Sequential(\n",
    "            nn.Linear(input_size, 512),\n",
    "            nn.ReLU(True),\n",
    "            nn.BatchNorm1d(512),\n",
    "            nn.Linear(512, 256),\n",
    "            nn.ReLU(True),\n",
    "            nn.Linear(256, encoding_size),\n",
    "            nn.ReLU(True)\n",
    "        )\n",
    "        # Decoder\n",
    "        self.decoder = nn.Sequential(\n",
    "            nn.Linear(encoding_size, 256),\n",
    "            nn.ReLU(True),\n",
    "            nn.Linear(256, 512),\n",
    "            nn.ReLU(True),\n",
    "            nn.BatchNorm1d(512),\n",
    "            nn.Linear(512, input_size),\n",
    "            nn.Sigmoid()  # Using Sigmoid because embeddings are likely normalized\n",
    "        )\n",
    "\n",
    "    def forward(self, x):\n",
    "        encoded = self.encoder(x)\n",
    "        decoded = self.decoder(encoded)\n",
    "        return decoded"
   ]
  },
  {
   "cell_type": "code",
   "execution_count": 19,
   "metadata": {},
   "outputs": [],
   "source": [
    "# Convert the NumPy array of embeddings to a PyTorch tensor\n",
    "embedded_sentences_tensor = torch.tensor(embedded_sentences, dtype=torch.float32)\n",
    "\n",
    "# Create a dataset and a dataloader\n",
    "dataset = TensorDataset(embedded_sentences_tensor)\n",
    "dataloader = DataLoader(dataset, batch_size=64, shuffle=True, drop_last=True)"
   ]
  },
  {
   "cell_type": "code",
   "execution_count": 20,
   "metadata": {},
   "outputs": [],
   "source": [
    "# Instantiate the autoencoder\n",
    "input_size = embedded_sentences.shape[1]\n",
    "encoding_size = 50  # change this to whatever size you want to encode down to\n",
    "autoencoder = Autoencoder(input_size=input_size, encoding_size=encoding_size)\n",
    "\n",
    "# Define loss function and optimizer\n",
    "criterion = nn.MSELoss()\n",
    "optimizer = torch.optim.Adam(autoencoder.parameters(), lr=1e-3)"
   ]
  },
  {
   "cell_type": "code",
   "execution_count": 21,
   "metadata": {},
   "outputs": [
    {
     "data": {
      "text/plain": [
       "768"
      ]
     },
     "execution_count": 21,
     "metadata": {},
     "output_type": "execute_result"
    }
   ],
   "source": [
    "input_size"
   ]
  },
  {
   "cell_type": "code",
   "execution_count": 22,
   "metadata": {},
   "outputs": [
    {
     "name": "stdout",
     "output_type": "stream",
     "text": [
      "Epoch 1/50, Loss: 0.3475065529346466\n",
      "Epoch 2/50, Loss: 0.3487062454223633\n",
      "Epoch 3/50, Loss: 0.34524354338645935\n",
      "Epoch 4/50, Loss: 0.3496750295162201\n",
      "Epoch 5/50, Loss: 0.35347533226013184\n",
      "Epoch 6/50, Loss: 0.3394722044467926\n",
      "Epoch 7/50, Loss: 0.33730897307395935\n",
      "Epoch 8/50, Loss: 0.3398774564266205\n",
      "Epoch 9/50, Loss: 0.34341609477996826\n",
      "Epoch 10/50, Loss: 0.33544039726257324\n",
      "Epoch 11/50, Loss: 0.3458317220211029\n",
      "Epoch 12/50, Loss: 0.3407270014286041\n",
      "Epoch 13/50, Loss: 0.3472829759120941\n",
      "Epoch 14/50, Loss: 0.3407555818557739\n",
      "Epoch 15/50, Loss: 0.3482276201248169\n",
      "Epoch 16/50, Loss: 0.3465031385421753\n",
      "Epoch 17/50, Loss: 0.3476271629333496\n",
      "Epoch 18/50, Loss: 0.348853200674057\n",
      "Epoch 19/50, Loss: 0.34133246541023254\n",
      "Epoch 20/50, Loss: 0.34861934185028076\n",
      "Epoch 21/50, Loss: 0.3498746454715729\n",
      "Epoch 22/50, Loss: 0.34424281120300293\n",
      "Epoch 23/50, Loss: 0.3405202329158783\n",
      "Epoch 24/50, Loss: 0.34666380286216736\n",
      "Epoch 25/50, Loss: 0.34207960963249207\n",
      "Epoch 26/50, Loss: 0.34857282042503357\n",
      "Epoch 27/50, Loss: 0.3448081910610199\n",
      "Epoch 28/50, Loss: 0.35252174735069275\n",
      "Epoch 29/50, Loss: 0.34195980429649353\n",
      "Epoch 30/50, Loss: 0.3411783277988434\n",
      "Epoch 31/50, Loss: 0.33942651748657227\n",
      "Epoch 32/50, Loss: 0.3464428186416626\n",
      "Epoch 33/50, Loss: 0.3390970230102539\n",
      "Epoch 34/50, Loss: 0.33301451802253723\n",
      "Epoch 35/50, Loss: 0.3403160274028778\n",
      "Epoch 36/50, Loss: 0.3388194143772125\n",
      "Epoch 37/50, Loss: 0.3453651964664459\n",
      "Epoch 38/50, Loss: 0.33542752265930176\n",
      "Epoch 39/50, Loss: 0.3474214971065521\n",
      "Epoch 40/50, Loss: 0.34952202439308167\n",
      "Epoch 41/50, Loss: 0.3517538011074066\n",
      "Epoch 42/50, Loss: 0.3334692418575287\n",
      "Epoch 43/50, Loss: 0.3530120551586151\n",
      "Epoch 44/50, Loss: 0.34005820751190186\n",
      "Epoch 45/50, Loss: 0.34550416469573975\n",
      "Epoch 46/50, Loss: 0.33924564719200134\n",
      "Epoch 47/50, Loss: 0.343973308801651\n",
      "Epoch 48/50, Loss: 0.3448052406311035\n",
      "Epoch 49/50, Loss: 0.3445017635822296\n",
      "Epoch 50/50, Loss: 0.32770732045173645\n"
     ]
    }
   ],
   "source": [
    "epochs = 50  # Set this to the number of epochs to train for\n",
    "for epoch in range(epochs):\n",
    "    for data in dataloader:\n",
    "        inputs = data[0]\n",
    "        # Forward pass\n",
    "        outputs = autoencoder(inputs)\n",
    "        loss = criterion(outputs, inputs)\n",
    "\n",
    "        # Backward pass\n",
    "        optimizer.zero_grad()\n",
    "        loss.backward()\n",
    "        optimizer.step()\n",
    "        \n",
    "    print(f'Epoch {epoch+1}/{epochs}, Loss: {loss.item()}')"
   ]
  },
  {
   "cell_type": "code",
   "execution_count": 23,
   "metadata": {},
   "outputs": [
    {
     "name": "stdout",
     "output_type": "stream",
     "text": [
      "Mean Pearson correlation: 0.7770308981632065\n"
     ]
    }
   ],
   "source": [
    "# Switch the autoencoder to evaluation mode\n",
    "autoencoder.eval()\n",
    "\n",
    "# Process the entire dataset to obtain the decoded (projected) embeddings\n",
    "encoded_embeddings = autoencoder.encoder(embedded_sentences_tensor).detach().numpy()\n",
    "decoded_embeddings = autoencoder.decoder(torch.from_numpy(encoded_embeddings)).detach().numpy()\n",
    "\n",
    "# Calculate Pearson's correlation\n",
    "from scipy.stats import pearsonr\n",
    "correlations = np.array([pearsonr(original, decoded)[0] for original, decoded in zip(embedded_sentences, decoded_embeddings)])\n",
    "\n",
    "# print('Pearson correlation for each embedding pair:', correlations)\n",
    "print('Mean Pearson correlation:', np.mean(correlations))"
   ]
  },
  {
   "cell_type": "markdown",
   "metadata": {},
   "source": [
    "Change the metric, reconstruction loss"
   ]
  },
  {
   "cell_type": "code",
   "execution_count": 24,
   "metadata": {},
   "outputs": [
    {
     "name": "stdout",
     "output_type": "stream",
     "text": [
      "Original embeddings shape: torch.Size([444865, 768])\n",
      "Entire dataset encoded embeddings shape: torch.Size([444865, 50])\n"
     ]
    }
   ],
   "source": [
    "print(\"Original embeddings shape:\", embedded_sentences_tensor.shape)\n",
    "\n",
    "# Switch autoencoder to evaluation mode\n",
    "autoencoder.eval()\n",
    "\n",
    "# Process the entire dataset to obtain the encoded embeddings\n",
    "encoded_embeddings = autoencoder.encoder(embedded_sentences_tensor).detach()\n",
    "\n",
    "print(\"Entire dataset encoded embeddings shape:\", encoded_embeddings.shape)"
   ]
  },
  {
   "cell_type": "code",
   "execution_count": null,
   "metadata": {},
   "outputs": [],
   "source": []
  }
 ],
 "metadata": {
  "kernelspec": {
   "display_name": "myenv",
   "language": "python",
   "name": "python3"
  },
  "language_info": {
   "codemirror_mode": {
    "name": "ipython",
    "version": 3
   },
   "file_extension": ".py",
   "mimetype": "text/x-python",
   "name": "python",
   "nbconvert_exporter": "python",
   "pygments_lexer": "ipython3",
   "version": "3.11.8"
  }
 },
 "nbformat": 4,
 "nbformat_minor": 2
}
