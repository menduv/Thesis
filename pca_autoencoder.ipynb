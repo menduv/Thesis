{
 "cells": [
  {
   "cell_type": "code",
   "execution_count": 1,
   "metadata": {},
   "outputs": [],
   "source": [
    "#Importing necessary libraries\n",
    "from sentence_transformers import SentenceTransformer\n",
    "from sklearn.decomposition import PCA\n",
    "import json\n",
    "import numpy as np\n",
    "import pandas as pd\n",
    "from datasets import load_dataset\n",
    "import torch\n",
    "from torch import nn\n",
    "from scipy.stats import pearsonr\n",
    "from torch.utils.data import DataLoader, TensorDataset, random_split\n",
    "from sklearn.model_selection import train_test_split"
   ]
  },
  {
   "cell_type": "markdown",
   "metadata": {},
   "source": [
    "Maybe the 50 dimensions is a little too small and I should start with 128"
   ]
  },
  {
   "cell_type": "code",
   "execution_count": 2,
   "metadata": {},
   "outputs": [],
   "source": [
    "model = SentenceTransformer('/home/mendu/Thesis/data/musiccaps/embedding_model')"
   ]
  },
  {
   "cell_type": "code",
   "execution_count": 3,
   "metadata": {},
   "outputs": [],
   "source": [
    "# Load your fine-tuned local model \n",
    "model_path = '/home/mendu/Thesis/data/musiccaps/embedding_model'\n",
    "model = SentenceTransformer(model_path)"
   ]
  },
  {
   "cell_type": "code",
   "execution_count": 4,
   "metadata": {},
   "outputs": [],
   "source": [
    "# captions = pd.read_csv('/home/mendu/Thesis/data/musiccaps/lp-music-caps_caption_writing.csv', index_col = [0])"
   ]
  },
  {
   "cell_type": "code",
   "execution_count": 5,
   "metadata": {},
   "outputs": [],
   "source": [
    "msd_dataset = load_dataset('seungheondoh/LP-MusicCaps-MSD')"
   ]
  },
  {
   "cell_type": "code",
   "execution_count": 6,
   "metadata": {},
   "outputs": [],
   "source": [
    "train = pd.DataFrame(msd_dataset['train'])\n",
    "# test = pd.DataFrame(msd_dataset['test'])\n",
    "# valid = pd.DataFrame(msd_dataset['valid'])"
   ]
  },
  {
   "cell_type": "code",
   "execution_count": 7,
   "metadata": {},
   "outputs": [],
   "source": [
    "sentences = train['caption_writing'].to_list()"
   ]
  },
  {
   "cell_type": "markdown",
   "metadata": {},
   "source": [
    "## Training a PCA"
   ]
  },
  {
   "cell_type": "code",
   "execution_count": 8,
   "metadata": {},
   "outputs": [
    {
     "data": {
      "application/vnd.jupyter.widget-view+json": {
       "model_id": "b16d0e215f7a4c38b5c214566aa5c533",
       "version_major": 2,
       "version_minor": 0
      },
      "text/plain": [
       "Batches:   0%|          | 0/13903 [00:00<?, ?it/s]"
      ]
     },
     "metadata": {},
     "output_type": "display_data"
    }
   ],
   "source": [
    "# Generate embeddings for your sentences using the fine-tuned model\n",
    "embedded_sentences = model.encode(sentences, show_progress_bar=True, convert_to_numpy=True)\n",
    "\n",
    "# Number of PCA components (e.g., reduce to 50 dimensions)\n",
    "num_components = 50\n",
    "# obj = PCA(n_components=num_components)\n",
    "\n",
    "# Fit the PCA model to the embedded sentences (this will find the principal components)\n",
    "# pca_embeddings = obj.fit_transform(embedded_sentences)"
   ]
  },
  {
   "cell_type": "code",
   "execution_count": 9,
   "metadata": {},
   "outputs": [
    {
     "ename": "NameError",
     "evalue": "name 'obj' is not defined",
     "output_type": "error",
     "traceback": [
      "\u001b[0;31m---------------------------------------------------------------------------\u001b[0m",
      "\u001b[0;31mNameError\u001b[0m                                 Traceback (most recent call last)",
      "Cell \u001b[0;32mIn[9], line 2\u001b[0m\n\u001b[1;32m      1\u001b[0m \u001b[38;5;66;03m# Project the PCA embeddings back to the original space\u001b[39;00m\n\u001b[0;32m----> 2\u001b[0m projected_embeddings \u001b[38;5;241m=\u001b[39m \u001b[43mobj\u001b[49m\u001b[38;5;241m.\u001b[39minverse_transform(pca_embeddings)\n\u001b[1;32m      4\u001b[0m \u001b[38;5;66;03m# Initialize an empty list to store the Pearson correlation coefficients\u001b[39;00m\n\u001b[1;32m      5\u001b[0m pearsons_correlations \u001b[38;5;241m=\u001b[39m []\n",
      "\u001b[0;31mNameError\u001b[0m: name 'obj' is not defined"
     ]
    }
   ],
   "source": [
    "# Project the PCA embeddings back to the original space\n",
    "projected_embeddings = obj.inverse_transform(pca_embeddings)\n",
    "\n",
    "# Initialize an empty list to store the Pearson correlation coefficients\n",
    "pearsons_correlations = []\n",
    "\n",
    "# Calculate Pearson's correlation for each pair of original and projected embeddings\n",
    "for original, projected in zip(embedded_sentences, projected_embeddings):\n",
    "    # Compute Pearson's r\n",
    "    corr, _ = pearsonr(original, projected)\n",
    "    pearsons_correlations.append(corr)\n",
    "\n",
    "# If you want to compute a single Pearson's correlation coefficient for all data\n",
    "# Concatenate all embeddings and compute the correlation\n",
    "flat_original = embedded_sentences.flatten()\n",
    "flat_projected = projected_embeddings.flatten()\n",
    "overall_corr, _ = pearsonr(flat_original, flat_projected)\n",
    "\n",
    "# print(\"Pearsons correlation for each embedding pair:\", pearsons_correlations)\n",
    "print(\"Overall Pearson's correlation:\", overall_corr)"
   ]
  },
  {
   "cell_type": "code",
   "execution_count": null,
   "metadata": {},
   "outputs": [
    {
     "name": "stdout",
     "output_type": "stream",
     "text": [
      "Original embeddings shape: (444865, 768)\n",
      "PCA-reduced embeddings shape: (444865, 50)\n"
     ]
    }
   ],
   "source": [
    "print(\"Original embeddings shape:\", embedded_sentences.shape)\n",
    "print(\"PCA-reduced embeddings shape:\", pca_embeddings.shape)"
   ]
  },
  {
   "cell_type": "markdown",
   "metadata": {},
   "source": [
    "## Training an autoencoder"
   ]
  },
  {
   "cell_type": "code",
   "execution_count": 10,
   "metadata": {},
   "outputs": [],
   "source": [
    "# import torch\n",
    "# from torch import nn\n",
    "\n",
    "# class Autoencoder(nn.Module):\n",
    "#     def __init__(self, input_size, encoding_size):\n",
    "#         super(Autoencoder, self).__init__()\n",
    "#         # Encoder\n",
    "#         self.encoder = nn.Sequential(\n",
    "#             nn.Linear(input_size, encoding_size),\n",
    "#             nn.ReLU(True)\n",
    "#         )\n",
    "#         # Decoder\n",
    "#         self.decoder = nn.Sequential(\n",
    "#             nn.Linear(encoding_size, input_size),\n",
    "#             nn.Sigmoid()  # Using Sigmoid because embeddings are likely normalized\n",
    "#         )\n",
    "\n",
    "#     def forward(self, x):\n",
    "#         encoded = self.encoder(x)\n",
    "#         decoded = self.decoder(encoded)\n",
    "#         return decoded\n",
    "    \n",
    "\n",
    "class Autoencoder(nn.Module):\n",
    "    def __init__(self, input_size, encoding_size):\n",
    "        super(Autoencoder, self).__init__()\n",
    "        # Encoder\n",
    "        self.encoder = nn.Sequential(\n",
    "            nn.Linear(input_size, 512),\n",
    "            nn.ReLU(True),\n",
    "            nn.BatchNorm1d(512),\n",
    "            nn.Linear(512, 256),\n",
    "            nn.ReLU(True),\n",
    "            nn.BatchNorm1d(256),  # Added batch normalization\n",
    "            nn.Linear(256, 128),  # Added another layer\n",
    "            nn.ReLU(True),\n",
    "            nn.Linear(128, encoding_size),  # Adjusted the size of the encoding layer\n",
    "            nn.ReLU(True)\n",
    "        )\n",
    "        # Decoder\n",
    "        self.decoder = nn.Sequential(\n",
    "            nn.Linear(encoding_size, 128),  # Adjusted the size of the decoding layer\n",
    "            nn.ReLU(True),\n",
    "            nn.Linear(128, 256),  # Added another layer\n",
    "            nn.ReLU(True),\n",
    "            nn.BatchNorm1d(256),  # Added batch normalization\n",
    "            nn.Linear(256, 512),\n",
    "            nn.ReLU(True),\n",
    "            nn.Linear(512, input_size),\n",
    "            nn.Sigmoid()  # Using Sigmoid because embeddings are likely normalized\n",
    "        )\n",
    "\n",
    "    def forward(self, x):\n",
    "        encoded = self.encoder(x)\n",
    "        decoded = self.decoder(encoded)\n",
    "        return decoded"
   ]
  },
  {
   "cell_type": "code",
   "execution_count": 11,
   "metadata": {},
   "outputs": [
    {
     "data": {
      "text/plain": [
       "(444865, 768)"
      ]
     },
     "execution_count": 11,
     "metadata": {},
     "output_type": "execute_result"
    }
   ],
   "source": [
    "embedded_sentences.shape"
   ]
  },
  {
   "cell_type": "code",
   "execution_count": 12,
   "metadata": {},
   "outputs": [],
   "source": [
    "# Convert the NumPy array of embeddings to a PyTorch tensor\n",
    "embedded_sentences_tensor = torch.tensor(embedded_sentences, dtype=torch.float32)\n",
    "\n",
    "# Create a dataset and a dataloader\n",
    "dataset = TensorDataset(embedded_sentences_tensor)\n",
    "dataloader = DataLoader(dataset, batch_size=64, shuffle=True, drop_last=True)\n",
    "\n",
    "# # Split dataset into training and validation sets\n",
    "# train_size = int(0.8 * len(dataset))\n",
    "# val_size = len(dataset) - train_size\n",
    "# train_set, val_set = random_split(dataset, [train_size, val_size])\n",
    "\n",
    "# train_loader = DataLoader(train_set, batch_size=64, shuffle=True, drop_last=True)\n",
    "# val_loader = DataLoader(val_set, batch_size=64, shuffle=False)"
   ]
  },
  {
   "cell_type": "code",
   "execution_count": 13,
   "metadata": {},
   "outputs": [],
   "source": [
    "# # Convert the NumPy array of embeddings to a PyTorch tensor\n",
    "# embedded_sentences_tensor = torch.tensor(embedded_sentences, dtype=torch.float32)\n",
    "\n",
    "# # Create a dataset and a dataloader without labels\n",
    "# dataset = TensorDataset(embedded_sentences_tensor)\n",
    "\n",
    "# # Split dataset into training and validation sets\n",
    "# train_size = int(0.8 * len(dataset))\n",
    "# val_size = len(dataset) - train_size\n",
    "# train_set, val_set = random_split(dataset, [train_size, val_size])\n",
    "\n",
    "# # Create dataloaders without labels\n",
    "# train_loader = DataLoader(train_set, batch_size=64, shuffle=True, drop_last=True)\n",
    "# val_loader = DataLoader(val_set, batch_size=64, shuffle=False)\n"
   ]
  },
  {
   "cell_type": "code",
   "execution_count": 14,
   "metadata": {},
   "outputs": [],
   "source": [
    "# print(len(dataset))  # Number of samples in the dataset\n",
    "# print(dataset[0][0].shape)  # Shape of the first sample in the dataset\n",
    "# print(dataset[0][0].ndim)\n",
    "# print(embedded_sentences_tensor.shape)\n"
   ]
  },
  {
   "cell_type": "code",
   "execution_count": 15,
   "metadata": {},
   "outputs": [],
   "source": [
    "# # Iterate over the batches\n",
    "# for batch_idx, (data, target) in enumerate(train_loader):\n",
    "#     # Print the shape of the data in the first batch\n",
    "#     print(f\"Batch {batch_idx}: Data shape: {data.shape}\")\n"
   ]
  },
  {
   "cell_type": "code",
   "execution_count": 16,
   "metadata": {},
   "outputs": [],
   "source": [
    "# Instantiate the autoencoder\n",
    "input_size = embedded_sentences.shape[1]\n",
    "encoding_size = 64  # change this to whatever size you want to encode down to\n",
    "autoencoder = Autoencoder(input_size=input_size, encoding_size=encoding_size)\n",
    "\n",
    "# Define loss function and optimizer\n",
    "# criterion = nn.MSELoss()\n",
    "criterion = nn.L1Loss()  # MAE\n",
    "optimizer = torch.optim.Adam(autoencoder.parameters(), lr=1e-3)"
   ]
  },
  {
   "cell_type": "code",
   "execution_count": 17,
   "metadata": {},
   "outputs": [
    {
     "data": {
      "text/plain": [
       "768"
      ]
     },
     "execution_count": 17,
     "metadata": {},
     "output_type": "execute_result"
    }
   ],
   "source": [
    "input_size"
   ]
  },
  {
   "cell_type": "code",
   "execution_count": 18,
   "metadata": {},
   "outputs": [
    {
     "name": "stdout",
     "output_type": "stream",
     "text": [
      "Epoch 1/50, Loss: 0.334824800491333\n",
      "Epoch 2/50, Loss: 0.33555352687835693\n",
      "Epoch 3/50, Loss: 0.33216968178749084\n",
      "Epoch 4/50, Loss: 0.33210620284080505\n",
      "Epoch 5/50, Loss: 0.32818594574928284\n",
      "Epoch 6/50, Loss: 0.3308216631412506\n",
      "Epoch 7/50, Loss: 0.33003878593444824\n",
      "Epoch 8/50, Loss: 0.3279862701892853\n",
      "Epoch 9/50, Loss: 0.32929566502571106\n",
      "Epoch 10/50, Loss: 0.3305172026157379\n",
      "Epoch 11/50, Loss: 0.32799646258354187\n",
      "Epoch 12/50, Loss: 0.323348730802536\n",
      "Epoch 13/50, Loss: 0.3270413875579834\n",
      "Epoch 14/50, Loss: 0.32281219959259033\n",
      "Epoch 15/50, Loss: 0.3235558271408081\n",
      "Epoch 16/50, Loss: 0.32261645793914795\n",
      "Epoch 17/50, Loss: 0.328728586435318\n",
      "Epoch 18/50, Loss: 0.32509854435920715\n",
      "Epoch 19/50, Loss: 0.323576420545578\n",
      "Epoch 20/50, Loss: 0.3259600102901459\n",
      "Epoch 21/50, Loss: 0.32450369000434875\n",
      "Epoch 22/50, Loss: 0.330361932516098\n",
      "Epoch 23/50, Loss: 0.3207489252090454\n",
      "Epoch 24/50, Loss: 0.3246179521083832\n",
      "Epoch 25/50, Loss: 0.3260730504989624\n",
      "Epoch 26/50, Loss: 0.32480618357658386\n",
      "Epoch 27/50, Loss: 0.3189496695995331\n",
      "Epoch 28/50, Loss: 0.3214588165283203\n",
      "Epoch 29/50, Loss: 0.322216659784317\n",
      "Epoch 30/50, Loss: 0.3235432803630829\n",
      "Epoch 31/50, Loss: 0.32399895787239075\n",
      "Epoch 32/50, Loss: 0.3301595449447632\n",
      "Epoch 33/50, Loss: 0.3242534399032593\n",
      "Epoch 34/50, Loss: 0.32245203852653503\n",
      "Epoch 35/50, Loss: 0.32643377780914307\n",
      "Epoch 36/50, Loss: 0.32758501172065735\n",
      "Epoch 37/50, Loss: 0.32016420364379883\n",
      "Epoch 38/50, Loss: 0.322094202041626\n",
      "Epoch 39/50, Loss: 0.3238251209259033\n",
      "Epoch 40/50, Loss: 0.3254646360874176\n",
      "Epoch 41/50, Loss: 0.32408562302589417\n",
      "Epoch 42/50, Loss: 0.3230036497116089\n",
      "Epoch 43/50, Loss: 0.3240015208721161\n",
      "Epoch 44/50, Loss: 0.32317519187927246\n",
      "Epoch 45/50, Loss: 0.32678380608558655\n",
      "Epoch 46/50, Loss: 0.31994134187698364\n",
      "Epoch 47/50, Loss: 0.3220791518688202\n",
      "Epoch 48/50, Loss: 0.32699525356292725\n",
      "Epoch 49/50, Loss: 0.32115092873573303\n",
      "Epoch 50/50, Loss: 0.3266637325286865\n"
     ]
    }
   ],
   "source": [
    "epochs = 50  # Set this to the number of epochs to train for\n",
    "for epoch in range(epochs):\n",
    "    for data in dataloader:\n",
    "        inputs = data[0]\n",
    "        # Forward pass\n",
    "        outputs = autoencoder(inputs)\n",
    "        loss = criterion(outputs, inputs)\n",
    "\n",
    "        # Backward pass\n",
    "        optimizer.zero_grad()\n",
    "        loss.backward()\n",
    "        optimizer.step()\n",
    "        \n",
    "    print(f'Epoch {epoch+1}/{epochs}, Loss: {loss.item()}')"
   ]
  },
  {
   "cell_type": "code",
   "execution_count": 19,
   "metadata": {},
   "outputs": [],
   "source": [
    "# # Define the EarlyStopping class\n",
    "# class EarlyStopping:\n",
    "#     def __init__(self, patience=5, verbose=False):\n",
    "#         self.patience = patience\n",
    "#         self.verbose = verbose\n",
    "#         self.counter = 0\n",
    "#         self.best_loss = float('inf')\n",
    "#         self.early_stop = False\n",
    "\n",
    "#     def __call__(self, val_loss, model):\n",
    "#         if val_loss < self.best_loss:\n",
    "#             self.best_loss = val_loss\n",
    "#             self.counter = 0\n",
    "#         else:\n",
    "#             self.counter += 1\n",
    "#             if self.counter >= self.patience:\n",
    "#                 self.early_stop = True\n",
    "#                 if self.verbose:\n",
    "#                     print(\"Early stopping\")\n",
    "\n"
   ]
  },
  {
   "cell_type": "code",
   "execution_count": 20,
   "metadata": {},
   "outputs": [],
   "source": [
    "# # Instantiate the EarlyStopping object\n",
    "# early_stopping = EarlyStopping(patience=5, verbose=True)\n",
    "\n",
    "# epochs = 50\n",
    "# # Training loop with early stopping\n",
    "# for epoch in range(epochs):\n",
    "#     # Train the model\n",
    "#     model.train()  # Set the model to training mode\n",
    "#     for batch_idx, data in enumerate(train_loader):\n",
    "#         optimizer.zero_grad()\n",
    "#         # Unpack the batch\n",
    "#         embeddings = data[0]  # Assuming the embeddings are in the first element of the tuple\n",
    "#         output = model(embeddings)\n",
    "#         loss = criterion(output, embeddings)  # Use embeddings as target since it's an autoencoder\n",
    "#         loss.backward()\n",
    "#         optimizer.step()\n",
    "        \n",
    "#     # Validate the model\n",
    "#     model.eval()  # Set the model to evaluation mode\n",
    "#     val_loss = 0.0\n",
    "#     with torch.no_grad():\n",
    "#         for data in val_loader:\n",
    "#             embeddings = data[0]  # Assuming the embeddings are in the first element of the tuple\n",
    "#             output = model(embeddings)\n",
    "#             val_loss += criterion(output, embeddings).item()\n",
    "\n",
    "#     val_loss /= len(val_loader)\n",
    "\n",
    "#     print(f'Epoch {epoch+1}/{epochs}, Validation Loss: {val_loss}')\n",
    "\n",
    "#     # Call early stopping\n",
    "#     early_stopping(val_loss, model)\n",
    "\n",
    "#     if early_stopping.early_stop:\n",
    "#         print(\"Early stopping\")\n",
    "#         break"
   ]
  },
  {
   "cell_type": "markdown",
   "metadata": {},
   "source": [
    "- This constant loss means that we should try going smaller in the embedding space, go to 64 or 32. \n",
    "- DO early .\n",
    "- Higher learning rate"
   ]
  },
  {
   "cell_type": "code",
   "execution_count": 21,
   "metadata": {},
   "outputs": [
    {
     "name": "stdout",
     "output_type": "stream",
     "text": [
      "Mean Pearson correlation: 0.784859719757847\n"
     ]
    }
   ],
   "source": [
    "# Switch the autoencoder to evaluation mode\n",
    "autoencoder.eval()\n",
    "\n",
    "# Process the entire dataset to obtain the decoded (projected) embeddings\n",
    "encoded_embeddings = autoencoder.encoder(embedded_sentences_tensor).detach().numpy()\n",
    "decoded_embeddings = autoencoder.decoder(torch.from_numpy(encoded_embeddings)).detach().numpy()\n",
    "\n",
    "# Calculate Pearson's correlation\n",
    "from scipy.stats import pearsonr\n",
    "correlations = np.array([pearsonr(original, decoded)[0] for original, decoded in zip(embedded_sentences, decoded_embeddings)])\n",
    "\n",
    "# print('Pearson correlation for each embedding pair:', correlations)\n",
    "print('Mean Pearson correlation:', np.mean(correlations))"
   ]
  },
  {
   "cell_type": "markdown",
   "metadata": {},
   "source": [
    "Change the metric, reconstruction loss"
   ]
  },
  {
   "cell_type": "code",
   "execution_count": 22,
   "metadata": {},
   "outputs": [
    {
     "name": "stdout",
     "output_type": "stream",
     "text": [
      "Original embeddings shape: torch.Size([444865, 768])\n",
      "Entire dataset encoded embeddings shape: torch.Size([444865, 64])\n"
     ]
    }
   ],
   "source": [
    "print(\"Original embeddings shape:\", embedded_sentences_tensor.shape)\n",
    "\n",
    "# Switch autoencoder to evaluation mode\n",
    "autoencoder.eval()\n",
    "\n",
    "# Process the entire dataset to obtain the encoded embeddings\n",
    "encoded_embeddings = autoencoder.encoder(embedded_sentences_tensor).detach()\n",
    "\n",
    "print(\"Entire dataset encoded embeddings shape:\", encoded_embeddings.shape)"
   ]
  },
  {
   "cell_type": "code",
   "execution_count": null,
   "metadata": {},
   "outputs": [],
   "source": []
  },
  {
   "cell_type": "code",
   "execution_count": null,
   "metadata": {},
   "outputs": [],
   "source": []
  },
  {
   "cell_type": "code",
   "execution_count": null,
   "metadata": {},
   "outputs": [],
   "source": []
  },
  {
   "cell_type": "code",
   "execution_count": null,
   "metadata": {},
   "outputs": [],
   "source": []
  },
  {
   "cell_type": "code",
   "execution_count": null,
   "metadata": {},
   "outputs": [],
   "source": []
  },
  {
   "cell_type": "code",
   "execution_count": null,
   "metadata": {},
   "outputs": [],
   "source": []
  },
  {
   "cell_type": "code",
   "execution_count": null,
   "metadata": {},
   "outputs": [],
   "source": []
  },
  {
   "cell_type": "code",
   "execution_count": null,
   "metadata": {},
   "outputs": [],
   "source": []
  },
  {
   "cell_type": "code",
   "execution_count": null,
   "metadata": {},
   "outputs": [],
   "source": [
    "'''\n",
    "epochs = 50  # Set this to the number of epochs to train for\n",
    "for epoch in range(epochs):\n",
    "    for data in dataloader:\n",
    "        inputs = data[0]\n",
    "        # Forward pass\n",
    "        outputs = autoencoder(inputs)\n",
    "        loss = criterion(outputs, inputs)\n",
    "\n",
    "        # Backward pass\n",
    "        optimizer.zero_grad()\n",
    "        loss.backward()\n",
    "        optimizer.step()\n",
    "        \n",
    "    print(f'Epoch {epoch+1}/{epochs}, Loss: {loss.item()}')\n",
    "'''"
   ]
  }
 ],
 "metadata": {
  "kernelspec": {
   "display_name": "myenv",
   "language": "python",
   "name": "python3"
  },
  "language_info": {
   "codemirror_mode": {
    "name": "ipython",
    "version": 3
   },
   "file_extension": ".py",
   "mimetype": "text/x-python",
   "name": "python",
   "nbconvert_exporter": "python",
   "pygments_lexer": "ipython3",
   "version": "3.11.8"
  }
 },
 "nbformat": 4,
 "nbformat_minor": 2
}
