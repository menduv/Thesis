{
 "cells": [
  {
   "cell_type": "code",
   "execution_count": 1,
   "metadata": {},
   "outputs": [],
   "source": [
    "#Importing necessary libraries\n",
    "from sentence_transformers import SentenceTransformer\n",
    "from sklearn.decomposition import PCA\n",
    "import json\n",
    "import numpy as np\n",
    "import pandas as pd\n",
    "from datasets import load_dataset\n",
    "import torch\n",
    "from torch import nn\n",
    "from scipy.stats import pearsonr\n",
    "from torch.utils.data import DataLoader, TensorDataset, random_split\n",
    "from sklearn.model_selection import train_test_split"
   ]
  },
  {
   "cell_type": "code",
   "execution_count": 2,
   "metadata": {},
   "outputs": [],
   "source": [
    "# Load your fine-tuned local model \n",
    "model_path = '/home/mendu/Thesis/data/musiccaps/new_embedding_model'\n",
    "model = SentenceTransformer(model_path)"
   ]
  },
  {
   "cell_type": "code",
   "execution_count": 3,
   "metadata": {},
   "outputs": [],
   "source": [
    "# Loading the MusicCaps dataset from HuggingFace\n",
    "msd_dataset = load_dataset('seungheondoh/LP-MusicCaps-MSD')"
   ]
  },
  {
   "cell_type": "code",
   "execution_count": 4,
   "metadata": {},
   "outputs": [],
   "source": [
    "# Only using the trainingn set\n",
    "train = pd.DataFrame(msd_dataset['train'])\n",
    "# test = pd.DataFrame(msd_dataset['test'])\n",
    "# valid = pd.DataFrame(msd_dataset['valid'])"
   ]
  },
  {
   "cell_type": "code",
   "execution_count": 5,
   "metadata": {},
   "outputs": [],
   "source": [
    "# Converting the captions to a list of size 44865\n",
    "sentences = train['caption_writing'].to_list()"
   ]
  },
  {
   "cell_type": "markdown",
   "metadata": {},
   "source": [
    "## Training a PCA"
   ]
  },
  {
   "cell_type": "code",
   "execution_count": 6,
   "metadata": {},
   "outputs": [
    {
     "data": {
      "application/vnd.jupyter.widget-view+json": {
       "model_id": "044f391208da40708c1b7452dce5cf15",
       "version_major": 2,
       "version_minor": 0
      },
      "text/plain": [
       "Batches:   0%|          | 0/13903 [00:00<?, ?it/s]"
      ]
     },
     "metadata": {},
     "output_type": "display_data"
    }
   ],
   "source": [
    "# Generate embeddings for your sentences using the fine-tuned model\n",
    "embedded_sentences = model.encode(sentences, show_progress_bar=True, convert_to_numpy=True)\n",
    "\n",
    "# Number of PCA components (e.g., reduce to 50 dimensions)\n",
    "num_components = 50\n",
    "# obj = PCA(n_components=num_components)\n",
    "\n",
    "# Fit the PCA model to the embedded sentences (this will find the principal components)\n",
    "# pca_embeddings = obj.fit_transform(embedded_sentences)"
   ]
  },
  {
   "cell_type": "code",
   "execution_count": null,
   "metadata": {},
   "outputs": [],
   "source": [
    "# # Project the PCA embeddings back to the original space\n",
    "# projected_embeddings = obj.inverse_transform(pca_embeddings)\n",
    "\n",
    "# # Initialize an empty list to store the Pearson correlation coefficients\n",
    "# pearsons_correlations = []\n",
    "\n",
    "# # Calculate Pearson's correlation for each pair of original and projected embeddings\n",
    "# for original, projected in zip(embedded_sentences, projected_embeddings):\n",
    "#     # Compute Pearson's r\n",
    "#     corr, _ = pearsonr(original, projected)\n",
    "#     pearsons_correlations.append(corr)\n",
    "\n",
    "# # If you want to compute a single Pearson's correlation coefficient for all data\n",
    "# # Concatenate all embeddings and compute the correlation\n",
    "# flat_original = embedded_sentences.flatten()\n",
    "# flat_projected = projected_embeddings.flatten()\n",
    "# overall_corr, _ = pearsonr(flat_original, flat_projected)\n",
    "\n",
    "# # print(\"Pearsons correlation for each embedding pair:\", pearsons_correlations)\n",
    "# print(\"Overall Pearson's correlation:\", overall_corr)"
   ]
  },
  {
   "cell_type": "code",
   "execution_count": null,
   "metadata": {},
   "outputs": [],
   "source": [
    "# print(\"Original embeddings shape:\", embedded_sentences.shape)\n",
    "# print(\"PCA-reduced embeddings shape:\", pca_embeddings.shape)"
   ]
  },
  {
   "cell_type": "markdown",
   "metadata": {},
   "source": [
    "## Training an autoencoder"
   ]
  },
  {
   "cell_type": "code",
   "execution_count": 7,
   "metadata": {},
   "outputs": [],
   "source": [
    "# Defining the autoencoder class and architecture\n",
    "class Autoencoder(nn.Module):\n",
    "    def __init__(self, input_size, encoding_size):\n",
    "        super(Autoencoder, self).__init__()\n",
    "        # Encoder\n",
    "        self.encoder = nn.Sequential(\n",
    "            nn.Linear(input_size, 512),\n",
    "            nn.ReLU(True),\n",
    "            nn.BatchNorm1d(512),\n",
    "            nn.Linear(512, 256),\n",
    "            nn.ReLU(True),\n",
    "            nn.BatchNorm1d(256),  # Added batch normalization\n",
    "            nn.Linear(256, 128),  # Added another layer\n",
    "            nn.ReLU(True),\n",
    "            nn.Linear(128, encoding_size),  # Adjusted the size of the encoding layer\n",
    "            nn.ReLU(True)\n",
    "        )\n",
    "        # Decoder\n",
    "        self.decoder = nn.Sequential(\n",
    "            nn.Linear(encoding_size, 128),  # Adjusted the size of the decoding layer\n",
    "            nn.ReLU(True),\n",
    "            nn.Linear(128, 256),  # Added another layer\n",
    "            nn.ReLU(True),\n",
    "            nn.BatchNorm1d(256),  # Added batch normalization\n",
    "            nn.Linear(256, 512),\n",
    "            nn.ReLU(True),\n",
    "            nn.Linear(512, input_size),\n",
    "            nn.Sigmoid()  # Using Sigmoid because embeddings are likely normalized\n",
    "        )\n",
    "\n",
    "    def forward(self, x):\n",
    "        encoded = self.encoder(x)\n",
    "        decoded = self.decoder(encoded)\n",
    "        return decoded"
   ]
  },
  {
   "cell_type": "code",
   "execution_count": 8,
   "metadata": {},
   "outputs": [],
   "source": [
    "# Convert the NumPy array of embeddings to a PyTorch tensor\n",
    "embedded_sentences_tensor = torch.tensor(embedded_sentences, dtype=torch.float32)\n",
    "\n",
    "# Create a dataset and a dataloader\n",
    "dataset = TensorDataset(embedded_sentences_tensor)\n",
    "dataloader = DataLoader(dataset, batch_size=64, shuffle=True, drop_last=True)"
   ]
  },
  {
   "cell_type": "code",
   "execution_count": 11,
   "metadata": {},
   "outputs": [],
   "source": [
    "# Instantiate the autoencoder\n",
    "input_size = embedded_sentences.shape[1]\n",
    "encoding_size = 64  # change this to whatever size you want to encode down to\n",
    "autoencoder = Autoencoder(input_size=input_size, encoding_size=encoding_size)\n",
    "\n",
    "# Define loss function and optimizer\n",
    "# criterion = nn.MSELoss()\n",
    "criterion = nn.L1Loss()  # MAE\n",
    "optimizer = torch.optim.Adam(autoencoder.parameters(), lr=1e-3)"
   ]
  },
  {
   "cell_type": "code",
   "execution_count": 12,
   "metadata": {},
   "outputs": [
    {
     "name": "stdout",
     "output_type": "stream",
     "text": [
      "Epoch 1/20, Loss: 0.3479149341583252\n",
      "Epoch 2/20, Loss: 0.3466016352176666\n",
      "Epoch 3/20, Loss: 0.34476661682128906\n",
      "Epoch 4/20, Loss: 0.33979666233062744\n",
      "Epoch 5/20, Loss: 0.3394850790500641\n",
      "Epoch 6/20, Loss: 0.3356765806674957\n",
      "Epoch 7/20, Loss: 0.3363005220890045\n",
      "Epoch 8/20, Loss: 0.3406217098236084\n",
      "Epoch 9/20, Loss: 0.3356150686740875\n",
      "Epoch 10/20, Loss: 0.34118881821632385\n",
      "Epoch 11/20, Loss: 0.3356809616088867\n",
      "Epoch 12/20, Loss: 0.3333381414413452\n",
      "Epoch 13/20, Loss: 0.33752670884132385\n",
      "Epoch 14/20, Loss: 0.33646360039711\n",
      "Epoch 15/20, Loss: 0.34646520018577576\n",
      "Epoch 16/20, Loss: 0.33549603819847107\n",
      "Epoch 17/20, Loss: 0.3361603319644928\n",
      "Epoch 18/20, Loss: 0.33716142177581787\n",
      "Epoch 19/20, Loss: 0.3304450213909149\n",
      "Epoch 20/20, Loss: 0.33382365107536316\n"
     ]
    }
   ],
   "source": [
    "epochs = 20  # Set this to the number of epochs to train for\n",
    "for epoch in range(epochs):\n",
    "    for data in dataloader:\n",
    "        inputs = data[0]\n",
    "        # Forward pass\n",
    "        outputs = autoencoder(inputs)\n",
    "        loss = criterion(outputs, inputs)\n",
    "\n",
    "        # Backward pass\n",
    "        optimizer.zero_grad()\n",
    "        loss.backward()\n",
    "        optimizer.step()\n",
    "        \n",
    "    print(f'Epoch {epoch+1}/{epochs}, Loss: {loss.item()}')"
   ]
  },
  {
   "cell_type": "code",
   "execution_count": 13,
   "metadata": {},
   "outputs": [],
   "source": [
    "# Switch the autoencoder to evaluation mode\n",
    "autoencoder.eval()\n",
    "\n",
    "# Process the entire dataset to obtain the decoded (projected) embeddings\n",
    "encoded_embeddings = autoencoder.encoder(embedded_sentences_tensor).detach().numpy()\n",
    "decoded_embeddings = autoencoder.decoder(torch.from_numpy(encoded_embeddings)).detach().numpy()"
   ]
  },
  {
   "cell_type": "code",
   "execution_count": 14,
   "metadata": {},
   "outputs": [],
   "source": [
    "# Save the encoder's state_dict\n",
    "torch.save(autoencoder.encoder.state_dict(), '/home/mendu/Thesis/data/musiccaps/auto_encoder/encoder_state_dict.pth')"
   ]
  },
  {
   "cell_type": "markdown",
   "metadata": {},
   "source": [
    "Change the metric, reconstruction loss"
   ]
  },
  {
   "cell_type": "code",
   "execution_count": null,
   "metadata": {},
   "outputs": [],
   "source": [
    "print(\"Original embeddings shape:\", embedded_sentences_tensor.shape)\n",
    "\n",
    "# Switch autoencoder to evaluation mode\n",
    "autoencoder.eval()\n",
    "\n",
    "# Process the entire dataset to obtain the encoded embeddings\n",
    "encoded_embeddings = autoencoder.encoder(embedded_sentences_tensor).detach()\n",
    "\n",
    "print(\"Entire dataset encoded embeddings shape:\", encoded_embeddings.shape)"
   ]
  },
  {
   "cell_type": "markdown",
   "metadata": {},
   "source": [
    "## Trying to get the word embeddings of the 8 class labels"
   ]
  },
  {
   "cell_type": "code",
   "execution_count": null,
   "metadata": {},
   "outputs": [],
   "source": [
    "# Assuming you have your SentenceTransformer model loaded as `model`\n",
    "new_sentence = \"Your new sentence.\"\n",
    "new_sentence_embedding = model.encode(new_sentence, convert_to_tensor=True)\n",
    "\n",
    "# Create a new Autoencoder instance and load the trained encoder\n",
    "autoencoder = Autoencoder(input_size=768, encoding_size=64)\n",
    "encoder_state_dict = torch.load('/home/mendu/Thesis/data/musiccaps/auto_encoder/encoder_state_dict.pth')\n",
    "autoencoder.encoder.load_state_dict(encoder_state_dict)\n",
    "\n",
    "# You may need to ensure the new sentence embedding is on the same device (CPU/GPU) as the model\n",
    "# e.g., if the autoencoder is on the GPU, you need to do: new_sentence_embedding = new_sentence_embedding.to('cuda')\n",
    "\n",
    "# Pass your new sentence embedding through the encoder\n",
    "autoencoder.eval()  # Important: set the model to evaluation mode\n",
    "with torch.no_grad():\n",
    "    new_encoded_embedding = autoencoder.encoder(new_sentence_embedding.unsqueeze(0))  # Add dummy batch dimension\n",
    "\n",
    "# Convert to numpy array if needed\n",
    "new_encoded_embedding = new_encoded_embedding.cpu().numpy()  # Call .cpu() if model is on GPU\n",
    "\n",
    "# The variable 'new_encoded_embedding' now contains the 64-dimensional vector for the new sentence"
   ]
  },
  {
   "cell_type": "code",
   "execution_count": null,
   "metadata": {},
   "outputs": [],
   "source": [
    "import os\n",
    "\n",
    "os.listdir('/home/mendu/Thesis/data/musiccaps/new_embedding_model')"
   ]
  },
  {
   "cell_type": "code",
   "execution_count": null,
   "metadata": {},
   "outputs": [],
   "source": [
    "#Chnage this, dont use the tokeniser use model\n",
    "\n",
    "\n",
    "import numpy as np\n",
    "from transformers import AutoTokenizer\n",
    "\n",
    "# Load the fine-tuned tokenizer\n",
    "tokenizer = AutoTokenizer.from_pretrained('/home/mendu/Thesis/data/musiccaps/new_embedding_model/')  # Update the path accordingly\n",
    "\n",
    "# Load the 64-dimensional word embeddings\n",
    "embeddings_reduced = np.load('/home/mendu/Thesis/data/musiccaps/auto_encoder/encoded_embeddings.npy')  # Update with the correct .npy file path\n",
    "\n",
    "# Function to get the embedding of a specific word\n",
    "def get_word_embedding(word):\n",
    "    # Tokenize the word to get its ID\n",
    "    token_id = tokenizer.encode(word, add_special_tokens=False)\n",
    "    if not token_id:\n",
    "        raise ValueError(f\"The word '{word}' was not found in the tokenizer's vocabulary.\")\n",
    "    elif len(token_id) > 1:\n",
    "        raise ValueError(f\"The input text '{word}' corresponds to multiple tokens.\")\n",
    "    token_id = token_id[0]  # We only expect one token ID for a single word input\n",
    "    \n",
    "    # Fetch the corresponding embedding\n",
    "    word_embedding = embeddings_reduced[token_id]\n",
    "    return word_embedding\n",
    "\n",
    "# Example usage:\n",
    "word = \"rock\"  # Replace with the word you're interested in\n",
    "embedding_of_music = get_word_embedding(word)\n",
    "print(f\"The embedding for the word '{word}' is:\", embedding_of_music)"
   ]
  },
  {
   "cell_type": "code",
   "execution_count": null,
   "metadata": {},
   "outputs": [],
   "source": []
  },
  {
   "cell_type": "code",
   "execution_count": null,
   "metadata": {},
   "outputs": [],
   "source": []
  },
  {
   "cell_type": "code",
   "execution_count": null,
   "metadata": {},
   "outputs": [],
   "source": []
  },
  {
   "cell_type": "code",
   "execution_count": null,
   "metadata": {},
   "outputs": [],
   "source": []
  },
  {
   "cell_type": "code",
   "execution_count": null,
   "metadata": {},
   "outputs": [],
   "source": []
  },
  {
   "cell_type": "code",
   "execution_count": null,
   "metadata": {},
   "outputs": [],
   "source": []
  },
  {
   "cell_type": "code",
   "execution_count": null,
   "metadata": {},
   "outputs": [],
   "source": [
    "## Older autoencoder code\n",
    "# import torch\n",
    "# from torch import nn\n",
    "\n",
    "# class Autoencoder(nn.Module):\n",
    "#     def __init__(self, input_size, encoding_size):\n",
    "#         super(Autoencoder, self).__init__()\n",
    "#         # Encoder\n",
    "#         self.encoder = nn.Sequential(\n",
    "#             nn.Linear(input_size, encoding_size),\n",
    "#             nn.ReLU(True)\n",
    "#         )\n",
    "#         # Decoder\n",
    "#         self.decoder = nn.Sequential(\n",
    "#             nn.Linear(encoding_size, input_size),\n",
    "#             nn.Sigmoid()  # Using Sigmoid because embeddings are likely normalized\n",
    "#         )\n",
    "\n",
    "#     def forward(self, x):\n",
    "#         encoded = self.encoder(x)\n",
    "#         decoded = self.decoder(encoded)\n",
    "#         return decoded\n",
    "    "
   ]
  }
 ],
 "metadata": {
  "kernelspec": {
   "display_name": "myenv",
   "language": "python",
   "name": "python3"
  },
  "language_info": {
   "codemirror_mode": {
    "name": "ipython",
    "version": 3
   },
   "file_extension": ".py",
   "mimetype": "text/x-python",
   "name": "python",
   "nbconvert_exporter": "python",
   "pygments_lexer": "ipython3",
   "version": "3.11.8"
  }
 },
 "nbformat": 4,
 "nbformat_minor": 2
}
