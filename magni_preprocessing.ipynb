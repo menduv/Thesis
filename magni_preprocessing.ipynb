{
 "cells": [
  {
   "cell_type": "markdown",
   "metadata": {},
   "source": [
    "# Preprocessing the mp3 files and metadata to prepare for the dataloader for the MagnaTagATune\n"
   ]
  },
  {
   "cell_type": "code",
   "execution_count": 2,
   "metadata": {},
   "outputs": [],
   "source": [
    "# Importing necessary libraries\n",
    "# TODO: get rid of the tensorflow warnings\n",
    "\n",
    "import pandas as pd\n",
    "import numpy as np\n",
    "from zipfile import ZipFile \n",
    "import os\n",
    "import librosa\n",
    "from matplotlib import pyplot as plt\n",
    "import cv2\n",
    "import json\n",
    "pd.options.mode.chained_assignment = None  # default='warn'\n",
    "from imgaug import augmenters as iaa\n",
    "from collections import Counter\n",
    "from sklearn.model_selection import train_test_split\n",
    "from tensorflow.keras.models import Sequential\n",
    "from tensorflow.keras.layers import Conv2D, MaxPooling2D, Flatten, Dense, Dropout, BatchNormalization, Activation\n",
    "from tensorflow.keras.preprocessing.image import ImageDataGenerator\n",
    "from tensorflow.keras.regularizers import l2\n",
    "from keras.models import load_model\n",
    "from keras.callbacks import EarlyStopping\n",
    "from transformers import AutoTokenizer\n",
    "import numpy as np\n",
    "import json\n",
    "from sentence_transformers import SentenceTransformer\n",
    "import torch\n",
    "from torch import nn\n",
    "from collections import OrderedDict"
   ]
  },
  {
   "cell_type": "markdown",
   "metadata": {},
   "source": [
    "## Loading the zipped files and setting up an audio folder in data/magnatagatune"
   ]
  },
  {
   "cell_type": "markdown",
   "metadata": {},
   "source": [
    "Downloaded the audio data files from: https://mirg.city.ac.uk/codeapps/the-magnatagatune-dataset\n",
    "Concatenate the 3 files with `cat mp3.zip.* > mp3_all.zip` in the terminal and unzip them with the code below"
   ]
  },
  {
   "cell_type": "code",
   "execution_count": 3,
   "metadata": {},
   "outputs": [
    {
     "data": {
      "text/plain": [
       "'To unzip the zipped file of mp3 files'"
      ]
     },
     "execution_count": 3,
     "metadata": {},
     "output_type": "execute_result"
    }
   ],
   "source": [
    "'''To unzip the zipped file of mp3 files'''\n",
    "# # loading the zip file and creating a zip object \n",
    "# with ZipFile(\"/home/mendu/Thesis/data/magnatagatune/mp3_all.zip\", 'r') as zObject: \n",
    "#     zObject.extractall(path=\"/home/mendu/Thesis/data/magnatagatune/audio\") "
   ]
  },
  {
   "cell_type": "markdown",
   "metadata": {},
   "source": [
    "I ran `find audio -type f -name \"*.mp3\" -exec mv {} audio \\;` to get all the .mp3 files into the audio folder and\n",
    "`find audio -type d -empty -delete` to delete the empty folders"
   ]
  },
  {
   "cell_type": "code",
   "execution_count": 4,
   "metadata": {},
   "outputs": [
    {
     "name": "stdout",
     "output_type": "stream",
     "text": [
      "Total number of audio files 25863\n"
     ]
    }
   ],
   "source": [
    "# Checking the no. of audio files\n",
    "audio_dir = '/home/mendu/Thesis/data/magnatagatune/audio'\n",
    "audio_list = os.listdir(audio_dir)\n",
    "audio_list = [file_name.replace('.wav.mp3', '') for file_name in audio_list] # list of audio track names\n",
    "print('Total number of audio files', len(audio_list))"
   ]
  },
  {
   "cell_type": "markdown",
   "metadata": {},
   "source": [
    "## Filtering the tags dataframe"
   ]
  },
  {
   "cell_type": "code",
   "execution_count": 5,
   "metadata": {},
   "outputs": [],
   "source": [
    "#Importing the tags csv file\n",
    "df = pd.read_csv('/home/mendu/Thesis/data/magnatagatune/tag_annotations.csv',sep = \"\\t\" ,index_col=[0])\n",
    "df['mp3_path'] = [i[2:] for i in df['mp3_path']] "
   ]
  },
  {
   "cell_type": "markdown",
   "metadata": {},
   "source": [
    "genre: classical, techno, electronic, rock, indian, opera, pop, classic, new age, dance, country, metal"
   ]
  },
  {
   "cell_type": "code",
   "execution_count": 7,
   "metadata": {},
   "outputs": [],
   "source": [
    "'''genre and synonym_dict for num_class = 8'''\n",
    "# List of the most frequent genre tags\n",
    "genre = ['classical', 'clasical', 'classic', 'techno', 'electronic', 'electro', 'electronica', \n",
    " 'electric', 'rock', 'indian', 'india', 'opera', 'operatic', 'pop', 'new age', 'dance', \n",
    " 'country', 'metal', 'heavy', 'heavy metal']\n",
    "\n",
    "# Dictionary of genre tags that are synonyms\n",
    "synonym_dict = {'classical':['classical', 'clasical', 'classic'],\n",
    "                'electronic': ['electronic', 'electro', 'electronica', 'electric', 'techno', 'dance'],\n",
    "                'indian': ['indian', 'india'],\n",
    "                'opera': ['opera', 'operatic'],\n",
    "                'rock': ['rock', 'metal', 'heavy', 'heavy metal']}\n",
    "\n",
    "'''genre and synonym_dict for num_class = 10'''\n",
    "# genre = ['classical', 'clasical', 'classic', 'techno', 'electronic', 'electro', 'electronica', \n",
    "#  'electric', 'rock', 'indian', 'india', 'opera', 'operatic', 'pop', 'new age',\n",
    "#  'country']\n",
    "\n",
    "# synonym_dict = {'classical':['classical', 'clasical', 'classic'],\n",
    "#                 'electronic': ['electronic', 'electro', 'electronica', 'electric', 'techno'],\n",
    "#                 'indian': ['indian', 'india'],\n",
    "#                 'opera': ['opera', 'operatic'],\n",
    "#                 'metal': ['metal', 'heavy', 'heavy metal']}\n",
    "\n",
    "\n",
    "genre.append('mp3_path')\n",
    "\n",
    "df = df[genre]"
   ]
  },
  {
   "cell_type": "code",
   "execution_count": 8,
   "metadata": {},
   "outputs": [],
   "source": [
    "# Creating a single column for all the tags\n",
    "df['tags'] = df.apply(lambda row: (','.join(row.index[row == 1])).split(','), axis=1)\n",
    "\n",
    "df = df[['mp3_path', 'tags']]"
   ]
  },
  {
   "cell_type": "code",
   "execution_count": 9,
   "metadata": {},
   "outputs": [],
   "source": [
    "# nested for loop to replace the synonyms\n",
    "for idx, row in df.iterrows(): #iterates over the rows\n",
    "    new_tags = []\n",
    "    for tag in row['tags']: #iterates over each element in the aspect_list list\n",
    "        for key, values in synonym_dict.items(): #iterates over same_tags dictionary\n",
    "            if tag in values:\n",
    "                new_tags.append(key)\n",
    "                break\n",
    "        else:\n",
    "            new_tags.append(tag)\n",
    "    \n",
    "    # Making sure the tags are unique in each row        \n",
    "    new_tags = list(set(new_tags))       \n",
    "    \n",
    "    # If multiple tags drop classical if available \n",
    "    if len(row['tags'])>1 and 'classical' in row['tags']: #if that are more than one tags and one of it is instrumental drop instrumental\n",
    "        new_tags.remove('classical')\n",
    "        \n",
    "    # updating the tags     \n",
    "    df.at[idx, 'tags'] = new_tags\n",
    "\n",
    "\n",
    "# removing empty tags rows\n",
    "df = df[df['tags'].apply(lambda x: any(x))]\n",
    "\n",
    "# removing rows with multiple tags\n",
    "df = df[df['tags'].apply(lambda x: len(x) == 1)].reset_index(drop=True)\n",
    "\n",
    "# converting the values in the tags column from list to str\n",
    "df['tags'] = df['tags'].apply(lambda x: x[0])\n"
   ]
  },
  {
   "cell_type": "code",
   "execution_count": 10,
   "metadata": {},
   "outputs": [
    {
     "data": {
      "text/plain": [
       "tags\n",
       "electronic    3279\n",
       "classical     3191\n",
       "rock          1751\n",
       "opera         1259\n",
       "indian        1234\n",
       "pop            431\n",
       "country        354\n",
       "new age        328\n",
       "Name: count, dtype: int64"
      ]
     },
     "execution_count": 10,
     "metadata": {},
     "output_type": "execute_result"
    }
   ],
   "source": [
    "df.tags.value_counts()"
   ]
  },
  {
   "cell_type": "markdown",
   "metadata": {},
   "source": [
    "## Generating mel-spectrograms"
   ]
  },
  {
   "cell_type": "code",
   "execution_count": 11,
   "metadata": {},
   "outputs": [],
   "source": [
    "# Function to convert mp3 files to mel-spectrograms\n",
    "def mp3_to_melspectrogram(input_folder, output_folder, mp3_name_list):\n",
    "    # Create the output folder if it doesn't exist\n",
    "    if not os.path.exists(output_folder):\n",
    "        os.makedirs(output_folder)\n",
    "\n",
    "    # List to store the names of problematic files\n",
    "    problematic_files = []\n",
    "\n",
    "    # Iterate over each file in the input folder\n",
    "    for filename in mp3_name_list:\n",
    "        try:\n",
    "            # Load the audio file\n",
    "            audio_path = os.path.join(input_folder, filename)\n",
    "            y, sr = librosa.load(audio_path)\n",
    "\n",
    "            # Compute the mel-spectrogram\n",
    "            mel_spectrogram = librosa.feature.melspectrogram(y=y, sr=sr)\n",
    "\n",
    "            # Convert to decibel scale\n",
    "            mel_spectrogram_db = librosa.power_to_db(mel_spectrogram, ref=np.max)\n",
    "\n",
    "            # Save the mel-spectrogram as .npy file\n",
    "            output_path = os.path.join(output_folder, filename.replace('.mp3', '.npy'))\n",
    "            np.save(output_path, mel_spectrogram_db)\n",
    "\n",
    "            # print(f\"Mel-spectrogram saved: {output_path}\")\n",
    "        \n",
    "        except Exception as e:\n",
    "            # Handle the exception (e.g., skip the file, log the filename)\n",
    "            print(f\"Error processing {filename}: {str(e)}\")\n",
    "            problematic_files.append(filename)\n",
    "\n",
    "    # Return the list of problematic files\n",
    "    return problematic_files"
   ]
  },
  {
   "cell_type": "code",
   "execution_count": 12,
   "metadata": {},
   "outputs": [],
   "source": [
    "#generating mel-specs\n",
    "input_folder = audio_dir\n",
    "output_folder = '/home/mendu/Thesis/data/magnatagatune/mel-specs-new'\n",
    "# mp3_to_melspectrogram(input_folder, output_folder, df.mp3_path.tolist())"
   ]
  },
  {
   "cell_type": "code",
   "execution_count": 13,
   "metadata": {},
   "outputs": [
    {
     "data": {
      "text/plain": [
       "11826"
      ]
     },
     "execution_count": 13,
     "metadata": {},
     "output_type": "execute_result"
    }
   ],
   "source": [
    "len(os.listdir('/home/mendu/Thesis/data/magnatagatune/mel-specs-new'))"
   ]
  },
  {
   "cell_type": "code",
   "execution_count": 14,
   "metadata": {},
   "outputs": [],
   "source": [
    "# removing the .mp3 file causing problems\n",
    "problematic_file = 'jacob_heringman-josquin_des_prez_lute_settings-19-gintzler__pater_noster-204-233.mp3'\n",
    "\n",
    "df = df[df['mp3_path'] != problematic_file]"
   ]
  },
  {
   "cell_type": "code",
   "execution_count": 15,
   "metadata": {},
   "outputs": [
    {
     "name": "stdout",
     "output_type": "stream",
     "text": [
      "There is a mel_spectrogram for every row in the df.\n"
     ]
    }
   ],
   "source": [
    "#Checking if there is a mel-spec for every row in the df\n",
    "df_filenames = df.mp3_path.apply(lambda x: x[:-4]).tolist()\n",
    "mel_list = [x[:-4] for x in os.listdir(output_folder)]\n",
    "\n",
    "if sorted(df_filenames) == sorted(mel_list):\n",
    "    print('There is a mel_spectrogram for every row in the df.')\n",
    "else:\n",
    "    print('Every row in the df doesnt have a mel-spectrogram.')"
   ]
  },
  {
   "cell_type": "code",
   "execution_count": 16,
   "metadata": {},
   "outputs": [
    {
     "name": "stdout",
     "output_type": "stream",
     "text": [
      "Elements in df_filenames but not in mel_list: 0\n",
      "Elements in mel_list but not in df_filenames: 0\n"
     ]
    }
   ],
   "source": [
    "# Elements in list1 but not in list2\n",
    "only_in_df = [x for x in df_filenames if x not in mel_list]\n",
    "\n",
    "# Elements in list2 but not in list1\n",
    "only_in_mel = [x for x in mel_list if x not in df_filenames]\n",
    "\n",
    "print(\"Elements in df_filenames but not in mel_list:\", len(only_in_df))\n",
    "print(\"Elements in mel_list but not in df_filenames:\", len(only_in_mel))"
   ]
  },
  {
   "cell_type": "code",
   "execution_count": 17,
   "metadata": {},
   "outputs": [
    {
     "data": {
      "text/html": [
       "<div>\n",
       "<style scoped>\n",
       "    .dataframe tbody tr th:only-of-type {\n",
       "        vertical-align: middle;\n",
       "    }\n",
       "\n",
       "    .dataframe tbody tr th {\n",
       "        vertical-align: top;\n",
       "    }\n",
       "\n",
       "    .dataframe thead th {\n",
       "        text-align: right;\n",
       "    }\n",
       "</style>\n",
       "<table border=\"1\" class=\"dataframe\">\n",
       "  <thead>\n",
       "    <tr style=\"text-align: right;\">\n",
       "      <th></th>\n",
       "      <th>mp3_path</th>\n",
       "      <th>tags</th>\n",
       "    </tr>\n",
       "  </thead>\n",
       "  <tbody>\n",
       "    <tr>\n",
       "      <th>0</th>\n",
       "      <td>american_bach_soloists-j_s__bach_solo_cantatas...</td>\n",
       "      <td>opera</td>\n",
       "    </tr>\n",
       "    <tr>\n",
       "      <th>1</th>\n",
       "      <td>american_bach_soloists-j_s__bach_solo_cantatas...</td>\n",
       "      <td>opera</td>\n",
       "    </tr>\n",
       "    <tr>\n",
       "      <th>2</th>\n",
       "      <td>american_bach_soloists-j_s__bach_solo_cantatas...</td>\n",
       "      <td>opera</td>\n",
       "    </tr>\n",
       "    <tr>\n",
       "      <th>3</th>\n",
       "      <td>american_bach_soloists-j_s__bach_solo_cantatas...</td>\n",
       "      <td>opera</td>\n",
       "    </tr>\n",
       "    <tr>\n",
       "      <th>4</th>\n",
       "      <td>lvx_nova-lvx_nova-01-contimune-30-59.mp3</td>\n",
       "      <td>electronic</td>\n",
       "    </tr>\n",
       "    <tr>\n",
       "      <th>...</th>\n",
       "      <td>...</td>\n",
       "      <td>...</td>\n",
       "    </tr>\n",
       "    <tr>\n",
       "      <th>11822</th>\n",
       "      <td>jacob_heringman-blame_not_my_lute-56-la_bressa...</td>\n",
       "      <td>classical</td>\n",
       "    </tr>\n",
       "    <tr>\n",
       "      <th>11823</th>\n",
       "      <td>jacob_heringman-blame_not_my_lute-56-la_bressa...</td>\n",
       "      <td>classical</td>\n",
       "    </tr>\n",
       "    <tr>\n",
       "      <th>11824</th>\n",
       "      <td>jacob_heringman-blame_not_my_lute-56-la_bressa...</td>\n",
       "      <td>classical</td>\n",
       "    </tr>\n",
       "    <tr>\n",
       "      <th>11825</th>\n",
       "      <td>jacob_heringman-blame_not_my_lute-57-lost_is_m...</td>\n",
       "      <td>classical</td>\n",
       "    </tr>\n",
       "    <tr>\n",
       "      <th>11826</th>\n",
       "      <td>jacob_heringman-blame_not_my_lute-58-a_toy_for...</td>\n",
       "      <td>classical</td>\n",
       "    </tr>\n",
       "  </tbody>\n",
       "</table>\n",
       "<p>11826 rows × 2 columns</p>\n",
       "</div>"
      ],
      "text/plain": [
       "                                                mp3_path        tags\n",
       "0      american_bach_soloists-j_s__bach_solo_cantatas...       opera\n",
       "1      american_bach_soloists-j_s__bach_solo_cantatas...       opera\n",
       "2      american_bach_soloists-j_s__bach_solo_cantatas...       opera\n",
       "3      american_bach_soloists-j_s__bach_solo_cantatas...       opera\n",
       "4               lvx_nova-lvx_nova-01-contimune-30-59.mp3  electronic\n",
       "...                                                  ...         ...\n",
       "11822  jacob_heringman-blame_not_my_lute-56-la_bressa...   classical\n",
       "11823  jacob_heringman-blame_not_my_lute-56-la_bressa...   classical\n",
       "11824  jacob_heringman-blame_not_my_lute-56-la_bressa...   classical\n",
       "11825  jacob_heringman-blame_not_my_lute-57-lost_is_m...   classical\n",
       "11826  jacob_heringman-blame_not_my_lute-58-a_toy_for...   classical\n",
       "\n",
       "[11826 rows x 2 columns]"
      ]
     },
     "execution_count": 17,
     "metadata": {},
     "output_type": "execute_result"
    }
   ],
   "source": [
    "df"
   ]
  },
  {
   "cell_type": "code",
   "execution_count": 19,
   "metadata": {},
   "outputs": [],
   "source": [
    "df.to_csv('/home/mendu/Thesis/data/magnatagatune/processed_df.csv', index = False)"
   ]
  },
  {
   "cell_type": "code",
   "execution_count": 22,
   "metadata": {},
   "outputs": [],
   "source": [
    "new_df = pd.read_csv('/home/mendu/Thesis/data/magnatagatune/processed_df.csv')"
   ]
  },
  {
   "cell_type": "code",
   "execution_count": 23,
   "metadata": {},
   "outputs": [
    {
     "data": {
      "text/html": [
       "<div>\n",
       "<style scoped>\n",
       "    .dataframe tbody tr th:only-of-type {\n",
       "        vertical-align: middle;\n",
       "    }\n",
       "\n",
       "    .dataframe tbody tr th {\n",
       "        vertical-align: top;\n",
       "    }\n",
       "\n",
       "    .dataframe thead th {\n",
       "        text-align: right;\n",
       "    }\n",
       "</style>\n",
       "<table border=\"1\" class=\"dataframe\">\n",
       "  <thead>\n",
       "    <tr style=\"text-align: right;\">\n",
       "      <th></th>\n",
       "      <th>mp3_path</th>\n",
       "      <th>tags</th>\n",
       "    </tr>\n",
       "  </thead>\n",
       "  <tbody>\n",
       "    <tr>\n",
       "      <th>0</th>\n",
       "      <td>american_bach_soloists-j_s__bach_solo_cantatas...</td>\n",
       "      <td>opera</td>\n",
       "    </tr>\n",
       "    <tr>\n",
       "      <th>1</th>\n",
       "      <td>american_bach_soloists-j_s__bach_solo_cantatas...</td>\n",
       "      <td>opera</td>\n",
       "    </tr>\n",
       "    <tr>\n",
       "      <th>2</th>\n",
       "      <td>american_bach_soloists-j_s__bach_solo_cantatas...</td>\n",
       "      <td>opera</td>\n",
       "    </tr>\n",
       "    <tr>\n",
       "      <th>3</th>\n",
       "      <td>american_bach_soloists-j_s__bach_solo_cantatas...</td>\n",
       "      <td>opera</td>\n",
       "    </tr>\n",
       "    <tr>\n",
       "      <th>4</th>\n",
       "      <td>lvx_nova-lvx_nova-01-contimune-30-59.mp3</td>\n",
       "      <td>electronic</td>\n",
       "    </tr>\n",
       "    <tr>\n",
       "      <th>...</th>\n",
       "      <td>...</td>\n",
       "      <td>...</td>\n",
       "    </tr>\n",
       "    <tr>\n",
       "      <th>11821</th>\n",
       "      <td>jacob_heringman-blame_not_my_lute-56-la_bressa...</td>\n",
       "      <td>classical</td>\n",
       "    </tr>\n",
       "    <tr>\n",
       "      <th>11822</th>\n",
       "      <td>jacob_heringman-blame_not_my_lute-56-la_bressa...</td>\n",
       "      <td>classical</td>\n",
       "    </tr>\n",
       "    <tr>\n",
       "      <th>11823</th>\n",
       "      <td>jacob_heringman-blame_not_my_lute-56-la_bressa...</td>\n",
       "      <td>classical</td>\n",
       "    </tr>\n",
       "    <tr>\n",
       "      <th>11824</th>\n",
       "      <td>jacob_heringman-blame_not_my_lute-57-lost_is_m...</td>\n",
       "      <td>classical</td>\n",
       "    </tr>\n",
       "    <tr>\n",
       "      <th>11825</th>\n",
       "      <td>jacob_heringman-blame_not_my_lute-58-a_toy_for...</td>\n",
       "      <td>classical</td>\n",
       "    </tr>\n",
       "  </tbody>\n",
       "</table>\n",
       "<p>11826 rows × 2 columns</p>\n",
       "</div>"
      ],
      "text/plain": [
       "                                                mp3_path        tags\n",
       "0      american_bach_soloists-j_s__bach_solo_cantatas...       opera\n",
       "1      american_bach_soloists-j_s__bach_solo_cantatas...       opera\n",
       "2      american_bach_soloists-j_s__bach_solo_cantatas...       opera\n",
       "3      american_bach_soloists-j_s__bach_solo_cantatas...       opera\n",
       "4               lvx_nova-lvx_nova-01-contimune-30-59.mp3  electronic\n",
       "...                                                  ...         ...\n",
       "11821  jacob_heringman-blame_not_my_lute-56-la_bressa...   classical\n",
       "11822  jacob_heringman-blame_not_my_lute-56-la_bressa...   classical\n",
       "11823  jacob_heringman-blame_not_my_lute-56-la_bressa...   classical\n",
       "11824  jacob_heringman-blame_not_my_lute-57-lost_is_m...   classical\n",
       "11825  jacob_heringman-blame_not_my_lute-58-a_toy_for...   classical\n",
       "\n",
       "[11826 rows x 2 columns]"
      ]
     },
     "execution_count": 23,
     "metadata": {},
     "output_type": "execute_result"
    }
   ],
   "source": [
    "new_df"
   ]
  },
  {
   "cell_type": "code",
   "execution_count": null,
   "metadata": {},
   "outputs": [],
   "source": []
  }
 ],
 "metadata": {
  "kernelspec": {
   "display_name": "myenv",
   "language": "python",
   "name": "python3"
  },
  "language_info": {
   "codemirror_mode": {
    "name": "ipython",
    "version": 3
   },
   "file_extension": ".py",
   "mimetype": "text/x-python",
   "name": "python",
   "nbconvert_exporter": "python",
   "pygments_lexer": "ipython3",
   "version": "3.11.8"
  }
 },
 "nbformat": 4,
 "nbformat_minor": 2
}
