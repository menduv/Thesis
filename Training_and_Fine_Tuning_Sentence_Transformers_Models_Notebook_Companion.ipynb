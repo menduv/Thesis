{
  "cells": [
    {
      "cell_type": "markdown",
      "metadata": {
        "id": "I729oEbmU1rv"
      },
      "source": [
        "# Train and Fine-Tune Sentence Transformers Models"
      ]
    },
    {
      "cell_type": "markdown",
      "metadata": {
        "id": "P2CPLypZUwTk"
      },
      "source": [
        "## Defining the model object\n"
      ]
    },
    {
      "cell_type": "code",
      "execution_count": 1,
      "metadata": {},
      "outputs": [],
      "source": [
        "#importing necessary libraries\n",
        "\n",
        "import pandas as pd\n",
        "import numpy as np\n",
        "from sentence_transformers import SentenceTransformer, models, InputExample, losses\n",
        "from torch.utils.data import DataLoader\n",
        "from datasets import load_dataset\n",
        "import random\n"
      ]
    },
    {
      "cell_type": "code",
      "execution_count": 2,
      "metadata": {
        "id": "pixb3XSjXaqm"
      },
      "outputs": [],
      "source": [
        "'''creating a model object with a simple architecture of a pretrained model and a pooling layer after it'''\n",
        "\n",
        "## Step 1: use an existing language model\n",
        "word_embedding_model = models.Transformer('distilroberta-base')\n",
        "\n",
        "## Step 2: use a pool function over the token embeddings\n",
        "pooling_model = models.Pooling(word_embedding_model.get_word_embedding_dimension())\n",
        "\n",
        "## Join steps 1 and 2 using the modules argument\n",
        "model = SentenceTransformer(modules=[word_embedding_model, pooling_model])"
      ]
    },
    {
      "cell_type": "markdown",
      "metadata": {
        "id": "HYB2Vtvga1Zh"
      },
      "source": [
        "## Preparing the dataset for training a Sentence Transformers model\n"
      ]
    },
    {
      "cell_type": "markdown",
      "metadata": {
        "id": "0RfA9FBznf2T"
      },
      "source": [
        "Looks like dataset['train']['set'] is used as the training data. It is a list of dictionaries. In the following section the dataloader will be defined using the musiccaps data."
      ]
    },
    {
      "cell_type": "code",
      "execution_count": 4,
      "metadata": {},
      "outputs": [],
      "source": [
        "# Loading the MusicCaps dataset from HuggingFace\n",
        "msd_dataset = load_dataset('seungheondoh/LP-MusicCaps-MSD')"
      ]
    },
    {
      "cell_type": "code",
      "execution_count": 5,
      "metadata": {},
      "outputs": [],
      "source": [
        "train = pd.DataFrame(msd_dataset['train'])\n",
        "test = pd.DataFrame(msd_dataset['test'])\n",
        "valid = pd.DataFrame(msd_dataset['valid'])"
      ]
    },
    {
      "cell_type": "code",
      "execution_count": 6,
      "metadata": {},
      "outputs": [],
      "source": [
        "data = pd.concat([train, test, valid], ignore_index= True)\n",
        "# data"
      ]
    },
    {
      "cell_type": "code",
      "execution_count": 7,
      "metadata": {},
      "outputs": [],
      "source": [
        "caption_columns = ['tag', 'caption_writing', 'caption_paraphrase']\n",
        "df = data[caption_columns]\n",
        "train = train[caption_columns]"
      ]
    },
    {
      "cell_type": "code",
      "execution_count": 8,
      "metadata": {},
      "outputs": [
        {
          "name": "stdout",
          "output_type": "stream",
          "text": [
            "[39669, 389460, 482, 269353, 327135]\n",
            "513977\n"
          ]
        }
      ],
      "source": [
        "index_random = list(range(0, (len(df))))\n",
        "random.shuffle(index_random)\n",
        "\n",
        "print(index_random[:5])\n",
        "print(len(index_random))"
      ]
    },
    {
      "cell_type": "code",
      "execution_count": 9,
      "metadata": {},
      "outputs": [],
      "source": [
        "# neg_column = []\n",
        "\n",
        "# for i in range(len(train)):\n",
        "    # neg_column.append(df['caption_writing'][index_random[i]])"
      ]
    },
    {
      "cell_type": "code",
      "execution_count": 10,
      "metadata": {},
      "outputs": [],
      "source": [
        "# train.caption_writing.value_counts()"
      ]
    },
    {
      "cell_type": "code",
      "execution_count": 11,
      "metadata": {},
      "outputs": [],
      "source": [
        "# Counter(neg_column)"
      ]
    },
    {
      "cell_type": "code",
      "execution_count": 12,
      "metadata": {},
      "outputs": [],
      "source": [
        "i = 0\n",
        "j = len(df)-1\n",
        "neg = []\n",
        "\n",
        "for i in range(len(train)):\n",
        "    pos = train['caption_writing'][i]    \n",
        "    random_index = index_random[i]\n",
        "    neg_sentence = df['caption_writing'][random_index]       \n",
        "\n",
        "    while pos == neg_sentence:\n",
        "        neg_sentence = df['caption_writing'][j]\n",
        "        j = j - 1\n",
        "    \n",
        "    neg.append(neg_sentence)\n",
        "    \n",
        "train['neg'] = neg"
      ]
    },
    {
      "cell_type": "code",
      "execution_count": 13,
      "metadata": {},
      "outputs": [
        {
          "data": {
            "text/plain": [
              "neg\n",
              "This catchy pop rock tune will have you tapping your feet and singing along in no time.                                                                                                                                                                                                                                                                                                                                                                                                                                                                                                                                   48\n",
              "This catchy and upbeat pop rock song will have you tapping your feet and singing along in no time.                                                                                                                                                                                                                                                                                                                                                                                                                                                                                                                        37\n",
              "This catchy pop rock anthem will have you tapping your feet and singing along in no time.                                                                                                                                                                                                                                                                                                                                                                                                                                                                                                                                 31\n",
              "This catchy pop rock anthem will have you singing along and tapping your feet in no time.                                                                                                                                                                                                                                                                                                                                                                                                                                                                                                                                 24\n",
              "This catchy pop rock anthem will have you dancing all night long.                                                                                                                                                                                                                                                                                                                                                                                                                                                                                                                                                         21\n",
              "                                                                                                                                                                                                                                                                                                                                                                                                                                                                                                                                                                                                                          ..\n",
              "This upbeat and catchy song showcases the perfect blend of pop and rock, creating an irresistible pop rock anthem.                                                                                                                                                                                                                                                                                                                                                                                                                                                                                                         1\n",
              "This contemporary Christian ballad is a beautiful blend of gentle harmonies, sentimental lyrics and wistful melodies that embrace the spiritual and religious themes inherent in gospel and new age music, resulting in an inspirational and uplifting tune that captures the essence of CCM at its finest.                                                                                                                                                                                                                                                                                                                1\n",
              "This epic gospel-infused metal anthem is a religious masterpiece that will leave you feeling uplifted, energized, and ready to conquer the world.                                                                                                                                                                                                                                                                                                                                                                                                                                                                          1\n",
              "Get ready to be taken on an uncompromising journey with confident swaggering and menacing bravado as this contemporary pop rock album unleashes a rowdy, cathartic and rebellious mix of angst ridden, hard rock and psychedelic garage tracks with theatrical, dramatic undertones and provocative, sexual lyrics - a brooding, introspective and reflective album that is both trippy and druggy, while also boasting a passionate and intimate side to its pop sensibilities, all wrapped up in an ominous, eerie, and dreamy summery package, making it the perfect blend of rocknroll, proto punk and album rock.     1\n",
              "This male vocalists' contemporary blues song captures the weariness and somber emotions of a late night road trip through autumn landscapes with an atmospheric and intimate feel, fusing elements of earthy acoustic and electric blues with a gritty, brooding and plaintive tone while hanging out with a rustic and austere vibe, showcasing the creative side of modern acoustic and folk blues with sparse yet intense arrangements that evoke a sense of freedom and reflection.                                                                                                                                    1\n",
              "Name: count, Length: 442111, dtype: int64"
            ]
          },
          "execution_count": 13,
          "metadata": {},
          "output_type": "execute_result"
        }
      ],
      "source": [
        "train.neg.value_counts()"
      ]
    },
    {
      "cell_type": "code",
      "execution_count": 30,
      "metadata": {},
      "outputs": [],
      "source": [
        "music_corpus.to_csv('/home/mendu/Thesis/data/musiccaps/triplets_train_lp_musiccaps_msd.csv')"
      ]
    },
    {
      "cell_type": "code",
      "execution_count": 15,
      "metadata": {},
      "outputs": [],
      "source": [
        "train['same'] = train['caption_writing'] == train['neg']"
      ]
    },
    {
      "cell_type": "code",
      "execution_count": 16,
      "metadata": {},
      "outputs": [
        {
          "data": {
            "text/plain": [
              "same\n",
              "False    444865\n",
              "Name: count, dtype: int64"
            ]
          },
          "execution_count": 16,
          "metadata": {},
          "output_type": "execute_result"
        }
      ],
      "source": [
        "train.same.value_counts()"
      ]
    },
    {
      "cell_type": "code",
      "execution_count": 19,
      "metadata": {},
      "outputs": [
        {
          "data": {
            "text/html": [
              "<div>\n",
              "<style scoped>\n",
              "    .dataframe tbody tr th:only-of-type {\n",
              "        vertical-align: middle;\n",
              "    }\n",
              "\n",
              "    .dataframe tbody tr th {\n",
              "        vertical-align: top;\n",
              "    }\n",
              "\n",
              "    .dataframe thead th {\n",
              "        text-align: right;\n",
              "    }\n",
              "</style>\n",
              "<table border=\"1\" class=\"dataframe\">\n",
              "  <thead>\n",
              "    <tr style=\"text-align: right;\">\n",
              "      <th></th>\n",
              "      <th>tag</th>\n",
              "      <th>caption_writing</th>\n",
              "      <th>caption_paraphrase</th>\n",
              "      <th>neg</th>\n",
              "      <th>same</th>\n",
              "    </tr>\n",
              "  </thead>\n",
              "  <tbody>\n",
              "    <tr>\n",
              "      <th>0</th>\n",
              "      <td>[cathartic, earnest, punk, urgent, confident, ...</td>\n",
              "      <td>This aggressive, confrontational, and energeti...</td>\n",
              "      <td>This alternative indie rock anthem brings a ro...</td>\n",
              "      <td>This aggressive and negative pop rock song has...</td>\n",
              "      <td>False</td>\n",
              "    </tr>\n",
              "    <tr>\n",
              "      <th>1</th>\n",
              "      <td>[hanging out, giddy, alternative pop rock, roc...</td>\n",
              "      <td>This alternative indie rock song combines gidd...</td>\n",
              "      <td>Get ready to experience a roller-coaster of em...</td>\n",
              "      <td>This new single is an R&amp;B slow burner that wil...</td>\n",
              "      <td>False</td>\n",
              "    </tr>\n",
              "    <tr>\n",
              "      <th>2</th>\n",
              "      <td>[laid back mellow, reflective, dramatic, organ...</td>\n",
              "      <td>This song's Nashville Sound Countrypolitan ble...</td>\n",
              "      <td>This Nashville sound countrypolitan ballad is ...</td>\n",
              "      <td>Get ready to hit the open road and feel the wi...</td>\n",
              "      <td>False</td>\n",
              "    </tr>\n",
              "    <tr>\n",
              "      <th>3</th>\n",
              "      <td>[alternative indie rock, pop rock, indie]</td>\n",
              "      <td>Get lost in the captivating sound of alternati...</td>\n",
              "      <td>This song is a captivating blend of alternativ...</td>\n",
              "      <td>Get ready to hit the open road with the energe...</td>\n",
              "      <td>False</td>\n",
              "    </tr>\n",
              "    <tr>\n",
              "      <th>4</th>\n",
              "      <td>[reflective, delicate, soft rock, day driving,...</td>\n",
              "      <td>Take a nostalgic journey down memory lane with...</td>\n",
              "      <td>This song is a sentimental journey through a S...</td>\n",
              "      <td>Experience an intimate and romantic journey wi...</td>\n",
              "      <td>False</td>\n",
              "    </tr>\n",
              "    <tr>\n",
              "      <th>...</th>\n",
              "      <td>...</td>\n",
              "      <td>...</td>\n",
              "      <td>...</td>\n",
              "      <td>...</td>\n",
              "      <td>...</td>\n",
              "    </tr>\n",
              "    <tr>\n",
              "      <th>444860</th>\n",
              "      <td>[pop rock]</td>\n",
              "      <td>Get ready to experience the perfect fusion of ...</td>\n",
              "      <td>This dynamic pop rock anthem is the perfect fu...</td>\n",
              "      <td>This adult contemporary R&amp;B masterpiece is an ...</td>\n",
              "      <td>False</td>\n",
              "    </tr>\n",
              "    <tr>\n",
              "      <th>444861</th>\n",
              "      <td>[psychedelic pop, folk rock, pop rock, psyched...</td>\n",
              "      <td>This mind-bending tune combines the raw energy...</td>\n",
              "      <td>Embodying the vintage sounds of psychedelic ga...</td>\n",
              "      <td>This smooth and vibrant tune showcases the inc...</td>\n",
              "      <td>False</td>\n",
              "    </tr>\n",
              "    <tr>\n",
              "      <th>444862</th>\n",
              "      <td>[big band, laid back mellow, easy listening, j...</td>\n",
              "      <td>This easy listening instrumental pop track is ...</td>\n",
              "      <td>This instrumental pop track boasts a laid back...</td>\n",
              "      <td>This alternative track has a moody melody and ...</td>\n",
              "      <td>False</td>\n",
              "    </tr>\n",
              "    <tr>\n",
              "      <th>444863</th>\n",
              "      <td>[club dance, electronica, techno, electronic, ...</td>\n",
              "      <td>This electronic techno track incorporates elem...</td>\n",
              "      <td>Get lost in the hypnotic rhythms of this elect...</td>\n",
              "      <td>This hauntingly beautiful piece transports the...</td>\n",
              "      <td>False</td>\n",
              "    </tr>\n",
              "    <tr>\n",
              "      <th>444864</th>\n",
              "      <td>[passionate, stylish, energetic, fun, african ...</td>\n",
              "      <td>This lively and stylish worldbeat song blends ...</td>\n",
              "      <td>This song is a stylish and freewheeling celebr...</td>\n",
              "      <td>This catchy pop rock track has an internationa...</td>\n",
              "      <td>False</td>\n",
              "    </tr>\n",
              "  </tbody>\n",
              "</table>\n",
              "<p>444865 rows × 5 columns</p>\n",
              "</div>"
            ],
            "text/plain": [
              "                                                      tag  \\\n",
              "0       [cathartic, earnest, punk, urgent, confident, ...   \n",
              "1       [hanging out, giddy, alternative pop rock, roc...   \n",
              "2       [laid back mellow, reflective, dramatic, organ...   \n",
              "3               [alternative indie rock, pop rock, indie]   \n",
              "4       [reflective, delicate, soft rock, day driving,...   \n",
              "...                                                   ...   \n",
              "444860                                         [pop rock]   \n",
              "444861  [psychedelic pop, folk rock, pop rock, psyched...   \n",
              "444862  [big band, laid back mellow, easy listening, j...   \n",
              "444863  [club dance, electronica, techno, electronic, ...   \n",
              "444864  [passionate, stylish, energetic, fun, african ...   \n",
              "\n",
              "                                          caption_writing  \\\n",
              "0       This aggressive, confrontational, and energeti...   \n",
              "1       This alternative indie rock song combines gidd...   \n",
              "2       This song's Nashville Sound Countrypolitan ble...   \n",
              "3       Get lost in the captivating sound of alternati...   \n",
              "4       Take a nostalgic journey down memory lane with...   \n",
              "...                                                   ...   \n",
              "444860  Get ready to experience the perfect fusion of ...   \n",
              "444861  This mind-bending tune combines the raw energy...   \n",
              "444862  This easy listening instrumental pop track is ...   \n",
              "444863  This electronic techno track incorporates elem...   \n",
              "444864  This lively and stylish worldbeat song blends ...   \n",
              "\n",
              "                                       caption_paraphrase  \\\n",
              "0       This alternative indie rock anthem brings a ro...   \n",
              "1       Get ready to experience a roller-coaster of em...   \n",
              "2       This Nashville sound countrypolitan ballad is ...   \n",
              "3       This song is a captivating blend of alternativ...   \n",
              "4       This song is a sentimental journey through a S...   \n",
              "...                                                   ...   \n",
              "444860  This dynamic pop rock anthem is the perfect fu...   \n",
              "444861  Embodying the vintage sounds of psychedelic ga...   \n",
              "444862  This instrumental pop track boasts a laid back...   \n",
              "444863  Get lost in the hypnotic rhythms of this elect...   \n",
              "444864  This song is a stylish and freewheeling celebr...   \n",
              "\n",
              "                                                      neg   same  \n",
              "0       This aggressive and negative pop rock song has...  False  \n",
              "1       This new single is an R&B slow burner that wil...  False  \n",
              "2       Get ready to hit the open road and feel the wi...  False  \n",
              "3       Get ready to hit the open road with the energe...  False  \n",
              "4       Experience an intimate and romantic journey wi...  False  \n",
              "...                                                   ...    ...  \n",
              "444860  This adult contemporary R&B masterpiece is an ...  False  \n",
              "444861  This smooth and vibrant tune showcases the inc...  False  \n",
              "444862  This alternative track has a moody melody and ...  False  \n",
              "444863  This hauntingly beautiful piece transports the...  False  \n",
              "444864  This catchy pop rock track has an internationa...  False  \n",
              "\n",
              "[444865 rows x 5 columns]"
            ]
          },
          "execution_count": 19,
          "metadata": {},
          "output_type": "execute_result"
        }
      ],
      "source": [
        "train"
      ]
    },
    {
      "cell_type": "code",
      "execution_count": 128,
      "metadata": {},
      "outputs": [
        {
          "name": "stdout",
          "output_type": "stream",
          "text": [
            "query: Blending elements of blues rock and classic rock with a pop rock twist, this poignant and bittersweet ballad delivers a message of earnestness and gentle reflection, accented by wry lyrics, powerful guitar riffs, and an amiable good-natured vibe that is both laid back and mellow, all while maintaining an organic feel and hint of southern rock influence.\n",
            "pos: This heartfelt tune is a blend of blues rock and classic rock with a touch of pop rock, featuring an amiable good-natured vibe and a laid-back mellow sound that is both earnest and gentle. The wry lyrics and soulful guitar give it an organic feel, combining elements of blues and rock into a bittersweet and poignant southern rock anthem.\n",
            "neg: This sophisticated pop rock song from a contemporary singer songwriter is both intense and amiable good natured, evoking a wistful and reflective mood in its plaintive guitar instrumental. With a blend of contemporary folk and adult contemporary influences, it's perfect for a lazy Sunday afternoon or romantic evening, with a dreamy and pastoral feel that's both soothing and playful, perfectly capturing the essence of a summer day.\n"
          ]
        }
      ],
      "source": [
        "index = 99\n",
        "\n",
        "print('query:',train['caption_writing'][index])\n",
        "print('pos:', train['caption_paraphrase'][index])\n",
        "print('neg:', train['neg'][index])"
      ]
    },
    {
      "cell_type": "code",
      "execution_count": 27,
      "metadata": {},
      "outputs": [
        {
          "data": {
            "text/plain": [
              "'This Nashville sound countrypolitan ballad is a stripped back reflection on the weary, poignant moments we all experience in our searching, yearning lives, blending rollicking and amiable good natured drinking anthems with wistful, melancholy country folk ballads. With irreverent humor and an earthy, traditional country feel, this mellow yet dramatic track is perfect for late night, guys night out playlists, with reflective, plaintive lyrics that will leave you feeling both bittersweet and longing for more.'"
            ]
          },
          "execution_count": 27,
          "metadata": {},
          "output_type": "execute_result"
        }
      ],
      "source": [
        "train['caption_paraphrase'][3]"
      ]
    },
    {
      "cell_type": "code",
      "execution_count": 29,
      "metadata": {},
      "outputs": [
        {
          "data": {
            "text/plain": [
              "'Get ready to hit the open road with the energetic and exuberant sound of sweet and passionate tejano and latin pop, perfect for hanging out and having fun with friends while embracing Mexican traditions in a playful, summery, and carefree way that will fill your heart with joy and cheer.'"
            ]
          },
          "execution_count": 29,
          "metadata": {},
          "output_type": "execute_result"
        }
      ],
      "source": [
        "train['neg'][3]"
      ]
    },
    {
      "cell_type": "code",
      "execution_count": 31,
      "metadata": {},
      "outputs": [],
      "source": [
        "# i = 0\n",
        "# neg = []\n",
        "\n",
        "# for i in range(len(df)):\n",
        "#     pos = df['caption_writing'][i]\n",
        "#     tags = df['tag'][i]\n",
        "#     # min = len(pos) - 30\n",
        "#     # max = len(pos) + 31\n",
        "#     while True:     \n",
        "#         random_row = random.randint(0, (len(df)-1))\n",
        "#         random_tag = df['tag'][random_row]\n",
        "#         random_caption = df['caption_writing'][random_row]\n",
        "\n",
        "#         # if (pos != random_caption) & (len(random_caption) in range(min, max)): \n",
        "#         if (pos != random_caption):\n",
        "#             # add the caption to the neg list\n",
        "#             neg.append(random_caption)\n",
        "#             break"
      ]
    },
    {
      "cell_type": "code",
      "execution_count": 9,
      "metadata": {},
      "outputs": [
        {
          "data": {
            "text/plain": [
              "444865"
            ]
          },
          "execution_count": 9,
          "metadata": {},
          "output_type": "execute_result"
        }
      ],
      "source": [
        "len(neg)"
      ]
    },
    {
      "cell_type": "code",
      "execution_count": 17,
      "metadata": {},
      "outputs": [
        {
          "data": {
            "text/html": [
              "<div>\n",
              "<style scoped>\n",
              "    .dataframe tbody tr th:only-of-type {\n",
              "        vertical-align: middle;\n",
              "    }\n",
              "\n",
              "    .dataframe tbody tr th {\n",
              "        vertical-align: top;\n",
              "    }\n",
              "\n",
              "    .dataframe thead th {\n",
              "        text-align: right;\n",
              "    }\n",
              "</style>\n",
              "<table border=\"1\" class=\"dataframe\">\n",
              "  <thead>\n",
              "    <tr style=\"text-align: right;\">\n",
              "      <th></th>\n",
              "      <th>tag</th>\n",
              "      <th>caption_writing</th>\n",
              "      <th>caption_paraphrase</th>\n",
              "      <th>neg</th>\n",
              "    </tr>\n",
              "  </thead>\n",
              "  <tbody>\n",
              "    <tr>\n",
              "      <th>0</th>\n",
              "      <td>[cathartic, earnest, punk, urgent, confident, ...</td>\n",
              "      <td>This aggressive, confrontational, and energeti...</td>\n",
              "      <td>This alternative indie rock anthem brings a ro...</td>\n",
              "      <td>This elegant world fusion track blends laid ba...</td>\n",
              "    </tr>\n",
              "    <tr>\n",
              "      <th>1</th>\n",
              "      <td>[hanging out, giddy, alternative pop rock, roc...</td>\n",
              "      <td>This alternative indie rock song combines gidd...</td>\n",
              "      <td>Get ready to experience a roller-coaster of em...</td>\n",
              "      <td>This upbeat track is the quintessential pop an...</td>\n",
              "    </tr>\n",
              "    <tr>\n",
              "      <th>2</th>\n",
              "      <td>[laid back mellow, reflective, dramatic, organ...</td>\n",
              "      <td>This song's Nashville Sound Countrypolitan ble...</td>\n",
              "      <td>This Nashville sound countrypolitan ballad is ...</td>\n",
              "      <td>This upbeat pop rock tune features a catchy mi...</td>\n",
              "    </tr>\n",
              "    <tr>\n",
              "      <th>3</th>\n",
              "      <td>[alternative indie rock, pop rock, indie]</td>\n",
              "      <td>Get lost in the captivating sound of alternati...</td>\n",
              "      <td>This song is a captivating blend of alternativ...</td>\n",
              "      <td>An infectious blend of Canadian pop with a Fre...</td>\n",
              "    </tr>\n",
              "    <tr>\n",
              "      <th>4</th>\n",
              "      <td>[reflective, delicate, soft rock, day driving,...</td>\n",
              "      <td>Take a nostalgic journey down memory lane with...</td>\n",
              "      <td>This song is a sentimental journey through a S...</td>\n",
              "      <td>An adrenaline-pumping pop rock anthem infused ...</td>\n",
              "    </tr>\n",
              "    <tr>\n",
              "      <th>...</th>\n",
              "      <td>...</td>\n",
              "      <td>...</td>\n",
              "      <td>...</td>\n",
              "      <td>...</td>\n",
              "    </tr>\n",
              "    <tr>\n",
              "      <th>513972</th>\n",
              "      <td>[spanish, pop rock]</td>\n",
              "      <td>Get ready to dance and sing along to the upbea...</td>\n",
              "      <td>This song is a fusion of upbeat pop rock and f...</td>\n",
              "      <td>Get lost in the mesmerizing and atmospheric so...</td>\n",
              "    </tr>\n",
              "    <tr>\n",
              "      <th>513973</th>\n",
              "      <td>[trance, religious, gospel, electronic, dance]</td>\n",
              "      <td>This electronic gospel track is a euphoric dan...</td>\n",
              "      <td>This high-energy track blends electronic eleme...</td>\n",
              "      <td>This explosive song combines gritty alternativ...</td>\n",
              "    </tr>\n",
              "    <tr>\n",
              "      <th>513974</th>\n",
              "      <td>[hanging out, night driving, indie rock, urgen...</td>\n",
              "      <td>This alternative indie rock anthem is fueled b...</td>\n",
              "      <td>Cruise into the night with no regard for conse...</td>\n",
              "      <td>This song blends the styles of alternative ind...</td>\n",
              "    </tr>\n",
              "    <tr>\n",
              "      <th>513975</th>\n",
              "      <td>[80s]</td>\n",
              "      <td>This upbeat track throws it back to the 80s wi...</td>\n",
              "      <td>Introducing a nostalgia-inducing hit that soun...</td>\n",
              "      <td>This is a fiery and intense Latin rap track wi...</td>\n",
              "    </tr>\n",
              "    <tr>\n",
              "      <th>513976</th>\n",
              "      <td>[hip hop, rnb, jazzy, catchy, retro, cool, jap...</td>\n",
              "      <td>This international hip hop track infuses retro...</td>\n",
              "      <td>Get groovy and bop to the beat of this interna...</td>\n",
              "      <td>This laid-back reggae-inspired electronic tune...</td>\n",
              "    </tr>\n",
              "  </tbody>\n",
              "</table>\n",
              "<p>513977 rows × 4 columns</p>\n",
              "</div>"
            ],
            "text/plain": [
              "                                                      tag  \\\n",
              "0       [cathartic, earnest, punk, urgent, confident, ...   \n",
              "1       [hanging out, giddy, alternative pop rock, roc...   \n",
              "2       [laid back mellow, reflective, dramatic, organ...   \n",
              "3               [alternative indie rock, pop rock, indie]   \n",
              "4       [reflective, delicate, soft rock, day driving,...   \n",
              "...                                                   ...   \n",
              "513972                                [spanish, pop rock]   \n",
              "513973     [trance, religious, gospel, electronic, dance]   \n",
              "513974  [hanging out, night driving, indie rock, urgen...   \n",
              "513975                                              [80s]   \n",
              "513976  [hip hop, rnb, jazzy, catchy, retro, cool, jap...   \n",
              "\n",
              "                                          caption_writing  \\\n",
              "0       This aggressive, confrontational, and energeti...   \n",
              "1       This alternative indie rock song combines gidd...   \n",
              "2       This song's Nashville Sound Countrypolitan ble...   \n",
              "3       Get lost in the captivating sound of alternati...   \n",
              "4       Take a nostalgic journey down memory lane with...   \n",
              "...                                                   ...   \n",
              "513972  Get ready to dance and sing along to the upbea...   \n",
              "513973  This electronic gospel track is a euphoric dan...   \n",
              "513974  This alternative indie rock anthem is fueled b...   \n",
              "513975  This upbeat track throws it back to the 80s wi...   \n",
              "513976  This international hip hop track infuses retro...   \n",
              "\n",
              "                                       caption_paraphrase  \\\n",
              "0       This alternative indie rock anthem brings a ro...   \n",
              "1       Get ready to experience a roller-coaster of em...   \n",
              "2       This Nashville sound countrypolitan ballad is ...   \n",
              "3       This song is a captivating blend of alternativ...   \n",
              "4       This song is a sentimental journey through a S...   \n",
              "...                                                   ...   \n",
              "513972  This song is a fusion of upbeat pop rock and f...   \n",
              "513973  This high-energy track blends electronic eleme...   \n",
              "513974  Cruise into the night with no regard for conse...   \n",
              "513975  Introducing a nostalgia-inducing hit that soun...   \n",
              "513976  Get groovy and bop to the beat of this interna...   \n",
              "\n",
              "                                                      neg  \n",
              "0       This elegant world fusion track blends laid ba...  \n",
              "1       This upbeat track is the quintessential pop an...  \n",
              "2       This upbeat pop rock tune features a catchy mi...  \n",
              "3       An infectious blend of Canadian pop with a Fre...  \n",
              "4       An adrenaline-pumping pop rock anthem infused ...  \n",
              "...                                                   ...  \n",
              "513972  Get lost in the mesmerizing and atmospheric so...  \n",
              "513973  This explosive song combines gritty alternativ...  \n",
              "513974  This song blends the styles of alternative ind...  \n",
              "513975  This is a fiery and intense Latin rap track wi...  \n",
              "513976  This laid-back reggae-inspired electronic tune...  \n",
              "\n",
              "[513977 rows x 4 columns]"
            ]
          },
          "execution_count": 17,
          "metadata": {},
          "output_type": "execute_result"
        }
      ],
      "source": [
        "df"
      ]
    },
    {
      "cell_type": "code",
      "execution_count": 28,
      "metadata": {},
      "outputs": [
        {
          "data": {
            "text/plain": [
              "'This sophisticated and refined pop rock song features a passionate and intense female vocal, perfect for a laid-back Sunday afternoon gathering or a romantic evening. With elements of vocal jazz and neo soul, the earthy and sensual tones create a warm and intimate atmosphere while still maintaining a street smart and stylish edge. The soothing and good-natured tone of the track brings a sense of calm peacefulness perfect for relaxation or introspective reflection, complemented by the gentle and wistful pop melodies. This is an elegant and organic track with a bittersweet tone that perfectly captures the complexities of life.'"
            ]
          },
          "execution_count": 28,
          "metadata": {},
          "output_type": "execute_result"
        }
      ],
      "source": [
        "df.caption_writing[18]"
      ]
    },
    {
      "cell_type": "code",
      "execution_count": 29,
      "metadata": {},
      "outputs": [
        {
          "data": {
            "text/plain": [
              "'This sophisticated and refined pop rock ballad featuring a sultry female vocalist creates a calm and peaceful atmosphere perfect for a small gathering or a relaxing Sunday afternoon. The intense and passionate vocals, combined with the amiable and good-natured vibe, evoke both introspection and reflection, making it a gentle and introspective vocal jazz piece with a touch of earthy soul and neo-soul influences. The warm and elegant street-smart lyrics are perfect for a romantic evening or a laid-back mellow hangout, as the soothing and soft adult contemporary sound washes over you, leaving you feeling both sexy and bittersweet. Overall, an intimate and organic song for those moments of wistful relaxation.'"
            ]
          },
          "execution_count": 29,
          "metadata": {},
          "output_type": "execute_result"
        }
      ],
      "source": [
        "df.caption_paraphrase[18]"
      ]
    },
    {
      "cell_type": "code",
      "execution_count": 30,
      "metadata": {},
      "outputs": [
        {
          "data": {
            "text/plain": [
              "'This hauntingly beautiful alternative track has a gothic and atmospheric tone that creates a dark and mesmerizing sound perfect for any goth enthusiast.'"
            ]
          },
          "execution_count": 30,
          "metadata": {},
          "output_type": "execute_result"
        }
      ],
      "source": [
        "df.neg[18]"
      ]
    },
    {
      "cell_type": "code",
      "execution_count": 13,
      "metadata": {},
      "outputs": [
        {
          "data": {
            "text/html": [
              "<div>\n",
              "<style scoped>\n",
              "    .dataframe tbody tr th:only-of-type {\n",
              "        vertical-align: middle;\n",
              "    }\n",
              "\n",
              "    .dataframe tbody tr th {\n",
              "        vertical-align: top;\n",
              "    }\n",
              "\n",
              "    .dataframe thead th {\n",
              "        text-align: right;\n",
              "    }\n",
              "</style>\n",
              "<table border=\"1\" class=\"dataframe\">\n",
              "  <thead>\n",
              "    <tr style=\"text-align: right;\">\n",
              "      <th></th>\n",
              "      <th>tag</th>\n",
              "      <th>caption_writing</th>\n",
              "      <th>caption_paraphrase</th>\n",
              "      <th>neg</th>\n",
              "    </tr>\n",
              "  </thead>\n",
              "  <tbody>\n",
              "    <tr>\n",
              "      <th>0</th>\n",
              "      <td>[cathartic, earnest, punk, urgent, confident, ...</td>\n",
              "      <td>This aggressive, confrontational, and energeti...</td>\n",
              "      <td>This alternative indie rock anthem brings a ro...</td>\n",
              "      <td>An upbeat and energetic track with thumping el...</td>\n",
              "    </tr>\n",
              "    <tr>\n",
              "      <th>1</th>\n",
              "      <td>[hanging out, giddy, alternative pop rock, roc...</td>\n",
              "      <td>This alternative indie rock song combines gidd...</td>\n",
              "      <td>Get ready to experience a roller-coaster of em...</td>\n",
              "      <td>This song features fast-paced rap verses that ...</td>\n",
              "    </tr>\n",
              "    <tr>\n",
              "      <th>2</th>\n",
              "      <td>[laid back mellow, reflective, dramatic, organ...</td>\n",
              "      <td>This song's Nashville Sound Countrypolitan ble...</td>\n",
              "      <td>This Nashville sound countrypolitan ballad is ...</td>\n",
              "      <td>This upbeat pop song tinged with nostalgia wil...</td>\n",
              "    </tr>\n",
              "    <tr>\n",
              "      <th>3</th>\n",
              "      <td>[alternative indie rock, pop rock, indie]</td>\n",
              "      <td>Get lost in the captivating sound of alternati...</td>\n",
              "      <td>This song is a captivating blend of alternativ...</td>\n",
              "      <td>This energetic song combines the best of aggre...</td>\n",
              "    </tr>\n",
              "    <tr>\n",
              "      <th>4</th>\n",
              "      <td>[reflective, delicate, soft rock, day driving,...</td>\n",
              "      <td>Take a nostalgic journey down memory lane with...</td>\n",
              "      <td>This song is a sentimental journey through a S...</td>\n",
              "      <td>This high-energy punk rock track blends classi...</td>\n",
              "    </tr>\n",
              "    <tr>\n",
              "      <th>...</th>\n",
              "      <td>...</td>\n",
              "      <td>...</td>\n",
              "      <td>...</td>\n",
              "      <td>...</td>\n",
              "    </tr>\n",
              "    <tr>\n",
              "      <th>444860</th>\n",
              "      <td>[pop rock]</td>\n",
              "      <td>Get ready to experience the perfect fusion of ...</td>\n",
              "      <td>This dynamic pop rock anthem is the perfect fu...</td>\n",
              "      <td>Get ready to move to the beat with powerful fe...</td>\n",
              "    </tr>\n",
              "    <tr>\n",
              "      <th>444861</th>\n",
              "      <td>[psychedelic pop, folk rock, pop rock, psyched...</td>\n",
              "      <td>This mind-bending tune combines the raw energy...</td>\n",
              "      <td>Embodying the vintage sounds of psychedelic ga...</td>\n",
              "      <td>This classic rock and pop rock hybrid is a pas...</td>\n",
              "    </tr>\n",
              "    <tr>\n",
              "      <th>444862</th>\n",
              "      <td>[big band, laid back mellow, easy listening, j...</td>\n",
              "      <td>This easy listening instrumental pop track is ...</td>\n",
              "      <td>This instrumental pop track boasts a laid back...</td>\n",
              "      <td>This funky soul track blends groovy basslines ...</td>\n",
              "    </tr>\n",
              "    <tr>\n",
              "      <th>444863</th>\n",
              "      <td>[club dance, electronica, techno, electronic, ...</td>\n",
              "      <td>This electronic techno track incorporates elem...</td>\n",
              "      <td>Get lost in the hypnotic rhythms of this elect...</td>\n",
              "      <td>This upbeat pop rock track features captivatin...</td>\n",
              "    </tr>\n",
              "    <tr>\n",
              "      <th>444864</th>\n",
              "      <td>[passionate, stylish, energetic, fun, african ...</td>\n",
              "      <td>This lively and stylish worldbeat song blends ...</td>\n",
              "      <td>This song is a stylish and freewheeling celebr...</td>\n",
              "      <td>This upbeat and catchy pop rock song will have...</td>\n",
              "    </tr>\n",
              "  </tbody>\n",
              "</table>\n",
              "<p>444865 rows × 4 columns</p>\n",
              "</div>"
            ],
            "text/plain": [
              "                                                      tag  \\\n",
              "0       [cathartic, earnest, punk, urgent, confident, ...   \n",
              "1       [hanging out, giddy, alternative pop rock, roc...   \n",
              "2       [laid back mellow, reflective, dramatic, organ...   \n",
              "3               [alternative indie rock, pop rock, indie]   \n",
              "4       [reflective, delicate, soft rock, day driving,...   \n",
              "...                                                   ...   \n",
              "444860                                         [pop rock]   \n",
              "444861  [psychedelic pop, folk rock, pop rock, psyched...   \n",
              "444862  [big band, laid back mellow, easy listening, j...   \n",
              "444863  [club dance, electronica, techno, electronic, ...   \n",
              "444864  [passionate, stylish, energetic, fun, african ...   \n",
              "\n",
              "                                          caption_writing  \\\n",
              "0       This aggressive, confrontational, and energeti...   \n",
              "1       This alternative indie rock song combines gidd...   \n",
              "2       This song's Nashville Sound Countrypolitan ble...   \n",
              "3       Get lost in the captivating sound of alternati...   \n",
              "4       Take a nostalgic journey down memory lane with...   \n",
              "...                                                   ...   \n",
              "444860  Get ready to experience the perfect fusion of ...   \n",
              "444861  This mind-bending tune combines the raw energy...   \n",
              "444862  This easy listening instrumental pop track is ...   \n",
              "444863  This electronic techno track incorporates elem...   \n",
              "444864  This lively and stylish worldbeat song blends ...   \n",
              "\n",
              "                                       caption_paraphrase  \\\n",
              "0       This alternative indie rock anthem brings a ro...   \n",
              "1       Get ready to experience a roller-coaster of em...   \n",
              "2       This Nashville sound countrypolitan ballad is ...   \n",
              "3       This song is a captivating blend of alternativ...   \n",
              "4       This song is a sentimental journey through a S...   \n",
              "...                                                   ...   \n",
              "444860  This dynamic pop rock anthem is the perfect fu...   \n",
              "444861  Embodying the vintage sounds of psychedelic ga...   \n",
              "444862  This instrumental pop track boasts a laid back...   \n",
              "444863  Get lost in the hypnotic rhythms of this elect...   \n",
              "444864  This song is a stylish and freewheeling celebr...   \n",
              "\n",
              "                                                      neg  \n",
              "0       An upbeat and energetic track with thumping el...  \n",
              "1       This song features fast-paced rap verses that ...  \n",
              "2       This upbeat pop song tinged with nostalgia wil...  \n",
              "3       This energetic song combines the best of aggre...  \n",
              "4       This high-energy punk rock track blends classi...  \n",
              "...                                                   ...  \n",
              "444860  Get ready to move to the beat with powerful fe...  \n",
              "444861  This classic rock and pop rock hybrid is a pas...  \n",
              "444862  This funky soul track blends groovy basslines ...  \n",
              "444863  This upbeat pop rock track features captivatin...  \n",
              "444864  This upbeat and catchy pop rock song will have...  \n",
              "\n",
              "[444865 rows x 4 columns]"
            ]
          },
          "execution_count": 13,
          "metadata": {},
          "output_type": "execute_result"
        }
      ],
      "source": [
        "train"
      ]
    },
    {
      "cell_type": "code",
      "execution_count": 14,
      "metadata": {},
      "outputs": [],
      "source": [
        "music_corpus = train"
      ]
    },
    {
      "cell_type": "code",
      "execution_count": 3,
      "metadata": {
        "id": "ao1aWDBjp4Rk"
      },
      "outputs": [],
      "source": [
        "# triplets_train_lp_musiccaps_msd.csv has 3 columns query, pos and negative and has captions of music\n",
        "# music_corpus = pd.read_csv('/home/mendu/Thesis/data/musiccaps/triplets_train_lp_musiccaps_msd_old.csv', index_col = [0])"
      ]
    },
    {
      "cell_type": "code",
      "execution_count": 19,
      "metadata": {},
      "outputs": [
        {
          "data": {
            "text/plain": [
              "Index(['tag', 'query', 'pos', 'neg'], dtype='object')"
            ]
          },
          "execution_count": 19,
          "metadata": {},
          "output_type": "execute_result"
        }
      ],
      "source": [
        "music_corpus.columns"
      ]
    },
    {
      "cell_type": "code",
      "execution_count": 18,
      "metadata": {},
      "outputs": [],
      "source": [
        "music_corpus.columns = ['tag', 'query', 'pos', 'neg']"
      ]
    },
    {
      "cell_type": "code",
      "execution_count": 24,
      "metadata": {
        "colab": {
          "base_uri": "https://localhost:8080/",
          "height": 770
        },
        "id": "t0KmIbIQtLFi",
        "outputId": "3f554670-7dbf-4cc9-e0d2-1bba7f87f3be"
      },
      "outputs": [
        {
          "data": {
            "text/plain": [
              "123"
            ]
          },
          "execution_count": 24,
          "metadata": {},
          "output_type": "execute_result"
        }
      ],
      "source": [
        "len(str(music_corpus.neg.value_counts().head(1)))"
      ]
    },
    {
      "cell_type": "code",
      "execution_count": 28,
      "metadata": {},
      "outputs": [],
      "source": [
        "music_corpus.columns = ['tags', 'query', 'pos', 'neg']"
      ]
    },
    {
      "cell_type": "code",
      "execution_count": 20,
      "metadata": {
        "colab": {
          "base_uri": "https://localhost:8080/"
        },
        "id": "_NUPcFgWv1jh",
        "outputId": "151abfd7-c49d-43c3-c9fb-8d9b34c334ad"
      },
      "outputs": [
        {
          "name": "stdout",
          "output_type": "stream",
          "text": [
            "This aggressive, confrontational, and energetic alternative indie rock song boasts self-conscious, rowdy bravado with heavy punk and pop rock influence, filled with passionate, confident, and gutsy vocals, as well as swaggering urgency, and anguished distraught feelings. Its cathartic and rebellious lyrics, dramatic delivery, and street-smart attitude make it a perfect fit for anyone seeking a cutting-edge, alternative pop rock, punk rock, or hardcore punk sound, while also featuring a summery, knotty, volatile, and fiery new wave vibe.\n",
            "This alternative indie rock song combines giddy rhythms and crunchy guitar riffs with angst-ridden lyrics, evoking anguished distraught emotions while still maintaining a playful and fun vibe that's perfect for hanging out or driving around town. The mix of punk pop and pop rock influences creates a unique sound that's somewhere between alternative pop rock and rock, making it perfect for fans of all genres.\n",
            "This song's Nashville Sound Countrypolitan blends together an array of emotions that captures the essence of guys night out with its rollicking yet laid-back mellow sound, mixed with a poignant yearning to make meaningful connections through both humorous and melancholy storytelling. The lyrics are literate and earthy with a traditional country vibe, while also touching on progressive country themes. The autumnal and late-night setting sets the scene for reflective, bittersweet moments that evoke a restless and searching spirit. This organic composition is wistful, dramatic, and plaintive, making it the perfect addition to any country folk playlist.\n",
            "Get lost in the captivating sound of alternative indie rock fused with pop rock and indie vibes that will leave you wanting more.\n",
            "Take a nostalgic journey down memory lane with this sentimental pop rock ballad perfect for day driving on a lazy Sunday afternoon, delicately blending soft rock and gentle country pop to create a melancholic yet relaxing atmosphere, where the intimate lyrics and reflective tone captures the essence of classic country music.\n"
          ]
        }
      ],
      "source": [
        "for index, row in music_corpus.iterrows():\n",
        "    if index >= 5:\n",
        "        break\n",
        "    print(row['query'])"
      ]
    },
    {
      "cell_type": "code",
      "execution_count": 3,
      "metadata": {},
      "outputs": [],
      "source": [
        "music_corpus = pd.read_csv('/home/mendu/Thesis/data/musiccaps/triplets_train_lp_musiccaps_msd.csv', index_col=[0])"
      ]
    },
    {
      "cell_type": "code",
      "execution_count": 4,
      "metadata": {},
      "outputs": [
        {
          "data": {
            "text/html": [
              "<div>\n",
              "<style scoped>\n",
              "    .dataframe tbody tr th:only-of-type {\n",
              "        vertical-align: middle;\n",
              "    }\n",
              "\n",
              "    .dataframe tbody tr th {\n",
              "        vertical-align: top;\n",
              "    }\n",
              "\n",
              "    .dataframe thead th {\n",
              "        text-align: right;\n",
              "    }\n",
              "</style>\n",
              "<table border=\"1\" class=\"dataframe\">\n",
              "  <thead>\n",
              "    <tr style=\"text-align: right;\">\n",
              "      <th></th>\n",
              "      <th>tags</th>\n",
              "      <th>query</th>\n",
              "      <th>pos</th>\n",
              "      <th>neg</th>\n",
              "    </tr>\n",
              "  </thead>\n",
              "  <tbody>\n",
              "    <tr>\n",
              "      <th>0</th>\n",
              "      <td>['cathartic', 'earnest', 'punk', 'urgent', 'co...</td>\n",
              "      <td>This aggressive, confrontational, and energeti...</td>\n",
              "      <td>This alternative indie rock anthem brings a ro...</td>\n",
              "      <td>This aggressive and negative pop rock song has...</td>\n",
              "    </tr>\n",
              "    <tr>\n",
              "      <th>1</th>\n",
              "      <td>['hanging out', 'giddy', 'alternative pop rock...</td>\n",
              "      <td>This alternative indie rock song combines gidd...</td>\n",
              "      <td>Get ready to experience a roller-coaster of em...</td>\n",
              "      <td>This new single is an R&amp;B slow burner that wil...</td>\n",
              "    </tr>\n",
              "    <tr>\n",
              "      <th>2</th>\n",
              "      <td>['laid back mellow', 'reflective', 'dramatic',...</td>\n",
              "      <td>This song's Nashville Sound Countrypolitan ble...</td>\n",
              "      <td>This Nashville sound countrypolitan ballad is ...</td>\n",
              "      <td>Get ready to hit the open road and feel the wi...</td>\n",
              "    </tr>\n",
              "    <tr>\n",
              "      <th>3</th>\n",
              "      <td>['alternative indie rock', 'pop rock', 'indie']</td>\n",
              "      <td>Get lost in the captivating sound of alternati...</td>\n",
              "      <td>This song is a captivating blend of alternativ...</td>\n",
              "      <td>Get ready to hit the open road with the energe...</td>\n",
              "    </tr>\n",
              "    <tr>\n",
              "      <th>4</th>\n",
              "      <td>['reflective', 'delicate', 'soft rock', 'day d...</td>\n",
              "      <td>Take a nostalgic journey down memory lane with...</td>\n",
              "      <td>This song is a sentimental journey through a S...</td>\n",
              "      <td>Experience an intimate and romantic journey wi...</td>\n",
              "    </tr>\n",
              "  </tbody>\n",
              "</table>\n",
              "</div>"
            ],
            "text/plain": [
              "                                                tags  \\\n",
              "0  ['cathartic', 'earnest', 'punk', 'urgent', 'co...   \n",
              "1  ['hanging out', 'giddy', 'alternative pop rock...   \n",
              "2  ['laid back mellow', 'reflective', 'dramatic',...   \n",
              "3    ['alternative indie rock', 'pop rock', 'indie']   \n",
              "4  ['reflective', 'delicate', 'soft rock', 'day d...   \n",
              "\n",
              "                                               query  \\\n",
              "0  This aggressive, confrontational, and energeti...   \n",
              "1  This alternative indie rock song combines gidd...   \n",
              "2  This song's Nashville Sound Countrypolitan ble...   \n",
              "3  Get lost in the captivating sound of alternati...   \n",
              "4  Take a nostalgic journey down memory lane with...   \n",
              "\n",
              "                                                 pos  \\\n",
              "0  This alternative indie rock anthem brings a ro...   \n",
              "1  Get ready to experience a roller-coaster of em...   \n",
              "2  This Nashville sound countrypolitan ballad is ...   \n",
              "3  This song is a captivating blend of alternativ...   \n",
              "4  This song is a sentimental journey through a S...   \n",
              "\n",
              "                                                 neg  \n",
              "0  This aggressive and negative pop rock song has...  \n",
              "1  This new single is an R&B slow burner that wil...  \n",
              "2  Get ready to hit the open road and feel the wi...  \n",
              "3  Get ready to hit the open road with the energe...  \n",
              "4  Experience an intimate and romantic journey wi...  "
            ]
          },
          "execution_count": 4,
          "metadata": {},
          "output_type": "execute_result"
        }
      ],
      "source": [
        "music_corpus.head()"
      ]
    },
    {
      "cell_type": "code",
      "execution_count": 5,
      "metadata": {
        "id": "JwlH9Yllvqcv"
      },
      "outputs": [],
      "source": [
        "train_examples = []\n",
        "# For agility we only 1/4 of our available data\n",
        "# there are 444865 dictionaries in the train_data\n",
        "# Only using 50k dictionaries\n",
        "# n_examples = music_corpus.shape[0] // 8\n",
        "\n",
        "for index, row in music_corpus.iterrows():\n",
        "    # if index >= n_examples:\n",
        "    #     break\n",
        "    train_examples.append(InputExample(texts=[row['query'], row['pos'], row['neg']]))"
      ]
    },
    {
      "cell_type": "code",
      "execution_count": 6,
      "metadata": {},
      "outputs": [
        {
          "data": {
            "text/plain": [
              "444865"
            ]
          },
          "execution_count": 6,
          "metadata": {},
          "output_type": "execute_result"
        }
      ],
      "source": [
        "len(train_examples)"
      ]
    },
    {
      "cell_type": "markdown",
      "metadata": {
        "id": "6qVYjIIOyppB"
      },
      "source": [
        "We wrap our training dataset into a Pytorch `Dataloader` to shuffle examples and get batch sizes."
      ]
    },
    {
      "cell_type": "code",
      "execution_count": 7,
      "metadata": {
        "id": "gbrXjod4dhJW"
      },
      "outputs": [],
      "source": [
        "train_dataloader = DataLoader(train_examples, shuffle=True, batch_size=32)"
      ]
    },
    {
      "cell_type": "markdown",
      "metadata": {
        "id": "0HeVHzC-8bbe"
      },
      "source": [
        "## Loss functions for training a Sentence Transformers model\n"
      ]
    },
    {
      "cell_type": "code",
      "execution_count": 8,
      "metadata": {
        "id": "t1gFBA6EFK10"
      },
      "outputs": [],
      "source": [
        "train_loss = losses.TripletLoss(model=model)"
      ]
    },
    {
      "cell_type": "markdown",
      "metadata": {
        "id": "QTSVaysgVHZk"
      },
      "source": [
        "## How to train a Sentence Transformer model\n"
      ]
    },
    {
      "cell_type": "code",
      "execution_count": 9,
      "metadata": {
        "id": "rBBR6OseFW0J"
      },
      "outputs": [],
      "source": [
        "num_epochs = 10\n",
        "\n",
        "warmup_steps = int(len(train_dataloader) * num_epochs * 0.1) #10% of train data"
      ]
    },
    {
      "cell_type": "code",
      "execution_count": 10,
      "metadata": {
        "id": "7Ana59pTFjKn"
      },
      "outputs": [
        {
          "data": {
            "application/vnd.jupyter.widget-view+json": {
              "model_id": "3375e6960ab647a28f10a1bd42f6f90f",
              "version_major": 2,
              "version_minor": 0
            },
            "text/plain": [
              "Epoch:   0%|          | 0/10 [00:00<?, ?it/s]"
            ]
          },
          "metadata": {},
          "output_type": "display_data"
        },
        {
          "data": {
            "application/vnd.jupyter.widget-view+json": {
              "model_id": "33f2b7394d534bcbb3806fd8b8c08812",
              "version_major": 2,
              "version_minor": 0
            },
            "text/plain": [
              "Iteration:   0%|          | 0/13903 [00:00<?, ?it/s]"
            ]
          },
          "metadata": {},
          "output_type": "display_data"
        },
        {
          "data": {
            "application/vnd.jupyter.widget-view+json": {
              "model_id": "05bda0e4e49140a28f8fef34ee5f47a0",
              "version_major": 2,
              "version_minor": 0
            },
            "text/plain": [
              "Iteration:   0%|          | 0/13903 [00:00<?, ?it/s]"
            ]
          },
          "metadata": {},
          "output_type": "display_data"
        },
        {
          "data": {
            "application/vnd.jupyter.widget-view+json": {
              "model_id": "b7070b20f9d247bab530966d70a1eaed",
              "version_major": 2,
              "version_minor": 0
            },
            "text/plain": [
              "Iteration:   0%|          | 0/13903 [00:00<?, ?it/s]"
            ]
          },
          "metadata": {},
          "output_type": "display_data"
        },
        {
          "data": {
            "application/vnd.jupyter.widget-view+json": {
              "model_id": "74dd6826560b4438811a7b677d8c7e90",
              "version_major": 2,
              "version_minor": 0
            },
            "text/plain": [
              "Iteration:   0%|          | 0/13903 [00:00<?, ?it/s]"
            ]
          },
          "metadata": {},
          "output_type": "display_data"
        },
        {
          "data": {
            "application/vnd.jupyter.widget-view+json": {
              "model_id": "5799efaec0a74d6495ccc968a370a4aa",
              "version_major": 2,
              "version_minor": 0
            },
            "text/plain": [
              "Iteration:   0%|          | 0/13903 [00:00<?, ?it/s]"
            ]
          },
          "metadata": {},
          "output_type": "display_data"
        },
        {
          "data": {
            "application/vnd.jupyter.widget-view+json": {
              "model_id": "2a5abd31c79544138e5dfd86bfd079d1",
              "version_major": 2,
              "version_minor": 0
            },
            "text/plain": [
              "Iteration:   0%|          | 0/13903 [00:00<?, ?it/s]"
            ]
          },
          "metadata": {},
          "output_type": "display_data"
        },
        {
          "data": {
            "application/vnd.jupyter.widget-view+json": {
              "model_id": "4c3b389954614ab29643f342ae5f751d",
              "version_major": 2,
              "version_minor": 0
            },
            "text/plain": [
              "Iteration:   0%|          | 0/13903 [00:00<?, ?it/s]"
            ]
          },
          "metadata": {},
          "output_type": "display_data"
        },
        {
          "data": {
            "application/vnd.jupyter.widget-view+json": {
              "model_id": "eb652d5e2e5b46b8a377b51c47b2e02a",
              "version_major": 2,
              "version_minor": 0
            },
            "text/plain": [
              "Iteration:   0%|          | 0/13903 [00:00<?, ?it/s]"
            ]
          },
          "metadata": {},
          "output_type": "display_data"
        },
        {
          "data": {
            "application/vnd.jupyter.widget-view+json": {
              "model_id": "efc7703484e84879bf421460f4389657",
              "version_major": 2,
              "version_minor": 0
            },
            "text/plain": [
              "Iteration:   0%|          | 0/13903 [00:00<?, ?it/s]"
            ]
          },
          "metadata": {},
          "output_type": "display_data"
        },
        {
          "data": {
            "application/vnd.jupyter.widget-view+json": {
              "model_id": "cd86aa34655741e8a57ccdbe9489f8e0",
              "version_major": 2,
              "version_minor": 0
            },
            "text/plain": [
              "Iteration:   0%|          | 0/13903 [00:00<?, ?it/s]"
            ]
          },
          "metadata": {},
          "output_type": "display_data"
        }
      ],
      "source": [
        "history = model.fit(train_objectives=[(train_dataloader, train_loss)],\n",
        "          epochs=num_epochs,\n",
        "          warmup_steps=warmup_steps)\n",
        "#Maybe check for model.run/ model.forward to make this a sentence embedding"
      ]
    },
    {
      "cell_type": "code",
      "execution_count": 11,
      "metadata": {},
      "outputs": [],
      "source": [
        "model.save(path = '/home/mendu/Thesis/data/musiccaps/new_embedding_model2',\n",
        "           model_name = 'sentence_embedding_finetunned_on_musiccaps',\n",
        "           train_datasets = ['triplets_train_lp_musiccaps_msd'])"
      ]
    },
    {
      "cell_type": "code",
      "execution_count": 12,
      "metadata": {},
      "outputs": [
        {
          "data": {
            "text/plain": [
              "SentenceTransformer(\n",
              "  (0): Transformer({'max_seq_length': 512, 'do_lower_case': False}) with Transformer model: RobertaModel \n",
              "  (1): Pooling({'word_embedding_dimension': 768, 'pooling_mode_cls_token': False, 'pooling_mode_mean_tokens': True, 'pooling_mode_max_tokens': False, 'pooling_mode_mean_sqrt_len_tokens': False, 'pooling_mode_weightedmean_tokens': False, 'pooling_mode_lasttoken': False, 'include_prompt': True})\n",
              ")"
            ]
          },
          "execution_count": 12,
          "metadata": {},
          "output_type": "execute_result"
        }
      ],
      "source": [
        "model"
      ]
    },
    {
      "cell_type": "code",
      "execution_count": 13,
      "metadata": {},
      "outputs": [],
      "source": [
        "# Load the fine-tuned model\n",
        "# model_ = SentenceTransformer('/home/mendu/Thesis/data/musiccaps/embedding_model')"
      ]
    },
    {
      "cell_type": "code",
      "execution_count": 14,
      "metadata": {},
      "outputs": [],
      "source": [
        "# model_"
      ]
    },
    {
      "cell_type": "code",
      "execution_count": null,
      "metadata": {},
      "outputs": [],
      "source": []
    }
  ],
  "metadata": {
    "accelerator": "GPU",
    "colab": {
      "gpuType": "T4",
      "name": "Training and Fine-Tuning Sentence Transformers Models - Notebook Companion.ipynb",
      "provenance": []
    },
    "kernelspec": {
      "display_name": "Python 3",
      "name": "python3"
    },
    "language_info": {
      "codemirror_mode": {
        "name": "ipython",
        "version": 3
      },
      "file_extension": ".py",
      "mimetype": "text/x-python",
      "name": "python",
      "nbconvert_exporter": "python",
      "pygments_lexer": "ipython3",
      "version": "3.11.8"
    },
    "widgets": {
      "application/vnd.jupyter.widget-state+json": {
        "011e4835973341679c695826d7254415": {
          "model_module": "@jupyter-widgets/base",
          "model_module_version": "1.2.0",
          "model_name": "LayoutModel",
          "state": {
            "_model_module": "@jupyter-widgets/base",
            "_model_module_version": "1.2.0",
            "_model_name": "LayoutModel",
            "_view_count": null,
            "_view_module": "@jupyter-widgets/base",
            "_view_module_version": "1.2.0",
            "_view_name": "LayoutView",
            "align_content": null,
            "align_items": null,
            "align_self": null,
            "border": null,
            "bottom": null,
            "display": null,
            "flex": null,
            "flex_flow": null,
            "grid_area": null,
            "grid_auto_columns": null,
            "grid_auto_flow": null,
            "grid_auto_rows": null,
            "grid_column": null,
            "grid_gap": null,
            "grid_row": null,
            "grid_template_areas": null,
            "grid_template_columns": null,
            "grid_template_rows": null,
            "height": null,
            "justify_content": null,
            "justify_items": null,
            "left": null,
            "margin": null,
            "max_height": null,
            "max_width": null,
            "min_height": null,
            "min_width": null,
            "object_fit": null,
            "object_position": null,
            "order": null,
            "overflow": null,
            "overflow_x": null,
            "overflow_y": null,
            "padding": null,
            "right": null,
            "top": null,
            "visibility": null,
            "width": null
          }
        },
        "06bbc6df8e67486084cc338c07f1a36a": {
          "model_module": "@jupyter-widgets/controls",
          "model_module_version": "1.5.0",
          "model_name": "HTMLModel",
          "state": {
            "_dom_classes": [],
            "_model_module": "@jupyter-widgets/controls",
            "_model_module_version": "1.5.0",
            "_model_name": "HTMLModel",
            "_view_count": null,
            "_view_module": "@jupyter-widgets/controls",
            "_view_module_version": "1.5.0",
            "_view_name": "HTMLView",
            "description": "",
            "description_tooltip": null,
            "layout": "IPY_MODEL_e669b428205e464d9b0946a9625b9a69",
            "placeholder": "​",
            "style": "IPY_MODEL_66cb216989fa405587cc5da447175d3e",
            "value": " 101762/0 [00:03&lt;00:00, 38042.90 examples/s]"
          }
        },
        "0fa172ffb19444349354c76043745e9d": {
          "model_module": "@jupyter-widgets/controls",
          "model_module_version": "1.5.0",
          "model_name": "FloatProgressModel",
          "state": {
            "_dom_classes": [],
            "_model_module": "@jupyter-widgets/controls",
            "_model_module_version": "1.5.0",
            "_model_name": "FloatProgressModel",
            "_view_count": null,
            "_view_module": "@jupyter-widgets/controls",
            "_view_module_version": "1.5.0",
            "_view_name": "ProgressView",
            "bar_style": "success",
            "description": "",
            "description_tooltip": null,
            "layout": "IPY_MODEL_96700da816ae40e999cfec09cadc4b63",
            "max": 183431436,
            "min": 0,
            "orientation": "horizontal",
            "style": "IPY_MODEL_3bac3c49536c401582f5d9310dd34866",
            "value": 183431436
          }
        },
        "245cc3aba52e4941b2d474cc56717000": {
          "model_module": "@jupyter-widgets/base",
          "model_module_version": "1.2.0",
          "model_name": "LayoutModel",
          "state": {
            "_model_module": "@jupyter-widgets/base",
            "_model_module_version": "1.2.0",
            "_model_name": "LayoutModel",
            "_view_count": null,
            "_view_module": "@jupyter-widgets/base",
            "_view_module_version": "1.2.0",
            "_view_name": "LayoutView",
            "align_content": null,
            "align_items": null,
            "align_self": null,
            "border": null,
            "bottom": null,
            "display": null,
            "flex": null,
            "flex_flow": null,
            "grid_area": null,
            "grid_auto_columns": null,
            "grid_auto_flow": null,
            "grid_auto_rows": null,
            "grid_column": null,
            "grid_gap": null,
            "grid_row": null,
            "grid_template_areas": null,
            "grid_template_columns": null,
            "grid_template_rows": null,
            "height": null,
            "justify_content": null,
            "justify_items": null,
            "left": null,
            "margin": null,
            "max_height": null,
            "max_width": null,
            "min_height": null,
            "min_width": null,
            "object_fit": null,
            "object_position": null,
            "order": null,
            "overflow": null,
            "overflow_x": null,
            "overflow_y": null,
            "padding": null,
            "right": null,
            "top": null,
            "visibility": null,
            "width": null
          }
        },
        "3bac3c49536c401582f5d9310dd34866": {
          "model_module": "@jupyter-widgets/controls",
          "model_module_version": "1.5.0",
          "model_name": "ProgressStyleModel",
          "state": {
            "_model_module": "@jupyter-widgets/controls",
            "_model_module_version": "1.5.0",
            "_model_name": "ProgressStyleModel",
            "_view_count": null,
            "_view_module": "@jupyter-widgets/base",
            "_view_module_version": "1.2.0",
            "_view_name": "StyleView",
            "bar_color": null,
            "description_width": ""
          }
        },
        "3d0215b180e44c8a8cd2ae7082fca19a": {
          "model_module": "@jupyter-widgets/controls",
          "model_module_version": "1.5.0",
          "model_name": "DescriptionStyleModel",
          "state": {
            "_model_module": "@jupyter-widgets/controls",
            "_model_module_version": "1.5.0",
            "_model_name": "DescriptionStyleModel",
            "_view_count": null,
            "_view_module": "@jupyter-widgets/base",
            "_view_module_version": "1.2.0",
            "_view_name": "StyleView",
            "description_width": ""
          }
        },
        "518cf71182dc4c43bdd2ba343b5d1022": {
          "model_module": "@jupyter-widgets/controls",
          "model_module_version": "1.5.0",
          "model_name": "HBoxModel",
          "state": {
            "_dom_classes": [],
            "_model_module": "@jupyter-widgets/controls",
            "_model_module_version": "1.5.0",
            "_model_name": "HBoxModel",
            "_view_count": null,
            "_view_module": "@jupyter-widgets/controls",
            "_view_module_version": "1.5.0",
            "_view_name": "HBoxView",
            "box_style": "",
            "children": [
              "IPY_MODEL_8e0986f0204448c4b6251fc74bfbd955",
              "IPY_MODEL_aa39b3baed304891a9979605136ffcdb",
              "IPY_MODEL_06bbc6df8e67486084cc338c07f1a36a"
            ],
            "layout": "IPY_MODEL_011e4835973341679c695826d7254415"
          }
        },
        "544f1fa7fcf24950984df115e4ebb439": {
          "model_module": "@jupyter-widgets/controls",
          "model_module_version": "1.5.0",
          "model_name": "DescriptionStyleModel",
          "state": {
            "_model_module": "@jupyter-widgets/controls",
            "_model_module_version": "1.5.0",
            "_model_name": "DescriptionStyleModel",
            "_view_count": null,
            "_view_module": "@jupyter-widgets/base",
            "_view_module_version": "1.2.0",
            "_view_name": "StyleView",
            "description_width": ""
          }
        },
        "5a4558d9d056454bba18ab2b663b214c": {
          "model_module": "@jupyter-widgets/base",
          "model_module_version": "1.2.0",
          "model_name": "LayoutModel",
          "state": {
            "_model_module": "@jupyter-widgets/base",
            "_model_module_version": "1.2.0",
            "_model_name": "LayoutModel",
            "_view_count": null,
            "_view_module": "@jupyter-widgets/base",
            "_view_module_version": "1.2.0",
            "_view_name": "LayoutView",
            "align_content": null,
            "align_items": null,
            "align_self": null,
            "border": null,
            "bottom": null,
            "display": null,
            "flex": null,
            "flex_flow": null,
            "grid_area": null,
            "grid_auto_columns": null,
            "grid_auto_flow": null,
            "grid_auto_rows": null,
            "grid_column": null,
            "grid_gap": null,
            "grid_row": null,
            "grid_template_areas": null,
            "grid_template_columns": null,
            "grid_template_rows": null,
            "height": null,
            "justify_content": null,
            "justify_items": null,
            "left": null,
            "margin": null,
            "max_height": null,
            "max_width": null,
            "min_height": null,
            "min_width": null,
            "object_fit": null,
            "object_position": null,
            "order": null,
            "overflow": null,
            "overflow_x": null,
            "overflow_y": null,
            "padding": null,
            "right": null,
            "top": null,
            "visibility": null,
            "width": null
          }
        },
        "5e5da5953c3f49f0a0fb861fb5a437e0": {
          "model_module": "@jupyter-widgets/controls",
          "model_module_version": "1.5.0",
          "model_name": "ProgressStyleModel",
          "state": {
            "_model_module": "@jupyter-widgets/controls",
            "_model_module_version": "1.5.0",
            "_model_name": "ProgressStyleModel",
            "_view_count": null,
            "_view_module": "@jupyter-widgets/base",
            "_view_module_version": "1.2.0",
            "_view_name": "StyleView",
            "bar_color": null,
            "description_width": ""
          }
        },
        "5fe29f3c6ac2426da89eef1671cf3a9d": {
          "model_module": "@jupyter-widgets/base",
          "model_module_version": "1.2.0",
          "model_name": "LayoutModel",
          "state": {
            "_model_module": "@jupyter-widgets/base",
            "_model_module_version": "1.2.0",
            "_model_name": "LayoutModel",
            "_view_count": null,
            "_view_module": "@jupyter-widgets/base",
            "_view_module_version": "1.2.0",
            "_view_name": "LayoutView",
            "align_content": null,
            "align_items": null,
            "align_self": null,
            "border": null,
            "bottom": null,
            "display": null,
            "flex": null,
            "flex_flow": null,
            "grid_area": null,
            "grid_auto_columns": null,
            "grid_auto_flow": null,
            "grid_auto_rows": null,
            "grid_column": null,
            "grid_gap": null,
            "grid_row": null,
            "grid_template_areas": null,
            "grid_template_columns": null,
            "grid_template_rows": null,
            "height": null,
            "justify_content": null,
            "justify_items": null,
            "left": null,
            "margin": null,
            "max_height": null,
            "max_width": null,
            "min_height": null,
            "min_width": null,
            "object_fit": null,
            "object_position": null,
            "order": null,
            "overflow": null,
            "overflow_x": null,
            "overflow_y": null,
            "padding": null,
            "right": null,
            "top": null,
            "visibility": null,
            "width": null
          }
        },
        "61b02dec22014550bee164a5ddda8734": {
          "model_module": "@jupyter-widgets/base",
          "model_module_version": "1.2.0",
          "model_name": "LayoutModel",
          "state": {
            "_model_module": "@jupyter-widgets/base",
            "_model_module_version": "1.2.0",
            "_model_name": "LayoutModel",
            "_view_count": null,
            "_view_module": "@jupyter-widgets/base",
            "_view_module_version": "1.2.0",
            "_view_name": "LayoutView",
            "align_content": null,
            "align_items": null,
            "align_self": null,
            "border": null,
            "bottom": null,
            "display": null,
            "flex": null,
            "flex_flow": null,
            "grid_area": null,
            "grid_auto_columns": null,
            "grid_auto_flow": null,
            "grid_auto_rows": null,
            "grid_column": null,
            "grid_gap": null,
            "grid_row": null,
            "grid_template_areas": null,
            "grid_template_columns": null,
            "grid_template_rows": null,
            "height": null,
            "justify_content": null,
            "justify_items": null,
            "left": null,
            "margin": null,
            "max_height": null,
            "max_width": null,
            "min_height": null,
            "min_width": null,
            "object_fit": null,
            "object_position": null,
            "order": null,
            "overflow": null,
            "overflow_x": null,
            "overflow_y": null,
            "padding": null,
            "right": null,
            "top": null,
            "visibility": null,
            "width": null
          }
        },
        "64ba80535abb43a7835ae912c1f9088d": {
          "model_module": "@jupyter-widgets/controls",
          "model_module_version": "1.5.0",
          "model_name": "HBoxModel",
          "state": {
            "_dom_classes": [],
            "_model_module": "@jupyter-widgets/controls",
            "_model_module_version": "1.5.0",
            "_model_name": "HBoxModel",
            "_view_count": null,
            "_view_module": "@jupyter-widgets/controls",
            "_view_module_version": "1.5.0",
            "_view_name": "HBoxView",
            "box_style": "",
            "children": [
              "IPY_MODEL_97a0430ef79b45aaa3291730f1bb3b4d",
              "IPY_MODEL_0fa172ffb19444349354c76043745e9d",
              "IPY_MODEL_7a37053a66e041d4ba05fbff288f765a"
            ],
            "layout": "IPY_MODEL_b1f9f873029d4e59a1b0e6b29dd3ec30"
          }
        },
        "66cb216989fa405587cc5da447175d3e": {
          "model_module": "@jupyter-widgets/controls",
          "model_module_version": "1.5.0",
          "model_name": "DescriptionStyleModel",
          "state": {
            "_model_module": "@jupyter-widgets/controls",
            "_model_module_version": "1.5.0",
            "_model_name": "DescriptionStyleModel",
            "_view_count": null,
            "_view_module": "@jupyter-widgets/base",
            "_view_module_version": "1.2.0",
            "_view_name": "StyleView",
            "description_width": ""
          }
        },
        "685e58ef0f3446f7ae31f19fdf3bb7b5": {
          "model_module": "@jupyter-widgets/base",
          "model_module_version": "1.2.0",
          "model_name": "LayoutModel",
          "state": {
            "_model_module": "@jupyter-widgets/base",
            "_model_module_version": "1.2.0",
            "_model_name": "LayoutModel",
            "_view_count": null,
            "_view_module": "@jupyter-widgets/base",
            "_view_module_version": "1.2.0",
            "_view_name": "LayoutView",
            "align_content": null,
            "align_items": null,
            "align_self": null,
            "border": null,
            "bottom": null,
            "display": null,
            "flex": null,
            "flex_flow": null,
            "grid_area": null,
            "grid_auto_columns": null,
            "grid_auto_flow": null,
            "grid_auto_rows": null,
            "grid_column": null,
            "grid_gap": null,
            "grid_row": null,
            "grid_template_areas": null,
            "grid_template_columns": null,
            "grid_template_rows": null,
            "height": null,
            "justify_content": null,
            "justify_items": null,
            "left": null,
            "margin": null,
            "max_height": null,
            "max_width": null,
            "min_height": null,
            "min_width": null,
            "object_fit": null,
            "object_position": null,
            "order": null,
            "overflow": null,
            "overflow_x": null,
            "overflow_y": null,
            "padding": null,
            "right": null,
            "top": null,
            "visibility": null,
            "width": null
          }
        },
        "70f466d4273e40738b399777fd4eea58": {
          "model_module": "@jupyter-widgets/base",
          "model_module_version": "1.2.0",
          "model_name": "LayoutModel",
          "state": {
            "_model_module": "@jupyter-widgets/base",
            "_model_module_version": "1.2.0",
            "_model_name": "LayoutModel",
            "_view_count": null,
            "_view_module": "@jupyter-widgets/base",
            "_view_module_version": "1.2.0",
            "_view_name": "LayoutView",
            "align_content": null,
            "align_items": null,
            "align_self": null,
            "border": null,
            "bottom": null,
            "display": null,
            "flex": null,
            "flex_flow": null,
            "grid_area": null,
            "grid_auto_columns": null,
            "grid_auto_flow": null,
            "grid_auto_rows": null,
            "grid_column": null,
            "grid_gap": null,
            "grid_row": null,
            "grid_template_areas": null,
            "grid_template_columns": null,
            "grid_template_rows": null,
            "height": null,
            "justify_content": null,
            "justify_items": null,
            "left": null,
            "margin": null,
            "max_height": null,
            "max_width": null,
            "min_height": null,
            "min_width": null,
            "object_fit": null,
            "object_position": null,
            "order": null,
            "overflow": null,
            "overflow_x": null,
            "overflow_y": null,
            "padding": null,
            "right": null,
            "top": null,
            "visibility": null,
            "width": null
          }
        },
        "725f56f11a9c4346a0d1516b1659c8a1": {
          "model_module": "@jupyter-widgets/base",
          "model_module_version": "1.2.0",
          "model_name": "LayoutModel",
          "state": {
            "_model_module": "@jupyter-widgets/base",
            "_model_module_version": "1.2.0",
            "_model_name": "LayoutModel",
            "_view_count": null,
            "_view_module": "@jupyter-widgets/base",
            "_view_module_version": "1.2.0",
            "_view_name": "LayoutView",
            "align_content": null,
            "align_items": null,
            "align_self": null,
            "border": null,
            "bottom": null,
            "display": null,
            "flex": null,
            "flex_flow": null,
            "grid_area": null,
            "grid_auto_columns": null,
            "grid_auto_flow": null,
            "grid_auto_rows": null,
            "grid_column": null,
            "grid_gap": null,
            "grid_row": null,
            "grid_template_areas": null,
            "grid_template_columns": null,
            "grid_template_rows": null,
            "height": null,
            "justify_content": null,
            "justify_items": null,
            "left": null,
            "margin": null,
            "max_height": null,
            "max_width": null,
            "min_height": null,
            "min_width": null,
            "object_fit": null,
            "object_position": null,
            "order": null,
            "overflow": null,
            "overflow_x": null,
            "overflow_y": null,
            "padding": null,
            "right": null,
            "top": null,
            "visibility": null,
            "width": "20px"
          }
        },
        "7a37053a66e041d4ba05fbff288f765a": {
          "model_module": "@jupyter-widgets/controls",
          "model_module_version": "1.5.0",
          "model_name": "HTMLModel",
          "state": {
            "_dom_classes": [],
            "_model_module": "@jupyter-widgets/controls",
            "_model_module_version": "1.5.0",
            "_model_name": "HTMLModel",
            "_view_count": null,
            "_view_module": "@jupyter-widgets/controls",
            "_view_module_version": "1.5.0",
            "_view_name": "HTMLView",
            "description": "",
            "description_tooltip": null,
            "layout": "IPY_MODEL_685e58ef0f3446f7ae31f19fdf3bb7b5",
            "placeholder": "​",
            "style": "IPY_MODEL_83d0a3e5936040de807aa1ab1959d434",
            "value": " 183M/183M [00:10&lt;00:00, 18.2MB/s]"
          }
        },
        "83d0a3e5936040de807aa1ab1959d434": {
          "model_module": "@jupyter-widgets/controls",
          "model_module_version": "1.5.0",
          "model_name": "DescriptionStyleModel",
          "state": {
            "_model_module": "@jupyter-widgets/controls",
            "_model_module_version": "1.5.0",
            "_model_name": "DescriptionStyleModel",
            "_view_count": null,
            "_view_module": "@jupyter-widgets/base",
            "_view_module_version": "1.2.0",
            "_view_name": "StyleView",
            "description_width": ""
          }
        },
        "8e0986f0204448c4b6251fc74bfbd955": {
          "model_module": "@jupyter-widgets/controls",
          "model_module_version": "1.5.0",
          "model_name": "HTMLModel",
          "state": {
            "_dom_classes": [],
            "_model_module": "@jupyter-widgets/controls",
            "_model_module_version": "1.5.0",
            "_model_name": "HTMLModel",
            "_view_count": null,
            "_view_module": "@jupyter-widgets/controls",
            "_view_module_version": "1.5.0",
            "_view_name": "HTMLView",
            "description": "",
            "description_tooltip": null,
            "layout": "IPY_MODEL_98e83a701fa4464ab0b7876827d2145f",
            "placeholder": "​",
            "style": "IPY_MODEL_544f1fa7fcf24950984df115e4ebb439",
            "value": "Generating train split: "
          }
        },
        "96700da816ae40e999cfec09cadc4b63": {
          "model_module": "@jupyter-widgets/base",
          "model_module_version": "1.2.0",
          "model_name": "LayoutModel",
          "state": {
            "_model_module": "@jupyter-widgets/base",
            "_model_module_version": "1.2.0",
            "_model_name": "LayoutModel",
            "_view_count": null,
            "_view_module": "@jupyter-widgets/base",
            "_view_module_version": "1.2.0",
            "_view_name": "LayoutView",
            "align_content": null,
            "align_items": null,
            "align_self": null,
            "border": null,
            "bottom": null,
            "display": null,
            "flex": null,
            "flex_flow": null,
            "grid_area": null,
            "grid_auto_columns": null,
            "grid_auto_flow": null,
            "grid_auto_rows": null,
            "grid_column": null,
            "grid_gap": null,
            "grid_row": null,
            "grid_template_areas": null,
            "grid_template_columns": null,
            "grid_template_rows": null,
            "height": null,
            "justify_content": null,
            "justify_items": null,
            "left": null,
            "margin": null,
            "max_height": null,
            "max_width": null,
            "min_height": null,
            "min_width": null,
            "object_fit": null,
            "object_position": null,
            "order": null,
            "overflow": null,
            "overflow_x": null,
            "overflow_y": null,
            "padding": null,
            "right": null,
            "top": null,
            "visibility": null,
            "width": null
          }
        },
        "97a0430ef79b45aaa3291730f1bb3b4d": {
          "model_module": "@jupyter-widgets/controls",
          "model_module_version": "1.5.0",
          "model_name": "HTMLModel",
          "state": {
            "_dom_classes": [],
            "_model_module": "@jupyter-widgets/controls",
            "_model_module_version": "1.5.0",
            "_model_name": "HTMLModel",
            "_view_count": null,
            "_view_module": "@jupyter-widgets/controls",
            "_view_module_version": "1.5.0",
            "_view_name": "HTMLView",
            "description": "",
            "description_tooltip": null,
            "layout": "IPY_MODEL_70f466d4273e40738b399777fd4eea58",
            "placeholder": "​",
            "style": "IPY_MODEL_dcc8347c5c7c438fbdeaccceda08e6af",
            "value": "Downloading data: 100%"
          }
        },
        "98e83a701fa4464ab0b7876827d2145f": {
          "model_module": "@jupyter-widgets/base",
          "model_module_version": "1.2.0",
          "model_name": "LayoutModel",
          "state": {
            "_model_module": "@jupyter-widgets/base",
            "_model_module_version": "1.2.0",
            "_model_name": "LayoutModel",
            "_view_count": null,
            "_view_module": "@jupyter-widgets/base",
            "_view_module_version": "1.2.0",
            "_view_name": "LayoutView",
            "align_content": null,
            "align_items": null,
            "align_self": null,
            "border": null,
            "bottom": null,
            "display": null,
            "flex": null,
            "flex_flow": null,
            "grid_area": null,
            "grid_auto_columns": null,
            "grid_auto_flow": null,
            "grid_auto_rows": null,
            "grid_column": null,
            "grid_gap": null,
            "grid_row": null,
            "grid_template_areas": null,
            "grid_template_columns": null,
            "grid_template_rows": null,
            "height": null,
            "justify_content": null,
            "justify_items": null,
            "left": null,
            "margin": null,
            "max_height": null,
            "max_width": null,
            "min_height": null,
            "min_width": null,
            "object_fit": null,
            "object_position": null,
            "order": null,
            "overflow": null,
            "overflow_x": null,
            "overflow_y": null,
            "padding": null,
            "right": null,
            "top": null,
            "visibility": null,
            "width": null
          }
        },
        "aa39b3baed304891a9979605136ffcdb": {
          "model_module": "@jupyter-widgets/controls",
          "model_module_version": "1.5.0",
          "model_name": "FloatProgressModel",
          "state": {
            "_dom_classes": [],
            "_model_module": "@jupyter-widgets/controls",
            "_model_module_version": "1.5.0",
            "_model_name": "FloatProgressModel",
            "_view_count": null,
            "_view_module": "@jupyter-widgets/controls",
            "_view_module_version": "1.5.0",
            "_view_name": "ProgressView",
            "bar_style": "success",
            "description": "",
            "description_tooltip": null,
            "layout": "IPY_MODEL_725f56f11a9c4346a0d1516b1659c8a1",
            "max": 1,
            "min": 0,
            "orientation": "horizontal",
            "style": "IPY_MODEL_c35152d068c64933a8cd8445516d38c5",
            "value": 1
          }
        },
        "b1f9f873029d4e59a1b0e6b29dd3ec30": {
          "model_module": "@jupyter-widgets/base",
          "model_module_version": "1.2.0",
          "model_name": "LayoutModel",
          "state": {
            "_model_module": "@jupyter-widgets/base",
            "_model_module_version": "1.2.0",
            "_model_name": "LayoutModel",
            "_view_count": null,
            "_view_module": "@jupyter-widgets/base",
            "_view_module_version": "1.2.0",
            "_view_name": "LayoutView",
            "align_content": null,
            "align_items": null,
            "align_self": null,
            "border": null,
            "bottom": null,
            "display": null,
            "flex": null,
            "flex_flow": null,
            "grid_area": null,
            "grid_auto_columns": null,
            "grid_auto_flow": null,
            "grid_auto_rows": null,
            "grid_column": null,
            "grid_gap": null,
            "grid_row": null,
            "grid_template_areas": null,
            "grid_template_columns": null,
            "grid_template_rows": null,
            "height": null,
            "justify_content": null,
            "justify_items": null,
            "left": null,
            "margin": null,
            "max_height": null,
            "max_width": null,
            "min_height": null,
            "min_width": null,
            "object_fit": null,
            "object_position": null,
            "order": null,
            "overflow": null,
            "overflow_x": null,
            "overflow_y": null,
            "padding": null,
            "right": null,
            "top": null,
            "visibility": null,
            "width": null
          }
        },
        "c22665f659974527bad1354caa79ccd2": {
          "model_module": "@jupyter-widgets/controls",
          "model_module_version": "1.5.0",
          "model_name": "HTMLModel",
          "state": {
            "_dom_classes": [],
            "_model_module": "@jupyter-widgets/controls",
            "_model_module_version": "1.5.0",
            "_model_name": "HTMLModel",
            "_view_count": null,
            "_view_module": "@jupyter-widgets/controls",
            "_view_module_version": "1.5.0",
            "_view_name": "HTMLView",
            "description": "",
            "description_tooltip": null,
            "layout": "IPY_MODEL_61b02dec22014550bee164a5ddda8734",
            "placeholder": "​",
            "style": "IPY_MODEL_3d0215b180e44c8a8cd2ae7082fca19a",
            "value": " 6.27k/6.27k [00:00&lt;00:00, 170kB/s]"
          }
        },
        "c31d9c65245648e0974f6c55a7260339": {
          "model_module": "@jupyter-widgets/controls",
          "model_module_version": "1.5.0",
          "model_name": "HBoxModel",
          "state": {
            "_dom_classes": [],
            "_model_module": "@jupyter-widgets/controls",
            "_model_module_version": "1.5.0",
            "_model_name": "HBoxModel",
            "_view_count": null,
            "_view_module": "@jupyter-widgets/controls",
            "_view_module_version": "1.5.0",
            "_view_name": "HBoxView",
            "box_style": "",
            "children": [
              "IPY_MODEL_d27a876d165d4574a28ef6ee0449558b",
              "IPY_MODEL_d7fd5d637bd14ea49d3a924daa7f4dc1",
              "IPY_MODEL_c22665f659974527bad1354caa79ccd2"
            ],
            "layout": "IPY_MODEL_5fe29f3c6ac2426da89eef1671cf3a9d"
          }
        },
        "c35152d068c64933a8cd8445516d38c5": {
          "model_module": "@jupyter-widgets/controls",
          "model_module_version": "1.5.0",
          "model_name": "ProgressStyleModel",
          "state": {
            "_model_module": "@jupyter-widgets/controls",
            "_model_module_version": "1.5.0",
            "_model_name": "ProgressStyleModel",
            "_view_count": null,
            "_view_module": "@jupyter-widgets/base",
            "_view_module_version": "1.2.0",
            "_view_name": "StyleView",
            "bar_color": null,
            "description_width": ""
          }
        },
        "d1712ce87e8b4c87bf00948ba37005bc": {
          "model_module": "@jupyter-widgets/controls",
          "model_module_version": "1.5.0",
          "model_name": "DescriptionStyleModel",
          "state": {
            "_model_module": "@jupyter-widgets/controls",
            "_model_module_version": "1.5.0",
            "_model_name": "DescriptionStyleModel",
            "_view_count": null,
            "_view_module": "@jupyter-widgets/base",
            "_view_module_version": "1.2.0",
            "_view_name": "StyleView",
            "description_width": ""
          }
        },
        "d27a876d165d4574a28ef6ee0449558b": {
          "model_module": "@jupyter-widgets/controls",
          "model_module_version": "1.5.0",
          "model_name": "HTMLModel",
          "state": {
            "_dom_classes": [],
            "_model_module": "@jupyter-widgets/controls",
            "_model_module_version": "1.5.0",
            "_model_name": "HTMLModel",
            "_view_count": null,
            "_view_module": "@jupyter-widgets/controls",
            "_view_module_version": "1.5.0",
            "_view_name": "HTMLView",
            "description": "",
            "description_tooltip": null,
            "layout": "IPY_MODEL_245cc3aba52e4941b2d474cc56717000",
            "placeholder": "​",
            "style": "IPY_MODEL_d1712ce87e8b4c87bf00948ba37005bc",
            "value": "Downloading readme: 100%"
          }
        },
        "d7fd5d637bd14ea49d3a924daa7f4dc1": {
          "model_module": "@jupyter-widgets/controls",
          "model_module_version": "1.5.0",
          "model_name": "FloatProgressModel",
          "state": {
            "_dom_classes": [],
            "_model_module": "@jupyter-widgets/controls",
            "_model_module_version": "1.5.0",
            "_model_name": "FloatProgressModel",
            "_view_count": null,
            "_view_module": "@jupyter-widgets/controls",
            "_view_module_version": "1.5.0",
            "_view_name": "ProgressView",
            "bar_style": "success",
            "description": "",
            "description_tooltip": null,
            "layout": "IPY_MODEL_5a4558d9d056454bba18ab2b663b214c",
            "max": 6266,
            "min": 0,
            "orientation": "horizontal",
            "style": "IPY_MODEL_5e5da5953c3f49f0a0fb861fb5a437e0",
            "value": 6266
          }
        },
        "dcc8347c5c7c438fbdeaccceda08e6af": {
          "model_module": "@jupyter-widgets/controls",
          "model_module_version": "1.5.0",
          "model_name": "DescriptionStyleModel",
          "state": {
            "_model_module": "@jupyter-widgets/controls",
            "_model_module_version": "1.5.0",
            "_model_name": "DescriptionStyleModel",
            "_view_count": null,
            "_view_module": "@jupyter-widgets/base",
            "_view_module_version": "1.2.0",
            "_view_name": "StyleView",
            "description_width": ""
          }
        },
        "e669b428205e464d9b0946a9625b9a69": {
          "model_module": "@jupyter-widgets/base",
          "model_module_version": "1.2.0",
          "model_name": "LayoutModel",
          "state": {
            "_model_module": "@jupyter-widgets/base",
            "_model_module_version": "1.2.0",
            "_model_name": "LayoutModel",
            "_view_count": null,
            "_view_module": "@jupyter-widgets/base",
            "_view_module_version": "1.2.0",
            "_view_name": "LayoutView",
            "align_content": null,
            "align_items": null,
            "align_self": null,
            "border": null,
            "bottom": null,
            "display": null,
            "flex": null,
            "flex_flow": null,
            "grid_area": null,
            "grid_auto_columns": null,
            "grid_auto_flow": null,
            "grid_auto_rows": null,
            "grid_column": null,
            "grid_gap": null,
            "grid_row": null,
            "grid_template_areas": null,
            "grid_template_columns": null,
            "grid_template_rows": null,
            "height": null,
            "justify_content": null,
            "justify_items": null,
            "left": null,
            "margin": null,
            "max_height": null,
            "max_width": null,
            "min_height": null,
            "min_width": null,
            "object_fit": null,
            "object_position": null,
            "order": null,
            "overflow": null,
            "overflow_x": null,
            "overflow_y": null,
            "padding": null,
            "right": null,
            "top": null,
            "visibility": null,
            "width": null
          }
        }
      }
    }
  },
  "nbformat": 4,
  "nbformat_minor": 0
}
