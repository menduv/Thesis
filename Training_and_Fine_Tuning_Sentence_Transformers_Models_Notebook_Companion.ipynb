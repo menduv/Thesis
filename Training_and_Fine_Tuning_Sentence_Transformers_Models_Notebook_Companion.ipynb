{
  "cells": [
    {
      "cell_type": "markdown",
      "metadata": {
        "id": "I729oEbmU1rv"
      },
      "source": [
        "# Train and Fine-Tune Sentence Transformers Models"
      ]
    },
    {
      "cell_type": "markdown",
      "metadata": {
        "id": "P2CPLypZUwTk"
      },
      "source": [
        "## Defining the model object\n"
      ]
    },
    {
      "cell_type": "code",
      "execution_count": 1,
      "metadata": {},
      "outputs": [
        {
          "ename": "KeyboardInterrupt",
          "evalue": "",
          "output_type": "error",
          "traceback": [
            "\u001b[0;31m---------------------------------------------------------------------------\u001b[0m",
            "\u001b[0;31mKeyboardInterrupt\u001b[0m                         Traceback (most recent call last)",
            "Cell \u001b[0;32mIn[1], line 4\u001b[0m\n\u001b[1;32m      1\u001b[0m \u001b[38;5;66;03m#importing necessary libraries\u001b[39;00m\n\u001b[1;32m      3\u001b[0m \u001b[38;5;28;01mimport\u001b[39;00m \u001b[38;5;21;01mpandas\u001b[39;00m \u001b[38;5;28;01mas\u001b[39;00m \u001b[38;5;21;01mpd\u001b[39;00m\n\u001b[0;32m----> 4\u001b[0m \u001b[38;5;28;01mfrom\u001b[39;00m \u001b[38;5;21;01msentence_transformers\u001b[39;00m \u001b[38;5;28;01mimport\u001b[39;00m SentenceTransformer, models, InputExample, losses\n\u001b[1;32m      5\u001b[0m \u001b[38;5;28;01mfrom\u001b[39;00m \u001b[38;5;21;01mtorch\u001b[39;00m\u001b[38;5;21;01m.\u001b[39;00m\u001b[38;5;21;01mutils\u001b[39;00m\u001b[38;5;21;01m.\u001b[39;00m\u001b[38;5;21;01mdata\u001b[39;00m \u001b[38;5;28;01mimport\u001b[39;00m DataLoader\n",
            "File \u001b[0;32m~/miniconda3/envs/myenv/lib/python3.11/site-packages/sentence_transformers/__init__.py:3\u001b[0m\n\u001b[1;32m      1\u001b[0m __version__ \u001b[38;5;241m=\u001b[39m \u001b[38;5;124m\"\u001b[39m\u001b[38;5;124m2.5.1\u001b[39m\u001b[38;5;124m\"\u001b[39m\n\u001b[1;32m      2\u001b[0m __MODEL_HUB_ORGANIZATION__ \u001b[38;5;241m=\u001b[39m \u001b[38;5;124m\"\u001b[39m\u001b[38;5;124msentence-transformers\u001b[39m\u001b[38;5;124m\"\u001b[39m\n\u001b[0;32m----> 3\u001b[0m \u001b[38;5;28;01mfrom\u001b[39;00m \u001b[38;5;21;01m.\u001b[39;00m\u001b[38;5;21;01mdatasets\u001b[39;00m \u001b[38;5;28;01mimport\u001b[39;00m SentencesDataset, ParallelSentencesDataset\n\u001b[1;32m      4\u001b[0m \u001b[38;5;28;01mfrom\u001b[39;00m \u001b[38;5;21;01m.\u001b[39;00m\u001b[38;5;21;01mLoggingHandler\u001b[39;00m \u001b[38;5;28;01mimport\u001b[39;00m LoggingHandler\n\u001b[1;32m      5\u001b[0m \u001b[38;5;28;01mfrom\u001b[39;00m \u001b[38;5;21;01m.\u001b[39;00m\u001b[38;5;21;01mSentenceTransformer\u001b[39;00m \u001b[38;5;28;01mimport\u001b[39;00m SentenceTransformer\n",
            "File \u001b[0;32m~/miniconda3/envs/myenv/lib/python3.11/site-packages/sentence_transformers/datasets/__init__.py:3\u001b[0m\n\u001b[1;32m      1\u001b[0m \u001b[38;5;28;01mfrom\u001b[39;00m \u001b[38;5;21;01m.\u001b[39;00m\u001b[38;5;21;01mDenoisingAutoEncoderDataset\u001b[39;00m \u001b[38;5;28;01mimport\u001b[39;00m DenoisingAutoEncoderDataset\n\u001b[1;32m      2\u001b[0m \u001b[38;5;28;01mfrom\u001b[39;00m \u001b[38;5;21;01m.\u001b[39;00m\u001b[38;5;21;01mNoDuplicatesDataLoader\u001b[39;00m \u001b[38;5;28;01mimport\u001b[39;00m NoDuplicatesDataLoader\n\u001b[0;32m----> 3\u001b[0m \u001b[38;5;28;01mfrom\u001b[39;00m \u001b[38;5;21;01m.\u001b[39;00m\u001b[38;5;21;01mParallelSentencesDataset\u001b[39;00m \u001b[38;5;28;01mimport\u001b[39;00m ParallelSentencesDataset\n\u001b[1;32m      4\u001b[0m \u001b[38;5;28;01mfrom\u001b[39;00m \u001b[38;5;21;01m.\u001b[39;00m\u001b[38;5;21;01mSentencesDataset\u001b[39;00m \u001b[38;5;28;01mimport\u001b[39;00m SentencesDataset\n\u001b[1;32m      5\u001b[0m \u001b[38;5;28;01mfrom\u001b[39;00m \u001b[38;5;21;01m.\u001b[39;00m\u001b[38;5;21;01mSentenceLabelDataset\u001b[39;00m \u001b[38;5;28;01mimport\u001b[39;00m SentenceLabelDataset\n",
            "File \u001b[0;32m~/miniconda3/envs/myenv/lib/python3.11/site-packages/sentence_transformers/datasets/ParallelSentencesDataset.py:4\u001b[0m\n\u001b[1;32m      2\u001b[0m \u001b[38;5;28;01mimport\u001b[39;00m \u001b[38;5;21;01mlogging\u001b[39;00m\n\u001b[1;32m      3\u001b[0m \u001b[38;5;28;01mimport\u001b[39;00m \u001b[38;5;21;01mgzip\u001b[39;00m\n\u001b[0;32m----> 4\u001b[0m \u001b[38;5;28;01mfrom\u001b[39;00m \u001b[38;5;21;01m.\u001b[39;00m\u001b[38;5;21;01m.\u001b[39;00m \u001b[38;5;28;01mimport\u001b[39;00m SentenceTransformer\n\u001b[1;32m      5\u001b[0m \u001b[38;5;28;01mfrom\u001b[39;00m \u001b[38;5;21;01m.\u001b[39;00m\u001b[38;5;21;01m.\u001b[39;00m\u001b[38;5;21;01mreaders\u001b[39;00m \u001b[38;5;28;01mimport\u001b[39;00m InputExample\n\u001b[1;32m      6\u001b[0m \u001b[38;5;28;01mfrom\u001b[39;00m \u001b[38;5;21;01mtyping\u001b[39;00m \u001b[38;5;28;01mimport\u001b[39;00m List\n",
            "File \u001b[0;32m~/miniconda3/envs/myenv/lib/python3.11/site-packages/sentence_transformers/SentenceTransformer.py:35\u001b[0m\n\u001b[1;32m     24\u001b[0m \u001b[38;5;28;01mfrom\u001b[39;00m \u001b[38;5;21;01m.\u001b[39;00m\u001b[38;5;21;01mevaluation\u001b[39;00m \u001b[38;5;28;01mimport\u001b[39;00m SentenceEvaluator\n\u001b[1;32m     25\u001b[0m \u001b[38;5;28;01mfrom\u001b[39;00m \u001b[38;5;21;01m.\u001b[39;00m\u001b[38;5;21;01mutil\u001b[39;00m \u001b[38;5;28;01mimport\u001b[39;00m (\n\u001b[1;32m     26\u001b[0m     import_from_string,\n\u001b[1;32m     27\u001b[0m     batch_to_device,\n\u001b[0;32m   (...)\u001b[0m\n\u001b[1;32m     33\u001b[0m     get_device_name,\n\u001b[1;32m     34\u001b[0m )\n\u001b[0;32m---> 35\u001b[0m \u001b[38;5;28;01mfrom\u001b[39;00m \u001b[38;5;21;01m.\u001b[39;00m\u001b[38;5;21;01mmodels\u001b[39;00m \u001b[38;5;28;01mimport\u001b[39;00m Transformer, Pooling, Normalize\n\u001b[1;32m     36\u001b[0m \u001b[38;5;28;01mfrom\u001b[39;00m \u001b[38;5;21;01m.\u001b[39;00m\u001b[38;5;21;01mmodel_card_templates\u001b[39;00m \u001b[38;5;28;01mimport\u001b[39;00m ModelCardTemplate\n\u001b[1;32m     37\u001b[0m \u001b[38;5;28;01mfrom\u001b[39;00m \u001b[38;5;21;01m.\u001b[39;00m \u001b[38;5;28;01mimport\u001b[39;00m __version__\n",
            "File \u001b[0;32m~/miniconda3/envs/myenv/lib/python3.11/site-packages/sentence_transformers/models/__init__.py:1\u001b[0m\n\u001b[0;32m----> 1\u001b[0m \u001b[38;5;28;01mfrom\u001b[39;00m \u001b[38;5;21;01m.\u001b[39;00m\u001b[38;5;21;01mTransformer\u001b[39;00m \u001b[38;5;28;01mimport\u001b[39;00m Transformer\n\u001b[1;32m      2\u001b[0m \u001b[38;5;28;01mfrom\u001b[39;00m \u001b[38;5;21;01m.\u001b[39;00m\u001b[38;5;21;01mAsym\u001b[39;00m \u001b[38;5;28;01mimport\u001b[39;00m Asym\n\u001b[1;32m      3\u001b[0m \u001b[38;5;28;01mfrom\u001b[39;00m \u001b[38;5;21;01m.\u001b[39;00m\u001b[38;5;21;01mBoW\u001b[39;00m \u001b[38;5;28;01mimport\u001b[39;00m BoW\n",
            "File \u001b[0;32m~/miniconda3/envs/myenv/lib/python3.11/site-packages/sentence_transformers/models/Transformer.py:2\u001b[0m\n\u001b[1;32m      1\u001b[0m \u001b[38;5;28;01mfrom\u001b[39;00m \u001b[38;5;21;01mtorch\u001b[39;00m \u001b[38;5;28;01mimport\u001b[39;00m nn\n\u001b[0;32m----> 2\u001b[0m \u001b[38;5;28;01mfrom\u001b[39;00m \u001b[38;5;21;01mtransformers\u001b[39;00m \u001b[38;5;28;01mimport\u001b[39;00m AutoModel, AutoTokenizer, AutoConfig, T5Config, MT5Config\n\u001b[1;32m      3\u001b[0m \u001b[38;5;28;01mimport\u001b[39;00m \u001b[38;5;21;01mjson\u001b[39;00m\n\u001b[1;32m      4\u001b[0m \u001b[38;5;28;01mfrom\u001b[39;00m \u001b[38;5;21;01mtyping\u001b[39;00m \u001b[38;5;28;01mimport\u001b[39;00m List, Dict, Optional, Union, Tuple\n",
            "File \u001b[0;32m<frozen importlib._bootstrap>:1229\u001b[0m, in \u001b[0;36m_handle_fromlist\u001b[0;34m(module, fromlist, import_, recursive)\u001b[0m\n",
            "File \u001b[0;32m~/miniconda3/envs/myenv/lib/python3.11/site-packages/transformers/utils/import_utils.py:1380\u001b[0m, in \u001b[0;36m_LazyModule.__getattr__\u001b[0;34m(self, name)\u001b[0m\n\u001b[1;32m   1378\u001b[0m     value \u001b[38;5;241m=\u001b[39m \u001b[38;5;28mself\u001b[39m\u001b[38;5;241m.\u001b[39m_get_module(name)\n\u001b[1;32m   1379\u001b[0m \u001b[38;5;28;01melif\u001b[39;00m name \u001b[38;5;129;01min\u001b[39;00m \u001b[38;5;28mself\u001b[39m\u001b[38;5;241m.\u001b[39m_class_to_module\u001b[38;5;241m.\u001b[39mkeys():\n\u001b[0;32m-> 1380\u001b[0m     module \u001b[38;5;241m=\u001b[39m \u001b[38;5;28;43mself\u001b[39;49m\u001b[38;5;241;43m.\u001b[39;49m\u001b[43m_get_module\u001b[49m\u001b[43m(\u001b[49m\u001b[38;5;28;43mself\u001b[39;49m\u001b[38;5;241;43m.\u001b[39;49m\u001b[43m_class_to_module\u001b[49m\u001b[43m[\u001b[49m\u001b[43mname\u001b[49m\u001b[43m]\u001b[49m\u001b[43m)\u001b[49m\n\u001b[1;32m   1381\u001b[0m     value \u001b[38;5;241m=\u001b[39m \u001b[38;5;28mgetattr\u001b[39m(module, name)\n\u001b[1;32m   1382\u001b[0m \u001b[38;5;28;01melse\u001b[39;00m:\n",
            "File \u001b[0;32m~/miniconda3/envs/myenv/lib/python3.11/site-packages/transformers/utils/import_utils.py:1390\u001b[0m, in \u001b[0;36m_LazyModule._get_module\u001b[0;34m(self, module_name)\u001b[0m\n\u001b[1;32m   1388\u001b[0m \u001b[38;5;28;01mdef\u001b[39;00m \u001b[38;5;21m_get_module\u001b[39m(\u001b[38;5;28mself\u001b[39m, module_name: \u001b[38;5;28mstr\u001b[39m):\n\u001b[1;32m   1389\u001b[0m     \u001b[38;5;28;01mtry\u001b[39;00m:\n\u001b[0;32m-> 1390\u001b[0m         \u001b[38;5;28;01mreturn\u001b[39;00m \u001b[43mimportlib\u001b[49m\u001b[38;5;241;43m.\u001b[39;49m\u001b[43mimport_module\u001b[49m\u001b[43m(\u001b[49m\u001b[38;5;124;43m\"\u001b[39;49m\u001b[38;5;124;43m.\u001b[39;49m\u001b[38;5;124;43m\"\u001b[39;49m\u001b[43m \u001b[49m\u001b[38;5;241;43m+\u001b[39;49m\u001b[43m \u001b[49m\u001b[43mmodule_name\u001b[49m\u001b[43m,\u001b[49m\u001b[43m \u001b[49m\u001b[38;5;28;43mself\u001b[39;49m\u001b[38;5;241;43m.\u001b[39;49m\u001b[38;5;18;43m__name__\u001b[39;49m\u001b[43m)\u001b[49m\n\u001b[1;32m   1391\u001b[0m     \u001b[38;5;28;01mexcept\u001b[39;00m \u001b[38;5;167;01mException\u001b[39;00m \u001b[38;5;28;01mas\u001b[39;00m e:\n\u001b[1;32m   1392\u001b[0m         \u001b[38;5;28;01mraise\u001b[39;00m \u001b[38;5;167;01mRuntimeError\u001b[39;00m(\n\u001b[1;32m   1393\u001b[0m             \u001b[38;5;124mf\u001b[39m\u001b[38;5;124m\"\u001b[39m\u001b[38;5;124mFailed to import \u001b[39m\u001b[38;5;132;01m{\u001b[39;00m\u001b[38;5;28mself\u001b[39m\u001b[38;5;241m.\u001b[39m\u001b[38;5;18m__name__\u001b[39m\u001b[38;5;132;01m}\u001b[39;00m\u001b[38;5;124m.\u001b[39m\u001b[38;5;132;01m{\u001b[39;00mmodule_name\u001b[38;5;132;01m}\u001b[39;00m\u001b[38;5;124m because of the following error (look up to see its\u001b[39m\u001b[38;5;124m\"\u001b[39m\n\u001b[1;32m   1394\u001b[0m             \u001b[38;5;124mf\u001b[39m\u001b[38;5;124m\"\u001b[39m\u001b[38;5;124m traceback):\u001b[39m\u001b[38;5;130;01m\\n\u001b[39;00m\u001b[38;5;132;01m{\u001b[39;00me\u001b[38;5;132;01m}\u001b[39;00m\u001b[38;5;124m\"\u001b[39m\n\u001b[1;32m   1395\u001b[0m         ) \u001b[38;5;28;01mfrom\u001b[39;00m \u001b[38;5;21;01me\u001b[39;00m\n",
            "File \u001b[0;32m~/miniconda3/envs/myenv/lib/python3.11/importlib/__init__.py:126\u001b[0m, in \u001b[0;36mimport_module\u001b[0;34m(name, package)\u001b[0m\n\u001b[1;32m    124\u001b[0m             \u001b[38;5;28;01mbreak\u001b[39;00m\n\u001b[1;32m    125\u001b[0m         level \u001b[38;5;241m+\u001b[39m\u001b[38;5;241m=\u001b[39m \u001b[38;5;241m1\u001b[39m\n\u001b[0;32m--> 126\u001b[0m \u001b[38;5;28;01mreturn\u001b[39;00m \u001b[43m_bootstrap\u001b[49m\u001b[38;5;241;43m.\u001b[39;49m\u001b[43m_gcd_import\u001b[49m\u001b[43m(\u001b[49m\u001b[43mname\u001b[49m\u001b[43m[\u001b[49m\u001b[43mlevel\u001b[49m\u001b[43m:\u001b[49m\u001b[43m]\u001b[49m\u001b[43m,\u001b[49m\u001b[43m \u001b[49m\u001b[43mpackage\u001b[49m\u001b[43m,\u001b[49m\u001b[43m \u001b[49m\u001b[43mlevel\u001b[49m\u001b[43m)\u001b[49m\n",
            "File \u001b[0;32m~/miniconda3/envs/myenv/lib/python3.11/site-packages/transformers/models/__init__.py:15\u001b[0m\n\u001b[1;32m      1\u001b[0m \u001b[38;5;66;03m# Copyright 2020 The HuggingFace Team. All rights reserved.\u001b[39;00m\n\u001b[1;32m      2\u001b[0m \u001b[38;5;66;03m#\u001b[39;00m\n\u001b[1;32m      3\u001b[0m \u001b[38;5;66;03m# Licensed under the Apache License, Version 2.0 (the \"License\");\u001b[39;00m\n\u001b[0;32m   (...)\u001b[0m\n\u001b[1;32m     12\u001b[0m \u001b[38;5;66;03m# See the License for the specific language governing permissions and\u001b[39;00m\n\u001b[1;32m     13\u001b[0m \u001b[38;5;66;03m# limitations under the License.\u001b[39;00m\n\u001b[0;32m---> 15\u001b[0m \u001b[38;5;28;01mfrom\u001b[39;00m \u001b[38;5;21;01m.\u001b[39;00m \u001b[38;5;28;01mimport\u001b[39;00m (\n\u001b[1;32m     16\u001b[0m     albert,\n\u001b[1;32m     17\u001b[0m     align,\n\u001b[1;32m     18\u001b[0m     altclip,\n\u001b[1;32m     19\u001b[0m     audio_spectrogram_transformer,\n\u001b[1;32m     20\u001b[0m     auto,\n\u001b[1;32m     21\u001b[0m     autoformer,\n\u001b[1;32m     22\u001b[0m     bark,\n\u001b[1;32m     23\u001b[0m     bart,\n\u001b[1;32m     24\u001b[0m     barthez,\n\u001b[1;32m     25\u001b[0m     bartpho,\n\u001b[1;32m     26\u001b[0m     beit,\n\u001b[1;32m     27\u001b[0m     bert,\n\u001b[1;32m     28\u001b[0m     bert_generation,\n\u001b[1;32m     29\u001b[0m     bert_japanese,\n\u001b[1;32m     30\u001b[0m     bertweet,\n\u001b[1;32m     31\u001b[0m     big_bird,\n\u001b[1;32m     32\u001b[0m     bigbird_pegasus,\n\u001b[1;32m     33\u001b[0m     biogpt,\n\u001b[1;32m     34\u001b[0m     bit,\n\u001b[1;32m     35\u001b[0m     blenderbot,\n\u001b[1;32m     36\u001b[0m     blenderbot_small,\n\u001b[1;32m     37\u001b[0m     blip,\n\u001b[1;32m     38\u001b[0m     blip_2,\n\u001b[1;32m     39\u001b[0m     bloom,\n\u001b[1;32m     40\u001b[0m     bridgetower,\n\u001b[1;32m     41\u001b[0m     bros,\n\u001b[1;32m     42\u001b[0m     byt5,\n\u001b[1;32m     43\u001b[0m     camembert,\n\u001b[1;32m     44\u001b[0m     canine,\n\u001b[1;32m     45\u001b[0m     chinese_clip,\n\u001b[1;32m     46\u001b[0m     clap,\n\u001b[1;32m     47\u001b[0m     clip,\n\u001b[1;32m     48\u001b[0m     clipseg,\n\u001b[1;32m     49\u001b[0m     clvp,\n\u001b[1;32m     50\u001b[0m     code_llama,\n\u001b[1;32m     51\u001b[0m     codegen,\n\u001b[1;32m     52\u001b[0m     conditional_detr,\n\u001b[1;32m     53\u001b[0m     convbert,\n\u001b[1;32m     54\u001b[0m     convnext,\n\u001b[1;32m     55\u001b[0m     convnextv2,\n\u001b[1;32m     56\u001b[0m     cpm,\n\u001b[1;32m     57\u001b[0m     cpmant,\n\u001b[1;32m     58\u001b[0m     ctrl,\n\u001b[1;32m     59\u001b[0m     cvt,\n\u001b[1;32m     60\u001b[0m     data2vec,\n\u001b[1;32m     61\u001b[0m     deberta,\n\u001b[1;32m     62\u001b[0m     deberta_v2,\n\u001b[1;32m     63\u001b[0m     decision_transformer,\n\u001b[1;32m     64\u001b[0m     deformable_detr,\n\u001b[1;32m     65\u001b[0m     deit,\n\u001b[1;32m     66\u001b[0m     deprecated,\n\u001b[1;32m     67\u001b[0m     depth_anything,\n\u001b[1;32m     68\u001b[0m     deta,\n\u001b[1;32m     69\u001b[0m     detr,\n\u001b[1;32m     70\u001b[0m     dialogpt,\n\u001b[1;32m     71\u001b[0m     dinat,\n\u001b[1;32m     72\u001b[0m     dinov2,\n\u001b[1;32m     73\u001b[0m     distilbert,\n\u001b[1;32m     74\u001b[0m     dit,\n\u001b[1;32m     75\u001b[0m     donut,\n\u001b[1;32m     76\u001b[0m     dpr,\n\u001b[1;32m     77\u001b[0m     dpt,\n\u001b[1;32m     78\u001b[0m     efficientformer,\n\u001b[1;32m     79\u001b[0m     efficientnet,\n\u001b[1;32m     80\u001b[0m     electra,\n\u001b[1;32m     81\u001b[0m     encodec,\n\u001b[1;32m     82\u001b[0m     encoder_decoder,\n\u001b[1;32m     83\u001b[0m     ernie,\n\u001b[1;32m     84\u001b[0m     ernie_m,\n\u001b[1;32m     85\u001b[0m     esm,\n\u001b[1;32m     86\u001b[0m     falcon,\n\u001b[1;32m     87\u001b[0m     fastspeech2_conformer,\n\u001b[1;32m     88\u001b[0m     flaubert,\n\u001b[1;32m     89\u001b[0m     flava,\n\u001b[1;32m     90\u001b[0m     fnet,\n\u001b[1;32m     91\u001b[0m     focalnet,\n\u001b[1;32m     92\u001b[0m     fsmt,\n\u001b[1;32m     93\u001b[0m     funnel,\n\u001b[1;32m     94\u001b[0m     fuyu,\n\u001b[1;32m     95\u001b[0m     gemma,\n\u001b[1;32m     96\u001b[0m     git,\n\u001b[1;32m     97\u001b[0m     glpn,\n\u001b[1;32m     98\u001b[0m     gpt2,\n\u001b[1;32m     99\u001b[0m     gpt_bigcode,\n\u001b[1;32m    100\u001b[0m     gpt_neo,\n\u001b[1;32m    101\u001b[0m     gpt_neox,\n\u001b[1;32m    102\u001b[0m     gpt_neox_japanese,\n\u001b[1;32m    103\u001b[0m     gpt_sw3,\n\u001b[1;32m    104\u001b[0m     gptj,\n\u001b[1;32m    105\u001b[0m     gptsan_japanese,\n\u001b[1;32m    106\u001b[0m     graphormer,\n\u001b[1;32m    107\u001b[0m     groupvit,\n\u001b[1;32m    108\u001b[0m     herbert,\n\u001b[1;32m    109\u001b[0m     hubert,\n\u001b[1;32m    110\u001b[0m     ibert,\n\u001b[1;32m    111\u001b[0m     idefics,\n\u001b[1;32m    112\u001b[0m     imagegpt,\n\u001b[1;32m    113\u001b[0m     informer,\n\u001b[1;32m    114\u001b[0m     instructblip,\n\u001b[1;32m    115\u001b[0m     jukebox,\n\u001b[1;32m    116\u001b[0m     kosmos2,\n\u001b[1;32m    117\u001b[0m     layoutlm,\n\u001b[1;32m    118\u001b[0m     layoutlmv2,\n\u001b[1;32m    119\u001b[0m     layoutlmv3,\n\u001b[1;32m    120\u001b[0m     layoutxlm,\n\u001b[1;32m    121\u001b[0m     led,\n\u001b[1;32m    122\u001b[0m     levit,\n\u001b[1;32m    123\u001b[0m     lilt,\n\u001b[1;32m    124\u001b[0m     llama,\n\u001b[1;32m    125\u001b[0m     llava,\n\u001b[1;32m    126\u001b[0m     longformer,\n\u001b[1;32m    127\u001b[0m     longt5,\n\u001b[1;32m    128\u001b[0m     luke,\n\u001b[1;32m    129\u001b[0m     lxmert,\n\u001b[1;32m    130\u001b[0m     m2m_100,\n\u001b[1;32m    131\u001b[0m     marian,\n\u001b[1;32m    132\u001b[0m     markuplm,\n\u001b[1;32m    133\u001b[0m     mask2former,\n\u001b[1;32m    134\u001b[0m     maskformer,\n\u001b[1;32m    135\u001b[0m     mbart,\n\u001b[1;32m    136\u001b[0m     mbart50,\n\u001b[1;32m    137\u001b[0m     mega,\n\u001b[1;32m    138\u001b[0m     megatron_bert,\n\u001b[1;32m    139\u001b[0m     megatron_gpt2,\n\u001b[1;32m    140\u001b[0m     mgp_str,\n\u001b[1;32m    141\u001b[0m     mistral,\n\u001b[1;32m    142\u001b[0m     mixtral,\n\u001b[1;32m    143\u001b[0m     mluke,\n\u001b[1;32m    144\u001b[0m     mobilebert,\n\u001b[1;32m    145\u001b[0m     mobilenet_v1,\n\u001b[1;32m    146\u001b[0m     mobilenet_v2,\n\u001b[1;32m    147\u001b[0m     mobilevit,\n\u001b[1;32m    148\u001b[0m     mobilevitv2,\n\u001b[1;32m    149\u001b[0m     mpnet,\n\u001b[1;32m    150\u001b[0m     mpt,\n\u001b[1;32m    151\u001b[0m     mra,\n\u001b[1;32m    152\u001b[0m     mt5,\n\u001b[1;32m    153\u001b[0m     musicgen,\n\u001b[1;32m    154\u001b[0m     mvp,\n\u001b[1;32m    155\u001b[0m     nat,\n\u001b[1;32m    156\u001b[0m     nezha,\n\u001b[1;32m    157\u001b[0m     nllb,\n\u001b[1;32m    158\u001b[0m     nllb_moe,\n\u001b[1;32m    159\u001b[0m     nougat,\n\u001b[1;32m    160\u001b[0m     nystromformer,\n\u001b[1;32m    161\u001b[0m     oneformer,\n\u001b[1;32m    162\u001b[0m     openai,\n\u001b[1;32m    163\u001b[0m     opt,\n\u001b[1;32m    164\u001b[0m     owlv2,\n\u001b[1;32m    165\u001b[0m     owlvit,\n\u001b[1;32m    166\u001b[0m     patchtsmixer,\n\u001b[1;32m    167\u001b[0m     patchtst,\n\u001b[1;32m    168\u001b[0m     pegasus,\n\u001b[1;32m    169\u001b[0m     pegasus_x,\n\u001b[1;32m    170\u001b[0m     perceiver,\n\u001b[1;32m    171\u001b[0m     persimmon,\n\u001b[1;32m    172\u001b[0m     phi,\n\u001b[1;32m    173\u001b[0m     phobert,\n\u001b[1;32m    174\u001b[0m     pix2struct,\n\u001b[1;32m    175\u001b[0m     plbart,\n\u001b[1;32m    176\u001b[0m     poolformer,\n\u001b[1;32m    177\u001b[0m     pop2piano,\n\u001b[1;32m    178\u001b[0m     prophetnet,\n\u001b[1;32m    179\u001b[0m     pvt,\n\u001b[1;32m    180\u001b[0m     qdqbert,\n\u001b[1;32m    181\u001b[0m     qwen2,\n\u001b[1;32m    182\u001b[0m     rag,\n\u001b[1;32m    183\u001b[0m     realm,\n\u001b[1;32m    184\u001b[0m     reformer,\n\u001b[1;32m    185\u001b[0m     regnet,\n\u001b[1;32m    186\u001b[0m     rembert,\n\u001b[1;32m    187\u001b[0m     resnet,\n\u001b[1;32m    188\u001b[0m     roberta,\n\u001b[1;32m    189\u001b[0m     roberta_prelayernorm,\n\u001b[1;32m    190\u001b[0m     roc_bert,\n\u001b[1;32m    191\u001b[0m     roformer,\n\u001b[1;32m    192\u001b[0m     rwkv,\n\u001b[1;32m    193\u001b[0m     sam,\n\u001b[1;32m    194\u001b[0m     seamless_m4t,\n\u001b[1;32m    195\u001b[0m     seamless_m4t_v2,\n\u001b[1;32m    196\u001b[0m     segformer,\n\u001b[1;32m    197\u001b[0m     sew,\n\u001b[1;32m    198\u001b[0m     sew_d,\n\u001b[1;32m    199\u001b[0m     siglip,\n\u001b[1;32m    200\u001b[0m     speech_encoder_decoder,\n\u001b[1;32m    201\u001b[0m     speech_to_text,\n\u001b[1;32m    202\u001b[0m     speech_to_text_2,\n\u001b[1;32m    203\u001b[0m     speecht5,\n\u001b[1;32m    204\u001b[0m     splinter,\n\u001b[1;32m    205\u001b[0m     squeezebert,\n\u001b[1;32m    206\u001b[0m     stablelm,\n\u001b[1;32m    207\u001b[0m     swiftformer,\n\u001b[1;32m    208\u001b[0m     swin,\n\u001b[1;32m    209\u001b[0m     swin2sr,\n\u001b[1;32m    210\u001b[0m     swinv2,\n\u001b[1;32m    211\u001b[0m     switch_transformers,\n\u001b[1;32m    212\u001b[0m     t5,\n\u001b[1;32m    213\u001b[0m     table_transformer,\n\u001b[1;32m    214\u001b[0m     tapas,\n\u001b[1;32m    215\u001b[0m     time_series_transformer,\n\u001b[1;32m    216\u001b[0m     timesformer,\n\u001b[1;32m    217\u001b[0m     timm_backbone,\n\u001b[1;32m    218\u001b[0m     trocr,\n\u001b[1;32m    219\u001b[0m     tvlt,\n\u001b[1;32m    220\u001b[0m     tvp,\n\u001b[1;32m    221\u001b[0m     umt5,\n\u001b[1;32m    222\u001b[0m     unispeech,\n\u001b[1;32m    223\u001b[0m     unispeech_sat,\n\u001b[1;32m    224\u001b[0m     univnet,\n\u001b[1;32m    225\u001b[0m     upernet,\n\u001b[1;32m    226\u001b[0m     videomae,\n\u001b[1;32m    227\u001b[0m     vilt,\n\u001b[1;32m    228\u001b[0m     vipllava,\n\u001b[1;32m    229\u001b[0m     vision_encoder_decoder,\n\u001b[1;32m    230\u001b[0m     vision_text_dual_encoder,\n\u001b[1;32m    231\u001b[0m     visual_bert,\n\u001b[1;32m    232\u001b[0m     vit,\n\u001b[1;32m    233\u001b[0m     vit_hybrid,\n\u001b[1;32m    234\u001b[0m     vit_mae,\n\u001b[1;32m    235\u001b[0m     vit_msn,\n\u001b[1;32m    236\u001b[0m     vitdet,\n\u001b[1;32m    237\u001b[0m     vitmatte,\n\u001b[1;32m    238\u001b[0m     vits,\n\u001b[1;32m    239\u001b[0m     vivit,\n\u001b[1;32m    240\u001b[0m     wav2vec2,\n\u001b[1;32m    241\u001b[0m     wav2vec2_bert,\n\u001b[1;32m    242\u001b[0m     wav2vec2_conformer,\n\u001b[1;32m    243\u001b[0m     wav2vec2_phoneme,\n\u001b[1;32m    244\u001b[0m     wav2vec2_with_lm,\n\u001b[1;32m    245\u001b[0m     wavlm,\n\u001b[1;32m    246\u001b[0m     whisper,\n\u001b[1;32m    247\u001b[0m     x_clip,\n\u001b[1;32m    248\u001b[0m     xglm,\n\u001b[1;32m    249\u001b[0m     xlm,\n\u001b[1;32m    250\u001b[0m     xlm_prophetnet,\n\u001b[1;32m    251\u001b[0m     xlm_roberta,\n\u001b[1;32m    252\u001b[0m     xlm_roberta_xl,\n\u001b[1;32m    253\u001b[0m     xlnet,\n\u001b[1;32m    254\u001b[0m     xmod,\n\u001b[1;32m    255\u001b[0m     yolos,\n\u001b[1;32m    256\u001b[0m     yoso,\n\u001b[1;32m    257\u001b[0m )\n",
            "File \u001b[0;32m<frozen importlib._bootstrap>:1176\u001b[0m, in \u001b[0;36m_find_and_load\u001b[0;34m(name, import_)\u001b[0m\n",
            "File \u001b[0;32m<frozen importlib._bootstrap>:1147\u001b[0m, in \u001b[0;36m_find_and_load_unlocked\u001b[0;34m(name, import_)\u001b[0m\n",
            "File \u001b[0;32m<frozen importlib._bootstrap>:703\u001b[0m, in \u001b[0;36m_load_unlocked\u001b[0;34m(spec)\u001b[0m\n",
            "File \u001b[0;32m<frozen importlib._bootstrap>:244\u001b[0m, in \u001b[0;36m_verbose_message\u001b[0;34m(message, verbosity, *args)\u001b[0m\n",
            "\u001b[0;31mKeyboardInterrupt\u001b[0m: "
          ]
        }
      ],
      "source": [
        "#importing necessary libraries\n",
        "\n",
        "import pandas as pd\n",
        "from sentence_transformers import SentenceTransformer, models, InputExample, losses\n",
        "from torch.utils.data import DataLoader\n"
      ]
    },
    {
      "cell_type": "code",
      "execution_count": null,
      "metadata": {
        "id": "pixb3XSjXaqm"
      },
      "outputs": [],
      "source": [
        "'''creating a model object with a simple architecture of a pretrained model and a pooling layer after it'''\n",
        "\n",
        "## Step 1: use an existing language model\n",
        "word_embedding_model = models.Transformer('distilroberta-base')\n",
        "\n",
        "## Step 2: use a pool function over the token embeddings\n",
        "pooling_model = models.Pooling(word_embedding_model.get_word_embedding_dimension())\n",
        "\n",
        "## Join steps 1 and 2 using the modules argument\n",
        "model = SentenceTransformer(modules=[word_embedding_model, pooling_model])"
      ]
    },
    {
      "cell_type": "markdown",
      "metadata": {
        "id": "HYB2Vtvga1Zh"
      },
      "source": [
        "## Preparing the dataset for training a Sentence Transformers model\n"
      ]
    },
    {
      "cell_type": "markdown",
      "metadata": {
        "id": "0RfA9FBznf2T"
      },
      "source": [
        "Looks like dataset['train']['set'] is used as the training data. It is a list of dictionaries. In the following section the dataloader will be defined using the musiccaps data."
      ]
    },
    {
      "cell_type": "code",
      "execution_count": 2,
      "metadata": {
        "id": "ao1aWDBjp4Rk"
      },
      "outputs": [],
      "source": [
        "# triplets_train_lp_musiccaps_msd.csv has 3 columns query, pos and negative and has captions of music\n",
        "music_corpus = pd.read_csv('/home/mendu/Thesis/data/musiccaps/triplets_train_lp_musiccaps_msd.csv', index_col = [0])"
      ]
    },
    {
      "cell_type": "code",
      "execution_count": 3,
      "metadata": {
        "colab": {
          "base_uri": "https://localhost:8080/",
          "height": 770
        },
        "id": "t0KmIbIQtLFi",
        "outputId": "3f554670-7dbf-4cc9-e0d2-1bba7f87f3be"
      },
      "outputs": [
        {
          "data": {
            "text/html": [
              "<div>\n",
              "<style scoped>\n",
              "    .dataframe tbody tr th:only-of-type {\n",
              "        vertical-align: middle;\n",
              "    }\n",
              "\n",
              "    .dataframe tbody tr th {\n",
              "        vertical-align: top;\n",
              "    }\n",
              "\n",
              "    .dataframe thead th {\n",
              "        text-align: right;\n",
              "    }\n",
              "</style>\n",
              "<table border=\"1\" class=\"dataframe\">\n",
              "  <thead>\n",
              "    <tr style=\"text-align: right;\">\n",
              "      <th></th>\n",
              "      <th>query</th>\n",
              "      <th>pos</th>\n",
              "      <th>neg</th>\n",
              "    </tr>\n",
              "  </thead>\n",
              "  <tbody>\n",
              "    <tr>\n",
              "      <th>0</th>\n",
              "      <td>This aggressive, confrontational, and energeti...</td>\n",
              "      <td>This song is an explosive and cathartic anthem...</td>\n",
              "      <td>The song is a hardcore gangsta rap with heavy ...</td>\n",
              "    </tr>\n",
              "    <tr>\n",
              "      <th>1</th>\n",
              "      <td>This alternative indie rock song combines gidd...</td>\n",
              "      <td>The song is a playful and fun alternative indi...</td>\n",
              "      <td>This song speaks to a global audience, transce...</td>\n",
              "    </tr>\n",
              "    <tr>\n",
              "      <th>2</th>\n",
              "      <td>This song's Nashville Sound Countrypolitan ble...</td>\n",
              "      <td>A melancholic, reflective, and bittersweet cou...</td>\n",
              "      <td>The song features a blend of various cultural ...</td>\n",
              "    </tr>\n",
              "    <tr>\n",
              "      <th>3</th>\n",
              "      <td>Get lost in the captivating sound of alternati...</td>\n",
              "      <td>An upbeat and energetic indie-pop rock song wi...</td>\n",
              "      <td>The song is a representation of the hip-hop su...</td>\n",
              "    </tr>\n",
              "    <tr>\n",
              "      <th>4</th>\n",
              "      <td>Take a nostalgic journey down memory lane with...</td>\n",
              "      <td>A sentimental and reflective country pop song ...</td>\n",
              "      <td>This electrifying jazz fusion track is a celeb...</td>\n",
              "    </tr>\n",
              "    <tr>\n",
              "      <th>...</th>\n",
              "      <td>...</td>\n",
              "      <td>...</td>\n",
              "      <td>...</td>\n",
              "    </tr>\n",
              "    <tr>\n",
              "      <th>444860</th>\n",
              "      <td>Get ready to experience the perfect fusion of ...</td>\n",
              "      <td>The song has a catchy beat and upbeat rock ins...</td>\n",
              "      <td>Smells Like Teen Spirit by Nirvana is a grunge...</td>\n",
              "    </tr>\n",
              "    <tr>\n",
              "      <th>444861</th>\n",
              "      <td>This mind-bending tune combines the raw energy...</td>\n",
              "      <td>A genre-bending song that blends psychedelic g...</td>\n",
              "      <td>This electronic song is a chill and mellow tun...</td>\n",
              "    </tr>\n",
              "    <tr>\n",
              "      <th>444862</th>\n",
              "      <td>This easy listening instrumental pop track is ...</td>\n",
              "      <td>This instrumental pop-jazz song is a laid-back...</td>\n",
              "      <td>This song is a reflective and introspective ex...</td>\n",
              "    </tr>\n",
              "    <tr>\n",
              "      <th>444863</th>\n",
              "      <td>This electronic techno track incorporates elem...</td>\n",
              "      <td>This electronic song is a combination of techn...</td>\n",
              "      <td>This house-inspired dance track will get you m...</td>\n",
              "    </tr>\n",
              "    <tr>\n",
              "      <th>444864</th>\n",
              "      <td>This lively and stylish worldbeat song blends ...</td>\n",
              "      <td>This song is a stylish and freewheeling celebr...</td>\n",
              "      <td>This song is a sophisticated and ambitious fus...</td>\n",
              "    </tr>\n",
              "  </tbody>\n",
              "</table>\n",
              "<p>444865 rows × 3 columns</p>\n",
              "</div>"
            ],
            "text/plain": [
              "                                                    query  \\\n",
              "0       This aggressive, confrontational, and energeti...   \n",
              "1       This alternative indie rock song combines gidd...   \n",
              "2       This song's Nashville Sound Countrypolitan ble...   \n",
              "3       Get lost in the captivating sound of alternati...   \n",
              "4       Take a nostalgic journey down memory lane with...   \n",
              "...                                                   ...   \n",
              "444860  Get ready to experience the perfect fusion of ...   \n",
              "444861  This mind-bending tune combines the raw energy...   \n",
              "444862  This easy listening instrumental pop track is ...   \n",
              "444863  This electronic techno track incorporates elem...   \n",
              "444864  This lively and stylish worldbeat song blends ...   \n",
              "\n",
              "                                                      pos  \\\n",
              "0       This song is an explosive and cathartic anthem...   \n",
              "1       The song is a playful and fun alternative indi...   \n",
              "2       A melancholic, reflective, and bittersweet cou...   \n",
              "3       An upbeat and energetic indie-pop rock song wi...   \n",
              "4       A sentimental and reflective country pop song ...   \n",
              "...                                                   ...   \n",
              "444860  The song has a catchy beat and upbeat rock ins...   \n",
              "444861  A genre-bending song that blends psychedelic g...   \n",
              "444862  This instrumental pop-jazz song is a laid-back...   \n",
              "444863  This electronic song is a combination of techn...   \n",
              "444864  This song is a stylish and freewheeling celebr...   \n",
              "\n",
              "                                                      neg  \n",
              "0       The song is a hardcore gangsta rap with heavy ...  \n",
              "1       This song speaks to a global audience, transce...  \n",
              "2       The song features a blend of various cultural ...  \n",
              "3       The song is a representation of the hip-hop su...  \n",
              "4       This electrifying jazz fusion track is a celeb...  \n",
              "...                                                   ...  \n",
              "444860  Smells Like Teen Spirit by Nirvana is a grunge...  \n",
              "444861  This electronic song is a chill and mellow tun...  \n",
              "444862  This song is a reflective and introspective ex...  \n",
              "444863  This house-inspired dance track will get you m...  \n",
              "444864  This song is a sophisticated and ambitious fus...  \n",
              "\n",
              "[444865 rows x 3 columns]"
            ]
          },
          "execution_count": 3,
          "metadata": {},
          "output_type": "execute_result"
        }
      ],
      "source": [
        "music_corpus"
      ]
    },
    {
      "cell_type": "code",
      "execution_count": 5,
      "metadata": {
        "colab": {
          "base_uri": "https://localhost:8080/"
        },
        "id": "_NUPcFgWv1jh",
        "outputId": "151abfd7-c49d-43c3-c9fb-8d9b34c334ad"
      },
      "outputs": [
        {
          "name": "stdout",
          "output_type": "stream",
          "text": [
            "This aggressive, confrontational, and energetic alternative indie rock song boasts self-conscious, rowdy bravado with heavy punk and pop rock influence, filled with passionate, confident, and gutsy vocals, as well as swaggering urgency, and anguished distraught feelings. Its cathartic and rebellious lyrics, dramatic delivery, and street-smart attitude make it a perfect fit for anyone seeking a cutting-edge, alternative pop rock, punk rock, or hardcore punk sound, while also featuring a summery, knotty, volatile, and fiery new wave vibe.\n",
            "This alternative indie rock song combines giddy rhythms and crunchy guitar riffs with angst-ridden lyrics, evoking anguished distraught emotions while still maintaining a playful and fun vibe that's perfect for hanging out or driving around town. The mix of punk pop and pop rock influences creates a unique sound that's somewhere between alternative pop rock and rock, making it perfect for fans of all genres.\n",
            "This song's Nashville Sound Countrypolitan blends together an array of emotions that captures the essence of guys night out with its rollicking yet laid-back mellow sound, mixed with a poignant yearning to make meaningful connections through both humorous and melancholy storytelling. The lyrics are literate and earthy with a traditional country vibe, while also touching on progressive country themes. The autumnal and late-night setting sets the scene for reflective, bittersweet moments that evoke a restless and searching spirit. This organic composition is wistful, dramatic, and plaintive, making it the perfect addition to any country folk playlist.\n",
            "Get lost in the captivating sound of alternative indie rock fused with pop rock and indie vibes that will leave you wanting more.\n",
            "Take a nostalgic journey down memory lane with this sentimental pop rock ballad perfect for day driving on a lazy Sunday afternoon, delicately blending soft rock and gentle country pop to create a melancholic yet relaxing atmosphere, where the intimate lyrics and reflective tone captures the essence of classic country music.\n"
          ]
        }
      ],
      "source": [
        "for index, row in music_corpus.iterrows():\n",
        "    if index >= 5:\n",
        "        break\n",
        "    print(row['query'])"
      ]
    },
    {
      "cell_type": "code",
      "execution_count": 6,
      "metadata": {
        "id": "JwlH9Yllvqcv"
      },
      "outputs": [],
      "source": [
        "\n",
        "train_examples = []\n",
        "train_data = music_corpus\n",
        "# For agility we only 1/4 of our available data\n",
        "# there are 444865 dictionaries in the train_data\n",
        "# Only using 50k dictionaries\n",
        "n_examples = music_corpus.shape[0] // 8\n",
        "\n",
        "for index, row in music_corpus.iterrows():\n",
        "    # if index >= n_examples:\n",
        "    #     break\n",
        "    train_examples.append(InputExample(texts=[row['query'], row['pos'], row['neg']]))"
      ]
    },
    {
      "cell_type": "code",
      "execution_count": 7,
      "metadata": {},
      "outputs": [
        {
          "data": {
            "text/plain": [
              "444865"
            ]
          },
          "execution_count": 7,
          "metadata": {},
          "output_type": "execute_result"
        }
      ],
      "source": [
        "len(train_examples)"
      ]
    },
    {
      "cell_type": "markdown",
      "metadata": {
        "id": "6qVYjIIOyppB"
      },
      "source": [
        "We wrap our training dataset into a Pytorch `Dataloader` to shuffle examples and get batch sizes."
      ]
    },
    {
      "cell_type": "code",
      "execution_count": 8,
      "metadata": {
        "id": "gbrXjod4dhJW"
      },
      "outputs": [],
      "source": [
        "train_dataloader = DataLoader(train_examples, shuffle=True, batch_size=16)"
      ]
    },
    {
      "cell_type": "markdown",
      "metadata": {
        "id": "0HeVHzC-8bbe"
      },
      "source": [
        "## Loss functions for training a Sentence Transformers model\n"
      ]
    },
    {
      "cell_type": "code",
      "execution_count": 9,
      "metadata": {
        "id": "t1gFBA6EFK10"
      },
      "outputs": [],
      "source": [
        "train_loss = losses.TripletLoss(model=model)"
      ]
    },
    {
      "cell_type": "markdown",
      "metadata": {
        "id": "QTSVaysgVHZk"
      },
      "source": [
        "## How to train a Sentence Transformer model\n"
      ]
    },
    {
      "cell_type": "code",
      "execution_count": 10,
      "metadata": {
        "id": "rBBR6OseFW0J"
      },
      "outputs": [],
      "source": [
        "num_epochs = 10\n",
        "\n",
        "warmup_steps = int(len(train_dataloader) * num_epochs * 0.1) #10% of train data"
      ]
    },
    {
      "cell_type": "markdown",
      "metadata": {
        "id": "Y17niC39k9S7"
      },
      "source": [
        "Training takes around 45 minutes with a Google Colab Pro account. Decrease the number of epochs and examples if you are using a free account or no GPU."
      ]
    },
    {
      "cell_type": "code",
      "execution_count": 11,
      "metadata": {
        "id": "7Ana59pTFjKn"
      },
      "outputs": [
        {
          "data": {
            "application/vnd.jupyter.widget-view+json": {
              "model_id": "688e45d949514e5993dd9426e2fd2bbb",
              "version_major": 2,
              "version_minor": 0
            },
            "text/plain": [
              "Epoch:   0%|          | 0/10 [00:00<?, ?it/s]"
            ]
          },
          "metadata": {},
          "output_type": "display_data"
        },
        {
          "data": {
            "application/vnd.jupyter.widget-view+json": {
              "model_id": "ca504fed1e084cf585eda9a1ddca5627",
              "version_major": 2,
              "version_minor": 0
            },
            "text/plain": [
              "Iteration:   0%|          | 0/27805 [00:00<?, ?it/s]"
            ]
          },
          "metadata": {},
          "output_type": "display_data"
        },
        {
          "data": {
            "application/vnd.jupyter.widget-view+json": {
              "model_id": "74a06925b6524a378d006f45f34bdedf",
              "version_major": 2,
              "version_minor": 0
            },
            "text/plain": [
              "Iteration:   0%|          | 0/27805 [00:00<?, ?it/s]"
            ]
          },
          "metadata": {},
          "output_type": "display_data"
        },
        {
          "data": {
            "application/vnd.jupyter.widget-view+json": {
              "model_id": "9831f1ea16d743b69e974de717583e6b",
              "version_major": 2,
              "version_minor": 0
            },
            "text/plain": [
              "Iteration:   0%|          | 0/27805 [00:00<?, ?it/s]"
            ]
          },
          "metadata": {},
          "output_type": "display_data"
        },
        {
          "data": {
            "application/vnd.jupyter.widget-view+json": {
              "model_id": "29f44d94ad924950bf979a31077a7d8f",
              "version_major": 2,
              "version_minor": 0
            },
            "text/plain": [
              "Iteration:   0%|          | 0/27805 [00:00<?, ?it/s]"
            ]
          },
          "metadata": {},
          "output_type": "display_data"
        },
        {
          "data": {
            "application/vnd.jupyter.widget-view+json": {
              "model_id": "0a1e423b5e3e41fe91426655f7f15d3f",
              "version_major": 2,
              "version_minor": 0
            },
            "text/plain": [
              "Iteration:   0%|          | 0/27805 [00:00<?, ?it/s]"
            ]
          },
          "metadata": {},
          "output_type": "display_data"
        },
        {
          "data": {
            "application/vnd.jupyter.widget-view+json": {
              "model_id": "9e828f9acba441aeb491ce8dfc81a5fe",
              "version_major": 2,
              "version_minor": 0
            },
            "text/plain": [
              "Iteration:   0%|          | 0/27805 [00:00<?, ?it/s]"
            ]
          },
          "metadata": {},
          "output_type": "display_data"
        },
        {
          "data": {
            "application/vnd.jupyter.widget-view+json": {
              "model_id": "e2e6bebe261a4d2d800de5a1584b0ac5",
              "version_major": 2,
              "version_minor": 0
            },
            "text/plain": [
              "Iteration:   0%|          | 0/27805 [00:00<?, ?it/s]"
            ]
          },
          "metadata": {},
          "output_type": "display_data"
        },
        {
          "data": {
            "application/vnd.jupyter.widget-view+json": {
              "model_id": "6805673f6c1a48c08d49484133ade54b",
              "version_major": 2,
              "version_minor": 0
            },
            "text/plain": [
              "Iteration:   0%|          | 0/27805 [00:00<?, ?it/s]"
            ]
          },
          "metadata": {},
          "output_type": "display_data"
        },
        {
          "data": {
            "application/vnd.jupyter.widget-view+json": {
              "model_id": "f19c54740b624a75bb949385d2da7e78",
              "version_major": 2,
              "version_minor": 0
            },
            "text/plain": [
              "Iteration:   0%|          | 0/27805 [00:00<?, ?it/s]"
            ]
          },
          "metadata": {},
          "output_type": "display_data"
        },
        {
          "data": {
            "application/vnd.jupyter.widget-view+json": {
              "model_id": "95ac34623cbe4cd2a2529ee871c93c31",
              "version_major": 2,
              "version_minor": 0
            },
            "text/plain": [
              "Iteration:   0%|          | 0/27805 [00:00<?, ?it/s]"
            ]
          },
          "metadata": {},
          "output_type": "display_data"
        }
      ],
      "source": [
        "history = model.fit(train_objectives=[(train_dataloader, train_loss)],\n",
        "          epochs=num_epochs,\n",
        "          warmup_steps=warmup_steps)\n",
        "#Maybe check for model.run/ model.forward to make this a sentence embedding"
      ]
    },
    {
      "cell_type": "code",
      "execution_count": 12,
      "metadata": {},
      "outputs": [],
      "source": [
        "model.save(path = '/home/mendu/Thesis/data/musiccaps/new_embedding_model',\n",
        "           model_name = 'sentence_embedding_finetunned_on_musiccaps',\n",
        "           train_datasets = ['triplets_train_lp_musiccaps_msd'])"
      ]
    },
    {
      "cell_type": "code",
      "execution_count": 13,
      "metadata": {},
      "outputs": [],
      "source": [
        "# Load the fine-tuned model\n",
        "# model_ = SentenceTransformer('/home/mendu/Thesis/data/musiccaps/embedding_model')"
      ]
    },
    {
      "cell_type": "code",
      "execution_count": 14,
      "metadata": {},
      "outputs": [],
      "source": [
        "# model_"
      ]
    },
    {
      "cell_type": "code",
      "execution_count": null,
      "metadata": {},
      "outputs": [],
      "source": []
    }
  ],
  "metadata": {
    "accelerator": "GPU",
    "colab": {
      "gpuType": "T4",
      "name": "Training and Fine-Tuning Sentence Transformers Models - Notebook Companion.ipynb",
      "provenance": []
    },
    "kernelspec": {
      "display_name": "Python 3",
      "name": "python3"
    },
    "language_info": {
      "codemirror_mode": {
        "name": "ipython",
        "version": 3
      },
      "file_extension": ".py",
      "mimetype": "text/x-python",
      "name": "python",
      "nbconvert_exporter": "python",
      "pygments_lexer": "ipython3",
      "version": "3.1.undefined"
    },
    "widgets": {
      "application/vnd.jupyter.widget-state+json": {
        "011e4835973341679c695826d7254415": {
          "model_module": "@jupyter-widgets/base",
          "model_module_version": "1.2.0",
          "model_name": "LayoutModel",
          "state": {
            "_model_module": "@jupyter-widgets/base",
            "_model_module_version": "1.2.0",
            "_model_name": "LayoutModel",
            "_view_count": null,
            "_view_module": "@jupyter-widgets/base",
            "_view_module_version": "1.2.0",
            "_view_name": "LayoutView",
            "align_content": null,
            "align_items": null,
            "align_self": null,
            "border": null,
            "bottom": null,
            "display": null,
            "flex": null,
            "flex_flow": null,
            "grid_area": null,
            "grid_auto_columns": null,
            "grid_auto_flow": null,
            "grid_auto_rows": null,
            "grid_column": null,
            "grid_gap": null,
            "grid_row": null,
            "grid_template_areas": null,
            "grid_template_columns": null,
            "grid_template_rows": null,
            "height": null,
            "justify_content": null,
            "justify_items": null,
            "left": null,
            "margin": null,
            "max_height": null,
            "max_width": null,
            "min_height": null,
            "min_width": null,
            "object_fit": null,
            "object_position": null,
            "order": null,
            "overflow": null,
            "overflow_x": null,
            "overflow_y": null,
            "padding": null,
            "right": null,
            "top": null,
            "visibility": null,
            "width": null
          }
        },
        "06bbc6df8e67486084cc338c07f1a36a": {
          "model_module": "@jupyter-widgets/controls",
          "model_module_version": "1.5.0",
          "model_name": "HTMLModel",
          "state": {
            "_dom_classes": [],
            "_model_module": "@jupyter-widgets/controls",
            "_model_module_version": "1.5.0",
            "_model_name": "HTMLModel",
            "_view_count": null,
            "_view_module": "@jupyter-widgets/controls",
            "_view_module_version": "1.5.0",
            "_view_name": "HTMLView",
            "description": "",
            "description_tooltip": null,
            "layout": "IPY_MODEL_e669b428205e464d9b0946a9625b9a69",
            "placeholder": "​",
            "style": "IPY_MODEL_66cb216989fa405587cc5da447175d3e",
            "value": " 101762/0 [00:03&lt;00:00, 38042.90 examples/s]"
          }
        },
        "0fa172ffb19444349354c76043745e9d": {
          "model_module": "@jupyter-widgets/controls",
          "model_module_version": "1.5.0",
          "model_name": "FloatProgressModel",
          "state": {
            "_dom_classes": [],
            "_model_module": "@jupyter-widgets/controls",
            "_model_module_version": "1.5.0",
            "_model_name": "FloatProgressModel",
            "_view_count": null,
            "_view_module": "@jupyter-widgets/controls",
            "_view_module_version": "1.5.0",
            "_view_name": "ProgressView",
            "bar_style": "success",
            "description": "",
            "description_tooltip": null,
            "layout": "IPY_MODEL_96700da816ae40e999cfec09cadc4b63",
            "max": 183431436,
            "min": 0,
            "orientation": "horizontal",
            "style": "IPY_MODEL_3bac3c49536c401582f5d9310dd34866",
            "value": 183431436
          }
        },
        "245cc3aba52e4941b2d474cc56717000": {
          "model_module": "@jupyter-widgets/base",
          "model_module_version": "1.2.0",
          "model_name": "LayoutModel",
          "state": {
            "_model_module": "@jupyter-widgets/base",
            "_model_module_version": "1.2.0",
            "_model_name": "LayoutModel",
            "_view_count": null,
            "_view_module": "@jupyter-widgets/base",
            "_view_module_version": "1.2.0",
            "_view_name": "LayoutView",
            "align_content": null,
            "align_items": null,
            "align_self": null,
            "border": null,
            "bottom": null,
            "display": null,
            "flex": null,
            "flex_flow": null,
            "grid_area": null,
            "grid_auto_columns": null,
            "grid_auto_flow": null,
            "grid_auto_rows": null,
            "grid_column": null,
            "grid_gap": null,
            "grid_row": null,
            "grid_template_areas": null,
            "grid_template_columns": null,
            "grid_template_rows": null,
            "height": null,
            "justify_content": null,
            "justify_items": null,
            "left": null,
            "margin": null,
            "max_height": null,
            "max_width": null,
            "min_height": null,
            "min_width": null,
            "object_fit": null,
            "object_position": null,
            "order": null,
            "overflow": null,
            "overflow_x": null,
            "overflow_y": null,
            "padding": null,
            "right": null,
            "top": null,
            "visibility": null,
            "width": null
          }
        },
        "3bac3c49536c401582f5d9310dd34866": {
          "model_module": "@jupyter-widgets/controls",
          "model_module_version": "1.5.0",
          "model_name": "ProgressStyleModel",
          "state": {
            "_model_module": "@jupyter-widgets/controls",
            "_model_module_version": "1.5.0",
            "_model_name": "ProgressStyleModel",
            "_view_count": null,
            "_view_module": "@jupyter-widgets/base",
            "_view_module_version": "1.2.0",
            "_view_name": "StyleView",
            "bar_color": null,
            "description_width": ""
          }
        },
        "3d0215b180e44c8a8cd2ae7082fca19a": {
          "model_module": "@jupyter-widgets/controls",
          "model_module_version": "1.5.0",
          "model_name": "DescriptionStyleModel",
          "state": {
            "_model_module": "@jupyter-widgets/controls",
            "_model_module_version": "1.5.0",
            "_model_name": "DescriptionStyleModel",
            "_view_count": null,
            "_view_module": "@jupyter-widgets/base",
            "_view_module_version": "1.2.0",
            "_view_name": "StyleView",
            "description_width": ""
          }
        },
        "518cf71182dc4c43bdd2ba343b5d1022": {
          "model_module": "@jupyter-widgets/controls",
          "model_module_version": "1.5.0",
          "model_name": "HBoxModel",
          "state": {
            "_dom_classes": [],
            "_model_module": "@jupyter-widgets/controls",
            "_model_module_version": "1.5.0",
            "_model_name": "HBoxModel",
            "_view_count": null,
            "_view_module": "@jupyter-widgets/controls",
            "_view_module_version": "1.5.0",
            "_view_name": "HBoxView",
            "box_style": "",
            "children": [
              "IPY_MODEL_8e0986f0204448c4b6251fc74bfbd955",
              "IPY_MODEL_aa39b3baed304891a9979605136ffcdb",
              "IPY_MODEL_06bbc6df8e67486084cc338c07f1a36a"
            ],
            "layout": "IPY_MODEL_011e4835973341679c695826d7254415"
          }
        },
        "544f1fa7fcf24950984df115e4ebb439": {
          "model_module": "@jupyter-widgets/controls",
          "model_module_version": "1.5.0",
          "model_name": "DescriptionStyleModel",
          "state": {
            "_model_module": "@jupyter-widgets/controls",
            "_model_module_version": "1.5.0",
            "_model_name": "DescriptionStyleModel",
            "_view_count": null,
            "_view_module": "@jupyter-widgets/base",
            "_view_module_version": "1.2.0",
            "_view_name": "StyleView",
            "description_width": ""
          }
        },
        "5a4558d9d056454bba18ab2b663b214c": {
          "model_module": "@jupyter-widgets/base",
          "model_module_version": "1.2.0",
          "model_name": "LayoutModel",
          "state": {
            "_model_module": "@jupyter-widgets/base",
            "_model_module_version": "1.2.0",
            "_model_name": "LayoutModel",
            "_view_count": null,
            "_view_module": "@jupyter-widgets/base",
            "_view_module_version": "1.2.0",
            "_view_name": "LayoutView",
            "align_content": null,
            "align_items": null,
            "align_self": null,
            "border": null,
            "bottom": null,
            "display": null,
            "flex": null,
            "flex_flow": null,
            "grid_area": null,
            "grid_auto_columns": null,
            "grid_auto_flow": null,
            "grid_auto_rows": null,
            "grid_column": null,
            "grid_gap": null,
            "grid_row": null,
            "grid_template_areas": null,
            "grid_template_columns": null,
            "grid_template_rows": null,
            "height": null,
            "justify_content": null,
            "justify_items": null,
            "left": null,
            "margin": null,
            "max_height": null,
            "max_width": null,
            "min_height": null,
            "min_width": null,
            "object_fit": null,
            "object_position": null,
            "order": null,
            "overflow": null,
            "overflow_x": null,
            "overflow_y": null,
            "padding": null,
            "right": null,
            "top": null,
            "visibility": null,
            "width": null
          }
        },
        "5e5da5953c3f49f0a0fb861fb5a437e0": {
          "model_module": "@jupyter-widgets/controls",
          "model_module_version": "1.5.0",
          "model_name": "ProgressStyleModel",
          "state": {
            "_model_module": "@jupyter-widgets/controls",
            "_model_module_version": "1.5.0",
            "_model_name": "ProgressStyleModel",
            "_view_count": null,
            "_view_module": "@jupyter-widgets/base",
            "_view_module_version": "1.2.0",
            "_view_name": "StyleView",
            "bar_color": null,
            "description_width": ""
          }
        },
        "5fe29f3c6ac2426da89eef1671cf3a9d": {
          "model_module": "@jupyter-widgets/base",
          "model_module_version": "1.2.0",
          "model_name": "LayoutModel",
          "state": {
            "_model_module": "@jupyter-widgets/base",
            "_model_module_version": "1.2.0",
            "_model_name": "LayoutModel",
            "_view_count": null,
            "_view_module": "@jupyter-widgets/base",
            "_view_module_version": "1.2.0",
            "_view_name": "LayoutView",
            "align_content": null,
            "align_items": null,
            "align_self": null,
            "border": null,
            "bottom": null,
            "display": null,
            "flex": null,
            "flex_flow": null,
            "grid_area": null,
            "grid_auto_columns": null,
            "grid_auto_flow": null,
            "grid_auto_rows": null,
            "grid_column": null,
            "grid_gap": null,
            "grid_row": null,
            "grid_template_areas": null,
            "grid_template_columns": null,
            "grid_template_rows": null,
            "height": null,
            "justify_content": null,
            "justify_items": null,
            "left": null,
            "margin": null,
            "max_height": null,
            "max_width": null,
            "min_height": null,
            "min_width": null,
            "object_fit": null,
            "object_position": null,
            "order": null,
            "overflow": null,
            "overflow_x": null,
            "overflow_y": null,
            "padding": null,
            "right": null,
            "top": null,
            "visibility": null,
            "width": null
          }
        },
        "61b02dec22014550bee164a5ddda8734": {
          "model_module": "@jupyter-widgets/base",
          "model_module_version": "1.2.0",
          "model_name": "LayoutModel",
          "state": {
            "_model_module": "@jupyter-widgets/base",
            "_model_module_version": "1.2.0",
            "_model_name": "LayoutModel",
            "_view_count": null,
            "_view_module": "@jupyter-widgets/base",
            "_view_module_version": "1.2.0",
            "_view_name": "LayoutView",
            "align_content": null,
            "align_items": null,
            "align_self": null,
            "border": null,
            "bottom": null,
            "display": null,
            "flex": null,
            "flex_flow": null,
            "grid_area": null,
            "grid_auto_columns": null,
            "grid_auto_flow": null,
            "grid_auto_rows": null,
            "grid_column": null,
            "grid_gap": null,
            "grid_row": null,
            "grid_template_areas": null,
            "grid_template_columns": null,
            "grid_template_rows": null,
            "height": null,
            "justify_content": null,
            "justify_items": null,
            "left": null,
            "margin": null,
            "max_height": null,
            "max_width": null,
            "min_height": null,
            "min_width": null,
            "object_fit": null,
            "object_position": null,
            "order": null,
            "overflow": null,
            "overflow_x": null,
            "overflow_y": null,
            "padding": null,
            "right": null,
            "top": null,
            "visibility": null,
            "width": null
          }
        },
        "64ba80535abb43a7835ae912c1f9088d": {
          "model_module": "@jupyter-widgets/controls",
          "model_module_version": "1.5.0",
          "model_name": "HBoxModel",
          "state": {
            "_dom_classes": [],
            "_model_module": "@jupyter-widgets/controls",
            "_model_module_version": "1.5.0",
            "_model_name": "HBoxModel",
            "_view_count": null,
            "_view_module": "@jupyter-widgets/controls",
            "_view_module_version": "1.5.0",
            "_view_name": "HBoxView",
            "box_style": "",
            "children": [
              "IPY_MODEL_97a0430ef79b45aaa3291730f1bb3b4d",
              "IPY_MODEL_0fa172ffb19444349354c76043745e9d",
              "IPY_MODEL_7a37053a66e041d4ba05fbff288f765a"
            ],
            "layout": "IPY_MODEL_b1f9f873029d4e59a1b0e6b29dd3ec30"
          }
        },
        "66cb216989fa405587cc5da447175d3e": {
          "model_module": "@jupyter-widgets/controls",
          "model_module_version": "1.5.0",
          "model_name": "DescriptionStyleModel",
          "state": {
            "_model_module": "@jupyter-widgets/controls",
            "_model_module_version": "1.5.0",
            "_model_name": "DescriptionStyleModel",
            "_view_count": null,
            "_view_module": "@jupyter-widgets/base",
            "_view_module_version": "1.2.0",
            "_view_name": "StyleView",
            "description_width": ""
          }
        },
        "685e58ef0f3446f7ae31f19fdf3bb7b5": {
          "model_module": "@jupyter-widgets/base",
          "model_module_version": "1.2.0",
          "model_name": "LayoutModel",
          "state": {
            "_model_module": "@jupyter-widgets/base",
            "_model_module_version": "1.2.0",
            "_model_name": "LayoutModel",
            "_view_count": null,
            "_view_module": "@jupyter-widgets/base",
            "_view_module_version": "1.2.0",
            "_view_name": "LayoutView",
            "align_content": null,
            "align_items": null,
            "align_self": null,
            "border": null,
            "bottom": null,
            "display": null,
            "flex": null,
            "flex_flow": null,
            "grid_area": null,
            "grid_auto_columns": null,
            "grid_auto_flow": null,
            "grid_auto_rows": null,
            "grid_column": null,
            "grid_gap": null,
            "grid_row": null,
            "grid_template_areas": null,
            "grid_template_columns": null,
            "grid_template_rows": null,
            "height": null,
            "justify_content": null,
            "justify_items": null,
            "left": null,
            "margin": null,
            "max_height": null,
            "max_width": null,
            "min_height": null,
            "min_width": null,
            "object_fit": null,
            "object_position": null,
            "order": null,
            "overflow": null,
            "overflow_x": null,
            "overflow_y": null,
            "padding": null,
            "right": null,
            "top": null,
            "visibility": null,
            "width": null
          }
        },
        "70f466d4273e40738b399777fd4eea58": {
          "model_module": "@jupyter-widgets/base",
          "model_module_version": "1.2.0",
          "model_name": "LayoutModel",
          "state": {
            "_model_module": "@jupyter-widgets/base",
            "_model_module_version": "1.2.0",
            "_model_name": "LayoutModel",
            "_view_count": null,
            "_view_module": "@jupyter-widgets/base",
            "_view_module_version": "1.2.0",
            "_view_name": "LayoutView",
            "align_content": null,
            "align_items": null,
            "align_self": null,
            "border": null,
            "bottom": null,
            "display": null,
            "flex": null,
            "flex_flow": null,
            "grid_area": null,
            "grid_auto_columns": null,
            "grid_auto_flow": null,
            "grid_auto_rows": null,
            "grid_column": null,
            "grid_gap": null,
            "grid_row": null,
            "grid_template_areas": null,
            "grid_template_columns": null,
            "grid_template_rows": null,
            "height": null,
            "justify_content": null,
            "justify_items": null,
            "left": null,
            "margin": null,
            "max_height": null,
            "max_width": null,
            "min_height": null,
            "min_width": null,
            "object_fit": null,
            "object_position": null,
            "order": null,
            "overflow": null,
            "overflow_x": null,
            "overflow_y": null,
            "padding": null,
            "right": null,
            "top": null,
            "visibility": null,
            "width": null
          }
        },
        "725f56f11a9c4346a0d1516b1659c8a1": {
          "model_module": "@jupyter-widgets/base",
          "model_module_version": "1.2.0",
          "model_name": "LayoutModel",
          "state": {
            "_model_module": "@jupyter-widgets/base",
            "_model_module_version": "1.2.0",
            "_model_name": "LayoutModel",
            "_view_count": null,
            "_view_module": "@jupyter-widgets/base",
            "_view_module_version": "1.2.0",
            "_view_name": "LayoutView",
            "align_content": null,
            "align_items": null,
            "align_self": null,
            "border": null,
            "bottom": null,
            "display": null,
            "flex": null,
            "flex_flow": null,
            "grid_area": null,
            "grid_auto_columns": null,
            "grid_auto_flow": null,
            "grid_auto_rows": null,
            "grid_column": null,
            "grid_gap": null,
            "grid_row": null,
            "grid_template_areas": null,
            "grid_template_columns": null,
            "grid_template_rows": null,
            "height": null,
            "justify_content": null,
            "justify_items": null,
            "left": null,
            "margin": null,
            "max_height": null,
            "max_width": null,
            "min_height": null,
            "min_width": null,
            "object_fit": null,
            "object_position": null,
            "order": null,
            "overflow": null,
            "overflow_x": null,
            "overflow_y": null,
            "padding": null,
            "right": null,
            "top": null,
            "visibility": null,
            "width": "20px"
          }
        },
        "7a37053a66e041d4ba05fbff288f765a": {
          "model_module": "@jupyter-widgets/controls",
          "model_module_version": "1.5.0",
          "model_name": "HTMLModel",
          "state": {
            "_dom_classes": [],
            "_model_module": "@jupyter-widgets/controls",
            "_model_module_version": "1.5.0",
            "_model_name": "HTMLModel",
            "_view_count": null,
            "_view_module": "@jupyter-widgets/controls",
            "_view_module_version": "1.5.0",
            "_view_name": "HTMLView",
            "description": "",
            "description_tooltip": null,
            "layout": "IPY_MODEL_685e58ef0f3446f7ae31f19fdf3bb7b5",
            "placeholder": "​",
            "style": "IPY_MODEL_83d0a3e5936040de807aa1ab1959d434",
            "value": " 183M/183M [00:10&lt;00:00, 18.2MB/s]"
          }
        },
        "83d0a3e5936040de807aa1ab1959d434": {
          "model_module": "@jupyter-widgets/controls",
          "model_module_version": "1.5.0",
          "model_name": "DescriptionStyleModel",
          "state": {
            "_model_module": "@jupyter-widgets/controls",
            "_model_module_version": "1.5.0",
            "_model_name": "DescriptionStyleModel",
            "_view_count": null,
            "_view_module": "@jupyter-widgets/base",
            "_view_module_version": "1.2.0",
            "_view_name": "StyleView",
            "description_width": ""
          }
        },
        "8e0986f0204448c4b6251fc74bfbd955": {
          "model_module": "@jupyter-widgets/controls",
          "model_module_version": "1.5.0",
          "model_name": "HTMLModel",
          "state": {
            "_dom_classes": [],
            "_model_module": "@jupyter-widgets/controls",
            "_model_module_version": "1.5.0",
            "_model_name": "HTMLModel",
            "_view_count": null,
            "_view_module": "@jupyter-widgets/controls",
            "_view_module_version": "1.5.0",
            "_view_name": "HTMLView",
            "description": "",
            "description_tooltip": null,
            "layout": "IPY_MODEL_98e83a701fa4464ab0b7876827d2145f",
            "placeholder": "​",
            "style": "IPY_MODEL_544f1fa7fcf24950984df115e4ebb439",
            "value": "Generating train split: "
          }
        },
        "96700da816ae40e999cfec09cadc4b63": {
          "model_module": "@jupyter-widgets/base",
          "model_module_version": "1.2.0",
          "model_name": "LayoutModel",
          "state": {
            "_model_module": "@jupyter-widgets/base",
            "_model_module_version": "1.2.0",
            "_model_name": "LayoutModel",
            "_view_count": null,
            "_view_module": "@jupyter-widgets/base",
            "_view_module_version": "1.2.0",
            "_view_name": "LayoutView",
            "align_content": null,
            "align_items": null,
            "align_self": null,
            "border": null,
            "bottom": null,
            "display": null,
            "flex": null,
            "flex_flow": null,
            "grid_area": null,
            "grid_auto_columns": null,
            "grid_auto_flow": null,
            "grid_auto_rows": null,
            "grid_column": null,
            "grid_gap": null,
            "grid_row": null,
            "grid_template_areas": null,
            "grid_template_columns": null,
            "grid_template_rows": null,
            "height": null,
            "justify_content": null,
            "justify_items": null,
            "left": null,
            "margin": null,
            "max_height": null,
            "max_width": null,
            "min_height": null,
            "min_width": null,
            "object_fit": null,
            "object_position": null,
            "order": null,
            "overflow": null,
            "overflow_x": null,
            "overflow_y": null,
            "padding": null,
            "right": null,
            "top": null,
            "visibility": null,
            "width": null
          }
        },
        "97a0430ef79b45aaa3291730f1bb3b4d": {
          "model_module": "@jupyter-widgets/controls",
          "model_module_version": "1.5.0",
          "model_name": "HTMLModel",
          "state": {
            "_dom_classes": [],
            "_model_module": "@jupyter-widgets/controls",
            "_model_module_version": "1.5.0",
            "_model_name": "HTMLModel",
            "_view_count": null,
            "_view_module": "@jupyter-widgets/controls",
            "_view_module_version": "1.5.0",
            "_view_name": "HTMLView",
            "description": "",
            "description_tooltip": null,
            "layout": "IPY_MODEL_70f466d4273e40738b399777fd4eea58",
            "placeholder": "​",
            "style": "IPY_MODEL_dcc8347c5c7c438fbdeaccceda08e6af",
            "value": "Downloading data: 100%"
          }
        },
        "98e83a701fa4464ab0b7876827d2145f": {
          "model_module": "@jupyter-widgets/base",
          "model_module_version": "1.2.0",
          "model_name": "LayoutModel",
          "state": {
            "_model_module": "@jupyter-widgets/base",
            "_model_module_version": "1.2.0",
            "_model_name": "LayoutModel",
            "_view_count": null,
            "_view_module": "@jupyter-widgets/base",
            "_view_module_version": "1.2.0",
            "_view_name": "LayoutView",
            "align_content": null,
            "align_items": null,
            "align_self": null,
            "border": null,
            "bottom": null,
            "display": null,
            "flex": null,
            "flex_flow": null,
            "grid_area": null,
            "grid_auto_columns": null,
            "grid_auto_flow": null,
            "grid_auto_rows": null,
            "grid_column": null,
            "grid_gap": null,
            "grid_row": null,
            "grid_template_areas": null,
            "grid_template_columns": null,
            "grid_template_rows": null,
            "height": null,
            "justify_content": null,
            "justify_items": null,
            "left": null,
            "margin": null,
            "max_height": null,
            "max_width": null,
            "min_height": null,
            "min_width": null,
            "object_fit": null,
            "object_position": null,
            "order": null,
            "overflow": null,
            "overflow_x": null,
            "overflow_y": null,
            "padding": null,
            "right": null,
            "top": null,
            "visibility": null,
            "width": null
          }
        },
        "aa39b3baed304891a9979605136ffcdb": {
          "model_module": "@jupyter-widgets/controls",
          "model_module_version": "1.5.0",
          "model_name": "FloatProgressModel",
          "state": {
            "_dom_classes": [],
            "_model_module": "@jupyter-widgets/controls",
            "_model_module_version": "1.5.0",
            "_model_name": "FloatProgressModel",
            "_view_count": null,
            "_view_module": "@jupyter-widgets/controls",
            "_view_module_version": "1.5.0",
            "_view_name": "ProgressView",
            "bar_style": "success",
            "description": "",
            "description_tooltip": null,
            "layout": "IPY_MODEL_725f56f11a9c4346a0d1516b1659c8a1",
            "max": 1,
            "min": 0,
            "orientation": "horizontal",
            "style": "IPY_MODEL_c35152d068c64933a8cd8445516d38c5",
            "value": 1
          }
        },
        "b1f9f873029d4e59a1b0e6b29dd3ec30": {
          "model_module": "@jupyter-widgets/base",
          "model_module_version": "1.2.0",
          "model_name": "LayoutModel",
          "state": {
            "_model_module": "@jupyter-widgets/base",
            "_model_module_version": "1.2.0",
            "_model_name": "LayoutModel",
            "_view_count": null,
            "_view_module": "@jupyter-widgets/base",
            "_view_module_version": "1.2.0",
            "_view_name": "LayoutView",
            "align_content": null,
            "align_items": null,
            "align_self": null,
            "border": null,
            "bottom": null,
            "display": null,
            "flex": null,
            "flex_flow": null,
            "grid_area": null,
            "grid_auto_columns": null,
            "grid_auto_flow": null,
            "grid_auto_rows": null,
            "grid_column": null,
            "grid_gap": null,
            "grid_row": null,
            "grid_template_areas": null,
            "grid_template_columns": null,
            "grid_template_rows": null,
            "height": null,
            "justify_content": null,
            "justify_items": null,
            "left": null,
            "margin": null,
            "max_height": null,
            "max_width": null,
            "min_height": null,
            "min_width": null,
            "object_fit": null,
            "object_position": null,
            "order": null,
            "overflow": null,
            "overflow_x": null,
            "overflow_y": null,
            "padding": null,
            "right": null,
            "top": null,
            "visibility": null,
            "width": null
          }
        },
        "c22665f659974527bad1354caa79ccd2": {
          "model_module": "@jupyter-widgets/controls",
          "model_module_version": "1.5.0",
          "model_name": "HTMLModel",
          "state": {
            "_dom_classes": [],
            "_model_module": "@jupyter-widgets/controls",
            "_model_module_version": "1.5.0",
            "_model_name": "HTMLModel",
            "_view_count": null,
            "_view_module": "@jupyter-widgets/controls",
            "_view_module_version": "1.5.0",
            "_view_name": "HTMLView",
            "description": "",
            "description_tooltip": null,
            "layout": "IPY_MODEL_61b02dec22014550bee164a5ddda8734",
            "placeholder": "​",
            "style": "IPY_MODEL_3d0215b180e44c8a8cd2ae7082fca19a",
            "value": " 6.27k/6.27k [00:00&lt;00:00, 170kB/s]"
          }
        },
        "c31d9c65245648e0974f6c55a7260339": {
          "model_module": "@jupyter-widgets/controls",
          "model_module_version": "1.5.0",
          "model_name": "HBoxModel",
          "state": {
            "_dom_classes": [],
            "_model_module": "@jupyter-widgets/controls",
            "_model_module_version": "1.5.0",
            "_model_name": "HBoxModel",
            "_view_count": null,
            "_view_module": "@jupyter-widgets/controls",
            "_view_module_version": "1.5.0",
            "_view_name": "HBoxView",
            "box_style": "",
            "children": [
              "IPY_MODEL_d27a876d165d4574a28ef6ee0449558b",
              "IPY_MODEL_d7fd5d637bd14ea49d3a924daa7f4dc1",
              "IPY_MODEL_c22665f659974527bad1354caa79ccd2"
            ],
            "layout": "IPY_MODEL_5fe29f3c6ac2426da89eef1671cf3a9d"
          }
        },
        "c35152d068c64933a8cd8445516d38c5": {
          "model_module": "@jupyter-widgets/controls",
          "model_module_version": "1.5.0",
          "model_name": "ProgressStyleModel",
          "state": {
            "_model_module": "@jupyter-widgets/controls",
            "_model_module_version": "1.5.0",
            "_model_name": "ProgressStyleModel",
            "_view_count": null,
            "_view_module": "@jupyter-widgets/base",
            "_view_module_version": "1.2.0",
            "_view_name": "StyleView",
            "bar_color": null,
            "description_width": ""
          }
        },
        "d1712ce87e8b4c87bf00948ba37005bc": {
          "model_module": "@jupyter-widgets/controls",
          "model_module_version": "1.5.0",
          "model_name": "DescriptionStyleModel",
          "state": {
            "_model_module": "@jupyter-widgets/controls",
            "_model_module_version": "1.5.0",
            "_model_name": "DescriptionStyleModel",
            "_view_count": null,
            "_view_module": "@jupyter-widgets/base",
            "_view_module_version": "1.2.0",
            "_view_name": "StyleView",
            "description_width": ""
          }
        },
        "d27a876d165d4574a28ef6ee0449558b": {
          "model_module": "@jupyter-widgets/controls",
          "model_module_version": "1.5.0",
          "model_name": "HTMLModel",
          "state": {
            "_dom_classes": [],
            "_model_module": "@jupyter-widgets/controls",
            "_model_module_version": "1.5.0",
            "_model_name": "HTMLModel",
            "_view_count": null,
            "_view_module": "@jupyter-widgets/controls",
            "_view_module_version": "1.5.0",
            "_view_name": "HTMLView",
            "description": "",
            "description_tooltip": null,
            "layout": "IPY_MODEL_245cc3aba52e4941b2d474cc56717000",
            "placeholder": "​",
            "style": "IPY_MODEL_d1712ce87e8b4c87bf00948ba37005bc",
            "value": "Downloading readme: 100%"
          }
        },
        "d7fd5d637bd14ea49d3a924daa7f4dc1": {
          "model_module": "@jupyter-widgets/controls",
          "model_module_version": "1.5.0",
          "model_name": "FloatProgressModel",
          "state": {
            "_dom_classes": [],
            "_model_module": "@jupyter-widgets/controls",
            "_model_module_version": "1.5.0",
            "_model_name": "FloatProgressModel",
            "_view_count": null,
            "_view_module": "@jupyter-widgets/controls",
            "_view_module_version": "1.5.0",
            "_view_name": "ProgressView",
            "bar_style": "success",
            "description": "",
            "description_tooltip": null,
            "layout": "IPY_MODEL_5a4558d9d056454bba18ab2b663b214c",
            "max": 6266,
            "min": 0,
            "orientation": "horizontal",
            "style": "IPY_MODEL_5e5da5953c3f49f0a0fb861fb5a437e0",
            "value": 6266
          }
        },
        "dcc8347c5c7c438fbdeaccceda08e6af": {
          "model_module": "@jupyter-widgets/controls",
          "model_module_version": "1.5.0",
          "model_name": "DescriptionStyleModel",
          "state": {
            "_model_module": "@jupyter-widgets/controls",
            "_model_module_version": "1.5.0",
            "_model_name": "DescriptionStyleModel",
            "_view_count": null,
            "_view_module": "@jupyter-widgets/base",
            "_view_module_version": "1.2.0",
            "_view_name": "StyleView",
            "description_width": ""
          }
        },
        "e669b428205e464d9b0946a9625b9a69": {
          "model_module": "@jupyter-widgets/base",
          "model_module_version": "1.2.0",
          "model_name": "LayoutModel",
          "state": {
            "_model_module": "@jupyter-widgets/base",
            "_model_module_version": "1.2.0",
            "_model_name": "LayoutModel",
            "_view_count": null,
            "_view_module": "@jupyter-widgets/base",
            "_view_module_version": "1.2.0",
            "_view_name": "LayoutView",
            "align_content": null,
            "align_items": null,
            "align_self": null,
            "border": null,
            "bottom": null,
            "display": null,
            "flex": null,
            "flex_flow": null,
            "grid_area": null,
            "grid_auto_columns": null,
            "grid_auto_flow": null,
            "grid_auto_rows": null,
            "grid_column": null,
            "grid_gap": null,
            "grid_row": null,
            "grid_template_areas": null,
            "grid_template_columns": null,
            "grid_template_rows": null,
            "height": null,
            "justify_content": null,
            "justify_items": null,
            "left": null,
            "margin": null,
            "max_height": null,
            "max_width": null,
            "min_height": null,
            "min_width": null,
            "object_fit": null,
            "object_position": null,
            "order": null,
            "overflow": null,
            "overflow_x": null,
            "overflow_y": null,
            "padding": null,
            "right": null,
            "top": null,
            "visibility": null,
            "width": null
          }
        }
      }
    }
  },
  "nbformat": 4,
  "nbformat_minor": 0
}
