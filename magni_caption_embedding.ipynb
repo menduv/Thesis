{
 "cells": [
  {
   "cell_type": "code",
   "execution_count": 1,
   "metadata": {},
   "outputs": [],
   "source": [
    "# Importing necessary libraries\n",
    "import pandas as pd\n",
    "import numpy as np\n",
    "\n",
    "\n",
    "from matplotlib import pyplot as plt\n",
    "\n",
    "pd.options.mode.chained_assignment = None  # default='warn'\n",
    "\n",
    "\n",
    "# from transformers import SentenceTransformer\n",
    "import numpy as np\n",
    "import json\n",
    "from sentence_transformers import SentenceTransformer\n",
    "import torch\n",
    "from torch import nn\n",
    "from collections import OrderedDict\n",
    "\n",
    "\n",
    "import pyarrow.parquet as pa"
   ]
  },
  {
   "cell_type": "code",
   "execution_count": 2,
   "metadata": {},
   "outputs": [],
   "source": [
    "df = pd.read_csv('/home/mendu/Thesis/data/magnatagatune/processed_df.csv', index_col=[0])"
   ]
  },
  {
   "cell_type": "code",
   "execution_count": 3,
   "metadata": {},
   "outputs": [
    {
     "data": {
      "text/html": [
       "<div>\n",
       "<style scoped>\n",
       "    .dataframe tbody tr th:only-of-type {\n",
       "        vertical-align: middle;\n",
       "    }\n",
       "\n",
       "    .dataframe tbody tr th {\n",
       "        vertical-align: top;\n",
       "    }\n",
       "\n",
       "    .dataframe thead th {\n",
       "        text-align: right;\n",
       "    }\n",
       "</style>\n",
       "<table border=\"1\" class=\"dataframe\">\n",
       "  <thead>\n",
       "    <tr style=\"text-align: right;\">\n",
       "      <th></th>\n",
       "      <th>mp3_path</th>\n",
       "      <th>tags</th>\n",
       "    </tr>\n",
       "    <tr>\n",
       "      <th>clip_id</th>\n",
       "      <th></th>\n",
       "      <th></th>\n",
       "    </tr>\n",
       "  </thead>\n",
       "  <tbody>\n",
       "    <tr>\n",
       "      <th>2</th>\n",
       "      <td>american_bach_soloists-j_s__bach_solo_cantatas...</td>\n",
       "      <td>opera</td>\n",
       "    </tr>\n",
       "    <tr>\n",
       "      <th>6</th>\n",
       "      <td>american_bach_soloists-j_s__bach_solo_cantatas...</td>\n",
       "      <td>opera</td>\n",
       "    </tr>\n",
       "    <tr>\n",
       "      <th>10</th>\n",
       "      <td>american_bach_soloists-j_s__bach_solo_cantatas...</td>\n",
       "      <td>opera</td>\n",
       "    </tr>\n",
       "    <tr>\n",
       "      <th>11</th>\n",
       "      <td>american_bach_soloists-j_s__bach_solo_cantatas...</td>\n",
       "      <td>opera</td>\n",
       "    </tr>\n",
       "    <tr>\n",
       "      <th>14</th>\n",
       "      <td>lvx_nova-lvx_nova-01-contimune-30-59.mp3</td>\n",
       "      <td>electronic</td>\n",
       "    </tr>\n",
       "    <tr>\n",
       "      <th>...</th>\n",
       "      <td>...</td>\n",
       "      <td>...</td>\n",
       "    </tr>\n",
       "    <tr>\n",
       "      <th>58896</th>\n",
       "      <td>jacob_heringman-blame_not_my_lute-56-la_bressa...</td>\n",
       "      <td>classical</td>\n",
       "    </tr>\n",
       "    <tr>\n",
       "      <th>58897</th>\n",
       "      <td>jacob_heringman-blame_not_my_lute-56-la_bressa...</td>\n",
       "      <td>classical</td>\n",
       "    </tr>\n",
       "    <tr>\n",
       "      <th>58898</th>\n",
       "      <td>jacob_heringman-blame_not_my_lute-56-la_bressa...</td>\n",
       "      <td>classical</td>\n",
       "    </tr>\n",
       "    <tr>\n",
       "      <th>58907</th>\n",
       "      <td>jacob_heringman-blame_not_my_lute-57-lost_is_m...</td>\n",
       "      <td>classical</td>\n",
       "    </tr>\n",
       "    <tr>\n",
       "      <th>58915</th>\n",
       "      <td>jacob_heringman-blame_not_my_lute-58-a_toy_for...</td>\n",
       "      <td>classical</td>\n",
       "    </tr>\n",
       "  </tbody>\n",
       "</table>\n",
       "<p>11826 rows × 2 columns</p>\n",
       "</div>"
      ],
      "text/plain": [
       "                                                  mp3_path        tags\n",
       "clip_id                                                               \n",
       "2        american_bach_soloists-j_s__bach_solo_cantatas...       opera\n",
       "6        american_bach_soloists-j_s__bach_solo_cantatas...       opera\n",
       "10       american_bach_soloists-j_s__bach_solo_cantatas...       opera\n",
       "11       american_bach_soloists-j_s__bach_solo_cantatas...       opera\n",
       "14                lvx_nova-lvx_nova-01-contimune-30-59.mp3  electronic\n",
       "...                                                    ...         ...\n",
       "58896    jacob_heringman-blame_not_my_lute-56-la_bressa...   classical\n",
       "58897    jacob_heringman-blame_not_my_lute-56-la_bressa...   classical\n",
       "58898    jacob_heringman-blame_not_my_lute-56-la_bressa...   classical\n",
       "58907    jacob_heringman-blame_not_my_lute-57-lost_is_m...   classical\n",
       "58915    jacob_heringman-blame_not_my_lute-58-a_toy_for...   classical\n",
       "\n",
       "[11826 rows x 2 columns]"
      ]
     },
     "execution_count": 3,
     "metadata": {},
     "output_type": "execute_result"
    }
   ],
   "source": [
    "df"
   ]
  },
  {
   "cell_type": "code",
   "execution_count": 4,
   "metadata": {},
   "outputs": [],
   "source": [
    "table_test = pa.read_table('/home/mendu/Thesis/data/magnatagatune/captions/test-00000-of-00001-94781ef88fa7ed89.parquet') \n",
    "table_train = pa.read_table('/home/mendu/Thesis/data/magnatagatune/captions/train-00000-of-00001-28dbf9154d6d526d.parquet') \n",
    "table_val = pa.read_table('/home/mendu/Thesis/data/magnatagatune/captions/valid-00000-of-00001-bf9893b31ca2d5e5.parquet') "
   ]
  },
  {
   "cell_type": "code",
   "execution_count": 5,
   "metadata": {},
   "outputs": [],
   "source": [
    "df_test = table_test.to_pandas().set_index('track_id')\n",
    "df_train = table_train.to_pandas().set_index('track_id')\n",
    "df_val = table_val.to_pandas().set_index('track_id') "
   ]
  },
  {
   "cell_type": "code",
   "execution_count": 6,
   "metadata": {},
   "outputs": [
    {
     "data": {
      "text/plain": [
       "25860"
      ]
     },
     "execution_count": 6,
     "metadata": {},
     "output_type": "execute_result"
    }
   ],
   "source": [
    "len(df_train)+len(df_test)+len(df_val)"
   ]
  },
  {
   "cell_type": "code",
   "execution_count": 7,
   "metadata": {},
   "outputs": [],
   "source": [
    "frames = [df_test, df_train, df_val]\n",
    "df_captions = pd.concat(frames)"
   ]
  },
  {
   "cell_type": "code",
   "execution_count": 8,
   "metadata": {},
   "outputs": [
    {
     "data": {
      "text/html": [
       "<div>\n",
       "<style scoped>\n",
       "    .dataframe tbody tr th:only-of-type {\n",
       "        vertical-align: middle;\n",
       "    }\n",
       "\n",
       "    .dataframe tbody tr th {\n",
       "        vertical-align: top;\n",
       "    }\n",
       "\n",
       "    .dataframe thead th {\n",
       "        text-align: right;\n",
       "    }\n",
       "</style>\n",
       "<table border=\"1\" class=\"dataframe\">\n",
       "  <thead>\n",
       "    <tr style=\"text-align: right;\">\n",
       "      <th></th>\n",
       "      <th>caption_writing</th>\n",
       "    </tr>\n",
       "    <tr>\n",
       "      <th>track_id</th>\n",
       "      <th></th>\n",
       "    </tr>\n",
       "  </thead>\n",
       "  <tbody>\n",
       "    <tr>\n",
       "      <th>2</th>\n",
       "      <td>Experience the majestic beauty of classical mu...</td>\n",
       "    </tr>\n",
       "    <tr>\n",
       "      <th>6</th>\n",
       "      <td>Experience the rich sound of classical eleganc...</td>\n",
       "    </tr>\n",
       "    <tr>\n",
       "      <th>10</th>\n",
       "      <td>This powerful classic opera piece showcases th...</td>\n",
       "    </tr>\n",
       "    <tr>\n",
       "      <th>11</th>\n",
       "      <td>This atmospheric and introspective song blends...</td>\n",
       "    </tr>\n",
       "    <tr>\n",
       "      <th>12</th>\n",
       "      <td>Experience a powerful and uptempo classical me...</td>\n",
       "    </tr>\n",
       "    <tr>\n",
       "      <th>...</th>\n",
       "      <td>...</td>\n",
       "    </tr>\n",
       "    <tr>\n",
       "      <th>58716</th>\n",
       "      <td>This breathtaking song features a mesmerizing ...</td>\n",
       "    </tr>\n",
       "    <tr>\n",
       "      <th>58717</th>\n",
       "      <td>This folk-inspired song features intricate str...</td>\n",
       "    </tr>\n",
       "    <tr>\n",
       "      <th>58719</th>\n",
       "      <td>This hauntingly beautiful ballad takes its tim...</td>\n",
       "    </tr>\n",
       "    <tr>\n",
       "      <th>58736</th>\n",
       "      <td>This beautiful piece of music features intrica...</td>\n",
       "    </tr>\n",
       "    <tr>\n",
       "      <th>58737</th>\n",
       "      <td>This classical acoustic piece features a slow ...</td>\n",
       "    </tr>\n",
       "  </tbody>\n",
       "</table>\n",
       "<p>25860 rows × 1 columns</p>\n",
       "</div>"
      ],
      "text/plain": [
       "                                            caption_writing\n",
       "track_id                                                   \n",
       "2         Experience the majestic beauty of classical mu...\n",
       "6         Experience the rich sound of classical eleganc...\n",
       "10        This powerful classic opera piece showcases th...\n",
       "11        This atmospheric and introspective song blends...\n",
       "12        Experience a powerful and uptempo classical me...\n",
       "...                                                     ...\n",
       "58716     This breathtaking song features a mesmerizing ...\n",
       "58717     This folk-inspired song features intricate str...\n",
       "58719     This hauntingly beautiful ballad takes its tim...\n",
       "58736     This beautiful piece of music features intrica...\n",
       "58737     This classical acoustic piece features a slow ...\n",
       "\n",
       "[25860 rows x 1 columns]"
      ]
     },
     "execution_count": 8,
     "metadata": {},
     "output_type": "execute_result"
    }
   ],
   "source": [
    "captions = df_captions[['caption_writing']]\n",
    "captions.index = captions.index.astype('int64')\n",
    "captions"
   ]
  },
  {
   "cell_type": "code",
   "execution_count": 9,
   "metadata": {},
   "outputs": [],
   "source": [
    "df = pd.merge(df, captions, how = 'left', left_index=True, right_index=True)\n"
   ]
  },
  {
   "cell_type": "code",
   "execution_count": 10,
   "metadata": {},
   "outputs": [
    {
     "data": {
      "text/html": [
       "<div>\n",
       "<style scoped>\n",
       "    .dataframe tbody tr th:only-of-type {\n",
       "        vertical-align: middle;\n",
       "    }\n",
       "\n",
       "    .dataframe tbody tr th {\n",
       "        vertical-align: top;\n",
       "    }\n",
       "\n",
       "    .dataframe thead th {\n",
       "        text-align: right;\n",
       "    }\n",
       "</style>\n",
       "<table border=\"1\" class=\"dataframe\">\n",
       "  <thead>\n",
       "    <tr style=\"text-align: right;\">\n",
       "      <th></th>\n",
       "      <th>mp3_path</th>\n",
       "      <th>tags</th>\n",
       "      <th>caption_writing</th>\n",
       "    </tr>\n",
       "    <tr>\n",
       "      <th>clip_id</th>\n",
       "      <th></th>\n",
       "      <th></th>\n",
       "      <th></th>\n",
       "    </tr>\n",
       "  </thead>\n",
       "  <tbody>\n",
       "    <tr>\n",
       "      <th>2</th>\n",
       "      <td>american_bach_soloists-j_s__bach_solo_cantatas...</td>\n",
       "      <td>opera</td>\n",
       "      <td>Experience the majestic beauty of classical mu...</td>\n",
       "    </tr>\n",
       "    <tr>\n",
       "      <th>6</th>\n",
       "      <td>american_bach_soloists-j_s__bach_solo_cantatas...</td>\n",
       "      <td>opera</td>\n",
       "      <td>Experience the rich sound of classical eleganc...</td>\n",
       "    </tr>\n",
       "    <tr>\n",
       "      <th>10</th>\n",
       "      <td>american_bach_soloists-j_s__bach_solo_cantatas...</td>\n",
       "      <td>opera</td>\n",
       "      <td>This powerful classic opera piece showcases th...</td>\n",
       "    </tr>\n",
       "    <tr>\n",
       "      <th>11</th>\n",
       "      <td>american_bach_soloists-j_s__bach_solo_cantatas...</td>\n",
       "      <td>opera</td>\n",
       "      <td>This atmospheric and introspective song blends...</td>\n",
       "    </tr>\n",
       "    <tr>\n",
       "      <th>14</th>\n",
       "      <td>lvx_nova-lvx_nova-01-contimune-30-59.mp3</td>\n",
       "      <td>electronic</td>\n",
       "      <td>This upbeat dance track features a pulsing tec...</td>\n",
       "    </tr>\n",
       "    <tr>\n",
       "      <th>...</th>\n",
       "      <td>...</td>\n",
       "      <td>...</td>\n",
       "      <td>...</td>\n",
       "    </tr>\n",
       "    <tr>\n",
       "      <th>58896</th>\n",
       "      <td>jacob_heringman-blame_not_my_lute-56-la_bressa...</td>\n",
       "      <td>classical</td>\n",
       "      <td>This classical guitar solo piece features intr...</td>\n",
       "    </tr>\n",
       "    <tr>\n",
       "      <th>58897</th>\n",
       "      <td>jacob_heringman-blame_not_my_lute-56-la_bressa...</td>\n",
       "      <td>classical</td>\n",
       "      <td>This beautiful classical piece features a haun...</td>\n",
       "    </tr>\n",
       "    <tr>\n",
       "      <th>58898</th>\n",
       "      <td>jacob_heringman-blame_not_my_lute-56-la_bressa...</td>\n",
       "      <td>classical</td>\n",
       "      <td>This classical piece features beautiful melodi...</td>\n",
       "    </tr>\n",
       "    <tr>\n",
       "      <th>58907</th>\n",
       "      <td>jacob_heringman-blame_not_my_lute-57-lost_is_m...</td>\n",
       "      <td>classical</td>\n",
       "      <td>This beautiful classical piece features a gent...</td>\n",
       "    </tr>\n",
       "    <tr>\n",
       "      <th>58915</th>\n",
       "      <td>jacob_heringman-blame_not_my_lute-58-a_toy_for...</td>\n",
       "      <td>classical</td>\n",
       "      <td>This beautiful classical guitar melody is slow...</td>\n",
       "    </tr>\n",
       "  </tbody>\n",
       "</table>\n",
       "<p>11826 rows × 3 columns</p>\n",
       "</div>"
      ],
      "text/plain": [
       "                                                  mp3_path        tags  \\\n",
       "clip_id                                                                  \n",
       "2        american_bach_soloists-j_s__bach_solo_cantatas...       opera   \n",
       "6        american_bach_soloists-j_s__bach_solo_cantatas...       opera   \n",
       "10       american_bach_soloists-j_s__bach_solo_cantatas...       opera   \n",
       "11       american_bach_soloists-j_s__bach_solo_cantatas...       opera   \n",
       "14                lvx_nova-lvx_nova-01-contimune-30-59.mp3  electronic   \n",
       "...                                                    ...         ...   \n",
       "58896    jacob_heringman-blame_not_my_lute-56-la_bressa...   classical   \n",
       "58897    jacob_heringman-blame_not_my_lute-56-la_bressa...   classical   \n",
       "58898    jacob_heringman-blame_not_my_lute-56-la_bressa...   classical   \n",
       "58907    jacob_heringman-blame_not_my_lute-57-lost_is_m...   classical   \n",
       "58915    jacob_heringman-blame_not_my_lute-58-a_toy_for...   classical   \n",
       "\n",
       "                                           caption_writing  \n",
       "clip_id                                                     \n",
       "2        Experience the majestic beauty of classical mu...  \n",
       "6        Experience the rich sound of classical eleganc...  \n",
       "10       This powerful classic opera piece showcases th...  \n",
       "11       This atmospheric and introspective song blends...  \n",
       "14       This upbeat dance track features a pulsing tec...  \n",
       "...                                                    ...  \n",
       "58896    This classical guitar solo piece features intr...  \n",
       "58897    This beautiful classical piece features a haun...  \n",
       "58898    This classical piece features beautiful melodi...  \n",
       "58907    This beautiful classical piece features a gent...  \n",
       "58915    This beautiful classical guitar melody is slow...  \n",
       "\n",
       "[11826 rows x 3 columns]"
      ]
     },
     "execution_count": 10,
     "metadata": {},
     "output_type": "execute_result"
    }
   ],
   "source": [
    "df"
   ]
  },
  {
   "cell_type": "code",
   "execution_count": 22,
   "metadata": {},
   "outputs": [],
   "source": [
    "# df.to_csv('/home/mendu/Thesis/data/magnatagatune/df_w_captions.csv')"
   ]
  },
  {
   "cell_type": "markdown",
   "metadata": {},
   "source": [
    "## Getting the embedding for the caption"
   ]
  },
  {
   "cell_type": "code",
   "execution_count": 11,
   "metadata": {},
   "outputs": [],
   "source": [
    "# Define the Encoder class focusing only on the encoding part\n",
    "class Encoder(nn.Module):\n",
    "    def __init__(self, input_size, encoding_size):\n",
    "        super(Encoder, self).__init__()\n",
    "        self.layers = nn.Sequential(\n",
    "            nn.Linear(input_size, 512),\n",
    "            nn.ReLU(True),\n",
    "            nn.BatchNorm1d(512),\n",
    "            nn.Linear(512, 256),\n",
    "            nn.ReLU(True),\n",
    "            nn.BatchNorm1d(256),\n",
    "            nn.Linear(256, 128),\n",
    "            nn.ReLU(True),\n",
    "            nn.Linear(128, encoding_size),\n",
    "            nn.ReLU(True)\n",
    "        )\n",
    "\n",
    "    def forward(self, x):\n",
    "        return self.layers(x)"
   ]
  },
  {
   "cell_type": "code",
   "execution_count": 12,
   "metadata": {},
   "outputs": [],
   "source": [
    "# Define input and encoding sizes\n",
    "input_size = 768\n",
    "encoding_size = 64"
   ]
  },
  {
   "cell_type": "code",
   "execution_count": 15,
   "metadata": {},
   "outputs": [],
   "source": [
    "def load_encoder_state_dict(encoder, state_dict_path):\n",
    "    state_dict = torch.load(state_dict_path)\n",
    "    # Rename the state_dict keys to match the structure of the Encoder class\n",
    "    new_state_dict = OrderedDict()\n",
    "    for k, v in state_dict.items():\n",
    "        # Prepend 'layers.' to each key\n",
    "        name = f'layers.{k}'\n",
    "        new_state_dict[name] = v\n",
    "    \n",
    "    encoder.load_state_dict(new_state_dict)\n",
    "    return encoder\n",
    "\n",
    "def get_device():\n",
    "    return torch.device('cuda:0' if torch.cuda.is_available() else 'cpu')\n",
    "\n",
    "device = get_device()"
   ]
  },
  {
   "cell_type": "code",
   "execution_count": 16,
   "metadata": {},
   "outputs": [],
   "source": [
    "# Instantiate the encoder\n",
    "encoder = Encoder(input_size=input_size, encoding_size=encoding_size).to(device)\n",
    "encoder.eval()  # Set the encoder to evaluation mode\n",
    "\n",
    "# Load the pre-trained weights for the encoder\n",
    "encoder = load_encoder_state_dict(encoder, '/home/mendu/Thesis/data/musiccaps/auto_encoder/encoder_state_dict.pth')\n",
    "\n",
    "# Load the SentenceTransformer model and move to the correct device\n",
    "roberta_model = SentenceTransformer('/home/mendu/Thesis/data/musiccaps/new_embedding_model').to(device)\n",
    "\n",
    "# Taking a sample caption from df\n",
    "caption = df.caption_writing[2]"
   ]
  },
  {
   "cell_type": "code",
   "execution_count": 18,
   "metadata": {},
   "outputs": [],
   "source": [
    "# Function to encode caption\n",
    "def encode_caption(encoder, sentence_model, text):\n",
    "    with torch.no_grad():\n",
    "        encoded_caption = sentence_model.encode(text, convert_to_tensor=True)\n",
    "        encoded_caption = encoded_caption.to(device)\n",
    "        return encoder(encoded_caption.unsqueeze(0))"
   ]
  },
  {
   "cell_type": "code",
   "execution_count": 19,
   "metadata": {},
   "outputs": [],
   "source": [
    "# Encoded caption \n",
    "fully_encoded_caption = encode_caption(encoder, roberta_model, caption)"
   ]
  },
  {
   "cell_type": "code",
   "execution_count": 20,
   "metadata": {},
   "outputs": [
    {
     "data": {
      "text/plain": [
       "tensor([[ 52.0009,  28.6403,  34.2275,  59.2607,   1.1570,  57.7524, 142.9124,\n",
       "          44.6702,  41.6169, 104.4225,  92.6284, 119.1738,  42.9483,  79.1854,\n",
       "         216.7657,  67.0605,  43.6379,  77.6768, 100.6521,  87.6473, 132.7112,\n",
       "         126.8025,  86.1116, 131.3719,  68.6272,  81.4069, 134.8302, 196.9826,\n",
       "          90.1404,  65.5783,  97.3774, 187.2035,  53.5716, 243.3475,   0.0000,\n",
       "           0.0000,  55.3763, 132.5184,  23.2223,   0.0000, 155.0516,  99.4067,\n",
       "          38.8811, 111.8058, 213.8127, 153.5288,   0.0000,  39.6156,  19.5320,\n",
       "         135.4064,  96.3223,  40.3084, 116.1382, 154.0468,  79.5539,  27.2223,\n",
       "          96.1176,  39.1434, 160.7672,  63.0411,  12.1961,  99.3322,  49.6889,\n",
       "          55.5985]], device='cuda:0')"
      ]
     },
     "execution_count": 20,
     "metadata": {},
     "output_type": "execute_result"
    }
   ],
   "source": [
    "fully_encoded_caption"
   ]
  },
  {
   "cell_type": "code",
   "execution_count": 21,
   "metadata": {},
   "outputs": [
    {
     "data": {
      "text/plain": [
       "Index(['mp3_path', 'tags', 'caption_writing'], dtype='object')"
      ]
     },
     "execution_count": 21,
     "metadata": {},
     "output_type": "execute_result"
    }
   ],
   "source": [
    "df.columns"
   ]
  },
  {
   "cell_type": "code",
   "execution_count": null,
   "metadata": {},
   "outputs": [],
   "source": []
  },
  {
   "cell_type": "code",
   "execution_count": null,
   "metadata": {},
   "outputs": [],
   "source": []
  },
  {
   "cell_type": "code",
   "execution_count": null,
   "metadata": {},
   "outputs": [],
   "source": []
  },
  {
   "cell_type": "code",
   "execution_count": null,
   "metadata": {},
   "outputs": [],
   "source": []
  },
  {
   "cell_type": "code",
   "execution_count": null,
   "metadata": {},
   "outputs": [],
   "source": []
  },
  {
   "cell_type": "code",
   "execution_count": null,
   "metadata": {},
   "outputs": [],
   "source": []
  },
  {
   "cell_type": "code",
   "execution_count": null,
   "metadata": {},
   "outputs": [],
   "source": []
  },
  {
   "cell_type": "code",
   "execution_count": null,
   "metadata": {},
   "outputs": [],
   "source": []
  },
  {
   "cell_type": "code",
   "execution_count": null,
   "metadata": {},
   "outputs": [],
   "source": []
  },
  {
   "cell_type": "code",
   "execution_count": null,
   "metadata": {},
   "outputs": [],
   "source": []
  },
  {
   "cell_type": "code",
   "execution_count": null,
   "metadata": {},
   "outputs": [],
   "source": []
  },
  {
   "cell_type": "code",
   "execution_count": null,
   "metadata": {},
   "outputs": [],
   "source": []
  },
  {
   "cell_type": "code",
   "execution_count": null,
   "metadata": {},
   "outputs": [],
   "source": []
  }
 ],
 "metadata": {
  "kernelspec": {
   "display_name": "myenv",
   "language": "python",
   "name": "python3"
  },
  "language_info": {
   "codemirror_mode": {
    "name": "ipython",
    "version": 3
   },
   "file_extension": ".py",
   "mimetype": "text/x-python",
   "name": "python",
   "nbconvert_exporter": "python",
   "pygments_lexer": "ipython3",
   "version": "3.1.undefined"
  }
 },
 "nbformat": 4,
 "nbformat_minor": 2
}
