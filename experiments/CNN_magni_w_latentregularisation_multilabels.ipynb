{
 "cells": [
  {
   "cell_type": "code",
   "execution_count": 10,
   "metadata": {},
   "outputs": [],
   "source": [
    "# Importing necessary libraries\n",
    "# TODO:clean this\n",
    "import pandas as pd\n",
    "import numpy as np\n",
    "import os\n",
    "import pickle \n",
    "pd.options.mode.chained_assignment = None \n",
    "from matplotlib import pyplot as plt\n",
    "from sklearn.model_selection import train_test_split, ParameterGrid\n",
    "from sklearn.preprocessing import MultiLabelBinarizer\n",
    "import cv2\n",
    "import keras\n",
    "from tensorflow import keras\n",
    "import tensorflow as tf\n",
    "from tensorflow.keras.layers import Conv2D, MaxPooling2D, Flatten, Dense, Dropout, BatchNormalization, Activation\n",
    "from tensorflow.keras.preprocessing.image import ImageDataGenerator\n",
    "from tensorflow.keras.regularizers import l2\n",
    "from keras.callbacks import EarlyStopping, ReduceLROnPlateau\n",
    "from tensorflow.keras import backend as K\n",
    "from tensorflow.keras.models import Model\n",
    "from tensorflow.keras.optimizers import Adam\n",
    "from tensorflow.keras import regularizers\n",
    "from tensorflow.keras.losses import categorical_crossentropy\n",
    "from collections import OrderedDict\n",
    "import pyarrow.parquet as pa\n",
    "# from cnnmodel import ModelSubClassing"
   ]
  },
  {
   "cell_type": "code",
   "execution_count": 2,
   "metadata": {},
   "outputs": [
    {
     "data": {
      "text/html": [
       "<div>\n",
       "<style scoped>\n",
       "    .dataframe tbody tr th:only-of-type {\n",
       "        vertical-align: middle;\n",
       "    }\n",
       "\n",
       "    .dataframe tbody tr th {\n",
       "        vertical-align: top;\n",
       "    }\n",
       "\n",
       "    .dataframe thead th {\n",
       "        text-align: right;\n",
       "    }\n",
       "</style>\n",
       "<table border=\"1\" class=\"dataframe\">\n",
       "  <thead>\n",
       "    <tr style=\"text-align: right;\">\n",
       "      <th></th>\n",
       "      <th>mp3_path</th>\n",
       "      <th>tags</th>\n",
       "      <th>caption_writing</th>\n",
       "      <th>caption_embedding</th>\n",
       "    </tr>\n",
       "    <tr>\n",
       "      <th>clip_id</th>\n",
       "      <th></th>\n",
       "      <th></th>\n",
       "      <th></th>\n",
       "      <th></th>\n",
       "    </tr>\n",
       "  </thead>\n",
       "  <tbody>\n",
       "    <tr>\n",
       "      <th>2</th>\n",
       "      <td>american_bach_soloists-j_s__bach_solo_cantatas...</td>\n",
       "      <td>['opera', 'classical']</td>\n",
       "      <td>Experience the majestic beauty of classical mu...</td>\n",
       "      <td>[0.0018344965, 1.0, 1.0, 2.655105e-06, 1.50058...</td>\n",
       "    </tr>\n",
       "    <tr>\n",
       "      <th>6</th>\n",
       "      <td>american_bach_soloists-j_s__bach_solo_cantatas...</td>\n",
       "      <td>['opera', 'classical']</td>\n",
       "      <td>Experience the rich sound of classical eleganc...</td>\n",
       "      <td>[0.00030539755, 1.0, 1.0, 7.7272097e-07, 1.570...</td>\n",
       "    </tr>\n",
       "    <tr>\n",
       "      <th>10</th>\n",
       "      <td>american_bach_soloists-j_s__bach_solo_cantatas...</td>\n",
       "      <td>['opera', 'classical']</td>\n",
       "      <td>This powerful classic opera piece showcases th...</td>\n",
       "      <td>[0.0017760618, 1.0, 1.0, 5.9899867e-06, 4.3203...</td>\n",
       "    </tr>\n",
       "    <tr>\n",
       "      <th>11</th>\n",
       "      <td>american_bach_soloists-j_s__bach_solo_cantatas...</td>\n",
       "      <td>['opera']</td>\n",
       "      <td>This atmospheric and introspective song blends...</td>\n",
       "      <td>[0.00037677313, 1.0, 1.0, 3.5533972e-07, 2.639...</td>\n",
       "    </tr>\n",
       "    <tr>\n",
       "      <th>12</th>\n",
       "      <td>american_bach_soloists-j_s__bach_solo_cantatas...</td>\n",
       "      <td>['classical']</td>\n",
       "      <td>Experience a powerful and uptempo classical me...</td>\n",
       "      <td>[0.013908892, 1.0, 0.9999993, 0.000117422234, ...</td>\n",
       "    </tr>\n",
       "    <tr>\n",
       "      <th>...</th>\n",
       "      <td>...</td>\n",
       "      <td>...</td>\n",
       "      <td>...</td>\n",
       "      <td>...</td>\n",
       "    </tr>\n",
       "    <tr>\n",
       "      <th>58897</th>\n",
       "      <td>jacob_heringman-blame_not_my_lute-56-la_bressa...</td>\n",
       "      <td>['classical']</td>\n",
       "      <td>This beautiful classical piece features a haun...</td>\n",
       "      <td>[0.00088836084, 1.0, 1.0, 1.0079755e-06, 5.713...</td>\n",
       "    </tr>\n",
       "    <tr>\n",
       "      <th>58898</th>\n",
       "      <td>jacob_heringman-blame_not_my_lute-56-la_bressa...</td>\n",
       "      <td>['classical']</td>\n",
       "      <td>This classical piece features beautiful melodi...</td>\n",
       "      <td>[0.0050765076, 1.0, 1.0, 9.212903e-06, 2.80899...</td>\n",
       "    </tr>\n",
       "    <tr>\n",
       "      <th>58907</th>\n",
       "      <td>jacob_heringman-blame_not_my_lute-57-lost_is_m...</td>\n",
       "      <td>['classical']</td>\n",
       "      <td>This beautiful classical piece features a gent...</td>\n",
       "      <td>[0.0013480721, 1.0, 1.0, 1.892443e-06, 1.53413...</td>\n",
       "    </tr>\n",
       "    <tr>\n",
       "      <th>58908</th>\n",
       "      <td>jacob_heringman-blame_not_my_lute-57-lost_is_m...</td>\n",
       "      <td>['classical']</td>\n",
       "      <td>This classical guitar solo is a classic mellow...</td>\n",
       "      <td>[0.0010127255, 1.0, 1.0, 1.8413191e-06, 2.3948...</td>\n",
       "    </tr>\n",
       "    <tr>\n",
       "      <th>58915</th>\n",
       "      <td>jacob_heringman-blame_not_my_lute-58-a_toy_for...</td>\n",
       "      <td>['classical']</td>\n",
       "      <td>This beautiful classical guitar melody is slow...</td>\n",
       "      <td>[0.00462206, 1.0, 0.9999999, 1.4287562e-05, 9....</td>\n",
       "    </tr>\n",
       "  </tbody>\n",
       "</table>\n",
       "<p>13711 rows × 4 columns</p>\n",
       "</div>"
      ],
      "text/plain": [
       "                                                  mp3_path  \\\n",
       "clip_id                                                      \n",
       "2        american_bach_soloists-j_s__bach_solo_cantatas...   \n",
       "6        american_bach_soloists-j_s__bach_solo_cantatas...   \n",
       "10       american_bach_soloists-j_s__bach_solo_cantatas...   \n",
       "11       american_bach_soloists-j_s__bach_solo_cantatas...   \n",
       "12       american_bach_soloists-j_s__bach_solo_cantatas...   \n",
       "...                                                    ...   \n",
       "58897    jacob_heringman-blame_not_my_lute-56-la_bressa...   \n",
       "58898    jacob_heringman-blame_not_my_lute-56-la_bressa...   \n",
       "58907    jacob_heringman-blame_not_my_lute-57-lost_is_m...   \n",
       "58908    jacob_heringman-blame_not_my_lute-57-lost_is_m...   \n",
       "58915    jacob_heringman-blame_not_my_lute-58-a_toy_for...   \n",
       "\n",
       "                           tags  \\\n",
       "clip_id                           \n",
       "2        ['opera', 'classical']   \n",
       "6        ['opera', 'classical']   \n",
       "10       ['opera', 'classical']   \n",
       "11                    ['opera']   \n",
       "12                ['classical']   \n",
       "...                         ...   \n",
       "58897             ['classical']   \n",
       "58898             ['classical']   \n",
       "58907             ['classical']   \n",
       "58908             ['classical']   \n",
       "58915             ['classical']   \n",
       "\n",
       "                                           caption_writing  \\\n",
       "clip_id                                                      \n",
       "2        Experience the majestic beauty of classical mu...   \n",
       "6        Experience the rich sound of classical eleganc...   \n",
       "10       This powerful classic opera piece showcases th...   \n",
       "11       This atmospheric and introspective song blends...   \n",
       "12       Experience a powerful and uptempo classical me...   \n",
       "...                                                    ...   \n",
       "58897    This beautiful classical piece features a haun...   \n",
       "58898    This classical piece features beautiful melodi...   \n",
       "58907    This beautiful classical piece features a gent...   \n",
       "58908    This classical guitar solo is a classic mellow...   \n",
       "58915    This beautiful classical guitar melody is slow...   \n",
       "\n",
       "                                         caption_embedding  \n",
       "clip_id                                                     \n",
       "2        [0.0018344965, 1.0, 1.0, 2.655105e-06, 1.50058...  \n",
       "6        [0.00030539755, 1.0, 1.0, 7.7272097e-07, 1.570...  \n",
       "10       [0.0017760618, 1.0, 1.0, 5.9899867e-06, 4.3203...  \n",
       "11       [0.00037677313, 1.0, 1.0, 3.5533972e-07, 2.639...  \n",
       "12       [0.013908892, 1.0, 0.9999993, 0.000117422234, ...  \n",
       "...                                                    ...  \n",
       "58897    [0.00088836084, 1.0, 1.0, 1.0079755e-06, 5.713...  \n",
       "58898    [0.0050765076, 1.0, 1.0, 9.212903e-06, 2.80899...  \n",
       "58907    [0.0013480721, 1.0, 1.0, 1.892443e-06, 1.53413...  \n",
       "58908    [0.0010127255, 1.0, 1.0, 1.8413191e-06, 2.3948...  \n",
       "58915    [0.00462206, 1.0, 0.9999999, 1.4287562e-05, 9....  \n",
       "\n",
       "[13711 rows x 4 columns]"
      ]
     },
     "execution_count": 2,
     "metadata": {},
     "output_type": "execute_result"
    }
   ],
   "source": [
    "#df for 64 embeddings\n",
    "df = pd.read_pickle('/home/mendu/Thesis/data/magnatagatune/saved_df_data/df_w_embeddings_ML.pkl')\n",
    "df"
   ]
  },
  {
   "cell_type": "markdown",
   "metadata": {},
   "source": [
    "## Training the model"
   ]
  },
  {
   "cell_type": "code",
   "execution_count": 3,
   "metadata": {},
   "outputs": [],
   "source": [
    "def add_gauss_noise(image, mean = 0, var = 10):\n",
    "    '''function to add gaussian noise to an image'''\n",
    "    sigma = var ** 0.5\n",
    "\n",
    "    #creating a noise image with gaussian distribution\n",
    "    gaussian = np.random.normal(mean, sigma, (image.shape[0], image.shape[1]))\n",
    "\n",
    "    #creating a zeroes image\n",
    "    noisy_image = np.zeros(image.shape, np.float32)\n",
    "\n",
    "    #adding the noise to the original image\n",
    "    noisy_image = image + gaussian\n",
    "\n",
    "    #normalising the image\n",
    "    cv2.normalize(noisy_image, noisy_image, 0, 255, cv2.NORM_MINMAX, dtype=-1)\n",
    "\n",
    "    #changing type\n",
    "    noisy_image = noisy_image.astype(np.uint8)\n",
    "\n",
    "    return noisy_image"
   ]
  },
  {
   "cell_type": "code",
   "execution_count": 4,
   "metadata": {},
   "outputs": [],
   "source": [
    "#loading the cropped .npy files in a tensor\n",
    "\n",
    "#the folder path to where the mel-specs are stored\n",
    "folder_path_mel = '/home/mendu/Thesis/data/magnatagatune/mel-specs'\n",
    "\n",
    "#The ordered list of all the filenames in the filtered_df\n",
    "audio_names_list = df.mp3_path.to_list()"
   ]
  },
  {
   "cell_type": "code",
   "execution_count": 5,
   "metadata": {},
   "outputs": [
    {
     "name": "stdout",
     "output_type": "stream",
     "text": [
      "american_bach_soloists-j_s__bach_solo_cantatas-01-bwv54__i_aria-30-59.mp3\n",
      "american_bach_soloists-j_s__bach_solo_cantatas-01-bwv54__i_aria-146-175.mp3\n",
      "american_bach_soloists-j_s__bach_solo_cantatas-01-bwv54__i_aria-262-291.mp3\n",
      "american_bach_soloists-j_s__bach_solo_cantatas-01-bwv54__i_aria-291-320.mp3\n",
      "american_bach_soloists-j_s__bach_solo_cantatas-01-bwv54__i_aria-320-349.mp3\n",
      "lvx_nova-lvx_nova-01-contimune-30-59.mp3\n",
      "lvx_nova-lvx_nova-01-contimune-233-262.mp3\n",
      "american_bach_soloists-j_s__bach__cantatas_volume_v-01-gleichwie_der_regen_und_schnee_vom_himmel_fallt_bwv_18_i_sinfonia-117-146.mp3\n",
      "steven_devine-portrait_of_an_english_harpsichord-01-lesson_1_in_g_major_prelude_james_nares-30-59.mp3\n",
      "the_headroom_project-jetuton_andawai-01-linda_morena-88-117.mp3\n"
     ]
    }
   ],
   "source": [
    "data = []\n",
    "problematic_files = []\n",
    "i = 0\n",
    "\n",
    "for filename in audio_names_list: #iterates over the filtered_df audio names\n",
    "  filename_npy = str(filename[:-4]) + '.npy'\n",
    "  file_path = os.path.join(folder_path_mel, filename_npy) #creates a folder path for the mel_specs\n",
    "  try:  \n",
    "    img = np.load(file_path)\n",
    "    data.append(add_gauss_noise(img))\n",
    "\n",
    "    # To ensure that the files are getting loaded in the correct order\n",
    "    if i < 10 :\n",
    "      print(filename)\n",
    "    i = i+1\n",
    "  except Exception as e:\n",
    "    # Handle the exception (e.g., skip the file, log the filename)\n",
    "    print(f\"Error processing {filename}: {str(e)}\")\n",
    "    problematic_files.append(filename)\n",
    "    \n",
    "\n",
    "data = np.array(data)"
   ]
  },
  {
   "cell_type": "code",
   "execution_count": 6,
   "metadata": {},
   "outputs": [
    {
     "data": {
      "text/plain": [
       "[]"
      ]
     },
     "execution_count": 6,
     "metadata": {},
     "output_type": "execute_result"
    }
   ],
   "source": [
    "problematic_files"
   ]
  },
  {
   "cell_type": "code",
   "execution_count": 7,
   "metadata": {},
   "outputs": [
    {
     "data": {
      "text/plain": [
       "(13711, 128, 1255)"
      ]
     },
     "execution_count": 7,
     "metadata": {},
     "output_type": "execute_result"
    }
   ],
   "source": [
    "data.shape"
   ]
  },
  {
   "cell_type": "code",
   "execution_count": 8,
   "metadata": {},
   "outputs": [],
   "source": [
    "# Caption Embeddings\n",
    "embeddings = df['caption_embedding']"
   ]
  },
  {
   "cell_type": "code",
   "execution_count": 9,
   "metadata": {},
   "outputs": [
    {
     "data": {
      "text/plain": [
       "(13711, 128, 1255)"
      ]
     },
     "execution_count": 9,
     "metadata": {},
     "output_type": "execute_result"
    }
   ],
   "source": [
    "#normalize data\n",
    "data = data.astype('float32')/255.0\n",
    "\n",
    "data.shape"
   ]
  },
  {
   "cell_type": "code",
   "execution_count": 11,
   "metadata": {},
   "outputs": [],
   "source": [
    "# Reshape data to include the channel dimension\n",
    "data = data.reshape((-1, 128, 1255, 1))\n",
    "\n",
    "# Split data into training and validation sets\n",
    "# X_train_spec, X_val_spec, X_train_embed, X_val_embed, y_train, y_val = train_test_split(data, embeddings, pd.get_dummies(df['tags']), test_size=0.1, random_state=42)"
   ]
  },
  {
   "cell_type": "code",
   "execution_count": 12,
   "metadata": {},
   "outputs": [],
   "source": [
    "# Initialize MultiLabelBinarizer\n",
    "mlb = MultiLabelBinarizer()\n",
    "\n",
    "# Fit and transform the tags to a binary (multi-hot encoded) format\n",
    "y = mlb.fit_transform(df.tags)"
   ]
  },
  {
   "cell_type": "code",
   "execution_count": 13,
   "metadata": {},
   "outputs": [],
   "source": [
    "# Split data into training and validation sets\n",
    "X_train_spec, X_val_spec, X_train_embed, X_val_embed, y_train, y_val = train_test_split(data, embeddings, y, test_size=0.1, random_state=42)"
   ]
  },
  {
   "cell_type": "code",
   "execution_count": 14,
   "metadata": {},
   "outputs": [
    {
     "name": "stdout",
     "output_type": "stream",
     "text": [
      "Shape after conversion: (12339, 64)\n",
      "Tensor shape: (12339, 64)\n"
     ]
    },
    {
     "name": "stderr",
     "output_type": "stream",
     "text": [
      "2024-07-23 22:01:41.994838: W tensorflow/core/common_runtime/gpu/gpu_device.cc:2251] Cannot dlopen some GPU libraries. Please make sure the missing libraries mentioned above are installed properly if you would like to use GPU. Follow the guide at https://www.tensorflow.org/install/gpu for how to download and setup the required libraries for your platform.\n",
      "Skipping registering GPU devices...\n"
     ]
    }
   ],
   "source": [
    "# Now, convert this array of arrays into a proper 2D NumPy array\n",
    "X_train_embed_array = np.stack(X_train_embed, axis=0)\n",
    "\n",
    "# Check the new shape to ensure it's (450, 64)\n",
    "print(\"Shape after conversion:\", X_train_embed_array.shape)\n",
    "\n",
    "# Convert the 2D NumPy array to a TensorFlow tensor\n",
    "X_train_embed_tensor = tf.convert_to_tensor(X_train_embed_array, dtype=tf.float32)\n",
    "\n",
    "# Check the shape of the resulting tensor\n",
    "print(\"Tensor shape:\", X_train_embed_tensor.shape)"
   ]
  },
  {
   "cell_type": "code",
   "execution_count": 15,
   "metadata": {},
   "outputs": [
    {
     "name": "stdout",
     "output_type": "stream",
     "text": [
      "Shape after conversion: (1372, 64)\n",
      "Tensor shape: (1372, 64)\n"
     ]
    }
   ],
   "source": [
    "# Convert the 1D array of arrays into a proper 2D NumPy array\n",
    "X_val_embed_array = np.stack(X_val_embed, axis=0)\n",
    "\n",
    "# Check the new shape to ensure it's in the correct format\n",
    "print(\"Shape after conversion:\", X_val_embed_array.shape)\n",
    "\n",
    "# Convert the 2D NumPy array to a TensorFlow tensor\n",
    "X_val_embed_tensor = tf.convert_to_tensor(X_val_embed_array, dtype=tf.float32)\n",
    "\n",
    "# Check the shape of the resulting tensor\n",
    "print(\"Tensor shape:\", X_val_embed_tensor.shape)"
   ]
  },
  {
   "cell_type": "code",
   "execution_count": 16,
   "metadata": {},
   "outputs": [],
   "source": [
    "# Convert training data to tensors\n",
    "X_train_spec = tf.convert_to_tensor(X_train_spec, dtype=tf.float32)\n",
    "y_train = tf.convert_to_tensor(y_train, dtype=tf.float32)\n",
    "\n",
    "# Convert validation data to tensors\n",
    "X_val_spec = tf.convert_to_tensor(X_val_spec, dtype=tf.float32)\n",
    "y_val = tf.convert_to_tensor(y_val, dtype=tf.float32)"
   ]
  },
  {
   "cell_type": "code",
   "execution_count": 17,
   "metadata": {},
   "outputs": [],
   "source": [
    "# Initialize ImageDataGenerator with necessary augmentations\n",
    "datagen = ImageDataGenerator(\n",
    "    width_shift_range=0.2,\n",
    "    height_shift_range=0.2\n",
    ")\n",
    "\n",
    "datagen.fit(X_train_spec)"
   ]
  },
  {
   "cell_type": "code",
   "execution_count": 18,
   "metadata": {},
   "outputs": [
    {
     "data": {
      "text/plain": [
       "22"
      ]
     },
     "execution_count": 18,
     "metadata": {},
     "output_type": "execute_result"
    }
   ],
   "source": [
    "# Define num_classes based on the number of unique genres\n",
    "num_classes = y_train.shape[1]\n",
    "num_classes"
   ]
  },
  {
   "cell_type": "code",
   "execution_count": 19,
   "metadata": {},
   "outputs": [
    {
     "data": {
      "text/plain": [
       "(13711, 128, 1255, 1)"
      ]
     },
     "execution_count": 19,
     "metadata": {},
     "output_type": "execute_result"
    }
   ],
   "source": [
    "data.shape"
   ]
  },
  {
   "cell_type": "code",
   "execution_count": 21,
   "metadata": {},
   "outputs": [],
   "source": [
    "class ModelSubClassing(keras.Model):\n",
    "    def __init__(self, num_classes, l1_reg=0.01, l2_reg=0.001, alpha = 0.01):\n",
    "        super().__init__()\n",
    "        \n",
    "        # Define L1 and L2 regularizer\n",
    "        self.l1_l2_regularizer = regularizers.l1_l2(l1=l1_reg, l2=l2_reg)\n",
    "        # self.l2_regularizer = regularizers.l2(l2_reg)\n",
    "        \n",
    "        # Define alpha the loss regulator\n",
    "        self.alpha = alpha\n",
    "        \n",
    "        # number of classes\n",
    "        self.num_classes = num_classes\n",
    "        \n",
    "        # Initialize layers as None\n",
    "        self.conv1 = None\n",
    "        self.max1 = None\n",
    "        self.bn1 = None\n",
    "        self.conv2 = None\n",
    "        self.bn2 = None\n",
    "        self.max2 = None\n",
    "        self.drop1 = None\n",
    "        self.conv3 = None\n",
    "        self.bn3 = None\n",
    "        self.max3 = None\n",
    "        self.drop2 = None\n",
    "        self.flatten = None\n",
    "        self.dense128 = None\n",
    "        self.dense128_activation = None\n",
    "        self.dense128_do = None\n",
    "        self.dense64 = None\n",
    "        self.dense64_activation = None\n",
    "        self.dense_out = None\n",
    "        \n",
    "        self.loss_tracker = keras.metrics.Mean(name=\"loss\")\n",
    "        self.accuracy = keras.metrics.CategoricalAccuracy(name=\"accuracy\")\n",
    "\n",
    "    def build(self, input_shape):\n",
    "        # Create layers\n",
    "        self.conv1 = Conv2D(32, 3, activation=\"relu\", kernel_regularizer=self.l1_l2_regularizer)\n",
    "        self.max1  = MaxPooling2D(3)\n",
    "        self.bn1   = BatchNormalization(momentum=0.9)\n",
    "\n",
    "        self.conv2 = Conv2D(64, 3, activation=\"relu\", kernel_regularizer=self.l1_l2_regularizer)\n",
    "        self.bn2   = BatchNormalization(momentum=0.9)\n",
    "        self.max2  = MaxPooling2D(3)\n",
    "        self.drop1 = Dropout(0.3)\n",
    "\n",
    "        self.conv3 = Conv2D(128, 3, activation=\"relu\", kernel_regularizer=self.l1_l2_regularizer)\n",
    "        self.bn3   = BatchNormalization(momentum=0.9)\n",
    "        self.max3  = MaxPooling2D(3)\n",
    "        self.drop2 = Dropout(0.3)\n",
    "\n",
    "        self.flatten = Flatten()\n",
    "        self.dense128 = Dense(128)\n",
    "        self.dense128_activation = Activation('relu')\n",
    "        self.dense128_do = Dropout(0.3)\n",
    "        self.dense64 = Dense(64)\n",
    "        self.dense64_activation = Activation('sigmoid')\n",
    "        self.dense_out = Dense(self.num_classes, activation=\"sigmoid\") #activation changed\n",
    "        \n",
    "        super().build(input_shape)\n",
    "\n",
    "    def call(self, inputs, training=None):\n",
    "        # Unpack the inputs\n",
    "        mel_spectrogram = inputs[0]\n",
    "\n",
    "        # Forward pass: block 1\n",
    "        x = self.conv1(mel_spectrogram)\n",
    "        x = self.max1(x)\n",
    "        x = self.bn1(x, training=training)\n",
    "\n",
    "        # Forward pass: block 2\n",
    "        x = self.conv2(x)\n",
    "        x = self.bn2(x, training=training)\n",
    "        x = self.max2(x)\n",
    "        x = self.drop1(x, training=training)\n",
    "\n",
    "        # Forward pass: block 3\n",
    "        x = self.conv3(x)\n",
    "        x = self.bn3(x, training=training)\n",
    "        x = self.max3(x)\n",
    "        x = self.drop2(x, training=training)\n",
    "\n",
    "        # Flatten and dense layers\n",
    "        x = self.flatten(x)\n",
    "        x_dense128 = self.dense128(x)\n",
    "        x_dense128_act = self.dense128_activation(x_dense128)\n",
    "        #I removed the if condition here and the l1_l2 reg\n",
    "        x_dense128_act = self.dense128_do(x_dense128_act)\n",
    "        x_dense64 = self.dense64(x_dense128_act)\n",
    "        x_dense64_act = self.dense64_activation(x_dense64)\n",
    "        y_hat = self.dense_out(x_dense64_act)\n",
    "        \n",
    "        return y_hat, x_dense64\n",
    "\n",
    "\n",
    "    def train_step(self, data):\n",
    "        # Unpack the data\n",
    "        (mel_spectrogram, caption_embedding), y = data\n",
    "\n",
    "        with tf.GradientTape() as tape: \n",
    "        #here we get the gradients of the trainable weights with this loss\n",
    "            y_pred, x_dense64 = self((mel_spectrogram, caption_embedding), training=True)  # Forward pass\n",
    "            # Compute the standard loss value\n",
    "            loss = self.compiled_loss(y, y_pred)\n",
    "            custom_loss = self.custom_loss(caption_embedding, x_dense64)\n",
    "            total_loss = (1 - self.alpha) * loss + self.alpha * custom_loss\n",
    "\n",
    "        # Compute gradients\n",
    "        gradients = tape.gradient(total_loss, self.trainable_variables)\n",
    "\n",
    "        # Update weights\n",
    "        self.optimizer.apply_gradients(zip(gradients, self.trainable_variables))\n",
    "\n",
    "        # Update the loss metric and any additional metrics\n",
    "        self.loss_tracker.update_state(total_loss)\n",
    "        self.accuracy.update_state(y, y_pred)\n",
    "\n",
    "        return {\n",
    "            \"loss\": self.loss_tracker.result(),\n",
    "            \"accuracy\": self.accuracy.result(),\n",
    "            \"crossentropy_loss\": loss,\n",
    "            \"embedding_loss\": custom_loss,\n",
    "            \"total_loss\": total_loss\n",
    "        }\n",
    "\n",
    "        \n",
    "    def test_step(self, data):\n",
    "        # Unpack the data\n",
    "        (mel_spectrogram, caption_embedding), y = data\n",
    "\n",
    "        \n",
    "        y_pred, x_dense64 = self((mel_spectrogram, caption_embedding), training=False)  # Forward pass\n",
    "        # Compute the standard loss value\n",
    "        loss = self.compiled_loss(y, y_pred)\n",
    "        custom_loss = self.custom_loss(caption_embedding, x_dense64)\n",
    "        total_loss = (1 - self.alpha) * loss + self.alpha * custom_loss\n",
    "\n",
    "        # Update the loss metric and any additional metrics\n",
    "        self.loss_tracker.update_state(total_loss)\n",
    "        self.accuracy.update_state(y, y_pred)\n",
    "\n",
    "        return {\n",
    "            \"loss\": self.loss_tracker.result(),\n",
    "            \"accuracy\": self.accuracy.result(),\n",
    "            \"crossentropy_loss\": loss,\n",
    "            \"embedding_loss\": custom_loss,\n",
    "            \"total_loss\": total_loss\n",
    "        }\n",
    "        \n",
    "    # Add a custom loss method in the model\n",
    "    def custom_loss(self, caption_embedding, x_dense64):\n",
    "        return tf.reduce_mean(tf.square(caption_embedding - x_dense64))\n",
    "\n",
    "    #new\n",
    "    @property\n",
    "    def metrics(self):\n",
    "        # List all metrics to be reset after each epoch\n",
    "        return [self.loss_tracker, self.accuracy]\n",
    "    \n",
    "# Creating the class object\n",
    "model = ModelSubClassing(num_classes, l2_reg= 0.01)\n",
    "\n",
    "# Compile the model\n",
    "adam_opt = keras.optimizers.Adam(learning_rate=0.0001)\n",
    "model.compile(optimizer=adam_opt, loss='binary_crossentropy', metrics=[keras.metrics.BinaryAccuracy()])\n"
   ]
  },
  {
   "cell_type": "code",
   "execution_count": 22,
   "metadata": {},
   "outputs": [
    {
     "name": "stdout",
     "output_type": "stream",
     "text": [
      "Epoch 1/100\n"
     ]
    },
    {
     "name": "stderr",
     "output_type": "stream",
     "text": [
      "/home/mendu/miniconda3/envs/myenv/lib/python3.11/site-packages/keras/src/backend/tensorflow/trainer.py:612: UserWarning: `model.compiled_loss()` is deprecated. Instead, use `model.compute_loss(x, y, y_pred, sample_weight)`.\n",
      "  warnings.warn(\n"
     ]
    },
    {
     "name": "stdout",
     "output_type": "stream",
     "text": [
      "\u001b[1m386/386\u001b[0m \u001b[32m━━━━━━━━━━━━━━━━━━━━\u001b[0m\u001b[37m\u001b[0m \u001b[1m242s\u001b[0m 605ms/step - accuracy: 0.0215 - crossentropy_loss: 16.7969 - embedding_loss: 3.6501 - loss: 23.3458 - total_loss: 16.6654 - val_accuracy: 0.0248 - val_loss: 5.8311 - learning_rate: 1.0000e-04\n",
      "Epoch 2/100\n",
      "\u001b[1m386/386\u001b[0m \u001b[32m━━━━━━━━━━━━━━━━━━━━\u001b[0m\u001b[37m\u001b[0m \u001b[1m231s\u001b[0m 599ms/step - accuracy: 0.1237 - crossentropy_loss: 2.1261 - embedding_loss: 1.9471 - loss: 3.5039 - total_loss: 2.1243 - val_accuracy: 0.3411 - val_loss: 0.6236 - learning_rate: 1.0000e-04\n",
      "Epoch 3/100\n",
      "\u001b[1m386/386\u001b[0m \u001b[32m━━━━━━━━━━━━━━━━━━━━\u001b[0m\u001b[37m\u001b[0m \u001b[1m232s\u001b[0m 600ms/step - accuracy: 0.3033 - crossentropy_loss: 0.4699 - embedding_loss: 1.5176 - loss: 0.5295 - total_loss: 0.4803 - val_accuracy: 0.3163 - val_loss: 0.4251 - learning_rate: 1.0000e-04\n",
      "Epoch 4/100\n",
      "\u001b[1m386/386\u001b[0m \u001b[32m━━━━━━━━━━━━━━━━━━━━\u001b[0m\u001b[37m\u001b[0m \u001b[1m232s\u001b[0m 602ms/step - accuracy: 0.3344 - crossentropy_loss: 0.4031 - embedding_loss: 1.4424 - loss: 0.4214 - total_loss: 0.4135 - val_accuracy: 0.3360 - val_loss: 0.3929 - learning_rate: 1.0000e-04\n",
      "Epoch 5/100\n",
      "\u001b[1m386/386\u001b[0m \u001b[32m━━━━━━━━━━━━━━━━━━━━\u001b[0m\u001b[37m\u001b[0m \u001b[1m232s\u001b[0m 601ms/step - accuracy: 0.3314 - crossentropy_loss: 0.3792 - embedding_loss: 1.4396 - loss: 0.3938 - total_loss: 0.3898 - val_accuracy: 0.3783 - val_loss: 0.3837 - learning_rate: 1.0000e-04\n",
      "Epoch 6/100\n",
      "\u001b[1m386/386\u001b[0m \u001b[32m━━━━━━━━━━━━━━━━━━━━\u001b[0m\u001b[37m\u001b[0m \u001b[1m232s\u001b[0m 602ms/step - accuracy: 0.3250 - crossentropy_loss: 0.3651 - embedding_loss: 1.4486 - loss: 0.3793 - total_loss: 0.3760 - val_accuracy: 0.2347 - val_loss: 0.3728 - learning_rate: 1.0000e-04\n",
      "Epoch 7/100\n",
      "\u001b[1m386/386\u001b[0m \u001b[32m━━━━━━━━━━━━━━━━━━━━\u001b[0m\u001b[37m\u001b[0m \u001b[1m262s\u001b[0m 603ms/step - accuracy: 0.3227 - crossentropy_loss: 0.3547 - embedding_loss: 1.4493 - loss: 0.3669 - total_loss: 0.3657 - val_accuracy: 0.4198 - val_loss: 0.3607 - learning_rate: 1.0000e-04\n",
      "Epoch 8/100\n",
      "\u001b[1m386/386\u001b[0m \u001b[32m━━━━━━━━━━━━━━━━━━━━\u001b[0m\u001b[37m\u001b[0m \u001b[1m229s\u001b[0m 593ms/step - accuracy: 0.3228 - crossentropy_loss: 0.3468 - embedding_loss: 1.4601 - loss: 0.3600 - total_loss: 0.3580 - val_accuracy: 0.2398 - val_loss: 0.3468 - learning_rate: 1.0000e-04\n",
      "Epoch 9/100\n",
      "\u001b[1m386/386\u001b[0m \u001b[32m━━━━━━━━━━━━━━━━━━━━\u001b[0m\u001b[37m\u001b[0m \u001b[1m232s\u001b[0m 600ms/step - accuracy: 0.3005 - crossentropy_loss: 0.3431 - embedding_loss: 1.4395 - loss: 0.3551 - total_loss: 0.3541 - val_accuracy: 0.1064 - val_loss: 0.3475 - learning_rate: 1.0000e-04\n",
      "Epoch 10/100\n",
      "\u001b[1m386/386\u001b[0m \u001b[32m━━━━━━━━━━━━━━━━━━━━\u001b[0m\u001b[37m\u001b[0m \u001b[1m229s\u001b[0m 594ms/step - accuracy: 0.2898 - crossentropy_loss: 0.3360 - embedding_loss: 1.4399 - loss: 0.3496 - total_loss: 0.3471 - val_accuracy: 0.2595 - val_loss: 0.3401 - learning_rate: 1.0000e-04\n",
      "Epoch 11/100\n",
      "\u001b[1m386/386\u001b[0m \u001b[32m━━━━━━━━━━━━━━━━━━━━\u001b[0m\u001b[37m\u001b[0m \u001b[1m232s\u001b[0m 602ms/step - accuracy: 0.2784 - crossentropy_loss: 0.3319 - embedding_loss: 1.4307 - loss: 0.3455 - total_loss: 0.3429 - val_accuracy: 0.1888 - val_loss: 0.3394 - learning_rate: 1.0000e-04\n",
      "Epoch 12/100\n",
      "\u001b[1m386/386\u001b[0m \u001b[32m━━━━━━━━━━━━━━━━━━━━\u001b[0m\u001b[37m\u001b[0m \u001b[1m232s\u001b[0m 600ms/step - accuracy: 0.2535 - crossentropy_loss: 0.3280 - embedding_loss: 1.4292 - loss: 0.3424 - total_loss: 0.3390 - val_accuracy: 0.1968 - val_loss: 0.3324 - learning_rate: 1.0000e-04\n",
      "Epoch 13/100\n",
      "\u001b[1m386/386\u001b[0m \u001b[32m━━━━━━━━━━━━━━━━━━━━\u001b[0m\u001b[37m\u001b[0m \u001b[1m232s\u001b[0m 601ms/step - accuracy: 0.2406 - crossentropy_loss: 0.3242 - embedding_loss: 1.4217 - loss: 0.3371 - total_loss: 0.3352 - val_accuracy: 0.1596 - val_loss: 0.3377 - learning_rate: 1.0000e-04\n",
      "Epoch 14/100\n",
      "\u001b[1m386/386\u001b[0m \u001b[32m━━━━━━━━━━━━━━━━━━━━\u001b[0m\u001b[37m\u001b[0m \u001b[1m232s\u001b[0m 602ms/step - accuracy: 0.2449 - crossentropy_loss: 0.3206 - embedding_loss: 1.4265 - loss: 0.3294 - total_loss: 0.3316 - val_accuracy: 0.1115 - val_loss: 0.3389 - learning_rate: 1.0000e-04\n",
      "Epoch 15/100\n",
      "\u001b[1m386/386\u001b[0m \u001b[32m━━━━━━━━━━━━━━━━━━━━\u001b[0m\u001b[37m\u001b[0m \u001b[1m232s\u001b[0m 602ms/step - accuracy: 0.2139 - crossentropy_loss: 0.3162 - embedding_loss: 1.4320 - loss: 0.3286 - total_loss: 0.3273 - val_accuracy: 0.1363 - val_loss: 0.3401 - learning_rate: 1.0000e-04\n",
      "Epoch 16/100\n",
      "\u001b[1m386/386\u001b[0m \u001b[32m━━━━━━━━━━━━━━━━━━━━\u001b[0m\u001b[37m\u001b[0m \u001b[1m232s\u001b[0m 601ms/step - accuracy: 0.2064 - crossentropy_loss: 0.3152 - embedding_loss: 1.4450 - loss: 0.3318 - total_loss: 0.3265 - val_accuracy: 0.0824 - val_loss: 0.3236 - learning_rate: 1.0000e-04\n",
      "Epoch 17/100\n",
      "\u001b[1m386/386\u001b[0m \u001b[32m━━━━━━━━━━━━━━━━━━━━\u001b[0m\u001b[37m\u001b[0m \u001b[1m232s\u001b[0m 601ms/step - accuracy: 0.2082 - crossentropy_loss: 0.3096 - embedding_loss: 1.4292 - loss: 0.3192 - total_loss: 0.3208 - val_accuracy: 0.1990 - val_loss: 0.3191 - learning_rate: 1.0000e-04\n",
      "Epoch 18/100\n",
      "\u001b[1m386/386\u001b[0m \u001b[32m━━━━━━━━━━━━━━━━━━━━\u001b[0m\u001b[37m\u001b[0m \u001b[1m232s\u001b[0m 601ms/step - accuracy: 0.1985 - crossentropy_loss: 0.3063 - embedding_loss: 1.4432 - loss: 0.3188 - total_loss: 0.3177 - val_accuracy: 0.1195 - val_loss: 0.3201 - learning_rate: 1.0000e-04\n",
      "Epoch 19/100\n",
      "\u001b[1m386/386\u001b[0m \u001b[32m━━━━━━━━━━━━━━━━━━━━\u001b[0m\u001b[37m\u001b[0m \u001b[1m232s\u001b[0m 600ms/step - accuracy: 0.1873 - crossentropy_loss: 0.3055 - embedding_loss: 1.4136 - loss: 0.3197 - total_loss: 0.3166 - val_accuracy: 0.0787 - val_loss: 0.3161 - learning_rate: 1.0000e-04\n",
      "Epoch 20/100\n",
      "\u001b[1m386/386\u001b[0m \u001b[32m━━━━━━━━━━━━━━━━━━━━\u001b[0m\u001b[37m\u001b[0m \u001b[1m231s\u001b[0m 598ms/step - accuracy: 0.1704 - crossentropy_loss: 0.3030 - embedding_loss: 1.4238 - loss: 0.3135 - total_loss: 0.3142 - val_accuracy: 0.0955 - val_loss: 0.3107 - learning_rate: 1.0000e-04\n",
      "Epoch 21/100\n",
      "\u001b[1m386/386\u001b[0m \u001b[32m━━━━━━━━━━━━━━━━━━━━\u001b[0m\u001b[37m\u001b[0m \u001b[1m233s\u001b[0m 602ms/step - accuracy: 0.1901 - crossentropy_loss: 0.2989 - embedding_loss: 1.4173 - loss: 0.3111 - total_loss: 0.3101 - val_accuracy: 0.1399 - val_loss: 0.3064 - learning_rate: 1.0000e-04\n",
      "Epoch 22/100\n",
      "\u001b[1m386/386\u001b[0m \u001b[32m━━━━━━━━━━━━━━━━━━━━\u001b[0m\u001b[37m\u001b[0m \u001b[1m231s\u001b[0m 598ms/step - accuracy: 0.1879 - crossentropy_loss: 0.2981 - embedding_loss: 1.4218 - loss: 0.3086 - total_loss: 0.3093 - val_accuracy: 0.1217 - val_loss: 0.3039 - learning_rate: 1.0000e-04\n",
      "Epoch 23/100\n",
      "\u001b[1m386/386\u001b[0m \u001b[32m━━━━━━━━━━━━━━━━━━━━\u001b[0m\u001b[37m\u001b[0m \u001b[1m232s\u001b[0m 601ms/step - accuracy: 0.1765 - crossentropy_loss: 0.2956 - embedding_loss: 1.4028 - loss: 0.3030 - total_loss: 0.3067 - val_accuracy: 0.2070 - val_loss: 0.3064 - learning_rate: 1.0000e-04\n",
      "Epoch 24/100\n",
      "\u001b[1m386/386\u001b[0m \u001b[32m━━━━━━━━━━━━━━━━━━━━\u001b[0m\u001b[37m\u001b[0m \u001b[1m231s\u001b[0m 597ms/step - accuracy: 0.1701 - crossentropy_loss: 0.2937 - embedding_loss: 1.4185 - loss: 0.3048 - total_loss: 0.3050 - val_accuracy: 0.0926 - val_loss: 0.3003 - learning_rate: 1.0000e-04\n",
      "Epoch 25/100\n",
      "\u001b[1m386/386\u001b[0m \u001b[32m━━━━━━━━━━━━━━━━━━━━\u001b[0m\u001b[37m\u001b[0m \u001b[1m231s\u001b[0m 598ms/step - accuracy: 0.1603 - crossentropy_loss: 0.2914 - embedding_loss: 1.4096 - loss: 0.3025 - total_loss: 0.3026 - val_accuracy: 0.1319 - val_loss: 0.3035 - learning_rate: 1.0000e-04\n",
      "Epoch 26/100\n",
      "\u001b[1m386/386\u001b[0m \u001b[32m━━━━━━━━━━━━━━━━━━━━\u001b[0m\u001b[37m\u001b[0m \u001b[1m230s\u001b[0m 596ms/step - accuracy: 0.1583 - crossentropy_loss: 0.2897 - embedding_loss: 1.4135 - loss: 0.3038 - total_loss: 0.3009 - val_accuracy: 0.0787 - val_loss: 0.3715 - learning_rate: 1.0000e-04\n",
      "Epoch 27/100\n",
      "\u001b[1m386/386\u001b[0m \u001b[32m━━━━━━━━━━━━━━━━━━━━\u001b[0m\u001b[37m\u001b[0m \u001b[1m232s\u001b[0m 600ms/step - accuracy: 0.1414 - crossentropy_loss: 0.2865 - embedding_loss: 1.4183 - loss: 0.3009 - total_loss: 0.2978 - val_accuracy: 0.0736 - val_loss: 0.3296 - learning_rate: 1.0000e-04\n",
      "Epoch 28/100\n",
      "\u001b[1m386/386\u001b[0m \u001b[32m━━━━━━━━━━━━━━━━━━━━\u001b[0m\u001b[37m\u001b[0m \u001b[1m263s\u001b[0m 602ms/step - accuracy: 0.1509 - crossentropy_loss: 0.2855 - embedding_loss: 1.4253 - loss: 0.2928 - total_loss: 0.2969 - val_accuracy: 0.1232 - val_loss: 0.2993 - learning_rate: 1.0000e-04\n",
      "Epoch 29/100\n",
      "\u001b[1m386/386\u001b[0m \u001b[32m━━━━━━━━━━━━━━━━━━━━\u001b[0m\u001b[37m\u001b[0m \u001b[1m231s\u001b[0m 599ms/step - accuracy: 0.1558 - crossentropy_loss: 0.2836 - embedding_loss: 1.4120 - loss: 0.2942 - total_loss: 0.2949 - val_accuracy: 0.1028 - val_loss: 0.2996 - learning_rate: 1.0000e-04\n",
      "Epoch 30/100\n",
      "\u001b[1m386/386\u001b[0m \u001b[32m━━━━━━━━━━━━━━━━━━━━\u001b[0m\u001b[37m\u001b[0m \u001b[1m232s\u001b[0m 601ms/step - accuracy: 0.1414 - crossentropy_loss: 0.2822 - embedding_loss: 1.4223 - loss: 0.2926 - total_loss: 0.2936 - val_accuracy: 0.1246 - val_loss: 0.2937 - learning_rate: 1.0000e-04\n",
      "Epoch 31/100\n",
      "\u001b[1m386/386\u001b[0m \u001b[32m━━━━━━━━━━━━━━━━━━━━\u001b[0m\u001b[37m\u001b[0m \u001b[1m231s\u001b[0m 599ms/step - accuracy: 0.1547 - crossentropy_loss: 0.2803 - embedding_loss: 1.4119 - loss: 0.2869 - total_loss: 0.2916 - val_accuracy: 0.1385 - val_loss: 0.3038 - learning_rate: 1.0000e-04\n",
      "Epoch 32/100\n",
      "\u001b[1m386/386\u001b[0m \u001b[32m━━━━━━━━━━━━━━━━━━━━\u001b[0m\u001b[37m\u001b[0m \u001b[1m231s\u001b[0m 598ms/step - accuracy: 0.1511 - crossentropy_loss: 0.2786 - embedding_loss: 1.3977 - loss: 0.2904 - total_loss: 0.2898 - val_accuracy: 0.0576 - val_loss: 0.3004 - learning_rate: 1.0000e-04\n",
      "Epoch 33/100\n",
      "\u001b[1m386/386\u001b[0m \u001b[32m━━━━━━━━━━━━━━━━━━━━\u001b[0m\u001b[37m\u001b[0m \u001b[1m230s\u001b[0m 597ms/step - accuracy: 0.1399 - crossentropy_loss: 0.2761 - embedding_loss: 1.4130 - loss: 0.2895 - total_loss: 0.2875 - val_accuracy: 0.0838 - val_loss: 0.3083 - learning_rate: 1.0000e-04\n",
      "Epoch 34/100\n",
      "\u001b[1m386/386\u001b[0m \u001b[32m━━━━━━━━━━━━━━━━━━━━\u001b[0m\u001b[37m\u001b[0m \u001b[1m232s\u001b[0m 601ms/step - accuracy: 0.1526 - crossentropy_loss: 0.2750 - embedding_loss: 1.4143 - loss: 0.2897 - total_loss: 0.2864 - val_accuracy: 0.1254 - val_loss: 0.2943 - learning_rate: 1.0000e-04\n",
      "Epoch 35/100\n",
      "\u001b[1m386/386\u001b[0m \u001b[32m━━━━━━━━━━━━━━━━━━━━\u001b[0m\u001b[37m\u001b[0m \u001b[1m232s\u001b[0m 601ms/step - accuracy: 0.1395 - crossentropy_loss: 0.2743 - embedding_loss: 1.4217 - loss: 0.2885 - total_loss: 0.2857 - val_accuracy: 0.1370 - val_loss: 0.3198 - learning_rate: 1.0000e-04\n",
      "Epoch 36/100\n",
      "\u001b[1m386/386\u001b[0m \u001b[32m━━━━━━━━━━━━━━━━━━━━\u001b[0m\u001b[37m\u001b[0m \u001b[1m232s\u001b[0m 600ms/step - accuracy: 0.1405 - crossentropy_loss: 0.2720 - embedding_loss: 1.4325 - loss: 0.2842 - total_loss: 0.2836 - val_accuracy: 0.0838 - val_loss: 0.2898 - learning_rate: 1.0000e-04\n",
      "Epoch 37/100\n",
      "\u001b[1m386/386\u001b[0m \u001b[32m━━━━━━━━━━━━━━━━━━━━\u001b[0m\u001b[37m\u001b[0m \u001b[1m262s\u001b[0m 601ms/step - accuracy: 0.1318 - crossentropy_loss: 0.2681 - embedding_loss: 1.4274 - loss: 0.2796 - total_loss: 0.2797 - val_accuracy: 0.0838 - val_loss: 0.2922 - learning_rate: 1.0000e-04\n",
      "Epoch 38/100\n",
      "\u001b[1m386/386\u001b[0m \u001b[32m━━━━━━━━━━━━━━━━━━━━\u001b[0m\u001b[37m\u001b[0m \u001b[1m262s\u001b[0m 602ms/step - accuracy: 0.1282 - crossentropy_loss: 0.2678 - embedding_loss: 1.4234 - loss: 0.2767 - total_loss: 0.2793 - val_accuracy: 0.0671 - val_loss: 0.3035 - learning_rate: 1.0000e-04\n",
      "Epoch 39/100\n",
      "\u001b[1m386/386\u001b[0m \u001b[32m━━━━━━━━━━━━━━━━━━━━\u001b[0m\u001b[37m\u001b[0m \u001b[1m230s\u001b[0m 596ms/step - accuracy: 0.1200 - crossentropy_loss: 0.2669 - embedding_loss: 1.4089 - loss: 0.2772 - total_loss: 0.2783 - val_accuracy: 0.0838 - val_loss: 0.2956 - learning_rate: 1.0000e-04\n",
      "Epoch 40/100\n",
      "\u001b[1m386/386\u001b[0m \u001b[32m━━━━━━━━━━━━━━━━━━━━\u001b[0m\u001b[37m\u001b[0m \u001b[1m232s\u001b[0m 601ms/step - accuracy: 0.1316 - crossentropy_loss: 0.2663 - embedding_loss: 1.4058 - loss: 0.2785 - total_loss: 0.2777 - val_accuracy: 0.1035 - val_loss: 0.2893 - learning_rate: 1.0000e-04\n",
      "Epoch 41/100\n",
      "\u001b[1m386/386\u001b[0m \u001b[32m━━━━━━━━━━━━━━━━━━━━\u001b[0m\u001b[37m\u001b[0m \u001b[1m232s\u001b[0m 600ms/step - accuracy: 0.1150 - crossentropy_loss: 0.2647 - embedding_loss: 1.4124 - loss: 0.2752 - total_loss: 0.2762 - val_accuracy: 0.1305 - val_loss: 0.2831 - learning_rate: 1.0000e-04\n",
      "Epoch 42/100\n",
      "\u001b[1m386/386\u001b[0m \u001b[32m━━━━━━━━━━━━━━━━━━━━\u001b[0m\u001b[37m\u001b[0m \u001b[1m231s\u001b[0m 598ms/step - accuracy: 0.1295 - crossentropy_loss: 0.2625 - embedding_loss: 1.4126 - loss: 0.2742 - total_loss: 0.2740 - val_accuracy: 0.1152 - val_loss: 0.2949 - learning_rate: 1.0000e-04\n",
      "Epoch 43/100\n",
      "\u001b[1m386/386\u001b[0m \u001b[32m━━━━━━━━━━━━━━━━━━━━\u001b[0m\u001b[37m\u001b[0m \u001b[1m232s\u001b[0m 600ms/step - accuracy: 0.1349 - crossentropy_loss: 0.2611 - embedding_loss: 1.4234 - loss: 0.2730 - total_loss: 0.2727 - val_accuracy: 0.1625 - val_loss: 0.3018 - learning_rate: 1.0000e-04\n",
      "Epoch 44/100\n",
      "\u001b[1m386/386\u001b[0m \u001b[32m━━━━━━━━━━━━━━━━━━━━\u001b[0m\u001b[37m\u001b[0m \u001b[1m231s\u001b[0m 598ms/step - accuracy: 0.1296 - crossentropy_loss: 0.2597 - embedding_loss: 1.4274 - loss: 0.2721 - total_loss: 0.2714 - val_accuracy: 0.0773 - val_loss: 0.2874 - learning_rate: 1.0000e-04\n",
      "Epoch 45/100\n",
      "\u001b[1m386/386\u001b[0m \u001b[32m━━━━━━━━━━━━━━━━━━━━\u001b[0m\u001b[37m\u001b[0m \u001b[1m232s\u001b[0m 601ms/step - accuracy: 0.1233 - crossentropy_loss: 0.2571 - embedding_loss: 1.4274 - loss: 0.2676 - total_loss: 0.2688 - val_accuracy: 0.1159 - val_loss: 0.3059 - learning_rate: 1.0000e-04\n",
      "Epoch 46/100\n",
      "\u001b[1m386/386\u001b[0m \u001b[32m━━━━━━━━━━━━━━━━━━━━\u001b[0m\u001b[37m\u001b[0m \u001b[1m232s\u001b[0m 601ms/step - accuracy: 0.1292 - crossentropy_loss: 0.2562 - embedding_loss: 1.4193 - loss: 0.2667 - total_loss: 0.2678 - val_accuracy: 0.1086 - val_loss: 0.2940 - learning_rate: 1.0000e-04\n",
      "Epoch 47/100\n",
      "\u001b[1m386/386\u001b[0m \u001b[32m━━━━━━━━━━━━━━━━━━━━\u001b[0m\u001b[37m\u001b[0m \u001b[1m233s\u001b[0m 602ms/step - accuracy: 0.1297 - crossentropy_loss: 0.2554 - embedding_loss: 1.4244 - loss: 0.2657 - total_loss: 0.2671 - val_accuracy: 0.1115 - val_loss: 0.2888 - learning_rate: 1.0000e-04\n",
      "Epoch 48/100\n",
      "\u001b[1m386/386\u001b[0m \u001b[32m━━━━━━━━━━━━━━━━━━━━\u001b[0m\u001b[37m\u001b[0m \u001b[1m231s\u001b[0m 597ms/step - accuracy: 0.1394 - crossentropy_loss: 0.2521 - embedding_loss: 1.4300 - loss: 0.2650 - total_loss: 0.2638 - val_accuracy: 0.0787 - val_loss: 0.2944 - learning_rate: 1.0000e-04\n",
      "Epoch 49/100\n",
      "\u001b[1m386/386\u001b[0m \u001b[32m━━━━━━━━━━━━━━━━━━━━\u001b[0m\u001b[37m\u001b[0m \u001b[1m232s\u001b[0m 601ms/step - accuracy: 0.1364 - crossentropy_loss: 0.2519 - embedding_loss: 1.4243 - loss: 0.2638 - total_loss: 0.2636 - val_accuracy: 0.0816 - val_loss: 0.2907 - learning_rate: 1.0000e-04\n",
      "Epoch 50/100\n",
      "\u001b[1m386/386\u001b[0m \u001b[32m━━━━━━━━━━━━━━━━━━━━\u001b[0m\u001b[37m\u001b[0m \u001b[1m232s\u001b[0m 601ms/step - accuracy: 0.1239 - crossentropy_loss: 0.2499 - embedding_loss: 1.4387 - loss: 0.2607 - total_loss: 0.2617 - val_accuracy: 0.0897 - val_loss: 0.3068 - learning_rate: 1.0000e-04\n",
      "Epoch 51/100\n",
      "\u001b[1m386/386\u001b[0m \u001b[32m━━━━━━━━━━━━━━━━━━━━\u001b[0m\u001b[37m\u001b[0m \u001b[1m0s\u001b[0m 564ms/step - accuracy: 0.1375 - crossentropy_loss: 0.2509 - embedding_loss: 1.4146 - loss: 0.2598 - total_loss: 0.2626\n",
      "Epoch 51: ReduceLROnPlateau reducing learning rate to 4.999999873689376e-05.\n",
      "\u001b[1m386/386\u001b[0m \u001b[32m━━━━━━━━━━━━━━━━━━━━\u001b[0m\u001b[37m\u001b[0m \u001b[1m220s\u001b[0m 571ms/step - accuracy: 0.1375 - crossentropy_loss: 0.2509 - embedding_loss: 1.4146 - loss: 0.2598 - total_loss: 0.2626 - val_accuracy: 0.1035 - val_loss: 0.3006 - learning_rate: 1.0000e-04\n",
      "Epoch 52/100\n",
      "\u001b[1m386/386\u001b[0m \u001b[32m━━━━━━━━━━━━━━━━━━━━\u001b[0m\u001b[37m\u001b[0m \u001b[1m123s\u001b[0m 320ms/step - accuracy: 0.1342 - crossentropy_loss: 0.2359 - embedding_loss: 1.4454 - loss: 0.2478 - total_loss: 0.2479 - val_accuracy: 0.1079 - val_loss: 0.3101 - learning_rate: 5.0000e-05\n",
      "Epoch 53/100\n",
      "\u001b[1m386/386\u001b[0m \u001b[32m━━━━━━━━━━━━━━━━━━━━\u001b[0m\u001b[37m\u001b[0m \u001b[1m124s\u001b[0m 320ms/step - accuracy: 0.1370 - crossentropy_loss: 0.2332 - embedding_loss: 1.4582 - loss: 0.2464 - total_loss: 0.2455 - val_accuracy: 0.1429 - val_loss: 0.2862 - learning_rate: 5.0000e-05\n",
      "Epoch 54/100\n",
      "\u001b[1m386/386\u001b[0m \u001b[32m━━━━━━━━━━━━━━━━━━━━\u001b[0m\u001b[37m\u001b[0m \u001b[1m124s\u001b[0m 320ms/step - accuracy: 0.1436 - crossentropy_loss: 0.2323 - embedding_loss: 1.4603 - loss: 0.2410 - total_loss: 0.2446 - val_accuracy: 0.1101 - val_loss: 0.2823 - learning_rate: 5.0000e-05\n",
      "Epoch 55/100\n",
      "\u001b[1m386/386\u001b[0m \u001b[32m━━━━━━━━━━━━━━━━━━━━\u001b[0m\u001b[37m\u001b[0m \u001b[1m123s\u001b[0m 320ms/step - accuracy: 0.1370 - crossentropy_loss: 0.2317 - embedding_loss: 1.4489 - loss: 0.2412 - total_loss: 0.2439 - val_accuracy: 0.1108 - val_loss: 0.2912 - learning_rate: 5.0000e-05\n",
      "Epoch 56/100\n",
      "\u001b[1m386/386\u001b[0m \u001b[32m━━━━━━━━━━━━━━━━━━━━\u001b[0m\u001b[37m\u001b[0m \u001b[1m124s\u001b[0m 320ms/step - accuracy: 0.1596 - crossentropy_loss: 0.2331 - embedding_loss: 1.4360 - loss: 0.2461 - total_loss: 0.2452 - val_accuracy: 0.1348 - val_loss: 0.2893 - learning_rate: 5.0000e-05\n",
      "Epoch 57/100\n",
      "\u001b[1m386/386\u001b[0m \u001b[32m━━━━━━━━━━━━━━━━━━━━\u001b[0m\u001b[37m\u001b[0m \u001b[1m123s\u001b[0m 320ms/step - accuracy: 0.1546 - crossentropy_loss: 0.2313 - embedding_loss: 1.4420 - loss: 0.2438 - total_loss: 0.2434 - val_accuracy: 0.1436 - val_loss: 0.2867 - learning_rate: 5.0000e-05\n",
      "Epoch 58/100\n",
      "\u001b[1m386/386\u001b[0m \u001b[32m━━━━━━━━━━━━━━━━━━━━\u001b[0m\u001b[37m\u001b[0m \u001b[1m123s\u001b[0m 320ms/step - accuracy: 0.1536 - crossentropy_loss: 0.2305 - embedding_loss: 1.4543 - loss: 0.2421 - total_loss: 0.2427 - val_accuracy: 0.1239 - val_loss: 0.3094 - learning_rate: 5.0000e-05\n",
      "Epoch 59/100\n",
      "\u001b[1m386/386\u001b[0m \u001b[32m━━━━━━━━━━━━━━━━━━━━\u001b[0m\u001b[37m\u001b[0m \u001b[1m124s\u001b[0m 320ms/step - accuracy: 0.1587 - crossentropy_loss: 0.2291 - embedding_loss: 1.4688 - loss: 0.2415 - total_loss: 0.2415 - val_accuracy: 0.1414 - val_loss: 0.2796 - learning_rate: 5.0000e-05\n",
      "Epoch 60/100\n",
      "\u001b[1m386/386\u001b[0m \u001b[32m━━━━━━━━━━━━━━━━━━━━\u001b[0m\u001b[37m\u001b[0m \u001b[1m124s\u001b[0m 320ms/step - accuracy: 0.1622 - crossentropy_loss: 0.2288 - embedding_loss: 1.4393 - loss: 0.2417 - total_loss: 0.2409 - val_accuracy: 0.1640 - val_loss: 0.2791 - learning_rate: 5.0000e-05\n",
      "Epoch 61/100\n",
      "\u001b[1m386/386\u001b[0m \u001b[32m━━━━━━━━━━━━━━━━━━━━\u001b[0m\u001b[37m\u001b[0m \u001b[1m124s\u001b[0m 320ms/step - accuracy: 0.1711 - crossentropy_loss: 0.2269 - embedding_loss: 1.4679 - loss: 0.2377 - total_loss: 0.2393 - val_accuracy: 0.1268 - val_loss: 0.2788 - learning_rate: 5.0000e-05\n",
      "Epoch 62/100\n",
      "\u001b[1m386/386\u001b[0m \u001b[32m━━━━━━━━━━━━━━━━━━━━\u001b[0m\u001b[37m\u001b[0m \u001b[1m124s\u001b[0m 320ms/step - accuracy: 0.1618 - crossentropy_loss: 0.2259 - embedding_loss: 1.4626 - loss: 0.2423 - total_loss: 0.2383 - val_accuracy: 0.1589 - val_loss: 0.2864 - learning_rate: 5.0000e-05\n",
      "Epoch 63/100\n",
      "\u001b[1m386/386\u001b[0m \u001b[32m━━━━━━━━━━━━━━━━━━━━\u001b[0m\u001b[37m\u001b[0m \u001b[1m123s\u001b[0m 320ms/step - accuracy: 0.1739 - crossentropy_loss: 0.2251 - embedding_loss: 1.4713 - loss: 0.2369 - total_loss: 0.2375 - val_accuracy: 0.1254 - val_loss: 0.2868 - learning_rate: 5.0000e-05\n",
      "Epoch 64/100\n",
      "\u001b[1m386/386\u001b[0m \u001b[32m━━━━━━━━━━━━━━━━━━━━\u001b[0m\u001b[37m\u001b[0m \u001b[1m124s\u001b[0m 320ms/step - accuracy: 0.1773 - crossentropy_loss: 0.2252 - embedding_loss: 1.4659 - loss: 0.2380 - total_loss: 0.2376 - val_accuracy: 0.1487 - val_loss: 0.2875 - learning_rate: 5.0000e-05\n",
      "Epoch 65/100\n",
      "\u001b[1m386/386\u001b[0m \u001b[32m━━━━━━━━━━━━━━━━━━━━\u001b[0m\u001b[37m\u001b[0m \u001b[1m124s\u001b[0m 320ms/step - accuracy: 0.1921 - crossentropy_loss: 0.2249 - embedding_loss: 1.4486 - loss: 0.2396 - total_loss: 0.2372 - val_accuracy: 0.1523 - val_loss: 0.2935 - learning_rate: 5.0000e-05\n",
      "Epoch 66/100\n",
      "\u001b[1m386/386\u001b[0m \u001b[32m━━━━━━━━━━━━━━━━━━━━\u001b[0m\u001b[37m\u001b[0m \u001b[1m123s\u001b[0m 320ms/step - accuracy: 0.1850 - crossentropy_loss: 0.2235 - embedding_loss: 1.4563 - loss: 0.2328 - total_loss: 0.2358 - val_accuracy: 0.1910 - val_loss: 0.2826 - learning_rate: 5.0000e-05\n",
      "Epoch 67/100\n",
      "\u001b[1m386/386\u001b[0m \u001b[32m━━━━━━━━━━━━━━━━━━━━\u001b[0m\u001b[37m\u001b[0m \u001b[1m124s\u001b[0m 320ms/step - accuracy: 0.1944 - crossentropy_loss: 0.2224 - embedding_loss: 1.4594 - loss: 0.2365 - total_loss: 0.2347 - val_accuracy: 0.1552 - val_loss: 0.2955 - learning_rate: 5.0000e-05\n",
      "Epoch 68/100\n",
      "\u001b[1m386/386\u001b[0m \u001b[32m━━━━━━━━━━━━━━━━━━━━\u001b[0m\u001b[37m\u001b[0m \u001b[1m123s\u001b[0m 320ms/step - accuracy: 0.1996 - crossentropy_loss: 0.2220 - embedding_loss: 1.4542 - loss: 0.2319 - total_loss: 0.2344 - val_accuracy: 0.1713 - val_loss: 0.3091 - learning_rate: 5.0000e-05\n",
      "Epoch 69/100\n",
      "\u001b[1m386/386\u001b[0m \u001b[32m━━━━━━━━━━━━━━━━━━━━\u001b[0m\u001b[37m\u001b[0m \u001b[1m123s\u001b[0m 320ms/step - accuracy: 0.2341 - crossentropy_loss: 0.2205 - embedding_loss: 1.4727 - loss: 0.2374 - total_loss: 0.2330 - val_accuracy: 0.1662 - val_loss: 0.2843 - learning_rate: 5.0000e-05\n",
      "Epoch 70/100\n",
      "\u001b[1m386/386\u001b[0m \u001b[32m━━━━━━━━━━━━━━━━━━━━\u001b[0m\u001b[37m\u001b[0m \u001b[1m123s\u001b[0m 320ms/step - accuracy: 0.2146 - crossentropy_loss: 0.2187 - embedding_loss: 1.4737 - loss: 0.2323 - total_loss: 0.2312 - val_accuracy: 0.1516 - val_loss: 0.2919 - learning_rate: 5.0000e-05\n",
      "Epoch 71/100\n",
      "\u001b[1m386/386\u001b[0m \u001b[32m━━━━━━━━━━━━━━━━━━━━\u001b[0m\u001b[37m\u001b[0m \u001b[1m0s\u001b[0m 314ms/step - accuracy: 0.2043 - crossentropy_loss: 0.2197 - embedding_loss: 1.4652 - loss: 0.2319 - total_loss: 0.2322\n",
      "Epoch 71: ReduceLROnPlateau reducing learning rate to 2.499999936844688e-05.\n",
      "\u001b[1m386/386\u001b[0m \u001b[32m━━━━━━━━━━━━━━━━━━━━\u001b[0m\u001b[37m\u001b[0m \u001b[1m124s\u001b[0m 320ms/step - accuracy: 0.2044 - crossentropy_loss: 0.2197 - embedding_loss: 1.4652 - loss: 0.2319 - total_loss: 0.2322 - val_accuracy: 0.1742 - val_loss: 0.2987 - learning_rate: 5.0000e-05\n",
      "Epoch 72/100\n",
      "\u001b[1m386/386\u001b[0m \u001b[32m━━━━━━━━━━━━━━━━━━━━\u001b[0m\u001b[37m\u001b[0m \u001b[1m124s\u001b[0m 320ms/step - accuracy: 0.2194 - crossentropy_loss: 0.2110 - embedding_loss: 1.4660 - loss: 0.2249 - total_loss: 0.2236 - val_accuracy: 0.1917 - val_loss: 0.2787 - learning_rate: 2.5000e-05\n",
      "Epoch 73/100\n",
      "\u001b[1m386/386\u001b[0m \u001b[32m━━━━━━━━━━━━━━━━━━━━\u001b[0m\u001b[37m\u001b[0m \u001b[1m123s\u001b[0m 320ms/step - accuracy: 0.2112 - crossentropy_loss: 0.2102 - embedding_loss: 1.4889 - loss: 0.2193 - total_loss: 0.2230 - val_accuracy: 0.2238 - val_loss: 0.2771 - learning_rate: 2.5000e-05\n",
      "Epoch 74/100\n",
      "\u001b[1m386/386\u001b[0m \u001b[32m━━━━━━━━━━━━━━━━━━━━\u001b[0m\u001b[37m\u001b[0m \u001b[1m123s\u001b[0m 320ms/step - accuracy: 0.2257 - crossentropy_loss: 0.2100 - embedding_loss: 1.4744 - loss: 0.2229 - total_loss: 0.2227 - val_accuracy: 0.1997 - val_loss: 0.2786 - learning_rate: 2.5000e-05\n",
      "Epoch 75/100\n",
      "\u001b[1m386/386\u001b[0m \u001b[32m━━━━━━━━━━━━━━━━━━━━\u001b[0m\u001b[37m\u001b[0m \u001b[1m124s\u001b[0m 320ms/step - accuracy: 0.2280 - crossentropy_loss: 0.2093 - embedding_loss: 1.4780 - loss: 0.2222 - total_loss: 0.2220 - val_accuracy: 0.2004 - val_loss: 0.2830 - learning_rate: 2.5000e-05\n",
      "Epoch 76/100\n",
      "\u001b[1m386/386\u001b[0m \u001b[32m━━━━━━━━━━━━━━━━━━━━\u001b[0m\u001b[37m\u001b[0m \u001b[1m124s\u001b[0m 320ms/step - accuracy: 0.2266 - crossentropy_loss: 0.2084 - embedding_loss: 1.4851 - loss: 0.2210 - total_loss: 0.2211 - val_accuracy: 0.2106 - val_loss: 0.2854 - learning_rate: 2.5000e-05\n",
      "Epoch 77/100\n",
      "\u001b[1m386/386\u001b[0m \u001b[32m━━━━━━━━━━━━━━━━━━━━\u001b[0m\u001b[37m\u001b[0m \u001b[1m123s\u001b[0m 320ms/step - accuracy: 0.2313 - crossentropy_loss: 0.2085 - embedding_loss: 1.4817 - loss: 0.2249 - total_loss: 0.2212 - val_accuracy: 0.1837 - val_loss: 0.2903 - learning_rate: 2.5000e-05\n",
      "Epoch 78/100\n",
      "\u001b[1m386/386\u001b[0m \u001b[32m━━━━━━━━━━━━━━━━━━━━\u001b[0m\u001b[37m\u001b[0m \u001b[1m123s\u001b[0m 320ms/step - accuracy: 0.2281 - crossentropy_loss: 0.2079 - embedding_loss: 1.4860 - loss: 0.2193 - total_loss: 0.2207 - val_accuracy: 0.1815 - val_loss: 0.2872 - learning_rate: 2.5000e-05\n",
      "Epoch 79/100\n",
      "\u001b[1m386/386\u001b[0m \u001b[32m━━━━━━━━━━━━━━━━━━━━\u001b[0m\u001b[37m\u001b[0m \u001b[1m124s\u001b[0m 320ms/step - accuracy: 0.2298 - crossentropy_loss: 0.2082 - embedding_loss: 1.4859 - loss: 0.2198 - total_loss: 0.2210 - val_accuracy: 0.2092 - val_loss: 0.2864 - learning_rate: 2.5000e-05\n",
      "Epoch 80/100\n",
      "\u001b[1m386/386\u001b[0m \u001b[32m━━━━━━━━━━━━━━━━━━━━\u001b[0m\u001b[37m\u001b[0m \u001b[1m123s\u001b[0m 320ms/step - accuracy: 0.2350 - crossentropy_loss: 0.2064 - embedding_loss: 1.4984 - loss: 0.2222 - total_loss: 0.2193 - val_accuracy: 0.2063 - val_loss: 0.2825 - learning_rate: 2.5000e-05\n",
      "Epoch 81/100\n",
      "\u001b[1m386/386\u001b[0m \u001b[32m━━━━━━━━━━━━━━━━━━━━\u001b[0m\u001b[37m\u001b[0m \u001b[1m123s\u001b[0m 320ms/step - accuracy: 0.2378 - crossentropy_loss: 0.2070 - embedding_loss: 1.4596 - loss: 0.2185 - total_loss: 0.2195 - val_accuracy: 0.2259 - val_loss: 0.2902 - learning_rate: 2.5000e-05\n",
      "Epoch 82/100\n",
      "\u001b[1m386/386\u001b[0m \u001b[32m━━━━━━━━━━━━━━━━━━━━\u001b[0m\u001b[37m\u001b[0m \u001b[1m123s\u001b[0m 320ms/step - accuracy: 0.2338 - crossentropy_loss: 0.2054 - embedding_loss: 1.4735 - loss: 0.2159 - total_loss: 0.2181 - val_accuracy: 0.2004 - val_loss: 0.2799 - learning_rate: 2.5000e-05\n",
      "Epoch 83/100\n",
      "\u001b[1m386/386\u001b[0m \u001b[32m━━━━━━━━━━━━━━━━━━━━\u001b[0m\u001b[37m\u001b[0m \u001b[1m0s\u001b[0m 314ms/step - accuracy: 0.2521 - crossentropy_loss: 0.2059 - embedding_loss: 1.4866 - loss: 0.2163 - total_loss: 0.2187\n",
      "Epoch 83: ReduceLROnPlateau reducing learning rate to 1.249999968422344e-05.\n",
      "\u001b[1m386/386\u001b[0m \u001b[32m━━━━━━━━━━━━━━━━━━━━\u001b[0m\u001b[37m\u001b[0m \u001b[1m124s\u001b[0m 320ms/step - accuracy: 0.2520 - crossentropy_loss: 0.2059 - embedding_loss: 1.4866 - loss: 0.2163 - total_loss: 0.2187 - val_accuracy: 0.2165 - val_loss: 0.2822 - learning_rate: 2.5000e-05\n",
      "Epoch 84/100\n",
      "\u001b[1m386/386\u001b[0m \u001b[32m━━━━━━━━━━━━━━━━━━━━\u001b[0m\u001b[37m\u001b[0m \u001b[1m124s\u001b[0m 320ms/step - accuracy: 0.2333 - crossentropy_loss: 0.2018 - embedding_loss: 1.4539 - loss: 0.2145 - total_loss: 0.2143 - val_accuracy: 0.2026 - val_loss: 0.2776 - learning_rate: 1.2500e-05\n",
      "Epoch 85/100\n",
      "\u001b[1m386/386\u001b[0m \u001b[32m━━━━━━━━━━━━━━━━━━━━\u001b[0m\u001b[37m\u001b[0m \u001b[1m124s\u001b[0m 320ms/step - accuracy: 0.2364 - crossentropy_loss: 0.2022 - embedding_loss: 1.4725 - loss: 0.2147 - total_loss: 0.2149 - val_accuracy: 0.2230 - val_loss: 0.2779 - learning_rate: 1.2500e-05\n",
      "Epoch 86/100\n",
      "\u001b[1m386/386\u001b[0m \u001b[32m━━━━━━━━━━━━━━━━━━━━\u001b[0m\u001b[37m\u001b[0m \u001b[1m124s\u001b[0m 320ms/step - accuracy: 0.2376 - crossentropy_loss: 0.2024 - embedding_loss: 1.4736 - loss: 0.2172 - total_loss: 0.2151 - val_accuracy: 0.2048 - val_loss: 0.2823 - learning_rate: 1.2500e-05\n",
      "Epoch 87/100\n",
      "\u001b[1m386/386\u001b[0m \u001b[32m━━━━━━━━━━━━━━━━━━━━\u001b[0m\u001b[37m\u001b[0m \u001b[1m124s\u001b[0m 320ms/step - accuracy: 0.2499 - crossentropy_loss: 0.2022 - embedding_loss: 1.4759 - loss: 0.2175 - total_loss: 0.2149 - val_accuracy: 0.2136 - val_loss: 0.2842 - learning_rate: 1.2500e-05\n",
      "Epoch 88/100\n",
      "\u001b[1m386/386\u001b[0m \u001b[32m━━━━━━━━━━━━━━━━━━━━\u001b[0m\u001b[37m\u001b[0m \u001b[1m124s\u001b[0m 320ms/step - accuracy: 0.2449 - crossentropy_loss: 0.2003 - embedding_loss: 1.4832 - loss: 0.2138 - total_loss: 0.2131 - val_accuracy: 0.2165 - val_loss: 0.2823 - learning_rate: 1.2500e-05\n",
      "Epoch 89/100\n",
      "\u001b[1m386/386\u001b[0m \u001b[32m━━━━━━━━━━━━━━━━━━━━\u001b[0m\u001b[37m\u001b[0m \u001b[1m123s\u001b[0m 320ms/step - accuracy: 0.2501 - crossentropy_loss: 0.1999 - embedding_loss: 1.4689 - loss: 0.2134 - total_loss: 0.2126 - val_accuracy: 0.2464 - val_loss: 0.2891 - learning_rate: 1.2500e-05\n",
      "Epoch 90/100\n",
      "\u001b[1m386/386\u001b[0m \u001b[32m━━━━━━━━━━━━━━━━━━━━\u001b[0m\u001b[37m\u001b[0m \u001b[1m124s\u001b[0m 320ms/step - accuracy: 0.2482 - crossentropy_loss: 0.1993 - embedding_loss: 1.4831 - loss: 0.2133 - total_loss: 0.2122 - val_accuracy: 0.2019 - val_loss: 0.2774 - learning_rate: 1.2500e-05\n",
      "Epoch 91/100\n",
      "\u001b[1m386/386\u001b[0m \u001b[32m━━━━━━━━━━━━━━━━━━━━\u001b[0m\u001b[37m\u001b[0m \u001b[1m124s\u001b[0m 320ms/step - accuracy: 0.2325 - crossentropy_loss: 0.2001 - embedding_loss: 1.4619 - loss: 0.2100 - total_loss: 0.2127 - val_accuracy: 0.2019 - val_loss: 0.2818 - learning_rate: 1.2500e-05\n",
      "Epoch 92/100\n",
      "\u001b[1m386/386\u001b[0m \u001b[32m━━━━━━━━━━━━━━━━━━━━\u001b[0m\u001b[37m\u001b[0m \u001b[1m124s\u001b[0m 320ms/step - accuracy: 0.2374 - crossentropy_loss: 0.1996 - embedding_loss: 1.4801 - loss: 0.2104 - total_loss: 0.2124 - val_accuracy: 0.2150 - val_loss: 0.2802 - learning_rate: 1.2500e-05\n",
      "Epoch 92: early stopping\n",
      "Restoring model weights from the end of the best epoch: 73.\n"
     ]
    }
   ],
   "source": [
    "rlronp = ReduceLROnPlateau(monitor=\"val_loss\", factor=0.5, patience=10, verbose=1)\n",
    "early_stopper = EarlyStopping(monitor='val_loss', patience=19, verbose=1, restore_best_weights=True)\n",
    "\n",
    "history = model.fit(\n",
    "    (X_train_spec, X_train_embed_tensor),\n",
    "    y_train,\n",
    "    epochs=100,\n",
    "    batch_size=32,\n",
    "    validation_data=((X_val_spec, X_val_embed_tensor), y_val),\n",
    "    callbacks = [early_stopper, rlronp]\n",
    ")"
   ]
  },
  {
   "cell_type": "code",
   "execution_count": 23,
   "metadata": {},
   "outputs": [
    {
     "data": {
      "image/png": "[encoded data removed]",
      "text/plain": [
       "<Figure size 1000x500 with 1 Axes>"
      ]
     },
     "metadata": {},
     "output_type": "display_data"
    },
    {
     "data": {
      "image/png": "[encoded data removed]",
      "text/plain": [
       "<Figure size 1000x500 with 1 Axes>"
      ]
     },
     "metadata": {},
     "output_type": "display_data"
    }
   ],
   "source": [
    "# Plot a graph for training and validation loss\n",
    "plt.figure(figsize=(10, 5)) # Optionally specify the figure size\n",
    "plt.plot(history.history['loss'], label='Training Loss')\n",
    "plt.plot(history.history['val_loss'], label='Validation Loss')\n",
    "plt.title('Training and Validation Loss')\n",
    "plt.xlabel('Epoch')\n",
    "plt.ylabel('Loss')\n",
    "plt.legend()\n",
    "plt.show()\n",
    "\n",
    "# Plot a graph for training and validation accuracy\n",
    "plt.figure(figsize=(10, 5)) # Optionally specify the figure size\n",
    "plt.plot(history.history['accuracy'], label='Training Accuracy')\n",
    "plt.plot(history.history['val_accuracy'], label='Validation Accuracy')\n",
    "plt.title('Training and Validation Accuracy')\n",
    "plt.xlabel('Epoch')\n",
    "plt.ylabel('Accuracy')\n",
    "plt.legend()\n",
    "plt.show()"
   ]
  },
  {
   "cell_type": "code",
   "execution_count": 24,
   "metadata": {},
   "outputs": [
    {
     "name": "stdout",
     "output_type": "stream",
     "text": [
      "\u001b[1m43/43\u001b[0m \u001b[32m━━━━━━━━━━━━━━━━━━━━\u001b[0m\u001b[37m\u001b[0m \u001b[1m3s\u001b[0m 58ms/step\n"
     ]
    },
    {
     "data": {
      "image/png": "[encoded data removed]",
      "text/plain": [
       "<Figure size 800x600 with 1 Axes>"
      ]
     },
     "metadata": {},
     "output_type": "display_data"
    }
   ],
   "source": [
    "from sklearn.metrics import confusion_matrix\n",
    "import seaborn as sns\n",
    "\n",
    "# Get predictions\n",
    "predictions = model.predict((X_val_spec, X_val_embed_tensor))\n",
    "predicted_labels = np.argmax(predictions[0], axis=1)  # Converting probabilities to class labels\n",
    "ground_truth = np.argmax(y_val, axis=1)  # Converting one-hot encoded ground truth to class labels\n",
    "\n",
    "# Reshape predicted_labels and ground_truth to be 1D arrays\n",
    "predicted_labels = np.reshape(predicted_labels, (-1,))\n",
    "ground_truth = np.reshape(ground_truth, (-1,))\n",
    "\n",
    "# Define class labels\n",
    "class_labels = ['classical', 'country', 'electronic', 'indian',\n",
    "                'new age', 'opera', 'pop', 'rock']\n",
    "\n",
    "predicted_labels = [class_labels[i] for i in predicted_labels]\n",
    "ground_truth = [class_labels[i] for i in ground_truth]\n",
    "\n",
    "# Create a table with prediction and ground truth\n",
    "comparison_table = pd.DataFrame({'Predicted': predicted_labels, 'Ground Truth': ground_truth})\n",
    "# Get unique class labels\n",
    "unique_labels = sorted(comparison_table['Ground Truth'].unique())\n",
    "\n",
    "# Create confusion matrix\n",
    "conf_matrix = confusion_matrix(comparison_table['Ground Truth'], comparison_table['Predicted'], labels=unique_labels)\n",
    "\n",
    "# Convert confusion matrix to DataFrame for better visualization\n",
    "conf_matrix_df = pd.DataFrame(conf_matrix, index=unique_labels, columns=unique_labels)\n",
    "\n",
    "# Plot confusion matrix\n",
    "plt.figure(figsize=(8, 6))\n",
    "sns.heatmap(conf_matrix_df, annot=True, cmap='Blues', fmt='g', cbar=False)\n",
    "plt.xlabel('Predicted Class')\n",
    "plt.ylabel('Ground Truth')\n",
    "plt.title('Confusion Matrix')\n",
    "plt.show()\n"
   ]
  },
  {
   "cell_type": "code",
   "execution_count": 25,
   "metadata": {},
   "outputs": [
    {
     "name": "stdout",
     "output_type": "stream",
     "text": [
      "Training accuracy: 0.21403679251670837, Validation accuracy: 0.2237609326839447\n",
      "Training loss: 0.22961609065532684, Validation loss: 0.2771296501159668\n"
     ]
    }
   ],
   "source": [
    "# evaluate manually\n",
    "train_loss, train_accuracy = model.evaluate((X_train_spec, X_train_embed_tensor), y_train, verbose=0)\n",
    "val_loss, val_accuracy = model.evaluate((X_val_spec, X_val_embed_tensor), y_val, verbose=0)\n",
    "print(f\"Training accuracy: {train_accuracy}, Validation accuracy: {val_accuracy}\")\n",
    "print(f\"Training loss: {train_loss}, Validation loss: {val_loss}\")"
   ]
  },
  {
   "cell_type": "code",
   "execution_count": 19,
   "metadata": {},
   "outputs": [],
   "source": [
    "# saving the histories in a pickle file\n",
    "# with open('/home/mendu/Thesis/data/magnatagatune/saved_history_dictionaries/history_dict_re9.pkl', 'wb') as f:\n",
    "    # pickle.dump(history.history, f)"
   ]
  },
  {
   "cell_type": "code",
   "execution_count": null,
   "metadata": {},
   "outputs": [],
   "source": []
  }
 ],
 "metadata": {
  "kernelspec": {
   "display_name": "myenv",
   "language": "python",
   "name": "python3"
  },
  "language_info": {
   "codemirror_mode": {
    "name": "ipython",
    "version": 3
   },
   "file_extension": ".py",
   "mimetype": "text/x-python",
   "name": "python",
   "nbconvert_exporter": "python",
   "pygments_lexer": "ipython3",
   "version": "3.11.8"
  }
 },
 "nbformat": 4,
 "nbformat_minor": 2
}
