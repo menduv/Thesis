{
 "cells": [
  {
   "cell_type": "markdown",
   "metadata": {},
   "source": [
    "This notebook is used to create the mel-spectrograms and carry on data augmentation."
   ]
  },
  {
   "cell_type": "markdown",
   "metadata": {},
   "source": [
    "## Creating mel-spectrograms"
   ]
  },
  {
   "cell_type": "code",
   "execution_count": 1,
   "metadata": {},
   "outputs": [],
   "source": [
    "# importing libraries\n",
    "\n",
    "import os \n",
    "import librosa\n",
    "import numpy as np"
   ]
  },
  {
   "cell_type": "code",
   "execution_count": 18,
   "metadata": {},
   "outputs": [],
   "source": [
    "# function to convert mp3 files to mel-spectrograms\n",
    "def mp3_to_melspectrogram(input_folder, output_folder):\n",
    "    # create the output folder if it doesn't exist\n",
    "    if not os.path.exists(output_folder):\n",
    "        os.makedirs(output_folder)\n",
    "\n",
    "    # ist to store the names of problematic files\n",
    "    problematic_files = []\n",
    "    \n",
    "    # list of all the mp3 files in the input_folder \n",
    "    audio_list = os.listdir(input_folder)\n",
    "    audio_list.sort()\n",
    "\n",
    "    # iterate over each file in the input folder\n",
    "    for filename in audio_list:\n",
    "        try:\n",
    "            # load the audio file\n",
    "            audio_path = os.path.join(input_folder, filename)\n",
    "            y, sr = librosa.load(audio_path)\n",
    "\n",
    "            # compute the mel-spectrogram\n",
    "            mel_spectrogram = librosa.feature.melspectrogram(y=y, sr=sr)\n",
    "\n",
    "            # convert to decibel scale\n",
    "            mel_spectrogram_db = librosa.power_to_db(mel_spectrogram, ref=np.max)\n",
    "\n",
    "            # save the mel-spectrogram as .npy file\n",
    "            output_path = os.path.join(output_folder, filename.replace('.mp3', '.npy'))\n",
    "            np.save(output_path, mel_spectrogram_db)\n",
    "\n",
    "            # print(f\"Mel-spectrogram saved: {output_path}\")\n",
    "        \n",
    "        except Exception as e:\n",
    "            # handle the exception (e.g., skip the file, log the filename)\n",
    "            print(f\"Error processing {filename}: {str(e)}\")\n",
    "            problematic_files.append(filename)\n",
    "\n",
    "    # return the list of problematic files\n",
    "    return problematic_files"
   ]
  },
  {
   "cell_type": "code",
   "execution_count": 19,
   "metadata": {},
   "outputs": [
    {
     "name": "stderr",
     "output_type": "stream",
     "text": [
      "/tmp/ipykernel_772631/73492353.py:19: UserWarning: PySoundFile failed. Trying audioread instead.\n",
      "  y, sr = librosa.load(audio_path)\n",
      "/home/mendu/miniconda3/envs/myenv/lib/python3.11/site-packages/librosa/core/audio.py:183: FutureWarning: librosa.core.audio.__audioread_load\n",
      "\tDeprecated as of librosa version 0.10.0.\n",
      "\tIt will be removed in librosa version 1.0.\n",
      "  y, sr_native = __audioread_load(path, offset, duration, dtype)\n"
     ]
    },
    {
     "name": "stdout",
     "output_type": "stream",
     "text": [
      "Error processing american_baroque-dances_and_suites_of_rameau_and_couperin-25-le_petit_rien_xiveme_ordre_couperin-88-117.mp3: \n",
      "Error processing jacob_heringman-josquin_des_prez_lute_settings-19-gintzler__pater_noster-204-233.mp3: \n",
      "Error processing norine_braun-now_and_zen-08-gently-117-146.mp3: \n"
     ]
    }
   ],
   "source": [
    "input_path = \"/home/mendu/Thesis/data/magnatagatune/audio\"\n",
    "output_path = \"/home/mendu/Thesis/data/magnatagatune/mel-specs\"\n",
    "problematic_files = mp3_to_melspectrogram(input_path, output_path)"
   ]
  },
  {
   "cell_type": "code",
   "execution_count": 20,
   "metadata": {},
   "outputs": [
    {
     "data": {
      "text/plain": [
       "25860"
      ]
     },
     "execution_count": 20,
     "metadata": {},
     "output_type": "execute_result"
    }
   ],
   "source": [
    "len(os.listdir(output_path))"
   ]
  },
  {
   "cell_type": "code",
   "execution_count": 21,
   "metadata": {},
   "outputs": [
    {
     "data": {
      "text/plain": [
       "25863"
      ]
     },
     "execution_count": 21,
     "metadata": {},
     "output_type": "execute_result"
    }
   ],
   "source": [
    "len(os.listdir(input_path))"
   ]
  },
  {
   "cell_type": "code",
   "execution_count": 22,
   "metadata": {},
   "outputs": [
    {
     "data": {
      "text/plain": [
       "['american_baroque-dances_and_suites_of_rameau_and_couperin-25-le_petit_rien_xiveme_ordre_couperin-88-117.mp3',\n",
       " 'jacob_heringman-josquin_des_prez_lute_settings-19-gintzler__pater_noster-204-233.mp3',\n",
       " 'norine_braun-now_and_zen-08-gently-117-146.mp3']"
      ]
     },
     "execution_count": 22,
     "metadata": {},
     "output_type": "execute_result"
    }
   ],
   "source": [
    "problematic_files"
   ]
  },
  {
   "cell_type": "code",
   "execution_count": 23,
   "metadata": {},
   "outputs": [],
   "source": [
    "file = open('/home/mendu/Thesis/data/magnatagatune/problematic_files.txt','w')\n",
    "for item in problematic_files:\n",
    "\tfile.write(item+\"\\n\")\n",
    "file.close()"
   ]
  },
  {
   "cell_type": "code",
   "execution_count": null,
   "metadata": {},
   "outputs": [],
   "source": []
  }
 ],
 "metadata": {
  "kernelspec": {
   "display_name": "myenv",
   "language": "python",
   "name": "python3"
  },
  "language_info": {
   "codemirror_mode": {
    "name": "ipython",
    "version": 3
   },
   "file_extension": ".py",
   "mimetype": "text/x-python",
   "name": "python",
   "nbconvert_exporter": "python",
   "pygments_lexer": "ipython3",
   "version": "3.11.8"
  }
 },
 "nbformat": 4,
 "nbformat_minor": 2
}
