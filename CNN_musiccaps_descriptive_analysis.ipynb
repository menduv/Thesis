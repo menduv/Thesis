{
  "cells": [
    {
      "cell_type": "markdown",
      "metadata": {
        "id": "EH_hCeLoQgGs"
      },
      "source": [
        "# CNN model for classification of audio files with genre tags"
      ]
    },
    {
      "cell_type": "markdown",
      "metadata": {},
      "source": [
        "deal with the unbalanced class labels with weighted labels"
      ]
    },
    {
      "cell_type": "code",
      "execution_count": 1,
      "metadata": {
        "id": "_twkfAbJ2DtV"
      },
      "outputs": [
        {
          "name": "stderr",
          "output_type": "stream",
          "text": [
            "2024-04-10 06:53:35.016421: I tensorflow/core/util/port.cc:113] oneDNN custom operations are on. You may see slightly different numerical results due to floating-point round-off errors from different computation orders. To turn them off, set the environment variable `TF_ENABLE_ONEDNN_OPTS=0`.\n",
            "2024-04-10 06:53:35.057422: I tensorflow/core/platform/cpu_feature_guard.cc:210] This TensorFlow binary is optimized to use available CPU instructions in performance-critical operations.\n",
            "To enable the following instructions: AVX2 AVX512F AVX512_VNNI FMA, in other operations, rebuild TensorFlow with the appropriate compiler flags.\n",
            "2024-04-10 06:53:35.732405: W tensorflow/compiler/tf2tensorrt/utils/py_utils.cc:38] TF-TRT Warning: Could not find TensorRT\n"
          ]
        }
      ],
      "source": [
        "#Importing necessary libraries\n",
        "import numpy as np\n",
        "import pandas as pd\n",
        "import cv2\n",
        "import json\n",
        "import librosa\n",
        "pd.options.mode.chained_assignment = None  # default='warn'\n",
        "import os\n",
        "import matplotlib.pyplot as plt\n",
        "from imgaug import augmenters as iaa\n",
        "from collections import Counter\n",
        "from sklearn.model_selection import train_test_split\n",
        "from tensorflow.keras.models import Sequential\n",
        "from tensorflow.keras.layers import Conv2D, MaxPooling2D, Flatten, Dense, Dropout, BatchNormalization, Activation\n",
        "from tensorflow.keras.preprocessing.image import ImageDataGenerator\n",
        "from tensorflow.keras.regularizers import l2\n",
        "from keras.models import load_model\n",
        "from keras.callbacks import EarlyStopping"
      ]
    },
    {
      "cell_type": "markdown",
      "metadata": {},
      "source": [
        "## Descriptive analysis of the MusicCaps audio files, metadata and tags"
      ]
    },
    {
      "cell_type": "code",
      "execution_count": 2,
      "metadata": {
        "colab": {
          "base_uri": "https://localhost:8080/"
        },
        "id": "t4BVZblv1kAl",
        "outputId": "e89bcc6e-c313-4155-8e08-6e1d9e9734a7"
      },
      "outputs": [
        {
          "name": "stdout",
          "output_type": "stream",
          "text": [
            "Total number of audio files 5431\n"
          ]
        }
      ],
      "source": [
        "# Checking the audio files sent by Andrew \n",
        "# Checking the no. of audio files\n",
        "audio_dir = '/home/mendu/Thesis/data/musiccaps/audio'\n",
        "audio_list = os.listdir(audio_dir)\n",
        "audio_list = [file_name.replace('.wav.mp3', '') for file_name in audio_list] # list of audio track names\n",
        "print('Total number of audio files', len(audio_list))"
      ]
    },
    {
      "cell_type": "markdown",
      "metadata": {},
      "source": [
        "### Checking if there are tags for all the audio files"
      ]
    },
    {
      "cell_type": "code",
      "execution_count": 3,
      "metadata": {},
      "outputs": [],
      "source": [
        "#Import paraquet files from \"https://huggingface.co/datasets/seungheondoh/LP-MusicCaps-MC/tree/main/data\"\n",
        "\n",
        "test_tags = pd.read_parquet('/home/mendu/Thesis/data/musiccaps/test-00000-of-00001-7f4171b43c96395e.parquet', engine='pyarrow')\n",
        "train_tags = pd.read_parquet('/home/mendu/Thesis/data/musiccaps/train-00000-of-00001-c4a67f61bdb1fbf4.parquet', engine='pyarrow')\n",
        "meta_df = pd.concat([train_tags, test_tags]).reset_index(drop= True)"
      ]
    },
    {
      "cell_type": "code",
      "execution_count": 4,
      "metadata": {},
      "outputs": [
        {
          "data": {
            "text/html": [
              "<div>\n",
              "<style scoped>\n",
              "    .dataframe tbody tr th:only-of-type {\n",
              "        vertical-align: middle;\n",
              "    }\n",
              "\n",
              "    .dataframe tbody tr th {\n",
              "        vertical-align: top;\n",
              "    }\n",
              "\n",
              "    .dataframe thead th {\n",
              "        text-align: right;\n",
              "    }\n",
              "</style>\n",
              "<table border=\"1\" class=\"dataframe\">\n",
              "  <thead>\n",
              "    <tr style=\"text-align: right;\">\n",
              "      <th></th>\n",
              "      <th>fname</th>\n",
              "      <th>ytid</th>\n",
              "      <th>aspect_list</th>\n",
              "      <th>caption_ground_truth</th>\n",
              "      <th>caption_writing</th>\n",
              "      <th>caption_summary</th>\n",
              "      <th>caption_paraphrase</th>\n",
              "      <th>caption_attribute_prediction</th>\n",
              "      <th>pseudo_attribute</th>\n",
              "      <th>is_crawled</th>\n",
              "      <th>author_id</th>\n",
              "      <th>start_s</th>\n",
              "      <th>end_s</th>\n",
              "      <th>audioset_positive_labels</th>\n",
              "      <th>is_balanced_subset</th>\n",
              "      <th>is_audioset_eval</th>\n",
              "    </tr>\n",
              "  </thead>\n",
              "  <tbody>\n",
              "    <tr>\n",
              "      <th>0</th>\n",
              "      <td>[-0SdAVK79lg]-[30-40]</td>\n",
              "      <td>-0SdAVK79lg</td>\n",
              "      <td>[guitar song, piano backing, simple percussion...</td>\n",
              "      <td>This song features an electric guitar as the m...</td>\n",
              "      <td>This gentle guitar song featuring a piano back...</td>\n",
              "      <td>This instrumental song features a relaxing mel...</td>\n",
              "      <td>The instrumental guitar song boasts a soothing...</td>\n",
              "      <td>This instrumental guitar song has a soft and r...</td>\n",
              "      <td>[acoustic, folksy, chord progression]</td>\n",
              "      <td>True</td>\n",
              "      <td>0</td>\n",
              "      <td>30</td>\n",
              "      <td>40</td>\n",
              "      <td>/m/0155w,/m/01lyv,/m/0342h,/m/042v_gx,/m/04rlf...</td>\n",
              "      <td>False</td>\n",
              "      <td>False</td>\n",
              "    </tr>\n",
              "    <tr>\n",
              "      <th>1</th>\n",
              "      <td>[-1LrH01Ei1w]-[30-40]</td>\n",
              "      <td>-1LrH01Ei1w</td>\n",
              "      <td>[rubab instrument, repetitive melody on differ...</td>\n",
              "      <td>This song features a rubber instrument being p...</td>\n",
              "      <td>An energizing instrumental track featuring the...</td>\n",
              "      <td>A fast tempo instrumental song featuring the r...</td>\n",
              "      <td>Experience the electrifying prowess of the tru...</td>\n",
              "      <td>This instrumental song features the rubab inst...</td>\n",
              "      <td>[drum, bass guitar]</td>\n",
              "      <td>True</td>\n",
              "      <td>0</td>\n",
              "      <td>30</td>\n",
              "      <td>40</td>\n",
              "      <td>/m/02p0sh1,/m/04rlf</td>\n",
              "      <td>False</td>\n",
              "      <td>False</td>\n",
              "    </tr>\n",
              "    <tr>\n",
              "      <th>2</th>\n",
              "      <td>[-4NLarMj4xU]-[30-40]</td>\n",
              "      <td>-4NLarMj4xU</td>\n",
              "      <td>[pop, tinny wide hi hats, mellow piano melody,...</td>\n",
              "      <td>The Pop song features a soft female vocal sing...</td>\n",
              "      <td>This pop ballad is filled with a mix of tinny ...</td>\n",
              "      <td>The pop song features a mellow piano melody, s...</td>\n",
              "      <td>This pop ballad features a delicate piano melo...</td>\n",
              "      <td>This pop ballad features tinny wide hi hats an...</td>\n",
              "      <td>[solo guitar, subtle strings, bright acoustic ...</td>\n",
              "      <td>True</td>\n",
              "      <td>4</td>\n",
              "      <td>30</td>\n",
              "      <td>40</td>\n",
              "      <td>/m/04rlf,/t/dd00034</td>\n",
              "      <td>False</td>\n",
              "      <td>False</td>\n",
              "    </tr>\n",
              "    <tr>\n",
              "      <th>3</th>\n",
              "      <td>[-5f6hjZf9Yw]-[30-40]</td>\n",
              "      <td>-5f6hjZf9Yw</td>\n",
              "      <td>[folk music, rubab, male voice, slow tempo, em...</td>\n",
              "      <td>This folk song features a male voice singing t...</td>\n",
              "      <td>This emotional folk ballad features a poignant...</td>\n",
              "      <td>A slow, emotional folk song featuring a male v...</td>\n",
              "      <td>This touching folk ballad featuring a male voc...</td>\n",
              "      <td>This heart-wrenching folk song features a mesm...</td>\n",
              "      <td>[harmonica, melancholic lyrics, acoustic guitar]</td>\n",
              "      <td>True</td>\n",
              "      <td>0</td>\n",
              "      <td>30</td>\n",
              "      <td>40</td>\n",
              "      <td>/m/02w4v,/m/04rlf</td>\n",
              "      <td>False</td>\n",
              "      <td>False</td>\n",
              "    </tr>\n",
              "    <tr>\n",
              "      <th>4</th>\n",
              "      <td>[-5xOcMJpTUk]-[70-80]</td>\n",
              "      <td>-5xOcMJpTUk</td>\n",
              "      <td>[guitarist, male talking, twang sounds, medioc...</td>\n",
              "      <td>A male guitarist plays the guitar and speaks a...</td>\n",
              "      <td>This energetic song demo features a passionate...</td>\n",
              "      <td>This energetic and passionate song features a ...</td>\n",
              "      <td>This home music video showcases a male guitari...</td>\n",
              "      <td>This home music video features a male guitaris...</td>\n",
              "      <td>[electric guitar, rock genre, guitar riff, gui...</td>\n",
              "      <td>True</td>\n",
              "      <td>1</td>\n",
              "      <td>70</td>\n",
              "      <td>80</td>\n",
              "      <td>/m/018vs,/m/0342h,/m/042v_gx,/m/04rlf,/m/04szw...</td>\n",
              "      <td>False</td>\n",
              "      <td>False</td>\n",
              "    </tr>\n",
              "  </tbody>\n",
              "</table>\n",
              "</div>"
            ],
            "text/plain": [
              "                   fname         ytid  \\\n",
              "0  [-0SdAVK79lg]-[30-40]  -0SdAVK79lg   \n",
              "1  [-1LrH01Ei1w]-[30-40]  -1LrH01Ei1w   \n",
              "2  [-4NLarMj4xU]-[30-40]  -4NLarMj4xU   \n",
              "3  [-5f6hjZf9Yw]-[30-40]  -5f6hjZf9Yw   \n",
              "4  [-5xOcMJpTUk]-[70-80]  -5xOcMJpTUk   \n",
              "\n",
              "                                         aspect_list  \\\n",
              "0  [guitar song, piano backing, simple percussion...   \n",
              "1  [rubab instrument, repetitive melody on differ...   \n",
              "2  [pop, tinny wide hi hats, mellow piano melody,...   \n",
              "3  [folk music, rubab, male voice, slow tempo, em...   \n",
              "4  [guitarist, male talking, twang sounds, medioc...   \n",
              "\n",
              "                                caption_ground_truth  \\\n",
              "0  This song features an electric guitar as the m...   \n",
              "1  This song features a rubber instrument being p...   \n",
              "2  The Pop song features a soft female vocal sing...   \n",
              "3  This folk song features a male voice singing t...   \n",
              "4  A male guitarist plays the guitar and speaks a...   \n",
              "\n",
              "                                     caption_writing  \\\n",
              "0  This gentle guitar song featuring a piano back...   \n",
              "1  An energizing instrumental track featuring the...   \n",
              "2  This pop ballad is filled with a mix of tinny ...   \n",
              "3  This emotional folk ballad features a poignant...   \n",
              "4  This energetic song demo features a passionate...   \n",
              "\n",
              "                                     caption_summary  \\\n",
              "0  This instrumental song features a relaxing mel...   \n",
              "1  A fast tempo instrumental song featuring the r...   \n",
              "2  The pop song features a mellow piano melody, s...   \n",
              "3  A slow, emotional folk song featuring a male v...   \n",
              "4  This energetic and passionate song features a ...   \n",
              "\n",
              "                                  caption_paraphrase  \\\n",
              "0  The instrumental guitar song boasts a soothing...   \n",
              "1  Experience the electrifying prowess of the tru...   \n",
              "2  This pop ballad features a delicate piano melo...   \n",
              "3  This touching folk ballad featuring a male voc...   \n",
              "4  This home music video showcases a male guitari...   \n",
              "\n",
              "                        caption_attribute_prediction  \\\n",
              "0  This instrumental guitar song has a soft and r...   \n",
              "1  This instrumental song features the rubab inst...   \n",
              "2  This pop ballad features tinny wide hi hats an...   \n",
              "3  This heart-wrenching folk song features a mesm...   \n",
              "4  This home music video features a male guitaris...   \n",
              "\n",
              "                                    pseudo_attribute  is_crawled  author_id  \\\n",
              "0              [acoustic, folksy, chord progression]        True          0   \n",
              "1                                [drum, bass guitar]        True          0   \n",
              "2  [solo guitar, subtle strings, bright acoustic ...        True          4   \n",
              "3   [harmonica, melancholic lyrics, acoustic guitar]        True          0   \n",
              "4  [electric guitar, rock genre, guitar riff, gui...        True          1   \n",
              "\n",
              "   start_s  end_s                           audioset_positive_labels  \\\n",
              "0       30     40  /m/0155w,/m/01lyv,/m/0342h,/m/042v_gx,/m/04rlf...   \n",
              "1       30     40                                /m/02p0sh1,/m/04rlf   \n",
              "2       30     40                                /m/04rlf,/t/dd00034   \n",
              "3       30     40                                  /m/02w4v,/m/04rlf   \n",
              "4       70     80  /m/018vs,/m/0342h,/m/042v_gx,/m/04rlf,/m/04szw...   \n",
              "\n",
              "   is_balanced_subset  is_audioset_eval  \n",
              "0               False             False  \n",
              "1               False             False  \n",
              "2               False             False  \n",
              "3               False             False  \n",
              "4               False             False  "
            ]
          },
          "execution_count": 4,
          "metadata": {},
          "output_type": "execute_result"
        }
      ],
      "source": [
        "#Printing the head of the train tags dataframe\n",
        "meta_df.head()"
      ]
    },
    {
      "cell_type": "code",
      "execution_count": 5,
      "metadata": {},
      "outputs": [],
      "source": [
        "#List of all the audio names in the meta_df\n",
        "meta_audio_names = meta_df['fname'].tolist()"
      ]
    },
    {
      "cell_type": "code",
      "execution_count": 6,
      "metadata": {},
      "outputs": [
        {
          "name": "stdout",
          "output_type": "stream",
          "text": [
            "The length of the tags are (5521, 16)\n",
            "Index(['fname', 'ytid', 'aspect_list', 'caption_ground_truth',\n",
            "       'caption_writing', 'caption_summary', 'caption_paraphrase',\n",
            "       'caption_attribute_prediction', 'pseudo_attribute', 'is_crawled',\n",
            "       'author_id', 'start_s', 'end_s', 'audioset_positive_labels',\n",
            "       'is_balanced_subset', 'is_audioset_eval'],\n",
            "      dtype='object')\n"
          ]
        }
      ],
      "source": [
        "#Printing the shape and column names of the tags files\n",
        "print('The length of the tags are', meta_df.shape)\n",
        "print(meta_df.columns)"
      ]
    },
    {
      "cell_type": "code",
      "execution_count": 7,
      "metadata": {},
      "outputs": [
        {
          "name": "stdout",
          "output_type": "stream",
          "text": [
            "The audio files all have a tag row from the paraquet files\n"
          ]
        }
      ],
      "source": [
        "#Checking if all the filename in the audio_df for which we have an audio file for exists in the meta_df and hence has tags\n",
        "if set(audio_list).issubset(set(meta_audio_names)):\n",
        "    print('The audio files all have a tag row from the paraquet files')"
      ]
    },
    {
      "cell_type": "markdown",
      "metadata": {},
      "source": [
        "## Looking into the tags"
      ]
    },
    {
      "cell_type": "code",
      "execution_count": 8,
      "metadata": {},
      "outputs": [
        {
          "name": "stdout",
          "output_type": "stream",
          "text": [
            "['country singer', 'horror soundtrack', 'electric guitar strumming', 'funky piano', 'mandolin solo melody']\n"
          ]
        }
      ],
      "source": [
        "#Creating a list of all the unique tags in the data\n",
        "\n",
        "#the aspect_list col as a list\n",
        "tags_list = meta_df['aspect_list'].to_list()\n",
        "\n",
        "# Flatten the tags_list\n",
        "flat_list = [item for sublist in tags_list for item in sublist]\n",
        "\n",
        "# Remove duplicates\n",
        "tags_list_flat = list(set(flat_list))\n",
        "\n",
        "print(tags_list_flat[:5])"
      ]
    },
    {
      "cell_type": "code",
      "execution_count": 9,
      "metadata": {},
      "outputs": [
        {
          "data": {
            "text/plain": [
              "13219"
            ]
          },
          "execution_count": 9,
          "metadata": {},
          "output_type": "execute_result"
        }
      ],
      "source": [
        "#Number of unique tags\n",
        "len(tags_list_flat)"
      ]
    },
    {
      "cell_type": "code",
      "execution_count": 10,
      "metadata": {},
      "outputs": [
        {
          "data": {
            "text/html": [
              "<div>\n",
              "<style scoped>\n",
              "    .dataframe tbody tr th:only-of-type {\n",
              "        vertical-align: middle;\n",
              "    }\n",
              "\n",
              "    .dataframe tbody tr th {\n",
              "        vertical-align: top;\n",
              "    }\n",
              "\n",
              "    .dataframe thead th {\n",
              "        text-align: right;\n",
              "    }\n",
              "</style>\n",
              "<table border=\"1\" class=\"dataframe\">\n",
              "  <thead>\n",
              "    <tr style=\"text-align: right;\">\n",
              "      <th></th>\n",
              "      <th>Tags</th>\n",
              "      <th>Count</th>\n",
              "    </tr>\n",
              "  </thead>\n",
              "  <tbody>\n",
              "    <tr>\n",
              "      <th>0</th>\n",
              "      <td>low quality</td>\n",
              "      <td>1220</td>\n",
              "    </tr>\n",
              "    <tr>\n",
              "      <th>1</th>\n",
              "      <td>instrumental</td>\n",
              "      <td>908</td>\n",
              "    </tr>\n",
              "    <tr>\n",
              "      <th>2</th>\n",
              "      <td>emotional</td>\n",
              "      <td>636</td>\n",
              "    </tr>\n",
              "    <tr>\n",
              "      <th>3</th>\n",
              "      <td>noisy</td>\n",
              "      <td>628</td>\n",
              "    </tr>\n",
              "    <tr>\n",
              "      <th>4</th>\n",
              "      <td>passionate</td>\n",
              "      <td>610</td>\n",
              "    </tr>\n",
              "    <tr>\n",
              "      <th>...</th>\n",
              "      <td>...</td>\n",
              "      <td>...</td>\n",
              "    </tr>\n",
              "    <tr>\n",
              "      <th>13214</th>\n",
              "      <td>ticking clock percussions</td>\n",
              "      <td>1</td>\n",
              "    </tr>\n",
              "    <tr>\n",
              "      <th>13215</th>\n",
              "      <td>various sound effects</td>\n",
              "      <td>1</td>\n",
              "    </tr>\n",
              "    <tr>\n",
              "      <th>13216</th>\n",
              "      <td>the sringa</td>\n",
              "      <td>1</td>\n",
              "    </tr>\n",
              "    <tr>\n",
              "      <th>13217</th>\n",
              "      <td>indonesian pop</td>\n",
              "      <td>1</td>\n",
              "    </tr>\n",
              "    <tr>\n",
              "      <th>13218</th>\n",
              "      <td>sci-fi movie</td>\n",
              "      <td>1</td>\n",
              "    </tr>\n",
              "  </tbody>\n",
              "</table>\n",
              "<p>13219 rows × 2 columns</p>\n",
              "</div>"
            ],
            "text/plain": [
              "                            Tags  Count\n",
              "0                    low quality   1220\n",
              "1                   instrumental    908\n",
              "2                      emotional    636\n",
              "3                          noisy    628\n",
              "4                     passionate    610\n",
              "...                          ...    ...\n",
              "13214  ticking clock percussions      1\n",
              "13215      various sound effects      1\n",
              "13216                 the sringa      1\n",
              "13217             indonesian pop      1\n",
              "13218               sci-fi movie      1\n",
              "\n",
              "[13219 rows x 2 columns]"
            ]
          },
          "execution_count": 10,
          "metadata": {},
          "output_type": "execute_result"
        }
      ],
      "source": [
        "# Count occurrences of each tag\n",
        "counter = Counter(flat_list)\n",
        "\n",
        "# Convert counter to DataFrame\n",
        "tags_counter = pd.DataFrame(counter.items(), columns=['Tags', 'Count'])\n",
        "tags_counter = tags_counter.sort_values('Count', ascending= False).reset_index(drop = True)\n",
        "\n",
        "tags_counter"
      ]
    },
    {
      "cell_type": "code",
      "execution_count": 11,
      "metadata": {},
      "outputs": [],
      "source": [
        "#Hand select the genrefrom the top 300 tags\n",
        "genre_tags = ['instrumental', 'instrumental music', 'rock', 'pop', 'electronic music', 'dance music', 'classical', 'traditional','orchestra',\n",
        " 'jazz', 'classical music', 'r&b', 'folk', 'electro', 'edm', 'folk music', 'hard rock', 'hip hop', 'hip-hop', 'metal', 'pop song',\n",
        " 'heavy metal', 'urban', 'country music', 'electronic dance music', 'techno', 'rap', 'trance', 'folk song', 'pop music', 'soul', 'rock music',\n",
        " 'soft rock', 'synth pop', 'electronic', 'country', 'western classical music', 'alternative rock']"
      ]
    },
    {
      "cell_type": "code",
      "execution_count": 12,
      "metadata": {},
      "outputs": [],
      "source": [
        "#Creating a dictionary with the similar genres that can be merged\n",
        "same_tags = {'instrumental': ['instrumental', 'instrumental music'], 'rock': ['rock', 'hard rock', 'rock music', 'soft rock', 'alternative rock'],\n",
        "             'pop': ['pop', 'pop song', 'pop music', 'synth pop', 'dance music'], 'electronic': ['electronic music', 'electro', 'edm', 'electronic dance music',\n",
        "             'techno', 'trance', 'electronic'], 'classical': ['classical', 'classical music', 'western classical music', 'orchestra'], 'folk':\n",
        "            ['folk', 'folk music', 'folk song', 'traditional'], 'hip hop': ['hip hop', 'hip-hop', 'urban', 'rap'], 'metal': ['metal', 'heavy metal'], 'country':\n",
        "            ['country music', 'country'], 'r&b': ['r&b', 'soul']}"
      ]
    },
    {
      "cell_type": "markdown",
      "metadata": {},
      "source": [
        "Eventually the genres we would be having are:\n",
        "- instrumental\n",
        "- rock\n",
        "- pop\n",
        "- electronic\n",
        "- classical\n",
        "- folk\n",
        "- hip hop\n",
        "- metal\n",
        "- country\n",
        "- r&b\n",
        "- jazz\n",
        "\n",
        "\n",
        "as of now 11 genres"
      ]
    },
    {
      "cell_type": "code",
      "execution_count": 13,
      "metadata": {},
      "outputs": [
        {
          "name": "stdout",
          "output_type": "stream",
          "text": [
            "The total number of rows with the subset of tags is 3515\n"
          ]
        },
        {
          "data": {
            "text/html": [
              "<div>\n",
              "<style scoped>\n",
              "    .dataframe tbody tr th:only-of-type {\n",
              "        vertical-align: middle;\n",
              "    }\n",
              "\n",
              "    .dataframe tbody tr th {\n",
              "        vertical-align: top;\n",
              "    }\n",
              "\n",
              "    .dataframe thead th {\n",
              "        text-align: right;\n",
              "    }\n",
              "</style>\n",
              "<table border=\"1\" class=\"dataframe\">\n",
              "  <thead>\n",
              "    <tr style=\"text-align: right;\">\n",
              "      <th></th>\n",
              "      <th>Tags</th>\n",
              "      <th>Count</th>\n",
              "    </tr>\n",
              "  </thead>\n",
              "  <tbody>\n",
              "    <tr>\n",
              "      <th>0</th>\n",
              "      <td>instrumental</td>\n",
              "      <td>908</td>\n",
              "    </tr>\n",
              "    <tr>\n",
              "      <th>1</th>\n",
              "      <td>instrumental music</td>\n",
              "      <td>260</td>\n",
              "    </tr>\n",
              "    <tr>\n",
              "      <th>2</th>\n",
              "      <td>rock</td>\n",
              "      <td>207</td>\n",
              "    </tr>\n",
              "    <tr>\n",
              "      <th>3</th>\n",
              "      <td>pop</td>\n",
              "      <td>199</td>\n",
              "    </tr>\n",
              "    <tr>\n",
              "      <th>4</th>\n",
              "      <td>electronic music</td>\n",
              "      <td>134</td>\n",
              "    </tr>\n",
              "  </tbody>\n",
              "</table>\n",
              "</div>"
            ],
            "text/plain": [
              "                 Tags  Count\n",
              "0        instrumental    908\n",
              "1  instrumental music    260\n",
              "2                rock    207\n",
              "3                 pop    199\n",
              "4    electronic music    134"
            ]
          },
          "execution_count": 13,
          "metadata": {},
          "output_type": "execute_result"
        }
      ],
      "source": [
        "tags_counter_sub = tags_counter[tags_counter.Tags.isin(genre_tags)].reset_index(drop = True)\n",
        "print('The total number of rows with the subset of tags is', tags_counter_sub.Count.sum())\n",
        "\n",
        "tags_counter_sub.head()"
      ]
    },
    {
      "cell_type": "markdown",
      "metadata": {},
      "source": [
        "## Subsetting the data for the top genres"
      ]
    },
    {
      "cell_type": "code",
      "execution_count": 14,
      "metadata": {},
      "outputs": [],
      "source": [
        "# Copying meta_df and only keeping the audio name and tags list\n",
        "filtered_df = meta_df.copy()\n",
        "filtered_df = filtered_df[['fname', 'aspect_list']] \n",
        "\n",
        "# Filter rows based on genre tags and keep only elements that are in genre_tags\n",
        "filtered_df['aspect_list'] = filtered_df['aspect_list'].apply(lambda x: [tag for tag in x if tag in genre_tags])\n",
        "\n",
        "# Remove rows where aspect_list is empty\n",
        "filtered_df = filtered_df[filtered_df['aspect_list'].apply(len) > 0].reset_index(drop=True)"
      ]
    },
    {
      "cell_type": "code",
      "execution_count": 15,
      "metadata": {},
      "outputs": [],
      "source": [
        "'''\n",
        "Replace tags in aspect_list with corresponding keys from same_tags dictionary\n",
        "- iterates over the rows: row consists of column name and value, you can access the values for column aspect_list with row['aspect_list']\n",
        "- iterates over each element in the aspect_list list\n",
        "- iterates over same_tags dictionary: Here it checks if the the tag from the previous for loop is present in the value. If it exists\n",
        "the key to the new_tags list, else the tag variable is appended\n",
        "- if that are more than one tags and one of it is instrumental drop instrumental\n",
        "'''\n",
        "\n",
        "for idx, row in filtered_df.iterrows(): #iterates over the rows\n",
        "    new_tags = []\n",
        "    for tag in row['aspect_list']: #iterates over each element in the aspect_list list\n",
        "        for key, values in same_tags.items(): #iterates over same_tags dictionary\n",
        "            if tag in values:\n",
        "                new_tags.append(key)\n",
        "                break\n",
        "        else:\n",
        "            new_tags.append(tag)\n",
        "    if len(new_tags) > 1 and 'instrumental' in new_tags: #if that are more than one tags and one of it is instrumental drop instrumental\n",
        "        new_tags.remove('instrumental')\n",
        "    filtered_df.at[idx, 'aspect_list'] = list(set(new_tags))"
      ]
    },
    {
      "cell_type": "code",
      "execution_count": 16,
      "metadata": {},
      "outputs": [
        {
          "data": {
            "text/plain": [
              "(2563, 2)"
            ]
          },
          "execution_count": 16,
          "metadata": {},
          "output_type": "execute_result"
        }
      ],
      "source": [
        "filtered_df.shape"
      ]
    },
    {
      "cell_type": "code",
      "execution_count": 17,
      "metadata": {},
      "outputs": [
        {
          "data": {
            "text/html": [
              "<div>\n",
              "<style scoped>\n",
              "    .dataframe tbody tr th:only-of-type {\n",
              "        vertical-align: middle;\n",
              "    }\n",
              "\n",
              "    .dataframe tbody tr th {\n",
              "        vertical-align: top;\n",
              "    }\n",
              "\n",
              "    .dataframe thead th {\n",
              "        text-align: right;\n",
              "    }\n",
              "</style>\n",
              "<table border=\"1\" class=\"dataframe\">\n",
              "  <thead>\n",
              "    <tr style=\"text-align: right;\">\n",
              "      <th></th>\n",
              "      <th>fname</th>\n",
              "      <th>aspect_list</th>\n",
              "    </tr>\n",
              "  </thead>\n",
              "  <tbody>\n",
              "    <tr>\n",
              "      <th>5</th>\n",
              "      <td>[-6pcgdLfb_A]-[110-120]</td>\n",
              "      <td>[r&amp;b, hip hop]</td>\n",
              "    </tr>\n",
              "    <tr>\n",
              "      <th>14</th>\n",
              "      <td>[-YATTKBtmRA]-[190-200]</td>\n",
              "      <td>[hip hop, electronic]</td>\n",
              "    </tr>\n",
              "    <tr>\n",
              "      <th>21</th>\n",
              "      <td>[-wVWjl9Kq6U]-[240-250]</td>\n",
              "      <td>[rock, r&amp;b]</td>\n",
              "    </tr>\n",
              "    <tr>\n",
              "      <th>28</th>\n",
              "      <td>[0ADP-O_V3vA]-[30-40]</td>\n",
              "      <td>[pop, folk]</td>\n",
              "    </tr>\n",
              "    <tr>\n",
              "      <th>38</th>\n",
              "      <td>[0RDz0rLakwc]-[30-40]</td>\n",
              "      <td>[hip hop, electronic]</td>\n",
              "    </tr>\n",
              "    <tr>\n",
              "      <th>...</th>\n",
              "      <td>...</td>\n",
              "      <td>...</td>\n",
              "    </tr>\n",
              "    <tr>\n",
              "      <th>2473</th>\n",
              "      <td>[u6tgeRXOxnU]-[30-40]</td>\n",
              "      <td>[pop, hip hop, electronic]</td>\n",
              "    </tr>\n",
              "    <tr>\n",
              "      <th>2474</th>\n",
              "      <td>[u9n4R78UBtA]-[30-40]</td>\n",
              "      <td>[pop, electronic]</td>\n",
              "    </tr>\n",
              "    <tr>\n",
              "      <th>2485</th>\n",
              "      <td>[u_TfWvyYY0Y]-[30-40]</td>\n",
              "      <td>[metal, rock]</td>\n",
              "    </tr>\n",
              "    <tr>\n",
              "      <th>2524</th>\n",
              "      <td>[xb07gLlmkL8]-[30-40]</td>\n",
              "      <td>[pop, rock]</td>\n",
              "    </tr>\n",
              "    <tr>\n",
              "      <th>2528</th>\n",
              "      <td>[xuxKtxzq2Cs]-[30-40]</td>\n",
              "      <td>[folk, electronic]</td>\n",
              "    </tr>\n",
              "  </tbody>\n",
              "</table>\n",
              "<p>198 rows × 2 columns</p>\n",
              "</div>"
            ],
            "text/plain": [
              "                        fname                 aspect_list\n",
              "5     [-6pcgdLfb_A]-[110-120]              [r&b, hip hop]\n",
              "14    [-YATTKBtmRA]-[190-200]       [hip hop, electronic]\n",
              "21    [-wVWjl9Kq6U]-[240-250]                 [rock, r&b]\n",
              "28      [0ADP-O_V3vA]-[30-40]                 [pop, folk]\n",
              "38      [0RDz0rLakwc]-[30-40]       [hip hop, electronic]\n",
              "...                       ...                         ...\n",
              "2473    [u6tgeRXOxnU]-[30-40]  [pop, hip hop, electronic]\n",
              "2474    [u9n4R78UBtA]-[30-40]           [pop, electronic]\n",
              "2485    [u_TfWvyYY0Y]-[30-40]               [metal, rock]\n",
              "2524    [xb07gLlmkL8]-[30-40]                 [pop, rock]\n",
              "2528    [xuxKtxzq2Cs]-[30-40]          [folk, electronic]\n",
              "\n",
              "[198 rows x 2 columns]"
            ]
          },
          "execution_count": 17,
          "metadata": {},
          "output_type": "execute_result"
        }
      ],
      "source": [
        "filtered_df[filtered_df['aspect_list'].apply(len) > 1]"
      ]
    },
    {
      "cell_type": "code",
      "execution_count": 18,
      "metadata": {},
      "outputs": [
        {
          "data": {
            "text/html": [
              "<div>\n",
              "<style scoped>\n",
              "    .dataframe tbody tr th:only-of-type {\n",
              "        vertical-align: middle;\n",
              "    }\n",
              "\n",
              "    .dataframe tbody tr th {\n",
              "        vertical-align: top;\n",
              "    }\n",
              "\n",
              "    .dataframe thead th {\n",
              "        text-align: right;\n",
              "    }\n",
              "</style>\n",
              "<table border=\"1\" class=\"dataframe\">\n",
              "  <thead>\n",
              "    <tr style=\"text-align: right;\">\n",
              "      <th></th>\n",
              "      <th>fname</th>\n",
              "      <th>aspect_list</th>\n",
              "    </tr>\n",
              "  </thead>\n",
              "  <tbody>\n",
              "    <tr>\n",
              "      <th>0</th>\n",
              "      <td>[-0SdAVK79lg]-[30-40]</td>\n",
              "      <td>instrumental</td>\n",
              "    </tr>\n",
              "    <tr>\n",
              "      <th>1</th>\n",
              "      <td>[-1LrH01Ei1w]-[30-40]</td>\n",
              "      <td>instrumental</td>\n",
              "    </tr>\n",
              "    <tr>\n",
              "      <th>2</th>\n",
              "      <td>[-4NLarMj4xU]-[30-40]</td>\n",
              "      <td>pop</td>\n",
              "    </tr>\n",
              "    <tr>\n",
              "      <th>3</th>\n",
              "      <td>[-5f6hjZf9Yw]-[30-40]</td>\n",
              "      <td>folk</td>\n",
              "    </tr>\n",
              "    <tr>\n",
              "      <th>4</th>\n",
              "      <td>[-6QGvxvaTkI]-[280-290]</td>\n",
              "      <td>folk</td>\n",
              "    </tr>\n",
              "    <tr>\n",
              "      <th>...</th>\n",
              "      <td>...</td>\n",
              "      <td>...</td>\n",
              "    </tr>\n",
              "    <tr>\n",
              "      <th>2360</th>\n",
              "      <td>[zjsWFvUkh7M]-[30-40]</td>\n",
              "      <td>rock</td>\n",
              "    </tr>\n",
              "    <tr>\n",
              "      <th>2361</th>\n",
              "      <td>[zrrM6Qg2Dwg]-[30-40]</td>\n",
              "      <td>instrumental</td>\n",
              "    </tr>\n",
              "    <tr>\n",
              "      <th>2362</th>\n",
              "      <td>[zwfo7wnXdjs]-[30-40]</td>\n",
              "      <td>folk</td>\n",
              "    </tr>\n",
              "    <tr>\n",
              "      <th>2363</th>\n",
              "      <td>[zx_vcwOsDO4]-[50-60]</td>\n",
              "      <td>instrumental</td>\n",
              "    </tr>\n",
              "    <tr>\n",
              "      <th>2364</th>\n",
              "      <td>[zzNdwF40ID8]-[70-80]</td>\n",
              "      <td>electronic</td>\n",
              "    </tr>\n",
              "  </tbody>\n",
              "</table>\n",
              "<p>2365 rows × 2 columns</p>\n",
              "</div>"
            ],
            "text/plain": [
              "                        fname   aspect_list\n",
              "0       [-0SdAVK79lg]-[30-40]  instrumental\n",
              "1       [-1LrH01Ei1w]-[30-40]  instrumental\n",
              "2       [-4NLarMj4xU]-[30-40]           pop\n",
              "3       [-5f6hjZf9Yw]-[30-40]          folk\n",
              "4     [-6QGvxvaTkI]-[280-290]          folk\n",
              "...                       ...           ...\n",
              "2360    [zjsWFvUkh7M]-[30-40]          rock\n",
              "2361    [zrrM6Qg2Dwg]-[30-40]  instrumental\n",
              "2362    [zwfo7wnXdjs]-[30-40]          folk\n",
              "2363    [zx_vcwOsDO4]-[50-60]  instrumental\n",
              "2364    [zzNdwF40ID8]-[70-80]    electronic\n",
              "\n",
              "[2365 rows x 2 columns]"
            ]
          },
          "execution_count": 18,
          "metadata": {},
          "output_type": "execute_result"
        }
      ],
      "source": [
        "#Getting rid of all those rows that have two tags for simplicity\n",
        "\n",
        "# Remove rows where aspect_list contains two elements\n",
        "filtered_df = filtered_df[filtered_df['aspect_list'].apply(len) <= 1].reset_index(drop=True)\n",
        "\n",
        "# Convert aspect_list into a string\n",
        "filtered_df['aspect_list'] = filtered_df['aspect_list'].apply(lambda x: x[0])\n",
        "\n",
        "filtered_df"
      ]
    },
    {
      "cell_type": "code",
      "execution_count": 19,
      "metadata": {},
      "outputs": [
        {
          "data": {
            "text/html": [
              "<div>\n",
              "<style scoped>\n",
              "    .dataframe tbody tr th:only-of-type {\n",
              "        vertical-align: middle;\n",
              "    }\n",
              "\n",
              "    .dataframe tbody tr th {\n",
              "        vertical-align: top;\n",
              "    }\n",
              "\n",
              "    .dataframe thead th {\n",
              "        text-align: right;\n",
              "    }\n",
              "</style>\n",
              "<table border=\"1\" class=\"dataframe\">\n",
              "  <thead>\n",
              "    <tr style=\"text-align: right;\">\n",
              "      <th></th>\n",
              "      <th>Tags</th>\n",
              "      <th>Count</th>\n",
              "    </tr>\n",
              "  </thead>\n",
              "  <tbody>\n",
              "    <tr>\n",
              "      <th>0</th>\n",
              "      <td>instrumental</td>\n",
              "      <td>745</td>\n",
              "    </tr>\n",
              "    <tr>\n",
              "      <th>1</th>\n",
              "      <td>pop</td>\n",
              "      <td>301</td>\n",
              "    </tr>\n",
              "    <tr>\n",
              "      <th>2</th>\n",
              "      <td>rock</td>\n",
              "      <td>257</td>\n",
              "    </tr>\n",
              "    <tr>\n",
              "      <th>3</th>\n",
              "      <td>classical</td>\n",
              "      <td>250</td>\n",
              "    </tr>\n",
              "    <tr>\n",
              "      <th>4</th>\n",
              "      <td>electronic</td>\n",
              "      <td>244</td>\n",
              "    </tr>\n",
              "    <tr>\n",
              "      <th>5</th>\n",
              "      <td>folk</td>\n",
              "      <td>201</td>\n",
              "    </tr>\n",
              "    <tr>\n",
              "      <th>6</th>\n",
              "      <td>hip hop</td>\n",
              "      <td>123</td>\n",
              "    </tr>\n",
              "    <tr>\n",
              "      <th>7</th>\n",
              "      <td>jazz</td>\n",
              "      <td>72</td>\n",
              "    </tr>\n",
              "    <tr>\n",
              "      <th>8</th>\n",
              "      <td>country</td>\n",
              "      <td>61</td>\n",
              "    </tr>\n",
              "    <tr>\n",
              "      <th>9</th>\n",
              "      <td>r&amp;b</td>\n",
              "      <td>59</td>\n",
              "    </tr>\n",
              "    <tr>\n",
              "      <th>10</th>\n",
              "      <td>metal</td>\n",
              "      <td>52</td>\n",
              "    </tr>\n",
              "  </tbody>\n",
              "</table>\n",
              "</div>"
            ],
            "text/plain": [
              "            Tags  Count\n",
              "0   instrumental    745\n",
              "1            pop    301\n",
              "2           rock    257\n",
              "3      classical    250\n",
              "4     electronic    244\n",
              "5           folk    201\n",
              "6        hip hop    123\n",
              "7           jazz     72\n",
              "8        country     61\n",
              "9            r&b     59\n",
              "10         metal     52"
            ]
          },
          "execution_count": 19,
          "metadata": {},
          "output_type": "execute_result"
        }
      ],
      "source": [
        "#the aspect_list col as a list\n",
        "filtered_tags_list = filtered_df['aspect_list'].to_list()\n",
        "\n",
        "# Flatten the tags_list\n",
        "# flat_list_ = [item for sublist in filtered_tags_list for item in sublist]\n",
        "\n",
        "# Count occurrences of each tag\n",
        "counter_ = Counter(filtered_tags_list)\n",
        "\n",
        "# Convert counter to DataFrame\n",
        "filtered_tags_counter = pd.DataFrame(counter_.items(), columns=['Tags', 'Count'])\n",
        "filtered_tags_counter = filtered_tags_counter.sort_values('Count', ascending= False).reset_index(drop = True)\n",
        "\n",
        "filtered_tags_counter"
      ]
    },
    {
      "cell_type": "code",
      "execution_count": 20,
      "metadata": {},
      "outputs": [
        {
          "data": {
            "text/plain": [
              "['instrumental',\n",
              " 'pop',\n",
              " 'rock',\n",
              " 'classical',\n",
              " 'electronic',\n",
              " 'folk',\n",
              " 'hip hop',\n",
              " 'jazz',\n",
              " 'country',\n",
              " 'r&b',\n",
              " 'metal']"
            ]
          },
          "execution_count": 20,
          "metadata": {},
          "output_type": "execute_result"
        }
      ],
      "source": [
        "filtered_tags_counter['Tags'][:11].to_list()"
      ]
    },
    {
      "cell_type": "markdown",
      "metadata": {},
      "source": [
        "Only keeping the first 11 genres"
      ]
    },
    {
      "cell_type": "code",
      "execution_count": 21,
      "metadata": {},
      "outputs": [
        {
          "data": {
            "text/html": [
              "<div>\n",
              "<style scoped>\n",
              "    .dataframe tbody tr th:only-of-type {\n",
              "        vertical-align: middle;\n",
              "    }\n",
              "\n",
              "    .dataframe tbody tr th {\n",
              "        vertical-align: top;\n",
              "    }\n",
              "\n",
              "    .dataframe thead th {\n",
              "        text-align: right;\n",
              "    }\n",
              "</style>\n",
              "<table border=\"1\" class=\"dataframe\">\n",
              "  <thead>\n",
              "    <tr style=\"text-align: right;\">\n",
              "      <th></th>\n",
              "      <th>fname</th>\n",
              "      <th>aspect_list</th>\n",
              "    </tr>\n",
              "  </thead>\n",
              "  <tbody>\n",
              "    <tr>\n",
              "      <th>0</th>\n",
              "      <td>[-0SdAVK79lg]-[30-40]</td>\n",
              "      <td>instrumental</td>\n",
              "    </tr>\n",
              "    <tr>\n",
              "      <th>1</th>\n",
              "      <td>[-1LrH01Ei1w]-[30-40]</td>\n",
              "      <td>instrumental</td>\n",
              "    </tr>\n",
              "    <tr>\n",
              "      <th>2</th>\n",
              "      <td>[-4NLarMj4xU]-[30-40]</td>\n",
              "      <td>pop</td>\n",
              "    </tr>\n",
              "    <tr>\n",
              "      <th>3</th>\n",
              "      <td>[-5f6hjZf9Yw]-[30-40]</td>\n",
              "      <td>folk</td>\n",
              "    </tr>\n",
              "    <tr>\n",
              "      <th>4</th>\n",
              "      <td>[-6QGvxvaTkI]-[280-290]</td>\n",
              "      <td>folk</td>\n",
              "    </tr>\n",
              "    <tr>\n",
              "      <th>...</th>\n",
              "      <td>...</td>\n",
              "      <td>...</td>\n",
              "    </tr>\n",
              "    <tr>\n",
              "      <th>2316</th>\n",
              "      <td>[zjsWFvUkh7M]-[30-40]</td>\n",
              "      <td>rock</td>\n",
              "    </tr>\n",
              "    <tr>\n",
              "      <th>2317</th>\n",
              "      <td>[zrrM6Qg2Dwg]-[30-40]</td>\n",
              "      <td>instrumental</td>\n",
              "    </tr>\n",
              "    <tr>\n",
              "      <th>2318</th>\n",
              "      <td>[zwfo7wnXdjs]-[30-40]</td>\n",
              "      <td>folk</td>\n",
              "    </tr>\n",
              "    <tr>\n",
              "      <th>2319</th>\n",
              "      <td>[zx_vcwOsDO4]-[50-60]</td>\n",
              "      <td>instrumental</td>\n",
              "    </tr>\n",
              "    <tr>\n",
              "      <th>2320</th>\n",
              "      <td>[zzNdwF40ID8]-[70-80]</td>\n",
              "      <td>electronic</td>\n",
              "    </tr>\n",
              "  </tbody>\n",
              "</table>\n",
              "<p>2319 rows × 2 columns</p>\n",
              "</div>"
            ],
            "text/plain": [
              "                        fname   aspect_list\n",
              "0       [-0SdAVK79lg]-[30-40]  instrumental\n",
              "1       [-1LrH01Ei1w]-[30-40]  instrumental\n",
              "2       [-4NLarMj4xU]-[30-40]           pop\n",
              "3       [-5f6hjZf9Yw]-[30-40]          folk\n",
              "4     [-6QGvxvaTkI]-[280-290]          folk\n",
              "...                       ...           ...\n",
              "2316    [zjsWFvUkh7M]-[30-40]          rock\n",
              "2317    [zrrM6Qg2Dwg]-[30-40]  instrumental\n",
              "2318    [zwfo7wnXdjs]-[30-40]          folk\n",
              "2319    [zx_vcwOsDO4]-[50-60]  instrumental\n",
              "2320    [zzNdwF40ID8]-[70-80]    electronic\n",
              "\n",
              "[2319 rows x 2 columns]"
            ]
          },
          "execution_count": 21,
          "metadata": {},
          "output_type": "execute_result"
        }
      ],
      "source": [
        "#list of top twelve genres\n",
        "# top_genres = filtered_tags_counter['Tags'][:11].to_list()\n",
        "\n",
        "#filtering df to only keep\n",
        "# filtered_df = filtered_df[filtered_df['aspect_list'].isin(top_genres)].reset_index(drop = True)\n",
        "\n",
        "#Only keep those rows for which the mel-spec exists\n",
        "mel_list = os.listdir('/home/mendu/Thesis/data/musiccaps/mel-specs')\n",
        "mel_list = [fname.replace('.wav.npy', '') for fname in mel_list]\n",
        "\n",
        "filtered_df = filtered_df[filtered_df['fname'].isin(mel_list)].reset_index(drop = True)\n",
        "\n",
        "#Removing [pYXx0xXZiXk]-[14-24] and [-SWaCArvQug]-[21-31] because they are not of the right shape\n",
        "filtered_df = filtered_df.drop(filtered_df[filtered_df['fname'] == '[pYXx0xXZiXk]-[14-24]'].index)\n",
        "filtered_df = filtered_df.drop(filtered_df[filtered_df['fname'] == '[-SWaCArvQug]-[21-31]'].index)\n",
        "\n",
        "filtered_df"
      ]
    },
    {
      "cell_type": "code",
      "execution_count": 26,
      "metadata": {},
      "outputs": [
        {
          "name": "stdout",
          "output_type": "stream",
          "text": [
            "aspect_list\n",
            "instrumental    730\n",
            "pop             730\n",
            "folk            730\n",
            "electronic      730\n",
            "rock            730\n",
            "country         730\n",
            "hip hop         730\n",
            "jazz            730\n",
            "classical       730\n",
            "metal           730\n",
            "r&b             730\n",
            "Name: count, dtype: int64\n"
          ]
        }
      ],
      "source": [
        "class_counts = filtered_df['aspect_list'].value_counts()\n",
        "max_samples = class_counts.max()\n",
        "\n",
        "# Resample the data to balance the classes\n",
        "resampled_data = []\n",
        "for class_name, count in class_counts.items():\n",
        "    # Calculate the number of samples to add to balance the class distribution\n",
        "    num_samples_to_add = max_samples - count\n",
        "    \n",
        "    # Resample the minority class (with replacement)\n",
        "    minority_class_samples = filtered_df[filtered_df['aspect_list'] == class_name].sample(n=num_samples_to_add, replace=True, random_state=42)\n",
        "    \n",
        "    # Append the resampled minority class samples to the resampled data list\n",
        "    resampled_data.append(minority_class_samples)\n",
        "\n",
        "# Concatenate the resampled data to create the balanced dataset\n",
        "balanced_df = pd.concat([filtered_df] + resampled_data, ignore_index=True)\n",
        "\n",
        "# Verify the class distribution in the balanced dataset\n",
        "print(balanced_df['aspect_list'].value_counts())"
      ]
    },
    {
      "cell_type": "code",
      "execution_count": 28,
      "metadata": {},
      "outputs": [],
      "source": [
        "balanced_df.to_csv('/home/mendu/Thesis/data/musiccaps/balanced_meta_df.csv')"
      ]
    },
    {
      "cell_type": "code",
      "execution_count": 79,
      "metadata": {},
      "outputs": [],
      "source": [
        "# filtered_df.to_csv('/home/mendu/Thesis/data/musiccaps/filtered_meta_df.csv')"
      ]
    },
    {
      "cell_type": "markdown",
      "metadata": {},
      "source": [
        "## Generating mel-spectrograms"
      ]
    },
    {
      "cell_type": "code",
      "execution_count": 24,
      "metadata": {},
      "outputs": [],
      "source": [
        "# Function to convert mp3 files to mel-spectrograms\n",
        "def mp3_to_melspectrogram(input_folder, output_folder):\n",
        "    # Create the output folder if it doesn't exist\n",
        "    if not os.path.exists(output_folder):\n",
        "        os.makedirs(output_folder)\n",
        "\n",
        "    # Iterate over each file in the input folder\n",
        "    for filename in os.listdir(input_folder):\n",
        "        if filename.endswith(\".mp3\"):\n",
        "            # Load the audio file\n",
        "            audio_path = os.path.join(input_folder, filename)\n",
        "            y, sr = librosa.load(audio_path)\n",
        "\n",
        "            # Compute the mel-spectrogram\n",
        "            mel_spectrogram = librosa.feature.melspectrogram(y=y, sr=sr)\n",
        "\n",
        "            # Convert to decibel scale\n",
        "            mel_spectrogram_db = librosa.power_to_db(mel_spectrogram, ref=np.max)\n",
        "\n",
        "            # Save the mel-spectrogram as .npy file\n",
        "            output_path = os.path.join(output_folder, filename.replace('.mp3', '.npy'))\n",
        "            np.save(output_path, mel_spectrogram_db)\n",
        "\n",
        "            # print(f\"Mel-spectrogram saved: {output_path}\")"
      ]
    },
    {
      "cell_type": "code",
      "execution_count": 25,
      "metadata": {},
      "outputs": [],
      "source": [
        "#generating mel-specs\n",
        "input_folder = '/home/mendu/Thesis/data/musiccaps/audio'\n",
        "output_folder = '/home/mendu/Thesis/data/musiccaps/mel-specs'\n",
        "# mp3_to_melspectrogram(input_folder, output_folder)"
      ]
    },
    {
      "cell_type": "markdown",
      "metadata": {
        "id": "9EQkgGg9q3v_"
      },
      "source": [
        "# Training the model"
      ]
    },
    {
      "cell_type": "code",
      "execution_count": 22,
      "metadata": {
        "id": "5GVjutXQLfTM"
      },
      "outputs": [],
      "source": [
        "def add_gauss_noise(image, mean = 0, var = 10):\n",
        "    '''function to add gaussian noise to an image'''\n",
        "    sigma = var ** 0.5\n",
        "\n",
        "    #creating a noise image with gaussian distribution\n",
        "    gaussian = np.random.normal(mean, sigma, (image.shape[0], image.shape[1]))\n",
        "\n",
        "    #creating a zeroes image\n",
        "    noisy_image = np.zeros(image.shape, np.float32)\n",
        "\n",
        "    #adding the noise to the original image\n",
        "    noisy_image = image + gaussian\n",
        "\n",
        "    #normalising the image\n",
        "    cv2.normalize(noisy_image, noisy_image, 0, 255, cv2.NORM_MINMAX, dtype=-1)\n",
        "\n",
        "    #changing type\n",
        "    noisy_image = noisy_image.astype(np.uint8)\n",
        "\n",
        "    return noisy_image"
      ]
    },
    {
      "cell_type": "code",
      "execution_count": 23,
      "metadata": {},
      "outputs": [
        {
          "data": {
            "text/plain": [
              "2319"
            ]
          },
          "execution_count": 23,
          "metadata": {},
          "output_type": "execute_result"
        }
      ],
      "source": [
        "len(filtered_df.fname.to_list())"
      ]
    },
    {
      "cell_type": "code",
      "execution_count": 92,
      "metadata": {
        "colab": {
          "base_uri": "https://localhost:8080/"
        },
        "id": "mWzklUIEAxTy",
        "outputId": "c596c7a1-e15a-467f-f68a-86b9adf73db1"
      },
      "outputs": [
        {
          "name": "stdout",
          "output_type": "stream",
          "text": [
            "[-0SdAVK79lg]-[30-40]\n",
            "[-1LrH01Ei1w]-[30-40]\n",
            "[-4NLarMj4xU]-[30-40]\n",
            "[-5f6hjZf9Yw]-[30-40]\n",
            "[-6QGvxvaTkI]-[280-290]\n",
            "[-Dtir74TiUM]-[40-50]\n",
            "[-FlvaZQOr2I]-[90-100]\n",
            "[-JVWfFPBl84]-[330-340]\n",
            "[-M-6VinyMiY]-[30-40]\n",
            "[-O9mnfC61Ac]-[0-10]\n"
          ]
        }
      ],
      "source": [
        "#loading the cropped .npy files in a tensor\n",
        "\n",
        "#the folder path to where the mel-specs are stored\n",
        "folder_path_mel = '/home/mendu/Thesis/data/musiccaps/mel-specs'\n",
        "\n",
        "#The ordered list of all the filenames in the filtered_df\n",
        "audio_names_list = filtered_df.fname.to_list()\n",
        "\n",
        "data = []\n",
        "i = 0\n",
        "\n",
        "for filename in audio_names_list: #iterates over the filtered_df audio names\n",
        "  filename_npy = str(filename) + '.wav.npy'\n",
        "  file_path = os.path.join(folder_path_mel, filename_npy) #creates a folder path for the mel_specs \n",
        "  img = np.load(file_path)\n",
        "  \n",
        "  # Check to ensure the image has the minimum required dimensions\n",
        "  if img.shape[0] >= 128 and img.shape[1] >= 431:\n",
        "    img = img[:128, :431]\n",
        "    data.append(add_gauss_noise(img))\n",
        "  else:\n",
        "    print(f\"Error with file: {filename_npy}. Expected minimum shape of (128, 431) but got {img.shape}.\")\n",
        "    # Handle the error properly, either skip this image or pad/crop it accordingly\n",
        "\n",
        "  # To ensure that the files are getting loaded in the correct order\n",
        "  if i < 10 :\n",
        "    print(filename)\n",
        "  i = i+1\n",
        "\n",
        "data = np.array(data)\n"
      ]
    },
    {
      "cell_type": "code",
      "execution_count": 94,
      "metadata": {
        "id": "TyQ564hXAxNh"
      },
      "outputs": [],
      "source": [
        "#normalize data\n",
        "data = data.astype('float32')/255.0"
      ]
    },
    {
      "cell_type": "code",
      "execution_count": 95,
      "metadata": {
        "colab": {
          "base_uri": "https://localhost:8080/"
        },
        "id": "3Y5q37Ny9YZ4",
        "outputId": "ba8882f7-9691-45f6-f0b6-fb19a7fa1ab2"
      },
      "outputs": [
        {
          "data": {
            "text/plain": [
              "(2319, 128, 431)"
            ]
          },
          "execution_count": 95,
          "metadata": {},
          "output_type": "execute_result"
        }
      ],
      "source": [
        "data.shape"
      ]
    },
    {
      "cell_type": "code",
      "execution_count": 96,
      "metadata": {},
      "outputs": [
        {
          "data": {
            "text/html": [
              "<div>\n",
              "<style scoped>\n",
              "    .dataframe tbody tr th:only-of-type {\n",
              "        vertical-align: middle;\n",
              "    }\n",
              "\n",
              "    .dataframe tbody tr th {\n",
              "        vertical-align: top;\n",
              "    }\n",
              "\n",
              "    .dataframe thead th {\n",
              "        text-align: right;\n",
              "    }\n",
              "</style>\n",
              "<table border=\"1\" class=\"dataframe\">\n",
              "  <thead>\n",
              "    <tr style=\"text-align: right;\">\n",
              "      <th></th>\n",
              "      <th>fname</th>\n",
              "      <th>aspect_list</th>\n",
              "    </tr>\n",
              "  </thead>\n",
              "  <tbody>\n",
              "    <tr>\n",
              "      <th>0</th>\n",
              "      <td>[-0SdAVK79lg]-[30-40]</td>\n",
              "      <td>instrumental</td>\n",
              "    </tr>\n",
              "    <tr>\n",
              "      <th>1</th>\n",
              "      <td>[-1LrH01Ei1w]-[30-40]</td>\n",
              "      <td>instrumental</td>\n",
              "    </tr>\n",
              "    <tr>\n",
              "      <th>2</th>\n",
              "      <td>[-4NLarMj4xU]-[30-40]</td>\n",
              "      <td>pop</td>\n",
              "    </tr>\n",
              "    <tr>\n",
              "      <th>3</th>\n",
              "      <td>[-5f6hjZf9Yw]-[30-40]</td>\n",
              "      <td>folk</td>\n",
              "    </tr>\n",
              "    <tr>\n",
              "      <th>4</th>\n",
              "      <td>[-6QGvxvaTkI]-[280-290]</td>\n",
              "      <td>folk</td>\n",
              "    </tr>\n",
              "    <tr>\n",
              "      <th>...</th>\n",
              "      <td>...</td>\n",
              "      <td>...</td>\n",
              "    </tr>\n",
              "    <tr>\n",
              "      <th>2316</th>\n",
              "      <td>[zjsWFvUkh7M]-[30-40]</td>\n",
              "      <td>rock</td>\n",
              "    </tr>\n",
              "    <tr>\n",
              "      <th>2317</th>\n",
              "      <td>[zrrM6Qg2Dwg]-[30-40]</td>\n",
              "      <td>instrumental</td>\n",
              "    </tr>\n",
              "    <tr>\n",
              "      <th>2318</th>\n",
              "      <td>[zwfo7wnXdjs]-[30-40]</td>\n",
              "      <td>folk</td>\n",
              "    </tr>\n",
              "    <tr>\n",
              "      <th>2319</th>\n",
              "      <td>[zx_vcwOsDO4]-[50-60]</td>\n",
              "      <td>instrumental</td>\n",
              "    </tr>\n",
              "    <tr>\n",
              "      <th>2320</th>\n",
              "      <td>[zzNdwF40ID8]-[70-80]</td>\n",
              "      <td>electronic</td>\n",
              "    </tr>\n",
              "  </tbody>\n",
              "</table>\n",
              "<p>2319 rows × 2 columns</p>\n",
              "</div>"
            ],
            "text/plain": [
              "                        fname   aspect_list\n",
              "0       [-0SdAVK79lg]-[30-40]  instrumental\n",
              "1       [-1LrH01Ei1w]-[30-40]  instrumental\n",
              "2       [-4NLarMj4xU]-[30-40]           pop\n",
              "3       [-5f6hjZf9Yw]-[30-40]          folk\n",
              "4     [-6QGvxvaTkI]-[280-290]          folk\n",
              "...                       ...           ...\n",
              "2316    [zjsWFvUkh7M]-[30-40]          rock\n",
              "2317    [zrrM6Qg2Dwg]-[30-40]  instrumental\n",
              "2318    [zwfo7wnXdjs]-[30-40]          folk\n",
              "2319    [zx_vcwOsDO4]-[50-60]  instrumental\n",
              "2320    [zzNdwF40ID8]-[70-80]    electronic\n",
              "\n",
              "[2319 rows x 2 columns]"
            ]
          },
          "execution_count": 96,
          "metadata": {},
          "output_type": "execute_result"
        }
      ],
      "source": [
        "filtered_df"
      ]
    },
    {
      "cell_type": "code",
      "execution_count": 38,
      "metadata": {
        "id": "avcBh83EUv2h"
      },
      "outputs": [],
      "source": [
        "# Reshape data to include the channel dimension\n",
        "data = data.reshape((-1, 128, 431, 1))\n",
        "\n",
        "# Split data into training and validation sets\n",
        "X_train, X_val, y_train, y_val = train_test_split(data, pd.get_dummies(filtered_df['aspect_list']), test_size=0.1, random_state=42)\n",
        "\n",
        "# Compute class weights manually for one-hot encoded labels\n",
        "class_totals = y_train.sum(axis=0)\n",
        "total_samples = y_train.shape[0]\n",
        "class_weights = total_samples / (len(class_totals) * class_totals)\n",
        "\n",
        "# Convert class weights to a dictionary for easier use\n",
        "class_weight_dict = dict(enumerate(class_weights))"
      ]
    },
    {
      "cell_type": "code",
      "execution_count": 39,
      "metadata": {
        "id": "d7GwoDyDUvyv"
      },
      "outputs": [],
      "source": [
        "# Initialize ImageDataGenerator with necessary augmentations\n",
        "datagen = ImageDataGenerator(\n",
        "    width_shift_range=0.2,\n",
        "    height_shift_range=0.2\n",
        ")\n",
        "\n",
        "datagen.fit(X_train)"
      ]
    },
    {
      "cell_type": "code",
      "execution_count": 40,
      "metadata": {
        "id": "rKrZwkL4xXc7"
      },
      "outputs": [
        {
          "data": {
            "text/plain": [
              "12"
            ]
          },
          "execution_count": 40,
          "metadata": {},
          "output_type": "execute_result"
        }
      ],
      "source": [
        "# Define num_classes based on the number of unique genres\n",
        "num_classes = y_train.shape[1]\n",
        "num_classes"
      ]
    },
    {
      "cell_type": "code",
      "execution_count": 49,
      "metadata": {
        "colab": {
          "base_uri": "https://localhost:8080/"
        },
        "id": "GYYjn2sVIz8f",
        "outputId": "c68e11da-a1fa-49e1-f550-f121e27f777a"
      },
      "outputs": [
        {
          "data": {
            "text/html": [
              "<pre style=\"white-space:pre;overflow-x:auto;line-height:normal;font-family:Menlo,'DejaVu Sans Mono',consolas,'Courier New',monospace\"><span style=\"font-weight: bold\">Model: \"sequential_4\"</span>\n",
              "</pre>\n"
            ],
            "text/plain": [
              "\u001b[1mModel: \"sequential_4\"\u001b[0m\n"
            ]
          },
          "metadata": {},
          "output_type": "display_data"
        },
        {
          "data": {
            "text/html": [
              "<pre style=\"white-space:pre;overflow-x:auto;line-height:normal;font-family:Menlo,'DejaVu Sans Mono',consolas,'Courier New',monospace\">┏━━━━━━━━━━━━━━━━━━━━━━━━━━━━━━━━━┳━━━━━━━━━━━━━━━━━━━━━━━━┳━━━━━━━━━━━━━━━┓\n",
              "┃<span style=\"font-weight: bold\"> Layer (type)                    </span>┃<span style=\"font-weight: bold\"> Output Shape           </span>┃<span style=\"font-weight: bold\">       Param # </span>┃\n",
              "┡━━━━━━━━━━━━━━━━━━━━━━━━━━━━━━━━━╇━━━━━━━━━━━━━━━━━━━━━━━━╇━━━━━━━━━━━━━━━┩\n",
              "│ conv2d_12 (<span style=\"color: #0087ff; text-decoration-color: #0087ff\">Conv2D</span>)              │ (<span style=\"color: #00d7ff; text-decoration-color: #00d7ff\">None</span>, <span style=\"color: #00af00; text-decoration-color: #00af00\">126</span>, <span style=\"color: #00af00; text-decoration-color: #00af00\">429</span>, <span style=\"color: #00af00; text-decoration-color: #00af00\">32</span>)   │           <span style=\"color: #00af00; text-decoration-color: #00af00\">288</span> │\n",
              "├─────────────────────────────────┼────────────────────────┼───────────────┤\n",
              "│ batch_normalization_16          │ (<span style=\"color: #00d7ff; text-decoration-color: #00d7ff\">None</span>, <span style=\"color: #00af00; text-decoration-color: #00af00\">126</span>, <span style=\"color: #00af00; text-decoration-color: #00af00\">429</span>, <span style=\"color: #00af00; text-decoration-color: #00af00\">32</span>)   │           <span style=\"color: #00af00; text-decoration-color: #00af00\">128</span> │\n",
              "│ (<span style=\"color: #0087ff; text-decoration-color: #0087ff\">BatchNormalization</span>)            │                        │               │\n",
              "├─────────────────────────────────┼────────────────────────┼───────────────┤\n",
              "│ activation_16 (<span style=\"color: #0087ff; text-decoration-color: #0087ff\">Activation</span>)      │ (<span style=\"color: #00d7ff; text-decoration-color: #00d7ff\">None</span>, <span style=\"color: #00af00; text-decoration-color: #00af00\">126</span>, <span style=\"color: #00af00; text-decoration-color: #00af00\">429</span>, <span style=\"color: #00af00; text-decoration-color: #00af00\">32</span>)   │             <span style=\"color: #00af00; text-decoration-color: #00af00\">0</span> │\n",
              "├─────────────────────────────────┼────────────────────────┼───────────────┤\n",
              "│ max_pooling2d_12 (<span style=\"color: #0087ff; text-decoration-color: #0087ff\">MaxPooling2D</span>) │ (<span style=\"color: #00d7ff; text-decoration-color: #00d7ff\">None</span>, <span style=\"color: #00af00; text-decoration-color: #00af00\">63</span>, <span style=\"color: #00af00; text-decoration-color: #00af00\">214</span>, <span style=\"color: #00af00; text-decoration-color: #00af00\">32</span>)    │             <span style=\"color: #00af00; text-decoration-color: #00af00\">0</span> │\n",
              "├─────────────────────────────────┼────────────────────────┼───────────────┤\n",
              "│ conv2d_13 (<span style=\"color: #0087ff; text-decoration-color: #0087ff\">Conv2D</span>)              │ (<span style=\"color: #00d7ff; text-decoration-color: #00d7ff\">None</span>, <span style=\"color: #00af00; text-decoration-color: #00af00\">61</span>, <span style=\"color: #00af00; text-decoration-color: #00af00\">212</span>, <span style=\"color: #00af00; text-decoration-color: #00af00\">64</span>)    │        <span style=\"color: #00af00; text-decoration-color: #00af00\">18,432</span> │\n",
              "├─────────────────────────────────┼────────────────────────┼───────────────┤\n",
              "│ batch_normalization_17          │ (<span style=\"color: #00d7ff; text-decoration-color: #00d7ff\">None</span>, <span style=\"color: #00af00; text-decoration-color: #00af00\">61</span>, <span style=\"color: #00af00; text-decoration-color: #00af00\">212</span>, <span style=\"color: #00af00; text-decoration-color: #00af00\">64</span>)    │           <span style=\"color: #00af00; text-decoration-color: #00af00\">256</span> │\n",
              "│ (<span style=\"color: #0087ff; text-decoration-color: #0087ff\">BatchNormalization</span>)            │                        │               │\n",
              "├─────────────────────────────────┼────────────────────────┼───────────────┤\n",
              "│ activation_17 (<span style=\"color: #0087ff; text-decoration-color: #0087ff\">Activation</span>)      │ (<span style=\"color: #00d7ff; text-decoration-color: #00d7ff\">None</span>, <span style=\"color: #00af00; text-decoration-color: #00af00\">61</span>, <span style=\"color: #00af00; text-decoration-color: #00af00\">212</span>, <span style=\"color: #00af00; text-decoration-color: #00af00\">64</span>)    │             <span style=\"color: #00af00; text-decoration-color: #00af00\">0</span> │\n",
              "├─────────────────────────────────┼────────────────────────┼───────────────┤\n",
              "│ max_pooling2d_13 (<span style=\"color: #0087ff; text-decoration-color: #0087ff\">MaxPooling2D</span>) │ (<span style=\"color: #00d7ff; text-decoration-color: #00d7ff\">None</span>, <span style=\"color: #00af00; text-decoration-color: #00af00\">30</span>, <span style=\"color: #00af00; text-decoration-color: #00af00\">106</span>, <span style=\"color: #00af00; text-decoration-color: #00af00\">64</span>)    │             <span style=\"color: #00af00; text-decoration-color: #00af00\">0</span> │\n",
              "├─────────────────────────────────┼────────────────────────┼───────────────┤\n",
              "│ conv2d_14 (<span style=\"color: #0087ff; text-decoration-color: #0087ff\">Conv2D</span>)              │ (<span style=\"color: #00d7ff; text-decoration-color: #00d7ff\">None</span>, <span style=\"color: #00af00; text-decoration-color: #00af00\">28</span>, <span style=\"color: #00af00; text-decoration-color: #00af00\">104</span>, <span style=\"color: #00af00; text-decoration-color: #00af00\">128</span>)   │        <span style=\"color: #00af00; text-decoration-color: #00af00\">73,728</span> │\n",
              "├─────────────────────────────────┼────────────────────────┼───────────────┤\n",
              "│ batch_normalization_18          │ (<span style=\"color: #00d7ff; text-decoration-color: #00d7ff\">None</span>, <span style=\"color: #00af00; text-decoration-color: #00af00\">28</span>, <span style=\"color: #00af00; text-decoration-color: #00af00\">104</span>, <span style=\"color: #00af00; text-decoration-color: #00af00\">128</span>)   │           <span style=\"color: #00af00; text-decoration-color: #00af00\">512</span> │\n",
              "│ (<span style=\"color: #0087ff; text-decoration-color: #0087ff\">BatchNormalization</span>)            │                        │               │\n",
              "├─────────────────────────────────┼────────────────────────┼───────────────┤\n",
              "│ activation_18 (<span style=\"color: #0087ff; text-decoration-color: #0087ff\">Activation</span>)      │ (<span style=\"color: #00d7ff; text-decoration-color: #00d7ff\">None</span>, <span style=\"color: #00af00; text-decoration-color: #00af00\">28</span>, <span style=\"color: #00af00; text-decoration-color: #00af00\">104</span>, <span style=\"color: #00af00; text-decoration-color: #00af00\">128</span>)   │             <span style=\"color: #00af00; text-decoration-color: #00af00\">0</span> │\n",
              "├─────────────────────────────────┼────────────────────────┼───────────────┤\n",
              "│ max_pooling2d_14 (<span style=\"color: #0087ff; text-decoration-color: #0087ff\">MaxPooling2D</span>) │ (<span style=\"color: #00d7ff; text-decoration-color: #00d7ff\">None</span>, <span style=\"color: #00af00; text-decoration-color: #00af00\">14</span>, <span style=\"color: #00af00; text-decoration-color: #00af00\">52</span>, <span style=\"color: #00af00; text-decoration-color: #00af00\">128</span>)    │             <span style=\"color: #00af00; text-decoration-color: #00af00\">0</span> │\n",
              "├─────────────────────────────────┼────────────────────────┼───────────────┤\n",
              "│ flatten_4 (<span style=\"color: #0087ff; text-decoration-color: #0087ff\">Flatten</span>)             │ (<span style=\"color: #00d7ff; text-decoration-color: #00d7ff\">None</span>, <span style=\"color: #00af00; text-decoration-color: #00af00\">93184</span>)          │             <span style=\"color: #00af00; text-decoration-color: #00af00\">0</span> │\n",
              "├─────────────────────────────────┼────────────────────────┼───────────────┤\n",
              "│ dense_8 (<span style=\"color: #0087ff; text-decoration-color: #0087ff\">Dense</span>)                 │ (<span style=\"color: #00d7ff; text-decoration-color: #00d7ff\">None</span>, <span style=\"color: #00af00; text-decoration-color: #00af00\">128</span>)            │    <span style=\"color: #00af00; text-decoration-color: #00af00\">11,927,552</span> │\n",
              "├─────────────────────────────────┼────────────────────────┼───────────────┤\n",
              "│ batch_normalization_19          │ (<span style=\"color: #00d7ff; text-decoration-color: #00d7ff\">None</span>, <span style=\"color: #00af00; text-decoration-color: #00af00\">128</span>)            │           <span style=\"color: #00af00; text-decoration-color: #00af00\">512</span> │\n",
              "│ (<span style=\"color: #0087ff; text-decoration-color: #0087ff\">BatchNormalization</span>)            │                        │               │\n",
              "├─────────────────────────────────┼────────────────────────┼───────────────┤\n",
              "│ activation_19 (<span style=\"color: #0087ff; text-decoration-color: #0087ff\">Activation</span>)      │ (<span style=\"color: #00d7ff; text-decoration-color: #00d7ff\">None</span>, <span style=\"color: #00af00; text-decoration-color: #00af00\">128</span>)            │             <span style=\"color: #00af00; text-decoration-color: #00af00\">0</span> │\n",
              "├─────────────────────────────────┼────────────────────────┼───────────────┤\n",
              "│ dropout_4 (<span style=\"color: #0087ff; text-decoration-color: #0087ff\">Dropout</span>)             │ (<span style=\"color: #00d7ff; text-decoration-color: #00d7ff\">None</span>, <span style=\"color: #00af00; text-decoration-color: #00af00\">128</span>)            │             <span style=\"color: #00af00; text-decoration-color: #00af00\">0</span> │\n",
              "├─────────────────────────────────┼────────────────────────┼───────────────┤\n",
              "│ dense_9 (<span style=\"color: #0087ff; text-decoration-color: #0087ff\">Dense</span>)                 │ (<span style=\"color: #00d7ff; text-decoration-color: #00d7ff\">None</span>, <span style=\"color: #00af00; text-decoration-color: #00af00\">12</span>)             │         <span style=\"color: #00af00; text-decoration-color: #00af00\">1,548</span> │\n",
              "└─────────────────────────────────┴────────────────────────┴───────────────┘\n",
              "</pre>\n"
            ],
            "text/plain": [
              "┏━━━━━━━━━━━━━━━━━━━━━━━━━━━━━━━━━┳━━━━━━━━━━━━━━━━━━━━━━━━┳━━━━━━━━━━━━━━━┓\n",
              "┃\u001b[1m \u001b[0m\u001b[1mLayer (type)                   \u001b[0m\u001b[1m \u001b[0m┃\u001b[1m \u001b[0m\u001b[1mOutput Shape          \u001b[0m\u001b[1m \u001b[0m┃\u001b[1m \u001b[0m\u001b[1m      Param #\u001b[0m\u001b[1m \u001b[0m┃\n",
              "┡━━━━━━━━━━━━━━━━━━━━━━━━━━━━━━━━━╇━━━━━━━━━━━━━━━━━━━━━━━━╇━━━━━━━━━━━━━━━┩\n",
              "│ conv2d_12 (\u001b[38;5;33mConv2D\u001b[0m)              │ (\u001b[38;5;45mNone\u001b[0m, \u001b[38;5;34m126\u001b[0m, \u001b[38;5;34m429\u001b[0m, \u001b[38;5;34m32\u001b[0m)   │           \u001b[38;5;34m288\u001b[0m │\n",
              "├─────────────────────────────────┼────────────────────────┼───────────────┤\n",
              "│ batch_normalization_16          │ (\u001b[38;5;45mNone\u001b[0m, \u001b[38;5;34m126\u001b[0m, \u001b[38;5;34m429\u001b[0m, \u001b[38;5;34m32\u001b[0m)   │           \u001b[38;5;34m128\u001b[0m │\n",
              "│ (\u001b[38;5;33mBatchNormalization\u001b[0m)            │                        │               │\n",
              "├─────────────────────────────────┼────────────────────────┼───────────────┤\n",
              "│ activation_16 (\u001b[38;5;33mActivation\u001b[0m)      │ (\u001b[38;5;45mNone\u001b[0m, \u001b[38;5;34m126\u001b[0m, \u001b[38;5;34m429\u001b[0m, \u001b[38;5;34m32\u001b[0m)   │             \u001b[38;5;34m0\u001b[0m │\n",
              "├─────────────────────────────────┼────────────────────────┼───────────────┤\n",
              "│ max_pooling2d_12 (\u001b[38;5;33mMaxPooling2D\u001b[0m) │ (\u001b[38;5;45mNone\u001b[0m, \u001b[38;5;34m63\u001b[0m, \u001b[38;5;34m214\u001b[0m, \u001b[38;5;34m32\u001b[0m)    │             \u001b[38;5;34m0\u001b[0m │\n",
              "├─────────────────────────────────┼────────────────────────┼───────────────┤\n",
              "│ conv2d_13 (\u001b[38;5;33mConv2D\u001b[0m)              │ (\u001b[38;5;45mNone\u001b[0m, \u001b[38;5;34m61\u001b[0m, \u001b[38;5;34m212\u001b[0m, \u001b[38;5;34m64\u001b[0m)    │        \u001b[38;5;34m18,432\u001b[0m │\n",
              "├─────────────────────────────────┼────────────────────────┼───────────────┤\n",
              "│ batch_normalization_17          │ (\u001b[38;5;45mNone\u001b[0m, \u001b[38;5;34m61\u001b[0m, \u001b[38;5;34m212\u001b[0m, \u001b[38;5;34m64\u001b[0m)    │           \u001b[38;5;34m256\u001b[0m │\n",
              "│ (\u001b[38;5;33mBatchNormalization\u001b[0m)            │                        │               │\n",
              "├─────────────────────────────────┼────────────────────────┼───────────────┤\n",
              "│ activation_17 (\u001b[38;5;33mActivation\u001b[0m)      │ (\u001b[38;5;45mNone\u001b[0m, \u001b[38;5;34m61\u001b[0m, \u001b[38;5;34m212\u001b[0m, \u001b[38;5;34m64\u001b[0m)    │             \u001b[38;5;34m0\u001b[0m │\n",
              "├─────────────────────────────────┼────────────────────────┼───────────────┤\n",
              "│ max_pooling2d_13 (\u001b[38;5;33mMaxPooling2D\u001b[0m) │ (\u001b[38;5;45mNone\u001b[0m, \u001b[38;5;34m30\u001b[0m, \u001b[38;5;34m106\u001b[0m, \u001b[38;5;34m64\u001b[0m)    │             \u001b[38;5;34m0\u001b[0m │\n",
              "├─────────────────────────────────┼────────────────────────┼───────────────┤\n",
              "│ conv2d_14 (\u001b[38;5;33mConv2D\u001b[0m)              │ (\u001b[38;5;45mNone\u001b[0m, \u001b[38;5;34m28\u001b[0m, \u001b[38;5;34m104\u001b[0m, \u001b[38;5;34m128\u001b[0m)   │        \u001b[38;5;34m73,728\u001b[0m │\n",
              "├─────────────────────────────────┼────────────────────────┼───────────────┤\n",
              "│ batch_normalization_18          │ (\u001b[38;5;45mNone\u001b[0m, \u001b[38;5;34m28\u001b[0m, \u001b[38;5;34m104\u001b[0m, \u001b[38;5;34m128\u001b[0m)   │           \u001b[38;5;34m512\u001b[0m │\n",
              "│ (\u001b[38;5;33mBatchNormalization\u001b[0m)            │                        │               │\n",
              "├─────────────────────────────────┼────────────────────────┼───────────────┤\n",
              "│ activation_18 (\u001b[38;5;33mActivation\u001b[0m)      │ (\u001b[38;5;45mNone\u001b[0m, \u001b[38;5;34m28\u001b[0m, \u001b[38;5;34m104\u001b[0m, \u001b[38;5;34m128\u001b[0m)   │             \u001b[38;5;34m0\u001b[0m │\n",
              "├─────────────────────────────────┼────────────────────────┼───────────────┤\n",
              "│ max_pooling2d_14 (\u001b[38;5;33mMaxPooling2D\u001b[0m) │ (\u001b[38;5;45mNone\u001b[0m, \u001b[38;5;34m14\u001b[0m, \u001b[38;5;34m52\u001b[0m, \u001b[38;5;34m128\u001b[0m)    │             \u001b[38;5;34m0\u001b[0m │\n",
              "├─────────────────────────────────┼────────────────────────┼───────────────┤\n",
              "│ flatten_4 (\u001b[38;5;33mFlatten\u001b[0m)             │ (\u001b[38;5;45mNone\u001b[0m, \u001b[38;5;34m93184\u001b[0m)          │             \u001b[38;5;34m0\u001b[0m │\n",
              "├─────────────────────────────────┼────────────────────────┼───────────────┤\n",
              "│ dense_8 (\u001b[38;5;33mDense\u001b[0m)                 │ (\u001b[38;5;45mNone\u001b[0m, \u001b[38;5;34m128\u001b[0m)            │    \u001b[38;5;34m11,927,552\u001b[0m │\n",
              "├─────────────────────────────────┼────────────────────────┼───────────────┤\n",
              "│ batch_normalization_19          │ (\u001b[38;5;45mNone\u001b[0m, \u001b[38;5;34m128\u001b[0m)            │           \u001b[38;5;34m512\u001b[0m │\n",
              "│ (\u001b[38;5;33mBatchNormalization\u001b[0m)            │                        │               │\n",
              "├─────────────────────────────────┼────────────────────────┼───────────────┤\n",
              "│ activation_19 (\u001b[38;5;33mActivation\u001b[0m)      │ (\u001b[38;5;45mNone\u001b[0m, \u001b[38;5;34m128\u001b[0m)            │             \u001b[38;5;34m0\u001b[0m │\n",
              "├─────────────────────────────────┼────────────────────────┼───────────────┤\n",
              "│ dropout_4 (\u001b[38;5;33mDropout\u001b[0m)             │ (\u001b[38;5;45mNone\u001b[0m, \u001b[38;5;34m128\u001b[0m)            │             \u001b[38;5;34m0\u001b[0m │\n",
              "├─────────────────────────────────┼────────────────────────┼───────────────┤\n",
              "│ dense_9 (\u001b[38;5;33mDense\u001b[0m)                 │ (\u001b[38;5;45mNone\u001b[0m, \u001b[38;5;34m12\u001b[0m)             │         \u001b[38;5;34m1,548\u001b[0m │\n",
              "└─────────────────────────────────┴────────────────────────┴───────────────┘\n"
            ]
          },
          "metadata": {},
          "output_type": "display_data"
        },
        {
          "data": {
            "text/html": [
              "<pre style=\"white-space:pre;overflow-x:auto;line-height:normal;font-family:Menlo,'DejaVu Sans Mono',consolas,'Courier New',monospace\"><span style=\"font-weight: bold\"> Total params: </span><span style=\"color: #00af00; text-decoration-color: #00af00\">12,022,956</span> (45.86 MB)\n",
              "</pre>\n"
            ],
            "text/plain": [
              "\u001b[1m Total params: \u001b[0m\u001b[38;5;34m12,022,956\u001b[0m (45.86 MB)\n"
            ]
          },
          "metadata": {},
          "output_type": "display_data"
        },
        {
          "data": {
            "text/html": [
              "<pre style=\"white-space:pre;overflow-x:auto;line-height:normal;font-family:Menlo,'DejaVu Sans Mono',consolas,'Courier New',monospace\"><span style=\"font-weight: bold\"> Trainable params: </span><span style=\"color: #00af00; text-decoration-color: #00af00\">12,022,252</span> (45.86 MB)\n",
              "</pre>\n"
            ],
            "text/plain": [
              "\u001b[1m Trainable params: \u001b[0m\u001b[38;5;34m12,022,252\u001b[0m (45.86 MB)\n"
            ]
          },
          "metadata": {},
          "output_type": "display_data"
        },
        {
          "data": {
            "text/html": [
              "<pre style=\"white-space:pre;overflow-x:auto;line-height:normal;font-family:Menlo,'DejaVu Sans Mono',consolas,'Courier New',monospace\"><span style=\"font-weight: bold\"> Non-trainable params: </span><span style=\"color: #00af00; text-decoration-color: #00af00\">704</span> (2.75 KB)\n",
              "</pre>\n"
            ],
            "text/plain": [
              "\u001b[1m Non-trainable params: \u001b[0m\u001b[38;5;34m704\u001b[0m (2.75 KB)\n"
            ]
          },
          "metadata": {},
          "output_type": "display_data"
        }
      ],
      "source": [
        "#l2 regularisation\n",
        "ltwo_reg = 0.01\n",
        "\n",
        "# Initialize the model\n",
        "model = Sequential()\n",
        "\n",
        "#Convolution layers\n",
        "model.add(Conv2D(32, (3, 3), kernel_regularizer=l2(ltwo_reg), input_shape=(128, 431, 1), use_bias=False))\n",
        "model.add(BatchNormalization())\n",
        "model.add(Activation('relu'))\n",
        "model.add(MaxPooling2D((2, 2)))\n",
        "\n",
        "model.add(Conv2D(64, (3, 3), kernel_regularizer=l2(ltwo_reg), use_bias=False))\n",
        "model.add(BatchNormalization())\n",
        "model.add(Activation('relu'))\n",
        "model.add(MaxPooling2D((2, 2)))\n",
        "\n",
        "model.add(Conv2D(128, (3, 3), kernel_regularizer=l2(ltwo_reg), use_bias=False))\n",
        "model.add(BatchNormalization())\n",
        "model.add(Activation('relu'))\n",
        "model.add(MaxPooling2D((2, 2)))\n",
        "\n",
        "# Flatten layer\n",
        "model.add(Flatten())\n",
        "\n",
        "# Fully connected layers with L2 regularization\n",
        "model.add(Dense(128, kernel_regularizer=l2(ltwo_reg), use_bias=False))\n",
        "model.add(BatchNormalization())\n",
        "model.add(Activation('relu'))\n",
        "model.add(Dropout(0.5))\n",
        "\n",
        "# Output layer\n",
        "model.add(Dense(num_classes, activation='softmax', kernel_regularizer=l2(ltwo_reg)))\n",
        "\n",
        "# Compile the model\n",
        "model.compile(optimizer='adam', loss='categorical_crossentropy', metrics=['accuracy'])\n",
        "\n",
        "# Print the model summary\n",
        "model.summary()"
      ]
    },
    {
      "cell_type": "code",
      "execution_count": 46,
      "metadata": {},
      "outputs": [
        {
          "data": {
            "text/plain": [
              "(2245, 128, 431, 1)"
            ]
          },
          "execution_count": 46,
          "metadata": {},
          "output_type": "execute_result"
        }
      ],
      "source": [
        "data.shape"
      ]
    },
    {
      "cell_type": "code",
      "execution_count": 55,
      "metadata": {},
      "outputs": [
        {
          "name": "stdout",
          "output_type": "stream",
          "text": [
            "Epoch 1/100\n",
            "\u001b[1m64/64\u001b[0m \u001b[32m━━━━━━━━━━━━━━━━━━━━\u001b[0m\u001b[37m\u001b[0m \u001b[1m24s\u001b[0m 356ms/step - accuracy: 0.3745 - loss: 4.3018 - val_accuracy: 0.3200 - val_loss: 4.6703\n",
            "Epoch 2/100\n",
            "\u001b[1m64/64\u001b[0m \u001b[32m━━━━━━━━━━━━━━━━━━━━\u001b[0m\u001b[37m\u001b[0m \u001b[1m23s\u001b[0m 354ms/step - accuracy: 0.4675 - loss: 3.8509 - val_accuracy: 0.3200 - val_loss: 5.6353\n",
            "Epoch 3/100\n",
            "\u001b[1m64/64\u001b[0m \u001b[32m━━━━━━━━━━━━━━━━━━━━\u001b[0m\u001b[37m\u001b[0m \u001b[1m23s\u001b[0m 353ms/step - accuracy: 0.5250 - loss: 3.6661 - val_accuracy: 0.3200 - val_loss: 4.5839\n",
            "Epoch 4/100\n",
            "\u001b[1m64/64\u001b[0m \u001b[32m━━━━━━━━━━━━━━━━━━━━\u001b[0m\u001b[37m\u001b[0m \u001b[1m23s\u001b[0m 355ms/step - accuracy: 0.5359 - loss: 3.6773 - val_accuracy: 0.0356 - val_loss: 5.2734\n",
            "Epoch 5/100\n",
            "\u001b[1m64/64\u001b[0m \u001b[32m━━━━━━━━━━━━━━━━━━━━\u001b[0m\u001b[37m\u001b[0m \u001b[1m23s\u001b[0m 354ms/step - accuracy: 0.5623 - loss: 4.0599 - val_accuracy: 0.3200 - val_loss: 4.9922\n",
            "Epoch 6/100\n",
            "\u001b[1m64/64\u001b[0m \u001b[32m━━━━━━━━━━━━━━━━━━━━\u001b[0m\u001b[37m\u001b[0m \u001b[1m23s\u001b[0m 354ms/step - accuracy: 0.5982 - loss: 3.8187 - val_accuracy: 0.3067 - val_loss: 5.7756\n",
            "Epoch 7/100\n",
            "\u001b[1m64/64\u001b[0m \u001b[32m━━━━━━━━━━━━━━━━━━━━\u001b[0m\u001b[37m\u001b[0m \u001b[1m23s\u001b[0m 354ms/step - accuracy: 0.6114 - loss: 3.8849 - val_accuracy: 0.3333 - val_loss: 5.6559\n",
            "Epoch 8/100\n",
            "\u001b[1m64/64\u001b[0m \u001b[32m━━━━━━━━━━━━━━━━━━━━\u001b[0m\u001b[37m\u001b[0m \u001b[1m23s\u001b[0m 353ms/step - accuracy: 0.6347 - loss: 3.9996 - val_accuracy: 0.3200 - val_loss: 5.8309\n",
            "Epoch 9/100\n",
            "\u001b[1m64/64\u001b[0m \u001b[32m━━━━━━━━━━━━━━━━━━━━\u001b[0m\u001b[37m\u001b[0m \u001b[1m23s\u001b[0m 355ms/step - accuracy: 0.6432 - loss: 4.4582 - val_accuracy: 0.2000 - val_loss: 6.4927\n",
            "Epoch 9: early stopping\n",
            "Restoring model weights from the end of the best epoch: 3.\n"
          ]
        }
      ],
      "source": [
        "#Fitting the model and early stopping\n",
        "early_stopper = EarlyStopping(monitor='val_loss', patience=6, verbose=1, restore_best_weights=True)\n",
        "\n",
        "history = model.fit(\n",
        "    X_train,\n",
        "    y_train,\n",
        "    epochs=100,\n",
        "    batch_size=32,\n",
        "    validation_data=(X_val, y_val),\n",
        "    # class_weight=class_weight_dict,\n",
        "    callbacks=[early_stopper]\n",
        ")"
      ]
    },
    {
      "cell_type": "code",
      "execution_count": 56,
      "metadata": {},
      "outputs": [
        {
          "data": {
            "image/png": "[encoded data removed]",
            "text/plain": [
              "<Figure size 640x480 with 1 Axes>"
            ]
          },
          "metadata": {},
          "output_type": "display_data"
        },
        {
          "data": {
            "image/png": "[encoded data removed]",
            "text/plain": [
              "<Figure size 640x480 with 1 Axes>"
            ]
          },
          "metadata": {},
          "output_type": "display_data"
        }
      ],
      "source": [
        "# Plot training loss\n",
        "plt.plot(history.history['loss'], label='Training Loss')\n",
        "plt.plot(history.history['val_loss'], label='Validation Loss')\n",
        "plt.title('Training and Validation Loss')\n",
        "plt.xlabel('Epoch')\n",
        "plt.ylabel('Loss')\n",
        "plt.legend()\n",
        "plt.show()\n",
        "\n",
        "# Plot training accuracy\n",
        "plt.plot(history.history['accuracy'], label='Training Accuracy')\n",
        "plt.plot(history.history['val_accuracy'], label='Validation Accuracy')\n",
        "plt.title('Training and Validation Accuracy')\n",
        "plt.xlabel('Epoch')\n",
        "plt.ylabel('Accuracy')\n",
        "plt.legend()\n",
        "plt.show()"
      ]
    },
    {
      "cell_type": "code",
      "execution_count": 57,
      "metadata": {},
      "outputs": [
        {
          "name": "stdout",
          "output_type": "stream",
          "text": [
            "\u001b[1m2/8\u001b[0m \u001b[32m━━━━━\u001b[0m\u001b[37m━━━━━━━━━━━━━━━\u001b[0m \u001b[1m0s\u001b[0m 55ms/step"
          ]
        },
        {
          "name": "stdout",
          "output_type": "stream",
          "text": [
            "\u001b[1m8/8\u001b[0m \u001b[32m━━━━━━━━━━━━━━━━━━━━\u001b[0m\u001b[37m\u001b[0m \u001b[1m0s\u001b[0m 44ms/step\n"
          ]
        }
      ],
      "source": [
        "class_labels = ['classical', 'country', 'dance music', 'electronic', 'folk', 'hip hop', \n",
        "               'instrumental', 'jazz', 'orchestra', 'pop', 'r&b', 'rock']\n",
        "\n",
        "predictions = model.predict(X_val)\n",
        "predicted_labels = np.argmax(predictions, axis=1)  # Converting probabilities to class labels\n",
        "ground_truth = np.argmax(y_val, axis=1)  # Converting one-hot encoded ground truth to class labels\n",
        "\n",
        "# Reshape predicted_labels and ground_truth to be 1D arrays\n",
        "predicted_labels = np.reshape(predicted_labels, (-1,))\n",
        "ground_truth = np.reshape(ground_truth, (-1,))\n",
        "\n",
        "predicted_labels = [class_labels[i] for i in predicted_labels]\n",
        "ground_truth = [class_labels[i] for i in ground_truth]\n",
        "\n",
        "# Creating a table with prediction and ground truth\n",
        "comparison_table = pd.DataFrame({'Predicted': predicted_labels, 'Ground Truth': ground_truth})"
      ]
    },
    {
      "cell_type": "code",
      "execution_count": 58,
      "metadata": {},
      "outputs": [
        {
          "data": {
            "text/html": [
              "<div>\n",
              "<style scoped>\n",
              "    .dataframe tbody tr th:only-of-type {\n",
              "        vertical-align: middle;\n",
              "    }\n",
              "\n",
              "    .dataframe tbody tr th {\n",
              "        vertical-align: top;\n",
              "    }\n",
              "\n",
              "    .dataframe thead th {\n",
              "        text-align: right;\n",
              "    }\n",
              "</style>\n",
              "<table border=\"1\" class=\"dataframe\">\n",
              "  <thead>\n",
              "    <tr style=\"text-align: right;\">\n",
              "      <th></th>\n",
              "      <th>Predicted</th>\n",
              "      <th>Ground Truth</th>\n",
              "    </tr>\n",
              "  </thead>\n",
              "  <tbody>\n",
              "    <tr>\n",
              "      <th>0</th>\n",
              "      <td>hip hop</td>\n",
              "      <td>hip hop</td>\n",
              "    </tr>\n",
              "    <tr>\n",
              "      <th>1</th>\n",
              "      <td>hip hop</td>\n",
              "      <td>country</td>\n",
              "    </tr>\n",
              "    <tr>\n",
              "      <th>2</th>\n",
              "      <td>hip hop</td>\n",
              "      <td>dance music</td>\n",
              "    </tr>\n",
              "    <tr>\n",
              "      <th>3</th>\n",
              "      <td>hip hop</td>\n",
              "      <td>electronic</td>\n",
              "    </tr>\n",
              "    <tr>\n",
              "      <th>4</th>\n",
              "      <td>hip hop</td>\n",
              "      <td>rock</td>\n",
              "    </tr>\n",
              "    <tr>\n",
              "      <th>...</th>\n",
              "      <td>...</td>\n",
              "      <td>...</td>\n",
              "    </tr>\n",
              "    <tr>\n",
              "      <th>220</th>\n",
              "      <td>hip hop</td>\n",
              "      <td>hip hop</td>\n",
              "    </tr>\n",
              "    <tr>\n",
              "      <th>221</th>\n",
              "      <td>hip hop</td>\n",
              "      <td>pop</td>\n",
              "    </tr>\n",
              "    <tr>\n",
              "      <th>222</th>\n",
              "      <td>hip hop</td>\n",
              "      <td>rock</td>\n",
              "    </tr>\n",
              "    <tr>\n",
              "      <th>223</th>\n",
              "      <td>hip hop</td>\n",
              "      <td>hip hop</td>\n",
              "    </tr>\n",
              "    <tr>\n",
              "      <th>224</th>\n",
              "      <td>hip hop</td>\n",
              "      <td>pop</td>\n",
              "    </tr>\n",
              "  </tbody>\n",
              "</table>\n",
              "<p>225 rows × 2 columns</p>\n",
              "</div>"
            ],
            "text/plain": [
              "    Predicted Ground Truth\n",
              "0     hip hop      hip hop\n",
              "1     hip hop      country\n",
              "2     hip hop  dance music\n",
              "3     hip hop   electronic\n",
              "4     hip hop         rock\n",
              "..        ...          ...\n",
              "220   hip hop      hip hop\n",
              "221   hip hop          pop\n",
              "222   hip hop         rock\n",
              "223   hip hop      hip hop\n",
              "224   hip hop          pop\n",
              "\n",
              "[225 rows x 2 columns]"
            ]
          },
          "execution_count": 58,
          "metadata": {},
          "output_type": "execute_result"
        }
      ],
      "source": [
        "comparison_table"
      ]
    },
    {
      "cell_type": "code",
      "execution_count": 59,
      "metadata": {},
      "outputs": [
        {
          "data": {
            "text/plain": [
              "Ground Truth\n",
              "hip hop         72\n",
              "dance music     30\n",
              "pop             28\n",
              "classical       28\n",
              "rock            24\n",
              "electronic      14\n",
              "folk            13\n",
              "instrumental     4\n",
              "r&b              4\n",
              "country          3\n",
              "orchestra        3\n",
              "jazz             2\n",
              "Name: count, dtype: int64"
            ]
          },
          "execution_count": 59,
          "metadata": {},
          "output_type": "execute_result"
        }
      ],
      "source": [
        "comparison_table['Ground Truth'].value_counts()"
      ]
    },
    {
      "cell_type": "code",
      "execution_count": null,
      "metadata": {
        "id": "-j4Mkqae20mE"
      },
      "outputs": [],
      "source": [
        "# Save the model\n",
        "model.save('/content/drive/MyDrive/colab_data/cnn_4k_l20.002_30ep.keras')"
      ]
    },
    {
      "cell_type": "code",
      "execution_count": null,
      "metadata": {
        "id": "fKRlgmfHI3Js"
      },
      "outputs": [],
      "source": [
        "# Load the model\n",
        "loaded_model = load_model('/content/drive/MyDrive/colab_data/cnn_3k_l20.004_30ep.keras')"
      ]
    },
    {
      "cell_type": "code",
      "execution_count": 40,
      "metadata": {},
      "outputs": [
        {
          "name": "stdout",
          "output_type": "stream",
          "text": [
            "\u001b[1m8/8\u001b[0m \u001b[32m━━━━━━━━━━━━━━━━━━━━\u001b[0m\u001b[37m\u001b[0m \u001b[1m0s\u001b[0m 49ms/step - accuracy: 0.3287 - loss: 2.6297\n",
            "Validation Loss: 2.602569341659546, Validation Accuracy: 0.3539822995662689\n"
          ]
        }
      ],
      "source": [
        "# last val loss and val acc\n",
        "loss, accuracy = model.evaluate(X_val, y_val)\n",
        "print(f'Validation Loss: {loss}, Validation Accuracy: {accuracy}')"
      ]
    },
    {
      "cell_type": "code",
      "execution_count": null,
      "metadata": {},
      "outputs": [],
      "source": []
    },
    {
      "cell_type": "code",
      "execution_count": null,
      "metadata": {},
      "outputs": [],
      "source": []
    },
    {
      "cell_type": "code",
      "execution_count": null,
      "metadata": {},
      "outputs": [],
      "source": []
    },
    {
      "cell_type": "code",
      "execution_count": null,
      "metadata": {},
      "outputs": [],
      "source": []
    },
    {
      "cell_type": "code",
      "execution_count": null,
      "metadata": {},
      "outputs": [],
      "source": []
    },
    {
      "cell_type": "code",
      "execution_count": null,
      "metadata": {},
      "outputs": [],
      "source": []
    },
    {
      "cell_type": "code",
      "execution_count": null,
      "metadata": {},
      "outputs": [],
      "source": []
    },
    {
      "cell_type": "code",
      "execution_count": null,
      "metadata": {},
      "outputs": [],
      "source": []
    },
    {
      "cell_type": "code",
      "execution_count": null,
      "metadata": {
        "colab": {
          "base_uri": "https://localhost:8080/"
        },
        "id": "thR_D7ujUvtV",
        "outputId": "3c44b786-2079-4be6-b7fc-6c9d8de1d6f4"
      },
      "outputs": [],
      "source": [
        "# # Train model\n",
        "# history = model.fit(X_train, y_train, batch_size=32, epochs=10, validation_data=(X_val, y_val))\n",
        "\n",
        "# # history = model.fit(\n",
        "# #     augmented_data_gen,\n",
        "# #     steps_per_epoch=len(X_train) // batch_size,\n",
        "# #     epochs=10,  # Number of epochs to train for\n",
        "# #     validation_data=(X_val, y_val)\n",
        "# # )"
      ]
    },
    {
      "cell_type": "code",
      "execution_count": null,
      "metadata": {
        "colab": {
          "base_uri": "https://localhost:8080/"
        },
        "id": "n0eSqbAwhDTS",
        "outputId": "79105061-bf68-4eb2-9988-c100d2e85c50"
      },
      "outputs": [],
      "source": [
        "# # Train for 10 more epochs\n",
        "# history_20 = model.fit(X_train, y_train, batch_size=32, epochs=20, validation_data=(X_val, y_val), initial_epoch=10)\n",
        "\n",
        "# # history_20 = model.fit(\n",
        "# #     augmented_data_gen,\n",
        "# #     steps_per_epoch=len(X_train) // batch_size,\n",
        "# #     epochs=20,\n",
        "# #     validation_data=(X_val, y_val),\n",
        "# #     initial_epoch=10\n",
        "# # )"
      ]
    },
    {
      "cell_type": "code",
      "execution_count": null,
      "metadata": {
        "colab": {
          "base_uri": "https://localhost:8080/"
        },
        "id": "Y9CtIapt2qL1",
        "outputId": "0c6129d3-f2d5-4fe2-c728-e69b878a77cd"
      },
      "outputs": [],
      "source": [
        "# # Train for 10 more epochs\n",
        "# history_30 = model.fit(X_train, y_train, batch_size=32, epochs=30, validation_data=(X_val, y_val), initial_epoch=20)\n",
        "\n",
        "# # history_30 = model.fit(\n",
        "# #     augmented_data_gen,\n",
        "# #     steps_per_epoch=len(X_train) // batch_size,\n",
        "# #     epochs=30,\n",
        "# #     validation_data=(X_val, y_val),\n",
        "# #     initial_epoch=20\n",
        "# # )"
      ]
    },
    {
      "cell_type": "code",
      "execution_count": null,
      "metadata": {
        "colab": {
          "base_uri": "https://localhost:8080/"
        },
        "id": "kLC3tdizX9sm",
        "outputId": "0b78bbf2-8b32-4bfc-8a72-91f48317dd46"
      },
      "outputs": [],
      "source": [
        "# history_40 = model.fit(X_train, y_train, batch_size=32, epochs=40, validation_data=(X_val, y_val), initial_epoch=30)"
      ]
    },
    {
      "cell_type": "code",
      "execution_count": null,
      "metadata": {
        "colab": {
          "base_uri": "https://localhost:8080/"
        },
        "id": "npLdJc5HdtQ1",
        "outputId": "4a7ad3b5-3d95-482e-e175-e9b3d1584e60"
      },
      "outputs": [],
      "source": [
        "# history_50 = model.fit(X_train, y_train, batch_size=32, epochs=50, validation_data=(X_val, y_val), initial_epoch=40)"
      ]
    },
    {
      "cell_type": "code",
      "execution_count": null,
      "metadata": {
        "colab": {
          "base_uri": "https://localhost:8080/"
        },
        "id": "zJnnL33uZzIz",
        "outputId": "54b4908a-3897-4e20-9155-f923e1f2a3d7"
      },
      "outputs": [],
      "source": [
        "# history_60 = model.fit(X_train, y_train, batch_size=32, epochs=60, validation_data=(X_val, y_val), initial_epoch=50)"
      ]
    },
    {
      "cell_type": "code",
      "execution_count": null,
      "metadata": {
        "colab": {
          "base_uri": "https://localhost:8080/"
        },
        "id": "5hacpAreZ6q4",
        "outputId": "b7fd6c46-a650-483e-c04a-d035bd151be2"
      },
      "outputs": [],
      "source": [
        "# history_70 = model.fit(X_train, y_train, batch_size=32, epochs=70, validation_data=(X_val, y_val), initial_epoch=60)"
      ]
    },
    {
      "cell_type": "code",
      "execution_count": null,
      "metadata": {
        "colab": {
          "base_uri": "https://localhost:8080/"
        },
        "id": "OvvS19vpaPhx",
        "outputId": "2ad9862e-9a38-45d7-c230-d3399461270e"
      },
      "outputs": [],
      "source": [
        "# history_80 = model.fit(X_train, y_train, batch_size=32, epochs=80, validation_data=(X_val, y_val), initial_epoch=70)"
      ]
    },
    {
      "cell_type": "code",
      "execution_count": null,
      "metadata": {
        "colab": {
          "base_uri": "https://localhost:8080/"
        },
        "id": "09G373aMcHbw",
        "outputId": "dbcb7a5e-6e49-41fd-f18c-a8be33f31287"
      },
      "outputs": [],
      "source": [
        "# history_90 = model.fit(X_train, y_train, batch_size=32, epochs=90, validation_data=(X_val, y_val), initial_epoch=80)"
      ]
    },
    {
      "cell_type": "code",
      "execution_count": null,
      "metadata": {
        "colab": {
          "base_uri": "https://localhost:8080/"
        },
        "id": "aDGVknNScX1g",
        "outputId": "4d98e7da-ec81-468c-f040-07cb08a4a6e9"
      },
      "outputs": [],
      "source": [
        "# history_100 = model.fit(X_train, y_train, batch_size=32, epochs=100, validation_data=(X_val, y_val), initial_epoch=90)"
      ]
    },
    {
      "cell_type": "code",
      "execution_count": null,
      "metadata": {
        "id": "vTTxD_MshbJw"
      },
      "outputs": [],
      "source": [
        "# # Concatenate the old and new history\n",
        "# full_history = {}\n",
        "# for key in history.history.keys():\n",
        "#     # full_history[key] = history.history[key] + history_20.history[key] + history_30.history[key] + history_40.history[key] + history_50.history[key] + history_60.history[key] + history_70.history[key] + history_80.history[key] + history_90.history[key] + history_100.history[key]\n",
        "#     full_history[key] = history.history[key] + history_20.history[key]"
      ]
    },
    {
      "cell_type": "code",
      "execution_count": null,
      "metadata": {
        "colab": {
          "base_uri": "https://localhost:8080/",
          "height": 927
        },
        "id": "nGcI_J4kCThE",
        "outputId": "2361faf3-d743-4fca-96f1-954a02a0b0a5"
      },
      "outputs": [],
      "source": [
        "# # Plot training loss\n",
        "# plt.plot(full_history['loss'], label='Training Loss')\n",
        "# plt.plot(full_history['val_loss'], label='Validation Loss')\n",
        "# plt.title('Training and Validation Loss')\n",
        "# plt.xlabel('Epoch')\n",
        "# plt.ylabel('Loss')\n",
        "# plt.legend()\n",
        "# plt.show()\n",
        "\n",
        "# # Plot training accuracy\n",
        "# plt.plot(full_history['accuracy'], label='Training Accuracy')\n",
        "# plt.plot(full_history['val_accuracy'], label='Validation Accuracy')\n",
        "# plt.title('Training and Validation Accuracy')\n",
        "# plt.xlabel('Epoch')\n",
        "# plt.ylabel('Accuracy')\n",
        "# plt.legend()\n",
        "# plt.show()\n"
      ]
    },
    {
      "cell_type": "code",
      "execution_count": null,
      "metadata": {
        "id": "SVpRcKz3SZAb"
      },
      "outputs": [],
      "source": [
        "# #checking the no. of spectrograms and their size\n",
        "# mel_dir = '/home/mendu/Thesis/data/musiccaps/audio'\n",
        "# mel_list = os.listdir(mel_dir)\n",
        "# # mel_npy = np.load(f'{mel_dir}/{mel_list[25]}') #loading the 26th file to check the size\n",
        "# print('Count of npy files: ', len(mel_list))\n",
        "# # print('Size of image: ', mel_npy.shape)"
      ]
    },
    {
      "cell_type": "code",
      "execution_count": null,
      "metadata": {},
      "outputs": [],
      "source": [
        "# # Filter rows based on genre tags\n",
        "# filtered_df = meta_df[meta_df['aspect_list'].apply(lambda x: any(tag in x for tag in genre_tags))]\n",
        "\n",
        "# print(filtered_df)"
      ]
    },
    {
      "cell_type": "code",
      "execution_count": null,
      "metadata": {
        "colab": {
          "base_uri": "https://localhost:8080/",
          "height": 591
        },
        "id": "_MXKl7KEJiBd",
        "outputId": "67406196-8738-43d4-c2b0-8342c559baa4"
      },
      "outputs": [],
      "source": [
        "# import matplotlib.pyplot as plt\n",
        "\n",
        "# # Define the data\n",
        "# epochs = list(range(1, 31))  # Assuming 30 epochs\n",
        "# train_loss = [3.1024, 2.3673, 2.2814, 2.2056, 2.1723, 2.1417, 2.1223, 2.1314, 2.1052, 2.1025, 2.0961, 2.0911, 2.0806, 2.1007, 2.0791, 2.0792, 2.0732, 2.0681, 2.0666, 2.0602, 2.0665, 2.0690, 2.0689, 2.0640, 2.0514, 2.0593, 2.0629, 2.0557, 2.0695, 2.0646]\n",
        "# val_loss = [2.3848, 2.2317, 2.1796, 2.1162, 2.0936, 2.0726, 2.0700, 2.0816, 2.1067, 2.0504, 2.0372, 2.0261, 2.0269, 2.0264, 2.0271, 2.0361, 2.0115, 2.0132, 1.9988, 2.0171, 2.0062, 2.0093, 2.0190, 2.0003, 1.9912, 2.0077, 2.0126, 1.9861, 2.0034, 2.0032]\n",
        "# train_accuracy = [0.2343, 0.2407, 0.2444, 0.2415, 0.2464, 0.2577, 0.2556, 0.2569, 0.2593, 0.2782, 0.2621, 0.2754, 0.2625, 0.2681, 0.2839, 0.2762, 0.2730, 0.2815, 0.2806, 0.2786, 0.2774, 0.2750, 0.2810, 0.2742, 0.2843, 0.2738, 0.2742, 0.2766, 0.2815, 0.2802]\n",
        "# val_accuracy = [0.2560, 0.2609, 0.2754, 0.2593, 0.2625, 0.2609, 0.2705, 0.2802, 0.2609, 0.2271, 0.2866, 0.2754, 0.2882, 0.2818, 0.2915, 0.2866, 0.2915, 0.2995, 0.3043, 0.3060, 0.2947, 0.2995, 0.2866, 0.3027, 0.3124, 0.3043, 0.3060, 0.3140, 0.2963, 0.2995]\n",
        "\n",
        "# # Plot training & validation accuracy values\n",
        "# plt.figure(figsize=(12, 6))\n",
        "# plt.subplot(1, 2, 1)\n",
        "# plt.plot(epochs, train_accuracy, label='Training Accuracy')\n",
        "# plt.plot(epochs, val_accuracy, label='Validation Accuracy')\n",
        "# plt.title('Model Accuracy')\n",
        "# plt.xlabel('Epoch')\n",
        "# plt.ylabel('Accuracy')\n",
        "# plt.legend()\n",
        "\n",
        "# # Plot training & validation loss values\n",
        "# plt.subplot(1, 2, 2)\n",
        "# plt.plot(epochs, train_loss, label='Training Loss')\n",
        "# plt.plot(epochs, val_loss, label='Validation Loss')\n",
        "# plt.title('Model Loss')\n",
        "# plt.xlabel('Epoch')\n",
        "# plt.ylabel('Loss')\n",
        "# plt.legend()\n",
        "\n",
        "# plt.tight_layout()\n",
        "# plt.show()\n"
      ]
    },
    {
      "cell_type": "code",
      "execution_count": null,
      "metadata": {
        "colab": {
          "base_uri": "https://localhost:8080/",
          "height": 591
        },
        "id": "MzUEd7OZDNVy",
        "outputId": "cb0b9002-5f7b-4fd0-e8bf-06bab38e480d"
      },
      "outputs": [],
      "source": [
        "# # Extend the data\n",
        "# epochs.extend(list(range(31, 41)))\n",
        "# train_loss.extend([2.0558, 2.0505, 2.0560, 2.0447, 2.0454, 2.0497, 2.0410, 2.0472, 2.0453, 2.0478])\n",
        "# val_loss.extend([1.9879, 1.9850, 1.9891, 1.9840, 2.0198, 1.9872, 1.9954, 1.9865, 1.9993, 1.9872])\n",
        "# train_accuracy.extend([0.2891, 0.2823, 0.2847, 0.2653, 0.2891, 0.2750, 0.2730, 0.2851, 0.2835, 0.2871])\n",
        "# val_accuracy.extend([0.3156, 0.3060, 0.3124, 0.3060, 0.3043, 0.3011, 0.2963, 0.3092, 0.3124, 0.3060])\n",
        "\n",
        "# # Plot the data\n",
        "# import matplotlib.pyplot as plt\n",
        "\n",
        "# plt.figure(figsize=(12, 6))\n",
        "\n",
        "# # Loss plot\n",
        "# plt.subplot(1, 2, 1)\n",
        "# plt.plot(epochs, train_loss, label='Training Loss')\n",
        "# plt.plot(epochs, val_loss, label='Validation Loss')\n",
        "# plt.title('Training and Validation Loss')\n",
        "# plt.xlabel('Epochs')\n",
        "# plt.ylabel('Loss')\n",
        "# plt.legend()\n",
        "\n",
        "# # Accuracy plot\n",
        "# plt.subplot(1, 2, 2)\n",
        "# plt.plot(epochs, train_accuracy, label='Training Accuracy')\n",
        "# plt.plot(epochs, val_accuracy, label='Validation Accuracy')\n",
        "# plt.title('Training and Validation Accuracy')\n",
        "# plt.xlabel('Epochs')\n",
        "# plt.ylabel('Accuracy')\n",
        "# plt.legend()\n",
        "\n",
        "# plt.tight_layout()\n",
        "# plt.show()\n"
      ]
    },
    {
      "cell_type": "code",
      "execution_count": null,
      "metadata": {
        "id": "ggjow7E8q8uh"
      },
      "outputs": [],
      "source": [
        "#This was without l2 reg\n",
        "\n",
        "'''\n",
        "model = Sequential()\n",
        "\n",
        "# Convolutional layers\n",
        "model.add(Conv2D(32, (3, 3), activation='relu', input_shape=(96, 1406, 1)))\n",
        "model.add(MaxPooling2D((2, 2)))\n",
        "model.add(Conv2D(64, (3, 3), activation='relu'))\n",
        "model.add(MaxPooling2D((2, 2)))\n",
        "model.add(Conv2D(128, (3, 3), activation='relu'))\n",
        "model.add(MaxPooling2D((2, 2)))\n",
        "\n",
        "# Flatten layer to transition from convolutional layers to fully connected layers\n",
        "model.add(Flatten())\n",
        "\n",
        "# Fully connected layers\n",
        "model.add(Dense(256, activation='relu'))\n",
        "model.add(Dropout(0.5))  # Introducing dropout for regularization\n",
        "model.add(Dense(128, activation='relu'))\n",
        "model.add(Dropout(0.5))  # Introducing dropout for regularization\n",
        "\n",
        "# Output layer\n",
        "model.add(Dense(num_classes, activation='softmax'))\n",
        "\n",
        "# Compile the model\n",
        "model.compile(optimizer='adam', loss='categorical_crossentropy', metrics=['accuracy'])\n",
        "\n",
        "# Print model summary for an overview of the architecture\n",
        "model.summary()'''"
      ]
    },
    {
      "cell_type": "code",
      "execution_count": null,
      "metadata": {
        "id": "z1oebNXYDBHi"
      },
      "outputs": [],
      "source": [
        "'''\n",
        "import keras\n",
        "# Save the entire model to a file\n",
        "model.save('/content/drive/MyDrive/colab_data/simple_cnn_3kmel.keras')\n",
        "\n",
        "# Load the model back\n",
        "loaded_model = keras.models.load_model('/content/drive/MyDrive/colab_data/simple_cnn_3kmel.keras')'''"
      ]
    },
    {
      "cell_type": "code",
      "execution_count": null,
      "metadata": {
        "id": "8FTyK2MCEMAi"
      },
      "outputs": [],
      "source": [
        "'''\n",
        "# Plot training loss\n",
        "plt.plot(history.history['loss'], label='Training Loss')\n",
        "plt.plot(history.history['val_loss'], label='Validation Loss')\n",
        "plt.title('Training and Validation Loss')\n",
        "plt.xlabel('Epoch')\n",
        "plt.ylabel('Loss')\n",
        "plt.legend()\n",
        "plt.show()\n",
        "\n",
        "# Plot training accuracy\n",
        "plt.plot(history.history['accuracy'], label='Training Accuracy')\n",
        "plt.plot(history.history['val_accuracy'], label='Validation Accuracy')\n",
        "plt.title('Training and Validation Accuracy')\n",
        "plt.xlabel('Epoch')\n",
        "plt.ylabel('Accuracy')\n",
        "plt.legend()\n",
        "plt.show()\n",
        "'''"
      ]
    },
    {
      "cell_type": "code",
      "execution_count": null,
      "metadata": {},
      "outputs": [],
      "source": [
        "'''creates a custom data generator for data augmentation and adds gaussian noise to 20% of the training data and mixup to all'''\n",
        "\n",
        "# # Define a Mixup function\n",
        "# def mixup(X, y, alpha=0.2):\n",
        "#     if np.random.rand() < 0.2:  # Apply Mixup to 20% of the images\n",
        "#         batch_size = X.shape[0]\n",
        "#         l = np.random.beta(alpha, alpha, batch_size)\n",
        "#         X_l = l.reshape(batch_size, 1, 1, 1)\n",
        "#         y_l = l.reshape(batch_size, 1)\n",
        "\n",
        "#         X_mixup = X * X_l + X[::-1] * (1 - X_l)\n",
        "#         y_mixup = y * y_l + y[::-1] * (1 - y_l)\n",
        "#         return X_mixup, y_mixup\n",
        "#     else:\n",
        "#         return X, y\n",
        "\n",
        "# # Create an augmenter for Gaussian noise\n",
        "# gaussian_noise = iaa.AdditiveGaussianNoise(scale=0.01 * 255)\n",
        "\n",
        "# # Define the custom generator\n",
        "# def custom_generator(datagen, gaussian_noise, X_train, Y_train, batch_size):\n",
        "#     generator = datagen.flow(X_train, Y_train, batch_size=batch_size)\n",
        "#     while True:\n",
        "#         X_batch, y_batch = next(generator)\n",
        "\n",
        "#         # Decide whether to apply Gaussian noise\n",
        "#         if np.random.rand() < 0.2:  # Apply Gaussian noise to 20% of the images\n",
        "#             X_batch = gaussian_noise.augment_images(X_batch)\n",
        "\n",
        "#         # Apply Mixup\n",
        "#         X_batch, y_batch = mixup(X_batch, y_batch)\n",
        "#         yield X_batch, y_batch\n",
        "\n",
        "# # Usage example\n",
        "# batch_size = 32\n",
        "# alpha = 0.2  # Adjust Mixup's alpha value if needed\n",
        "# augmented_data_gen = custom_generator(datagen, gaussian_noise, X_train, y_train, batch_size)"
      ]
    }
  ],
  "metadata": {
    "colab": {
      "provenance": []
    },
    "kernelspec": {
      "display_name": "Python 3",
      "name": "python3"
    },
    "language_info": {
      "codemirror_mode": {
        "name": "ipython",
        "version": 3
      },
      "file_extension": ".py",
      "mimetype": "text/x-python",
      "name": "python",
      "nbconvert_exporter": "python",
      "pygments_lexer": "ipython3",
      "version": "3.11.8"
    }
  },
  "nbformat": 4,
  "nbformat_minor": 0
}
