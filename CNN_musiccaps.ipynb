{
  "cells": [
    {
      "cell_type": "markdown",
      "metadata": {
        "id": "EH_hCeLoQgGs"
      },
      "source": [
        "# CNN model for classification of audio files with genre tags"
      ]
    },
    {
      "cell_type": "markdown",
      "metadata": {},
      "source": [
        "deal with the unbalanced class labels with weighted labels"
      ]
    },
    {
      "cell_type": "code",
      "execution_count": 1,
      "metadata": {
        "id": "_twkfAbJ2DtV"
      },
      "outputs": [
        {
          "name": "stderr",
          "output_type": "stream",
          "text": [
            "2024-04-15 11:58:00.271649: I tensorflow/core/util/port.cc:113] oneDNN custom operations are on. You may see slightly different numerical results due to floating-point round-off errors from different computation orders. To turn them off, set the environment variable `TF_ENABLE_ONEDNN_OPTS=0`.\n",
            "2024-04-15 11:58:00.364703: I tensorflow/core/platform/cpu_feature_guard.cc:210] This TensorFlow binary is optimized to use available CPU instructions in performance-critical operations.\n",
            "To enable the following instructions: AVX2 AVX512F AVX512_VNNI FMA, in other operations, rebuild TensorFlow with the appropriate compiler flags.\n",
            "2024-04-15 11:58:02.528282: W tensorflow/compiler/tf2tensorrt/utils/py_utils.cc:38] TF-TRT Warning: Could not find TensorRT\n"
          ]
        }
      ],
      "source": [
        "#Importing necessary libraries\n",
        "import numpy as np\n",
        "import pandas as pd\n",
        "import cv2\n",
        "import json\n",
        "import librosa\n",
        "pd.options.mode.chained_assignment = None  # default='warn'\n",
        "import os\n",
        "import matplotlib.pyplot as plt\n",
        "from imgaug import augmenters as iaa\n",
        "from collections import Counter\n",
        "from sklearn.model_selection import train_test_split\n",
        "from tensorflow.keras.models import Sequential\n",
        "from tensorflow.keras.layers import Conv2D, MaxPooling2D, Flatten, Dense, Dropout, BatchNormalization, Activation\n",
        "from tensorflow.keras.preprocessing.image import ImageDataGenerator\n",
        "from tensorflow.keras.regularizers import l2\n",
        "from keras.models import load_model\n",
        "from keras.callbacks import EarlyStopping"
      ]
    },
    {
      "cell_type": "code",
      "execution_count": 3,
      "metadata": {
        "colab": {
          "base_uri": "https://localhost:8080/"
        },
        "id": "t4BVZblv1kAl",
        "outputId": "e89bcc6e-c313-4155-8e08-6e1d9e9734a7"
      },
      "outputs": [
        {
          "name": "stdout",
          "output_type": "stream",
          "text": [
            "Count of .mp3 files:  5431\n"
          ]
        },
        {
          "data": {
            "text/plain": [
              "['[eWGGj4duzIo]-[110-120].wav.mp3',\n",
              " '[YBbvQ0RPrG8]-[100-110].wav.mp3',\n",
              " '[9Y8NR6nDxjk]-[460-470].wav.mp3',\n",
              " '[1Ccis4FDGwY]-[20-30].wav.mp3',\n",
              " '[OM04OFjNPGw]-[150-160].wav.mp3']"
            ]
          },
          "execution_count": 3,
          "metadata": {},
          "output_type": "execute_result"
        }
      ],
      "source": [
        "#checking the no. of audio files\n",
        "audio_dir = '/home/mendu/Thesis/data/musiccaps/audio'\n",
        "audio_list = os.listdir(audio_dir)\n",
        "print('Count of .mp3 files: ', len(audio_list))\n",
        "\n",
        "#Checking how the audio files are labelled\n",
        "audio_list[:5]"
      ]
    },
    {
      "cell_type": "code",
      "execution_count": 3,
      "metadata": {
        "colab": {
          "base_uri": "https://localhost:8080/"
        },
        "id": "E8sXTuGVCDv-",
        "outputId": "bd4349ef-70c0-433b-9cf6-077d0b97bc83"
      },
      "outputs": [],
      "source": [
        "# # Specify the path to your JSON file\n",
        "# json_file_path = '/home/mendu/Thesis/data/musiccaps/dataset_train.json'\n",
        "\n",
        "# # Open and read the JSON file\n",
        "# with open(json_file_path, 'r') as json_file:\n",
        "#     data = json.load(json_file)\n",
        "\n",
        "# audio_df = pd.DataFrame(data)\n",
        "\n",
        "# # Display the DataFrame\n",
        "# print(audio_df)"
      ]
    },
    {
      "cell_type": "markdown",
      "metadata": {},
      "source": [
        "## Descriptive analysis of the MusicCaps audio files, metadata and tags"
      ]
    },
    {
      "cell_type": "markdown",
      "metadata": {},
      "source": [
        "### Checking if there are tags for all the audio files"
      ]
    },
    {
      "cell_type": "code",
      "execution_count": 4,
      "metadata": {},
      "outputs": [
        {
          "name": "stdout",
          "output_type": "stream",
          "text": [
            "['[eWGGj4duzIo]-[110-120]', '[YBbvQ0RPrG8]-[100-110]', '[9Y8NR6nDxjk]-[460-470]', '[1Ccis4FDGwY]-[20-30]', '[OM04OFjNPGw]-[150-160]', '[L5UDz2PJ9sk]-[30-40]', '[-taO6N-rxv4]-[30-40]', '[YTZK9FNgK74]-[30-40]', '[idVCpQaByc4]-[70-80]', '[MPxwPOOIskc]-[250-260]', '[aPQTrv2B1sw]-[250-260]', '[s2O2xaRfje0]-[360-370]', '[5bn7PPKcqSA]-[0-10]', '[kuj0Oi2_7yU]-[0-10]', '[rmKh9uaikTU]-[30-40]', '[aHZdDmYFZN0]-[380-390]', '[xeHt-R5ScmI]-[0-10]', '[QZoclbefgak]-[30-40]', '[9QEm6u4bowQ]-[30-40]', '[gp1DYuoQH08]-[40-50]', '[HHZGjS4g-w4]-[30-40]', '[0a91szM1Ivw]-[30-40]', '[bHNdoIWxXDk]-[200-210]', '[ZVvX2-ldhvY]-[30-40]', '[nvoGwmKh6NI]-[30-40]', '[P-eIhvCaK-s]-[90-100]', '[PaQGXIh94uc]-[150-160]', '[poxsF3-HeP0]-[30-40]', '[9-R70gSqvrc]-[30-40]', '[K55v5p5DEPE]-[0-10]', '[OiAJB9uydS8]-[100-110]', '[1W2FOzSXsxs]-[30-40]', '[Ofry7lyQZDA]-[90-100]', '[VzFpg271sm8]-[500-510]', '[qni67aUJbw4]-[160-170]', '[9jeEfi6nDak]-[30-40]', '[Akg1n9IWSrw]-[0-10]', '[b-Cr0EWwaTk]-[140-150]', '[doX8FjlNPf8]-[30-40]', '[Weu8nsJRMqE]-[30-40]', '[Brc_nOquNbY]-[30-40]', '[6iyinlZEgS4]-[40-50]', '[r4nPBNL3D0E]-[0-10]', '[6ragcEJVErI]-[30-40]', '[navn7jCBp_o]-[120-130]', '[e1PG31QlQmc]-[80-90]', '[mW0B1sipLBI]-[30-40]', '[aYoRcnmz6ZE]-[30-40]', '[MsjeOXuUYG4]-[170-180]', '[CZoPTJNmiCw]-[30-40]', '[tvcJENqxr1c]-[30-40]', '[2FQKfGCwjSE]-[30-40]', '[-U16iKiXGuY]-[30-40]', '[2cxs73i3l1M]-[120-130]', '[QZNrK337wow]-[20-30]', '[lRTeWmoeen4]-[100-110]', '[HRVVqstIabc]-[240-250]', '[Q0KwG3ynscI]-[10-20]', '[B3WaJ_3M0vw]-[30-40]', '[HrwpdRe7meM]-[10-20]', '[Ls6qMcgpdlM]-[30-40]', '[Yiau7DypQi0]-[60-70]', '[8PcfPX11Hjg]-[230-240]', '[c9JyKnsegog]-[0-10]', '[ylKvglDzBU4]-[70-80]', '[AaVUuKl8294]-[30-40]', '[cMhajmOBr0c]-[210-220]', '[b1j-hD9zs6Q]-[50-60]', '[argBwTHDDVI]-[370-380]', '[4mC6K77Y_Ho]-[50-60]', '[tW7478HnmCs]-[150-160]', '[ewI4q7_4TBQ]-[30-40]', '[YddV91xnUz4]-[310-320]', '[7lV4IvuW2lk]-[410-420]', '[5r4jLwjj_Ik]-[140-150]', '[BlsbeyimUDE]-[30-40]', '[770ZkZhGy6A]-[30-40]', '[2zrPFxxT1VM]-[30-40]', '[Z-Vb1Ay-zNA]-[400-410]', '[cnvmLwFZr28]-[80-90]', '[WJORWlj6BW8]-[30-40]', '[uqUNGNZoxrg]-[110-120]', '[P39x5dOsJ40]-[80-90]', '[ikEuQPSBY-0]-[30-40]', '[WT_wvvEvkw4]-[230-240]', '[bTuKGXDrqdQ]-[30-40]', '[GjE_iD2BbFg]-[190-200]', '[ESFANzZTdYM]-[30-40]', '[vNPx6RS8PiM]-[210-220]', '[oypg41SWGDc]-[90-100]', '[wxKtBDKasgM]-[310-320]', '[Gc8xf7CJiFY]-[240-250]', '[DRU-IFx-7yQ]-[80-90]', '[TLMEsc_42Gw]-[210-220]', '[u9n4R78UBtA]-[30-40]', '[X28GWrn9LlI]-[110-120]', '[DHo1z0_ZUNA]-[30-40]', '[y4vtzCAPv84]-[30-40]', '[TworrkXAPuI]-[180-190]', '[HvuHSr_yncE]-[70-80]', '[ggBivmG6yHQ]-[250-260]', '[8pYHLfKqHL4]-[230-240]', '[eZE0RmJESFU]-[140-150]', '[P3aeojk4lCs]-[140-150]', '[GBLKj2d0iC4]-[30-40]', '[uYCAxX2F6DA]-[30-40]', '[nAKUDXMeWeQ]-[150-160]', '[fhs7AkJsYao]-[30-40]', '[3bg0iy-ypcw]-[30-40]', '[TKSFbf-wQ8I]-[30-40]', '[eSesh6vnek8]-[230-240]', '[aJHv6TV7JpY]-[30-40]', '[GU782ddSBvk]-[390-400]', '[vukJyd8xt0I]-[90-100]', '[yeu6OEIKwws]-[30-40]', '[kjn6I3AurgE]-[30-40]', '[Lwvf17xUxhE]-[40-50]', '[9STauy5DsC8]-[30-40]', '[Q1LJotkUbUY]-[30-40]', '[hLwMYygjRfI]-[30-40]', '[cHMDIt3-TsE]-[30-40]', '[7xD_Ib3VS_w]-[30-40]', '[Hn46VuvS88Y]-[30-40]', '[W4eLgBYEEqA]-[440-450]', '[zkYXE0-JsY4]-[30-40]', '[qlqJF5yPmUc]-[60-70]', '[OnL-e9X0oEc]-[140-150]', '[jZkHpNnXLB0]-[160-170]', '[-OAyRsvFGgc]-[30-40]', '[nJ3tuDmcdTs]-[30-40]', '[T2zoWLYzEpo]-[310-320]', '[qRLRLp-KTFs]-[30-40]', '[AH6Xnyj6Ykc]-[30-40]', '[5gh5H0QqJl0]-[0-10]', '[QYxFWV85-pg]-[20-30]', '[3HtfWSbmuAc]-[30-40]', '[-Umconw-CRE]-[30-40]', '[kh6rmFg3U4k]-[480-490]', '[uCXI7dgABHI]-[30-40]', '[THhptTKMr9U]-[30-40]', '[zU4mwg-HHoQ]-[30-40]', '[7LGLhQFiE0s]-[30-40]', '[BEEknOFrVdU]-[30-40]', '[ORikRIu7s1o]-[30-40]', '[6AC84nr6ckM]-[0-10]', '[JDWPJ1AiDKc]-[30-40]', '[VB82vMSTYK0]-[30-40]', '[qmR9O2oZCWc]-[50-60]', '[vEl7ImwLlrA]-[180-190]', '[b9yT3nGcD_I]-[30-40]', '[yIOUPSGFqoY]-[10-20]', '[L_fWnna7Np0]-[80-90]', '[32iayLTRmxg]-[30-40]', '[s4PN7iTLdVM]-[50-60]', '[Ail32Z1T4QM]-[30-40]', '[J1nIXpnMe1U]-[30-40]', '[kTyI2unrdv0]-[30-40]', '[GuQFhmGqdog]-[62-72]', '[vo-o3dG8Oq0]-[30-40]', '[TWnrcjA6VTk]-[30-40]', '[4Psyk_xyBl0]-[40-50]', '[0u4gY1bBUwQ]-[250-260]', '[0ewQiU3q5jM]-[30-40]', '[mixc4NV5IBE]-[30-40]', '[8hSmQpOPXJE]-[50-60]', '[nT_R3O0OK6U]-[190-200]', '[Ns-iXXKmzzU]-[30-40]', '[BhJa0kTUdGY]-[50-60]', '[Ob9iaGon5ak]-[60-70]', '[Gj6etuzTWlQ]-[30-40]', '[3kXukXBvDQQ]-[220-230]', '[pIE-3sIPlvY]-[30-40]', '[7qaRlUc4fb0]-[30-40]', '[PRRcVdXsBQg]-[90-100]', '[-mB_XLq6g1g]-[30-40]', '[VRfi64fecj4]-[210-220]', '[JvqCsVj0I4k]-[30-40]', '[h-3DrDQC62k]-[500-510]', '[dkGXJ6BlCd4]-[30-40]', '[GxeDIuOzxmU]-[30-40]', '[oh5XmtSAOuM]-[30-40]', '[SGFYFPs3Fic]-[550-560]', '[JHkcCXF5vII]-[30-40]', '[KMQmM12G9Z4]-[110-120]', '[BEhIGoq9tow]-[160-170]', '[ZFg6KpT5ehU]-[90-100]', '[QHmGUrpOgAU]-[70-80]', '[KduU8kmRsLg]-[0-10]', '[bY_EvbARc5Y]-[30-40]', '[ySY5J3TDgag]-[30-40]', '[30tNWUyJCog]-[140-150]', '[icomsHXY8YA]-[30-40]', '[_wyELLqwF3w]-[30-40]', '[PQXYWc3JHhU]-[30-40]', '[2cxvYC9QZac]-[30-40]', '[ZOzavOPeuJQ]-[100-110]', '[FxeA9blzUD8]-[30-40]', '[A0XXmVts1y0]-[30-40]', '[XOLVI1bgxqk]-[170-180]', '[F3uf_RleI3E]-[210-220]', '[vtVfl5Ff5lw]-[30-40]', '[0OYlHvyfNk4]-[130-140]', '[2xQuWif8axE]-[30-40]', '[7V0G65FK2VQ]-[0-10]', '[gTX4SG70cEY]-[230-240]', '[-rAhS48FkYw]-[30-40]', '[Q_3GACs__Xs]-[30-40]', '[Bap5P9buB0Y]-[30-40]', '[J9ZlahUawkg]-[30-40]', '[OeNTAUKZgKs]-[400-410]', '[8MF6nFj02sM]-[80-90]', '[ZLXW4ewrVpQ]-[30-40]', '[nZ19mW-TMRk]-[200-210]', '[q-sJu8CoZts]-[50-60]', '[yl6LJDi0gi0]-[30-40]', '[I5mESbabhZY]-[30-40]', '[vsXs3GUrw64]-[100-110]', '[6Si3eGkmmy8]-[410-420]', '[PxXR74Uohfg]-[60-70]', '[dHGAXJ9RPJs]-[30-40]', '[kAAGkKPVgZ8]-[280-290]', '[9rgB0wKU1-g]-[380-390]', '[6vM7Kv42Uv0]-[20-30]', '[7Vjp9y6wvkY]-[30-40]', '[qsRPTMXFGsA]-[210-220]', '[PNT3hW4qFpQ]-[290-300]', '[_yWsqs9FOnU]-[10-20]', '[yHd5DzIbWL8]-[80-90]', '[jXi1dFAB0n8]-[0-10]', '[UWl99yJsb8M]-[30-40]', '[1rhsnmWLeGw]-[30-40]', '[6F8qv0JBWkE]-[110-120]', '[DVuWm53IlVw]-[30-40]', '[-0SdAVK79lg]-[30-40]', '[pYaegEQ_wtI]-[190-200]', '[6-CMq6xw0fg]-[30-40]', '[6-MdbipzKS0]-[30-40]', '[rVDojJcQdE0]-[40-50]', '[KfAq7kxHjPk]-[130-140]', '[fe10sxFSz_I]-[0-10]', '[VwkRHbqpHqk]-[30-40]', '[xNn2UdI-kvA]-[30-40]', '[ZahBai58_Ec]-[330-340]', '[e_W17jp40G4]-[30-40]', '[YFhbrSUb0JQ]-[10-20]', '[8HHrlxQuZKE]-[60-70]', '[xb07gLlmkL8]-[30-40]', '[xrqDoBor2dk]-[30-40]', '[Q9gWfok9Q5c]-[110-120]', '[PpJKo-JPVU0]-[60-70]', '[oPiyXhxRGe4]-[50-60]', '[OLy3C8YpMsY]-[30-40]', '[3KQy3Cajo4E]-[150-160]', '[3_M9ZMo5TiU]-[130-140]', '[6UJhTZgnVro]-[30-40]', '[LAxCq-s84F8]-[380-390]', '[B2yLFcmZ51I]-[100-110]', '[xBDcJKb-9vk]-[60-70]', '[6o6DsSnbpxE]-[60-70]', '[UoSID1KzWuI]-[30-40]', '[H6rZwBc6aNM]-[30-40]', '[j7AxC1RpjcE]-[30-40]', '[9A4VNkMdwhk]-[150-160]', '[EKZvq0dUk50]-[30-40]', '[6oqbYipROOs]-[30-40]', '[On9epzZ_ceI]-[30-40]', '[0qtbbK5HVMw]-[330-340]', '[C6m_OWe-JE4]-[40-50]', '[Ir82jewhXCo]-[0-10]', '[tEdeb9eSKDI]-[30-40]', '[RM0RELBtdfc]-[490-500]', '[3pU34vUoO9g]-[70-80]', '[TSl5LrM6LcQ]-[30-40]', '[Jvj2WqgVy78]-[30-40]', '[jP4M9V_Ka8k]-[30-40]', '[7NtM1MM76s0]-[20-30]', '[TakkuFZJsis]-[30-40]', '[x22NHqwKSNE]-[90-100]', '[DLDZrtwyY_Y]-[30-40]', '[TJyzBaMwXFY]-[150-160]', '[xN9tKWgXLI4]-[310-320]', '[8MKemM0h5mE]-[30-40]', '[_HfaIP9e0ww]-[40-50]', '[eZ8yopmYtPM]-[30-40]', '[KabP9iNokps]-[30-40]', '[ETl0hYRlVmg]-[30-40]', '[APTh9uhf7WQ]-[30-40]', '[fsTVRca31nI]-[30-40]', '[VV85n-ebuUU]-[110-120]', '[qVT6GX1KHUY]-[50-60]', '[vykrv5BaW-s]-[300-310]', '[Cwbtn_h6TP8]-[260-270]', '[A5fPSkTvjmY]-[70-80]', '[AD3aI9avJ8Q]-[30-40]', '[OEuBITrf-kE]-[210-220]', '[wQhycJsKSPE]-[340-350]', '[7_Sr2zv1sQc]-[80-90]', '[un-OXLWhvDc]-[10-20]', '[577NM64YL18]-[110-120]', '[BiqPn3d_dKM]-[150-160]', '[B5XTBvnpwqU]-[20-30]', '[Sp3T_x3SGzQ]-[30-40]', '[_KGUrOb1qgU]-[60-70]', '[-Q9MTRXS4bE]-[30-40]', '[PlQibWaPAcM]-[90-100]', '[IwobTmzjOiQ]-[220-230]', '[-pUfYFcsgG4]-[0-10]', '[nt2rvdC75uY]-[30-40]', '[rnOIXOGfSUE]-[240-250]', '[KmBaE7ozWow]-[30-40]', '[I3qbB4Kq3Y0]-[30-40]', '[TyMZJqYmrwE]-[490-500]', '[e6lTl9JIW5Y]-[40-50]', '[R5KBk76b9HE]-[110-120]', '[KPymcVenomk]-[220-230]', '[AD5Tc2TDCmM]-[30-40]', '[G6A9NKeK8ko]-[580-590]', '[PSYURntIjuc]-[30-40]', '[XKp670Yh0E0]-[0-10]', '[bSX5-VPL8rE]-[80-90]', '[0i8VM_EooCs]-[30-40]', '[j43Dwqzd8w8]-[30-40]', '[NUTaOnEhvzE]-[40-50]', '[VM-U7MyZAck]-[30-40]', '[z31iCbkqYyw]-[40-50]', '[Q8X6geEBR2o]-[30-40]', '[K0x_DxNxtbk]-[200-210]', '[Nz4iLzJBTBo]-[300-310]', '[SJ9TY-iqD9Q]-[10-20]', '[rE7S4nLrThs]-[30-40]', '[b-Y-AjW6MJ0]-[0-10]', '[_43OOP6UEw0]-[30-40]', '[BsVsoZ4ojp0]-[60-70]', '[sxgMEmp5aGE]-[20-30]', '[tQ1Nl4Dy2aI]-[30-40]', '[HAEoz3VbaP8]-[0-10]', '[BWKQXn5xDwo]-[10-20]', '[VP1cB_AVu6c]-[200-210]', '[2_Vk3tmqz-0]-[30-40]', '[L3d4ajg0bhk]-[30-40]', '[n1PTn_NH_K0]-[150-160]', '[fEFeRM5bT8o]-[140-150]', '[BXUS7pTYDzI]-[30-40]', '[BhYaXU1MVcQ]-[10-20]', '[j0UMI2DrnMA]-[130-140]', '[uBENjCPS8LI]-[140-150]', '[hHqrcLiKJRg]-[30-40]', '[1KmsVHx7E2c]-[0-10]', '[P5uIpVLEpm4]-[160-170]', '[cOsm3r-xKEE]-[490-500]', '[ApDJYsi9UGg]-[30-40]', '[a4BjqKd8FsI]-[160-170]', '[PdgswSjYhMw]-[70-80]', '[1Q9DXhXMSFI]-[30-40]', '[hKSg3zFB2dE]-[50-60]', '[qpt3umHYfmY]-[30-40]', '[MVAXHT67Na4]-[10-20]', '[T7bG4kIEw-M]-[160-170]', '[VCusyLPrFCo]-[30-40]', '[eCyMTN6Hg5k]-[140-150]', '[V5xL8hLFY58]-[30-40]', '[SwaqANBpZGY]-[30-40]', '[JrOV2Xz2djA]-[90-100]', '[ccsgja0XsWE]-[250-260]', '[KxZ0yDfyaJw]-[30-40]', '[joLyjgORwDo]-[130-140]', '[WNv-YNn1cZ8]-[10-20]', '[PFX2OO75sRQ]-[30-40]', '[H18aK9HhNSM]-[30-40]', '[OHZZuO2vY50]-[30-40]', '[2wZCoeq9Ppc]-[80-90]', '[jWQu301CEp8]-[30-40]', '[ZK3bYlekfm0]-[310-320]', '[EnewI6fNhVA]-[150-160]', '[y7PtSsbkGdM]-[30-40]', '[9uToez74x_M]-[30-40]', '[6xxu6f0f0e4]-[60-70]', '[nXfqAzdu8IY]-[30-40]', '[hm0SeoNSGkc]-[410-420]', '[5J6CjNc8Njo]-[30-40]', '[FF0VaBxb27w]-[30-40]', '[20QZS9L5WeA]-[70-80]', '[gDzi8N3BYMw]-[30-40]', '[-w4HLksto_k]-[30-40]', '[njybD3PNrlc]-[110-120]', '[HfBh3lZZi8Q]-[100-110]', '[NwfEO8cjSK0]-[30-40]', '[dql-sQqgVXI]-[10-20]', '[tsdNl72WVs4]-[60-70]', '[OdLCoLVRCmk]-[570-580]', '[Mp1MHSeHa0o]-[0-10]', '[Bx726MYz6Uo]-[30-40]', '[2RMOegT2Jn8]-[30-40]', '[L0-l1LIa22g]-[50-60]', '[qwI32Si0ipE]-[30-40]', '[L3ZtE3rD2nc]-[50-60]', '[VTagIq90b7s]-[30-40]', '[RtgHU1UMo5o]-[30-40]', '[zjsWFvUkh7M]-[30-40]', '[MrMXYO2fzJ4]-[140-150]', '[xSDkn9PtQm0]-[30-40]', '[a2Wuroc8DQU]-[30-40]', '[_2P_EJsnBls]-[80-90]', '[PAX2PMha2dU]-[80-90]', '[CSzMTqkLHyg]-[60-70]', '[W2KaBnoGxek]-[30-40]', '[MHkfPjW0aRg]-[10-20]', '[sytdnmy0sRs]-[30-40]', '[Q7oWXOByo28]-[30-40]', '[kKihNQ44dDQ]-[100-110]', '[oyAAhjGTNvQ]-[0-10]', '[rFE_bKOr1W0]-[30-40]', '[LnczSOwV9Ds]-[30-40]', '[_kPmYc1nXuQ]-[30-40]', '[6jeq5lP5Up0]-[30-40]', '[-4SYC2YgzL8]-[30-40]', '[efTVnvwI2PQ]-[240-250]', '[hbCaMcbT8to]-[30-40]', '[AVuh8-CucrE]-[30-40]', '[MVYSWTF11Nc]-[30-40]', '[73YTz8RC2Fo]-[30-40]', '[h7ty6D1LunA]-[30-40]', '[RI71ebbU0PQ]-[0-10]', '[pDgWT99uaJ0]-[110-120]', '[iSETDHfErjU]-[80-90]', '[2KkNk9Ao7G4]-[150-160]', '[0cNYPgD6cEA]-[30-40]', '[xiN6XwZNEJo]-[80-90]', '[BkOfrw3c3EE]-[30-40]', '[zCGGb7Eh_f4]-[160-170]', '[F1X7egd8Us0]-[30-40]', '[zqbHYVH6Wqo]-[30-40]', '[_MjbdUaJcik]-[190-200]', '[fgCTFyzKQtk]-[30-40]', '[KxjiEi2Eywk]-[330-340]', '[IlUcHzBzZvg]-[30-40]', '[iHXUaVWi7kE]-[160-170]', '[gkMbHlNAFig]-[30-40]', '[4VbXYuCz4M0]-[30-40]', '[sDX_95H0f9Q]-[180-190]', '[92k_81uqMSM]-[70-80]', '[cf-IIqhveKw]-[370-380]', '[HWe3TSUcvHc]-[30-40]', '[S0W_zIUYwrE]-[30-40]', '[qyCea2TuUV4]-[100-110]', '[CJjyrDGmxIY]-[270-280]', '[9GRNQKSsbvU]-[30-40]', '[hPIh5RYA-5M]-[170-180]', '[nzdlPYd8XUs]-[200-210]', '[zYM0gtd_PRo]-[30-40]', '[BiPwCMlghhQ]-[120-130]', '[VNjYW4OXqTs]-[30-40]', '[4CrPPlHN9_s]-[90-100]', '[ABr4Q_ecoPw]-[160-170]', '[oBBTqXQFTiA]-[80-90]', '[I11AcD1sGes]-[330-340]', '[u3yOMK8SuRI]-[0-10]', '[aqhhfkXKJ1o]-[10-20]', '[mvZLlJpyDyc]-[30-40]', '[4Mo7tdV2LZk]-[30-40]', '[fQiSoVDFRjo]-[30-40]', '[nvuxMnSHHtg]-[30-40]', '[YxQzJweGS2c]-[160-170]', '[5tRNPTLRZqI]-[40-50]', '[EZb1wQsg6CU]-[30-40]', '[GiTmjE7az74]-[30-40]', '[2ZrqWkdwVzo]-[30-40]', '[Vx_vqfpRdUU]-[100-110]', '[aURLQXt_6fE]-[40-50]', '[yfaxqwNHe7w]-[20-30]', '[YWf3I4jKusI]-[30-40]', '[xRfbWrI03gc]-[30-40]', '[frqnZb8Ssjo]-[90-100]', '[5xIBQGMjiX4]-[30-40]', '[EnJ8zV3vaJA]-[80-90]', '[1LA64TXatWk]-[30-40]', '[TFLt7mn57ZI]-[0-10]', '[qpN3Aqrr8mg]-[140-150]', '[Ztlcnd14Kn4]-[30-40]', '[C7WAx3n57Hk]-[30-40]', '[A8CJ4YSsUgs]-[200-210]', '[We-bFXFjWaM]-[30-40]', '[-M6K3QoHh40]-[30-40]', '[ZM0imDMXuw8]-[100-110]', '[R77XPtKgvy4]-[30-40]', '[2IpapScfsT4]-[80-90]', '[uZHE9b1WDuM]-[50-60]', '[hpiFoinUgvY]-[220-230]', '[rzVNYg3nClo]-[420-430]', '[cJ80eZY03Yg]-[200-210]', '[SBeC9TISHz8]-[30-40]', '[PbUyPbafFh0]-[30-40]', '[xqjpWi83CWM]-[20-30]', '[CYZZIkEw_jY]-[30-40]', '[9ZryMX2UtAo]-[20-30]', '[Simd4JoehW8]-[40-50]', '[Ce-Xok6SRPU]-[90-100]', '[3FJFcgaa0oE]-[10-20]', '[Tp8PG2xae8c]-[30-40]', '[nj6N7m8SeK4]-[30-40]', '[KN9vuaQvld0]-[10-20]', '[11FeId69WOk]-[30-40]', '[SOzuJU25uGc]-[30-40]', '[-cQ-jUTEgck]-[30-40]', '[PufDOSkxwzQ]-[550-560]', '[dwFtlQLdbq0]-[130-140]', '[iuNpXisjsLY]-[30-40]', '[lDnYXLGEEFQ]-[30-40]', '[DY7ko7iQCug]-[30-40]', '[mWL9_WIbykw]-[20-30]', '[476vNb6thyM]-[30-40]', '[2qO-OQtOBK0]-[30-40]', '[Vci2eZYzA-c]-[30-40]', '[eBF0zRHCbZE]-[30-40]', '[6N1LWG4aztA]-[90-100]', '[HEclHruM37s]-[210-220]', '[6QfM3BRp-78]-[10-20]', '[aUx0xMF9pwU]-[20-30]', '[PZZxVIIOQPo]-[130-140]', '[3B-YYTbpFZE]-[30-40]', '[blsYgo-B1k8]-[30-40]', '[B00nfVc4FPI]-[30-40]', '[3gh1oldZ7Zc]-[30-40]', '[guYWKdxrtIg]-[30-40]', '[HhQTvaZtURY]-[30-40]', '[t-CjLfu9zCk]-[30-40]', '[q9zAlMM-A9I]-[80-90]', '[FkpJaXzgMBQ]-[180-190]', '[ZsmxO0wnqdQ]-[30-40]', '[O9_avJFKIQk]-[30-40]', '[CRxIJ7YbcZA]-[30-40]', '[9dBWFEpcJIo]-[30-40]', '[8KUV2TFTpGo]-[410-420]', '[CrbZHPkHeV4]-[30-40]', '[f1UMPPWbCrU]-[350-360]', '[LnL3KFKGqHE]-[30-40]', '[k-89m72W0j8]-[30-40]', '[AHmcuClSTL4]-[100-110]', '[3rvqiSZB4pA]-[110-120]', '[xLQF7S41XLE]-[20-30]', '[zcc7dJIY7uc]-[0-10]', '[0m9-5BkL4Mc]-[30-40]', '[FXQxobF8FWw]-[30-40]', '[KkW6ZkmAlEw]-[300-310]', '[aWK9CcvOK9w]-[170-180]', '[JN_VJCJhC4Y]-[30-40]', '[EptdhC17avY]-[30-40]', '[BS2ZnUhmHj4]-[30-40]', '[UNJswfXKJ3s]-[30-40]', '[Kt2MwCHV3Ko]-[30-40]', '[CZWLPPO0KL4]-[170-180]', '[pVfV09CDmus]-[0-10]', '[7wSTdp1hiTA]-[30-40]', '[r6yGS_yQmj4]-[30-40]', '[1PSzSTilu_s]-[30-40]', '[Z2c1npe5AYY]-[30-40]', '[MIexFfOsuJs]-[30-40]', '[loyHHBilYPM]-[80-90]', '[svNayU6q3Dg]-[20-30]', '[Mv90uA0tmgc]-[280-290]', '[xzgnLpKkvdg]-[10-20]', '[EijTwCm-pRM]-[30-40]', '[lI8aGjIb8Jg]-[30-40]', '[POOu05eUvqE]-[30-40]', '[lmrzR9cSMRY]-[20-30]', '[gHWMKew9Xq0]-[30-40]', '[XjUmXwVlDDo]-[30-40]', '[R6lRMU-zBLA]-[30-40]', '[42xehaGoJbc]-[30-40]', '[_RrA-0lfIiU]-[30-40]', '[Occ4uW0lw0k]-[30-40]', '[ZU6sI1Plq50]-[30-40]', '[HHTgjmgTV6c]-[30-40]', '[SvsCM0fLM5g]-[30-40]', '[bJVogLOURmc]-[30-40]', '[IAeYandwJqc]-[70-80]', '[aPafZ1Mx-BE]-[40-50]', '[_8OIugVSFeE]-[100-110]', '[CdgQIiMdBa4]-[30-40]', '[oUp-acoLyvU]-[30-40]', '[VswY2mI7Wbo]-[360-370]', '[YbLR6dgY-K4]-[30-40]', '[UPPHkyd7lwE]-[230-240]', '[W_MZo88gzrA]-[50-60]', '[jZi0VVWt72E]-[80-90]', '[tWseBEYhE1M]-[30-40]', '[xCLzxuZE3yg]-[30-40]', '[-uaTK8sa5Ms]-[10-20]', '[8XBsesSEbbU]-[60-70]', '[xJYBA7VTkHA]-[70-80]', '[iMTHDuW_xKc]-[40-50]', '[BtdzVnXZ0i4]-[30-40]', '[CpHRQ-f4UtA]-[140-150]', '[QDTCAxyXt80]-[140-150]', '[fKni4PUSxu4]-[0-10]', '[AiGGDpbgp6I]-[140-150]', '[UGEqY_NTMpI]-[140-150]', '[MQrOnSzVlJg]-[30-40]', '[eW8se7t0s-U]-[30-40]', '[lYJAqOpp6RM]-[90-100]', '[nyLpME6YH20]-[190-200]', '[ELhxZhWsGM8]-[30-40]', '[aO0QzRPiEC4]-[30-40]', '[s_BKo_1LzJM]-[30-40]', '[myGef3nriL8]-[30-40]', '[M1ds6tRFxhs]-[170-180]', '[Mf6Ql55o7Es]-[30-40]', '[sgTZHSTnU40]-[410-420]', '[D-p9s8y2z_U]-[0-10]', '[fPYeqTFc3IQ]-[50-60]', '[-Dtir74TiUM]-[40-50]', '[EfUUgsioXyU]-[70-80]', '[BEwNrjvNiYs]-[30-40]', '[CuUu6L5hhMs]-[30-40]', '[TdHdD1wxu_0]-[30-40]', '[OrsfEkAhie4]-[0-10]', '[sZuhztdaFYA]-[30-40]', '[tOb0M2k3deo]-[30-40]', '[3uz_ZrGsIaA]-[30-40]', '[v3wR3aIQ23w]-[20-30]', '[QUB_vpjogmo]-[170-180]', '[OhZmxS5DUKU]-[30-40]', '[a-P0p_UtagM]-[30-40]', '[lnYOC9tKUBs]-[30-40]', '[RFNRR78dh-8]-[80-90]', '[Y6OOFbrzdP8]-[30-40]', '[LP1yZRsRllQ]-[70-80]', '[B496Qv0CuOQ]-[30-40]', '[UoGXR3V5Mro]-[30-40]', '[RD-oizm_35M]-[14-24]', '[gb8PG-5i5YI]-[510-520]', '[qbexOeoH5hg]-[40-50]', '[XZurp_Ex9No]-[30-40]', '[MocXmVbat3s]-[30-40]', '[ypg2ItQIc2c]-[190-200]', '[iBezxlI_f_c]-[30-40]', '[APUDprnfOIs]-[70-80]', '[ab8V7MYQVyg]-[190-200]', '[wMN-Xp9IMUw]-[230-240]', '[cdUk-F-5NCI]-[300-310]', '[i8bt6Mb0rUc]-[10-20]', '[08u-jdwjM74]-[300-310]', '[C-1i2GlbiIY]-[260-270]', '[rKfpCiJf9do]-[0-10]', '[B_ohqOgK6T8]-[0-10]', '[hwp7wCKIXg4]-[0-10]', '[8GKbDSu9Xd0]-[30-40]', '[P5tsRM1iokA]-[30-40]', '[RIiN9Ed1fqU]-[30-40]', '[rrWQd5SZK74]-[30-40]', '[4LZSSya3ZZQ]-[30-40]', '[ivymRS3iEZk]-[450-460]', '[6YXjJ6ABnZU]-[20-30]', '[Fsv_syCvzsc]-[0-10]', '[qLWWDHLJBBQ]-[100-110]', '[I4Rhe1XViYg]-[30-40]', '[w8c7JFU6by4]-[180-190]', '[j9UZv0GOJ_I]-[30-40]', '[5at69yM1PoU]-[210-220]', '[Wu-Oh9OJIlI]-[30-40]', '[LktT1OQrPdo]-[190-200]', '[-kpR93atgd8]-[30-40]', '[jWTm17KZGI8]-[140-150]', '[bJ6e9Ja1ahQ]-[30-40]', '[JXS5eW7g4HY]-[80-90]', '[vStedb9LiDk]-[30-40]', '[tJWduBZRJkE]-[310-320]', '[LaeRCg-NdeY]-[240-250]', '[BN6W6OQnVoE]-[30-40]', '[fpdgtpBOh-c]-[40-50]', '[WBBKiXYVEdM]-[170-180]', '[1ypKEH2kd7g]-[30-40]', '[hLn4HokDEmM]-[30-40]', '[negr4U79PUE]-[270-280]', '[rLtXML8Y5wo]-[0-10]', '[bTVl2GeNfqI]-[150-160]', '[6QHfXuVLhe0]-[170-180]', '[4yJZ4VX8XQI]-[210-220]', '[wj4ukZFNEgs]-[130-140]', '[5mLYN-F2Oek]-[30-40]', '[NZ2kFIaW05k]-[450-460]', '[YNv7mzbUUHc]-[50-60]', '[WCiS9IDILQg]-[60-70]', '[CxgVq6eovRU]-[70-80]', '[BjIksWR4oKw]-[30-40]', '[cYRsnYEPIiM]-[30-40]', '[qUWYzx7pBSw]-[40-50]', '[4q-eGdrqiIw]-[30-40]', '[hVPQu1UJ2N8]-[30-40]', '[Tt3BnoJw8ds]-[160-170]', '[4JYJRqwqWGM]-[60-70]', '[Hob0LAu8afQ]-[110-120]', '[ATDi-irUEWc]-[30-40]', '[NC5tIv4-8fg]-[130-140]', '[WE0JqjuhaQI]-[30-40]', '[6FQ1nQ0FvgQ]-[30-40]', '[1GCOnj53QYM]-[0-10]', '[R4b_-IT43P4]-[30-40]', '[C0eCERYt4bA]-[30-40]', '[ZJZxWLYzNh8]-[30-40]', '[J7jVR6y6REA]-[30-40]', '[E6JR3htwgyE]-[0-10]', '[ehJKd9HLA04]-[370-380]', '[UxlrI-9RtWg]-[210-220]', '[5C70IZwHA5g]-[20-30]', '[pp6eSGANq0Y]-[80-90]', '[sDoV3sMgDhE]-[130-140]', '[aBXntqgPo6Q]-[40-50]', '[HrxfNVYirCo]-[30-40]', '[I4Jp0kB2Ns0]-[30-40]', '[Fz-ZNyVKWro]-[30-40]', '[RPqz3vJYMLQ]-[40-50]', '[naZE-MvNpaI]-[90-100]', '[yYpfb_xV--4]-[20-30]', '[Di7Rs4QmYKI]-[150-160]', '[YEwikeeqF38]-[330-340]', '[s5kz8qg4B2Y]-[210-220]', '[g0aOPWwNMFQ]-[80-90]', '[-DeAdhYKbGE]-[290-300]', '[kMmjr8deHis]-[40-50]', '[sGVzzQLcT0U]-[150-160]', '[hjrl1KHEuqE]-[150-160]', '[YGWweVRzFrw]-[110-120]', '[_GxqvILlmAw]-[30-40]', '[2zo5z1I0CeM]-[150-160]', '[LUtBqNS27AQ]-[180-190]', '[Wh_g-Eiw9Kc]-[10-20]', '[O0sDg-yLvlE]-[30-40]', '[kUQ1xfK82Q0]-[30-40]', '[KoAGZ_dB8MM]-[60-70]', '[tGic59TlrVg]-[30-40]', '[Qf87MJcWZQI]-[60-70]', '[XFuw-m2gYOQ]-[30-40]', '[uUoEB3DBSjo]-[30-40]', '[4ls_8xIjBzM]-[150-160]', '[D3FyfFIKLVc]-[30-40]', '[kg8FwhL_fqs]-[200-210]', '[Bd9TjPP31U0]-[130-140]', '[0J_TdiZ3TKA]-[30-40]', '[ucSF9NIxK8A]-[60-70]', '[CtcmYF7mufk]-[30-40]', '[V3Vvp5HS90k]-[20-30]', '[CaCjiFUL6Fg]-[170-180]', '[W5BB6pubJZI]-[540-550]', '[WWIT13tTW7c]-[190-200]', '[BT4env-Tw2o]-[30-40]', '[nqcVA89BD6I]-[30-40]', '[kCsmvK06SCA]-[30-40]', '[Ehks1uuwR3s]-[30-40]', '[ItstzW7xuDU]-[30-40]', '[cXEJWtj2kT8]-[30-40]', '[bKS_m7JObxg]-[30-40]', '[ZH8VGGvZBok]-[50-60]', '[DU3Vlaa8rU0]-[290-300]', '[L5CgdTtGv8o]-[30-40]', '[Y_eh6C0EBP8]-[0-10]', '[0Gxn9FtaJFc]-[30-40]', '[WaddbqEQ1NE]-[30-40]', '[X9H8FzpVL8s]-[310-320]', '[0nNmbkU8GBI]-[100-110]', '[hCIB1E60Nbw]-[230-240]', '[MP7KPlqoQW0]-[30-40]', '[Yj7YyxKyXPU]-[60-70]', '[PkkhCW04O9k]-[130-140]', '[ciJOulWFhfA]-[30-40]', '[-f1DNyngKVY]-[30-40]', '[dSs4xfvATjc]-[30-40]', '[Zc4rX7nbRW4]-[190-200]', '[EPjfqS5NvCY]-[30-40]', '[ZhafwFYgltI]-[60-70]', '[bqeVxA97TQU]-[120-130]', '[EQSv7DIJJtw]-[50-60]', '[dT7uHHQEYHQ]-[150-160]', '[chfTjqlrFQQ]-[30-40]', '[uegzZWp6Y4w]-[10-20]', '[UVY68vFiApA]-[60-70]', '[10dur7jhFQM]-[30-40]', '[VkVKGyWi2r4]-[30-40]', '[71hqRT9U0wg]-[10-20]', '[lIBsL97sUmY]-[30-40]', '[DpS_TigOHWo]-[180-190]', '[aUvHaURNgY8]-[50-60]', '[R_HAtyDbw1M]-[30-40]', '[UoxHwOl2gN0]-[10-20]', '[K_G_k1WTdoc]-[30-40]', '[6dFCMXNlmzQ]-[20-30]', '[YlgCFc3OvmI]-[500-510]', '[tju-t_Bz_W8]-[30-40]', '[HflVPAOVL7U]-[2-12]', '[pCW5ab3SNcQ]-[0-10]', '[ZF8uHVu4Res]-[160-170]', '[wPmTJWybq_E]-[210-220]', '[6VJ_auuKzss]-[30-40]', '[2_mFg42LlUI]-[70-80]', '[CAbNGe1PWoY]-[130-140]', '[ZHzhdhKEjMc]-[30-40]', '[uQTCfT5XDzQ]-[40-50]', '[NWL-P08eM-U]-[30-40]', '[GBMlv6j0WJ8]-[100-110]', '[O3Cvn4yXrao]-[120-130]', '[DkZ1Or_D-g8]-[100-110]', '[OFP5MYVDa4g]-[30-40]', '[N8Fg3L1Cc5E]-[20-30]', '[qxWVr67g6yY]-[200-210]', '[wIP7AqIOU1s]-[30-40]', '[PE1ges9nn6A]-[90-100]', '[Kojo5khAAS0]-[280-290]', '[bxF2vxTzlvo]-[180-190]', '[HVsXJDR1_Lw]-[30-40]', '[9aE33JEIGOg]-[30-40]', '[vTXb8P7sAFY]-[50-60]', '[rS8oECcQBCk]-[10-20]', '[3OLeJZF4oI0]-[290-300]', '[TbA_TZn35LA]-[270-280]', '[oOiwmRV1PBk]-[0-10]', '[Pn8HqUbNQAc]-[30-40]', '[_KYo_89lgf0]-[80-90]', '[4Y5VcH7iK3Q]-[30-40]', '[9ZeoYezrI7Q]-[60-70]', '[UDS6PrY9ZIM]-[130-140]', '[3cEQfNZ_F1w]-[30-40]', '[EQHrQIaQNv8]-[30-40]', '[dlhlQKTz3Vs]-[330-340]', '[4q6e_ZDFOZI]-[30-40]', '[3u9OO9Og0Gc]-[50-60]', '[hVVrl9FkKnY]-[240-250]', '[PQrYV7hJWDg]-[30-40]', '[PduP4CpaDtY]-[0-10]', '[tDZPGf8WYmI]-[90-100]', '[4dilYyxYLmM]-[30-40]', '[3mStyfCbL68]-[30-40]', '[zUaZGKZIKic]-[60-70]', '[GMFWnMRtfNI]-[30-40]', '[lZavPVn7O4Q]-[180-190]', '[bciw4Tqp6h4]-[80-90]', '[LPA8RDzl-Ss]-[0-10]', '[xvryKn-V-JM]-[30-40]', '[SGF4N3JHF7Y]-[30-40]', '[qET3h3w35EA]-[110-120]', '[6C0HoQe4Y-Y]-[160-170]', '[LbPRGDwlfqs]-[40-50]', '[tdTT6rmkk9M]-[100-110]', '[U-UF93NA3ko]-[30-40]', '[Uxyu3XwXEV8]-[30-40]', '[0rNr_qnoPQ4]-[30-40]', '[on18CWdmxn8]-[30-40]', '[qpwjSTEaswI]-[90-100]', '[16F5fdORzSo]-[30-40]', '[RUUZzoeVrK4]-[20-30]', '[oNggxSyyyq8]-[70-80]', '[6iZ49s7eH5g]-[300-310]', '[RXGDlFry3Vo]-[30-40]', '[xyXQ7Z1vX7E]-[30-40]', '[2hgvuYGc95o]-[80-90]', '[qBe_D8Gg5lA]-[30-40]', '[bNvp4y9WSGM]-[30-40]', '[W8Xv3Q2kGRA]-[30-40]', '[FTdcanPJw6E]-[70-80]', '[Ade0UZnb6dw]-[30-40]', '[a2QxlP5DAYQ]-[180-190]', '[B1va1NqaA4o]-[30-40]', '[9hCnEfZFZ04]-[30-40]', '[dSJpZQ8u_xY]-[300-310]', '[ZTf9i8y5muo]-[120-130]', '[vp6p45b-038]-[30-40]', '[13n6n6nKMhI]-[130-140]', '[CQlh4k5pXKA]-[10-20]', '[2z1elo4ucis]-[120-130]', '[gD6UoStqCsg]-[40-50]', '[dSyue3RJllA]-[30-40]', '[FCvs17jk10A]-[30-40]', '[qFo_gRhW6dQ]-[0-10]', '[_u2cNlW5DxQ]-[160-170]', '[5jT_i7S9QSM]-[30-40]', '[I6wri5XQQbU]-[30-40]', '[SyJT8XsFsmE]-[150-160]', '[54yI3In3DrU]-[200-210]', '[rVymW4Nb4NU]-[0-10]', '[hbqdthlv6CU]-[40-50]', '[xMsgBL9Sunw]-[30-40]', '[BsnjK6DypAg]-[30-40]', '[aItOEVYnpHA]-[30-40]', '[AVJ-NxMmF6E]-[30-40]', '[SLcIv8CNk20]-[0-10]', '[DEnayQZiPGc]-[260-270]', '[t1ULMDpL35I]-[70-80]', '[0Q1JLNfm8oU]-[30-40]', '[1RwhRTe-OKk]-[30-40]', '[iQJvAXOohoU]-[0-10]', '[OyRtTtTSXuM]-[30-40]', '[BVonSUC3zIQ]-[20-30]', '[3VTinB14Pmw]-[30-40]', '[g6f-LxiT9Eo]-[30-40]', '[D3f5VIJYR7M]-[20-30]', '[XXdPZMsrBd4]-[370-380]', '[kgvx9drZXpk]-[170-180]', '[5blPLHS0Cko]-[30-40]', '[_m-N4i-ge28]-[30-40]', '[mRKud6yP4iU]-[440-450]', '[cGUhG5PZp0A]-[30-40]', '[je1amtXOKF4]-[140-150]', '[hOSzGYKaJGE]-[150-160]', '[KrmG43H1u70]-[30-40]', '[KTqf_FXZygM]-[70-80]', '[AVsNJgR_K6w]-[30-40]', '[9Rx57dlJtIA]-[80-90]', '[xyAbP5XfGz8]-[30-40]', '[ZEN8_GtW_UQ]-[30-40]', '[WjPHxUtF9go]-[30-40]', '[9BHvpWP2V9Y]-[50-60]', '[fxznho_kNPY]-[90-100]', '[V5HMIxuAtv8]-[30-40]', '[VZjE27e9X7o]-[10-20]', '[F5zDEHggiMg]-[30-40]', '[9kt7rsziUVQ]-[140-150]', '[N0q5vPAsHLI]-[30-40]', '[2ZogsGp-T4o]-[30-40]', '[jKWl63gozLE]-[50-60]', '[Inuq5W98ktA]-[350-360]', '[U-L9YCIdLbg]-[80-90]', '[LRUdmYcXFuM]-[30-40]', '[cQpK9zs_uv0]-[220-230]', '[5iPTcL50mvw]-[30-40]', '[-BIMKnb3tlo]-[410-420]', '[44sbWBFswUY]-[30-40]', '[nFkmTa4oY84]-[240-250]', '[N_LKZjw9DLk]-[60-70]', '[OyouRYAq-tE]-[380-390]', '[ltZCJ7aPtO0]-[30-40]', '[G4fTKotMoWI]-[30-40]', '[iX_a2Ct0ya8]-[200-210]', '[TkclVqlyKx4]-[40-50]', '[r0Xvr8maR34]-[0-10]', '[KSye2ifWZ_Y]-[30-40]', '[IWbe-NSK6Ic]-[30-40]', '[EY8boPZ1hPs]-[30-40]', '[Pgpd1yxLcLI]-[30-40]', '[xM4p5pmRAxM]-[30-40]', '[DX4_QlYLq30]-[30-40]', '[E2gstPe3Im4]-[20-30]', '[W2EJai-3k2w]-[130-140]', '[rDusaHYR69g]-[30-40]', '[uknhELOFYmY]-[110-120]', '[1JqNiV03kog]-[30-40]', '[9M4IT3lOU10]-[30-40]', '[92QYLjfo68Q]-[30-40]', '[aCTm1TcL7z8]-[30-40]', '[W0aT3SdtnfY]-[30-40]', '[ow7xqVk8Wjs]-[30-40]', '[nPlDt1R8Qfc]-[30-40]', '[dYVy7moyQCc]-[30-40]', '[-5xOcMJpTUk]-[70-80]', '[Xm2ciX0_UP8]-[150-160]', '[tV3rvUSlVnY]-[30-40]', '[uZesGREO0eI]-[30-40]', '[9TkW1M_ZRr0]-[30-40]', '[xKEJ6fVhb8w]-[30-40]', '[nP05Sf4Fgac]-[30-40]', '[tIRHm8VhK_4]-[30-40]', '[HLsRePLObfI]-[30-40]', '[OEIj1UX5ZRg]-[30-40]', '[RBniJk6GKK0]-[30-40]', '[SlnjJv305Vg]-[100-110]', '[qrP_H87vFpo]-[30-40]', '[QzMsoz4XIkM]-[30-40]', '[h0-6U948u7Y]-[50-60]', '[IePfzUzlDng]-[40-50]', '[ChyayWIp_vU]-[30-40]', '[KB4e9v_5uTE]-[170-180]', '[Qw468qlDaAE]-[180-190]', '[5hEt87nd7os]-[50-60]', '[0TV9zvfwFhs]-[30-40]', '[U3TpCc2zHrI]-[20-30]', '[dKJk3JavNzo]-[30-40]', '[U0sjbOT6hY4]-[30-40]', '[VeXcCHo5iMI]-[30-40]', '[VgwsGjRk61M]-[20-30]', '[gDnJoHpSL4M]-[40-50]', '[ZFimyfPWltk]-[30-40]', '[H_He9_zHk8I]-[80-90]', '[6ayVxYbKBe0]-[30-40]', '[KsFCPOKAH60]-[90-100]', '[KhXcEu7r6m8]-[30-40]', '[DE6bdmnmPtg]-[60-70]', '[Mir959i7F2M]-[30-40]', '[Du3Q6NdsSso]-[30-40]', '[sETUDPPoDuo]-[30-40]', '[r5xTmK2Fq1w]-[200-210]', '[pnh_C1w4yGc]-[250-260]', '[XzwhTltRQcM]-[30-40]', '[t9aSL2MwEDM]-[30-40]', '[C-NYmja61zE]-[30-40]', '[1j3pXUr8R4M]-[40-50]', '[KurvLmoKCog]-[80-90]', '[ozjs2d_xlSI]-[160-170]', '[2G5bSYHcJSM]-[30-40]', '[EFlGHxV5WsY]-[240-250]', '[macnXLRXbHU]-[30-40]', '[AgJH6Ul1EFg]-[130-140]', '[SijRZIQUa08]-[180-190]', '[dakJh2CdT9Q]-[20-30]', '[0AGHo8V8HpM]-[130-140]', '[8zDbEfC6Uf0]-[30-40]', '[n16ZUTfZtDM]-[0-10]', '[-XN0NtrnfMY]-[30-40]', '[qEGNzCWQdqo]-[30-40]', '[w0yHqPxybQE]-[30-40]', '[_pU2KbHMN4Q]-[30-40]', '[4sD0Bvt3FKk]-[280-290]', '[fvTh5m9RHZw]-[90-100]', '[LkzyG2F8mTM]-[80-90]', '[-CUp_Tmg2Y0]-[30-40]', '[EaGhKzpkNso]-[30-40]', '[d-KxsdWX9xE]-[20-30]', '[r_KdRKquXsM]-[170-180]', '[VV-DgnPPhSo]-[220-230]', '[Vbx6TFxSPYY]-[70-80]', '[xuxKtxzq2Cs]-[30-40]', '[UcS5U1mpbAE]-[30-40]', '[DewyiIpkzi8]-[230-240]', '[BkjpjAohg-0]-[30-40]', '[DTnCrtCro44]-[30-40]', '[ynWPvcGXFrM]-[30-40]', '[GyxH8ep_Vx8]-[30-40]', '[t3Y9Za9roJM]-[30-40]', '[vhTWW5Bx15Q]-[140-150]', '[D_QEW1Lnl2Q]-[30-40]', '[gsEk62Efbh4]-[140-150]', '[4M_k01zIbVM]-[30-40]', '[v29jCrlSCmE]-[250-260]', '[brEMnFXsTqo]-[30-40]', '[J4tjy-0CNm4]-[30-40]', '[wKE9STHwX-Q]-[30-40]', '[ak7R0_8aKwI]-[40-50]', '[AkHaDKuiE_s]-[60-70]', '[UnFEqUWTefM]-[60-70]', '[YvFY7xU2kGk]-[30-40]', '[FxpV97ILuSo]-[30-40]', '[c-8SLUH5pp4]-[30-40]', '[N6YT8_jlt0E]-[140-150]', '[3tK7PpCo0PQ]-[80-90]', '[Ny4wnDN4K1U]-[110-120]', '[6c1vNidtVTc]-[30-40]', '[IizUHzmcPGA]-[30-40]', '[_h2rFVPCSPE]-[30-40]', '[ZNGvyFsCx4g]-[30-40]', '[R60qQ3ag8y8]-[100-110]', '[vEMNk-lbGTE]-[30-40]', '[wSeT9dlfDTc]-[30-40]', '[xLZp-3_71Vs]-[30-40]', '[k-J2-Ou1Fm8]-[30-40]', '[L_KkjB0Wt_Q]-[20-30]', '[H_2ZPxy80Eo]-[30-40]', '[8zCZzzAaC4I]-[30-40]', '[sIItIq_W3eE]-[320-330]', '[6XZGmRuaOfo]-[30-40]', '[VTOf24hbq0A]-[30-40]', '[BHu95Y_kVQA]-[30-40]', '[IcPbxJRbe5g]-[30-40]', '[RZmH4hGiYBg]-[20-30]', '[lqeAf-DqE3I]-[140-150]', '[0bvPjMQ_WbE]-[30-40]', '[GFT6TeQx_0U]-[30-40]', '[tnDUwvxQU3k]-[30-40]', '[ZNGJN30LCwM]-[30-40]', '[x-ob6_6f4jQ]-[110-120]', '[WhX3jQxHZWc]-[30-40]', '[gWRfk8nCcPs]-[150-160]', '[UzDVZzIIcy8]-[370-380]', '[5xAzHL8Zlcs]-[480-490]', '[u0CgRmXMXNc]-[150-160]', '[ChqJYrmQIN4]-[50-60]', '[MpWGx5odhh8]-[160-170]', '[ztfegVzqeCI]-[30-40]', '[F9LJIyqQFe8]-[10-20]', '[_mQ6KuA2p6k]-[40-50]', '[K5ilD6nEJ-g]-[20-30]', '[7MuFNZHhrOE]-[330-340]', '[xx3nnVzGXa0]-[30-40]', '[1yWGmdevTuM]-[30-40]', '[5fPxUI0Fl-4]-[30-40]', '[xk4U8BembHM]-[470-480]', '[Wu3LKQG1fwU]-[40-50]', '[t3758pixHZY]-[340-350]', '[E_34BmDVnOI]-[180-190]', '[uoee1ikakWY]-[50-60]', '[B9K58KYq-Cs]-[320-330]', '[sYIymaJi6tc]-[90-100]', '[Pq1jBX0RW2k]-[30-40]', '[Es9FNjZ-SHI]-[30-40]', '[Bgsy5UpXx8I]-[30-40]', '[C1M5xqDQW58]-[220-230]', '[qie2k2gZ7wA]-[490-500]', '[XgXOW3lX25Y]-[110-120]', '[ECP7EJka6N8]-[590-600]', '[vtnuHbHbveg]-[90-100]', '[DV5mynb77JM]-[10-20]', '[Jcd63Ev7JXA]-[30-40]', '[rfQ94EXIpTc]-[30-40]', '[cbq6Q2htPRM]-[30-40]', '[8sSV_vqOlS4]-[250-260]', '[-FFx68qSAuY]-[190-200]', '[0wYi8B9PXDY]-[30-40]', '[0ISHZQJdeSw]-[30-40]', '[EzP7PB2x670]-[30-40]', '[J7fVdG7Zd3A]-[30-40]', '[sGM6xX5laFU]-[30-40]', '[s1QeDT7jqHQ]-[30-40]', '[X6Q53uXgaHc]-[30-40]', '[Nqb7nw58q08]-[30-40]', '[p2sXdmex3xQ]-[60-70]', '[p_-lKpxLK3g]-[30-40]', '[bOOJRGRy0zc]-[30-40]', '[4Lk8pUeLCwQ]-[60-70]', '[Rwt8j_USbWI]-[30-40]', '[ITq14s8h92I]-[400-410]', '[3m4QSVVBMss]-[60-70]', '[8r1y_Bz4VfQ]-[30-40]', '[_HXMIdSiOMA]-[30-40]', '[9ogEGxsJcSY]-[30-40]', '[k4kbpRRRgcQ]-[250-260]', '[cX926M1_LqM]-[30-40]', '[MEew7OQ17HY]-[10-20]', '[KCytKo5LzCc]-[30-40]', '[4M0njWKFsME]-[30-40]', '[ocCIB2bPq_Y]-[30-40]', '[gDm4IphrlYg]-[320-330]', '[VCrnnx9jTqs]-[50-60]', '[m0FhT3UnXjA]-[380-390]', '[ng9Dpk4qiP4]-[30-40]', '[PRzBkZSSyY0]-[0-10]', '[CretxKgW4Jk]-[30-40]', '[nbb8vmfjHJs]-[220-230]', '[pPOUg26EXiU]-[0-10]', '[XDBxMQrRaFY]-[30-40]', '[BK2laUCyaH0]-[30-40]', '[BxbB2_N5Xtk]-[30-40]', '[S7R3NMq3MKk]-[90-100]', '[yuWjB3XA8tc]-[480-490]', '[WmyHFkyiiF8]-[20-30]', '[rGgvqyHKI4Y]-[0-10]', '[hj7VJnNq6A4]-[240-250]', '[iLIBaMceZQc]-[30-40]', '[Pv8ZWvM8bhw]-[30-40]', '[oswsd_r-GI8]-[80-90]', '[74p3DLeDCHE]-[30-40]', '[odzi_VK8m3k]-[380-390]', '[TZGDukKAVS8]-[240-250]', '[lHlOSsnP48c]-[30-40]', '[NoB_4XaZYVs]-[180-190]', '[vByuZEzCZJg]-[180-190]', '[cOgNXgF21u4]-[30-40]', '[Cchf2QH63bI]-[130-140]', '[xzU6sJot-Gk]-[30-40]', '[nbIwdOQ7D8A]-[30-40]', '[nnS7TXfTHOE]-[30-40]', '[yAoMoKe7gj8]-[0-10]', '[DKflAAykh6A]-[30-40]', '[yZNgqVInQGw]-[30-40]', '[SPeGy815lFQ]-[40-50]', '[pTzINk_nVHg]-[270-280]', '[HEk4fx_XNNE]-[20-30]', '[dVUgd8ot6BE]-[130-140]', '[DLJGT99uEh4]-[30-40]', '[NmMJgUo19Gk]-[460-470]', '[WIuLaxWIAAI]-[230-240]', '[ALcCb2HJmG8]-[70-80]', '[QrKJs6lBfmM]-[10-20]', '[dzW5M4sCphI]-[90-100]', '[M-RX7LqL50A]-[90-100]', '[jtRse-cDB18]-[30-40]', '[L2-EGNKzUAQ]-[40-50]', '[Phy-_ko0zWU]-[160-170]', '[F5xnAYHuGlo]-[30-40]', '[lDGQu122JdU]-[190-200]', '[886Qu4V0km4]-[110-120]', '[NnmJ1UHWlas]-[30-40]', '[8Nrp4jUZeGE]-[270-280]', '[bBy0NCoCEHc]-[540-550]', '[9iYxf1hS4Yk]-[460-470]', '[fJ6ZeWYfLjA]-[380-390]', '[eSsadT6mh7g]-[120-130]', '[fPIG7nrpgec]-[10-20]', '[VSf3_XpiPkQ]-[210-220]', '[CqtknE729Lw]-[310-320]', '[ckOe-8qdaew]-[50-60]', '[PqTTIfja0y8]-[10-20]', '[darQBSIlol8]-[30-40]', '[dzPPmuFUicc]-[30-40]', '[AFWy1qyyMHE]-[30-40]', '[y9hdu9iMBG8]-[30-40]', '[JOhK7oq9KtU]-[30-40]', '[ac_8oRMgDz0]-[110-120]', '[1jATjKL2vAE]-[10-20]', '[YyYEzAY2e2I]-[30-40]', '[nT1YAP4Vy9s]-[90-100]', '[2xGRCsW6-Bk]-[100-110]', '[O6xMQnKJROc]-[140-150]', '[P90rFZQFqWk]-[30-40]', '[6sWVG6GyJBU]-[110-120]', '[HOkuea1wExA]-[30-40]', '[GaNjXwElAUE]-[30-40]', '[tv14XEQcY0c]-[200-210]', '[gEvCUcZ6w88]-[30-40]', '[XI-tRuDZ6HA]-[100-110]', '[hFqZZrj0rnM]-[30-40]', '[bwHPVG6vbNQ]-[20-30]', '[5XNalwqtkFg]-[30-40]', '[G-5UYGccne4]-[30-40]', '[gy6R280ZUMQ]-[30-40]', '[E16FgDFQI_w]-[30-40]', '[FMr1WHtXJbc]-[30-40]', '[-hSMzrWZCAE]-[30-40]', '[f8QGA4vN6HY]-[0-10]', '[2UY_-oF1vqo]-[30-40]', '[_x4a974Pl-A]-[150-160]', '[U8XdDv5ERu4]-[30-40]', '[9UOPRQhNzQ8]-[30-40]', '[D3ht_xXl5S0]-[100-110]', '[_cg_IfaD1C0]-[30-40]', '[kVuG_F3qCuY]-[30-40]', '[mZNNWTrvGoA]-[30-40]', '[8iPpgyEh8WM]-[30-40]', '[KpwdlYIdtfs]-[220-230]', '[QUtyeIooCy4]-[220-230]', '[3noh9LiQNrs]-[190-200]', '[bVc7-sZAi6s]-[30-40]', '[6uIOGE36tWo]-[110-120]', '[QmIhKF1BqCg]-[180-190]', '[4S4NDnNTptY]-[30-40]', '[YW4AKwkpYxs]-[10-20]', '[mjZylz3nCwQ]-[230-240]', '[nbYdiazwUQo]-[30-40]', '[NgniX3tg_Mo]-[50-60]', '[cd5BIQoHyPI]-[70-80]', '[P2UqnWU8d8o]-[30-40]', '[FHC7gN3NnX8]-[60-70]', '[M0ygCD6WyXw]-[0-10]', '[7k3OZ_fPXuM]-[30-40]', '[rWitVrXe5tg]-[40-50]', '[ca-rGWC4xPc]-[30-40]', '[D7pjR9cQChM]-[30-40]', '[pSt8NwXyDlg]-[30-40]', '[JI26wmUPcrM]-[0-10]', '[clefr8E-iZQ]-[30-40]', '[ABSLnckbB8w]-[30-40]', '[86YDiQjYU1U]-[40-50]', '[3w3fD54bNvU]-[30-40]', '[zopos1B6Elc]-[270-280]', '[xSmmTveNPSM]-[20-30]', '[BBmXMoI9Qus]-[30-40]', '[18mS4cLPOb8]-[50-60]', '[eOmQbJljnqE]-[580-590]', '[mBNdDQamtXA]-[50-60]', '[05OJDYeHLMc]-[30-40]', '[YE2rN3xknlk]-[30-40]', '[AtJ2RXQ98kY]-[30-40]', '[Wgf7UYPVoAo]-[70-80]', '[K_ZuxYxxT60]-[21-31]', '[GkB_BkyVyPs]-[30-40]', '[XWj7nP7kfdQ]-[280-290]', '[0RgGrVklaao]-[150-160]', '[98YBS2tdpdU]-[120-130]', '[gRGiTueWUVI]-[340-350]', '[nu_Bl8Pz6PE]-[50-60]', '[h8JS_FEF_fY]-[30-40]', '[Yw28B_xflHk]-[30-40]', '[xmaVWayBvaY]-[110-120]', '[mLm8upEhc_s]-[590-600]', '[JmbrGzgxrJ4]-[50-60]', '[5qVc9y3TNnY]-[30-40]', '[Sdnv8043mdk]-[70-80]', '[y_lfY0uzmr0]-[30-40]', '[s25X6KwBpxw]-[30-40]', '[SbUwQctvbHg]-[240-250]', '[tllFsEPv7Ls]-[310-320]', '[Y1gheqplpIg]-[10-20]', '[91AmOKytRUM]-[0-10]', '[IiBgER0W8iA]-[30-40]', '[UiiYMspxfhU]-[30-40]', '[FXVu-YwjhxM]-[200-210]', '[3C-5_z01Olc]-[30-40]', '[wR7n4Gg-_ac]-[150-160]', '[LLDHkHHKYkI]-[120-130]', '[I1fcUe9MoMw]-[120-130]', '[I_kUf7vgVNM]-[80-90]', '[UR3k09hOxI4]-[30-40]', '[dw4YwJppiec]-[30-40]', '[Q1pjymZOm6Q]-[140-150]', '[hUcuXIvDN2E]-[30-40]', '[_Slo8QXYOp8]-[0-10]', '[4Yc71_dU3m4]-[30-40]', '[eUZ-v8GEcNk]-[30-40]', '[fyLctn3jNUs]-[160-170]', '[WrpWb-Zumnc]-[210-220]', '[HtCkwxfAmzw]-[30-40]', '[vsDriIwNAmU]-[30-40]', '[EsssGCL-Axw]-[70-80]', '[YNoR-SR5t1s]-[30-40]', '[xKrdOZAp2w0]-[30-40]', '[Q6dVti1YVwM]-[0-10]', '[c7IL4fDqs_I]-[70-80]', '[aiJj3Z6pu9s]-[0-10]', '[CP3phqztym0]-[30-40]', '[QyMcSnNsAPw]-[30-40]', '[UY2_Q830lqo]-[30-40]', '[YtYjdkTK5oY]-[0-10]', '[RiqtelZs_2I]-[510-520]', '[P5AgEqouchI]-[10-20]', '[okAn7kjxmes]-[170-180]', '[OMApGp219Zc]-[10-20]', '[4hulNRgH6cI]-[30-40]', '[KfLxBjl-aBU]-[0-10]', '[h6Y0KDtUNHw]-[220-230]', '[rFwJ2L-geWw]-[30-40]', '[T7A0RejsZIo]-[30-40]', '[dTVkk4GSmNA]-[140-150]', '[4Ua6i_VDYU4]-[30-40]', '[OjoDuBkPDM8]-[30-40]', '[DTkKGYCRMlc]-[80-90]', '[oNqBsQiNoAU]-[40-50]', '[bLjOJRg2P_Q]-[100-110]', '[9QYo50tFm6w]-[30-40]', '[BUDb8YieUgU]-[140-150]', '[LqP4F4a-HOc]-[60-70]', '[JU4CZ-GApu4]-[30-40]', '[XjrVSk0_4vc]-[30-40]', '[Xe59DpKa-O4]-[30-40]', '[eyY6f4iQDH4]-[80-90]', '[Ysrlv2UlG8A]-[30-40]', '[V7RPmwxyhBA]-[60-70]', '[dl1ljByerd8]-[90-100]', '[9UD7qz7DuVY]-[40-50]', '[ezayBI_xOVk]-[30-40]', '[kZYBpOwNGZU]-[40-50]', '[RNwiEsjrhiQ]-[30-40]', '[n3X8RGZsGg4]-[30-40]', '[_ALGXHquYkM]-[30-40]', '[24cmo2fEQo8]-[60-70]', '[KzzKguqINa8]-[100-110]', '[W7KbboEOmeM]-[30-40]', '[udQQrQB-gr4]-[230-240]', '[nH_lVl3a3Uw]-[230-240]', '[PP3kNqPM434]-[70-80]', '[RmDfwz0OG8E]-[230-240]', '[XJXn88r9ys8]-[280-290]', '[1Ziku4FLka4]-[30-40]', '[rizanOQM61k]-[60-70]', '[oFCzd9bJo9A]-[70-80]', '[wt-f7K_suBc]-[30-40]', '[-wymN80CiYU]-[130-140]', '[GuHDy--gWiM]-[30-40]', '[yAqznhOhoIk]-[30-40]', '[Ie5FO_BetOE]-[500-510]', '[r1W1z_31Obw]-[120-130]', '[BeFjxrUwAC4]-[30-40]', '[AVG-Wmdd2yU]-[30-40]', '[2SenLjPbGzU]-[30-40]', '[0kQjfwXjFuY]-[30-40]', '[DgqPgNqW2hE]-[50-60]', '[QhF0CFyzzAc]-[30-40]', '[3tbFP_JKzXw]-[30-40]', '[2unse6chkMU]-[30-40]', '[PfpP3WjY118]-[350-360]', '[DGbMEkQerYs]-[30-40]', '[T7ZSZhcsfjA]-[9-19]', '[CBUAy9Zl6ZE]-[10-20]', '[TcJ7rdYMHiQ]-[30-40]', '[Nlg8AbWRV_c]-[30-40]', '[AVPm96vrUQw]-[30-40]', '[H-bTMbePj0A]-[30-40]', '[C-7ubPOCeJk]-[240-250]', '[07-vpXo91XM]-[70-80]', '[eiyyoUt64Zc]-[100-110]', '[WiAFUo2nxIk]-[30-40]', '[7LlnLjZOqVI]-[30-40]', '[hYy0na5oUzE]-[130-140]', '[3Xoz87_SUdw]-[430-440]', '[0NTzOtVmoiU]-[60-70]', '[FvIKye4-iGc]-[230-240]', '[2xtOqrNKH5s]-[23-33]', '[tr2iVjsu4xs]-[270-280]', '[sUjAb0SfppQ]-[430-440]', '[BWVovghBe2c]-[30-40]', '[HFH9tcIK_PM]-[170-180]', '[OPimGlHcSRQ]-[30-40]', '[OwukabRF7I4]-[30-40]', '[kvIt_9P79Ro]-[30-40]', '[hu6sChY-Yps]-[30-40]', '[8WPG0dD20lg]-[540-550]', '[TObYoD2pGb0]-[0-10]', '[EkMgPJfSL04]-[30-40]', '[H_5wh4aMQe0]-[270-280]', '[60OIHit4Q-M]-[30-40]', '[yZRTQX8pcMY]-[490-500]', '[U4UtZeTl2DE]-[30-40]', '[0vFPs6XsU_Q]-[30-40]', '[MtVLmOvQopM]-[20-30]', '[Nms2A0wi0vU]-[20-30]', '[6II4JGJDyZo]-[310-320]', '[FaD9qs2ACpI]-[30-40]', '[v4sANJkuwP4]-[30-40]', '[IYumekd1VMg]-[30-40]', '[Gh4KBdcCU64]-[160-170]', '[t-CMJ6RsZzY]-[290-300]', '[zd3lShuZNmU]-[0-10]', '[InQs7K9MqaI]-[30-40]', '[B3q2wHpzhoM]-[110-120]', '[tMMjurLqYJQ]-[0-10]', '[HyyHwIK9SSI]-[30-40]', '[DdxW_JziHTA]-[30-40]', '[QtfIj5cJzYw]-[30-40]', '[6807299U5eg]-[490-500]', '[9cojCCMSABc]-[30-40]', '[9z4YXc9rjTo]-[30-40]', '[6XHdybfV5Cw]-[30-40]', '[4Psj5jYa7a4]-[20-30]', '[I-C14nCneBs]-[0-10]', '[2SQxfaWAJJg]-[30-40]', '[BkSCfcTBMRY]-[230-240]', '[vXtk2JEP0zM]-[110-120]', '[ZSItez9gTyY]-[0-10]', '[9HQNvz4eZPU]-[190-200]', '[D8zK7PHIkgA]-[170-180]', '[noLrCDzAp5M]-[150-160]', '[1a_nvi4sW64]-[30-40]', '[zrb76mJOZQQ]-[3-13]', '[dW4eW0Xreik]-[30-40]', '[1o7iTDLNTFk]-[30-40]', '[KoP8T0QqzeM]-[30-40]', '[Pk5NZe-ah4U]-[30-40]', '[n3QsFeGadEE]-[30-40]', '[SW4cW2oU07U]-[20-30]', '[KyjeM7J-Pz4]-[170-180]', '[DCFrCX4HPO8]-[120-130]', '[C25xvcl4YAU]-[30-40]', '[5ZX1-GAb7IM]-[250-260]', '[yx7BZ_djE-U]-[120-130]', '[XwhAoMLNYWQ]-[30-40]', '[5pIdH6p3kuo]-[30-40]', '[mpikDeSk-mM]-[30-40]', '[UcNVLU-cRNg]-[340-350]', '[uYYpqx0rzok]-[30-40]', '[vKjC5HTH22o]-[160-170]', '[AJj6GGLaIfI]-[30-40]', '[W85w938G5ZM]-[30-40]', '[Vy00ycBpqpc]-[0-10]', '[rh0vBy1JD8A]-[260-270]', '[P4aTFrJws40]-[30-40]', '[6lPw0wKu7_M]-[180-190]', '[QQTWFTNy-WA]-[50-60]', '[AgVUGzrzJ20]-[320-330]', '[snYtQd1S12s]-[330-340]', '[Zmtw8tP-KFo]-[330-340]', '[YuiQRYaF9SA]-[30-40]', '[7FHzw4HV75Y]-[230-240]', '[tcOHcop3sCQ]-[30-40]', '[AsR5us-IS00]-[30-40]', '[4Vg0PQuHTk0]-[460-470]', '[AuG9i5cwGW0]-[230-240]', '[i6k1yiyO5jQ]-[30-40]', '[0SnjS2w_c80]-[520-530]', '[eZNnuRvrZDU]-[30-40]', '[qlklggFvAZs]-[30-40]', '[No4Bi6mG1J8]-[70-80]', '[D7z2Q-hH25s]-[30-40]', '[fhWzjWZqzvs]-[20-30]', '[zdtVT2xwrHU]-[30-40]', '[rUIGOcQMaSE]-[40-50]', '[5QtjEBcZR6M]-[30-40]', '[31DNFoW3NAw]-[30-40]', '[HtXtfCR-MUg]-[60-70]', '[T9fk99yqwN4]-[110-120]', '[6OVb3rjcB3Q]-[570-580]', '[940MNbCeobw]-[0-10]', '[d9r_kYpOvW8]-[30-40]', '[QIjShFhrp6w]-[113-123]', '[nUs5SJyQPnM]-[350-360]', '[YgX85tZf1ts]-[300-310]', '[cSBRb4KF5xs]-[10-20]', '[4QES-SJ7mP0]-[210-220]', '[R1RGIgC-xKw]-[30-40]', '[saEDf6EV9wg]-[50-60]', '[z9UJD6O7EAE]-[70-80]', '[fpbtmY9VfCw]-[230-240]', '[LwmwCpAVPWU]-[30-40]', '[HfzEa06vDLg]-[30-40]', '[OEjgIDubFbg]-[350-360]', '[7LlKoQAvXUc]-[30-40]', '[qwz7oLASJqg]-[10-20]', '[ONfd_rHtL74]-[30-40]', '[LCMQXFKMLIM]-[110-120]', '[WmyhSRhWh3k]-[30-40]', '[LClTjcyNJSI]-[20-30]', '[FKChZXXhufE]-[30-40]', '[n1fY-23ffl0]-[240-250]', '[p1DNl8BF49U]-[30-40]', '[tBKOvAiNOQE]-[30-40]', '[zNgRUFOj3HI]-[30-40]', '[gp7j9o2x9co]-[30-40]', '[nVsAyArtEh0]-[30-40]', '[-_6RxZyi30Q]-[70-80]', '[iVBNoH6XgW4]-[30-40]', '[Cf1zNtZEcc8]-[250-260]', '[_IP6zlayY7k]-[30-40]', '[2M-CFCo-rkY]-[30-40]', '[lPFsijo8xYs]-[520-530]', '[CXCbBSUuugs]-[190-200]', '[usrzF-0GbLY]-[30-40]', '[7RUkkhkqyUw]-[90-100]', '[nZmhIHZINL8]-[520-530]', '[qAr3mFkEvco]-[30-40]', '[xsLJe043ar4]-[150-160]', '[gCSShNsw-_A]-[20-30]', '[sm7eBFHtdeA]-[30-40]', '[8DTKCAv9ods]-[280-290]', '[sIA-IuTI7AY]-[380-390]', '[hwSOjoHFLn4]-[40-50]', '[DG5d4megH8g]-[180-190]', '[d20qTsF6ll8]-[20-30]', '[RS43EP1EXz4]-[30-40]', '[colnyHv9CAA]-[30-40]', '[1DNoynuGLV4]-[30-40]', '[FMjUGdTn7lU]-[80-90]', '[LByEH80c6Eg]-[30-40]', '[8q0An6WY7_c]-[10-20]', '[mdOZIOc8SA4]-[30-40]', '[Ycid0vBwqUg]-[160-170]', '[qCUJ-8AlecY]-[0-10]', '[-3Kv4fdm7Uk]-[30-40]', '[4AejyFDHP_k]-[30-40]', '[NSS9_2FFVeo]-[40-50]', '[SG24NL2Xi3A]-[30-40]', '[VAqPLAgn9NI]-[30-40]', '[cT-KZPVpU9M]-[310-320]', '[kOREaTKeyZw]-[30-40]', '[C4-mZ1jGQ-E]-[30-40]', '[_GQnXfIGNKY]-[150-160]', '[_1woPC5HWSg]-[30-40]', '[agK1OkzW5Yg]-[30-40]', '[G2uCAwYS6w0]-[120-130]', '[1FnT0RrfMEA]-[30-40]', '[o1E579RL33w]-[30-40]', '[AtWf5OAE8aM]-[30-40]', '[a-11dtG7aK4]-[110-120]', '[Ta0GmXPnGWk]-[150-160]', '[TbYahEEj_B4]-[110-120]', '[RoDS0k7qrIo]-[100-110]', '[4PNPgaLKFlc]-[150-160]', '[PIIAyM4H1UE]-[100-110]', '[IIK0EuHyb6w]-[130-140]', '[SKQbQXPjmvE]-[70-80]', '[LWHUat2fo9w]-[20-30]', '[-W5c6CeUMPE]-[40-50]', '[X0MN34Us6eE]-[30-40]', '[dy_yFZ6dL34]-[130-140]', '[nyjXFx0GSX8]-[150-160]', '[jQYSfy4DzIc]-[100-110]', '[0Ubu4BqSWmU]-[30-40]', '[fTGZEmn3BY4]-[30-40]', '[_yzcCFe-uo0]-[30-40]', '[oSoP9Is0UH4]-[30-40]', '[MS8VU468rKk]-[320-330]', '[ZkfKOLp5SxU]-[130-140]', '[sC7T0sEG6ek]-[230-240]', '[682ODyTqKyw]-[130-140]', '[kSKXtXXAD70]-[30-40]', '[7eZTmLV9gcY]-[30-40]', '[pSzTPGlNa5U]-[30-40]', '[c5NGOcNyF4g]-[70-80]', '[O1EmHJyz5ds]-[30-40]', '[Hij_QxDkIJI]-[30-40]', '[0PMFAO4TIU4]-[30-40]', '[eSIxvnEQ6R0]-[420-430]', '[Iz611KubW70]-[30-40]', '[fp0oCFL6w4o]-[160-170]', '[GXLeUXSVFYU]-[30-40]', '[1xhwyUVSRQk]-[170-180]', '[31iD2VPLMxQ]-[30-40]', '[2x9735gU01s]-[30-40]', '[HzXWXYxXyYA]-[50-60]', '[HH3ryAEP308]-[30-40]', '[D8-x1T8M4gk]-[30-40]', '[vpcEBryyej4]-[70-80]', '[-ByoSbgzr4M]-[0-10]', '[-o0ZtQIkM60]-[30-40]', '[hFj0KUzofNg]-[80-90]', '[rPAB0ymJGco]-[140-150]', '[KgMD2_Yhw7Y]-[10-20]', '[JOkuwbhMxbQ]-[30-40]', '[5z60cbPEEaY]-[230-240]', '[oZrMoZeJ8Ng]-[0-10]', '[wQN7fRaPl2A]-[60-70]', '[5aCDam9_Ps4]-[10-20]', '[GuYRF0no7hw]-[30-40]', '[q6GBCmLxNIk]-[30-40]', '[xtGmrLOsjHk]-[30-40]', '[tGv_L09pf6E]-[30-40]', '[gcdqffsCWI8]-[30-40]', '[Wr5sFgqxLzQ]-[30-40]', '[eBlyC9bJacs]-[40-50]', '[G_iJif-fC6E]-[80-90]', '[XjoRxeEyjz4]-[30-40]', '[_y07ENAx2_E]-[130-140]', '[YODoF8e7Jlk]-[170-180]', '[9CJu43AvIds]-[30-40]', '[AdxKsUW2mAo]-[30-40]', '[cCyfADwHiWs]-[70-80]', '[1tz4xNRRR4M]-[10-20]', '[fRpJfrfjoZo]-[30-40]', '[HS_ikHx4LIQ]-[190-200]', '[MNlzpCwdh4g]-[30-40]', '[2zpITTJiw7Q]-[30-40]', '[LybSS4amIS0]-[30-40]', '[1Rd1w7Ty1ak]-[160-170]', '[9ZinCW4jTeE]-[30-40]', '[by57LpTlGbs]-[20-30]', '[45iNSkfzOwM]-[190-200]', '[qtNTHnXOQew]-[40-50]', '[6k4lcF9IGUk]-[150-160]', '[fvpDYGzdRmo]-[120-130]', '[p2fXNAPYD20]-[60-70]', '[n179cK8EubU]-[320-330]', '[GWcTd6XrQj4]-[380-390]', '[y8oi64M0IyE]-[30-40]', '[OoyxPPoPmt0]-[50-60]', '[O0y-m0pCi5E]-[30-40]', '[FscE_AHEmFk]-[0-10]', '[oD0Xp--xxjE]-[30-40]', '[EsHXnkZ_W2c]-[40-50]', '[eVjcfdxSFKQ]-[550-560]', '[3tyb0cXoX2g]-[110-120]', '[6PquRVe1Wa4]-[310-320]', '[Fm6ss1PBC1Q]-[30-40]', '[UkTWmyy7ia8]-[30-40]', '[1nUqhH8bAPk]-[30-40]', '[o-ISARPUGlo]-[30-40]', '[lDABsoatahM]-[0-10]', '[x85BtdoxRek]-[180-190]', '[g75kz9ffcg0]-[30-40]', '[7_0g3tEcM0w]-[80-90]', '[ZOKQFjrfbpw]-[30-40]', '[9Lst8RagMYs]-[500-510]', '[ZVMIk3xYaYo]-[20-30]', '[8ntKBILZ06k]-[30-40]', '[Ac4M-EkdkDs]-[220-230]', '[UEel3wTf0Sk]-[30-40]', '[XILyHZyyCik]-[140-150]', '[J1gZRam89EE]-[100-110]', '[_miAGxDX5FM]-[160-170]', '[TIASpLtI8ks]-[20-30]', '[QNQ3sAMxZPY]-[110-120]', '[15CZ2h5VL-A]-[30-40]', '[RIe1omxr7nc]-[0-10]', '[QKkhwAAGLIE]-[30-40]', '[XzTBNfQ7_GA]-[30-40]', '[IGAzIIZRczw]-[10-20]', '[EwDiNj_5PEg]-[50-60]', '[TokHdpvX7Es]-[30-40]', '[LbQ4zHxhoSI]-[30-40]', '[1IMi7yfZVVM]-[40-50]', '[hSSzn4bIwZg]-[40-50]', '[UDN11Q90Fa4]-[30-40]', '[oczJZV87k9A]-[170-180]', '[yTc-ENutOD4]-[0-10]', '[YMq4wE6KxmQ]-[30-40]', '[0DYH0sqDXB8]-[30-40]', '[pHFHsubQVpg]-[50-60]', '[s1JHUf3Q_F0]-[30-40]', '[LKurVRvkmKc]-[30-40]', '[AUPmWhim37Y]-[30-40]', '[9WzzYYWpeyA]-[130-140]', '[iMmYVLSb1IY]-[30-40]', '[0u5-WiBKam8]-[50-60]', '[42QgE4mM55I]-[30-40]', '[mnSP_ONVS7k]-[50-60]', '[Ieef9l-gWN8]-[20-30]', '[gTO00a-LFYs]-[10-20]', '[iEcWlreXhGc]-[30-40]', '[GG6XkHATIyw]-[90-100]', '[DXeiJpZXVAI]-[30-40]', '[MyjxrBI9k4o]-[80-90]', '[hhohfEC82JI]-[30-40]', '[u0lm58cet1g]-[210-220]', '[FYux89o7Hhk]-[390-400]', '[gNjeps3EbJA]-[30-40]', '[UO9HtZMrbBE]-[30-40]', '[JPZlyvPNZj4]-[30-40]', '[YjTz5y8DnWo]-[30-40]', '[0bP2MH3LqvI]-[30-40]', '[qFrvkOOR2HQ]-[27-37]', '[1TyOPtg0Yfk]-[30-40]', '[8Bu8CkR1xZY]-[270-280]', '[c8uE3Q8p9Jo]-[50-60]', '[XaUXJG0BZuk]-[0-10]', '[ymGg5TA2YfM]-[80-90]', '[AHrUfa2H_5s]-[30-40]', '[50fuQm8B2Yg]-[110-120]', '[1h2sb2xeCt8]-[30-40]', '[V1M3HiUz0ZQ]-[70-80]', '[XvtL_TTLXHY]-[30-40]', '[gVMoI2ukbtc]-[30-40]', '[kYrJadZmjm0]-[50-60]', '[ITg9o6Gwsbo]-[30-40]', '[fDMbNCdGXBc]-[30-40]', '[fXhN3_gGpQw]-[30-40]', '[QzO6ylLrTGg]-[30-40]', '[t12O05LVSBA]-[30-40]', '[L9j9fCHHPeg]-[90-100]', '[n87PCgYm6mE]-[270-280]', '[1kYDbl5Y9Sg]-[490-500]', '[M4yst1q1nlU]-[30-40]', '[h-2KO5ufrcw]-[290-300]', '[CIoEXRnAr-Y]-[30-40]', '[KKgYvcfrxj4]-[110-120]', '[B-1QW7g81gA]-[30-40]', '[LK6zk03lPlM]-[10-20]', '[iaRDUksPv50]-[140-150]', '[x9bcsYF_by8]-[230-240]', '[HyJ2YaNrA3U]-[30-40]', '[oT6ud0OdR_E]-[30-40]', '[6pHo6fPdPvM]-[30-40]', '[wz-7sy_Rin4]-[0-10]', '[w62KGC7um_Y]-[70-80]', '[tYq21a42Mvg]-[30-40]', '[WAxDN-FyPn8]-[80-90]', '[JRmfjBDKCpE]-[100-110]', '[KrK8Giu9ZUc]-[180-190]', '[uXMMzpgrY2g]-[180-190]', '[-bgHkxwoliw]-[30-40]', '[CD3OyaDW348]-[30-40]', '[v1EDTMRmJlY]-[160-170]', '[D_usHKfOXCw]-[40-50]', '[Nuks8XFdGMk]-[30-40]', '[9InBmD_Miek]-[280-290]', '[GAoGADilmV8]-[450-460]', '[AKI0VrXEDww]-[190-200]', '[HtRjRuKnvjI]-[30-40]', '[OgqDO1wxQ8E]-[0-10]', '[J48F0e0guSQ]-[30-40]', '[tZgww16UyU8]-[30-40]', '[JCfZpSEH77Y]-[380-390]', '[MSqQKf3O3vY]-[30-40]', '[uAgizG1hYw0]-[60-70]', '[BXcEsM8ykhE]-[30-40]', '[2f7NnTVQzR0]-[150-160]', '[lSb7Y-_3to8]-[30-40]', '[8KIoQ2HZ0Hg]-[10-20]', '[9Z6Q0X60rmo]-[180-190]', '[1SO5RJLWKAs]-[30-40]', '[XWVGQbfpA0k]-[130-140]', '[ZLxhZcS3Ppw]-[30-40]', '[MwK9HYjeeN0]-[30-40]', '[XoTJkok3FlY]-[150-160]', '[w09XinexaIY]-[20-30]', '[7XQN9XDnRm4]-[80-90]', '[9gCeNCnWZhE]-[30-40]', '[dh9XweTn6rI]-[30-40]', '[3TP1itJqv-E]-[30-40]', '[sH_nDqYVq5E]-[270-280]', '[dNOHIxD0j_Q]-[160-170]', '[jqiD3VeM_hY]-[40-50]', '[7YWMPBHKdyY]-[30-40]', '[oRUdvu3Qo-E]-[30-40]', '[40kbMyL2Wgo]-[30-40]', '[xKc_9B3RiOc]-[60-70]', '[fiAcNMpd2vM]-[270-280]', '[zYsFbF9emtI]-[0-10]', '[9QwaP-cvdeU]-[360-370]', '[BscoQHJrNm8]-[170-180]', '[sl37XQfkJCQ]-[30-40]', '[IYiHhVWrh0w]-[30-40]', '[SHYGoXwgKtk]-[50-60]', '[06Brdf83RZE]-[30-40]', '[CM7jMnBXw2Y]-[20-30]', '[bg_QoesbfOA]-[70-80]', '[ncMDKMEFhnM]-[30-40]', '[F1uXNtotVsg]-[30-40]', '[K8On7nUJuP8]-[30-40]', '[GcYeBWujhjw]-[10-20]', '[6cQjwXNY4sc]-[30-40]', '[BcVapmCbULQ]-[30-40]', '[p2jnUySmuvA]-[220-230]', '[FAhfuP_xh5Y]-[450-460]', '[vmz9kAEiTSc]-[30-40]', '[q7U8p-m8J3s]-[30-40]', '[qfwTbBprDVU]-[60-70]', '[DPW5M1FYxu4]-[490-500]', '[KqtlecvEOGw]-[0-10]', '[qlWEAm4AUTU]-[370-380]', '[e4R2O7XpIXU]-[0-10]', '[WtN6uiDikRM]-[10-20]', '[MlnK2sa7mm4]-[70-80]', '[6Tf5IwOHBlw]-[370-380]', '[lnJdWXRgjKo]-[30-40]', '[MkPhe7TLLZ0]-[110-120]', '[JLYb7DwCaQU]-[0-10]', '[5NCUtndrsHg]-[30-40]', '[JKihzveDE5g]-[500-510]', '[Q-ATDBgDbLE]-[140-150]', '[0oIFGARD9xE]-[410-420]', '[BQ_KrefFiTw]-[30-40]', '[ALVS3Q_jNaU]-[30-40]', '[QVpsAY9oR_4]-[190-200]', '[erHadqauC8A]-[30-40]', '[38R9Vnwt890]-[30-40]', '[RQMUz0NFx6o]-[420-430]', '[YSXrSxC68VM]-[30-40]', '[cm62raVagEE]-[60-70]', '[qp4Ubx7WOAQ]-[0-10]', '[JUrYWttZJBM]-[30-40]', '[tyAXjOihm6g]-[240-250]', '[pR87Ts3a0e8]-[20-30]', '[as7MhTe961k]-[170-180]', '[NqDxpJ2uR_8]-[0-10]', '[2aPVOidHLXI]-[190-200]', '[ye6O_T8YuHQ]-[30-40]', '[yj4xorgrbV4]-[30-40]', '[KjJj5-HvSvQ]-[20-30]', '[Vbcy6KBJsAA]-[20-30]', '[i_NNY_mgxIs]-[40-50]', '[9oiSwXk8Nsk]-[590-600]', '[PemDZNVE370]-[390-400]', '[KEp2NhraIZI]-[30-40]', '[uJPW9BEhU6Y]-[20-30]', '[7RtQpW2dSU4]-[10-20]', '[75UH33tO0Bo]-[30-40]', '[BTMWpYzpu5g]-[60-70]', '[0BFauf6TGGU]-[0-10]', '[KLFoZA8btu4]-[90-100]', '[jx27p7k2lSw]-[110-120]', '[Js_3Aa214xY]-[30-40]', '[gX9OuOKLLTQ]-[70-80]', '[zOvFaef41iw]-[30-40]', '[ktTrTDQidsE]-[30-40]', '[yrme-KRBvzk]-[50-60]', '[laVgKAcv8XA]-[30-40]', '[gffng5G4X4w]-[270-280]', '[t6XtW3SHQNE]-[380-390]', '[u68Ghaf_Phs]-[10-20]', '[RcfaWoTywcA]-[30-40]', '[ZkGQhIbEDrs]-[30-40]', '[5D4siJjh1j0]-[30-40]', '[cLIump75aC0]-[30-40]', '[pzpg2-jYu6k]-[50-60]', '[BjqhHeJD28U]-[30-40]', '[gxAyZk01T3k]-[10-20]', '[rGEJVUcFA2U]-[30-40]', '[LfvdxSBCtFE]-[30-40]', '[-6pcgdLfb_A]-[110-120]', '[bt7rDryN7G4]-[30-40]', '[2o1p83UjJFA]-[30-40]', '[8zcogfmAD_o]-[180-190]', '[DueNcVFHI0k]-[20-30]', '[ID4AoAfHMVk]-[30-40]', '[Tfc6184uCIk]-[50-60]', '[YyHmz1vcob8]-[0-10]', '[vWM2qG-nU-Y]-[30-40]', '[CRIFRYhiKUA]-[30-40]', '[VfARCp38XtA]-[70-80]', '[uT-S_JC_GzU]-[30-40]', '[B3lq6U4PDZo]-[30-40]', '[hRQJgZVxRX0]-[30-40]', '[XtpfZx12hDM]-[30-40]', '[eAFKjP7o1as]-[30-40]', '[teyDfFbVMSY]-[30-40]', '[Ou2rEaq28PM]-[350-360]', '[04NjXsLyCl4]-[30-40]', '[pYXx0xXZiXk]-[14-24]', '[nYO8n62Piys]-[70-80]', '[hrOP9swUpyA]-[30-40]', '[CxTFgimfNfA]-[30-40]', '[rKRI5UcIICI]-[30-40]', '[1j4rFfU5XKQ]-[30-40]', '[GNjsxLdSwHI]-[30-40]', '[lYtoy8sa-Q0]-[30-40]', '[jD0nqkyuHPg]-[30-40]', '[ow12iGt8z5Q]-[0-10]', '[tPJMr890HeE]-[30-40]', '[g0WLA0BKxOc]-[240-250]', '[72_Hk1cdoxk]-[70-80]', '[2dyEnOo3yJ8]-[330-340]', '[dqQgzsNpwoQ]-[30-40]', '[FE2kALvHjEU]-[30-40]', '[pyumNmhV4_s]-[30-40]', '[LzSWdj4izHM]-[20-30]', '[RXk0lQJ7ttc]-[30-40]', '[g-ghr5fAVpE]-[30-40]', '[-O9mnfC61Ac]-[0-10]', '[XJ3VlCAIWQ0]-[30-40]', '[01hjVJN9xCg]-[30-40]', '[5hyRWertUbI]-[250-260]', '[F8wGRd9332s]-[30-40]', '[8oUI02eK3SM]-[30-40]', '[dMAp3dvs3kE]-[170-180]', '[ftKCLRd9_no]-[80-90]', '[TPYNIc_M1ng]-[30-40]', '[21MgIcLN8Ow]-[30-40]', '[w2vMywh5Nto]-[10-20]', '[EJMUwh1vY2s]-[30-40]', '[pZgzjL5wbtA]-[30-40]', '[BjAL68IMlp0]-[30-40]', '[p7VmMa6cpSo]-[100-110]', '[FGoDfNZezh0]-[210-220]', '[ZV_ZbmjPpkw]-[30-40]', '[XscK8V4Veac]-[60-70]', '[6CaZAITdAsk]-[300-310]', '[vpU4XIISXtM]-[30-40]', '[OKZF0oG1E14]-[30-40]', '[Qz2PIXM60iE]-[30-40]', '[weJKl-6TiDQ]-[30-40]', '[zw5dkiklbhE]-[15-25]', '[Uo-Okq1D8Xo]-[30-40]', '[TnJE6W6Z6mM]-[30-40]', '[9ZAmdxKLnhs]-[50-60]', '[OI7S7vaBT4I]-[60-70]', '[l3YrliBpOdM]-[400-410]', '[I_a9OhfTcIc]-[10-20]', '[3dzR3ZWOe8Y]-[410-420]', '[r2gYE6-cGx8]-[30-40]', '[yOJtRE-617I]-[140-150]', '[iEQwupwwp0s]-[30-40]', '[OECgm1obaFs]-[30-40]', '[W_979HkE4EI]-[30-40]', '[IiJciyiQBDw]-[10-20]', '[UtCRBs5p4EQ]-[30-40]', '[qVuxCN3JpiM]-[30-40]', '[LTDle_h2YD8]-[0-10]', '[XXBVsNt2Qr8]-[30-40]', '[zRixZ7mWwho]-[70-80]', '[mMT1kEejAG8]-[20-30]', '[oqMlq2zWr0c]-[30-40]', '[LEG7xkYOsWA]-[20-30]', '[_fKntnlIYTQ]-[30-40]', '[d6nURbq86zM]-[30-40]', '[0hw_BB4QN34]-[220-230]', '[MVBQrBAXgw4]-[370-380]', '[D0L-M4trkpw]-[210-220]', '[iCHskFoUvbw]-[130-140]', '[W7i4LkdSfjw]-[520-530]', '[14hTDUjCr_g]-[30-40]', '[3JYQgXudiH8]-[240-250]', '[hRbukCd6N68]-[40-50]', '[Uvn7waPvseo]-[30-40]', '[uHgpDP_4Lsc]-[30-40]', '[ui6ERk-AySw]-[390-400]', '[qxOPhByaK_M]-[30-40]', '[hzr2aY33EuI]-[30-40]', '[EHm7vLZewS0]-[50-60]', '[_3OlK_1yQOk]-[30-40]', '[Nt0U-CXK6O0]-[50-60]', '[bztxC9EFfCk]-[20-30]', '[jhQpTVVUQ9E]-[240-250]', '[Hrgl_1rGGU4]-[30-40]', '[MipnqUXgpOA]-[240-250]', '[TabaOeYq2ek]-[70-80]', '[emP2Sg9QEg4]-[90-100]', '[PyVuHAskeUg]-[10-20]', '[z2kTJ6pQ4Uo]-[110-120]', '[m-NM_tIWjxs]-[30-40]', '[j8z9a9A8LV4]-[230-240]', '[qXgSlhWbWLU]-[30-40]', '[yfZ0z1C3blk]-[30-40]', '[UBfHLeCBBsA]-[30-40]', '[IwdjPDw6o5I]-[30-40]', '[ROA6DMBPlNM]-[80-90]', '[-88me9bBzrk]-[30-40]', '[LjihfG0fit0]-[30-40]', '[fEHsR679g1M]-[30-40]', '[XfdySM4X9Xo]-[30-40]', '[EayN_Jj0740]-[90-100]', '[vfscNjNneZg]-[0-10]', '[qKOsbyT8GCU]-[10-20]', '[36ToDxW_hns]-[90-100]', '[ua0hgl8fi0I]-[260-270]', '[O25IKwo2HkE]-[30-40]', '[qOSdHmfwLF4]-[40-50]', '[t637ILYjH_A]-[280-290]', '[p_dE26TA8ig]-[30-40]', '[ax8hXst_b5g]-[100-110]', '[tGUWSgewh0A]-[270-280]', '[cmJj7SxQEp8]-[0-10]', '[J4DrdTy52kg]-[50-60]', '[3dUo62RsD00]-[30-40]', '[HyXMWRU9Owc]-[130-140]', '[ROM--1yVra8]-[180-190]', '[nW6Naj6eeI4]-[30-40]', '[lOIzOWKd47E]-[30-40]', '[AobHGHJSd-s]-[190-200]', '[FtskdD6Py7Y]-[30-40]', '[ogOTksL2Vas]-[420-430]', '[EoZH1gyRlr4]-[30-40]', '[BDH7Fx1APR8]-[40-50]', '[sVF7NNvdoJc]-[120-130]', '[AJeRSlZuZbk]-[30-40]', '[1RhYdQnZ_hw]-[30-40]', '[JtLNRHVGQuw]-[30-40]', '[kkjNpwNcMWI]-[190-200]', '[fWypK9RHJJI]-[30-40]', '[SkZ7mGbs3SI]-[30-40]', '[AgCSBCsHkMk]-[60-70]', '[cTJqIkSuf6s]-[30-40]', '[RPuCtUVfntk]-[30-40]', '[ViF7A7XODiw]-[30-40]', '[BI8YQ3ueD24]-[30-40]', '[7pdrGzdWMzI]-[50-60]', '[W5t-T1vP2DU]-[30-40]', '[US3ZL2zhXgI]-[180-190]', '[dsVzafZik3c]-[90-100]', '[-0vPFx-wRRI]-[30-40]', '[4kZ0EZg5JRU]-[10-20]', '[XykUpCigu4w]-[30-40]', '[7k3M0pQvzhY]-[200-210]', '[8hT2G2ew6-c]-[30-40]', '[4TXy2i036LU]-[30-40]', '[WkkhcwXpYy4]-[30-40]', '[Cd7JefC6-Zw]-[230-240]', '[CphwhKgYHaM]-[70-80]', '[W00eTCOgUNs]-[60-70]', '[cGorUmWMrwo]-[30-40]', '[KDzy3ZL626U]-[11-21]', '[BsLFQV8HVZE]-[30-40]', '[JxwRvkjNJQ0]-[150-160]', '[ZQwpXl8qnnk]-[30-40]', '[40xkia7fwEM]-[30-40]', '[mtapmFDmImA]-[70-80]', '[6OcoDIrbMtY]-[130-140]', '[pz8P96myUZk]-[140-150]', '[pdOskdFwRPg]-[40-50]', '[CWKBzt-v8w4]-[30-40]', '[KlVO3gu-j70]-[190-200]', '[3KdyWJ6wTOw]-[30-40]', '[6evOjRxZlHI]-[200-210]', '[4TDtUHo5cSE]-[30-40]', '[UkqayNnk00w]-[50-60]', '[Arqvnp6yUCg]-[30-40]', '[4QJktFv916o]-[170-180]', '[Sr2Grfi3lFg]-[110-120]', '[CkgzMSbE68M]-[30-40]', '[ktw_J6ZW0MM]-[30-40]', '[3XRjrSOVBnQ]-[240-250]', '[GQbUpJFArKI]-[50-60]', '[JnfMv9ti9Sw]-[10-20]', '[EOaQnfDjVyo]-[30-40]', '[YyZ5bXcMDv4]-[0-10]', '[OpWCljke4oQ]-[160-170]', '[06IU9WsEp3s]-[130-140]', '[RDCXvJPzT5k]-[520-530]', '[hheF-AgCqIg]-[50-60]', '[lUp9WnLYetg]-[30-40]', '[WgZ8KAnnTb8]-[30-40]', '[JoBRbtAnbVM]-[30-40]', '[MdYXznF3Eac]-[30-40]', '[fpVlYpgTKZI]-[30-40]', '[DOb8htND5_o]-[30-40]', '[C6-JxDWYJ-A]-[70-80]', '[bBGcQ2-W768]-[30-40]', '[6gTrMRQPZMU]-[200-210]', '[eYngZ5It0b8]-[30-40]', '[u6tgeRXOxnU]-[30-40]', '[XW6tS4zAZ5E]-[10-20]', '[6Yh7Cdm2GgY]-[10-20]', '[90NsBZvepy0]-[30-40]', '[zrrM6Qg2Dwg]-[30-40]', '[SrLhnoBMyWM]-[0-10]', '[jbyVJdDlo2Q]-[40-50]', '[GNu_hiHGEp0]-[40-50]', '[ZYUAY6EN05Q]-[30-40]', '[heZw1TTrtTU]-[80-90]', '[m1ov6te6jK8]-[70-80]', '[d1nz5tZckSA]-[280-290]', '[xGHN0kphhWM]-[50-60]', '[GFbSHWBjuuQ]-[30-40]', '[RlrNPBfOowg]-[160-170]', '[Npbs_4DZgEQ]-[520-530]', '[FCzMqo8kh1o]-[20-30]', '[75_dMqpSM4o]-[100-110]', '[wwbATvWFaLY]-[30-40]', '[hhVFK9tYu84]-[40-50]', '[dqJSTTS7HTY]-[30-40]', '[REpuZwvyThM]-[30-40]', '[6jdeSAmkzEU]-[30-40]', '[JvvnL7UnCGA]-[20-30]', '[OxxRnDpN9cc]-[30-40]', '[81SgTHg66QY]-[30-40]', '[3nbB3F-OdSM]-[30-40]', '[GzRvq0gJbj0]-[70-80]', '[S38KjqRR418]-[200-210]', '[APSbmhJam74]-[30-40]', '[yScg02DM-jY]-[60-70]', '[oKab6-syQD4]-[240-250]', '[Z7V7Curou7s]-[30-40]', '[Wp5AiCmbQjA]-[70-80]', '[idUZsNLnyDg]-[30-40]', '[MSHbLrVlrQc]-[30-40]', '[yBYd03Hr2kQ]-[320-330]', '[50QEapyTPD4]-[480-490]', '[w9CxACZ5Oi0]-[130-140]', '[BZyf8LPltYs]-[30-40]', '[pKDnn0CBIe0]-[35-45]', '[LaoUSBEVHVQ]-[30-40]', '[Kd7aHdOwh0I]-[30-40]', '[4i1aizhCnfg]-[30-40]', '[fE7tbn6Fnw4]-[60-70]', '[UOC4VWQpnDM]-[110-120]', '[I5CBPhpimtg]-[30-40]', '[QutCXtWmzIs]-[30-40]', '[xxRnOYSjF64]-[40-50]', '[giPa2vVEyVc]-[30-40]', '[ojwVhlh-P1U]-[240-250]', '[8FawGISo8wY]-[60-70]', '[6ieXDFjLKNo]-[230-240]', '[ZZrvO__SNtA]-[130-140]', '[VMWW9OX1EJM]-[0-10]', '[feC0L9MtghM]-[190-200]', '[xtllXrdFAFQ]-[210-220]', '[BxQSEvHdyjQ]-[30-40]', '[wMHBhCVv--g]-[190-200]', '[FsCQmTluSDw]-[30-40]', '[QHCHK-NPO_U]-[150-160]', '[o2bqT0ZTz7E]-[70-80]', '[VsMy72BoIbU]-[40-50]', '[2I6pPRWKsCQ]-[380-390]', '[wLQiZ-0VW4c]-[60-70]', '[NP5iO_HB-f0]-[190-200]', '[P3ZPbGjHFXE]-[220-230]', '[Z31gI08SMzI]-[10-20]', '[LNFAeJ06KVs]-[30-40]', '[Kkqbi6c_40k]-[400-410]', '[sJzb2AhqkSg]-[140-150]', '[oxhFIoExrMk]-[30-40]', '[5MOJnA715fA]-[410-420]', '[_KaRkSyELy4]-[490-500]', '[adYFXYPqo2M]-[30-40]', '[ET6HVZ8muVE]-[30-40]', '[R7gHB-YuUZM]-[170-180]', '[4Gow6qZcNZI]-[390-400]', '[OH2SQhJqZDg]-[0-10]', '[T8U3ihbHh9A]-[0-10]', '[A7RgbrJYe_s]-[10-20]', '[OheHnFixwVk]-[30-40]', '[-wVWjl9Kq6U]-[240-250]', '[m-S-yqzlOj4]-[170-180]', '[1JwoLPCIGhs]-[30-40]', '[YZx0_GRtvJk]-[250-260]', '[zaEdWwSamS0]-[30-40]', '[IbD0zpcimgM]-[30-40]', '[JDBu-3VCyWc]-[110-120]', '[GF8QWSW0UbY]-[30-40]', '[S8fE5jNVchg]-[20-30]', '[5bsUYmXIgMA]-[0-10]', '[D2w3qHmJrdU]-[0-10]', '[coG_EznBmzE]-[30-40]', '[RceCfg1FQq4]-[30-40]', '[62L5kn1qFeY]-[150-160]', '[xZSioXdxo4Y]-[200-210]', '[WRZGYDh7qRo]-[60-70]', '[8kH-dzSBthI]-[250-260]', '[RD8kf4453cY]-[30-40]', '[UfZP677y3Dc]-[30-40]', '[xXRGgPVnkqk]-[90-100]', '[Dx58W7opw5A]-[0-10]', '[ZwLfj7tvpdc]-[110-120]', '[1QSD-dzEv7Y]-[40-50]', '[bpKbpKZB0Q0]-[30-40]', '[s72505MIhz8]-[80-90]', '[mBG-st0VUXs]-[480-490]', '[f6H0TMWDaZg]-[30-40]', '[3PwR0D7CuwM]-[30-40]', '[6yB6plsrjO0]-[30-40]', '[TA-O_bVnvLY]-[540-550]', '[Xn0wIqnt_44]-[220-230]', '[WyGJdstaxK4]-[30-40]', '[78S8DnvLQDY]-[30-40]', '[A_NkQM85g6Q]-[30-40]', '[GX-QhoihLeI]-[30-40]', '[whZygh228yw]-[150-160]', '[-YATTKBtmRA]-[190-200]', '[sGAYO93RR5Q]-[30-40]', '[1j13NdQiw8c]-[30-40]', '[0wzsE67O5tE]-[230-240]', '[FzG8ZQAhKrE]-[30-40]', '[9KK6rg03bC8]-[400-410]', '[YlV45uBUVBc]-[30-40]', '[2BGzxAuetOA]-[30-40]', '[IUjzBX2Qm4k]-[100-110]', '[YcWJUHWt-64]-[0-10]', '[aupCwPVWsMo]-[30-40]', '[yRU7DifuAXY]-[70-80]', '[-5f6hjZf9Yw]-[30-40]', '[R4jlQEweREY]-[30-40]', '[-r2-9oyIzkQ]-[30-40]', '[3YuO2UOYKRk]-[30-40]', '[x14jW4c8YnQ]-[20-30]', '[-0xzrMun0Rs]-[30-40]', '[C5Zs-Lb2rIM]-[90-100]', '[wEHRmd84Dwc]-[240-250]', '[AAoqx07aTRI]-[20-30]', '[ADPSmeFofpo]-[30-40]', '[ItSLkF6O3Mk]-[30-40]', '[4ZwGxgOwBUc]-[140-150]', '[rOOBAGxxjBk]-[10-20]', '[bBfi3iEu9fk]-[160-170]', '[J1-Qvl7u2TI]-[0-10]', '[-8C-gydUbR8]-[30-40]', '[YXDHyD4HU0E]-[160-170]', '[QRKc90kuAaE]-[560-570]', '[D644BWAUOXo]-[120-130]', '[244y56-vLWE]-[30-40]', '[ntfyeC178Tg]-[30-40]', '[AjjQqd0eLzw]-[30-40]', '[LWIHz5kao3g]-[30-40]', '[r8B3-yBc-4U]-[30-40]', '[uNUx8rqcy0M]-[30-40]', '[HLXGkzzQHUU]-[30-40]', '[merGvga39Yo]-[30-40]', '[rnuGOQ-aSjs]-[80-90]', '[5FbQu7QTme0]-[30-40]', '[hoPnrbKOEl8]-[110-120]', '[fSJ4qAPHaVM]-[30-40]', '[TIL8jEw8pSc]-[30-40]', '[E3iPiZlT6f8]-[30-40]', '[yreWOyWr6Uk]-[330-340]', '[GwTXkfuc5v8]-[30-40]', '[02Qntw26enM]-[90-100]', '[mKIapkfnAGY]-[130-140]', '[R3urUtvSgkU]-[30-40]', '[nsxaoH9DjDo]-[90-100]', '[AEwkS57P4eE]-[30-40]', '[8NIxqHJrL68]-[30-40]', '[4l441DdEJfU]-[50-60]', '[AGsMCWB1tTk]-[30-40]', '[2MpzHv5KNZU]-[30-40]', '[m--xEFqqrLc]-[60-70]', '[P14zjckYFK0]-[280-290]', '[T7khbuOBHbo]-[230-240]', '[oynXCFZWxnI]-[30-40]', '[0Wdh45yt7tY]-[50-60]', '[q-86OQ3HZ4o]-[30-40]', '[MiWskwqOMrg]-[30-40]', '[AJTU5RhF3S4]-[550-560]', '[V3Jb0Q_e_pQ]-[30-40]', '[sRxUm-ziCBo]-[190-200]', '[W4nQpOHIPEw]-[30-40]', '[5mmUQUwr6tI]-[30-40]', '[HFVM5pVTwkM]-[150-160]', '[HOIIp5NyFx0]-[20-30]', '[Czbi1u-gwUU]-[130-140]', '[-T4GeTHKtJQ]-[30-40]', '[ULHPhjaJ6p0]-[30-40]', '[ZCKzgf3QD4M]-[390-400]', '[9zW-E0XdWdw]-[160-170]', '[1hWAOReJehw]-[140-150]', '[DgVpK6r7JT4]-[280-290]', '[-hYRFCQdbLg]-[30-40]', '[fAHYe-qmFnU]-[0-10]', '[iHYOaGNdweo]-[230-240]', '[S9-i_pqoUCw]-[70-80]', '[bxoJOfGx3hM]-[90-100]', '[0LE6Ll1rVlg]-[30-40]', '[IJw2o_Yg00Q]-[30-40]', '[awax48X8YlU]-[30-40]', '[iS8YQGp2_ng]-[30-40]', '[dUlQepCYXgw]-[460-470]', '[B1ixRtiUJ-U]-[30-40]', '[KE-TVQhdCbs]-[30-40]', '[yRWndZvIAHc]-[30-40]', '[LvpImXJMryI]-[30-40]', '[0XxinBtKouQ]-[30-40]', '[mq_b6QKVsuc]-[30-40]', '[4tH9knHaTd0]-[20-30]', '[_9OUh0uwDec]-[210-220]', '[WxgolzWTmO4]-[150-160]', '[sMNuJy4f4A0]-[0-10]', '[vispMqNJ1j8]-[120-130]', '[8MbxazeMw2E]-[430-440]', '[p28jmA01BHo]-[50-60]', '[2ZfthfWQowE]-[30-40]', '[1i1sbQOILb0]-[30-40]', '[q9Gh-zh-5Ig]-[250-260]', '[mAmaUI7_uZ0]-[30-40]', '[evscfdO-oSY]-[30-40]', '[mBRr_TqLDf4]-[30-40]', '[b9rgWct9ivI]-[110-120]', '[aLnBwjLUZao]-[100-110]', '[fWu8vVSSkNQ]-[160-170]', '[CRUd8kY3L70]-[10-20]', '[7IndxxjZe1c]-[70-80]', '[RI126_DmGLQ]-[220-230]', '[ikJKSqnTylI]-[70-80]', '[9Qd6AdTq3Ls]-[30-40]', '[O6QyYC7Tt2A]-[160-170]', '[cQX-WgT0ACQ]-[20-30]', '[-fxh7jAJR8U]-[70-80]', '[aQdZtz90Yzw]-[140-150]', '[b4FomUpNaJE]-[30-40]', '[JIoA1KsfioQ]-[30-40]', '[8akqVDDGsNQ]-[30-40]', '[S_Z7o4OmU30]-[30-40]', '[oJ0rdNlghn4]-[30-40]', '[PfO7ZVdzfZ4]-[150-160]', '[298Q_pSLflU]-[70-80]', '[e8xkukid_2o]-[30-40]', '[8Yt55huZGZc]-[30-40]', '[rkQPSAHNoeI]-[170-180]', '[_XrolyeJXDw]-[30-40]', '[HYjSrwSm0T4]-[250-260]', '[bTlp5Qr99RY]-[30-40]', '[8fibq2VXibw]-[90-100]', '[X7qFgrAl3OU]-[70-80]', '[NnYfF7E12dk]-[190-200]', '[PJUffXn-LIk]-[190-200]', '[XzRxO8n3WRE]-[420-430]', '[J2BDMndrvhA]-[30-40]', '[Zy_YSROQmlE]-[170-180]', '[KCs_VPmsnKo]-[30-40]', '[A446kjocnCg]-[10-20]', '[n_REM0fSVrA]-[30-40]', '[-JVWfFPBl84]-[330-340]', '[ADxuhHNZVCc]-[30-40]', '[1hABzqBHh7w]-[30-40]', '[0a6uLBmqZgA]-[30-40]', '[J2R8Ab25reU]-[110-120]', '[UFyOGqmITjM]-[0-10]', '[aOGNUGgTQ8k]-[210-220]', '[EZi80fUpBfE]-[30-40]', '[Y-qOOR0izlE]-[102-112]', '[xJ63DJzzvnA]-[30-40]', '[6zgvEiJJrM8]-[420-430]', '[4GlH0-KhInI]-[30-40]', '[OPX9ukYun3o]-[10-20]', '[tPVsTFGWU5Q]-[80-90]', '[xgXd06kKFIQ]-[0-10]', '[CwImmV7q1MY]-[30-40]', '[VjbRot21Hq0]-[30-40]', '[Z0OTDXtjK9M]-[210-220]', '[g-ZOluGhMoA]-[270-280]', '[qIxpfaeZ-zs]-[380-390]', '[z0w3Y8BGLQE]-[30-40]', '[HU7oqkJeItQ]-[0-10]', '[FKBryvLMTY4]-[30-40]', '[dNK9bD3LNCc]-[60-70]', '[XhV4zf-Xlmk]-[170-180]', '[9m0tNvskmTc]-[400-410]', '[n4QSYx4wVQg]-[30-40]', '[sQMzHk9MRAI]-[30-40]', '[28pkN4m1x6I]-[80-90]', '[LAeWwMC2EaI]-[30-40]', '[ftaHv79hRoY]-[30-40]', '[3OWArQGgmm0]-[40-50]', '[TWV3YLscSaw]-[60-70]', '[BzM0qok5Cns]-[30-40]', '[K6DSH7MSeOA]-[350-360]', '[aryufzYGhbM]-[30-40]', '[YJKZVSvz1Bk]-[100-110]', '[zu_1zpF--Zg]-[0-10]', '[7l4-QmvXxEs]-[80-90]', '[OiNlYrlJE4g]-[430-440]', '[e7WPFeDPFB4]-[30-40]', '[5AdeNHlPnvs]-[100-110]', '[CHo8wKj9J1w]-[30-40]', '[3zIQTDfS4Hk]-[30-40]', '[Swien0oGl7o]-[90-100]', '[xIbSUwO43Ig]-[30-40]', '[nIL_xrqjo1g]-[30-40]', '[vEt13GxzDKk]-[30-40]', '[jtwRKyQ8-lg]-[230-240]', '[3tlaELkmRqs]-[180-190]', '[fFYMsrMGQtU]-[30-40]', '[5FlNBuS7YgM]-[30-40]', '[7lG2zPKo9e4]-[30-40]', '[_3GnNMrDuCs]-[150-160]', '[YIhfk4Zaevk]-[30-40]', '[SDTsifbpGMM]-[30-40]', '[EIzBD62ja8E]-[30-40]', '[7Msk_hkz6zk]-[30-40]', '[c4ftOyl3j_Y]-[40-50]', '[sL01xTmV_Fc]-[30-40]', '[TiOBlG-R1Y4]-[20-30]', '[65KYS3lIRII]-[380-390]', '[g8XTU3OalGs]-[320-330]', '[A8b-0yWXBCE]-[30-40]', '[NhVkzcCL0SA]-[30-40]', '[0OhtODbKajw]-[350-360]', '[HkXSX7Kdhms]-[30-40]', '[CnTMm-bzssM]-[310-320]', '[35b9UHjagaI]-[30-40]', '[DW7Qe-50X_A]-[250-260]', '[qKXhSGaudtk]-[150-160]', '[bHiRX6QYwEk]-[150-160]', '[MvnC1TfNiPY]-[90-100]', '[PwmXO0J-PAA]-[170-180]', '[s59pQGs7Q3E]-[50-60]', '[SLdVSirZMSI]-[30-40]', '[XdBf_omYIO4]-[30-40]', '[cfeTMVWFHLo]-[0-10]', '[AGNqX_OL-dU]-[60-70]', '[9Tl2l3bsLpE]-[60-70]', '[eayGg2OlHOw]-[10-20]', '[uxLY3CBoPo8]-[50-60]', '[-e4wXAy1iVo]-[0-10]', '[Ovk5EfFj7Ws]-[160-170]', '[OJuVsBojdvo]-[30-40]', '[wKoFJHb2BoI]-[30-40]', '[i8PFu7AiwaE]-[160-170]', '[3Z74i_FWs3o]-[110-120]', '[-SWaCArvQug]-[21-31]', '[8rCYRgePG-4]-[30-40]', '[RtXe5T7NFrE]-[30-40]', '[B1beLwV4yzw]-[30-40]', '[WJIrkvEq4EI]-[30-40]', '[bYwoYjbPm-I]-[30-40]', '[t3-xANiQrho]-[320-330]', '[uA-JpZppFsc]-[30-40]', '[Ex0ukzO5z9M]-[30-40]', '[e1KHGfMekek]-[30-40]', '[PeWXdkEUPbo]-[30-40]', '[aPAa2sfhS7k]-[460-470]', '[uLp6z37bfVE]-[230-240]', '[-SD43H5B5hE]-[520-530]', '[CH-zch2pUic]-[30-40]', '[FvdUm5j_oA0]-[190-200]', '[3-_QS346VWo]-[30-40]', '[19Pp9QEw17U]-[30-40]', '[6Ig6zwBn4b4]-[30-40]', '[ZkmtfBzpQlI]-[20-30]', '[XalMIYYgHt0]-[130-140]', '[e5SK6olIYcY]-[70-80]', '[i6dFcfV64RE]-[50-60]', '[NKDBwJIwWoU]-[30-40]', '[wTPI3MHqxSQ]-[190-200]', '[TC4mH6nACm8]-[30-40]', '[jV8kq0MpWMU]-[30-40]', '[iX53Jb72Nwk]-[140-150]', '[W5eOW25vvbw]-[30-40]', '[GcOOmVSM8Uw]-[110-120]', '[LYO7_GxyaZc]-[30-40]', '[xlxxWFENWr8]-[70-80]', '[d-AcpHG7OjU]-[30-40]', '[3QqVP0odOw4]-[260-270]', '[kkOGbgGJLF4]-[170-180]', '[ykkVTInYctY]-[120-130]', '[fU9woCZqemw]-[40-50]', '[mOn13E68Td0]-[30-40]', '[hqCJarP-nVI]-[30-40]', '[hhU78ykPr5w]-[180-190]', '[oTzTZqDOIt0]-[80-90]', '[9nVpyqfyBSE]-[0-10]', '[4KqSdK5KM-I]-[80-90]', '[2GWkKVHxGRM]-[30-40]', '[HkCYA4ax4jI]-[70-80]', '[WySgNm8qH-I]-[30-40]', '[pzm90xLX9HM]-[450-460]', '[TcoRmHHHNgI]-[30-40]', '[NzVg-cFQJbE]-[30-40]', '[A3vsvL-Yx0Q]-[30-40]', '[Zz1Bz1a7yPE]-[30-40]', '[w_z9oSn-eIM]-[280-290]', '[7PtHb9jQCtg]-[130-140]', '[fsXfBoNcLeM]-[30-40]', '[ICcASgMtIJ8]-[30-40]', '[L9xj_v65UhU]-[110-120]', '[rJZgUpzqAyY]-[70-80]', '[m4bBsvuS4EU]-[280-290]', '[Mhvgz5AjV3U]-[30-40]', '[sEGxoHiAPiQ]-[80-90]', '[WcC9sKxJ1gI]-[10-20]', '[mOFyRCMlXIo]-[330-340]', '[-nlkWWphiaM]-[30-40]', '[msnm_tYXcYw]-[40-50]', '[NuN-ug3dIkw]-[30-40]', '[4T2KBwRxi_g]-[520-530]', '[OkcBJawiIHA]-[250-260]', '[hzznbzry5R8]-[170-180]', '[_5w5TVK5B90]-[370-380]', '[J_Raltj-6dk]-[30-40]', '[K6KbEnGnymk]-[30-40]', '[hu5pjj1KzK8]-[170-180]', '[LQYd-dsz62M]-[10-20]', '[KB79k456DhI]-[30-40]', '[Ur8O3h8S0K4]-[70-80]', '[Or4CALipjig]-[30-40]', '[XRQyoAk-Qz0]-[30-40]', '[muwIU0BHXE0]-[10-20]', '[MMGAKKhqxKg]-[160-170]', '[-1OlgJWehn8]-[30-40]', '[7ITwarmdyfI]-[0-10]', '[PnJx0uLJ_oE]-[140-150]', '[A6HJBIU1rD0]-[40-50]', '[kbAMGp-TKJo]-[30-40]', '[kjcXM60HrRA]-[30-40]', '[GopccU3Am1w]-[20-30]', '[_0-2meOf9qY]-[10-20]', '[mLaon9oK1OA]-[30-40]', '[lTAfSpsyTSI]-[70-80]', '[E6B81rrUlnE]-[440-450]', '[ExghbCGRBx0]-[30-40]', '[11D0JdB7_4k]-[120-130]', '[_GjHL0FkYoY]-[120-130]', '[K-zkbbliQcI]-[150-160]', '[sc7KNFUEdfY]-[30-40]', '[fESsP6ZnVKA]-[20-30]', '[LpcvkXs49Zo]-[300-310]', '[1BVSYfNCcv0]-[30-40]', '[iUHqyjf3NcQ]-[70-80]', '[YDBxdZchOuM]-[230-240]', '[YOG_PPvTvW0]-[140-150]', '[sHbGsZUsisE]-[240-250]', '[xL7Krm6FSWE]-[200-210]', '[5DNl3DX4rr0]-[520-530]', '[ywuR9AfpA_E]-[10-20]', '[ClK_qf_Twm8]-[30-40]', '[gMgN50wSnNc]-[200-210]', '[QXe9BpTENCc]-[30-40]', '[JYYfw3id3ek]-[140-150]', '[NHA1l_Czm38]-[180-190]', '[Euu6zlJQSD0]-[30-40]', '[PBMfPDei93s]-[200-210]', '[WditOomsdRU]-[70-80]', '[ZgooDijn2as]-[30-40]', '[s1c8RF7lKv0]-[50-60]', '[KxUcwQ5BEBk]-[30-40]', '[GWcMqKYOJR4]-[20-30]', '[bl-eQ8XD5CY]-[30-40]', '[Z-G7nL9tiws]-[240-250]', '[hH6thMA3640]-[120-130]', '[m9MQdg0k1t0]-[30-40]', '[qknDM3pcoD0]-[140-150]', '[YTYj8Bk0qM8]-[30-40]', '[vMU7ZKY2Eso]-[220-230]', '[ZzyWbehtt0M]-[30-40]', '[OjEG808MfF4]-[330-340]', '[-0Gj8-vB1q4]-[30-40]', '[dLUobee5JEs]-[70-80]', '[f1_YKSYgtbI]-[30-40]', '[vG0FGgJlDGw]-[30-40]', '[SsVc1TAVsSc]-[20-30]', '[Z9hnLYpypCU]-[0-10]', '[CM2rKZmcR0I]-[80-90]', '[JWNWCKdfpzM]-[30-40]', '[z3UCnloQGPY]-[30-40]', '[cBd0yZ27dtA]-[50-60]', '[Gz8RlHf3Czs]-[30-40]', '[1ArUx6UCxe4]-[30-40]', '[oJyyNWuyig4]-[30-40]', '[ZmgkpmzvL6c]-[30-40]', '[6cQbxwbBqqI]-[260-270]', '[9JeN1ld-3fY]-[280-290]', '[iaDrtIon6FU]-[30-40]', '[5MAX6bUSf4s]-[110-120]', '[OoRUo92emGo]-[10-20]', '[AZsupJ68Hp0]-[30-40]', '[Ypuv3htJlpg]-[150-160]', '[c9h4p6325Xo]-[30-40]', '[x9xXU30ktcY]-[50-60]', '[OHrrS6AKW_c]-[30-40]', '[nf3LGAL1LZc]-[30-40]', '[OBJM1TqPvu4]-[470-480]', '[iSw-5EjXgXc]-[30-40]', '[LTG-uVV_6q0]-[30-40]', '[K1PzpuR6CqY]-[10-20]', '[-7wUQP6G5EQ]-[30-40]', '[A4jSRfZ6yd0]-[440-450]', '[IN71kMOAk_k]-[60-70]', '[CudxWnS7ukw]-[30-40]', '[2JuMYUPMGGM]-[190-200]', '[k2uiJXN3L6E]-[290-300]', '[Yt1czlnCUCg]-[30-40]', '[UvCY9FHpKC8]-[30-40]', '[XI9CNsX6JSE]-[230-240]', '[x6FbyqrK0g0]-[30-40]', '[Hdko95EitpI]-[40-50]', '[mMf4vJFT8Fw]-[30-40]', '[etmmUjsRNRs]-[30-40]', '[JqmOqYtQqB8]-[30-40]', '[Pd4WnsXwdqw]-[70-80]', '[1PN-bfs2EhY]-[30-40]', '[k4ttuqKjiw0]-[30-40]', '[J7d3nuS9wqg]-[0-10]', '[LKUYtvUHn0Y]-[30-40]', '[bZXQlQnleL4]-[10-20]', '[N4eMppEnPE0]-[260-270]', '[fHNAxa0QaOM]-[30-40]', '[Ekoh6TJpA88]-[60-70]', '[5BEVY0vaygg]-[30-40]', '[mwqluX7sXXU]-[240-250]', '[HNf9eHqDT1A]-[30-40]', '[oZoJ26C6LrU]-[100-110]', '[lR8am4rK7qQ]-[70-80]', '[zR4ebAuqy8w]-[30-40]', '[Xxe6vTEwFvs]-[30-40]', '[vBw99ghST1g]-[10-20]', '[tnJb9WyhCUc]-[160-170]', '[Qt8Ze-k2h2o]-[40-50]', '[JKbUVdMJAO8]-[30-40]', '[tk4s-nlhmEQ]-[30-40]', '[A_oaLt-n4fQ]-[220-230]', '[iP46w2o_HCk]-[30-40]', '[-YIT4HBM__g]-[30-40]', '[B9IAl-ygE2k]-[10-20]', '[YFXSbPFaxcA]-[30-40]', '[3ClbaJYWVO4]-[30-40]', '[5Tq56BN8PCQ]-[60-70]', '[lvktro0asjs]-[40-50]', '[av-1Ih0S82s]-[30-40]', '[oZScu7DU5qk]-[30-40]', '[gsIB8HjsRtw]-[100-110]', '[PmiH7RnCkhI]-[10-20]', '[D9TuP8PKD6M]-[60-70]', '[DvOA0K-DIFM]-[30-40]', '[A2WdjyKQ57A]-[130-140]', '[rccs9c1gteQ]-[0-10]', '[oN9_GYDkNcM]-[60-70]', '[-8cgbhIR_pw]-[30-40]', '[raM8Lp0aGCk]-[30-40]', '[Guu30szkA-0]-[30-40]', '[gqkqzqCHM3A]-[30-40]', '[d61plJ66vE8]-[110-120]', '[j4A1ObGurUk]-[70-80]', '[gjJWbtCShqo]-[30-40]', '[BBSApRvkaqY]-[210-220]', '[dS8AZdmn8Wk]-[560-570]', '[KikHXfUanJk]-[0-10]', '[ryEXhKy1QUI]-[60-70]', '[hkWcUtga1lw]-[400-410]', '[Z0O2r0Dl2T4]-[120-130]', '[JDrnf3vldLw]-[30-40]', '[chwqnnaiYXw]-[30-40]', '[Xf0aZ3a3Toc]-[0-10]', '[4b8gTARnmVE]-[30-40]', '[ba5xPgcHN_0]-[30-40]', '[yhS-6Y8ToR8]-[60-70]', '[3ujGrObyefA]-[30-40]', '[5s0yPPrQWxs]-[100-110]', '[kX5bTiq5eBo]-[30-40]', '[KnZeEWVHaLc]-[230-240]', '[5KvjUzQbMT4]-[0-10]', '[bqPCtwibgPg]-[440-450]', '[7NF2kcEfMBI]-[420-430]', '[qFTMEVccUMg]-[450-460]', '[VjXt63pqUgw]-[20-30]', '[nU7x170OvJ4]-[30-40]', '[l5QPXVIxxwk]-[30-40]', '[PN3Lx8RutmI]-[30-40]', '[60y9j_Dc-Xs]-[90-100]', '[7h6nTyP7d9o]-[590-600]', '[xZTlnE6IcYQ]-[50-60]', '[yesyhQkYrQM]-[180-190]', '[32C6w8V7TX8]-[30-40]', '[xhOsZuB_Zqc]-[50-60]', '[MNd8CRa48Uk]-[260-270]', '[XgOA5oRkL2A]-[30-40]', '[HRxTN4TH-80]-[0-10]', '[AeDNy6Ff7VE]-[30-40]', '[4i11P4OCRfk]-[30-40]', '[fa0lR26K23E]-[450-460]', '[ppAT0f2YCyM]-[240-250]', '[qMd2DTyF9EE]-[30-40]', '[dPM24O4my-Q]-[0-10]', '[0RcMzUdXDRQ]-[30-40]', '[2ZB7DUGOdZw]-[30-40]', '[0VwX92X3iPc]-[30-40]', '[H6qzijVEqZQ]-[10-20]', '[fxdWwzdeY_o]-[30-40]', '[FiKY19GK6-8]-[30-40]', '[ABWE9tjTvuI]-[130-140]', '[4PGzlwvXMnE]-[30-40]', '[01PzcPKT3_E]-[30-40]', '[uy3nQ9VYE-Q]-[30-40]', '[YqAsph_ouRM]-[100-110]', '[A4vwbziwPm8]-[30-40]', '[kpsYSXR1wao]-[300-310]', '[Qa-Qs9CtOOw]-[30-40]', '[R-aMYx9f0Ho]-[30-40]', '[kVaQA3PhSio]-[0-10]', '[ieEPKa3HiGo]-[30-40]', '[U0xhbrULfNY]-[330-340]', '[W-nkxlYTdV4]-[210-220]', '[KY5TY6ovKQg]-[10-20]', '[O1RmrE_HfpE]-[30-40]', '[g0AXzsecS5M]-[40-50]', '[-1LrH01Ei1w]-[30-40]', '[m-xxD1fGPnU]-[0-10]', '[_Ra1Y6K7nSs]-[0-10]', '[uGQ7QnKqeY4]-[0-10]', '[RTQJe028VdU]-[80-90]', '[tmpVzeD_M5s]-[40-50]', '[mGU4ZRstxpY]-[140-150]', '[-EVRXQpt1-8]-[50-60]', '[KbDLu4VozGg]-[130-140]', '[s7VkXHiULz8]-[250-260]', '[EZJzzWEDtQo]-[30-40]', '[RF3rog2YjYw]-[30-40]', '[N_Wx35sNqdM]-[80-90]', '[Zt8x7tvP9Qs]-[30-40]', '[DAX9uKYlDvw]-[120-130]', '[5JRvGMTjEzQ]-[30-40]', '[GcnLApOeCh0]-[30-40]', '[Rdwtr2IX8ek]-[30-40]', '[C6roSYqchkk]-[60-70]', '[bkQrvXXIRng]-[40-50]', '[DP72GDe6AAs]-[18-28]', '[CzMNiypg1I8]-[30-40]', '[6u1ckcErgcQ]-[30-40]', '[Grtmre_r9yI]-[250-260]', '[Nep_3Y81E_w]-[30-40]', '[sZQ4TeLueSs]-[210-220]', '[ou3LJpAM4mk]-[80-90]', '[G2JDDwIuNrQ]-[150-160]', '[DGlP6oTqe5Y]-[30-40]', '[07mS0mSTDjY]-[30-40]', '[BGD7J6MP2C8]-[30-40]', '[vKNGqQ3GRB8]-[90-100]', '[bqvl7IbPteU]-[30-40]', '[HCCGZh-TxK0]-[30-40]', '[HTQySJM4Jhg]-[50-60]', '[lhizlCmlbYY]-[50-60]', '[SWyF5TSxWso]-[80-90]', '[l-RdHtsYWBY]-[70-80]', '[7kEeYQx2VLE]-[0-10]', '[mzDq-abtAKs]-[30-40]', '[VnJeG9RGUVM]-[30-40]', '[ER1fTL9-pQw]-[30-40]', '[QSaX7QfeWog]-[30-40]', '[3Yc7_n6mDsI]-[40-50]', '[IEVVHo9nr7g]-[30-40]', '[3QNFY4MKTy4]-[70-80]', '[eQHQWb6FCio]-[60-70]', '[NVo-stvk_QE]-[30-40]', '[2kcSUBkFbaQ]-[30-40]', '[G-7BfzMgZL8]-[30-40]', '[qrzNABqN420]-[30-40]', '[k9w2aaNKenE]-[40-50]', '[-Gf4Ihv1zwc]-[50-60]', '[bxZeGrM_0ac]-[400-410]', '[evy2azZk3kE]-[40-50]', '[DZ3EShJzOOc]-[120-130]', '[ctJI7pCbxAo]-[290-300]', '[suX7Cri4kAo]-[30-40]', '[UinQGYfmZhE]-[120-130]', '[YOA1JOyd7cw]-[30-40]', '[390At7lW4iw]-[0-10]', '[sgJT5lIFttM]-[280-290]', '[E4To9BC2jx8]-[170-180]', '[8FZb_R2UANY]-[90-100]', '[AAP5pAB-4jM]-[0-10]', '[Qy77eJc72UQ]-[30-40]', '[yWU0zNEy2_I]-[90-100]', '[vNZ3JS1LjDc]-[150-160]', '[aXDgw2fLHAA]-[70-80]', '[KubrAnJ0o0o]-[360-370]', '[hDzmNYd_eaA]-[30-40]', '[9L6ePkWtZI4]-[30-40]', '[6BitLl5Bnxw]-[30-40]', '[3EtbIWF_ynU]-[30-40]', '[aIIEI33EUqI]-[30-40]', '[Qz8hNRg-7G0]-[30-40]', '[oRVivXC83hA]-[120-130]', '[CdFutCUKTXI]-[30-40]', '[rTBQmP6Vt0g]-[10-20]', '[m7i4g_o-znQ]-[30-40]', '[eWwWwoQLtVg]-[30-40]', '[1ls3ectO1F4]-[30-40]', '[3w4nFQrUQ8k]-[20-30]', '[gIFg6jvXgb4]-[500-510]', '[_xURU_-ffC4]-[250-260]', '[HIDXdH6R6T8]-[220-230]', '[aq3vov8-fw8]-[30-40]', '[fkgaF6Oj5Q4]-[30-40]', '[dTsOP7Nfnpg]-[20-30]', '[FvQgVl5IBHw]-[30-40]', '[j5R0hwX27Gk]-[60-70]', '[hHb0Eq1I7Fk]-[0-10]', '[VlgOLOoctm0]-[30-40]', '[hlHb9HwNxk8]-[110-120]', '[ALU-1AILj1c]-[220-230]', '[sbOBTkrivXM]-[100-110]', '[1KN3GrwhY8c]-[420-430]', '[E_IG2ubeTME]-[30-40]', '[-VclCul6FrI]-[80-90]', '[I-XYm2Ck2r8]-[30-40]', '[07-3grCQ8EU]-[30-40]', '[qXSG2uq2tNw]-[170-180]', '[gOhONZR_F7c]-[30-40]', '[Vwekk3EOa-U]-[40-50]', '[8DQbnR7hwpc]-[30-40]', '[OAl2EjbdQG8]-[30-40]', '[KHjEIheD-Cg]-[30-40]', '[oNryELagQUM]-[20-30]', '[aUXKK9AmrPU]-[30-40]', '[Wil8e6kBxe8]-[30-40]', '[EUmfsCvmkgo]-[0-10]', '[IOEwc-N2rX4]-[30-40]', '[Oe_xSG_ic-c]-[80-90]', '[9PMoI31ncIs]-[30-40]', '[7cvqeU9Wh-I]-[10-20]', '[tdrz4EkIsow]-[30-40]', '[-IZbvEO9wzU]-[30-40]', '[DO8Db_i7IVc]-[30-40]', '[MC0Aeu7RLSI]-[30-40]', '[ar4YQ_DOcyk]-[80-90]', '[AuZNuyR2OJs]-[30-40]', '[IqGB4nQIAcQ]-[210-220]', '[jdEbwMS9xqo]-[0-10]', '[GHQlBD-6rkA]-[50-60]', '[w-YAUcPl-HU]-[30-40]', '[40vmsGsFBsw]-[0-10]', '[gNpzuFPu6q8]-[50-60]', '[t6jlx6jAb-Q]-[70-80]', '[6k6tF0s0lNs]-[260-270]', '[DGON0D8E17Q]-[260-270]', '[4mtfOkzOvBI]-[10-20]', '[rNUtYf6EdW8]-[470-480]', '[HwGK5RvNOFI]-[30-40]', '[9WrIbJC_C7A]-[30-40]', '[MyH8zQw9csc]-[30-40]', '[I_wT76iYBdQ]-[60-70]', '[ESbtW0CUmp4]-[0-10]', '[whIj6mrUGzQ]-[30-40]', '[WdxNikVdK-U]-[410-420]', '[WvaIypMvAHY]-[490-500]', '[hVikKRODjbI]-[110-120]', '[aW6greyYuO4]-[50-60]', '[Q8QXzYpl6Tw]-[0-10]', '[h7DOBV43UPQ]-[90-100]', '[0u1sk49gAU0]-[20-30]', '[dbenNuhAW_I]-[150-160]', '[axb48YrvRmw]-[30-40]', '[t-yy7v7P0IE]-[100-110]', '[f7OQTtTdgrA]-[0-10]', '[cjTrK-kA6x0]-[190-200]', '[LB0u0PrlDHU]-[0-10]', '[5rsQHo-6DI4]-[40-50]', '[60uuoSycuWE]-[70-80]', '[f6wrXzvByrg]-[30-40]', '[lV0-LMVpZLg]-[40-50]', '[mlrarQ5nVlU]-[170-180]', '[HVA9-fjtv6U]-[60-70]', '[0JbGxIR8JTk]-[200-210]', '[oYEzy8gH6q8]-[30-40]', '[-tKZOl4q1Kw]-[20-30]', '[tKawN2sxhYc]-[30-40]', '[ura8EjHjGC4]-[30-40]', '[3IYd8cCmUkQ]-[60-70]', '[GT9g4uqK9G8]-[30-40]', '[PvHKu1XRSJ0]-[0-10]', '[dsf3agfkJDY]-[40-50]', '[EkmHGd0U8yE]-[100-110]', '[Z19W44ZI15Q]-[190-200]', '[_R9Ma9rjEWg]-[30-40]', '[IUD_ZYOh2MM]-[0-10]', '[KxVbdGPAfjE]-[30-40]', '[qDjeY72KaSo]-[30-40]', '[dsibOgkezN8]-[30-40]', '[zbCqre50eLM]-[30-40]', '[L_ghM-NrH58]-[220-230]', '[VAqgpoyD2jc]-[30-40]', '[NZn4-gP2GiI]-[80-90]', '[HJuR9WJ1iRY]-[40-50]', '[TEWYFkjH2jc]-[260-270]', '[L1fxVVl_1bM]-[500-510]', '[G22YfD5xxMU]-[60-70]', '[2JNY2SaMk7s]-[30-40]', '[QpX9dSCFxRI]-[0-10]', '[WoWF7gGzGVY]-[30-40]', '[eiUjc4UPnSs]-[30-40]', '[CGYflJRiLt0]-[30-40]', '[n4PBoAedWVA]-[30-40]', '[4Udqs0trpMw]-[30-40]', '[TCRxCAYyduo]-[0-10]', '[53UF6F7D284]-[30-40]', '[tmabzx6yxqs]-[30-40]', '[8zGJ9N7c6pE]-[20-30]', '[Fg8yzA7zifw]-[30-40]', '[ZqnbgQeeRbM]-[30-40]', '[8pc8fjPIV-Q]-[30-40]', '[jIoDR_eskaU]-[80-90]', '[mPaRs96jtFY]-[30-40]', '[PKsdjH0RmsU]-[30-40]', '[tpnvHb9ZhlU]-[30-40]', '[zWJC_qr2610]-[30-40]', '[_94ra2KoZGo]-[520-530]', '[2ctgUIqyaBk]-[20-30]', '[KauCO8zH5bw]-[10-20]', '[Zy4uiiy0qgA]-[60-70]', '[4i9DgH80kDg]-[30-40]', '[KpRHRh9PaRU]-[330-340]', '[5tNOauvQWQQ]-[470-480]', '[J8pkQfYlJA4]-[280-290]', '[gjujPd1lP8E]-[0-10]', '[PUy3cnNk4ys]-[40-50]', '[_6C2ffY_-mc]-[30-40]', '[89eBh_Djflw]-[240-250]', '[IYtQfDsFVfA]-[30-40]', '[MHgPpImV7b4]-[20-30]', '[CzHZNJEV-3o]-[50-60]', '[8dE1x--TuF8]-[10-20]', '[AUs5OVYg078]-[30-40]', '[MX0wS7MX3Zo]-[190-200]', '[WSaCGNkM6_k]-[30-40]', '[Xus0LI3QV2A]-[30-40]', '[EO_tdzbN75Q]-[450-460]', '[bQ9vpp_yXvk]-[30-40]', '[vfMEPOl1Wqw]-[10-20]', '[ZocCGcJcGJE]-[30-40]', '[ghW2xZMvpIQ]-[30-40]', '[JR-1k8GHYAw]-[100-110]', '[7zP5kNyDn88]-[30-40]', '[T0tyLNN7SKA]-[30-40]', '[1tNkAc29aPE]-[30-40]', '[XfLIbeSJSHE]-[300-310]', '[LH3mAtCou6g]-[30-40]', '[TdvwUwpYYos]-[30-40]', '[AmAThmRphk0]-[30-40]', '[lBSS2AbA560]-[30-40]', '[Vt3HzkNtOP4]-[30-40]', '[79tuMIiWMZ4]-[30-40]', '[P9fh7rOIKcM]-[270-280]', '[AqSV_WKZxEc]-[30-40]', '[GwxSvUoYSZg]-[10-20]', '[JiBAkAwK0GM]-[30-40]', '[adHhqDnyZv8]-[100-110]', '[hDsA_ky9Hfw]-[30-40]', '[OvX68hqDjeA]-[30-40]', '[hBT0bbJl1dU]-[270-280]', '[kf-U7I0-DdA]-[30-40]', '[P8nK4i8XscM]-[30-40]', '[AzhfZ8rNhRk]-[30-40]', '[l8P2wU-JyI8]-[30-40]', '[rNKJXwMz9XQ]-[10-20]', '[DUmXpq-Cksg]-[30-40]', '[o-ZTQP5CFCg]-[50-60]', '[Y1ItBiA8nKU]-[30-40]', '[5iUwBOf4yek]-[60-70]', '[BfUoopDpmmY]-[30-40]', '[00M9FhCet6s]-[100-110]', '[t5P_HJrrD64]-[90-100]', '[tRA-5inwlMI]-[30-40]', '[nSinUcyFFqg]-[40-50]', '[7JMN4DdhwsM]-[10-20]', '[4vWChPYkuwA]-[70-80]', '[XYQnMxWnetY]-[80-90]', '[T_d82v2g93w]-[0-10]', '[IJcLW4arT6s]-[70-80]', '[NxdQtpceXaI]-[30-40]', '[3zPvfVmL0nE]-[550-560]', '[oC0e8GXYy_4]-[10-20]', '[nvBPPOzcW-A]-[30-40]', '[aNJEh3_Vmps]-[30-40]', '[C3s-DmHtDUg]-[20-30]', '[DsAp3b1poeA]-[30-40]', '[hYlSisv-VRU]-[60-70]', '[7S3fU4RHabw]-[470-480]', '[k6F3gc8f8kI]-[150-160]', '[cHGziT0hrZU]-[30-40]', '[qwGT6wvYdLo]-[60-70]', '[RQbNC1J4Jfk]-[30-40]', '[7vC1iriZlX8]-[180-190]', '[zPMiMXCazAI]-[30-40]', '[2Ui85-AOLyo]-[30-40]', '[cn-SilfYLZo]-[20-30]', '[JSdALuTneBM]-[30-40]', '[91Qp8XUskXo]-[20-30]', '[CrkxrgTiVyk]-[30-40]', '[tu3IrmT_2xk]-[240-250]', '[TEoDtxjlctA]-[140-150]', '[lqCx0HgF1ZM]-[30-40]', '[nL4zx0-mi14]-[30-40]', '[UxT3KG4AHAI]-[0-10]', '[CKEPPcaCjbw]-[60-70]', '[GJYhDjThTHM]-[30-40]', '[6JJMlY3Go9s]-[30-40]', '[cQWJeYfyw8Y]-[110-120]', '[GOujNXEtDmg]-[30-40]', '[fX8A5Uxc8R0]-[150-160]', '[zYa3ksSrCqw]-[350-360]', '[1OIfQHKnAcw]-[20-30]', '[iS-iTbHndw8]-[190-200]', '[eZC1AP_JjXM]-[30-40]', '[0EzWmAPwoTs]-[260-270]', '[-r7iz-9v9bA]-[30-40]', '[pHzjKCj9INw]-[30-40]', '[KJHqQ5aKu8U]-[100-110]', '[woVby8SBWDI]-[150-160]', '[U4MdEIQcZxs]-[30-40]', '[1WlvXneu6oY]-[30-40]', '[M7fsgHyiicM]-[250-260]', '[pXz67syyse0]-[70-80]', '[w6MtzUCl4vM]-[30-40]', '[uwPeQy7ZtGo]-[30-40]', '[UwxatzcYf9Q]-[30-40]', '[LM2C1eIUX9M]-[460-470]', '[zVA66aZOBH4]-[20-30]', '[liagR7x12O4]-[110-120]', '[8ynjAtF5VnA]-[40-50]', '[7ym-LzgwSPE]-[20-30]', '[tUBTRs7Avk0]-[130-140]', '[Q75y0TIp7Ds]-[30-40]', '[srEOZzpdhs8]-[80-90]', '[keIvA2wSPZc]-[30-40]', '[40D4L5Ndi6k]-[80-90]', '[fH9CY48sfJY]-[330-340]', '[kka6zUtE3h8]-[130-140]', '[mqyeBqaUeN8]-[30-40]', '[Z_0Ta-m_-hU]-[110-120]', '[-NmjCyqIavI]-[30-40]', '[imIFtW4O5S0]-[30-40]', '[r0I-G70gyo0]-[30-40]', '[lRC2lurjPBw]-[30-40]', '[pvxx3aokwCU]-[40-50]', '[BSLriWJ7hn8]-[30-40]', '[2Q20hVyYjBM]-[30-40]', '[D7Cvisf3jf8]-[30-40]', '[ihCl2ImrOYE]-[30-40]', '[1pR0SgbqP3M]-[30-40]', '[Ubj0jlheyvk]-[30-40]', '[ZUcHBeueBww]-[30-40]', '[v9TTtjEngjY]-[20-30]', '[vOiDwXo-SuM]-[0-10]', '[614LdgrE13A]-[110-120]', '[HXG8DnTpyPc]-[220-230]', '[vYP60jdTupc]-[30-40]', '[wRWxsKN394Q]-[220-230]', '[CZuH43NPynA]-[30-40]', '[g4xhZgKwiNo]-[30-40]', '[AuvFmMpgj70]-[30-40]', '[too9MtXBwts]-[100-110]', '[jPROsr_K710]-[30-40]', '[-i9gpG3vPwA]-[30-40]', '[8m-a_6wLTkU]-[230-240]', '[5ZX9Ig7XXsw]-[170-180]', '[edKvAj0fYxQ]-[30-40]', '[p4T1pddBia0]-[20-30]', '[dwSj0Rr3vFc]-[110-120]', '[Y0_Ixl1d7oQ]-[30-40]', '[MJtDDmS6xSY]-[490-500]', '[CVgLrsBPt4o]-[140-150]', '[P996TZp25PM]-[100-110]', '[Lc6OfmzV7Pk]-[30-40]', '[BpLUOKHl51E]-[0-10]', '[0L2ndtt60Q8]-[30-40]', '[NlUf1ppoSG4]-[130-140]', '[LKVSEQCLCLo]-[10-20]', '[LGrAwQnZ6Bs]-[100-110]', '[OMcoFfaCaGM]-[30-40]', '[b2-izZk5_BM]-[90-100]', '[yGXohnxCLCA]-[60-70]', '[MwE7REVj8JQ]-[110-120]', '[lbB2VQYIMo0]-[30-40]', '[e4EwrAN6lvU]-[340-350]', '[5JkPsWsq3E8]-[30-40]', '[PFtcnQqLdEc]-[270-280]', '[63jbksEqycQ]-[30-40]', '[u_TfWvyYY0Y]-[30-40]', '[GmGWvBNO8JI]-[30-40]', '[HrPnGYGrvm0]-[100-110]', '[-mA_bqD1tgU]-[30-40]', '[mFp1nrnlGx4]-[30-40]', '[gigxzYegRqM]-[90-100]', '[c-85TtcfVSI]-[30-40]', '[Vx4aO4-nr0c]-[30-40]', '[nB2Lf5TTmBs]-[30-40]', '[Bx3nzrmGXhw]-[11-21]', '[BMPmavj4keA]-[190-200]', '[Zxyfhub6nV4]-[80-90]', '[kbquMoJrhC0]-[30-40]', '[3tSPMzvuQpk]-[30-40]', '[QfM5-WqvquQ]-[30-40]', '[z_fEIZOv0JY]-[0-10]', '[vOU-qA25xNM]-[260-270]', '[stobfk1Mfjk]-[30-40]', '[SKt_3Nv2DHo]-[30-40]', '[xuepy6SFOf8]-[480-490]', '[5UXnulANF8g]-[30-40]', '[rLQ93N6RJC0]-[30-40]', '[vDmUlgsDOP4]-[170-180]', '[pELIBvAnbkY]-[170-180]', '[EUNTykrvpok]-[30-40]', '[hTlIqICkbW8]-[60-70]', '[Utl5it7YMUs]-[330-340]', '[B41tuPoJ61c]-[30-40]', '[TgCv5a22YUU]-[50-60]', '[wraN7rWUsfI]-[30-40]', '[aC3IBcRNyro]-[30-40]', '[e57SBRbMXbI]-[80-90]', '[9x7jWb4lE7c]-[220-230]', '[eRiGPyewJpI]-[130-140]', '[fM8elJ4jkic]-[30-40]', '[IpYw4nKPx5o]-[30-40]', '[S8WTaKLpmmg]-[150-160]', '[Ca3b8qNUbsk]-[30-40]', '[69oU6LfyQ_4]-[30-40]', '[4ezo771lGts]-[210-220]', '[GBsate-JQAo]-[120-130]', '[I0skZ6yT36E]-[30-40]', '[IyJ3a5uuCOs]-[100-110]', '[BWvKAcOV_co]-[30-40]', '[jUJNETNCxh0]-[30-40]', '[l3pK8prEnrQ]-[590-600]', '[VzYc-c-uHjI]-[30-40]', '[5XXAeSybGK0]-[30-40]', '[UfEGX0rNOvA]-[70-80]', '[j-TVVmVmygg]-[300-310]', '[Lg1HG6D_0Qk]-[30-40]', '[o8FsD7l5er4]-[30-40]', '[O5IulN0n6d0]-[30-40]', '[dj-DWiV1z9g]-[50-60]', '[XgLUXNAC7b8]-[10-20]', '[O8rHjrG3HM4]-[30-40]', '[zzNdwF40ID8]-[70-80]', '[Ee6MP1bIRUA]-[30-40]', '[0SNhAKyXtC8]-[30-40]', '[C0AQyOVGvFM]-[100-110]', '[3nfiGGQykxk]-[0-10]', '[Gow0TlxIx7U]-[220-230]', '[rLBGxAj9D14]-[70-80]', '[AYOlvoM5bjY]-[60-70]', '[TzPuAqjoL80]-[60-70]', '[AY_yCk4eTTI]-[60-70]', '[3Nwsd439zmU]-[260-270]', '[jBmP7xTI_TA]-[30-40]', '[zfkPKRn8ah8]-[30-40]', '[Emc18GpAeRY]-[80-90]', '[NZYDLDIyZr8]-[260-270]', '[AagemOzvoZE]-[30-40]', '[AgtY6m-b3Gk]-[30-40]', '[WW4_c2J79QA]-[30-40]', '[wsdH6cv4YkA]-[30-40]', '[JL4Z2_5Q7sU]-[190-200]', '[eWqD_VOympU]-[30-40]', '[PJRG2bwphUc]-[30-40]', '[vK9x7UQ9Y7k]-[30-40]', '[64auWicQqZY]-[40-50]', '[Pf9AaTV4-yw]-[180-190]', '[qM8F6ECriRc]-[50-60]', '[uQE3fLdzpKs]-[30-40]', '[O73wigUotGo]-[30-40]', '[E29kpquu8W4]-[30-40]', '[26IOFykrJrc]-[30-40]', '[-lPXTBXa0tE]-[30-40]', '[oEJ5bh-OIuU]-[20-30]', '[pIwn0udLJXI]-[120-130]', '[O2HttJtcec4]-[30-40]', '[He63KV_9Pwg]-[60-70]', '[rW5YKFsiWM8]-[50-60]', '[vDrbslhtX8o]-[30-40]', '[mQ1E8rx2dnI]-[220-230]', '[nvvXOfLs-ng]-[150-160]', '[CyFsI_EYFQQ]-[30-40]', '[0bRUkLsttto]-[30-40]', '[M9mc3HYL_GM]-[380-390]', '[L47F51OmZXo]-[110-120]', '[7YtKrL6ScXA]-[30-40]', '[cGrQw46ftj0]-[210-220]', '[-JvB5AL59fM]-[30-40]', '[PeQ8L_svYcU]-[30-40]', '[1IK4OeOqAEo]-[30-40]', '[JPVRBbdykSw]-[30-40]', '[mB2FAS0DNkk]-[60-70]', '[0-7PyzhzuYQ]-[30-40]', '[pqsU95TNNP8]-[220-230]', '[4ymXDU-48EE]-[240-250]', '[ILE12hEW5Ck]-[30-40]', '[kH-F9JzC7eE]-[80-90]', '[0abzD7hBTRk]-[30-40]', '[vxIF3B4YqW8]-[180-190]', '[rgWm0-a0kAo]-[30-40]', '[sZwZ2fOWWSg]-[130-140]', '[hdlnugbWjKA]-[30-40]', '[31O2j4aAgYU]-[30-40]', '[fvhbI-7e89s]-[10-20]', '[iZjIuV_cTe8]-[210-220]', '[MkTQQ0m8Ys8]-[30-40]', '[9ziKfjHWqZ0]-[40-50]', '[CodqNx1ukOc]-[30-40]', '[bPWbeWf5xNI]-[160-170]', '[puAclKsCbes]-[280-290]', '[8oTTgXIO0-I]-[90-100]', '[Y7SoAXBFUew]-[30-40]', '[DXd83S6NHLg]-[80-90]', '[tAdNaRRFFXg]-[30-40]', '[CyiPyjYX6AE]-[30-40]', '[OseeYF_ud7g]-[120-130]', '[vEN9szBPBkw]-[40-50]', '[NlCfScKw_Mk]-[30-40]', '[SGcjdZ19R1k]-[30-40]', '[4--05CAaDsg]-[460-470]', '[iCIa_pmLDqs]-[30-40]', '[JEJLTct-014]-[380-390]', '[In44gO8Ej90]-[30-40]', '[y_toDfeACWE]-[30-40]', '[Zbmm_hXcrA0]-[160-170]', '[I0q3IGmTkRo]-[30-40]', '[tIS1Jaw9dCg]-[20-30]', '[9Kut4r8hswE]-[30-40]', '[p8xxC2um9xQ]-[140-150]', '[q87TmUmVg0Y]-[130-140]', '[nxdHojfss_A]-[30-40]', '[1mB_cboJR8s]-[130-140]', '[2VFVe0RCn7g]-[10-20]', '[ojdqgnmcgYM]-[80-90]', '[GPwzpw_47Dg]-[260-270]', '[oARFeTnImOg]-[20-30]', '[RFbWkL818XQ]-[30-40]', '[hvmCuosF0Xo]-[10-20]', '[doHRurF8bf8]-[500-510]', '[bqMgL5qmZ-k]-[30-40]', '[cs-zcTX2tRA]-[170-180]', '[NJGo2fmUAII]-[250-260]', '[jrwhxVnvMdk]-[30-40]', '[V1A4wBgvPgI]-[250-260]', '[0kQD1P0_KUs]-[30-40]', '[vy2gUzgmBzQ]-[180-190]', '[8DHtPopFvII]-[80-90]', '[Wd4T3iTsgrI]-[10-20]', '[dMfKImuNJjA]-[160-170]', '[CYuYfvQv4eo]-[30-40]', '[_oNLyxk08oA]-[30-40]', '[iBH5X5SKirU]-[80-90]', '[gFxLnprPgv4]-[30-40]', '[tlDBOenCGV4]-[160-170]', '[UCBocxMCdck]-[40-50]', '[FdvGsAq99r0]-[30-40]', '[-cLzki-B06o]-[30-40]', '[L_nC2BvhRdQ]-[30-40]', '[nv1hWkBbG0g]-[90-100]', '[lnnlghshsVo]-[30-40]', '[Sp1YBy4h9OY]-[10-20]', '[ZUg7rRpFGvA]-[30-40]', '[ba3QPheW8mI]-[170-180]', '[DroAzooK4yw]-[30-40]', '[JzRb1OVpat0]-[30-40]', '[HLz3N5nG8fQ]-[30-40]', '[7dmT4SgS_EM]-[30-40]', '[qOTk01gmrRo]-[30-40]', '[pL71P2hVjMc]-[270-280]', '[dbftWJH0OvA]-[30-40]', '[ZoAfkpmztww]-[510-520]', '[CeaWlENtRio]-[530-540]', '[lDsQWSf1h3I]-[70-80]', '[An-4jPvUT14]-[60-70]', '[AcX1B_Pr-RQ]-[30-40]', '[FcwWl5JBnoU]-[30-40]', '[xmSMAmnoRug]-[120-130]', '[sOyHkcK_lOA]-[30-40]', '[-w8maIWtnUk]-[30-40]', '[MpjN21Z93JY]-[180-190]', '[S29WiN-bTWo]-[150-160]', '[iFSaNmZyPQo]-[0-10]', '[VCozi4GDpxQ]-[20-30]', '[afb7pI_01O4]-[40-50]', '[PuJxL6tLxm4]-[110-120]', '[3EXXs3x4Ius]-[30-40]', '[m9tnNkon_iw]-[30-40]', '[echeYDYFhlY]-[30-40]', '[nr9oLIsbDyQ]-[10-20]', '[kZBFQAQI7Pg]-[30-40]', '[xrbIZTswt3c]-[30-40]', '[AAFsg91kje4]-[30-40]', '[Xl4RSHQsnl8]-[30-40]', '[LaaC_q3QDUE]-[90-100]', '[5CtvEcPtknI]-[200-210]', '[xl4FJzeU0YA]-[170-180]', '[iYWvaxU5OXk]-[30-40]', '[7muzlOrbDu8]-[120-130]', '[QBhhtVMiQBQ]-[30-40]', '[hTNKYJ6suII]-[80-90]', '[iUxy2s5d60o]-[270-280]', '[zwfo7wnXdjs]-[30-40]', '[rs5ecH8Lh3s]-[30-40]', '[w0QJT6ywza0]-[110-120]', '[_yRFCl-z-EE]-[190-200]', '[X1_RmTiDC4I]-[30-40]', '[KSFND-AdqZs]-[90-100]', '[7ZW8xO37bA4]-[10-20]', '[pS1X6Au1EAU]-[270-280]', '[2i4UNf8tjvU]-[30-40]', '[DaiVfxATCEE]-[210-220]', '[WYxXUBP_XaM]-[210-220]', '[FSQ3E4XbpPU]-[30-40]', '[Uc_1PzGr5xw]-[10-20]', '[7e46Hfy5j8g]-[30-40]', '[c3T1gWSVp6c]-[140-150]', '[grE0lwTsSPg]-[30-40]', '[SMjYheNdAzg]-[30-40]', '[i3zayf6Hiog]-[30-40]', '[6HQqly6duac]-[210-220]', '[gAQiARaliPA]-[150-160]', '[-RYtUAsNhF0]-[30-40]', '[0298WjE3_tk]-[20-30]', '[s1l4Zjqoqdg]-[380-390]', '[TnCXmm-v3Ys]-[140-150]', '[PQ7cX2Cnusg]-[140-150]', '[w9EGDo9Yybc]-[530-540]', '[aeujZtBvMFY]-[320-330]', '[AlVr7-ntuqw]-[30-40]', '[58f4AsxOYhU]-[30-40]', '[J8lCxfaiHeo]-[80-90]', '[EL2DtgPD4J4]-[30-40]', '[1FU5odlgLmo]-[30-40]', '[WZd2nT2Afds]-[30-40]', '[cFIZraIPAXE]-[250-260]', '[wFTlySgdWX4]-[30-40]', '[NLQts9t7d8k]-[50-60]', '[w-qG-P9E1U4]-[500-510]', '[pwX5SArqGKU]-[260-270]', '[07xGXxIHOL4]-[110-120]', '[T0oF8MyYhBM]-[30-40]', '[7-mNJ4IUY5Q]-[30-40]', '[XYOnq7ju7o0]-[30-40]', '[asT8yaJPP1s]-[30-40]', '[WI2d5vDJeLo]-[270-280]', '[r4JRDHYukZ4]-[390-400]', '[BVt8RgNrwbQ]-[30-40]', '[aek3GoFr5MI]-[50-60]', '[DDZlMjb-0i4]-[150-160]', '[bm5IT7e2vvI]-[120-130]', '[eJFZuX0WHgk]-[70-80]', '[iFWtsT5zRKo]-[40-50]', '[u3n2OcpEC48]-[100-110]', '[-ZHpNr_KRXU]-[30-40]', '[VSAbMy1Rlio]-[30-40]', '[pLqa0cqsICA]-[180-190]', '[Ve6Zy1BXBbY]-[30-40]', '[PqTPbZf44E0]-[30-40]', '[CPX6f-Awx-0]-[60-70]', '[0jFQ21A6GRA]-[30-40]', '[59Mt7J_0KT4]-[0-10]', '[wXWpkfGfZD8]-[30-40]', '[T9dKp1EN4p8]-[30-40]', '[Yk2ZrS0ZS6g]-[30-40]', '[uKGo4phKqLM]-[10-20]', '[52odOK7G2kg]-[120-130]', '[0K-zyeLuKho]-[30-40]', '[knQuxZj9rTA]-[0-10]', '[IL1n6jzABVw]-[260-270]', '[v592zQpuaJA]-[390-400]', '[gpNzFsxwy5k]-[190-200]', '[CrjSYvGWusQ]-[30-40]', '[InKK8z21UYo]-[180-190]', '[ZX7EzqMBjfo]-[160-170]', '[6Sdu56gquJE]-[0-10]', '[kT0KMsfD4d8]-[50-60]', '[0DizopdPMBw]-[30-40]', '[UDg9vuBDtVU]-[30-40]', '[0nk7utNkHOY]-[190-200]', '[agw-ujSdX0A]-[30-40]', '[W3DwueAy65k]-[130-140]', '[XaqVAF-ADWU]-[10-20]', '[HvOSaS8sXQM]-[30-40]', '[NSyqj1DXZKg]-[130-140]', '[YZH-PZBir3E]-[0-10]', '[B1vY7kxQ9Xg]-[0-10]', '[_qf0UiKtB3k]-[30-40]', '[WT2iyJmKkc8]-[120-130]', '[azyNUtTHvaE]-[30-40]', '[d9Oa-2_r2j0]-[30-40]', '[vZ9IanI59gE]-[550-560]', '[tz2TlSMmTp4]-[30-40]', '[r6QD2E-YesI]-[30-40]', '[dalyCstquy8]-[150-160]', '[SkIDF7iNJQE]-[30-40]', '[Vr7wbGcvFts]-[20-30]', '[eWNERam16Hg]-[230-240]', '[YcfGSJB1YvQ]-[430-440]', '[N0i99VyZCg8]-[70-80]', '[x6U1gX5a_4M]-[30-40]', '[PTCsH-ffeq4]-[380-390]', '[_nrz_BawPMY]-[160-170]', '[OwUzGq0ceT8]-[30-40]', '[9FLDpfkbxZs]-[330-340]', '[Ou7vteWmqfw]-[120-130]', '[4L9KyVVsQOc]-[30-40]', '[zTuxNA1y6Os]-[80-90]', '[Y8ULUSXWTcY]-[390-400]', '[LGW99kSaf6M]-[400-410]', '[Zo9xROGuV3k]-[30-40]', '[jFek2xLbEww]-[190-200]', '[XrjkzI6TVwc]-[30-40]', '[ANaaOqwO0Uo]-[30-40]', '[tpamd6BKYU4]-[30-40]', '[8OsmFmhNjoA]-[30-40]', '[_78P-0zWJtg]-[420-430]', '[TZlFTbvfKPE]-[170-180]', '[AF7sah5a_DE]-[30-40]', '[A-oSBMP-Zy4]-[30-40]', '[yOVaak2hemM]-[130-140]', '[QBMM1ocXkhY]-[30-40]', '[LfbGHMumxIQ]-[30-40]', '[iqOPJWWKo90]-[30-40]', '[Zon9WGTwAME]-[210-220]', '[WeDA1mDFSCo]-[60-70]', '[VJ-dpTx_3Cg]-[30-40]', '[ql7aH8wF6JM]-[30-40]', '[IQxr3xwAbKk]-[40-50]', '[yi4-kGV30qs]-[60-70]', '[ZOGMpGQQ3FI]-[30-40]', '[C0sSgrr5xrQ]-[30-40]', '[fw_cFbj9eHQ]-[270-280]', '[kR2yBlL6nFU]-[50-60]', '[dbldb9tq8ng]-[30-40]', '[1ZaxqZMs21M]-[220-230]', '[VeAomElRCJc]-[30-40]', '[jlmCu2GMoG4]-[240-250]', '[hmkPWxTIwwU]-[30-40]', '[U6SYfguaJtk]-[30-40]', '[99ZgIQwLC60]-[20-30]', '[FI_Dl0Cmd38]-[30-40]', '[OjvWDzPGeic]-[5-15]', '[Dv21JlCT4_k]-[40-50]', '[VrqBeY3kfKI]-[120-130]', '[QT1SjY9mQxc]-[20-30]', '[DB38NRSHw9A]-[30-40]', '[izVCz3P43p8]-[10-20]', '[62C6TngDeXI]-[30-40]', '[NPXZIqxKvXA]-[30-40]', '[P25JeM4lPGw]-[30-40]', '[tjQTZM-sqS0]-[0-10]', '[KDuusOmEMHg]-[160-170]', '[Y5RVYmf3uWc]-[30-40]', '[N5BAnG2zoUY]-[30-40]', '[X-uVubaJ3II]-[60-70]', '[sd1gAgsXMsc]-[370-380]', '[1lgqqW5TsJk]-[30-40]', '[OOik9i9wrU8]-[0-10]', '[Ts3ZcUaELzA]-[30-40]', '[_lq8nEXh064]-[30-40]', '[cKmK-nFdMXM]-[30-40]', '[UOKWQ2EHJQI]-[20-30]', '[Hnk45Z0EAxg]-[150-160]', '[ASgLbz48BaY]-[30-40]', '[e1sWvJsGOAc]-[300-310]', '[jjYXRmE19lQ]-[130-140]', '[r_TgaHCsYB0]-[30-40]', '[qI-Ji4gtBPM]-[190-200]', '[UsdoUjuczY4]-[30-40]', '[NRWlHRvaDcQ]-[30-40]', '[26jTWRMRoxY]-[30-40]', '[qZ_-5JplSVg]-[370-380]', '[Ux3YosKD-9I]-[30-40]', '[EGIeykrN4eg]-[410-420]', '[Fh53p0Tnnxg]-[130-140]', '[JjF1G5wgcvY]-[30-40]', '[z6SNngkMAug]-[30-40]', '[2YQPwRLB1s0]-[30-40]', '[AOgbZUl0y0A]-[30-40]', '[R6k2BkwZt1Y]-[120-130]', '[c6Fiz5IznkU]-[30-40]', '[yzT9nsHslAk]-[30-40]', '[oTXKGrB3bCA]-[140-150]', '[IqV9wp0IeAo]-[210-220]', '[qfVIeq7s6tw]-[460-470]', '[E7q_QwLYI8U]-[210-220]', '[st92BzeUzFU]-[80-90]', '[BC7dI3lQ2Cg]-[30-40]', '[p3DLHNuCYhU]-[220-230]', '[eI4PbSh6g_Y]-[30-40]', '[UIOnnpaqBy8]-[30-40]', '[-v5hgCh3M2w]-[30-40]', '[jd94Ox7KJ9Q]-[30-40]', '[II1oyaWPiD0]-[160-170]', '[Q789S_9JCio]-[90-100]', '[56Cm1AkbfbU]-[30-40]', '[Le4aGNS8e0c]-[190-200]', '[cdIvqn14xgI]-[30-40]', '[KPnIFb7T7VM]-[30-40]', '[oBwt8T8P8Zs]-[380-390]', '[76ON0Ixrr9s]-[30-40]', '[uE3BHXXiCFs]-[40-50]', '[3NAqH9LYDyU]-[30-40]', '[JbWaSZPOh18]-[30-40]', '[aDlWOvCdNMk]-[30-40]', '[UrgzGbGVV8I]-[30-40]', '[7IllUjk5fk0]-[30-40]', '[VuWr1HXHoZg]-[30-40]', '[PWVr9weg00U]-[170-180]', '[ovVrS-q3Rzk]-[30-40]', '[8vFJX7NcSbI]-[30-40]', '[AcX6rAwFTiY]-[260-270]', '[mJuJfKbcJcw]-[30-40]', '[WO_Y7djT2k4]-[100-110]', '[ZAT2_-x59pY]-[10-20]', '[l21xSYRR_Xc]-[30-40]', '[DlU56FGTVEk]-[30-40]', '[AVmJF1uaRuE]-[30-40]', '[23xC7lTBikU]-[20-30]', '[GrbrWNohr6Y]-[30-40]', '[CN2QSmhP-HI]-[30-40]', '[zir3uL14ijM]-[170-180]', '[hlquKjPgxmY]-[30-40]', '[yPou7kokTgA]-[30-40]', '[rkapTdi8NTQ]-[30-40]', '[cG1dpyC8gV4]-[10-20]', '[05JAmKFVy44]-[20-30]', '[QlaW568SeDc]-[310-320]', '[b6hr31Qaemg]-[130-140]', '[V0zQHNmz0gU]-[30-40]', '[S2yXmXUJ5xU]-[30-40]', '[RVlXLa80vcE]-[30-40]', '[7y9RfZXJZsk]-[90-100]', '[mlpTCec4igo]-[90-100]', '[w3QIsHxQfPE]-[120-130]', '[b98BJ36K1wo]-[200-210]', '[B90BOtSOD2Q]-[410-420]', '[WPguqXCBQCI]-[328-338]', '[8hO1S9VIfPY]-[380-390]', '[4CkZqT26Vb0]-[30-40]', '[68XchGI6H-4]-[570-580]', '[s2iIZ2WNuKY]-[10-20]', '[7NnvEryyYdo]-[190-200]', '[XmMN-6g1L8w]-[130-140]', '[bAJrcYJgllE]-[30-40]', '[YxkYVsE0UdQ]-[50-60]', '[B7V_grbxflg]-[30-40]', '[G18Nt0ZeEJQ]-[30-40]', '[6KXd7l5pThg]-[30-40]', '[XvN-qr-WYmw]-[110-120]', '[R6V85er9VXc]-[30-40]', '[bVtHAk5w2Z8]-[30-40]', '[jhgX0OOoytQ]-[30-40]', '[YAVVMxqtxGE]-[40-50]', '[oh0EWEvJI90]-[30-40]', '[X96v9LlsjJM]-[30-40]', '[ZPK1hSPI540]-[220-230]', '[5n8I-br2n1U]-[70-80]', '[GUwBLItoJXk]-[60-70]', '[b0dVykd2i6g]-[240-250]', '[qcjzfHmQvxg]-[20-30]', '[U8yqYlErUz8]-[200-210]', '[-WvVG0wHcTc]-[310-320]', '[YNdexakUGOo]-[180-190]', '[tnSM-SnE5Lk]-[520-530]', '[HQ9HlWProm0]-[30-40]', '[R5JRh08zgMo]-[30-40]', '[LJsYl38zPOQ]-[140-150]', '[g_bgmnJ1b_g]-[30-40]', '[nZ5_UUUS8X8]-[70-80]', '[si_IAMPOXlQ]-[170-180]', '[0RpkkfkUBRU]-[10-20]', '[p20KE0LhL68]-[30-40]', '[A2bI-MIIJfU]-[30-40]', '[OA63sRxGk6o]-[170-180]', '[bTLgeqCaYMY]-[0-10]', '[WMtztIW1f6k]-[100-110]', '[YrGQKTbiG1g]-[30-40]', '[M4rXhyyvERM]-[40-50]', '[HtSznF9_784]-[30-40]', '[qW4kBJsudLI]-[30-40]', '[y5I5pq0bXmg]-[30-40]', '[qRCjs90-1RQ]-[30-40]', '[55vMO5LzMHM]-[30-40]', '[0S5zWt91Bwo]-[30-40]', '[2kORDnISun4]-[30-40]', '[oMgSuyPBINs]-[30-40]', '[X7LrhZX4rdU]-[30-40]', '[yfXvz2FyZ_U]-[140-150]', '[THfTLXBLpJE]-[170-180]', '[xe9vDoF8TQM]-[60-70]', '[769EHEG4Mqc]-[0-10]', '[vqRFzhWik2c]-[240-250]', '[Wnl0qbVynL4]-[30-40]', '[M2iOUwFHv9Q]-[140-150]', '[nZQZ7CpXqAU]-[30-40]', '[Hc_UM8l_sTg]-[30-40]', '[ODOrls3MuZI]-[190-200]', '[tG5C-Smp-eY]-[30-40]', '[B9ME0Vcm_xA]-[190-200]', '[OO1Q-3kXCtM]-[10-20]', '[jPOWgfA0zAo]-[30-40]', '[26HLgXWF-Co]-[30-40]', '[9gSOOPDuD4Y]-[180-190]', '[3jLef5eHgzU]-[30-40]', '[S2u5IE0n1ws]-[140-150]', '[jKjj66pRXZA]-[20-30]', '[lymmNwQA0WA]-[30-40]', '[AFwtBviVhhM]-[30-40]', '[CKO35LsM0XI]-[30-40]', '[40sAH2ZB0Pg]-[30-40]', '[-4NLarMj4xU]-[30-40]', '[RSryuuvUfDM]-[50-60]', '[58JwiVM8bYM]-[30-40]', '[xUVvBF9BWdg]-[30-40]', '[j3a60_lwWjE]-[30-40]', '[3Gyi7AvDLzc]-[30-40]', '[gAURHUoIK0M]-[30-40]', '[uuHTPvG-BYI]-[240-250]', '[33LJ36nAozM]-[30-40]', '[AzGtPHlrlzU]-[70-80]', '[T0OFKHj6878]-[30-40]', '[yCGM8aJV6fM]-[30-40]', '[K2h6UiZSoZ4]-[30-40]', '[tWwvTUm9RXs]-[40-50]', '[keHCWa6XfGY]-[30-40]', '[fjxD32KIHgE]-[30-40]', '[sgVqMKtUMsA]-[200-210]', '[MHHshnnqyco]-[220-230]', '[uqAY4lCUcRY]-[50-60]', '[fjj9NJX8GB0]-[400-410]', '[XnHAH2aPHk0]-[30-40]', '[nrcfdP6LrLo]-[30-40]', '[2ATMQxWVpXk]-[0-10]', '[v5SsASLy2c8]-[210-220]', '[XfLI8gHCuFE]-[90-100]', '[HWZdPxRzCWs]-[30-40]', '[Nymjfq2kXnI]-[30-40]', '[fD1xB9lDbPQ]-[30-40]', '[qHRRWdWvjxI]-[30-40]', '[TqWmuwAYmnI]-[20-30]', '[T78nMdsJMmk]-[170-180]', '[fAfk9yrGhWw]-[200-210]', '[55qucu8Zs_I]-[90-100]', '[apA0IY_5-2g]-[40-50]', '[2sIfE3KOi5s]-[30-40]', '[FFQVVwFjy7s]-[50-60]', '[SNhfvhWPXNc]-[30-40]', '[kQw2NQ_eqyg]-[30-40]', '[kMNL4Y4XMhc]-[100-110]', '[UxrAsZ7Z09Y]-[520-530]', '[qVdBBOpSoN4]-[120-130]', '[Lhw0H3P4zUE]-[190-200]', '[YwUa3OS92ZQ]-[30-40]', '[PcdpjUIa8l0]-[30-40]', '[HpkPTa1fQDE]-[500-510]', '[7TmKzUgWiRU]-[0-10]', '[tUZB_Xf1m6k]-[270-280]', '[gsBXngKgy-Q]-[30-40]', '[spyBrs3relU]-[60-70]', '[TkHZdMJPwKc]-[80-90]', '[aY8-pXDdwiw]-[190-200]', '[rsvHQCTgHvg]-[30-40]', '[F8MCOgWhgvY]-[30-40]', '[AEyeITzfPa0]-[30-40]', '[2bcnAoZbptI]-[0-10]', '[2WxUIkF2zEw]-[10-20]', '[BYwS1dJRTi0]-[30-40]', '[ZSGRzalgx4s]-[60-70]', '[kZPz8ExTzBk]-[280-290]', '[7cw7rDLcujI]-[30-40]', '[vnwKpQeza3A]-[320-330]', '[bcybO-SMY5E]-[30-40]', '[TWm0OilO0uw]-[30-40]', '[1Xtkou9dtyA]-[370-380]', '[ZbdmiykoJm8]-[70-80]', '[Lq0LMMZfHCU]-[140-150]', '[OR_YbeqV5tA]-[100-110]', '[0TiEO149Ydc]-[30-40]', '[jjNxc9Zf9s8]-[320-330]', '[8nJ2MhvhnJ0]-[30-40]', '[sjiE5CfyuHU]-[30-40]', '[hNKTrKk4hZs]-[80-90]', '[gW33LYEvoaw]-[140-150]', '[IO5QJRyoqO8]-[290-300]', '[AElgGuUSSKE]-[30-40]', '[6nWWTNVRDjw]-[30-40]', '[AjLuenrAsbE]-[30-40]', '[09lQmg2wvsY]-[100-110]', '[wg_kYW4xvz4]-[30-40]', '[XWhmLbnrtd0]-[160-170]', '[b8okzVltB5Q]-[30-40]', '[AJROvxlmo40]-[570-580]', '[XQB27QPic3k]-[30-40]', '[m-eyGzf9Ux4]-[250-260]', '[MM0seezR2F4]-[100-110]', '[sOSU7p9pLjs]-[130-140]', '[FY8bZRm_QiE]-[50-60]', '[7jWRIjFaoeU]-[30-40]', '[XdxTZ4-sJvY]-[260-270]', '[liuCTk2nPG8]-[30-40]', '[AJw-x30L46E]-[80-90]', '[p2yedR_jMTU]-[0-10]', '[L9GXrmmlYhE]-[460-470]', '[hnlVKC7rxdg]-[30-40]', '[A_Yd5huF2Pg]-[30-40]', '[g-9SK0or81c]-[30-40]', '[xx1RccwlF5g]-[380-390]', '[ik-fXNjxw58]-[0-10]', '[b2XAPiRUoN4]-[30-40]', '[UDTsCTLkZzc]-[90-100]', '[A6ilKRqIDH4]-[30-40]', '[DYp8940tHso]-[0-10]', '[ZFG9jHrLtBE]-[70-80]', '[snJDZAnTMwQ]-[30-40]', '[j3lH_Tevw5o]-[30-40]', '[0trWdhSvab4]-[30-40]', '[P4zWSoib5BU]-[30-40]', '[0LLlcPiatiU]-[210-220]', '[v582kPp43Mg]-[30-40]', '[wc4UEh8wvCA]-[30-40]', '[wGievbsKUnk]-[100-110]', '[oag3I4VRXyM]-[100-110]', '[uoZ9Rs4E-6Y]-[30-40]', '[-w12aSkQ9No]-[30-40]', '[EZAwPnGOJPE]-[60-70]', '[ltysCJWnvsI]-[30-40]', '[A2NtJ12KIuU]-[30-40]', '[Ex18Xwznj60]-[30-40]', '[mQM3Fd3eN9E]-[30-40]', '[gwBfZJ5IGOA]-[0-10]', '[oXBGZoBYaLY]-[30-40]', '[wBozBh7BR6k]-[150-160]', '[w5EbmsPfGSo]-[0-10]', '[HbX1ZIuD0ac]-[110-120]', '[GYCfrx0ruz4]-[30-40]', '[9vbsI9xFuo8]-[120-130]', '[4H1nc2Xv2Hg]-[30-40]', '[E7D42u8a5gc]-[30-40]', '[XcvY-NdM8WA]-[40-50]', '[ULXbXpLcoVA]-[30-40]', '[EXRKJRL0TDU]-[50-60]', '[zayC5mUo7sY]-[100-110]', '[BUzsQ6WohH4]-[30-40]', '[NBnz0xV9nb4]-[200-210]', '[uRA5Ue30fsY]-[110-120]', '[-eDAoheZrY8]-[30-40]', '[mwwnfWgV_5U]-[160-170]', '[Ld5G00HlbQs]-[30-40]', '[sR8rlTIU8_Y]-[130-140]', '[VpIhbDN58mA]-[30-40]', '[E2v025Ilsqo]-[60-70]', '[Q8f6y2IcVg0]-[30-40]', '[9Qle4fgMbzk]-[0-10]', '[3XL825fK6UM]-[130-140]', '[yNIZaqTHUnc]-[30-40]', '[W3lKc2hj4XU]-[30-40]', '[jcZQhxb5lyw]-[190-200]', '[sEIn8YYD9jw]-[170-180]', '[maeSHVZX8xc]-[60-70]', '[Qe71m678qEU]-[30-40]', '[xR2p3UED4VU]-[20-30]', '[8kx5ST65Fog]-[90-100]', '[I368EWBLIs4]-[230-240]', '[vgpV6F9tge8]-[30-40]', '[uS2kPLvEo6A]-[220-230]', '[7pYavsK9sPg]-[140-150]', '[bha-d3HXdMI]-[60-70]', '[NX3KJ-tVdMI]-[330-340]', '[uiHyWdYkBvY]-[170-180]', '[KeSbjmMeyrY]-[30-40]', '[Tvwi_YuLehk]-[30-40]', '[v8bBrrXUpdo]-[40-50]', '[2gc1L3g1itU]-[20-30]', '[VCIN1OJkNbg]-[30-40]', '[JpMHnsdsCiY]-[0-10]', '[qwOLhVbuhpM]-[30-40]', '[8wty3wJfmEY]-[330-340]', '[Cn3xoxvbkF0]-[30-40]', '[1MwaXCfUvX8]-[110-120]', '[BYi0fAZtBls]-[30-40]', '[IrIKXhYuwuU]-[30-40]', '[ZwfzBagtpV0]-[30-40]', '[D4GVgBX1eYc]-[80-90]', '[GbjtSTTEFK4]-[30-40]', '[0_hH79HnEdo]-[30-40]', '[VtHkxrta5xQ]-[30-40]', '[XnMokzAE5kk]-[30-40]', '[B_kAtTBUDIA]-[30-40]', '[qDSvHlHbAqM]-[60-70]', '[QvwD7NEg3Mw]-[30-40]', '[WK-gdfCurCg]-[10-20]', '[c_a74UO2ftg]-[330-340]', '[zNAHQYshxZk]-[310-320]', '[E3F9bzeCgTQ]-[30-40]', '[4a1a-lmDVaY]-[30-40]', '[oSDZZHN77PI]-[80-90]', '[thHSYzhoLo4]-[10-20]', '[NcsYdCbKgcc]-[90-100]', '[nlWXsfjHeA8]-[120-130]', '[1JpeDWbgUO8]-[30-40]', '[N4tTZn8WlDM]-[30-40]', '[IC_Wpalzzm8]-[30-40]', '[jOkHEMsCCFc]-[30-40]', '[l0fCHZhKEDA]-[30-40]', '[gIQ4QrKXjCc]-[130-140]', '[t-L_PuzR67U]-[50-60]', '[_5fwnVeZbvI]-[80-90]', '[k5kPBsMFlOc]-[30-40]', '[Hl8OrRlMwi4]-[10-20]', '[zx_vcwOsDO4]-[50-60]', '[SYVcaQ1Bzu8]-[110-120]', '[v0tYHz5mk4I]-[30-40]', '[BMgYWTTJv3s]-[240-250]', '[AkbCw7oVkw0]-[30-40]', '[4T_5clu_0OM]-[0-10]', '[k_ET0i2y0Ow]-[30-40]', '[AVogdV8khxc]-[30-40]', '[6QAZJ4H_5rA]-[50-60]', '[MfX7Q0ucts8]-[30-40]', '[ksImihlU3qM]-[30-40]', '[8LYWfpPUokc]-[330-340]', '[BEZdszHKGTQ]-[20-30]', '[8fInAz_GICs]-[0-10]', '[ouVuF-y8bog]-[30-40]', '[SkFG5SoXsVk]-[50-60]', '[CdWA-SNcYpM]-[160-170]', '[O66lIRbF4Gw]-[30-40]', '[evG8CQRCdV8]-[30-40]', '[ET7yQfaiF_8]-[30-40]', '[1FnA3w94zXI]-[30-40]', '[Rf7vygfb7w4]-[10-20]', '[bpaq5wQKOkU]-[400-410]', '[bPYbRSI16IY]-[0-10]', '[2T1P9ovsl4A]-[30-40]', '[DQrdOgRb-oA]-[10-20]', '[JCsuOzlwJqA]-[100-110]', '[d2gHgzfC-Oo]-[30-40]', '[HMQfp_qtF-M]-[220-230]', '[AwcuLXAPFDs]-[30-40]', '[c9tRbWSk7c4]-[30-40]', '[6Q5N1DfzGj0]-[230-240]', '[6PWiDlWmPs0]-[30-40]', '[FDO5BekX478]-[390-400]', '[BRTHyoVgZT0]-[30-40]', '[xUMzNtC2ITA]-[90-100]', '[Y7mTjfgcybQ]-[30-40]', '[-M-6VinyMiY]-[30-40]', '[oZF73R89bk0]-[140-150]', '[DQzg3cZeYSw]-[30-40]', '[669Fk7afszw]-[10-20]', '[D-PxXM2I5gY]-[0-10]', '[M61BBJpvvx8]-[30-40]', '[szWQPoOH2Rw]-[0-10]', '[j8FYy5YfK7k]-[290-300]', '[e9ptOl22Duc]-[10-20]', '[MFxMPOAbUPA]-[260-270]', '[B32m9Jqqrpo]-[30-40]', '[hM88FG1_D5Q]-[190-200]', '[BXv69uAoHk4]-[20-30]', '[MPe6ztPtF0Y]-[30-40]', '[_cf0WYQcNvk]-[570-580]', '[_vwBe9ZXWXE]-[10-20]', '[otVPTo72q4w]-[110-120]', '[v88cAXP03As]-[70-80]', '[B4KIQtk7fT4]-[230-240]', '[MZhaDGgULtc]-[80-90]', '[GQbytKkt0tg]-[10-20]', '[H6Y_7Ax34-g]-[290-300]', '[drqKxGmdf8Y]-[30-40]', '[EgwGYmAH0BA]-[0-10]', '[5i0zq91Ocz0]-[40-50]', '[kjmmzA6i5rk]-[60-70]', '[3PoC1-xd4Yw]-[30-40]', '[5gyMt0YzPQ0]-[30-40]', '[MVq9PYtypy0]-[30-40]', '[en56uOGTwzg]-[0-10]', '[gI-ovjTWBzo]-[340-350]', '[qbIPQGY8RRA]-[90-100]', '[4refolVb_uQ]-[30-40]', '[P2F4iNqJmNU]-[30-40]', '[wYtd_Sq2-Tw]-[240-250]', '[fYk2U9yJvps]-[30-40]', '[3b3s0TvjGwA]-[0-10]', '[pcOPueObfWs]-[130-140]', '[Aro-HcWNsHI]-[30-40]', '[KzydTOkZty8]-[140-150]', '[03z0rpIkm5g]-[30-40]', '[RmyyW-TMkVc]-[10-20]', '[myGffB4WcF8]-[30-40]', '[MeA8CSKAuvw]-[30-40]', '[bZuXMxR2S4U]-[40-50]', '[Dg8BLvkzdr0]-[30-40]', '[bzOeufhFITk]-[30-40]', '[LR3U4b_fVBc]-[190-200]', '[s3Q8pVDY7ZI]-[130-140]', '[wMi_0eEIpcM]-[220-230]', '[JL9Xxzf9e2A]-[30-40]', '[0EOQco76eXQ]-[30-40]', '[1bSP4wLfMpA]-[0-10]', '[PqN7aT4dVN4]-[390-400]', '[Q2Omtt4A8ls]-[30-40]', '[h542YbZuwkQ]-[60-70]', '[GFGwPa9d9XQ]-[30-40]', '[39MksqVeLdY]-[390-400]', '[4_s5vHgfxnw]-[30-40]', '[Ipow026xzVw]-[100-110]', '[rQcecqZtGvE]-[590-600]', '[JHvLuYk6TfI]-[70-80]', '[XNlFs7Yjauk]-[40-50]', '[D6xrH93lnoc]-[30-40]', '[V9jIsOTC1lY]-[30-40]', '[-6QGvxvaTkI]-[280-290]', '[7hKG33wkr0k]-[80-90]', '[_n3r2inlqBc]-[520-530]', '[0soVCtJgDTk]-[5-15]', '[maZ3b5w6xVI]-[440-450]', '[4kKVGPDCIK8]-[30-40]', '[-R0267o4lLk]-[60-70]', '[j6O_U9EseKQ]-[30-40]', '[9Cfs00bZRCg]-[30-40]', '[8UhdwnsckJ8]-[30-40]', '[TiDdR-6bIcY]-[90-100]', '[3R8xDvhJk54]-[30-40]', '[JSLqi_TsMzs]-[0-10]', '[v2Ng8iGwf40]-[30-40]', '[Pm6vRblouxc]-[170-180]', '[Byk9p21g51g]-[30-40]', '[JP637fg_ZC0]-[30-40]', '[lwdDm3UO5WM]-[30-40]', '[iTWZsfVCyBs]-[30-40]', '[HMJe5jS0Yt4]-[30-40]', '[WEXJSNm_T0o]-[180-190]', '[QMoRiBjRLKc]-[30-40]', '[nnUva-yCR08]-[120-130]', '[GW6pti04qIo]-[130-140]', '[Obtx-A9Lt5c]-[10-20]', '[O84YjlJ_Qw4]-[40-50]', '[MpS2SSIhe2g]-[30-40]', '[8Y0FRjkX9xI]-[100-110]', '[aGMdcxeF6Ak]-[270-280]', '[UVMBRVJTvzg]-[30-40]', '[CfRzy-RtqnQ]-[120-130]', '[zSGWoXDFM64]-[30-40]', '[PF6Mn51Nkvs]-[30-40]', '[BnkDQXlrIX4]-[240-250]', '[WSMdqFEjGXE]-[120-130]', '[U6aLiMIlqCc]-[60-70]', '[y6NS77HLjEE]-[30-40]', '[UQKLBsZJsww]-[30-40]', '[JorNR3IXDyc]-[60-70]', '[HdRPdh-cSTw]-[140-150]', '[5dG1oPahyto]-[420-430]', '[7uKkUTml-DA]-[260-270]', '[_xC7IXGWlk4]-[170-180]', '[q7s7C4oNlFo]-[30-40]', '[8tY6nioUQIw]-[220-230]', '[7WR-hMV2RKs]-[170-180]', '[AFwmMFq_xlc]-[390-400]', '[sYJiHxmQWjo]-[0-10]', '[6J3X0whM_-4]-[310-320]', '[5w3s2T0VBug]-[20-30]', '[eXrJL1VUQNE]-[130-140]', '[YeIXmKPyTVY]-[30-40]', '[b12xqPnM0So]-[140-150]', '[_Rpn2FUAUgY]-[20-30]', '[FsnRM2irjvI]-[30-40]', '[S7TYAcOEPt4]-[30-40]', '[fWwV7o4VjEQ]-[30-40]', '[BAUQY0e25DM]-[30-40]', '[l6LUPlmua6I]-[70-80]', '[7_80oVTLkGU]-[30-40]', '[ZfSlWX1C8yY]-[30-40]', '[2umjh27MkjU]-[320-330]', '[tJHFSRTPyew]-[120-130]', '[j-93krRXAaY]-[20-30]', '[19-GI2LzOtc]-[140-150]', '[4EwWBI-tHLk]-[30-40]', '[I6eU2qRjJ7Y]-[520-530]', '[We9P_UcHNk8]-[30-40]', '[DysXetu2I0E]-[30-40]', '[S7rP6coeLTY]-[40-50]', '[kcTwJwdLTSo]-[50-60]', '[xZukWGb52BI]-[30-40]', '[qrY7PW5guxk]-[30-40]', '[hlbjpc48Vrs]-[30-40]', '[0AhX-ReXovI]-[120-130]', '[p9nbp0Oo1U0]-[80-90]', '[aVNcweinmEM]-[60-70]', '[Dr4Ijx7Q9jk]-[30-40]', '[zgI-Lr6Pbcs]-[30-40]', '[GcbCOmNiVm8]-[0-10]', '[C33WdI64FiY]-[30-40]', '[Wdtku1dqJo0]-[30-40]', '[XPGtOugQ69U]-[290-300]', '[-m5ZlWziIeA]-[200-210]', '[kp5OxEzxuSg]-[280-290]', '[XkBXsaSXDJ0]-[30-40]', '[jfxTOlXF3Kk]-[100-110]', '[NJ_Ha89QjiI]-[70-80]', '[7fVfG0DrLjI]-[30-40]', '[e4abjaPD9R0]-[270-280]', '[r7Ve8ExE8YY]-[150-160]', '[EtmKuWPpjG0]-[230-240]', '[ZKkfCOqLrT0]-[30-40]', '[TqIptTnXb20]-[100-110]', '[C8Euv69GR3U]-[0-10]', '[UkZ76EFfLSg]-[30-40]', '[br4A2uNud50]-[200-210]', '[ZE0f_S44O7M]-[180-190]', '[XEIP1OUXU8E]-[140-150]', '[FDYIdBZUl2Y]-[30-40]', '[JFGNmPzPXeA]-[30-40]', '[dIPW9gLGSx8]-[30-40]', '[rQeikHMQGOM]-[30-40]', '[f1NV9qTjOv8]-[90-100]', '[SSVlD_ZDb70]-[330-340]', '[UHvYrO1IGCc]-[380-390]', '[DAPGvg8qOAU]-[0-10]', '[wT2Y0DCq5LI]-[30-40]', '[DA8lw6Mq0DY]-[360-370]', '[id5ibIqjRto]-[110-120]', '[2ZgEbNi--8Q]-[30-40]', '[xVi1wNljxjk]-[390-400]', '[RlcIJsgtU58]-[30-40]', '[2nsZhXxes68]-[60-70]', '[2Ic1zm9mBjk]-[30-40]', '[GFJNgqcX7u0]-[30-40]', '[qm8sJxsZ5VY]-[30-40]', '[TIAj-fi_R7c]-[120-130]', '[H4tyvJJzSDk]-[30-40]', '[8XGXHDMIJw4]-[150-160]', '[_G3lYKAITu8]-[490-500]', '[f8fUFmjqXZo]-[30-40]', '[1jptuEjuTig]-[30-40]', '[BkoCi-IZccI]-[30-40]', '[3mNOJpN_qOQ]-[190-200]', '[yTq3Kr3jkvs]-[50-60]', '[GSAMEMX_oAg]-[200-210]', '[dUhE6H72Qpg]-[540-550]', '[dCCh6POPUeA]-[130-140]', '[0_XItMAYkwc]-[30-40]', '[2gvyOxKuQPY]-[110-120]', '[9ZUzftiN2uw]-[10-20]', '[GglIHiqClGM]-[30-40]', '[EwoCbcSXlSM]-[210-220]', '[kKPGTMdz99A]-[420-430]', '[7avMUhHOCR8]-[30-40]', '[UEOUXjX5R2I]-[60-70]', '[QFhmzRkUx0I]-[110-120]', '[JsHTGDW5dgw]-[30-40]', '[njFM8DvmPVU]-[50-60]', '[L8zjEoQFws8]-[30-40]', '[5-tx4Fgqetc]-[30-40]', '[xxCnmao8FAs]-[20-30]', '[mfZMcNmLxWM]-[30-40]', '[XjGm3Bn4j5k]-[80-90]', '[wS4d-q9H4NE]-[70-80]', '[C4MeKaeaPcU]-[30-40]', '[2U8Dvh7nwFI]-[30-40]', '[aCA4yiPfFIg]-[10-20]', '[5LX2Unga1p4]-[30-40]', '[6KqFiP_ux5U]-[50-60]', '[BL181hSAG60]-[30-40]', '[W58kioYp1Ms]-[30-40]', '[M7GSBDc6s_w]-[340-350]', '[tMICtalfpSc]-[60-70]', '[_qP21HqOmA0]-[30-40]', '[UhwJrftWAFg]-[30-40]', '[8LP_wbFLaJE]-[30-40]', '[iBh37YAaHMU]-[160-170]', '[VRxFYwbik6A]-[120-130]', '[pOZWVSiRwv4]-[390-400]', '[yMEMzSFbZ2s]-[110-120]', '[gfIqYbQQq10]-[0-10]', '[hgJK2ZDgWtU]-[60-70]', '[aRGAnD12qdw]-[40-50]', '[15z-gbPxdXg]-[30-40]', '[2kY_ZG78V-g]-[270-280]', '[NwUJe24OxC8]-[160-170]', '[HuVgc2jf0Ec]-[10-20]', '[0VjPCd62oKg]-[100-110]', '[2SI_uNBcSyw]-[0-10]', '[qVgnzJuGDBE]-[30-40]', '[qjH068GOmQ4]-[130-140]', '[TsTdffJ9LHg]-[0-10]', '[DyPmDDN8m78]-[30-40]', '[t8os583-_JM]-[30-40]', '[68DacKw1hlE]-[80-90]', '[axqtExFY5-s]-[30-40]', '[2juYRZnhF3g]-[30-40]', '[ZGfGiVauGL4]-[0-10]', '[51bsCRv6kI0]-[30-40]', '[qtnE1hnCD0M]-[30-40]', '[TrvI6t4pAP0]-[30-40]', '[y_TnstfXeBQ]-[30-40]', '[I1wakVlpP6M]-[30-40]', '[iqEQBCrOLWc]-[30-40]', '[Bl-lCgr5hGY]-[30-40]', '[5xBfKiQcMZQ]-[100-110]', '[WKYUiLace9Y]-[210-220]', '[LF-5BAUGvWI]-[30-40]', '[kbCh5HrmgN0]-[80-90]', '[lAMiOhScSPg]-[60-70]', '[NwA9JSlK_lM]-[30-40]', '[IjP5kKfgBiI]-[30-40]', '[IPO79GrOYjg]-[270-280]', '[FdPaa6WR2F8]-[30-40]', '[kMK10SknFAI]-[280-290]', '[OB7GyVqufwQ]-[120-130]', '[NdiSW-p2I0c]-[30-40]', '[1gDNqOQFopY]-[30-40]', '[5rjQU4vOIlw]-[170-180]', '[4BIIFU_b6BY]-[0-10]', '[6vRBp8jo40Q]-[50-60]', '[VpikuLP_9qQ]-[70-80]', '[Fa1c4qfBqzE]-[22-32]', '[7Us4WHDmfeA]-[30-40]', '[m3uiITzeM70]-[160-170]', '[F7JllgnefSI]-[30-40]', '[a-3cZREZh3k]-[400-410]', '[FaRrq7cYu84]-[30-40]', '[Aw2ctwyhe28]-[120-130]', '[95ThRxhl-ug]-[170-180]', '[lTuEsrVV6Uw]-[120-130]', '[aCUZuMblJPg]-[80-90]', '[mwLrABPxvgA]-[50-60]', '[PB3i02Cjf1k]-[30-40]', '[M9MgZXkYRBs]-[140-150]', '[CLx4iYWSB1c]-[0-10]', '[3VEMHWnewuc]-[10-20]', '[SwdhfGXkMCo]-[30-40]', '[5jQIuYPAODg]-[30-40]', '[H4rdJlSSt5Y]-[30-40]', '[AaajkQEU3A0]-[130-140]', '[jHEBYrI8zHE]-[540-550]', '[cabjr3xtcR4]-[270-280]', '[6-XEA0zqo8M]-[50-60]', '[7OgH3B49_E4]-[30-40]', '[MY0PsDE3xHs]-[30-40]', '[OoJGMj5H7Wk]-[440-450]', '[_yXtw_z2xf4]-[40-50]', '[Y3WXrp3JFxU]-[30-40]', '[zj2G-KVw4N4]-[0-10]', '[PF5LgwJjYuA]-[90-100]', '[sSavMIH-e-w]-[20-30]', '[F2ekiX14ID4]-[100-110]', '[J0RzvGnQxD0]-[60-70]', '[NjoKxRwQxCE]-[400-410]', '[m8poFnEbvW8]-[180-190]', '[XM4hxyK-Ddo]-[30-40]', '[nc6h6rC3wdk]-[30-40]', '[fWfQxB2pVrc]-[30-40]', '[BquHBzP5Ep0]-[30-40]', '[_-kssA-FOzU]-[300-310]', '[vG0QJ3bjfqk]-[220-230]', '[1_YHHL_t2GI]-[150-160]', '[JD9LYReBGXU]-[30-40]', '[KzvdKLdBw3s]-[60-70]', '[0H3FAoDgzhI]-[30-40]', '[iQ7qeIrssds]-[30-40]', '[UOAv5b6MGxw]-[20-30]', '[fsXQHyg5qDI]-[120-130]', '[XOsHEjo-RSg]-[180-190]', '[y516mYOT_9c]-[260-270]', '[I06TOd9pXng]-[0-10]', '[5DDg2CzAmgE]-[30-40]', '[9EUXyEQZqLo]-[30-40]', '[DUNOn71oGCw]-[40-50]', '[dztizAgcQ08]-[30-40]', '[gXOyw8a4_Xs]-[30-40]', '[cTzJlLzN-xU]-[30-40]', '[mx7kjFY7ALs]-[170-180]', '[kmmK69N3Om0]-[20-30]', '[3XeMR8lX0dg]-[30-40]', '[q7sK_xrJz-k]-[310-320]', '[ib8pMT_ug7o]-[30-40]', '[nZOgoVEud_w]-[150-160]', '[zyXa2tdBTGc]-[30-40]', '[-Vo4CAMX26U]-[30-40]', '[HY1KdNS19CM]-[0-10]', '[4cg3MsrvJqw]-[210-220]', '[9DCJTAzUwNc]-[30-40]', '[G8iTuTi8ywU]-[90-100]', '[KOb-tRHYK68]-[420-430]', '[vvfs2TUj-D4]-[30-40]', '[Ck-1kRnHqro]-[10-20]', '[PFa1XVCgPgM]-[40-50]', '[0HXYdGGKV2k]-[30-40]', '[l9vYSBR9nio]-[30-40]', '[4Mm5mBgktG0]-[30-40]', '[rVdI-aD9pq8]-[40-50]', '[E_kgtQ93Q1s]-[30-40]', '[zWEznZ40k2Q]-[30-40]', '[Pln4GLIMqKY]-[30-40]', '[nJaezskegdc]-[20-30]', '[8y36aT4C_c0]-[30-40]', '[0QAaln-hjPw]-[30-40]', '[rez5KDmIZoc]-[30-40]', '[WEVBqGarEIY]-[30-40]', '[hCELSy7hVKE]-[80-90]', '[2OI4QeokeRQ]-[60-70]', '[kVYXcbvw9u4]-[580-590]', '[nFoktpUVeVw]-[200-210]', '[588osm3C4bw]-[30-40]', '[GRdzFvQezUE]-[80-90]', '[mOmYcOBqhwo]-[30-40]', '[cWvkOY6OKss]-[220-230]', '[mWuX--EEq2E]-[280-290]', '[zNSV9GkpRfM]-[40-50]', '[hWiAoE4u4y8]-[180-190]', '[IbaQjxGDT-o]-[30-40]', '[f_NR19LpA_E]-[0-10]', '[1yGWdegJjA4]-[30-40]', '[lePP2BaZhJU]-[10-20]', '[pejDm3j4Y-I]-[30-40]', '[YK1AEw1kf28]-[60-70]', '[Ip6FptuXHyk]-[30-40]', '[PBqNpMpD76k]-[170-180]', '[8jDanS4ZzRc]-[240-250]', '[k3A5xX8yfig]-[30-40]', '[HSrzR9hhEe8]-[30-40]', '[0_QcatLmg7c]-[30-40]', '[9NJEKpPeWpE]-[0-10]', '[Ime3FHuQG4k]-[30-40]', '[4o0bARRMYQ8]-[160-170]', '[YDh36ZdneAU]-[180-190]', '[7DIPyJB4osY]-[30-40]', '[i6WtNBpRll0]-[30-40]', '[eWSA0xubW7I]-[140-150]', '[RxmGtt0YzYY]-[580-590]', '[qRgefptkDeo]-[30-40]', '[p2NPfU5QARc]-[0-10]', '[C3o8pEsAu5U]-[40-50]', '[h9zF09TMgLU]-[100-110]', '[DYpjbiyPUho]-[200-210]', '[92sRFZvCnWo]-[30-40]', '[3sRO6iwfUxo]-[30-40]', '[SUclDZHax0w]-[120-130]', '[o6ZQNr0Tpz4]-[30-40]', '[lh6ACdwNlyk]-[20-30]', '[ZTVMsW1h3bI]-[30-40]', '[Aky0DF507fw]-[170-180]', '[oYECB7KFJgU]-[30-40]', '[lpHa-S_x1LA]-[350-360]', '[2bCuw7U_Rac]-[390-400]', '[eStzDzEopDI]-[30-40]', '[wv6YaiCGPi0]-[260-270]', '[8ZK1ajW598M]-[110-120]', '[ot6SpwD1hzk]-[170-180]', '[V9EFYFKlYbE]-[30-40]', '[aNjtfIoVzas]-[0-10]', '[PpamaOkNqoI]-[30-40]', '[yAvqiPL-ssU]-[30-40]', '[AzWIKyRnhG8]-[30-40]', '[cWOohqFud6g]-[30-40]', '[nEOPm7TeydY]-[400-410]', '[Xaq-segSEsQ]-[160-170]', '[eXWBC3XfiXY]-[30-40]', '[pWms_9wpRB4]-[140-150]', '[0dPx94RPy2M]-[30-40]', '[OTu_vWZV4QA]-[30-40]', '[DMwvY--3XD0]-[30-40]', '[swIXVQtP_TI]-[30-40]', '[TWm_2QncYXg]-[30-40]', '[kgf4GdKlSWs]-[30-40]', '[zRpPf62Zvto]-[280-290]', '[3Wdxjm-h36w]-[270-280]', '[9ZWmZdgrE78]-[80-90]', '[MKXeCiPtZwo]-[280-290]', '[-UuEBhule84]-[350-360]', '[-VI2IRq17rs]-[360-370]', '[EyO5vB4eqo0]-[30-40]', '[nSLxQLYYoNE]-[40-50]', '[AeXDtbfpQlQ]-[30-40]', '[0L3vcdzQPPU]-[30-40]', '[w6zHc6nRJ0o]-[220-230]', '[dsU3B0W3TMs]-[30-40]', '[wLITXWAuZy0]-[0-10]', '[hQ5OBio4Cy0]-[30-40]', '[4ufDENm_ECk]-[30-40]', '[Sa3Ky5sJshU]-[190-200]', '[MWS-Uxf1MRw]-[90-100]', '[iEMTTKA7NxU]-[30-40]', '[SEHE3WGui30]-[580-590]', '[pNlrM-GhFZU]-[90-100]', '[WCl93HBuj60]-[490-500]', '[eZrrzGgTpfk]-[100-110]', '[HXwX9f9ugZ4]-[340-350]', '[JV_IOR3DqiM]-[60-70]', '[XxKlsW4H0qo]-[30-40]', '[eyFBIA_HOmE]-[30-40]', '[D3q_stCeCA8]-[30-40]', '[D712KM8PE3I]-[30-40]', '[RczzNAr1T_Q]-[30-40]', '[3otUlQ4wvLY]-[30-40]', '[xUmMfewERLg]-[20-30]', '[crToMuDxmL8]-[50-60]', '[qEJ_jxZzt7k]-[30-40]', '[pbVYSktQ5jE]-[30-40]', '[0fiOM---7QI]-[140-150]', '[AuwwPMrH5sE]-[170-180]', '[T2pIUdaDMuA]-[10-20]', '[cor2HckYTE8]-[0-10]', '[rsCQ1PIGcm0]-[70-80]', '[Z8L3jychP14]-[30-40]', '[OcdrbkDm2LQ]-[30-40]', '[xt6V3Ic72nE]-[300-310]', '[QHNREJJRTS4]-[20-30]', '[ItLWKIhe58c]-[30-40]', '[NsYVaRI6rXg]-[30-40]', '[0KCVgexi4yU]-[30-40]', '[rfah0bhmYkc]-[30-40]', '[BlhUt8AJJO8]-[30-40]', '[y3Pqe5DLvok]-[70-80]', '[7EvLwfwRrqA]-[30-40]', '[UsHtZ7Bzi0s]-[150-160]', '[JUwu4xOs8K4]-[40-50]', '[IQbzpgmi4Ec]-[50-60]', '[yVWk3yq3Abc]-[30-40]', '[NNeEzTVATHg]-[30-40]', '[f3l6KnC8930]-[30-40]', '[jhsce15byHc]-[20-30]', '[xxNroISqkt4]-[110-120]', '[QiD3AkQz17E]-[180-190]', '[XE4NRSDLYG8]-[20-30]', '[vWiq7n4yTAw]-[30-40]', '[I-Z3gB6pfIA]-[30-40]', '[pmdoDcNBt0E]-[30-40]', '[Vfcfj4OIJXE]-[30-40]', '[w41gqTFYh08]-[30-40]', '[9JlifkCmUOk]-[290-300]', '[mW5_chAgg8c]-[120-130]', '[grisjVTZeTk]-[390-400]', '[P54hbuQLkc4]-[220-230]', '[a_r8wKJ8ePw]-[30-40]', '[duMRKOb4E2w]-[30-40]', '[DvN5813H7Bo]-[190-200]', '[Wdl7A3de0L4]-[120-130]', '[TArWNq2retM]-[200-210]', '[lDCDayKyOQA]-[30-40]', '[yqb4GenP8gs]-[160-170]', '[5lZFGZXH20E]-[380-390]', '[fZjQBgPD1Ys]-[30-40]', '[tbovKStEnME]-[270-280]', '[f4jW2H6V7gk]-[30-40]', '[FBXBDe3OU5s]-[90-100]', '[pdIAN6lMXSU]-[230-240]', '[zD4PXuUkwsc]-[40-50]', '[qV_VxEAXXDU]-[220-230]', '[sOJSjVp6UTc]-[30-40]', '[CwHSb1NOi4c]-[30-40]', '[yG1bzzXDIak]-[30-40]', '[wDpz90boBzU]-[80-90]', '[x1x54MgStxQ]-[130-140]', '[hwe6y-jSqdQ]-[30-40]', '[rfa-iUp5UQc]-[50-60]', '[ODRAYQE9GXs]-[30-40]', '[KUE_I30--AY]-[30-40]', '[ue1sgGEvkwE]-[90-100]', '[yw6uqQQF5Ig]-[180-190]', '[hqQvatf1RUY]-[30-40]', '[Hp-lgcs4VXY]-[50-60]', '[NeSIT6sqLRA]-[420-430]', '[0s0Uy0-zBa0]-[30-40]', '[vo7BYs1OqbM]-[30-40]', '[fEfe8jznp5Q]-[30-40]', '[ia6-da2KdI0]-[30-40]', '[yn4-OtUmyWo]-[30-40]', '[OEpMpYMjO9Y]-[30-40]', '[JU6GUqRqbtI]-[10-20]', '[DpAfyjjQJyk]-[250-260]', '[FoFMRXlNJ6Y]-[30-40]', '[-tmY1GEH3_Y]-[30-40]', '[5ieMy-PAKA0]-[120-130]', '[drJaSu3AWhQ]-[60-70]', '[bsz_enSJSVk]-[10-20]', '[1uHF1-8TcEk]-[30-40]', '[tvqvuGywD8U]-[30-40]', '[XUD-9HkQuTE]-[30-40]', '[nkSRzaqpOCQ]-[20-30]', '[Q6G1XGwd-rM]-[40-50]', '[IOzWDVGWRng]-[0-10]', '[9PQZSLa_A8A]-[130-140]', '[Bx1HZVX4UxM]-[170-180]', '[IMnh-TIyFuE]-[30-40]', '[bmVd2Zj8_Cc]-[60-70]', '[QS3DabGF41Y]-[120-130]', '[3ZyuBJEbmJM]-[30-40]', '[5JQIsqc8HBc]-[30-40]', '[2uagA3ujRtM]-[0-10]', '[71KE7B1vvdI]-[30-40]', '[-oP-XX28B0s]-[30-40]', '[mQWht9mv7sE]-[10-20]', '[RV05BW-2WIc]-[30-40]', '[X1KJfb5xhr4]-[50-60]', '[LHTA8VZGoMs]-[10-20]', '[Ki7Bxz1CThI]-[70-80]', '[4zZiWBp0b08]-[30-40]', '[FEuXIeWoCQQ]-[30-40]', '[xydcedfPePM]-[130-140]', '[9zmQwBUFwd4]-[0-10]', '[1Is1xfDjZrw]-[30-40]', '[F7Y1T-rQ2JU]-[410-420]', '[vZUup6rK728]-[140-150]', '[20Vh6z6Ie0E]-[30-40]', '[QtjMlA_7dds]-[30-40]', '[O9Ag-dE-yfQ]-[0-10]', '[VZfrDZhI7BU]-[30-40]', '[BurGML_ZqSA]-[100-110]', '[diSfkEkTVkE]-[160-170]', '[W7U-glgu4GM]-[10-20]', '[WqC-fx3uNVE]-[70-80]', '[JSqyTVjYY6k]-[80-90]', '[sUh43prJYMM]-[0-10]', '[yhbpAGdv_d8]-[50-60]', '[VJ1RqPqF9O4]-[200-210]', '[BaMBwXQwK3g]-[30-40]', '[r43WrKA6ppI]-[30-40]', '[IS5V2yjPp3k]-[30-40]', '[5tt_GKV13G0]-[20-30]', '[gz-4W-uEzhc]-[30-40]', '[WhNun_U3cRU]-[30-40]', '[DlVgHV1UobM]-[30-40]', '[TX9PGFdqRak]-[30-40]', '[hyGuS5WiPk8]-[60-70]', '[qMbGFWz9who]-[20-30]', '[g0scnRzoo9M]-[30-40]', '[0F-Z0zF1504]-[30-40]', '[itgeNVRhBKs]-[490-500]', '[BR5MDhvcGM8]-[60-70]', '[UXDzDV_f1jw]-[120-130]', '[F5e-SEICJP4]-[60-70]', '[z_aUtjxgCNk]-[30-40]', '[s1eMgmzCMDM]-[110-120]', '[nb_7c2xPKYA]-[400-410]', '[qsFfUzErXqw]-[140-150]', '[8o2UyEYbNmY]-[90-100]', '[UJAk1nNdo1I]-[30-40]', '[-_OzT7Xyvok]-[30-40]', '[FLJPxFCPeDY]-[40-50]', '[vNPL092rPgQ]-[50-60]', '[jbe3VM-5xdc]-[30-40]', '[lNg2y6SRZPo]-[220-230]', '[vjW8wmF5VWc]-[30-40]', '[VL6uF-XeE_A]-[30-40]', '[Ikdb_jA9ehU]-[0-10]', '[sTcaIARuemA]-[150-160]', '[Z_HT-d8W1_M]-[30-40]', '[PTLOLz9YzmM]-[60-70]', '[r4G71I1dFpA]-[160-170]', '[BqIZipifARo]-[80-90]', '[SY6uwVbC944]-[30-40]', '[ohBNHUUGD3Q]-[30-40]', '[8pit9UV69S8]-[0-10]', '[je96vkMY60c]-[10-20]', '[_gWEpDgPAho]-[100-110]', '[rG_6MS6_K6g]-[30-40]', '[7_yBcHaoR0w]-[50-60]', '[iDvva_WCo-I]-[30-40]', '[bNW18IztiZY]-[30-40]', '[N1Mxns_JJTk]-[30-40]', '[0c1YU_VtFRE]-[180-190]', '[-QuWdnmn-kM]-[30-40]', '[EN_FOFkxAEw]-[240-250]', '[w4ayJNZ5w5o]-[280-290]', '[kw2wPVxUgQY]-[150-160]', '[uDqVzJtaxOc]-[20-30]', '[ZX2fVPmUidA]-[30-40]', '[vBkDLBO-Aok]-[30-40]', '[0ZXWSO_Y2C0]-[160-170]', '[T5YZwhC7Br8]-[220-230]', '[GOTy3yhCylw]-[100-110]', '[uSZQGP_i3gs]-[30-40]', '[kSdH9z8snac]-[180-190]', '[kepd6_X_vS4]-[310-320]', '[pn6toTLXAck]-[20-30]', '[OH8urnIthoQ]-[60-70]', '[3TQmts_MxyQ]-[30-40]', '[RneRJ5ZnHlE]-[30-40]', '[lTOzGIOIfq0]-[10-20]', '[lXrypwLQO3U]-[100-110]', '[4Bc9OoagYmo]-[80-90]', '[OWbfAmrFdp8]-[40-50]', '[piyYJ2l_h8Q]-[30-40]', '[-dVgUSrR8g4]-[30-40]', '[dvDSgmqbrM0]-[190-200]', '[CHufyCHSF1U]-[30-40]', '[0ONdm4sW47c]-[30-40]', '[cqeVEFFzz7E]-[110-120]', '[QdoTdG_VNV4]-[90-100]', '[OZjpYGdvMX0]-[30-40]', '[Yd8JBTdUvrw]-[30-40]', '[Y8wHDcVCGa0]-[100-110]', '[AUNK8dJzjLo]-[30-40]', '[Ok-ia7ziJy0]-[30-40]', '[cu0k3Uclp1I]-[180-190]', '[BXo1Tr_oJds]-[30-40]', '[dO3VsX4rKNc]-[30-40]', '[YZvv4hOlNqw]-[210-220]', '[ChCdYoDz7CY]-[500-510]', '[X_nfMNpw9SA]-[60-70]', '[wMelBK3yArA]-[30-40]', '[P65yE_EXLd8]-[30-40]', '[_dF-ZGquRNY]-[40-50]', '[TgOr_C6xP6U]-[30-40]', '[OZv8mtQEgA0]-[30-40]', '[BrCW3BA8TIQ]-[30-40]', '[GWxiiDBK5s8]-[30-40]', '[PKJMsnUJ994]-[30-40]', '[ce03XKuyDtk]-[220-230]', '[mU6cfEWw5Og]-[180-190]', '[mu0dlj8ibA4]-[30-40]', '[0EvpBtracsk]-[30-40]', '[exD5okdopWc]-[60-70]', '[XscNEv9tX5U]-[30-40]', '[T0uoYE12cnI]-[240-250]', '[aYrjw3gjGuk]-[30-40]', '[_WYwB1qRgLM]-[10-20]', '[ew-7SwLcHBg]-[70-80]', '[RVevnXD4Fig]-[30-40]', '[pxEmmUYLHrE]-[30-40]', '[yCDloqQe65k]-[30-40]', '[OSlotCnSFow]-[140-150]', '[BfMKdrK9D8M]-[30-40]', '[t5RqDGLiDvo]-[0-10]', '[1RRGInmOhTQ]-[250-260]', '[VdYakZ4Yciw]-[30-40]', '[1AOe82obwcY]-[30-40]', '[n1HBKct6rto]-[30-40]', '[LFW4yPH1z3M]-[30-40]', '[Gw0KmZ3kbjs]-[30-40]', '[M_s-49rNCdw]-[50-60]', '[hgitRq_0410]-[10-20]', '[kaabXWuPWRg]-[30-40]', '[16TsDMjHzYU]-[30-40]', '[SCcryBmDGPw]-[30-40]', '[5ZpVhmhVYoI]-[60-70]', '[8pl1D6oG38k]-[30-40]', '[z7vNtEcM9Bk]-[30-40]', '[7_q36NyJtQY]-[70-80]', '[3TO4C7SiC7I]-[30-40]', '[YzpzKyzyL0Y]-[110-120]', '[JlzlNpttvVM]-[30-40]', '[zGONTDY_rNM]-[30-40]', '[0M7nETLOsKQ]-[30-40]', '[3w_LsKl-3Pk]-[30-40]', '[M5sptjrboqA]-[70-80]', '[DU5pD63Pv30]-[20-30]', '[BKQYrrJVg6g]-[370-380]', '[YpOHemscGCk]-[0-10]', '[BdhaR2QUGqY]-[60-70]', '[RdKQGIzKZ_c]-[420-430]', '[w_XFNKSRgKI]-[210-220]', '[4AfykLGm0j8]-[30-40]', '[VNzEAjztgxg]-[30-40]', '[ap7xvCBtljs]-[30-40]', '[fer_4HvG3aY]-[30-40]', '[9mIDP_OT1uM]-[30-40]', '[JzJCn-puzS4]-[150-160]', '[LjxhswBV1UA]-[20-30]', '[Ae8o_FMI0Xs]-[30-40]', '[GuJdy864xWM]-[30-40]', '[_AVegKwklcg]-[30-40]', '[q9DzO_I4dXg]-[30-40]', '[4bXb6GLm6zg]-[30-40]', '[gXzqZIoM5g8]-[150-160]', '[c2akbbdS7I4]-[30-40]', '[ndjLkbP6Y9Y]-[30-40]', '[caFMauLQvd4]-[160-170]', '[Rhn6K9HCbC8]-[340-350]', '[AnErEDywInE]-[30-40]', '[9A_OmOetiuw]-[90-100]', '[1cwGW0cBdRs]-[30-40]', '[yO7MWuJ7zLA]-[30-40]', '[2x4694ExyCU]-[310-320]', '[Cy3HWnwMLyI]-[20-30]', '[1-Y9kafYuqQ]-[100-110]', '[Db0c4aAwUbY]-[30-40]', '[70pyoqX0U9Y]-[30-40]', '[Fsm-xDmyFKg]-[30-40]', '[ZLDQ8-8AyI4]-[30-40]', '[INBx8CrIWcg]-[30-40]', '[cJD5JFWnxNo]-[30-40]', '[XS-3djsJWTA]-[360-370]', '[khVk4pTS0bE]-[230-240]', '[mcAsO331Z9s]-[30-40]', '[ev_YCCuGVSs]-[30-40]', '[_JTHtcRHxnw]-[300-310]', '[-FlvaZQOr2I]-[90-100]', '[KRKX_UtYV9c]-[30-40]', '[Y8plCTF8xsY]-[20-30]', '[XpueyrkcMyQ]-[280-290]', '[ZUkh168Nyus]-[40-50]', '[fow1TC_MpHs]-[130-140]', '[KPG9s_s8siA]-[30-40]', '[Mwy5Y0S5jfM]-[240-250]', '[OKquGBKOgME]-[30-40]', '[kmZFn-CQ19A]-[30-40]', '[dcgwxlK3VVk]-[30-40]', '[WQsuFvw43RA]-[30-40]', '[nY4tpb8O_Rg]-[430-440]', '[lBtAULJAFp0]-[370-380]', '[BN63M3_lPCQ]-[170-180]', '[Kqo7am5oq0U]-[40-50]', '[O8EMm4QJjeo]-[0-10]', '[5nJr7iar6ZM]-[30-40]', '[KiFQFxJphjI]-[30-40]', '[-5FoeegAgvU]-[230-240]', '[entThp930cw]-[30-40]', '[tWexzTJPxQs]-[30-40]', '[b-7oO1Rw-fo]-[50-60]', '[KXuB62SMFvA]-[30-40]', '[VOWGbyg4KZY]-[30-40]', '[UcabTrKowlI]-[30-40]', '[ClNTn1wtq7E]-[90-100]', '[A9ECxUIqw6s]-[30-40]', '[eM0PkfqGmIE]-[30-40]', '[SU9ZP2pbqyU]-[10-20]', '[ZEuY5HnECuo]-[70-80]', '[5JqTvKNXzOw]-[30-40]', '[b8cgQBzBXi8]-[30-40]', '[2JnlmS1zzls]-[30-40]', '[bl8PgmZ9iOc]-[30-40]', '[UjDh1OlOwuE]-[60-70]', '[2vQTq4QLP8U]-[100-110]', '[PxxyplPsqBY]-[30-40]', '[2iFgXSXdqLo]-[30-40]', '[49nqh7uI9fw]-[30-40]', '[xseL3oZc7pY]-[30-40]', '[tUSnod37b9Q]-[40-50]', '[VfEJHqtsuIo]-[110-120]', '[kIEEDYowZhA]-[100-110]', '[_AjXY9cHCxA]-[150-160]', '[MdsRmMxkF4k]-[50-60]', '[IGyDtKAU1u8]-[550-560]', '[MKikHxKeodA]-[30-40]', '[tc7crRl2JqA]-[90-100]', '[nSBDyxxscks]-[220-230]', '[hkWOAj09_dY]-[30-40]', '[r-PBeJiE5sc]-[130-140]', '[FmytwY7SAfU]-[60-70]', '[vf3n40mDLHw]-[20-30]', '[33dCbb1MyYU]-[30-40]', '[5h5NdW6cYY0]-[30-40]', '[w4Z1QuBOMWU]-[70-80]', '[en0haa37gnk]-[30-40]', '[kOBh4NZ4wZQ]-[70-80]', '[ZnBvXFDWpWo]-[50-60]', '[3fqWosszpnE]-[50-60]', '[iTV3Otwq_dI]-[60-70]', '[QJzveo6IBsU]-[0-10]', '[SFHoTmcgw8E]-[220-230]', '[G9gsCU85c8k]-[160-170]', '[KFB1raoIhoU]-[80-90]', '[vQ09gQBt1IU]-[70-80]', '[UUJ1DNycpiQ]-[30-40]', '[EieK70X8lnw]-[30-40]', '[nvRd4xgEWbw]-[30-40]', '[8BJljuSm2Aw]-[30-40]', '[oRHKVmQ138Q]-[240-250]', '[NtM3gudMBCQ]-[10-20]', '[CAL5CgkKkR4]-[70-80]', '[BHDhHO7J-Oo]-[30-40]', '[P97w3AdePgQ]-[570-580]', '[4jzr88nEdCM]-[30-40]', '[NxpnW_IdkSY]-[480-490]', '[OVNVaXZ9D0E]-[30-40]', '[YKQMolFL2Rs]-[30-40]', '[s5wdG7xbTNg]-[120-130]', '[J0lA7ZDfPLE]-[30-40]', '[0x6chChxzV0]-[30-40]', '[zPhuyMYy9EI]-[130-140]', '[nVSDv46ARvY]-[70-80]', '[GQz_u0Vc8Os]-[30-40]', '[9ZilD_4pi7E]-[0-10]', '[WNmAlKrAPjQ]-[240-250]', '[eISYX9koocM]-[30-40]', '[dAAwzwexvUQ]-[30-40]', '[zeUEOxTd8IE]-[170-180]', '[BM9XDXA-CUE]-[210-220]', '[GYx6HNQbP1w]-[30-40]', '[P5IxlG4-CY8]-[30-40]', '[7OjXHfVoI64]-[200-210]', '[5_orEetudIA]-[30-40]', '[-zOybsEdM5E]-[100-110]', '[K63Z_abB314]-[10-20]', '[9gkppwB5CXA]-[30-40]', '[rNJ0C44bOac]-[30-40]', '[k8AE-vqWbm4]-[10-20]', '[d1VB1vA-UsI]-[220-230]', '[LSaLPObrnZw]-[10-20]', '[KyRJP_fDrbk]-[180-190]', '[7AC9RqECN5k]-[30-40]', '[sXwa1Akj1t0]-[150-160]', '[qoBC2wimalI]-[30-40]', '[zYUZEXCE7gw]-[30-40]', '[AU1l1i0H0j0]-[30-40]', '[W2nlA65AwtU]-[390-400]', '[P240GHf9Eq4]-[30-40]', '[OQz8reoVQEI]-[30-40]', '[N_41Y2vH6eA]-[0-10]', '[4gEmWJCPZGo]-[370-380]', '[ZCR7qJ2IgGI]-[60-70]', '[FENJIDecy5s]-[80-90]', '[IFumVgqOVaM]-[10-20]', '[s_LMd1_XN1w]-[30-40]', '[Zs3arUuPciY]-[240-250]', '[KjMRf4egAyA]-[80-90]', '[9dx9IhSqwC4]-[30-40]', '[1ToIyrmWFjw]-[20-30]', '[vmVOWilkmOA]-[210-220]', '[CWQvCCRuU6k]-[0-10]', '[IKfmu7tAyUE]-[30-40]', '[YvT7qFbUOO0]-[50-60]', '[YAYp2E5vMNw]-[310-320]', '[VHYxygh1STA]-[30-40]', '[deIj55UAxeo]-[30-40]', '[G6ihF82lvEA]-[0-10]', '[Mnk6590abfY]-[30-40]', '[KV99GJg0tvA]-[30-40]', '[xyco-5DC_K8]-[30-40]', '[4vGLTrW04UE]-[250-260]', '[u3pYqyLM0f4]-[30-40]', '[AI9P6HoiJy8]-[30-40]', '[MmqRlHntd0Q]-[80-90]', '[WY73T0xaY0A]-[180-190]', '[UtZofZjccBs]-[290-300]', '[-i9uQMysy_A]-[80-90]', '[pte5jvRKwsA]-[60-70]', '[2pTnwe3DzCs]-[150-160]', '[M27mIdPCZEY]-[30-40]', '[dwAo0dKCyBI]-[30-40]', '[2KwSyaLT_mw]-[40-50]', '[3q9K2PgA2-U]-[60-70]', '[zNbF006Y5x4]-[0-10]', '[7p_Mnxl4Vq8]-[30-40]', '[rY9zjr9T_WI]-[150-160]', '[chw8sAKOM5k]-[210-220]', '[cY3g6N5Sokk]-[10-20]', '[2ZYzviKuq9w]-[30-40]', '[Ts04bBeY1d4]-[30-40]', '[WIVu5PapmX4]-[30-40]', '[6jZ8VNANHwM]-[30-40]', '[bZJoTauRldE]-[0-10]', '[AnMR6SOBa9k]-[30-40]', '[0VsjSa1X7iA]-[30-40]', '[CRDDdjDinYc]-[50-60]', '[sgwvhvkNELc]-[30-40]', '[nrj2zTr7U0o]-[30-40]', '[aUH12rRIVDw]-[30-40]', '[pLqasxGYWX8]-[30-40]', '[LGi38MqlPFA]-[150-160]', '[VHyXvbg6y9M]-[30-40]', '[BMxgDBoPv_0]-[0-10]', '[2uvHgwAljPA]-[30-40]', '[URM1QgX5Ar4]-[150-160]', '[f8nysknTFUo]-[30-40]', '[L1s7KZgWXGc]-[30-40]', '[qutPvh6TFd8]-[30-40]', '[-XkbErI_7EU]-[50-60]', '[ovomUNSo_uo]-[120-130]', '[R0ws0tATJLg]-[0-10]', '[RDNatVYvpeA]-[30-40]', '[0sPVAP17w2U]-[70-80]', '[9K8EePrEDdo]-[330-340]', '[_2wFjBoreaY]-[90-100]', '[40i3_JH6FYw]-[90-100]', '[2f1UXGix_Cw]-[30-40]', '[3vEsFxolnFs]-[100-110]', '[i70a79YhlMk]-[30-40]', '[rn_v88OiRks]-[180-190]', '[Zhurw43-Y1g]-[30-40]', '[Wd5l_FHGWfE]-[170-180]', '[ZHsAU90h8oc]-[130-140]', '[A8P5zzHCjJw]-[30-40]', '[fcpVyvn5vKk]-[170-180]', '[zTtZH-Q61Ik]-[160-170]', '[_RLsXrr0fQo]-[80-90]', '[Zlbo8ygfPSM]-[30-40]', '[1PKxdTlquCA]-[30-40]', '[_n9boKzVRhs]-[30-40]', '[8Ha5qGnT7lg]-[260-270]', '[EQVZLtlDkHw]-[30-40]', '[uARzr9CAemI]-[30-40]', '[FYFapDVOFHg]-[440-450]', '[qdWTfyysMN8]-[30-40]', '[6L8066DGqcA]-[210-220]', '[z8Wjdss5uMg]-[10-20]', '[eQTK2fo3RoE]-[30-40]', '[ByOqw8M2U-Q]-[30-40]', '[1V7ReAk9k-4]-[30-40]', '[K-0qmhvJyzE]-[10-20]', '[Puu8SEqYN0k]-[60-70]', '[2Gja9wBkz6U]-[460-470]', '[Bd0PbyrG6H4]-[30-40]', '[oVhhEku6ECA]-[150-160]', '[kko1uYyqJ_o]-[160-170]', '[cS2gRhH6it4]-[560-570]', '[qDiTICmdUQg]-[30-40]', '[28wBrNjHXOM]-[390-400]', '[fPYxUa1ZVAY]-[30-40]', '[hk-1KRWTM-4]-[100-110]', '[ByF0pp-dVEo]-[150-160]', '[HplcVmJhuIc]-[40-50]', '[D9893od03Sc]-[0-10]', '[paeNnR33i5Q]-[300-310]', '[0fCpAuxrQ_I]-[380-390]', '[dbBlYyaFKTQ]-[30-40]', '[Py8Vd0-qxYU]-[20-30]', '[ScAlKYCgHV0]-[30-40]', '[ZaUaqnLdg6k]-[30-40]', '[lfCWGQ6URds]-[60-70]', '[x7tOPTm31tQ]-[170-180]', '[52GYcHTcCgs]-[30-40]', '[7KCikXm6hic]-[30-40]', '[LadgIxZu8Oc]-[30-40]', '[x1KyLxsnJY0]-[80-90]', '[oOlMzQpK690]-[30-40]', '[guRyU4B5LlA]-[30-40]', '[WYbD9YUrf_4]-[80-90]', '[aBEiuYSSEH0]-[550-560]', '[LFYRuK8YstI]-[30-40]', '[VG6-MlmCgzI]-[30-40]', '[AT_076RUWPs]-[30-40]', '[sfmAeijj5cM]-[30-40]', '[Yz1DrC54UGk]-[190-200]', '[e8wnUU5pIWE]-[30-40]', '[xJMTA3Ay5FI]-[30-40]', '[EKt_KEbqQfQ]-[30-40]', '[iQfPmJ19ZUc]-[450-460]', '[xIdWJyhWueE]-[30-40]', '[CKkbZCb9Y18]-[30-40]', '[yKx_RFUTPfI]-[30-40]', '[GQPOpFX20Gw]-[30-40]', '[Qj4r_MCC0mc]-[30-40]', '[Pzp_oTEn0Yk]-[30-40]', '[Qe_KwKVDgoE]-[350-360]', '[UJA5AWbt6HM]-[70-80]', '[B8pesuUc8Ek]-[30-40]', '[s6U8DtBK3Us]-[30-40]', '[pHC25Ia8Dxo]-[80-90]', '[GAohd8KvONo]-[30-40]', '[cp8t27oT_ww]-[0-10]', '[0OY8XXZ98rw]-[30-40]', '[v6A7Iggebm4]-[180-190]', '[08mf5GxT820]-[30-40]', '[jR_wBfxgZwE]-[10-20]', '[-6HBGg1cAI0]-[30-40]', '[LMGpKPavV4Q]-[80-90]', '[Ss1bubMNPQE]-[10-20]', '[4W8BYc8ZMaE]-[30-40]', '[2lBZ6yPW9WU]-[360-370]', '[MsEoUVWS59M]-[30-40]', '[7L5HQ4AJyLc]-[20-30]', '[QIzSxE0WlKE]-[30-40]', '[nn2TnOGCHDI]-[20-30]', '[dBAeAk7dXnU]-[30-40]', '[r9AxQfXYLEs]-[160-170]', '[nvrMO6TDu2g]-[110-120]', '[euAQCWBX6ns]-[40-50]', '[2ShO1jZYZeA]-[30-40]', '[0ZNFJz-eZTU]-[120-130]', '[m8-aK8egg84]-[90-100]', '[SWcEG8RLKsw]-[150-160]', '[f5eMUCSZCjc]-[90-100]', '[bf8JlTKzOs8]-[30-40]', '[6elnFyuUnaU]-[300-310]', '[fUC45bzOOJw]-[30-40]', '[0Olm321vgk8]-[30-40]', '[0NZY0GHQBP0]-[240-250]', '[_zQTlTCqMzs]-[130-140]', '[LoTRWc9WK9Q]-[460-470]', '[3OUNEL8XaR0]-[30-40]', '[khQN5ylb3H0]-[260-270]', '[2MZUbxulAI4]-[310-320]', '[c1hLduV1p88]-[30-40]', '[8qeTEfOqB0A]-[80-90]', '[y6iMm7Pltq0]-[30-40]', '[flLjMZMydXc]-[30-40]', '[mhqHHQ1gSvM]-[30-40]', '[VlXi2TxMXbc]-[130-140]', '[_hYBs0xee9Y]-[30-40]', '[2wGkbHl3IUE]-[110-120]', '[-jpbCWcz2pk]-[30-40]', '[6Kb0q9J8lPA]-[30-40]', '[S7igso5_MBE]-[30-40]', '[t8uF3PZ3KGQ]-[30-40]', '[u8aB6EALonk]-[420-430]', '[4W8IZxn3nEI]-[30-40]', '[JC41M7RPSec]-[0-10]', '[7B1OAtD_VIA]-[30-40]', '[DhnNZn8JjEQ]-[30-40]', '[2KGnpMYHBGI]-[20-30]', '[_b-7P-XsnUI]-[490-500]', '[jy0gitU1BFA]-[50-60]', '[-Bu7YaslRW0]-[30-40]', '[2G4lyzAZ1vk]-[30-40]', '[GHyUAl9Yaos]-[140-150]', '[1l7BjFDQLUM]-[90-100]', '[mFcHGbnNtSQ]-[70-80]', '[IDHHAwqDpzU]-[30-40]', '[c8gD6153aNI]-[80-90]', '[kAE7Ceg4VgQ]-[590-600]', '[NzvkMWY4EjA]-[30-40]', '[NQXQsVawPhU]-[30-40]', '[GinP_ZRgAoY]-[30-40]', '[ihJT65fZaHY]-[30-40]', '[AjLX_1rBDPM]-[30-40]', '[LyTwxJiSt7A]-[0-10]', '[IwqD859w2_E]-[30-40]', '[R0b3pU4AKNc]-[380-390]', '[n7yLkcSfiuM]-[90-100]', '[oGbNzR_lpSk]-[480-490]', '[VkXLtUx-RmI]-[300-310]', '[7JE2eBK1f9M]-[110-120]', '[ksYM8YzzWXo]-[90-100]', '[i_G_0vgEYJg]-[30-40]', '[5UmoK5WAW8Y]-[30-40]', '[FLFmcZiRuzU]-[30-40]', '[aTeOMq8ave8]-[30-40]', '[wsJ5ZLKiPzs]-[230-240]', '[3m-a805cVl0]-[80-90]', '[0RDz0rLakwc]-[30-40]', '[p1-07VdP__Q]-[10-20]', '[afavVsmFWds]-[30-40]', '[oxZjkE984Uo]-[60-70]', '[Tsmx6Pb7CnU]-[30-40]', '[tw8-TlQBcBA]-[270-280]', '[ohikUtjUN7c]-[170-180]', '[WsaOJT2SsPg]-[47-57]', '[Orge4_UlvNI]-[280-290]', '[-sRFfU8k0Zs]-[90-100]', '[03frQGyrgQ4]-[30-40]', '[lGaA1dJQ0AQ]-[30-40]', '[j0FynYzQvcM]-[30-40]', '[d352jaSSiFw]-[30-40]', '[ymuRKv9iJm4]-[100-110]', '[VlwbDjggUKk]-[30-40]', '[2GepmcbNlJY]-[0-10]', '[rh2D2OSxyw0]-[30-40]', '[6og50XOZeIk]-[10-20]', '[ZsmfIMEzrQs]-[30-40]', '[ARXTRdKCupM]-[30-40]', '[vrxT5jhqu0Q]-[20-30]', '[Ezodz2aZnzQ]-[70-80]', '[tuoBmxts5Xo]-[80-90]', '[pWZqzEpygE0]-[30-40]', '[4tF0Lt9VEp8]-[30-40]', '[nBiHncFD0dM]-[430-440]', '[VDYqYuPzW8E]-[30-40]', '[eiFyXXqd9Rk]-[30-40]', '[CZZSQ6rd8h0]-[110-120]', '[BgTB_xt11bA]-[30-40]', '[pWHkmo9Kn8g]-[120-130]', '[9r01cpNx2vk]-[10-20]', '[nzpnWuk3RjU]-[170-180]', '[GLIXnXZEOxY]-[90-100]', '[6SB2FIU9SBc]-[200-210]', '[3kSQNjfJnN8]-[210-220]', '[5F8zpfwFKl0]-[30-40]', '[B4lGhVjoMTk]-[210-220]', '[ABVYSaLu_VM]-[10-20]', '[7Ht_Vu1D8nc]-[30-40]', '[jzij1UX73kU]-[30-40]', '[TPdqEmS1Dr0]-[40-50]', '[d0Uz_RnRV88]-[460-470]', '[ORt8LSgn-uA]-[30-40]', '[R4ulZgTCw-k]-[80-90]', '[QK-mjNg8cPo]-[50-60]', '[bt8iHoIf2mo]-[40-50]', '[vd1dgdxlA94]-[30-40]', '[Fy51z2RwH3E]-[30-40]', '[hgGCfJoYDUU]-[30-40]', '[RJViDdqUYyo]-[180-190]', '[6_zzu2KON6c]-[80-90]', '[fmHbWq-7-iQ]-[160-170]', '[6EwEo0JQkTg]-[30-40]', '[1y1lEOGBcWM]-[130-140]', '[BWSJjF32tQA]-[240-250]', '[IFimpFwvbz8]-[30-40]', '[V4YUpQKeKD4]-[20-30]', '[uCCdUB7D10U]-[30-40]', '[Y02VBGoTi9w]-[240-250]', '[qZkM3QaeaUM]-[150-160]', '[BojCkFK3pNg]-[30-40]', '[tUppIOzUo2Q]-[0-10]', '[JRfU_hF1wdM]-[30-40]', '[7nrOZXbpXBo]-[110-120]', '[-BHPu-dPmWQ]-[30-40]', '[7yK4-hsVX1o]-[30-40]', '[G13NEVAm6-o]-[30-40]', '[8yiJOImd6k0]-[30-40]', '[3sIlpn9nvKU]-[30-40]', '[uTfLf1Y8hhM]-[30-40]', '[JZWJlUdYpCU]-[80-90]', '[Wvg5rlMbjJc]-[10-20]', '[C8VECv8kicU]-[180-190]', '[7KIn0zojwu8]-[330-340]', '[EcEDVL6vn_w]-[340-350]', '[WFPGA_BYkKU]-[30-40]', '[tDVOUsG52Jw]-[20-30]', '[GcqCHmHXEjo]-[30-40]', '[L0oun9F67tg]-[30-40]', '[JNwt0afB1fQ]-[30-40]', '[zGBKakEGSyc]-[30-40]', '[DQ_gcdLhAsY]-[30-40]', '[MfKSVJIcDK0]-[30-40]', '[PXd0NCqZLzU]-[30-40]', '[sK6ltq0-zgY]-[30-40]', '[w2MeQg3W7Po]-[80-90]', '[gqROBgF7_DU]-[70-80]', '[ymOjaaxRDLU]-[170-180]', '[9mqA4YdX444]-[160-170]', '[OvjmfGU4y_M]-[190-200]', '[OmjfHQB_lcs]-[30-40]', '[Z6q5doznOcI]-[340-350]', '[4W3Ql8JbEN8]-[30-40]', '[_b5n-mny1lM]-[30-40]', '[hXLo1l5gS-I]-[180-190]', '[P1Vxm_ICSG0]-[30-40]', '[LWLLN9INTII]-[100-110]', '[hBQFoDI3NMI]-[30-40]', '[HQb2jhmw1BE]-[310-320]', '[JZnOGRCBW0I]-[30-40]', '[2UnlMwW8nyI]-[30-40]', '[EmSZKb0LdVM]-[30-40]', '[0ewWspUqB6Y]-[430-440]', '[XHczpbtBhk4]-[0-10]', '[hHS5C0RKa8A]-[120-130]', '[lIEnbqr3O34]-[130-140]', '[eezaOfrLOkM]-[90-100]', '[5y2M_K3bUcQ]-[20-30]', '[qeoYWM1uYPI]-[40-50]', '[m4Dj_vTsAt0]-[30-40]', '[Ux1vBolJf5Q]-[50-60]', '[dHDosntsNho]-[560-570]', '[7chwYGGSkmE]-[320-330]', '[KlD1u-EDx_g]-[330-340]', '[QrJVAHIkpCo]-[30-40]', '[AYln23c8g6w]-[30-40]', '[YVEqyQjyy1Q]-[170-180]', '[h2f_CKjQQg8]-[70-80]', '[ZtcHktwEfAU]-[0-10]', '[QCbUlDMu7Hk]-[420-430]', '[d6w3d9S1LVM]-[210-220]', '[KV4noVyGHa4]-[30-40]', '[9YnYlDFKn-U]-[30-40]', '[Ij1-640aafg]-[30-40]', '[2y1QnNBaxAU]-[30-40]', '[emDU4QvdwVk]-[230-240]', '[leiPemYDg-8]-[110-120]', '[uAYPacrJnyQ]-[30-40]', '[jaJdPUAv6N0]-[30-40]', '[ZiHlhUvmgzQ]-[30-40]', '[cqolOXDF86g]-[30-40]', '[CgK0DU3KFBc]-[30-40]', '[1heMbyumHAo]-[30-40]', '[D4ccFYk3bhU]-[30-40]', '[TN53jpjqAGI]-[30-40]', '[JaGUY5ULTok]-[20-30]', '[A-7dmBdsFXc]-[70-80]', '[Xsvi5Mgl3qo]-[70-80]', '[ZK5M3DZejzk]-[30-40]', '[jPBg5cR8XeA]-[170-180]', '[15Mw2jyyHk0]-[30-40]', '[oMZcsGUi8ZE]-[0-10]', '[9Ijpv6e57a4]-[30-40]', '[Sl9ZkYViEIs]-[30-40]', '[J0t4VMnXDNM]-[0-10]', '[-FEPOSP7ay0]-[260-270]', '[GMtb7U-8IYM]-[30-40]', '[752bW5cjXzw]-[110-120]', '[FteW_2gNtD4]-[170-180]', '[gxzU5EqNL14]-[30-40]', '[EremEyLrdUY]-[170-180]', '[dDKUjMHerLs]-[50-60]', '[itT0_RhSipQ]-[410-420]', '[PTl5ixI1Ogc]-[30-40]', '[pQWpa484HQM]-[40-50]', '[y8gB3-yw3tE]-[30-40]', '[mpymEs4Mcw8]-[50-60]', '[WsDb16qzA5Q]-[160-170]', '[qAgZ__fk9LY]-[50-60]', '[4ueN2gGsH5Y]-[0-10]', '[VzHL56yq8bI]-[30-40]', '[9VE1-3q27Qg]-[20-30]', '[UzT20Rf8RPA]-[30-40]', '[pKFXFu8st9I]-[0-10]', '[tV2m7HFJprU]-[230-240]', '[lSbCqHZy_l4]-[110-120]', '[OzaVvthCvtk]-[30-40]', '[y5HkvusmkqM]-[50-60]', '[C3Jhu77uffQ]-[0-10]', '[SSO7F_Ex0s4]-[60-70]', '[DaeJYtWgcoI]-[30-40]', '[66B46E_hrrk]-[140-150]', '[X2gHQb5ubco]-[280-290]', '[gkB4KBHBV9g]-[130-140]', '[jS9u6X6TQmk]-[30-40]', '[bkzGHRpx5MM]-[30-40]', '[RDW_kz4SXo0]-[70-80]', '[Eop_sG9FVgA]-[30-40]', '[l1coM570kVw]-[30-40]', '[ICtri0ElFZc]-[30-40]', '[xWmcax3aX5U]-[80-90]', '[WCifI6rwOoM]-[30-40]', '[Q6SgmlYMYLA]-[30-40]', '[E4a3s8NRqUM]-[70-80]', '[mhru3GXbkHY]-[30-40]', '[MROotmz8a-U]-[180-190]', '[0MzrXd8CUCg]-[30-40]', '[7ZXz3Xa7APs]-[0-10]', '[acEHGV7Gq6U]-[30-40]', '[uGfd3xanwro]-[50-60]', '[aKhM6zyL--k]-[330-340]', '[wC0mY7NzihY]-[380-390]', '[3PuzzYmTDA4]-[70-80]', '[wZopmfXTtxw]-[30-40]', '[uPGasFKZSBo]-[30-40]', '[YSrTtw6ku2E]-[200-210]', '[Z0htOHTOtHY]-[210-220]', '[ajy9PM2SJ6c]-[190-200]', '[Jj9orXFko0Y]-[30-40]', '[CFT9P94NMDw]-[40-50]', '[pG6yeC3yUY4]-[30-40]', '[vrNQbCbBlLY]-[130-140]', '[oSg1VJHiPOE]-[10-20]', '[FGZ0sLt4dXA]-[80-90]', '[3zT0aiN2E70]-[30-40]', '[EPvnkbo5wrI]-[150-160]', '[p_o6NQX7lmE]-[0-10]', '[tEZU-ZRhSoY]-[80-90]', '[RIpfb9LSFe8]-[30-40]', '[kGo-dAQXtsA]-[30-40]', '[07FxCXxknY4]-[30-40]', '[yzjbAxCnt7U]-[50-60]', '[g2H8i_TuhgI]-[30-40]', '[Gde1fn1Y1uM]-[30-40]', '[9UCLvFqkFxk]-[140-150]', '[67S7s_jFXhc]-[30-40]', '[YqZNMFyPJOQ]-[240-250]', '[ji5wvUUQjHY]-[450-460]', '[7XMqcbZKNNw]-[30-40]', '[sxMYFYDNF_g]-[140-150]', '[KXRngbBe0bg]-[80-90]', '[ad6UhYwTXXQ]-[30-40]', '[1VKSpjXZvKo]-[150-160]', '[4vsI0Kwn8jY]-[30-40]', '[bkXrQyDbKtk]-[0-10]', '[xVab_CbwecE]-[60-70]', '[Dk7ziLlNfeM]-[10-20]', '[5-aS_pyXesM]-[20-30]', '[M4SIUPA05yc]-[90-100]', '[Sj5MQtqDw8Y]-[80-90]', '[4HfU5OQUqq0]-[220-230]', '[bKm2_67xtVs]-[80-90]', '[46WpyRUqwXU]-[30-40]', '[-7B9tPuIP-w]-[450-460]', '[0q-80dzp6PU]-[60-70]', '[XzlDa1dzUh4]-[0-10]', '[5P5XAclO8ko]-[140-150]', '[p0oRrGDrQQw]-[180-190]', '[nnc6m1pBJ4c]-[0-10]', '[6lPgzqrvHHw]-[280-290]', '[1ACn3u5UnBw]-[30-40]', '[MzUgHy7SyS8]-[30-40]', '[YB_PzRgHOeo]-[30-40]', '[AVVfOYSmexM]-[30-40]', '[w5qf9O6c20o]-[30-40]', '[qjJ41iwU9LY]-[130-140]', '[sp77ueBkqS0]-[60-70]', '[ITYv4126yhk]-[0-10]', '[t8SLY7xn7Sc]-[80-90]', '[DW3z-ByrfWY]-[380-390]', '[OII3VJoE0WA]-[30-40]', '[Zq92ED3IvLQ]-[120-130]', '[Jq2w30NYstQ]-[100-110]', '[Ck_bvV8Aa-k]-[170-180]', '[w35p3oCU0g4]-[20-30]', '[Jsk3ZUGvP-o]-[410-420]', '[opu2tXoVNKU]-[130-140]', '[iQAXwX28LLw]-[0-10]', '[BSe5J0KlN3k]-[500-510]', '[Qu76GhRO9Yk]-[20-30]', '[tw0BGErgupk]-[80-90]', '[n_boIyhZqWc]-[30-40]', '[QqRrZzOY2xw]-[30-40]', '[W_zgEkvp4xU]-[140-150]', '[338iZ76huSQ]-[80-90]', '[y0w7FyJcZ8w]-[30-40]', '[CRHEuoCnI74]-[30-40]', '[SwRjY1-ojAU]-[30-40]', '[bkYWnzw_5Bs]-[30-40]', '[wXmIm6Bq3Tc]-[30-40]', '[1ILLsA6gqHE]-[30-40]', '[5keRbrVx-G4]-[30-40]', '[yQN9gj7Vk0w]-[70-80]', '[KdNhYvN4Xoo]-[30-40]', '[HEhogaw0vUg]-[30-40]', '[BdKiPR3kdjo]-[30-40]', '[A2pgKzeDRqg]-[80-90]', '[Jdy08IPLKdw]-[30-40]', '[z9hRQiJMnIw]-[30-40]', '[wcLPCMoy5hk]-[50-60]', '[Th6Tf6kA8RU]-[30-40]', '[0lIETNZ_7sg]-[30-40]', '[R6mhBqTU0Tc]-[30-40]', '[NDJEKij2qOg]-[90-100]', '[YErpnsceZw8]-[50-60]', '[Z5x5BLzQKZI]-[10-20]', '[TTytcT_1dmY]-[120-130]', '[I5KHYgtrVBw]-[30-40]', '[Aak-VLHtFPM]-[70-80]', '[vrMmkVV4SOE]-[30-40]', '[RGTWqZoswAo]-[30-40]', '[wL4HaT8rEVU]-[30-40]', '[N-dzfI3L5ic]-[30-40]', '[uF1KTW5rT-s]-[30-40]', '[aeDZVfGk7bk]-[0-10]', '[Fa1KdG8niq0]-[30-40]', '[qlk02ytcnPU]-[50-60]', '[CwmUMySSNQc]-[30-40]', '[VzGHr0aV220]-[140-150]', '[fvw3Bi0GONA]-[30-40]', '[DNYDyXn6qso]-[30-40]', '[n615BjoN7fI]-[50-60]', '[PrMKUjFxrvQ]-[150-160]', '[DKBbLySEGic]-[30-40]', '[YLlbLSNxdQ4]-[200-210]', '[KChjW89XOF0]-[30-40]', '[kdxW11WBlQE]-[150-160]', '[3ZhyXbwFQAM]-[200-210]', '[w0A-4EbkVz8]-[50-60]', '[yIFP8fkq8GU]-[90-100]', '[IhNPDueFVSo]-[50-60]', '[lwQVcLxFBIQ]-[20-30]', '[IT5hcf0KhYE]-[30-40]', '[2BBAUwC1BI4]-[70-80]', '[7FkuqqdWRhw]-[170-180]', '[JFJuEOZx1K4]-[160-170]', '[eX1Hynef5Rc]-[0-10]', '[8Z5xnSxUmGE]-[60-70]', '[MQ1Q7xydJPU]-[220-230]', '[2CzfBZ1mYBs]-[170-180]', '[CPr0YRTcaKg]-[0-10]', '[RFKTlhbnfXA]-[110-120]', '[yaUK4XvVGTg]-[90-100]', '[a4jcJ7QZ-OQ]-[150-160]', '[-1UWSisR2zo]-[30-40]', '[ZMd8mAKe-k8]-[30-40]', '[yPzhMx3NPW4]-[30-40]', '[2xATintzaj4]-[60-70]', '[dNQh2iLVAoY]-[40-50]', '[11fNNN95_og]-[30-40]', '[9xV0nmojVeg]-[30-40]', '[LAHWV6fZwUk]-[30-40]', '[gRn6OjQf2ZQ]-[30-40]', '[7Mv4eKPe850]-[110-120]', '[4CkJjhuYRmY]-[10-20]', '[0ADP-O_V3vA]-[30-40]', '[Uu8m1oOWkiE]-[120-130]', '[cF7317DK0NQ]-[80-90]', '[9IdAIIywBfY]-[30-40]', '[O28kY0aN8VI]-[30-40]', '[u1a5eyk-9ig]-[10-20]', '[ZfR3_QJF8f4]-[30-40]', '[qaQjG9SwORU]-[30-40]', '[-zA6LL78KYU]-[120-130]', '[dEc7tV30KJo]-[30-40]', '[1SqihV_DnEg]-[30-40]', '[_IkLUOsNHAA]-[0-10]', '[qVgVh9t_7ac]-[50-60]', '[lFv1MJSSWNs]-[30-40]', '[tFVvupXoRoM]-[30-40]', '[3zntWbS9XeI]-[70-80]', '[DA3fNvbZoBM]-[80-90]', '[CVLqZyUwqv8]-[200-210]', '[em7akjDUsWk]-[30-40]', '[EC4GbkL3XvI]-[80-90]', '[COe_UKKVpVo]-[30-40]', '[Lrhy2auO6hY]-[30-40]', '[FbV2Lgt3H1Q]-[30-40]', '[Hg4f2xt3oKA]-[30-40]', '[1YPYQP6yupA]-[30-40]', '[25RWrqQol7Y]-[30-40]', '[S48GsFznk50]-[110-120]', '[CEJXvm2vH_4]-[30-40]', '[AareFwTIg1s]-[90-100]', '[1cqcTbDxsHM]-[130-140]', '[zixIuxzCCvs]-[30-40]', '[tWByqbOvYQE]-[100-110]', '[e2tZmQI8ICw]-[230-240]', '[XvyaEbEpAMc]-[30-40]', '[4kyWH8eWP8M]-[30-40]', '[jjg0TCq3wbY]-[30-40]', '[C5MhO2HM2Wg]-[30-40]', '[b62RgDBmly8]-[30-40]', '[tUJ_ZniLjhc]-[70-80]', '[JNW76fDWkA0]-[80-90]', '[Al_OdIuqoe0]-[30-40]', '[LCzldLY3E4g]-[30-40]', '[zmbwvsdXlBU]-[30-40]', '[Wh5JSj89tW8]-[40-50]', '[aT7LGemDB40]-[30-40]', '[hZfCziBaGTI]-[0-10]', '[MXdVnDVjSL8]-[30-40]', '[IF-77lLlMzE]-[30-40]', '[9ohu45KlgYA]-[120-130]', '[fBEGBuO3RXg]-[30-40]', '[vyNstX5b1V8]-[290-300]', '[4lcZkOMhKv8]-[330-340]', '[UeYmnV-B8so]-[20-30]', '[Ximk6BHj9nE]-[30-40]', '[v5nB2OJnCko]-[10-20]', '[WKL40jfQD3g]-[120-130]', '[HDSV7Pzq8CA]-[80-90]', '[ZdqPnWEANuI]-[310-320]', '[wwHi10qX8u8]-[300-310]', '[jlIbJVfnHB4]-[30-40]', '[EBpa2CADNJA]-[140-150]', '[-f6s6kQEHFY]-[0-10]', '[Hxf1seOpijE]-[10-20]', '[woyCm7d2UIM]-[30-40]', '[YnE5ONaXtLY]-[80-90]', '[dPCj4WhTZ3c]-[40-50]', '[vx5iuWuE2Ng]-[30-40]', '[ZleHXDirD58]-[80-90]', '[nBSMh7pgn2o]-[170-180]', '[yFh6J72KnCM]-[30-40]', '[cYSW6Y884dA]-[180-190]', '[UC_XpUcIQ_8]-[60-70]', '[hIEj8msjg8E]-[30-40]', '[x1S2oreZBWU]-[30-40]', '[vmBkZflwViA]-[10-20]', '[VMzn9GytUTk]-[30-40]', '[KWpsFxRTGkI]-[30-40]', '[O40E8bpmONQ]-[30-40]', '[IKq2OF8jq1c]-[60-70]', '[hSK405L-DlQ]-[170-180]', '[ADffHhHMtjU]-[30-40]', '[0hfU27A6tus]-[70-80]', '[I-xPuRe9vF0]-[210-220]', '[LgKOnHwaCmg]-[30-40]', '[hTAWbHXCJ2A]-[60-70]', '[smU92Nu0FmY]-[30-40]', '[FNnKFUkFJ5M]-[0-10]', '[Ife1WaGirdQ]-[30-40]', '[GPSqrciDLog]-[30-40]', '[1dt9eL2rmSY]-[30-40]', '[4HhJneiP-hY]-[0-10]', '[UD0pisqyLKA]-[40-50]', '[3rbWoeUg9yo]-[30-40]', '[SEDfsU63w8I]-[30-40]', '[WTVC7ZI9WtY]-[30-40]', '[C6ws4MxOH2Y]-[220-230]', '[C9e2k030QcY]-[30-40]', '[8CY7G2NrlxY]-[30-40]', '[uYCMVgUAwnM]-[30-40]', '[DJHEBMNPc-A]-[0-10]', '[hTPxqUtlLdo]-[30-40]', '[IISJXKl1Ih4]-[200-210]', '[7J6U-HE3Lko]-[100-110]', '[zXxJymYt8Z4]-[30-40]', '[ad6gQQ_0evk]-[30-40]', '[B_tbkQYT9N0]-[30-40]', '[iePMcLYozYY]-[90-100]', '[t7oAteGa55g]-[90-100]', '[BYnYTgeM6Go]-[30-40]', '[2-K-7T8ZIWA]-[20-30]', '[CMfAu72qma0]-[250-260]', '[vQcB6NI7cMo]-[310-320]', '[I2yA-F-_A2E]-[80-90]', '[Vo6eT8eMMfQ]-[30-40]', '[OFJG5Wo_knI]-[30-40]', '[17AtKbQ7glU]-[590-600]', '[L1s-oPHsOac]-[30-40]', '[xgwzTQ8vnso]-[30-40]', '[UhcoWyEQwBI]-[160-170]', '[EC_JNTVDrok]-[10-20]', '[tt5-i1R78ms]-[30-40]', '[ZgcZPBUKxd8]-[30-40]', '[s2GctT6NuyQ]-[30-40]', '[2_kLD3IbF2c]-[10-20]', '[2RU4CSDzS-g]-[30-40]', '[NsR60ehkHGA]-[30-40]', '[P007re8_iyY]-[70-80]', '[5a_Qxd4ECTo]-[410-420]', '[iaonijK95qA]-[590-600]', '[6TSluKI0X54]-[30-40]', '[zjZV0tvur2I]-[180-190]', '[aE_CVWMWK74]-[390-400]', '[n3EeS2mVU5w]-[30-40]', '[DC0C-KO9EJk]-[100-110]', '[ecS6SJGkhIw]-[40-50]', '[sU08gu2zJ4c]-[110-120]', '[WmTDKYYH5OU]-[180-190]', '[-qcTD2o6I9s]-[30-40]', '[DP2vmsftZHY]-[30-40]', '[YB28WMv7wUE]-[0-10]', '[Q0VVfneN8MI]-[110-120]', '[tOnjlUzqSC4]-[30-40]', '[xMCLKME4hAY]-[110-120]', '[uUNlJ4KZTPE]-[20-30]', '[0zolXzR9Oi4]-[30-40]', '[78BtX0oNXHQ]-[100-110]', '[ZSHm7FdyxpQ]-[30-40]', '[3e6GleQ9sl0]-[30-40]', '[nONXdP6T3pc]-[80-90]', '[-m9pH0WXQto]-[110-120]', '[J9PJI1UwIQ4]-[30-40]', '[Jjr0_CbcYdg]-[30-40]', '[1W2Cz2Jj76Q]-[30-40]', '[WhEd8h7J0Lk]-[360-370]', '[JZyw6YUsGzo]-[200-210]', '[-tpq_bzSKes]-[10-20]', '[WoXgPQQjcJU]-[60-70]', '[VLjcIlZvkY0]-[30-40]', '[wgIf0FX6WzI]-[290-300]', '[8WnXfe3ud4E]-[270-280]', '[fYvUB-qy4IM]-[10-20]', '[esIzFH7vYLY]-[60-70]', '[FgUSmmTEE3M]-[0-10]', '[K9zE9x2ccJk]-[80-90]', '[ZJHlHb-VyDc]-[30-40]', '[i_d4JFg-zT0]-[30-40]', '[cnmedj0fYTQ]-[10-20]', '[gEYTdeQiFv8]-[30-40]', '[nqd7mXvHupU]-[90-100]', '[AzsBSUmhl1M]-[30-40]', '[KU2bOYiBX28]-[80-90]', '[zYRI-R2gxUI]-[90-100]', '[rC4PNZ1XOmU]-[100-110]', '[Ha-FS_CHmGw]-[60-70]', '[G7pD1K3jYg4]-[30-40]', '[rrAIuGMTqtA]-[260-270]', '[gBuLpP4klvI]-[30-40]', '[2YAyM0aHFRU]-[150-160]', '[hrCf8rMBtA8]-[70-80]', '[MV4tgzc9X6s]-[10-20]', '[LRz6Y6oltQ4]-[100-110]', '[-OUIEnuNd1I]-[30-40]', '[Wvh59Y4OzUM]-[70-80]', '[KZ8gBHLNmH0]-[110-120]', '[P0vjXnnIiR4]-[220-230]', '[atWaDoSyGgY]-[10-20]', '[aSyRV5j2zV4]-[320-330]', '[ao-TFiShaWU]-[120-130]', '[3UHHjbO0ThM]-[30-40]', '[SxYnb9_qDtk]-[30-40]', '[2zjtZYqg3Ow]-[30-40]', '[1O4LpU7HggY]-[30-40]', '[qh-4EDX4agQ]-[140-150]', '[VZJfkEet6EQ]-[30-40]', '[1QFli7KSXAQ]-[30-40]', '[gpEU6RafUf0]-[30-40]', '[0QYNC7J05XI]-[30-40]', '[At5v5ZZQHmw]-[30-40]', '[q4PfLl3JVfg]-[30-40]', '[NmwmOY6iBFg]-[30-40]', '[mCjsuxzcl2k]-[30-40]', '[piY4mt4F9xg]-[40-50]', '[doab948Y_X4]-[30-40]', '[kTBlMy4dtC0]-[30-40]']\n"
          ]
        }
      ],
      "source": [
        "#Extracting the audio file names\n",
        "# Remove '.wav.mp3' from each element in the list\n",
        "audio_list = [file_name.replace('.wav.mp3', '') for file_name in audio_list]\n",
        "\n",
        "print(audio_list)"
      ]
    },
    {
      "cell_type": "code",
      "execution_count": 5,
      "metadata": {},
      "outputs": [],
      "source": [
        "#Import paraquet files from \"https://huggingface.co/datasets/seungheondoh/LP-MusicCaps-MC/tree/main/data\"\n",
        "test_tags = pd.read_parquet('/home/mendu/Thesis/data/musiccaps/test-00000-of-00001-7f4171b43c96395e.parquet', engine='pyarrow')\n",
        "train_tags = pd.read_parquet('/home/mendu/Thesis/data/musiccaps/train-00000-of-00001-c4a67f61bdb1fbf4.parquet', engine='pyarrow')\n",
        "meta_df = pd.concat([train_tags, test_tags]).reset_index(drop= True)"
      ]
    },
    {
      "cell_type": "code",
      "execution_count": 6,
      "metadata": {},
      "outputs": [
        {
          "name": "stdout",
          "output_type": "stream",
          "text": [
            "                      fname         ytid  \\\n",
            "0     [-0SdAVK79lg]-[30-40]  -0SdAVK79lg   \n",
            "1     [-1LrH01Ei1w]-[30-40]  -1LrH01Ei1w   \n",
            "2     [-4NLarMj4xU]-[30-40]  -4NLarMj4xU   \n",
            "3     [-5f6hjZf9Yw]-[30-40]  -5f6hjZf9Yw   \n",
            "4     [-5xOcMJpTUk]-[70-80]  -5xOcMJpTUk   \n",
            "...                     ...          ...   \n",
            "5516  [zrrM6Qg2Dwg]-[30-40]  zrrM6Qg2Dwg   \n",
            "5517  [ztfegVzqeCI]-[30-40]  ztfegVzqeCI   \n",
            "5518  [zwfo7wnXdjs]-[30-40]  zwfo7wnXdjs   \n",
            "5519  [zx_vcwOsDO4]-[50-60]  zx_vcwOsDO4   \n",
            "5520  [zzNdwF40ID8]-[70-80]  zzNdwF40ID8   \n",
            "\n",
            "                                            aspect_list  \\\n",
            "0     [guitar song, piano backing, simple percussion...   \n",
            "1     [rubab instrument, repetitive melody on differ...   \n",
            "2     [pop, tinny wide hi hats, mellow piano melody,...   \n",
            "3     [folk music, rubab, male voice, slow tempo, em...   \n",
            "4     [guitarist, male talking, twang sounds, medioc...   \n",
            "...                                                 ...   \n",
            "5516  [steel pan music, happy mood, caribbean feel, ...   \n",
            "5517  [female singer, synth bass, reverb, theremin, ...   \n",
            "5518  [instrumental music, arabic music, generationa...   \n",
            "5519  [instrumental, no voice, electric guitar, dist...   \n",
            "5520  [glitch, noise, instrumental, electronic, synt...   \n",
            "\n",
            "                                   caption_ground_truth  \\\n",
            "0     This song features an electric guitar as the m...   \n",
            "1     This song features a rubber instrument being p...   \n",
            "2     The Pop song features a soft female vocal sing...   \n",
            "3     This folk song features a male voice singing t...   \n",
            "4     A male guitarist plays the guitar and speaks a...   \n",
            "...                                                 ...   \n",
            "5516  This song features the main melody played on a...   \n",
            "5517  A quirky drum machine and warm synth bass prov...   \n",
            "5518  The song is an instrumental. The song is mediu...   \n",
            "5519  The rock music is purely instrumental and feat...   \n",
            "5520  This is a glitch music piece. There is a synth...   \n",
            "\n",
            "                                        caption_writing  \\\n",
            "0     This gentle guitar song featuring a piano back...   \n",
            "1     An energizing instrumental track featuring the...   \n",
            "2     This pop ballad is filled with a mix of tinny ...   \n",
            "3     This emotional folk ballad features a poignant...   \n",
            "4     This energetic song demo features a passionate...   \n",
            "...                                                 ...   \n",
            "5516  Get swept away to a tropical paradise with thi...   \n",
            "5517  This female singer brings an unconventional an...   \n",
            "5518  This instrumental Arabic music piece is a true...   \n",
            "5519  This instrumental rock song showcases electric...   \n",
            "5520  This instrumental electronic track features gl...   \n",
            "\n",
            "                                        caption_summary  \\\n",
            "0     This instrumental song features a relaxing mel...   \n",
            "1     A fast tempo instrumental song featuring the r...   \n",
            "2     The pop song features a mellow piano melody, s...   \n",
            "3     A slow, emotional folk song featuring a male v...   \n",
            "4     This energetic and passionate song features a ...   \n",
            "...                                                 ...   \n",
            "5516  An instrumental song with a caribbean feel, ha...   \n",
            "5517  A sci-fi and unconventional song features a fe...   \n",
            "5518  A passionate, medium tempo instrumental Arabic...   \n",
            "5519  An electrifying rock instrumental with virtuos...   \n",
            "5520  The song features glitch, noise, and eerie ris...   \n",
            "\n",
            "                                     caption_paraphrase  \\\n",
            "0     The instrumental guitar song boasts a soothing...   \n",
            "1     Experience the electrifying prowess of the tru...   \n",
            "2     This pop ballad features a delicate piano melo...   \n",
            "3     This touching folk ballad featuring a male voc...   \n",
            "4     This home music video showcases a male guitari...   \n",
            "...                                                 ...   \n",
            "5516  This upbeat instrumental allows listeners to b...   \n",
            "5517  Get ready to blast off into a sci-fi themed mu...   \n",
            "5518  Experience the rich and passionate sounds of g...   \n",
            "5519  Immerse yourself in the electrifying sound of ...   \n",
            "5520  Get lost in the rising-and-falling glitch and ...   \n",
            "\n",
            "                           caption_attribute_prediction  \\\n",
            "0     This instrumental guitar song has a soft and r...   \n",
            "1     This instrumental song features the rubab inst...   \n",
            "2     This pop ballad features tinny wide hi hats an...   \n",
            "3     This heart-wrenching folk song features a mesm...   \n",
            "4     This home music video features a male guitaris...   \n",
            "...                                                 ...   \n",
            "5516  This instrumental track captures the joyful es...   \n",
            "5517  In this unconventional and retro sci-fi inspir...   \n",
            "5518  This passionate instrumental Arabic dance musi...   \n",
            "5519  This instrumental rock song features a powerfu...   \n",
            "5520  The glitchy and noisy instrumental track featu...   \n",
            "\n",
            "                                       pseudo_attribute  is_crawled  \\\n",
            "0                 [acoustic, folksy, chord progression]        True   \n",
            "1                                   [drum, bass guitar]        True   \n",
            "2     [solo guitar, subtle strings, bright acoustic ...        True   \n",
            "3      [harmonica, melancholic lyrics, acoustic guitar]        True   \n",
            "4     [electric guitar, rock genre, guitar riff, gui...        True   \n",
            "...                                                 ...         ...   \n",
            "5516  [upbeat tempo, island rhythm, solo steel pan, ...        True   \n",
            "5517  [futuristic sound effects, glitchy electronics...        True   \n",
            "5518              [eastern scales, oud, darbuka, qanun]        True   \n",
            "5519             [heavy drums, power chords, shredding]        True   \n",
            "5520  [ambient, experimental, drone, atmospheric, mi...        True   \n",
            "\n",
            "      author_id  start_s  end_s  \\\n",
            "0             0       30     40   \n",
            "1             0       30     40   \n",
            "2             4       30     40   \n",
            "3             0       30     40   \n",
            "4             1       70     80   \n",
            "...         ...      ...    ...   \n",
            "5516          0       30     40   \n",
            "5517          8       30     40   \n",
            "5518          1       30     40   \n",
            "5519          2       50     60   \n",
            "5520          9       70     80   \n",
            "\n",
            "                               audioset_positive_labels  is_balanced_subset  \\\n",
            "0     /m/0155w,/m/01lyv,/m/0342h,/m/042v_gx,/m/04rlf...               False   \n",
            "1                                   /m/02p0sh1,/m/04rlf               False   \n",
            "2                                   /m/04rlf,/t/dd00034               False   \n",
            "3                                     /m/02w4v,/m/04rlf               False   \n",
            "4     /m/018vs,/m/0342h,/m/042v_gx,/m/04rlf,/m/04szw...               False   \n",
            "...                                                 ...                 ...   \n",
            "5516                                 /m/04rlf,/m/0l156b                True   \n",
            "5517    /m/015lz1,/m/01v1d8,/m/04rlf,/m/07kc_,/m/0l14qv                True   \n",
            "5518                      /m/02p0sh1,/m/04rlf,/m/06j64v                True   \n",
            "5519  /m/01glhc,/m/02sgy,/m/0342h,/m/03lty,/m/04rlf,...                True   \n",
            "5520                                  /m/04rlf,/m/0790c                True   \n",
            "\n",
            "      is_audioset_eval  \n",
            "0                False  \n",
            "1                False  \n",
            "2                False  \n",
            "3                False  \n",
            "4                False  \n",
            "...                ...  \n",
            "5516              True  \n",
            "5517              True  \n",
            "5518              True  \n",
            "5519              True  \n",
            "5520              True  \n",
            "\n",
            "[5521 rows x 16 columns]\n"
          ]
        }
      ],
      "source": [
        "print(meta_df)"
      ]
    },
    {
      "cell_type": "code",
      "execution_count": 7,
      "metadata": {},
      "outputs": [
        {
          "data": {
            "text/html": [
              "<div>\n",
              "<style scoped>\n",
              "    .dataframe tbody tr th:only-of-type {\n",
              "        vertical-align: middle;\n",
              "    }\n",
              "\n",
              "    .dataframe tbody tr th {\n",
              "        vertical-align: top;\n",
              "    }\n",
              "\n",
              "    .dataframe thead th {\n",
              "        text-align: right;\n",
              "    }\n",
              "</style>\n",
              "<table border=\"1\" class=\"dataframe\">\n",
              "  <thead>\n",
              "    <tr style=\"text-align: right;\">\n",
              "      <th></th>\n",
              "      <th>fname</th>\n",
              "      <th>ytid</th>\n",
              "      <th>aspect_list</th>\n",
              "      <th>caption_ground_truth</th>\n",
              "      <th>caption_writing</th>\n",
              "      <th>caption_summary</th>\n",
              "      <th>caption_paraphrase</th>\n",
              "      <th>caption_attribute_prediction</th>\n",
              "      <th>pseudo_attribute</th>\n",
              "      <th>is_crawled</th>\n",
              "      <th>author_id</th>\n",
              "      <th>start_s</th>\n",
              "      <th>end_s</th>\n",
              "      <th>audioset_positive_labels</th>\n",
              "      <th>is_balanced_subset</th>\n",
              "      <th>is_audioset_eval</th>\n",
              "    </tr>\n",
              "  </thead>\n",
              "  <tbody>\n",
              "    <tr>\n",
              "      <th>0</th>\n",
              "      <td>[-0SdAVK79lg]-[30-40]</td>\n",
              "      <td>-0SdAVK79lg</td>\n",
              "      <td>[guitar song, piano backing, simple percussion...</td>\n",
              "      <td>This song features an electric guitar as the m...</td>\n",
              "      <td>This gentle guitar song featuring a piano back...</td>\n",
              "      <td>This instrumental song features a relaxing mel...</td>\n",
              "      <td>The instrumental guitar song boasts a soothing...</td>\n",
              "      <td>This instrumental guitar song has a soft and r...</td>\n",
              "      <td>[acoustic, folksy, chord progression]</td>\n",
              "      <td>True</td>\n",
              "      <td>0</td>\n",
              "      <td>30</td>\n",
              "      <td>40</td>\n",
              "      <td>/m/0155w,/m/01lyv,/m/0342h,/m/042v_gx,/m/04rlf...</td>\n",
              "      <td>False</td>\n",
              "      <td>False</td>\n",
              "    </tr>\n",
              "    <tr>\n",
              "      <th>1</th>\n",
              "      <td>[-1LrH01Ei1w]-[30-40]</td>\n",
              "      <td>-1LrH01Ei1w</td>\n",
              "      <td>[rubab instrument, repetitive melody on differ...</td>\n",
              "      <td>This song features a rubber instrument being p...</td>\n",
              "      <td>An energizing instrumental track featuring the...</td>\n",
              "      <td>A fast tempo instrumental song featuring the r...</td>\n",
              "      <td>Experience the electrifying prowess of the tru...</td>\n",
              "      <td>This instrumental song features the rubab inst...</td>\n",
              "      <td>[drum, bass guitar]</td>\n",
              "      <td>True</td>\n",
              "      <td>0</td>\n",
              "      <td>30</td>\n",
              "      <td>40</td>\n",
              "      <td>/m/02p0sh1,/m/04rlf</td>\n",
              "      <td>False</td>\n",
              "      <td>False</td>\n",
              "    </tr>\n",
              "    <tr>\n",
              "      <th>2</th>\n",
              "      <td>[-4NLarMj4xU]-[30-40]</td>\n",
              "      <td>-4NLarMj4xU</td>\n",
              "      <td>[pop, tinny wide hi hats, mellow piano melody,...</td>\n",
              "      <td>The Pop song features a soft female vocal sing...</td>\n",
              "      <td>This pop ballad is filled with a mix of tinny ...</td>\n",
              "      <td>The pop song features a mellow piano melody, s...</td>\n",
              "      <td>This pop ballad features a delicate piano melo...</td>\n",
              "      <td>This pop ballad features tinny wide hi hats an...</td>\n",
              "      <td>[solo guitar, subtle strings, bright acoustic ...</td>\n",
              "      <td>True</td>\n",
              "      <td>4</td>\n",
              "      <td>30</td>\n",
              "      <td>40</td>\n",
              "      <td>/m/04rlf,/t/dd00034</td>\n",
              "      <td>False</td>\n",
              "      <td>False</td>\n",
              "    </tr>\n",
              "    <tr>\n",
              "      <th>3</th>\n",
              "      <td>[-5f6hjZf9Yw]-[30-40]</td>\n",
              "      <td>-5f6hjZf9Yw</td>\n",
              "      <td>[folk music, rubab, male voice, slow tempo, em...</td>\n",
              "      <td>This folk song features a male voice singing t...</td>\n",
              "      <td>This emotional folk ballad features a poignant...</td>\n",
              "      <td>A slow, emotional folk song featuring a male v...</td>\n",
              "      <td>This touching folk ballad featuring a male voc...</td>\n",
              "      <td>This heart-wrenching folk song features a mesm...</td>\n",
              "      <td>[harmonica, melancholic lyrics, acoustic guitar]</td>\n",
              "      <td>True</td>\n",
              "      <td>0</td>\n",
              "      <td>30</td>\n",
              "      <td>40</td>\n",
              "      <td>/m/02w4v,/m/04rlf</td>\n",
              "      <td>False</td>\n",
              "      <td>False</td>\n",
              "    </tr>\n",
              "    <tr>\n",
              "      <th>4</th>\n",
              "      <td>[-5xOcMJpTUk]-[70-80]</td>\n",
              "      <td>-5xOcMJpTUk</td>\n",
              "      <td>[guitarist, male talking, twang sounds, medioc...</td>\n",
              "      <td>A male guitarist plays the guitar and speaks a...</td>\n",
              "      <td>This energetic song demo features a passionate...</td>\n",
              "      <td>This energetic and passionate song features a ...</td>\n",
              "      <td>This home music video showcases a male guitari...</td>\n",
              "      <td>This home music video features a male guitaris...</td>\n",
              "      <td>[electric guitar, rock genre, guitar riff, gui...</td>\n",
              "      <td>True</td>\n",
              "      <td>1</td>\n",
              "      <td>70</td>\n",
              "      <td>80</td>\n",
              "      <td>/m/018vs,/m/0342h,/m/042v_gx,/m/04rlf,/m/04szw...</td>\n",
              "      <td>False</td>\n",
              "      <td>False</td>\n",
              "    </tr>\n",
              "  </tbody>\n",
              "</table>\n",
              "</div>"
            ],
            "text/plain": [
              "                   fname         ytid  \\\n",
              "0  [-0SdAVK79lg]-[30-40]  -0SdAVK79lg   \n",
              "1  [-1LrH01Ei1w]-[30-40]  -1LrH01Ei1w   \n",
              "2  [-4NLarMj4xU]-[30-40]  -4NLarMj4xU   \n",
              "3  [-5f6hjZf9Yw]-[30-40]  -5f6hjZf9Yw   \n",
              "4  [-5xOcMJpTUk]-[70-80]  -5xOcMJpTUk   \n",
              "\n",
              "                                         aspect_list  \\\n",
              "0  [guitar song, piano backing, simple percussion...   \n",
              "1  [rubab instrument, repetitive melody on differ...   \n",
              "2  [pop, tinny wide hi hats, mellow piano melody,...   \n",
              "3  [folk music, rubab, male voice, slow tempo, em...   \n",
              "4  [guitarist, male talking, twang sounds, medioc...   \n",
              "\n",
              "                                caption_ground_truth  \\\n",
              "0  This song features an electric guitar as the m...   \n",
              "1  This song features a rubber instrument being p...   \n",
              "2  The Pop song features a soft female vocal sing...   \n",
              "3  This folk song features a male voice singing t...   \n",
              "4  A male guitarist plays the guitar and speaks a...   \n",
              "\n",
              "                                     caption_writing  \\\n",
              "0  This gentle guitar song featuring a piano back...   \n",
              "1  An energizing instrumental track featuring the...   \n",
              "2  This pop ballad is filled with a mix of tinny ...   \n",
              "3  This emotional folk ballad features a poignant...   \n",
              "4  This energetic song demo features a passionate...   \n",
              "\n",
              "                                     caption_summary  \\\n",
              "0  This instrumental song features a relaxing mel...   \n",
              "1  A fast tempo instrumental song featuring the r...   \n",
              "2  The pop song features a mellow piano melody, s...   \n",
              "3  A slow, emotional folk song featuring a male v...   \n",
              "4  This energetic and passionate song features a ...   \n",
              "\n",
              "                                  caption_paraphrase  \\\n",
              "0  The instrumental guitar song boasts a soothing...   \n",
              "1  Experience the electrifying prowess of the tru...   \n",
              "2  This pop ballad features a delicate piano melo...   \n",
              "3  This touching folk ballad featuring a male voc...   \n",
              "4  This home music video showcases a male guitari...   \n",
              "\n",
              "                        caption_attribute_prediction  \\\n",
              "0  This instrumental guitar song has a soft and r...   \n",
              "1  This instrumental song features the rubab inst...   \n",
              "2  This pop ballad features tinny wide hi hats an...   \n",
              "3  This heart-wrenching folk song features a mesm...   \n",
              "4  This home music video features a male guitaris...   \n",
              "\n",
              "                                    pseudo_attribute  is_crawled  author_id  \\\n",
              "0              [acoustic, folksy, chord progression]        True          0   \n",
              "1                                [drum, bass guitar]        True          0   \n",
              "2  [solo guitar, subtle strings, bright acoustic ...        True          4   \n",
              "3   [harmonica, melancholic lyrics, acoustic guitar]        True          0   \n",
              "4  [electric guitar, rock genre, guitar riff, gui...        True          1   \n",
              "\n",
              "   start_s  end_s                           audioset_positive_labels  \\\n",
              "0       30     40  /m/0155w,/m/01lyv,/m/0342h,/m/042v_gx,/m/04rlf...   \n",
              "1       30     40                                /m/02p0sh1,/m/04rlf   \n",
              "2       30     40                                /m/04rlf,/t/dd00034   \n",
              "3       30     40                                  /m/02w4v,/m/04rlf   \n",
              "4       70     80  /m/018vs,/m/0342h,/m/042v_gx,/m/04rlf,/m/04szw...   \n",
              "\n",
              "   is_balanced_subset  is_audioset_eval  \n",
              "0               False             False  \n",
              "1               False             False  \n",
              "2               False             False  \n",
              "3               False             False  \n",
              "4               False             False  "
            ]
          },
          "execution_count": 7,
          "metadata": {},
          "output_type": "execute_result"
        }
      ],
      "source": [
        "#Printing the head of the train tags dataframe\n",
        "meta_df.head()"
      ]
    },
    {
      "cell_type": "code",
      "execution_count": 8,
      "metadata": {},
      "outputs": [
        {
          "data": {
            "text/plain": [
              "Index(['fname', 'ytid', 'aspect_list', 'caption_ground_truth',\n",
              "       'caption_writing', 'caption_summary', 'caption_paraphrase',\n",
              "       'caption_attribute_prediction', 'pseudo_attribute', 'is_crawled',\n",
              "       'author_id', 'start_s', 'end_s', 'audioset_positive_labels',\n",
              "       'is_balanced_subset', 'is_audioset_eval'],\n",
              "      dtype='object')"
            ]
          },
          "execution_count": 8,
          "metadata": {},
          "output_type": "execute_result"
        }
      ],
      "source": [
        "#Printing the columns in the tags files\n",
        "meta_df.columns"
      ]
    },
    {
      "cell_type": "code",
      "execution_count": 9,
      "metadata": {},
      "outputs": [
        {
          "data": {
            "text/plain": [
              "['[-0SdAVK79lg]-[30-40]',\n",
              " '[-1LrH01Ei1w]-[30-40]',\n",
              " '[-4NLarMj4xU]-[30-40]',\n",
              " '[-5f6hjZf9Yw]-[30-40]',\n",
              " '[-5xOcMJpTUk]-[70-80]']"
            ]
          },
          "execution_count": 9,
          "metadata": {},
          "output_type": "execute_result"
        }
      ],
      "source": [
        "#List of all the audio names in the meta_df\n",
        "meta_audio_names = meta_df['fname'].tolist()\n",
        "meta_audio_names[:5]"
      ]
    },
    {
      "cell_type": "code",
      "execution_count": 10,
      "metadata": {},
      "outputs": [
        {
          "name": "stdout",
          "output_type": "stream",
          "text": [
            "The length of the tags are 5521\n"
          ]
        }
      ],
      "source": [
        "print('The length of the tags are', len(meta_audio_names))"
      ]
    },
    {
      "cell_type": "code",
      "execution_count": 11,
      "metadata": {},
      "outputs": [
        {
          "name": "stdout",
          "output_type": "stream",
          "text": [
            "The audio files all have a tag row from the paraquet files\n"
          ]
        }
      ],
      "source": [
        "#Checking if all the filename in the audio_df for which we have an audio file for exists in the meta_df and hence has tags\n",
        "if set(audio_list).issubset(set(meta_audio_names)):\n",
        "    print('The audio files all have a tag row from the paraquet files')"
      ]
    },
    {
      "cell_type": "markdown",
      "metadata": {},
      "source": [
        "## Looking into the tags"
      ]
    },
    {
      "cell_type": "code",
      "execution_count": 12,
      "metadata": {},
      "outputs": [
        {
          "name": "stdout",
          "output_type": "stream",
          "text": [
            "['camels', 'live jam', 'funk song', 'woman shouting', 'country melody', 'flanger', 'sedative', 'metallic', 'water soundsample', 'autoharp accompaniment', 'brass', 'repeated vocal motif', 'country blues band', 'youthful music', 'pop/singer-songwriter', 'announcement', 'good vibrations', 'galloping beat', 'arabic', 'conch shell', 'slow paced', 'religious significance', 'low female vocal', 'mono', 'enticing', 'warm synth chord stabs', 'airway vibrations', 'string section playing rhythmically', 'wide echoing effects', 'live prrformance', 'voices', 'subdued song in background', 'hopeless', 'bouncy wooden percussions', 'high pitched female vocals', 'staccato brass section melody', 'orchestra plays', 'saxophone song', 'metal clanging rhythmically', 'loud passionate male vocal', 'small speaker', 'male background vocals', 'filtered echoing male vocal', 'practice sessions', 'wide wooden percussive elements', 'audio recording from movie', 'baby goat bleating sound effect', 'funky electric bass', 'hip hop dance music', 'aesthetic', 'dual keyboard', 'seasoned vocals', 'filtered pop vocal', 'punjabi music', 'music box tones', 'loud acoustic drums', 'sentimenal', 'trembling', 'open chords', 'ethereal song', 'electrical distortion', 'eastern pop', 'simple beat', 'pop-rap', 'buddha music', 'tv show', 'preach', 'synthesizer', 'shooting sound', 'live march', 'short snare hit', 'ska song', 'audio cutout', 'groovy sounds', 'skating home video', 'cumbia', 'synthetic strings and pads', 'beat boxing', 'addictive staccato violin melody', 'digital synth melody', 'low pitched and processed male voice', 'plucked violin melody', 'pastoral', 'reverberant percussions', 'war game', 'overdriven keyboard harmony', 'melodic singing', 'wedding dance music', 'jewish customs', 'soundboard', 'walking double bass', 'heavy vocal processing', 'tapping sounds', 'low didgeridoo tone', 'sound of fire', 'ascending run', 'fun cheerful', 'raspy voice', 'kids voices', 'groovy mood bass line', 'nightmarish landscape', 'teenage romance', 'mandira taal', 'movie soundtrack', 'tarmac sounds', 'simple punchy kick', 'sound-effect', 'guiros percussions', 'wide soft whispering male vocals', 'kids music', 'fairytale', 'wide aggressive electric guitar riff', 'woodwinds melody', 'manic drums', 'harmonizing woodwinds melody', 'strong bass drops', 'addictive synth brass lead melody', 'violinist', 'classical music influences', 'keyboard brass sound', 'mufffled audio', 'anticipation', 'spanish singer', 'marching style drumming', 'grunge tones', 'handheld game', 'syncopated piano accompaniment', 'asphalt sound effect', 'electric powered', 'caring', 'r&b/love-ballad', 'hip', 'keyboard accompaniment poor audio quality', 'demonstartional', 'soft piano chords', 'high pitched sound', 'excessive reverb', 'french inspired', 'rapid piano playing', 'instruments in unison', 'groovy synth keys bass', 'external amplification', 'faith music', 'italian ballad', 'no harmonies', 'attack', 'electric guitar lead and harmony', 'male processed voice rapping/singing', 'vinyl scratching', 'melodic death metal', 'rock instrumental playback', 'soca music', 'positive and happy music', 'low tom hits', 'wide range', 'marching drum rhythm', 'virtual sounds', 'mellow organ keys melody', 'retro classics', 'travel show background music', 'finger click', 'guitar playing', 'water flowing', 'simple steady solo piano', 'horror movie soundtrack', 'mexican', 'growling monster sounds', 'imposing music', 'buzzy guitar amp', 'lofi melody', 'soca', 'arpeggiated piano melody', 'high note', 'latin beat', 'deeper voice singing', 'wake up call', 'people dancing around a fire', 'ambient echoes', 'ascending notes', 'latin percussive elements', 'rockballad', 'low fidelity recording', 'stock sounds', 'encouraging song', 'string orchestra', 'indie male vocalist', 'rim shot', 'vocal percussion', 'beautiful music', 'funky electric guitars melodies', 'gibberish singing', 'peaceful music', 'kids voice singing', 'additive rhythm', 'speed picking', 'fast forwarding sound', 'irish folk singing', 'baroque music', 'clean sounding', 'suspenseful playing', 'orchestral string accompaniment', 'death metal', 'pizzicato strings', 'repetitive', 'autotuned vocal', 'booming bass drum', 'plucked oriental string instruments', 'two acoustic guitars strumming', 'motorbike sounds', 'cymbals crashing tones', 'slick percussion clicks', 'guitar strum', 'ferocious', 'dance with you', 'unrelated', 'popping sound', 'scraper instrument', 'chicago blues', 'wide shimmering bells', 'male deeper voice singing/screaming', 'wide sustained synth pad chords', 'vigorous keyboard harmony', 'sound of crashing', 'acoustic guitars', 'story telling', 'classical viola playing', 'bright synths', 'heavily synthesised', 'italian song', 'melodic electric guitar lead', 'female screaming sounds', 'husky voice', 'instrumental hip-hop', 'bongos', 'musical instruments', 'altai music', 'polished', 'acoustic pop hits', 'autotuned female vocal', 'experiments', 'rock drum pattern', 'string instrument', 'aggressive triangle cymbal', 'plucked string', 'synth melody', 'zumba dance hits', 'synth feedback', 'atmospheric music', 'titanic music', 'pause', 'wild animal', 'food', 'uptempo', 'in game sound effects', 'mellow strings section', 'country music hits', 'percussive shoe tapping', 'bellchoir', 'haunted', 'sound of turning pages', 'water leaking', 'roots rock', 'bass lead', 'out of tune', 'banjo band', 'retro blues hits', '50s/60s music', 'dynamic orchestra', 'string section hits', 'ominous', 'great vibrato', 'heavy metal music', 'manic solo electric guitar melody', 'struggle', 'enthusiastic amplified guitar', 'vigorous spanish guitar', 'passionate reverberant male vocal', 'keyboard tones', 'horror show', 'mellow cello melody', 'lao folk music', \"80's\", 'crowd cough', 'contemporary jazz', 'echoing female vocal', 'vigorous drumming sound', 'doors banging', 'amateur pop music', 'wide resonating bowl tones', 'techno tones', 'drumming', 'orchestral ballade', 'passionate girl vocal', 'lively catchy beat', 'school concert', 'shimmering open hats', 'romantic emotional', 'pop/synth-pop', 'high pitched wind instrument', 'woodblock one shots', 'percussive slap', 'ska genre', 'odern pop hits', 'cool', 'animated electronic sound', 'drum', 'blades turning', 'knocking on guitar', 'sythesiser arrangements', 'guitar lead', 'african instrument', 'twinkling sounds', 'smooth piano melody', 'wide repetitive synth melody', 'healing chakras', 'motif', 'male narrator voice', 'string section', 'super mario tune', 'tap dance music', 'adult contemporary', 'emphatic vocals', 'synth pop', 'sloppy acoustic rhythm guitar', 'trumpet flourish', 'high gain limits', 'synchronous singing', 'male opera voice', 'simple bass guitar', 'russian pop hits', 'guitar playing lead', 'forest music', 'chipmunk vocal', 'rhythmic chanting', 'sigh-like singing', 'toddlers', 'victory march', 'pomp and glory', 'synth bass', 'xylophone plays melody', 'high pitch', 'xylophone melody', 'country classics', 'indian blow horn', 'unique', 'incoherent sound', 'layers building gradually', 'laughing male sounds', 'wooden percussion instrument', 'latin dancers', 'male voice singing vocables', 'french', 'goth rock', 'carnival', 'ocean sounds', 'beat boxing song', 'amateur jazz musician', 'camera shuttering sound effect', 'sruti', 'desert sands', 'bright vocals', 'aggressive harmonica solo', 'female background vocalists', 'muffled instrumental', 'intricate electric guitar lick', 'youtube cover', 'morals', 'party night', 'blues solo', 'male voices chanting/singing', 'unconventional', 'cathedral reverb', 'rapid changes in pitch', 'charming vocalist', 'mellow synth pad', 'practice', 'mark lucas', 'latin super hits', 'r&b', \"children's voices\", 'sound of battle march', 'bas audio quality', 'pad sounds', 'solo electric bass', 'cool bass solo', 'sighing', 'synth swells', 'guitar strums', 'strings plucked', 'crowd chanting', 'no voices instrumental', 'two drums', 'multiple guitars', 'old memories', 'buzzy synth lead', 'traditional chinese folk music', 'trudge along', 'congregational music', 'two different effects', 'cymbal', 'rhodes organ', 'blues-rockvigorous electric guitar', 'retro rock', 'hip-hop pop', 'religious instrument', 'male voice shouting', 'mellow snare hits', 'sustained distorted synth melody', 'thumpy bass', 'different drumming styles', 'staccato bass notes', 'synth bells melody', 'legends', 'sacred mantra', 'unconventional music', 'synthetic trumpet sounds', 'distorted wide electric guitars', 'retro ska', '90s', 'e-bass backround noises', 'guitar lesson', 'repetitive plucked strings melody', 'fat snare', 'post-rock', 'low bass guitar', 'wood percussion instrument', 'accordion lessons', 'ridiculous', 'distortion guitar', 'fairy tale', 'wooden percussions', 'accordion virtuosos', 'echoing whispering male vocal', 'cinco de mayo', 'chorus effect', 'exercise class', 'melancholy', 'steady marching drum rhythm', 'overdrive pedal', 'wild energy', 'xylophone playing', \"falsetto child's vocal\", 'hindi movie song', 'male spoken word', 'horror film music', 'exigency', 'foto shot sound', 'beautiful love', 'flamenco guitar style', 'ukulele solos', 'running', 'bells', 'pipe organ', 'alto saxophone', 'bright', 'keyboard lead sound', 'sad acoustic rhythm guitar chord progression', 'groovy bass line', 'overwhelming noise', 'synth guitar lick', 'jumping sounds', 'effect-pedals', 'laid back vibe', 'beautiful', 'female main voice', 'crash cymbal', 'folk musicians', 'intense musical medium tempo', 'funny boy vocal', 'somber', 'medium tempo', 'child singing', 'new places', 'blues vibe', 'triangle', 'repetitive wooden percussive elements', 'of static', 'catchybeat', 'rattle', 'synth key harmony', 'busking', 'heartfelt female vocals', \"children's choir\", 'vocal samples', 'water splashing', 'dissonant drumming', 'distant unclear chatting', 'happy merry', 'marching parade', 'switch sounds', 'disco music', 'band', 'high pitched voice sample', 'pulsating', 'game play', 'subtle keyboard harmony', 'harmonica sound', 'soothing instrumental', 'piano bass note plays percussively', 'bouncy melody', 'steady techno drumming rhythm', 'quintet', 'ska band', 'mobile phones ringing', 'steel drums melody', 'percussion', 'fuzzy', 'stainless steel instrument', 'hand  percussion', 'indistinct chatter', 'never give up on you', 'radio tuning signals', 'heartbeat kick pattern', 'thunderstorm', 'subtle hi hats', 'murmurs', 'accordion trio', 'dissonant keyboard', 'country/pop/singersongwriter', 'the great adventure', 'affecting', 'aggressive synth bass', 'intricate rock electric guitar', 'marching drums', 'electric guitar motif', 'slow blues song', 'distorted repetitive female vocal', 'keyboard melody', 'female background singers', 'auto tune', 'defeated', 'cello song', 'lead female vocal', 'relaxing playlists', 'harmonized lead guitars', 'intense deep', 'offbeat guitar melody', 'descending melody', 'middle-eastern instruments', 'live concert video', 'male deeper voice rapping', 'party hits', 'fast sweeping resonant filter', 'high gain distortion', 'snappy wooden snare hits', 'children voices', 'filtered throaty male vocal', 'bouncy claps', 'background orchestral score', 'arpeggiated harp', 'incoherent vocal riffs', 'footsteps', 'pedal', 'treble overload', 'classic composers', 'focus', 'latin folk songs', 'droning sound', 'madly in love sexy', 'female background vocal', 'crowd harmonizing singing', 'child cheering', 'call and response', 'bass electric guitar', 'scene transition sound', 'tropical dance hit', 'crowd sheering', 'distorted passionate female vocal', 'bodhran', 'drum battle', 'groovy woodwind melody', 'industrial sound', 'keyboard beeps', 'folk instrumental music', 'sad melody', 'tap dance rhythm', 'sizzling bells', 'scratching sounds', 'christmas music', 'pop soul', 'choral backing', 'viola', 'combative', 'flutesound', 'funk guitar track', 'vigorous tambourine', 'tingsha bells', 'traditional japanese music', 'snare build up roll', 'digital drum elements', 'bhajan', 'resonant sound', 'building up', 'grunge', 'boy band', 'signal tempo', 'complex harmony', 'distorted electric guitar melody', 'middle eastern instruments', 'violin like instrument', 'busy music', 'cumbria rhythm', 'hammer on', 'drum & pipe band', 'complex guitar playing', 'folk', 'groovy basslines', 'didgeridoo beatboxing', 'bad sound quality', 'distorted', 'lip smack noise', 'oldschool', 'rapid singing', 'vocal track', 'wide synth keys chords', 'noisy hum', 'guitar lick', 'yawning', 'rapid ascending melody', 'scale', 'puja', 'vinyl records', 'life changing moments', 'dissonant music playing over song', 'crushed', 'techno/electro', 'crickets sound effects', 'exploration', 'low tom roll', 'yodelling melody', 'dissonant tambourine beats', 'addictive accordion melody', 'finger style acoustic guitar melody', 'claviharp', 'granular sounds', 'news report', 'speed metal', 'female backup singer', 'chinese instruments', 'wolves howling', 'guitar tutorial', 'talent show', 'passionate girls vocals', 'resonating bowl tone', 'salsa', 'hip hop love songs', 'synthesizer bit sound', 'low key', 'body percussionists', 'synth bass swell', 'male voice mid range', 'groovy piano chords progression', 'passionate echoing female vocal', 'sliding pitches', 'aboriginal', 'metallic robotic sound effects', 'counting', 'groovy sluice', 'jazz drumming', 'emotional electric guitar chord progression', 'female voice singing', 'male singing', 'glass harpist', 'birthday song', 'filtered monotone male vocal', 'sweet girl vocal', 'syncopated harmony', 'digital caribbean music', 'slightly off key vocals', 'electro-funk', 'crispy snare', 'one chord', 'mismatched rhythms', 'kid’s game tune', 'patriotic fervour', 'traditional dance music', 'you’ve got mail', 'ping sound effect', 'muffled male vocal', 'raspy female vocal', 'phaser effect synth bass', 'white noise tones', '9 stringed instrument', 'soothing violin', 'churchy audio signal', 'complex vocal arrangement', 'smooth silky male r&b vocal', 'country', 'homemade theremin', 'rising-and-falling', 'complex drum roll', 'guitar tone demo', 'shuffle beat', 'aggressive metallic percussions', 'sustained synth lead melody', 'disc scratching noises', 'cyberwars', 'objectionable lyrics', 'e-guiatars', 'male and female voice', 'message of kindness', 'animated show', 'kissing sound', 'country genre', 'idyllic fun', 'vinyl scratches', 'life’s lessons', 'steel guitars melodies', 'lively accordion', 'pop genreș', 'tambourine percussion', 'funny female vocal', 'deeper voice singer', 'people talking ambient sounds', 'cajon drum', 'lively backup vocals', 'music history', 'metallic sounds', 'uptempo acoustic rhythm guitar', 'in love with you', 'peaceful sound', 'movies', 'different', 'lively cello', 'ritual music', 'metronome sound', 'club track', 'amateur piano player', 'low growl', 'ukulele online lessons', 'male and female backing voices', 'angelically harmonized mixed vocals', 'children’s favourite christmas song', 'cowboy', 'manic toms roll', 'bluesy electric guitar tone', 'low audio recording quality', 'latin regional music', 'violins playing harmony', 'melody keyboard', 'emotive voice', 'country super hits', 'e-bass', 'dance grove', 'wide arpeggiated acoustic guitar melody', 'applied instruments', 'pop diva', 'harp melody', 'arena', 'intense electric guitar feed back', 'finger licking sound', 'guitar virtuoso', 'futuristic synth sound', 'narrator', 'male backup singers', 'children laughing', 'scary children’s show', 'jazz blues', 'tero pop hits', 'cello-like sound', 'keyboard melodies', 'jarring', 'melody finger-tapping', 'sleigh bells', 'low to high register bell instruments', 'wide variety synth', 'tabla playing', 'italian language', 'passionate echoing male vocal', 'crescendo sounds', 'ad-libs', 'high pitched riser', 'old school romance', 'online music videos', 'man grunting', 'catchy tune', 'happy melody', 'sound of trumpets', 'modern romantic hits', 'say sorry', 'bamboo didgeridoo', 'rapid complex melody', 'trance droning', 'trumpet music', 'gear sounds', 'rhythmic fuzzy synth', 'record scratching', 'aggressive vocals', 'pressing', 'dancing atmosphere', 'kiss', 'arcade', 'backup singers', 'sound of fingers moving', 'male deeper voice speaking', 'distorted processed echoing male vocal', 'cowbell', 'reggae pop', 'tar', 'sweet sounding melody', 'crushed audio', 'synth pad chord', 'soft and dreamy', 'low bass thumps', 'tinny wooden percussion', 'gardening machinery sounds', 'complex arrangement', 'croatian pop', 'loud sound superimposed on song', 'improvisational', 'harmonica player', 'female narrator', 'amplified guitars', 'russian hardbass', 'funky harmonica lead', 'soft cymbals', 'arpeggiated electric guitar solo melody', 'e-piano', 'foreign music', 'me', '3d effect', 'female power', 'chaotic harmonies', 'long chords', 'uptempo rock drums', 'hindu devotion song', 'clubbing', 'guitar pick percussions', 'monotone', 'choppy playing', 'filter mod bass', 'sizzling sound', 'amateur recording instrumental', 'reversed crash riser', 'phaser pedal effect', 'fun venture', 'gospel feel', 'kings and queens', 'homage', 'battle cry announcement', 'percussion samples', 'childish vocal', 'virtual sounding brass', '80s pop', 'inaudible mumbly male vocal', 'spirited congas', 'sound of folding paper', 'hindu puja', 'deep house', 'urban blues', 'electric guitar song', 'soundtrack', 'soft synth keys melody', 'easygoing electric guitar chords', 'mellow male vocal', 'rave music', 'breathing', 'synth keyboard', 'talking woman', 'medium fats tempo', 'horn-like sound', 'indian string instrument', 'upbeat', 'soft male vocal', 'learning', 'good day', 'documentary sound track', 'handicapped man', 'piano motif', 'aggressive drum kit', 'jive music', 'latin song', 'big drums', 'studio session', 'rock genre', 'organ chords played', 'fans screaming', 'reverberant wooden toms', 'saxophone accompaniment', 'scratch harmonics', 'monster roar sound effects', 'shimmer sound', 'religious sound', 'siren sounds', 'animated voice', 'ohm tuning fork', 'amplifier', 'slick drumming', 'melody tones', 'acoustic 12 string guitars', 'unrelated backup', 'no accompaniment is true tas', 'tremolo strings', 'chinese string instruments', 'poor audio recording', 'ascending melody', 'offbeat shimmering hi hats', 'not in sync', 'motor racing sounds', 'elevator bell', 'in game', 'xylophone harmony', 'bollywood movie song', 'crackles', 'two tracks', 'bell ringing tones', 'violin motif', 'important moment', 'funky piano chords', 'folk singing', 'low production', 'vocal riff', 'low pitch instrument', 'classic rock song', 'syncopated strumming', 'sound of silence', 'percussive tap dancing', 'gentle singing', 'simple beats', 'country blues guitar playing', 'hoe recording', 'laid back atmosphere', 'gamemusic/cinematic', 'cinematic/horror', 'animated keyboard harmony', 'hissing', 'hypnotic sounds', 'didgeridoo player', 'ringing guitar chord', 'violin song', 'meditation music', 'country folk', 'freestyle disc scratching', 'toilet flushing sound', 'trombones', 'pizzicato', 'fugue', 'haunted space ship', 'tabla accompaniment', 'punkrock/electronic', 'running sounds', 'reverberant fruity male vocal', 'educational', 'motivational', 'short female voice sample', 'retro rock and roll', 'harmonizing kids vocals', 'water running', 'crowd cheering and clapping', 'menacing roar', 'radio program', 'tapping rhythm', 'male rap singer', 'rising', 'wide harmonizing female background vocals', 'synthesized string lead melody', 'gallopy rhythm', 'gravelly voice', 'learning about animals', 'kriti', 'vocoder', 'choreography music', 'dance style music', 'lively baritone saxophone', 'thin', 'spanish melody', 'the sringa', 'child voice', 'strings sample', 'laid-back jazzy rock', 'scratch tutorials', 'jazz percussion', 'consoling a baby’s  cry', 'sound oftapping', 'epic', 'energetic cash cymbal', 'robotic tones', 'sound stimulation', 'high male vocal', 'arabic drums', 'light snare hits', 'crowd whistling', 'pads', 'synthesisers', 'sizzling', 'celebrating energy', 'manic crushed background music', 'banjo tutorial', 'guitar tutor', 'tear-jerking', 'heavenly', 'space travel', 'african percussion drums', 'busy kick pattern', 'carribean', 'cowboys', 'drum machines', 'emphatic  vocals', 'bell sounds', 'music production', 'swing jazz', 'ambiguous', 'soothing', 'carnatic', 'intricate harpisichord playing', 'syncopate snare hits', 'uplifting vibe', 'medium tempo home music video', 'workout music', 'male voice', 'ambient crowd noises', 'people dance', 'door slamming tones', 'synthesizer lead', 'digital female choir pad', 'two electric guitars', 'typing sounds', 'wild boar', 'renaissance music', 'i’m in love', 'pad synth', 'acoustic drums sample', 'dance pop', 'practice session', 'trumpet melody', 'funky groove', 'droning melody', 'song change', 'addictive flute melody', 'echoing theremin melody', 'digital string sound', 'psychological', 'swing', 'different beats', 'classical indian song', 'steady rock beat', 'crackling effect', 'buzzing hum', 'buzzing saw machine', 'spirted drums', 'mellow arpeggiated harp melody', 'hip hop beat', 'loud didgeridoo modulating low tones', 'guitar distortion', 'looped', 'splits', 'male speaking', 'keyboard string section', 'bull fight', 'free reed aerophone', 'royal march', 'annoying vocal sounds', 'scottish music', 'traditional muscle', 'aboriginal music', 'generic', 'modern pop covers', 'retro feel', 'commercial song', 'percussions hits', 'head bangers', 'stuttering filter modulated synth riser', 'oriental string melody', 'uzbek folk music', 'fitness videos', 'rich', 'hard hitting  drums', 'nostalgia', 'strong low notes', 'short audio crackle', 'strong walking bass', 'pop rock', 'oldest instrument', 'string symphony', 'the wild west', 'beeping melody', 'standing bells', 'busy percussion', 'vigorous background music', 'drone layer', 'animated video', 'repetitive female vocal sound effect', 'sanskrit', 'swing music', 'vinyl feel', 'agrgressive', 'weird instrumental', 'child female voice', 'moody', 'fast-paced acoustic drums', 'cuatro', 'bright acoustic guitar solo', 'blown out', 'dance vibe', 'guitar pick', 'sound of bike starting', 'bouncy bass', 'muffled female soft vocal', 'electronic dance music', 'vocal monologue', 'high on adrenaline', 'blues giants', 'breathy  villainous voice', 'mixing', 'alternative pop', 'salsa song', 'enthusiastic paino', 'loud wide explosion sound effect', 'pop folk', 'groovy accordion melody', 'sharp sounds', 'very aggressive', 'sustained low woodwind', 'downward sliding strings', 'screaming noise', 'french harp', 'too much noise', 'palm muted electric guitar', 'retro pop influences', 'jovial', 'percussive bass line', 'outdoor atmosphere', 'groovy bass guitar', 'man laughing', 'auto harp harmony', 'processed male voice', 'chamber music', 'bassoon', 'fun', 'toms roll', 'sincere to disgusting atmosphere', 'sitar melody', 'delay pedal', 'chirping tones', 'crowd chattering', 'kids show theme', 'orchestral', 'electric', 'energetic ride cymbals', 'guitar accompaniment style', 'rehearsal', 'epic mood', 'aquatic life', 'batman', 'positive vibes', 'orchestra', 'guitar effects', 'car sounds', 'fm synthesis', 'addictive plucked strings melody', 'wide filter mod electric guitar chords', 'low quality audio', 'home recording', 'children playing games', 'background noise', 'flute music', 'two female vocalists', 'commentary', 'metal hits', 'crunchy electric guitar chords', 'dj mis', 'atmospheric keyboard', 'upright bass bowed', 'dancer on stage', 'french music', 'swing feel', 'eastern classical', 'retro dance music', 'acoustic guitar music', 'music to dance to', 'animate', 'loud drums', 'spook music', 'jazzy electric guitar licks', 'ice cream truck music', 'emotional metal song', 'twangy female vocalist', 'strong bas slime', 'wide claps', 'metal music', 'sound of rattle', 'street atmosphere', 'funky music', 'violin-like synth', 'auto shop', 'latin pop hits', 'mellow female vocal', 'clean', 'laser synth fx', 'wide sustained string melody', 'fighting', 'wind howling', 'white noise down sweep', 'anthem/hymn', 'classic guitars music', 'mesmerising music', 'lounge jazz hits', 'russian hit songs', 'male cough', 'soft drumming', 'brass composition', 'senseof adventure', 'world music', 'synth', 'shouting', 'octave pedal', 'high spirits', 'sound of sipping liquid', 'hustlers life', 'story-telling mood', 'silastic rock music', 'tubas playing lower harmony', 'vocal emphasis', 'different music tracks', 'purposeful', 'repetitive synth keys chords', 'song climax', 'marry me', 'bad beat boxing', 'wide happy sounding background song', 'kids dancing', 'ethnic percussions', 'electric guitat', 'tones  changing', 'repetitive melody', 'predatory', 'tape hiss', 'dance rehearsal', 'instrument tuning', 'rhythm changes chord progression', 'uplifting mood', '909-like', 'solo percussion instrument', 'minimal instrumentation', 'enthusiastic harpsichord', 'harmonizing background male vocal', 'home improvement video', 'never let go', 'young vocalist', 'plucked cello melody', 'blues drum kit', 'country romantic hits', 'virtuoso', 'en wage hits', 'amplifier knob flicks', 'cartoon violence', 'carousel feel', 'strumming rhythm', 'drums playing loud in march style', 'guitar sample', 'happy-go-lucky', 'strings power chords', 'slide whistle', 'trumpets blaring harmony', 'baraban', 'hammer-on', 'kumaoni', 'dense synthesizers', 'horns playing', 'high gain tones', 'police', 'christmas carols', 'classical atmosphere', 'something hard hitting a surface', 'japanese speaking', 'carefree', 'grand journey', 'people jumping', 'playing with plectrum', 'hollow sounds', 'medium-to-high pitch', 'bass lick', 'african rhythms', 'solo ukelele', 'relaxing mood', 'kidsongs', 'straight bass lines', 'calming engaging', 'tuning legs', 'virtuosic', 'guitar technique', 'yodelling music', 'loud bass', 'inspirational', 'underground dance party', 'reverberant metallic bells melody', 'low growly sounds', 'pop/rock/ singer-songwriter', 'mridangam', 'merry tune', 'lively acoustic guitar', 'swing notes', 'rapid melody', 'fingering technique', 'vivacious cello', 'trombone harmony', 'button clicks', 'tension building', 'humility', 'manjeera', 'percussive horn section', 'faster tempo', 'strummed acoustic rhythm guitar chords progression', 'clapping percussions', 'simple kick patter', 'legendary violinists', 'boiling', 'pop hit', 'synth modules', 'machine whirring', 'no song', 'soft white noise down sweep', 'introduction', 'child male vocal', 'washint', 'merry-go round', 'double-bass', 'very bad audio quality', 'pipa', 'soft rimshot hits', 'fingerstyle', 'fight the good fight', 'vigorous vivacious', 'bass solo', 'pop song', 'mellow pad chords', 'ominous music', 'eastern european', 'psychedelic background', 'groovy kick', 'smooth synth bass', 'clean electric guitar with chorus', 'hard style', 'nasal', 'ska cubano', 'retro game tracks', 'bizarre', 'romantic song', 'teenagers dancing', 'punchy double pedal kick', 'ambient concert sounds', 'vintage pop hits', 'low pitched male vocal', 'stylish', 'male vocal group', 'heavy reverb', 'thunder noise', 'romantic piano', 'whispering male vocal', 'festive songs', 'christmas songs', 'dynamic', 'reverberant wooden percussions', 'remix sound', 'pop divas', 'dreamy song', 'me drum fats tempo', 'camera shutter sound', 'skill', 'grunge bass tone', 'repetitive phrase', 'cymbal crashes', 'sustained synth strings melody', 'new hope', 'life is a dance', 'intense', 'quartzophone', 'small church bells', 'shimmering bells glissando', 'loud clapping', 'fingerpicking', 'goofy tune', 'fantasy music', 'medium  fast tempo', 'digital keyboard song', 'middle-eastern percussion', \"high pitched child's vocal\", 'bright violin', 'no harmony instruments', 'violin plucking rhythm', 'traditional indian singing', 'synth module effects', 'outer space sounds', 'groovy wooden percussions', 'classical', 'strumming chords', 'homemjsic video', 'kids toys', 'sound sample', 'school band', 'solo electric guitar', 'male voice chanting', 'electric horn sample', 'passionate electric guitar melody', 'dancing groove', 'voices chanting', 'caribbean', 'small keyboard', 'wide funky electric guitar melody', 'short brass stabs', 'short filter modulation', 'classic rock instrumental', 'christmas melody', 'steady drumming rhythm', 'nasal male vocal', 'learning electric guitar', 'indonesian pop', 'documentary soundtrack', 'female background vocals', 'playing out of time', 'ghungaroos sound', 'dolphin sound effect', 'lethargic groove', 'reggae feel', 'high pitch music', 'dobro', 'belly dancing', 'noisy mono', 'super mario theme', 'retro reggae', 'double reed instrument', 'piano playing', 'ney flute', 'smooth bass guitar', 'speech sample', 'sound for royalty', 'digital piano melody', 'church music', 'low muffled screams', 'upbeat ukelele', 'videogame-music', 'reverberant groovy piano', 'soft rock', 'drum breaks', 'rapid percussion', 'four on the floor', 'wide agressive distorted electric guitar melody', 'hindu prayer', 'jewish tradition', 'orchestral violin playing', 'in love', 'dance groove', 'repetitive synth bells melody', 'short reversed snare hit', 'country side', 'doubled vocals', 'morsing', 'male rapper', 'male scream', 'poor audio quality', 'background score', 'western classical instrument', 'high-powered', 'sound of gunshot', 'smooth bass', 'male voice singing/rapping', 'whispering voice', 'progressive pop', 'slightly agressive', 'airy synth', 'new age hits', 'woodwind ensemble accompaniment', 'short synth melody', 'spirted', 'jazz melody', 'synth horns', 'guitar leads', 'drum machine sounds', 'string', 'boomy toms', 'grunt', 'suspenseful electric guitar melody', 'wide short snare roll', 'gentle male vocal', 'classical afghan music', 'keybiard tones', 'oriental/folkmusic', 'gliding synth lead melody', 'three part melody', 'big band plays', 'hip-hop music', 'trumpet playing percussively', 'female vocal', 'violin melody', 'adverticement music', 'teen', 'lead trombone melody', 'hand pan demonstration', 'asian stringed instruments', 'jazz legends', 'upbeat japanese pop dance music', 'magical  journey', 'vibration', 'psychopath', 'devotion', 'french bagpipes', 'no singer', 'giggling sounds', 'latin rhythm song', 'audience applause', 'is tense combat', 'traditional folk', 'drum kit imitation', 'punchy beat', 'bass kazoo', 'repeated telephone beep tone', 'hindu puja song', 'auto harp instrumental', 'minimal', 'passionate female vocals', 'complex synth arpeggio melodies', 'vintage jazz', 'saxophone melody', 'vintage', 'medium pitch singing', 'perfection', 'oriental music', 'reverb effect', 'keyboard percussive tones', 'bass horns', 'carpool', 'resonating bowl sound', 'motor running sounds', 'suspenseful brass melody', 'loud bells', 'harmonica', 'tamil devotional songs', 'melancholic singing', 'vintage kids songs', 'slick vocal drum beats', 'bull goring a man', 'roaring', 'digital accordion', 'male soul voice singing', 'classic western music', 'the sixties', 'groovy dance hits', 'creepy church bells', 'keyboard-strings', 'hillbilly music', 'high spirited', 'wind noise', 'metallic rattle instrument', 'country instrumental', 'simple piano', 'keyboard accompaniment', 'auto-tuned singing', 'grungy', 'classic pop song', 'cellos playing percussively', 'low pitch', 'rolls', 'laughing tones', 'polyrhymic', 'new experiences', 'varying volume levels', 'police officer', 'hindi/ keyboard', 'dholak percussions', 'calm emo male singer', 'reverberant riser', 'finger play', 'relaxed', 'flute lick', 'western classic', 'psychedelic electronica', 'repetitive synth lick', 'heavy rock', 'clarinetist', 'child development', 'virtuoso player', 'jazzy piano chords', 'free style guitar', 'melodious vocal backup', 'interesting', 'children singing', 'whimsical', 'sound of sighing', 'sunday cartoons', 'egyptian oud', 'outside', 'beep', 'toilet', 'male singer chants', '8 stringed instrument', 'beeping', 'sentimental nostalgic', 'quirky drum machine', 'soul/r&b', 'salsa music', 'off beat', 'exciting', 'animated singing', 'slow riser', 'vocalisation in background', 'diy', 'bongo drums', 'sand and sea', 'band recording', 'backup vocal harmony', 'scottish instruments', 'freestyle dj', 'crooners', 'folk rock', 'blues music', 'youtube guitar lessons', 'timpani playing loud', 'arpeggiated guitar melody', 'timpanis', 'out of tune vocals', 'male voice high register singing', 'frequency', 'funky jazz drumming', 'dog barking', 'rapid kick drum', 'mezzo-soprano', 'wide violin melody', 'percussion styles', 'automation-like singing', 'defiant mood', 'tense music', 'distant electric guitar riff', 'whooshing', 'harmonizing mixed choir', 'slow to medium tempo', 'rehearse', 'banjo guitar melody', 'goth metal', 'bagpipers playing', 'ambient crowd noise', 'mouth harp', 'choral band', 'relaxed singing', 'rhythmic congas', 'noisy snare hits', 'passionate dynamic classical piano melody', 'loud percussive impact', 'bridal song', 'ghungaroos', 'wide mellow synth pad', 'manic piano melody', 'riq', 'harmonium melody', 'soothing and gentle music', 'wide crackling noises', 'deep voices', 'country love song', 'mania', 'industrial metal', 'sound of horns honking', 'sandhya raag', 'syncopated drum pattern', 'computer generated sounds', 'seven note ascending pattern', 'live demo', 'rock elements', 'jazzy', 'melodic samples', 'syncopated electric bass guitar', 'acoustic guitar strummed chord', 'strings motif', 'popmusic', 'mellow synth keys chords', 'incessant grunting', 'plugging into the guitar', 'emphatic drumming', 'punchy drum rhythm', 'drum beats', 'weird percussive sound effects', 'everlasting hits', 'latin medium tempo', 'poly rhytms', 'chainsaw', 'halloween', 'explore the wild', 'arabic dance music', 'booming low bass line', 'poor mix', 'nigthclubs', 'smoldering sounds', 'fats harp playing', 'modern pop instrumental', 'groovy cello bass', 'patriotism', 'echo/delay', 'turkish folk', 'deliberate dissonance', 'ballet dance', 'unimpressive sounds', 'music covers', 'jazz and electronic collaboration', 'surreal landscape', 'cello solo', 'male grunting sound effect', 'cartoon voice', 'kizomba', 'double neck guitar', 'digital drum rhythm', 'guitar solo', 'poor audio-quality', 'harmonica solo melody', 'shouting-like singing', 'poorer audio-quality', 'funeral march', 'middle-eastern melody', 'superhero show', 'saxophone playing medley', 'minimalist instrumentation', 'clicky keys', 'voices singing', 'poor recording quality', 'pulsating pad sounds', 'groovy bongos', 'clapping percussion', 'solo overdriven electric guitar', 'dj set', 'sight reading', 'rai', 'haunting synth lead melody', 'female vocal riff', 'boomy bass guitar', 'arabian music influences', 'youtube tutorial', 'wide synth lead melody', 'female voice crying', 'reed instrument sound', 'latin house', 'children having fun', 'charleston dance', 'south  india', 'muddled song', 'door opening sound', 'bongos accompaniment', 'children’s music', 'acoustic guitar arpeggios', 'hamster', 'anime song', 'intense drumming', 'vintage opera', 'female lead voice', 'candomble', 'enchanting chimes', 'low bass', 'beginner', 'street rapper', 'jazz festival', 'emotional middle eastern male singer', 'drumming lesson', 'hard rock instrumental', 'country pop', 'powerful bass guitar', 'oriental/pop', 'male bravado', 'instrumental musical retro game track', 'percussion solo', 'transients', 'arpeggiated acoustic guitar melody', 'guitar playing octaves', 'electronic kick', 'classical hindustani song', 'fast beats', 'moderate tempo dance music', 'chinese big drum', 'calm song', 'sustained strings chords', 'electronic synth hardware', 'groovy bass piano melody', 'bland', 'dreamy music', 'electronic/rap', 'buzzy strings', 'tribute', 'skarock', 'keyboard layers', 'staccatto tones', 'orchestral rock', 'solo clean electric guitar melody', 'upbeat drum kit', 'celebratory intro music', 'jungle bells', 'gloomy', 'garmon', 'urban', 'urban sound', 'female choir voices', 'groovy melody', 'relaxed narrator', 'sophisticated', 'synthesised violins', 'booming voice', 'high pitched pad synth', 'same note repeated', 'commercial music', 'delay', 'soft snare', 'digital bell', 'retro song', 'male deep voice rapping', 'punjabi dance music', 'galloping sound', 'guitar sounds', 'hood', 'percussive', 'dubstep/jazz', 'carols', 'complex rhythm', 'sentimental', 'groovy slapped bass guitar', 'frog croaking', 'background shouting', 'alien landscape', 'horn solo', 'jam block', 'emotiona', 'groovy mellow piano melody', 'full overdrive', 'lead synth', 'smooth', 'science fiction fans', 'blues', 'violin symphony', 'electro/pop', 'low layer flute melody', 'trumpets playing harmony', 'country bluegrass', 'emphatic lead', 'brass ensemble', 'progressive metalrock', 'background industrial impacts', 'string bass line', 'fading out stuttering female vocal sound effect', 'chamber orchestra', 'nepali folk music', 'keyboards', 'charming', 'clean lyrics', 'acoustic guitar session', 'string creaking sounds', 'horns', 'pulsating experience', 'metallic sound effects', 'string bass ensemble', 'spanish guitar solo melody', 'repetitive beats', 'dancemusic', 'kanjira', 'sensational', 'mizwiz melody', 'sustained string melody', 'counting in french', 'country blue grass', 'idle', 'intellectual', 'guitar effects module demonstration', 'cinematic drone sounds', 'guitar played accompaniment style', 'motivational music', 'autotune male vocal', 'harpist', 'thai', 'female singing voice', 'sound check', 'shivering', 'garbled', 'unpleasant sound', 'lingering', 'muffled female vocal', 'marimba music', 'gujarati folk music', 'beatboxing failed attempt', 'seasonal', 'middle eastern influences', 'modern sounding', 'rock guitar', 'arcade game', 'clapping', 'indian song', 'animated music video', 'thunder sounds', 'retro pop song', 'retro hindi hits', 'yoruba', 'synth keys chords', 'urban sounds', 'flamenco guitar chord progression', 'female lead vocalist', 'chapman stick', 'moderate tempo song', 'bright hi hats triplets', 'male back vocal', 'christmas vibes', 'casual', 'thrilling', 'shooting', 'tambourine like instrument', 'retro dance', 'tibetan singing bowls', 'guitars', 'drum&bass', 'foot stomping percussion', 'great composers', 'classical music genre', 'reverberant intimate female vocal', 'latin dance groove', 'plastic tapping sounds', 'carefree music', 'centuries old music', 'simple synth lead melody', 'guitar accompaniment', 'emotional male vocal', 'soft passionate female vocal', '12-string acoustic guitar', 'female blues singer', 'grand', 'game play soundtrack', 'minor key', 'arpa jarocha', 'miami larry', 'pianos', 'synthesizer filter sweep', 'rhythmic percussion sound', 'chipmunk noises', 'pumping kick', 'western classic music influences', 'ambient jazz', 'special animated sound effects', 'viloin harmony', 'low percussive hit', 'poorly recorded', 'choreography sounds', 'cinematic synth', 'guitar melodies', 'latin instrumental', 'sound of fingers sliding over the fret', 'opera legend', 'violin accompaniment', 'energy', 'nostalgic moments', 'explore nature', 'tropical fun', 'synth flute', 'acoustic guitars strumming', 'background male ad libs', 'steel hammering', 'ringing', 'male voice talkin', 'synth orchestral drums', 'tumbling', 'blues hits', 'piano counter melody', 'soft strings melody', 'paper rustling', 'digital', 'flamenco guitarists', 'customs', 'underground music scene', 'urban latin', 'background singing', 'mysticalm', 'chindong', 'clattering sound', 'crystal bell', 'running water sound', 'clarinets', 'wide echoing effect', 'romanian', 'godfather', 'drilling noises', 'instrumental sjic', 'peruvian folk music', 'advertisement soundtrack', 'aggressive', 'saxophone scale run melody', 'shrill', 'percussive guitar', 'vintage recording', 'sticks', 'classic rock and rock', 'ocean sound effects', 'hip hop drum beat', 'concert hall', 'strong male rapper', 'steeldrums', 'animated', 'hip-hop song', 'beat', 'tribal music', 'trumpet symphony', 'nadaswaram playing', 'electric current manipulation', 'titanic soundtrack', 'devotional music', 'war cry', 'mind blowing', 'reverberant down sweep', 'repetitive bass riff', 'banjomusic', 'banjo song', 'warm magnetic male vocal', 'amateur musician', 'male sample shouting', 'kick drums', 'hopelessness', 'water bubbling', 'children videos', 'funny processed male vocal', 'fuzzy electric guitars', 'groovy acid synth bass', 'medium quality audio recording', 'muffled snare hit', 'picking up the phone', 'funk feel', 'girl band', 'yodel/folkmusic', 'futuristic', 'two harpsichords', 'bass trombone', 'beautiful landscapes', 'country/folk', 'groovy electric guitar chords progression', 'technique', 'scat improvisation', 'zitar', 'two chords', 'background-music', 'destructive', 'arpeggio sound', 'repetitive male vocal', 'sampled hiphop', 'trumpets playing furiously', 'epic ending', 'baby noises', 'pitched very low', 'christian worship music', 'kindergarten songs', 'harmonizing background female vocals', 'drums solo', 'calming synth pad sound', 'latin country music', 'emotional girl vocal', 'iconic', 'frighting animal noises', 'skating', 'simple acoustic guitar melody', 'buzzy synth lead melody', 'bagpipes playing', 'flute sound', 'chakra alignment', 'urban latin remix', 'vinyl scratch', 'sound of picture being clicked', 'vocal jazz', 'dj techniques', 'vintage game music', 'poor sound-quality', 'incoherent backup music', 'jewish traditional music', 'passionate male opera vocal', 'repetitive piano melody', 'pig squeal', 'banjo learning video', 'clapper', 'christian contemporary worship', 'angry sounds', 'string synth accompaniment', 'relaxing atmosphere', 'army band', 'orchestra hit', 'high pitches voice laughing', 'rock concert', 'brass section', 'deer horn', 'sped up classic video game music', 'low string drone', 'quiet male vocals', 'vibraphone', 'running sound', 'adore you', 'indian bowed string instrument', 'eerie tones', 'sports team', 'sublime', 'solo ragtime piano', 'male sounds', 'funk/soul', 'african/dance/pop/r&b', 'noisy background', 'dense layers', 'bedroom recording', 'rock guitar lead', 'flamenco style guitar playing', 'ambient background', 'hungarian hip-hop', 'ambient keyboard tones', 'intense electric guitar harmony', 'invigorating', 'proverbs', 'siren', 'funky electric guitar feedback', 'hindustani classical', 'glass harp', 'poor quality audio', 'steel acoustic guitar', 'rising and falling pattern', 'bad mix', 'bebop jazz', 'babies sleeping', 'east meets west', 'wide strings chords', 'animated movie background score', 'shimmering chime bells', 'space shuttle take off', 'tambourine percussions', 'pop rock genre', 'bow stringed instrument', 'acordion harmony', 'irish style banjo', 'synthesized bells', 'water filling sounds', 'story writing', 'retro movie themes', 'orchestral pop', 'buskers', 'contemporary pop dance', 'instrumenatl music', 'happy bells melody', 'french composer', 'together forever', 'crowd talking', 'innovative', 'offbeat piano chords', 'audience clapping', 'vocal unison', 'dream sequence', 'simple synth bass', 'turkish hip-hop', 'ride cymbals', 'encouraging crowd', 'festive horn', 'soft claps', 'car racing sounds', 'strong drum beats', 'cinematic/scary', 'western classical', 'swinging sound', 'jazzy drum kit', 'wide plucked strings melody', 'azerbaijani folk music', 'never forgotten', 'classical guitar accompaniment', 'xbox', 'male voice samples', 'rhythmic keyboard', 'caribbean influence', 'addictive synth bass melody', 'wood', 'male voice interventions', 'lively spanish guitar', 'vehicle driving sounds', 'female performer', 'tick tock', 'piano harmony', 'guitar music', 'calming piano music', 'jeep stopping', 'faint speaking', 'peruvian harp', 'male deep voice singing', 'nylon string acoustic guitar', 'om chant', 'keys chords', 'sidestick', 'oompah', 'extended range guitar', 'impact', 'lush vocal harmonies', 'low sustained piano bass note', 'wondrous journey', 'amplified guitar solo', 'werewolf sounds', 'piano', 'pacifying', 'accordion solo', 'unconventional instrumentation', 'electronic keyboard', 'drumming rolls', 'wide manic toms', 'laughing devilishly', 'festive cheer', 'lilting voice', 'popularity', 'low male vocal choir', 'low pitched strings', 'low qaulity', 'technique and expertise', 'distorted sounds', '808 bass', 'distorted e-bass', 'alto sax', 'arpeggiated synth keys melody', 'keyboard riff', 'bagpipe melody', 'female backup singers', 'flat girl vocal', 'clapping randomly', 'timpani bangs loud', 'hand pan music', 'goat bleating', 'slow music', 'heavy breathing sounds', 'mellow harmonized flute melody', 'cascading melody', 'electric rhythm guitar playing', 'thumping music', 'tremulous voice', 'male vocalist', 'festival', 'root and fifth', 'whooshing tones', 'male scream sound effect', 'lower pitched sample', 'percussion grooves', 'laughing vocals', 'frame drum', 'irish folkmusic', 'dance club mix', 'trance music', 'dance groover', 'various tempos', 'emphatic percussion', 'energetic crash hit', 'progressive metal', 'cheering', 'incessant drone', 'retro super hits', 'latin folk singer', 'hostile', 'french horn melody', 'enthusiastic electric guitar lead', 'hymnal', 'modern pop', 'soulful choir', 'japanese pop', 'groovy beat', 'floor tom', 'warm sounding', 'banjo solo melody', 'cow punk', 'steady ride cymbal pattern', 'snare drum', 'music video', 'tight', 'how to tune a guitar', 'funk jazz', 'spirited piano accompaniment', 'noisy crowds', 'rhythmic time', 'wedding super hits', 'sow tempo', 'movie score', 'subtle microphone feedback', 'folk inspired', 'digeridoo', 'super tone unique tone', 'male deeper voice talking/screaming', 'low frequency instrument', 'groovy bass', 'dramatic finish', 'claps', 'teaching', 'sanskrit chant', 'cymbal ride', 'heavy metalloud feed back', 'distortion guitar accompaniment', 'acordion accompaniment', 'background haunting music', 'latin male vocals', 'intricate steel guitar playing', 'wooden low percussions', 'unintentional mic clipping', 'instrument demo', 'acoustic guitar sound', 'synthesiser harmony', 'vocaloid', 'male and female voices', 'japanese rock', 'repetitive echoing electric guitar melody', 'low notes', 'found sound', 'gunshot sound effect', 'pop dance hit', 'sultry', 'female and male voices', 'telephone sound effect', 'multiharmony', 'male vocal harmony', 'high-pitched sounds', 'r&b music', 'cash register sound', 'synth riser', 'off kilter drum beat', 'button accordion', 'simple tunes', 'banjo music', 'exciting journey', 'groovy', 'middle eastern', 'four part harmony', 'sustained synth', 'short riser', 'andalusian', 'loud horn sound', 'latin dance music', 'rhythmic counter play', 'synth pads/drones', 'no lyrics', 'high pitch singing', 'symphony orchestra', 'traditional strings', 'eccentric male vocalist', 'tv series music', 'new eritrean music', 'reggae percussion', 'short repetitive synth hits', 'eclectic music', 'light sounding', 'heartful', 'happy sounding background song', 'traditional scottish music', 'waterfall', 'punchy kick hits', 'peaceful', 'low windpipe vocal sounds', 'fruity male vocal', 'electric guitar riff', 'audio fuzz', 'saxophone', 'electric guitar mellow feedback', 'tight snare', 'damage rap music', 'slapstick comedy', 'live audience', 'natural reverb', 'pitch shifting', 'ney', 'celtic', 'trance inducing', 'haunting harmony', 'live improvisation', 'funk pop song', 'exercise playlist', 'amateur piano playing', 'spirited okay', 'indian classical', 'long notes', 'child playing', 'melodic background male vocals', 'acoustic guitar playing', 'dj skill', 'chac-chac', 'retro ad spots', 'romantic', 'shattering glass sound', 'vibrant vivacious', 'deteriorated music quality', 'country song hits', 'average audio quality', 'alternative r&b', 'spanish singing', 'guitar player', 'manic tom roll', 'muted audio', 'vocal harmony', 'goth', 'basic sine wave tone', 'breathy flute melody', 'woodwind instrument', 'smooth synth keys', 'discarded oil drums', 'didgeridoo solo melody', 'amateur', 'audio research', 'historical movie music', 'backup vocals', 'bass clarinet', 'bass guitar playing', 'effects processors', 'groovy rhythmic percussion', 'phone vibrations', 'plucked instrument', 'instruction music', 'advertisement music', 'closing riff', 'explosion', 'synth pads', 'march like drum beat', 'important', 'relaxing and positive vibe', 'hip-hop feel', 'desolate', 'cowbell percussion', 'intermittent cutting off of sound', 'trombone melody', 'audio cutouts', 'discordant harmonies', 'unpleasant', 'emphatic rhythm', 'chrost', 'sub bass', 'trance song', 'stuttering echoing siren sound effect', 'harpsichord playing', 'layering', 'ethiopian folk music', 'shimmering bells melody', 'moderate melody', 'intricate electric guitar playing', 'discofunk/pop', 'punching sounds', 'intuitive folk', 'italian singing', 'country blues hits', 'crowds whistling', 'theremin sad lead melody', 'soft', 'electric guitar player', 'violin solo', 'age of innocence', 'addictive synth melody', 'synthesizer sequence', 'folk metal', 'hindu bhajan', 'deafening', 'instrumental', 'high pitched humming instrument', 'kids voices singing', 'experimental/electronic', 'live perform am ve', 'sensual high pitched female vocal', 'thunderous drums', 'dance hit', 'white notice', 'upbeat groove', 'police van siren', 'male voices', 'latin jazz music', 'groovy electric guitar melodies', 'soprano tone', 'crowds laughing', 'building suspense', 'passionate trumpet melody', 'school program', 'floor squeaking', 'latin dance hits', 'cinematic/digital orchestra', 'guitar pedal effect', 'echoing wobble effect', 'ambient nature music', 'lain pop', 'trombone lesson', 'tamil christian worship', 'maracas playing percussion', 'distortion pedal', 'keyboard harmony', 'digital pluck sound', 'hard hitting', 'male repeated punchy chanting', 'synth string section', 'tinny sounding double bass', 'rebab', 'synth music', 'tap dance', 'no other instrument', 'overdrive guitar', 'acoustic gutiar', 'enjoy life', 'cartoon', 'simple organ keys chords', 'synthesizer arpeggio', 'harsh', 'guitar melody', 'female screams', 'house party', 'empahtic melody', 'western movie', 'vigours background beat', 'filter mod synth chords', 'pads swell', 'solo brass melody', 'fast paced rhythmic synth', 'grunts', 'mediocre audio quality', 'amateur vocal production', 'belly dancing music', 'hungarian pop', 'amateur brass band', 'slow arpeggiated guitar melody', 'dizzying', 'upbeat pop', 'intricate playing', 'explosions', 'engine', 'fast dance beat', 'street musician', 'key pluck sound', 'shimmering cymbals', 'upright basses', 'string instrument harmony', 'dilla', 'high pitched synth', 'muffled flute melody', 'music rehearsal', 'fingers snapping', 'sustained synth pad melody', 'mosh pit', 'various percussion hits', 'percussions sounds', 'rhythmic backing music', 'resounding', 'passionate boys vocals', 'accordion-like sound', 'sweeping keyboard harmony', 'birds chirping', 'rhythmic acoustic', 'unplugged', 'lost', 'passion spirit', 'passionate song', 'e-guitar shredding', 'spine chilling', 'movie background score', 'old-time country rock', 'techno pop song', 'flame sounds', 'music filler', 'wide harmonizing mixed vocals', 'synth countermelody', 'nepali', 'congregation', 'guitar band', 'preach-like singing', 'tv show theme', 'soft piano synth', 'chickens sound effect', 'low grunting tones', 'synth bursts', 'intimate wide mixed vocals', \"1960's\", 'peppy', 'paradise', 'techno jazz', 'robotic vocal filter', 'contemporary traditional music', 'chill electric guitar licks', 'pro', 'electric disturbance', 'smal hand drum', 'harsh singing', 'family reunion', 'wide choir female vocals', 'groovy keys chords', 'transcending', 'long reverb', 'pop hits', 'jazz/hiphop', 'tinny percussion', 'two songs', 'subtle synth bells melody', 'tinny snare', 'stringed instruments', 'busy office ambience', 'seductive', 'family singing', 'sympathetic strings', 'muffled audio', 'raspy male vocal', 'indian percussions', 'pure', 'passionate harmonica solo', 'four on the floor drum beat', 'ibiza nights', 'dreamy', '2000s rock', 'night insects sound effects', 'high pitched buzz', 'gain issues', 'learning electric', 'deep hollow tones', 'acoustic snare', 'tamil movie songs', 'marimba melody', 'enjoyable', 'soul funk song', 'digital drum beat', 'live recording over song', 'cow bell', 'fiddlers', 'mellow clapping', 'tabla', 'psychedelic rock', 'different music tracks superimposed', 'emotional male vocalist', 'mellow keys melody', 'blues turn around', 'synthesizer plucks', 'soft feel', 'proto-reggae', 'boomy groovy bass', 'contemporary indian music', 'rubab', 'synth hits', 'dissonant booming sounds', 'male singers love performance', 'car crash', 'octaves', 'look ma no hands', 'drum playing percussively', 'echoing guitar pedal effects', 'girls screaming', 'housemusic', 'distorted e-guitar', 'upbeat electronic drums', 'alien', 'microtonal', 'acoustic love song', 'bad quality audio', 'hip-hop breakbeat', 'industrial sounding', 'release', 'cool drum roll', 'new orleans blues', 'dial tone beeps', 'high pitched humming', 'multiple overlapping tracks', 'bedtime music', 'unamplified electric guitar', 'lead instrument', 'stuttering swing sound effect', 'buzz', 'low fidelity', 'high pitched staccato synth melody', 'oriental instruments', 'turn table', 'acoustic guitar licks', 'three chords', 'disorderly', 'techo', 'swar', 'arpeggiated synth keys', 'bright trumpets', 'youtube gear demonstration', 'hollow echoing piano sounds', 'humming noise', 'hand claps', 'mountains', 'male laugh', 'animated song', 'brushes', 'intense battle', 'punchy synth stabs', 'adoration', 'bird chirping melody', 'acerbic', 'distorted electric guitar', 'slow and steady', 'connected for ever', 'tropical', 'music band', 'complex sound design', 'group female vocals', 'incoherent vocals', 'wonder', 'guitar demonstration', 'country song', 'hip hop genre', 'vinyl record scratching', 'strong drumming rhythm', '’ medium tempo', 'clinking sound', 'soft melodious', 'wide echoing synth lead melody', 'autotuned vocals', 'jazz musician', \"children's program\", 'infectious drumming', 'arpeggiated chords', 'pedal steel guitar', 'man narrates technique', 'vigorous hand percussion', 'synth drone', 'turn table imitation', 'bass master class', 'synth strings', 'hymn', 'floor crackling sounds', 'chorus pedal', 'short brass melody', 'rock power ballad', 'complimentary harmony', 'repetitive high pitched vocal', 'recorder melodyspinal treatment tutorial', 'crying voices', 'haunting', 'people chattering sound effect', 'groovy mandoline melody', 'legendary licks', 'digital/acoustic drums', 'slick', 'soft lilting flute', 'rapid', 'clarinet playing', 'sustained organ synth keys chords', 'averts sound quality', 'reverberant snare rolls', 'falling', 'choreography', 'oboes', 'synth flute melody', 'weird male chant', 'vamp', 'repetitive arpeggiated acoustic guitar', 'aggressive electric guitar riff', 'anticipation of danger', 'clave', 'animated movie track', 'festive music', 'acoustic/e-guitar', 'exotic instrumental', 'sound of waterfall', 'free stroke', 'indian pop song', 'hindu devotional music', 'pop punk', 'lego city', 'techno dance club', 'muffled drums', 'super imposing background', 'string pads', 'vocal drum simulation', 'flute playing', 'tambirine', 'dancing all night', 'acoustic guita', 'atmospheric sound', 'tribal/meditative/electro', 'club musc', 'floor tom-tom', 'bhakti', 'syncopated background harmony', 'baby cooing', 'elcetric guitar lead', 'synthesizer sound', 'drum brushes', 'deteriorating audio quality', 'barking tones', 'arabic pop music', 'house music', 'huge down sweep', 'infectious digital drumming', 'wild synthesizer sounds with delay', 'continuous bass', 'dj scratching sound effects', 'fiddle playing', 'electrifying', 'syncopated snare', 'instructional video', 'techno/pop', 'heavy meal', 'cartoon whistles', 'female chanting tones', 'loud electric guitar feedback', 'low hum', 'suspenseful strings', 'hawaiian folk', 'hard hitting drums', 'soft piano accompaniment', 'vivacious', 'latin guitar player', 'automobile engine', 'a keyboard harmony', 'female vocalists', 'gun firing sound', 'echoing resonant synth melody', 'mellow rimshots', 'girl voices', 'wide harmonizing children vocals', 'cymbal strikes', 'relatable', 'acoustic guitar percussive tapping', 'iranian classical music', 'party song', 'groove', 'latin rhythm', 'danger', 'animal sounds', 'pads sound', 'roller skating wheel sounds', 'intense brass section', 'compound time signature', 'string quartet', 'celestial music', 'pulsating noise sounds', 'cheerful piano play', 'courage', 'maximalist', 'trio', 'dire', 'song end', 'arpeggiated and strummed banjo melody', 'mouth and throat coordinated sounds', 'country singer', 'eurodance', 'marching sounds', 'rumbly sound effect', 'school dance program', 'yodelling sounds', 'sustained buzzing sound', 'piano backing', 'groovy organ keys', 'indian traditional music', 'rap/pop', 'impending distance', 'vinyls', 'croaking sound', 'rhythmic synth', 'melodious background electric guitar harmony', 'suspenseful synth arpeggio melody', 'deliberate', 'tapping noises', 'strong beats', 'introduction music', 'struggles', 'traditional chinese instrument', 'slow rock drum beat', 'atmospheric noises', 'drum pads', \"children's song\", 'heavy effects', 'funky strummed electric guitar chord progression', 'ambient background sounds', 'short strings hits', 'honey bee', 'wide laser synth', 'clarinet', 'bubble sounds', 'asanas', 'high pitched female vocal melody', 'harp like insturm', 'korean lyrics', 'string ensemble', 'female backing vocals', 'reverb tones', 'snares', 'children’s game music', 'aman tear audio quality', 'simple jazzy drumming', 'rock&roll/blues', 'accordion', 'fuzzy synth bass', 'acoustic guitar strummed chords', 'classic', 'manically played hi hats', 'tutn table motor', 'vigorous rhythmic speech', 'tabla sound', 'flowing', 'party nights', 'children song', 'hand percussions', 'demo video', 'safari adventure', 'eclectic', 'angelic', 'wide aggressive vibrato', 'public announcement vocal', 'electric sparks buzz', 'sea sound effects', 'acoustic guitar accompaniment', 'groovy thin bass guitar', 'buddhist prayers', 'compressed', 'missed guitar notes', 'drum head', 'retro pop super hits', 'synthesizer lead sound', 'screaming voice sample', 'boomy synth bass', 'joyful', 'auto harp melody', 'passionate violin playing', 'rock percussion', 'vibrations', 'home music jam', 'party time', 'riser sound', 'rhyming', 'distortion guitar playing lead', 'musical vibes', 'corresponding notes', 'melodious viloin', 'male voices talking', 'live choir', 'north indian folk', 'higher register', 'different keys', 'multiple synthesizer melodies overlapping', 'ancient instrument', 'punchy digital drum rhythm', 'poignant', 'smooth male r&b vocal', 'delightful', 'outdoor', 'cell player', 'wide background melodic male vocals', 'live', 'stage performance', 'male narrator', 'african music', 'enlightening', 'quantum', 'male falsetto', 'male vocal chant', 'calm sounding male vocalist', 'slapped e-bass', 'funkrock', 'male vocals', 'sound of waves', 'indo western medley', 'double bass melody', 'regional folk', 'boogie woogie', 'procession', 'birds chirping sound effect', 'muffled music', 'synth stabs', 'groovy distorted bass guitar', 'laos classical song', 'doubling background male vocal', 'testing sounds of drums', 'meditative', 'hip hop drumming rhythm', 'the country life', 'transformation', 'wide synth pad chords', 'nose inhale', 'quirky', 'shofar song', 'orchestral accompaniment', 'rich ancestry', 'staccato synth notes', 'breakup', 'shooting sounds', 'country pop instrumental', 'rhyming song', 'anime music', 'screaming', 'hollow sound', 'synthpop', 'string pad section', 'acoustic latin drums', 'traditional latin music', 'sustained synth pad chord', 'traditional percussive instruments', 'harmonizing male vocal', 'two notes', 'hebrew music', 'melodic amplified piano', 'rock opera', 'amplification', 'digital piano funky chords', 'muffled passionate male vocal', 'scissor sharpener', 'classic pop hits', 'tin whistles', 'sound-effects', 'low to mid range', 'unique instrument', 'folk melody', 'vocal duet', 'modern r&b hits', 'male choir singing', 'melodic sounding harp', 'pandeiro', 'string section singing', 'harmony singing', 'ukelele lesson', 'finger snipping', 'chord changes', 'sax concerto', 'synthesiser  arrangements', 'adventure sports', 'stuttering hi hats', 'khartal', 'instrumental piece', 'minimal percussion', 'guitars rhyme', 'muddy bass', 'reverberant female vocal melody', 'choral chants', 'irish flute', 'church service', 'soft metallic percussive elements', 'wild animals', 'mallet percussion', 'busy drums', 'fashion party mix', 'live in concert', 'reflective lyrics', 'distorted 808 bass', 'fast tapping in rhythm', 'timpani', 'low pitched bassoon accompaniment', 'trumpet', 'female back vocal', 'horror movies', 'tablas percussions', 'hopeful', 'stringed instrumental melody', 'russian rap music', 'arpeggiated e-guitar', 'background-noises', 'chords using open strings', 'ugandan traditional music', 'clicky synth melody', 'chewing', 'female soulful vocal', 'slower to mid-tempo', 'choral melody', 'vocables backing', 'hissing noise', 'soothing indian male vocal', 'fast strumming rhythm', 'repetitive melody on different octaves', 'reverberant \"4 on the floor\" kick hits', 'confusing', 'simple piano keys chords', 'high pitched male voice', 'filipino language', 'acoustic performance', 'elevating energy', 'bridal send off song', 'single note bass', 'twangy', 'conviction', 'timbale', 'mashup', 'baritone saxophones', 'brushing teeth', 'spirited tabla', 'hip-hop-rap', 'kids voice', 'french urbano', 'yodelling vocals', 'electronic/meditation', 'intricate guitar playing', 'metal sound', 'celebr', 'off beat synth bass', 'acoustic rhythm guitar chord progression', 'electroni music', 'loud thud', 'ambience', 'wooden impact sounds', 'fast paced drums', 'tinny hi hats', 'descendling scale pattern', 'sampler', 'retro youtube pop', 'vocalising', 'soulfu', 'religious chanting', 'kidssong', 'accelerated tempo', 'atmospheric sustained synth pad', 'strength', 'rural', 'south indian traditional music', 'endless love', 'march like drumming', 'afghan', 'plastic impact foley effect', 'mandolin playing', 'tibetan bowl', 'simple drum track', 'mellow percussions', 'bouncy snare hits', 'heavily distorted aggressive electric guitar', 'creative', 'eerie sounds', 'ethereal female vocal', 'tinny subtle bells melody', 'romantic mood', 'lower to mid-range voices', 'synthesiser arpeggio', 'various percussions', 'circus-like', 'religious changing song', 'rhythm', 'deck scratching', 'percussion instruments', 'love performance', 'seagull sound effect', 'soft sustained string melody', 'bagpipes solo melody', 'bollywood song', 'man yelling', 'cheerful positive', 'guitar strings crackle sound effects', 'opera-ballet', 'burgeoning note', 'slapping claps', 'vacuum cleaner noise', 'japanese language', 'smooth instrumental playback', 'retro new age hits', 'walking sound', 'royal music', 'static sound effect', 'trumpets blaring', 'stuttering', 'soulful male vocal melody', 'new age', 'contrast song fade', 'tala', 'cartoon noises', 'wide kick hits', 'dissonant strings', 'electronically', 'wide repetitive female vocals', 'vocalisation', 'saxophone solo melody', 'amplified piano', 'lead male vocalist', 'gritty electric guitar solo motifs', 'simple folk drum  beat', 'raw male vocal', 'auto harp', 'sax solo', 'crickets', 'free reed instrument', 'fast tempo song', 'amp static', 'band audio quality', 'groovy rhythms', 'chord clusters', 'audio transitions', 'calm section', 'upbeat drums', 'contemporary pop', 'romantic passionate', 'haunting female vocals melody', 'trance dance music', 'oud harmony', 'harmonizing female vocal melody', 'live  performance', 'fast paced bass synth', 'alternative indie', 'french carols', 'gothic rock', 'game soundtrack', 'tongue-in-cheek', 'synth wind sounds', 'edm trap', 'ukulele playing', 'groovy dance rhythm', 'trumpet playing in unison', 'rich quality', 'rock pop', 'abrupt change', 'country hits', 'latin urbano', 'dancemood', 'quirky sounds', 'amateur music recording', 'pepeasant', 'pandeireta beats', 'simple riff', 'snare', 'powerful electric guitar feed back', 'wedding march', 'enegetic', 'bass music', 'dissonant unrelated', 'japanese music', 'bouncing balls', 'female pop vocal', 'strings licks', 'superimposed male voice', 'soft kick hits', 'winds', 'whistling sound effects', 'cast introduction', 'multi vocalists', 'country instrument', 'dance tune', 'sinister music', 'russian folk music', 'disco romance hits', 'acoustic piano', 'squeaky wheel noise', 'foley effects', 'amplified flute', 'computer signal tones', 'increasing tempos', 'irregular tempo', 'pop/rock', 'doo-wop hits', 'audio distortion', 'sad violin melody', 'scottish tenor drum', 'child’s toy', 'screams of agony', 'sorrowful', 'male mid range voice singing/talking', 'dissonant male backup', 'art music', 'beatbox music', 'timpani piece', 'elec', 'made up songs', 'off-pitch playing', 'synthesizer strings/brass', 'synth counter melody', 'digital instrumentation', 'harmonizing passionate male vocals', 'repetitive percussive bass loop', 'melodious tune', 'fast paced drumming', 'energetic electric guitar harmony', 'vocal duo', 'solo harp', 'wild', 'medium to uptemo', 'pretty piano', 'jamaican folk', 'mediumto uptempo', 'traditional folk song', 'cute', 'electronic/pop', 'tranquil sound', 'resounding melody', 'mother earth', 'guitars strumming', 'retro', 'metallic percussion', 'classic reverse hits', 'christian hymn', 'sitar accompaniment', 'acoustic bass', 'latin electronic', 'loud choir vocals', 'comedic sounds', 'country western', 'passionate female harmonizing vocals', 'country folk music', 'raw innocent girl vocal', 'gunshot sounds', 'instrumental music', 'scary', 'smart minds', 'sustained synth melody', 'censored lyrics', 'digita strings', 'accentuated playing', 'maxican folkrock', 'electronic drum sounds', 'ambient nature sound', 'western music', 'electric piano', 'eastern sounding', 'repair video soundtrack', 'determination', 'whistling tones', 'synth brass melody', 'high cymbal', 'pandeireta rhythm', 'honour', 'regret', 'irish traditional music', 'synthsounds', 'mellow brass', 'arpeggiated string melody', 'latin influence', 'straightforward drumming', 'acoustic pop', 'energetic vocal backup', 'mandoline melody', 'amplified guitar riff', 'transition effect', 'tambourine playing percussively', 'violins', 'folk musc', 'banging and hammering noises', 'repetitive synth keys melody', 'new orleans', 'hammond organ', 'game music track', 'fuzzy high pitched instrument', 'electric guitar sound', 'mellow groove', 'male and female voice over', 'soap opera music', 'power electronics', 'male singer screaming', 'vigorous tabla introduction', 'rugged', 'an incredible journey', 'game end music', 'distorted bass', 'battle call', 'tambourine beat', 'e-guitar sound', 'offbeat', 'tempo', 'victories', 'techno', 'grazing', 'female duo singing', 'buzzy sound effects', 'acoustic drum fill', 'voice effects', 'effects pedal demonstration', 'electric guitar lead', 'sustained accordion melody', 'cunfusion', 'no percussion pulse', 'heart beat melody', 'guitar riff', 'cheerful upbeat song', 'sliding electric bass guitar', 'paranoia', 'walking', 'french love song', 'tranquilizing', 'basssound', 'youthful', 'grungy guitar strumming', 'xtra bass', 'pop song cover', 'districted audio', 'mellow electric guitar', 'short electric guitar chords', 'rhythm mismatch', 'catchy beat', 'mysterious music', 'unusual sound', 'high pitched vocals', 'modern hip hop hits', 'electric guitar plucking', 'touching', 'passionate affair', 'strings dissonant background melody', 'loyalty', 'vocal chanting', 'smooth gentle male vocal', 'loud electronic drums', 'wide mellow high pitched synth pad', 'electronic gadgets', '4 on the floor cowbell', 'double pedal kick', 'gargling', 'metallic electric guitar riff', 'wide shimmering tambourine', 'knife honing sound effect', 'low-resolution', 'vigorous', 'box opening video', 'acoustic guitar riff', 'drumming patterns', 'female vocalisation', 'uplifting music', 'godfather theme', 'male child voice', 'bollywood', 'bass guitar music', 'viola da gamba', 'hippie theme', 'in game sounds', 'live band performance', 'sampled strings sound', 'falsetto', 'lingering bassline', 'muffled', 'booming', 'mexican folk music', 'arpeggiated theremin melody', 'lyrical melody', 'detuned', 'electro/techo', 'folk lyrics', 'atmospheric sounds', 'acoustic pop rock', 'sustained piano synth', 'indian percussion instruments', 'lively engaging', 'clap box rhythm', 'car repair video', 'romance', 'techno mix', 'keyboard instrument', 'distant', 'easter song', 'gothic ambience', 'inhale', 'punchy guitar rhythms drum stick clicks', 'improvisation', 'loud static sound effect', 'flat male vocal', 'street noises', 'reverberant snappy rimshot', 'dog howling', 'massive bass drops', 'unbalanced stereo image', 'chime bells', 'footsteps sample', 'paper wrapper', 'gritty', 'soaring vocals', 'spring reverb', 'technique video', 'shimmering background sound', 'oriental percussion', 'flat male vocals', 'percussion instrumental', 'baarat music', 'wide synth brass chords', 'short strings chords', 'very poor audio quality', 'ethereal sounds', 'shimmering bright cymbals', 'water dripping sound', 'unrelated tracks', 'retro organ', 'audio crackles', 'wild beast', 'lead clarinet', 'wind band repertoire', 'bagpipers play in unison', 'virtuous guitarist', 'stately', 'dreary', 'soft elbow', 'cellos playing lower register', 'wide resonating woodwind melody', 'played with vibrating lips', 'groovy electric guitar chords', 'tense', 'meditunique', 'mixed choir singing', 'tibetan bowls', 'solo bass guitar', 'animated voices', 'dream scene music', 'bright trumpeting', 'didgeridoo song', 'relaxing', 'instrumental harmony', 'repetitive trumpet melody', 'futuristic laser beam sounds', 'string instrument/violin', 'grunge keyboard tones', 'deep vocal riff', 'phon playing music', 'whispering', 'wide simple bells melody', 'retro arcade game music', 'muffled accompanying music', 'caotic', 'vibrato', 'hair raising', 'kids laughing', 'cymbal crash', 'soft arpeggiated piano melody', 'balkan music', 'soft acoustic guitar accompaniment', 'finger cymbals', 'gehu chinese instrument', 'medieval', 'bugle like sound', 'door creaking', 'magnified tone', 'arpeggiated plucked strings melody', 'superimposed noises', 'innovation', 'low bass synth melody', 'professionally trained', 'brasssection', 'harmonics', 'reverberant tinny bells', 'bell ringing', 'metal-rock', 'plastic impact', 'wide aggressive guitars melodies', 'random notes', 'hand tapping sounds', 'subdued harmony', 'relaxing music', 'abrupt ending', 'peculiar music', 'heavy', 'sports', 'esraj', 'acoustic guitar player', 'reversed crash cymbal', 'digital beats', 'fuzzy electric guitar', 'chorus', 'dj practice session', 'couples slow dancing', 'shimmering shaker bells', 'aggressive energy', 'tarantella', 'electronic drum kit', 'harmonizing background vocals', 'four on the floor kick pattern', '80s sound', 'orchestral walk-on music', 'banjo', 'drum loop', 'slow motion', 'swiping sound', 'instrumental  music', 'halluciatory', 'comical', 'office adventure', 'dense guitar playing', 'normal voice to falsetto', 'percussive toms', 'string bass drum kicks', 'banger beat', 'loneliness', 'hardrock', 'rock instrumental', 'hypnotic mellow synth lead melody', 'background car driving sounds', 'dance pop song', 'ecstatic', 'digital soundeffect', 'plastic impacts', 'synth pedal', 'funky song', 'wobbly percussion', 'old schol', 'nirvana', 'metallic percussive melody', 'missing harmony section', 'hands clapping', 'distorted vocals', 'harmonizing male background vocals', 'rustling tones', 'metal ringing sound', 'gym music', 'minor scale', 'learning to spell', 'e-guitar', 'focused', 'clapping hands', 'tenor flute', 'pop dance song', 'vivacious electric guitar harmony', 'inferior quality recording', 'trumpety-synth', 'wedding music', 'synthesiser', 'repeated vocal phrasing', 'arabic culture', 'singer-songwriter/pop', 'moody blues', 'intense cello', 'synth acid arpeggiated melody', 'sustained singing bell sound', 'flat male vocal snippet', 'jazz music show', 'analog sound', 'outdoor singing', 'swinging', 'simple', 'rhythmic effects', 'empty shells falling', 'snare pad', 'hypnotic music', 'cellos', 'groovy drum rhythm', 'technically challenging melody', 'modern jazz hits', 'ghatam', 'barely audible', 'sound of water falling', 'sniffing', 'printer sound effects', 'kick impact', 'moving', 'brass solo melody', 'synth plucks', 'jingles', 'intimate', 'lively backup', 'war horn', 'aggressive voice', 'funky rhythmic bassline', 'heavy autotune', 'skittering hi-hat pattern', 'telephone ring', 'dj routine', 'arpeggiated sounds', 'echoing ad libs', 'chaos', 'jazz-o-tech', 'tuba', 'bossa nova', 'african percussion', 'pakistani sufi music', 'harmonizing french horns melody', 'digital beeping noises', 'well being', 'waterfall sounds', 'midi sounds', 'old tape static', 'lively veena harmony', 'latin music', 'female vocal beatboxing', 'glass shatter', 'beep tones', 'long pause', 'syncopated music', 'solo male singer', 'papers ruffling', 'learning banjo', 'spacey synth melody', 'ducks', 'bouncy snare', 'charming male vocalist', 'manic repetitive synth lead melody', 'sound cut off', 'percussionist', 'hype', 'amateur singer', 'pulsating woodwind melody', 'soundeffects', 'swing and blue', 'meditating', 'energetic muffled drums', 'chant like', 'arabic singer', 'echoing breathy flute melody', 'dissonant sound', 'background-noises/voices', 'calm sound', 'finger snapping sound', 'animated backup vocalisation', 'gunshots', 'dj mixer tutorial', 'simple minimalistic percussion', 'broken beat', 'violinists', 'rock drums', 'flat female vocal narrator', 'slow rap chants', 'solo violin', 'aggressive echoing effect', 'enthusiastic vocal backup', 'slow dance', 'complex percussion pattern', 'club music', 'synth pad sound', 'thereminist', 'female rapper', 'make singer', 'fearful', 'video game trailers', 'duel music', 'salsa dancing', 'digital strings', 'emotional accordion ballad', 'beauty', 'electro/techno', 'loud feed back', 'energetic muffled instrumental', 'male vocal backup', 'rock/pop', 'female backing voice singing', 'knocking', 'rapid clicking sound', 'portable percussion instrument', 'complex sounds', 'children', 'vibrating', 'metalcore', 'memdium tempo', 'self identity', 'bright brass sounding instruments', 'upbeat instrumental', 'psychedelic journey', 'epic music', 'guided meditation', 'doorbell ringing', 'straight piano melody', 'pulsating synth bass', 'never give', 'night party', 'cartoony sounds', 'devotee', 'digital acoustic drums', 'vigorous banjo accompaniment', 'slow dance song', 'slows down to a rhythmic melody', 'bells melody', 'lively drumming', 'loud stuttering low frequency audio crackle', 'waves', 'sound comparison audio', 'neo-folk', 'malaysian', 'relaxing voices', 'wedding dance', 'fast paced rim shots', 'indian mystical music', 'tap dancers', 'electro-hop', 'ukulele strummed fast', 'adrenaline rush', 'progressive synth-rock', 'dark atmosphere', 'hammer ons', 'rhythmic background drumming', 'boomy steel guitar melody', 'flute harmony', 'jazz super hits', 'paraguayan folk music', 'mantra-chanting', 'no percussion moderate tempo', 'synth pad chords', 'stretched audio', 'psychedelic music', 'kindergarten song', 'police van', 'ethereal', 'music show', 'noise signal above threshold', 'upright-bass', 'cultural heritage music', 'violin countermelody', 'short 808 bass', 'digital choir sample', 'sound therapy', 'synth sounds', 'energetic beat', 'bowed lute', 'synth bass stab', 'oriental/orchestral', 'groovy electric guitar', 'soloist', 'country rock', 'modulating rhythm', 'effects', 'soft drum head beat', 'descan', 'syncopated upright bass', 'arnatic music', 'pleasant sound', 'screams', 'jazz music influences', 'booming sounds', 'inspirational love song', 'clicking percussions', 'wide low toms hits', 'live recording outside', 'arpeggiated steel acoustic guitar melody', 'wide acoustic rhythm guitars chord progressions', 'tuba melody', 'video game theme', 'intricate celtic melody', 'retro pop instrumental', 'college band', 'instrument showcase', 'feet stumping noises', 'blues harmonica', 'repeated progression', 'controlled singing', 'soft kick hit', 'small hand cymbals', 'classic guitar hits', 'orchestral string melody', 'hip-hop drum beat', 'soft bass guitar', 'shimmering crash cymbal', 'grunge guitar tones', 'couples dan', 'staccato violin melody', 'workout playlist', 'arpeggiated strings melody', 'steel guitar solo melody', 'lead electric guitar melody', 'christian worship', 'konkani music', 'electro pop', 'playback drums instrumental', 'plethora of instruments', 'slap bass', 'choral symphony', 'modulated vocals', 'tinny syncopated percussions', 'male sighing tones', 'low quality audio recording', 'tremolo', 'passionate solo acoustic guitar melody', 'techno dance hits', 'bird chirping', 'pulsating theremin synth lead', 'syncopated synth bass', 'camera sounds', 'funky piano', 'egyptian', 'sustained french horn tones', 'mehandi ceremony', 'idyllic', 'marimba orchestra', 'monster growling sound effect', 'infectious', 'digital drum', 'american male speech', 'zheng instrument', 'wide bouncy wooden percussion', 'flanger pedal', 'echoing plucked strings melody', 'group male vocalists', 'laughter', 'grand entrance theme', 'high energy', 'theme park feel', 'backup track', 'reverberant passionate male vocal', 'mellow synth bells melody', 'single strum', 'love', 'irish folk rock', 'alien invasion', 'cello music', 'allergissimo', 'avante-garde', 'pad-sound', 'mysterious string synth tones', 'grungy bass', 'sacred sounds', 'ukele accompaniment', 'passionate emotional', 'wide french horn melody', 'male backing voices', 'digital lofi-melody', 'sound of cutting', 'cinematic/orchestral', 'electronic dance music genre', 'brass elements', 'vintage super hits', 'wide deep water sound effect', 'soft rimshots', 'clothes movement sound effects', 'groovy spanish acoustic guitar melody', 'crescendo tones', 'windy', 'pop r&b', 'wide crowd cheering', 'trumpets blaring loud', 'lively tempo', 'charismatic male lead vocals', 'echoing laser effect', 'medium range', 'aboriginal didgeridoo', 'folksong', 'background pop instrumental', 'compound meter', 'trimmer tones', 'child’s voice', 'amateur percussionist', 'music interlude', 'feminism', 'ukelele accompaniment', 'punchy energetic rock drumming', 'intricate percussion playing', 'slamming door percussion', 'string instrument tuning', 'fast tempo', 'groovy electric guitar accompaniment', 'soft shimmering bells', 'detuned female vocal', 'french horn playing softly', 'rhythmic drumming', 'satanic', 'rhythmic speech', 'syncopated synth chord stabs', 'great drumming', 'people talking', 'promotional music', 'simple kick pattern', 'tinny metallic percussions', 'math rock', 'noisy percussion', 'background muffled radio music', 'mellow echoing synth pad keys', 'synth/electro', 'two artists', 'santoor', 'digital bell/mallet sounds', 'low vocoder voice', 'pop superhit', 'tano indian festivities', 'customised song', 'classic pop', 'chant-like singing', 'percussion music', 'male laughing', 'heavily processed female vocals', 'wind sounds', 'calling bell', 'dissonant brass stabs', 'afro cuban dance', 'instrumental intro', 'reverberant acoustic guitar melody', 'boomy bass lines', 'filtered monster growl', 'techno beat', 'nasal singing', 'blue band', 'scratch/hiphop', 'synthwave', 'profanity', 'creepy', 'high pitched horn', 'people', 'downcast', 'smacking lips', 'soap opera theme', 'piano song', 'room echoes', 'chinese harp', 'flourishing', 'animated guitar', 'surf guitar', 'glass hit sound effects', 'wide harmonizing background vocals', 'high octane', 'zither', 'wooden percussive instruments', 'turkish rappers', 'distorted electric guitar lead', 'guitar layers', 'shimmering riser', 'rhythm section', 'maracas', 'upright/e-bass', 'disco soul', 'empahtic electric guitar feedback', 'sound effects electronic drums', 'voice samples', 'underwater', 'vocal turn table', 'melodious acoustic guitar rhythm', 'bollywood music', 'testing effects', 'indian music', 'benign', 'tinny wide minimal percussions', 'recorder harmony', 'cello solo melody', 'mellow low percussions', 'ukulele melody', 'reverberant metallic impact', 'freestyle rap', 'happy occasion', 'pitched up male vocal', 'high notes', 'soothing calming', 'high pitched', 'poor quality mix', 'song for belly dance', 'shofar horn siren', 'metallic squeaking sound', 'movie sound track', 'tutari sound', 'hunt', 'comedy', 'asian music', 'jealous', 'albanian pop music', 'sound of drums', 'e-guitar sample', 'speaking male', 'buzzing sounds', 'snare playing', 'need your loving', 'old-fashioned', 'momentous', 'upbeat acoustic guitar', 'adrenaline junkies', 'short brass hit', 'celtic folk music', 'experimental/folklore', 'rock groupies', 'japanese pop-punk', 'cellphone recording', 'synchronized wooden percussions', 'tribal', 'addictive synth lead melody', 'keyboard sample', 'animal growling sounds', 'clean amp channel', 'reverberant electric guitar melody', 'steel percussion', 'background noises', 'repetitive buzzy synth', 'drumstep', 'discomforting effect', 'rap-like singing', 'buzzy sustained synth lead', 'bustling road', 'emo', 'higher frequency', 'girls vocal', 'hindu chant', 'buzzy vibrating sound', 'amateur playing', 'mantras', 'funky synth keys', 'echoing melancholic electric guitar melody', 'drone', 'two acoustic guitars', 'old classics', 'tap dancing', 'drum & bass', 'people marching', 'country music', 'dj turntable', 'cheap sounding', 'criminal', 'high pitched vocal', 'people’s voices', 'lonely', 'groovy acoustic rhythm guitar', 'camera beeping sounds', 'pizzicato string melodies', 'harmonizing clarinet melodies', 'missing you', 'ambient/electro', 'growl', 'russian singer', 'upright', 'distorted music', 'relaxation music', 'marimba/xylophone', 'arabic dance pop', 'female harpist', 'enigmatic flutes', 'dance hall', 'classical guitar hits', 'inspirational string section', 'padsounds', 'buttons tapping', 'cartoon voices', 'beautiful and relaxing', 'gentle', 'guitar arpeggios', 'beeping sound', 'straight piano chords', 'machine gun shots', 'horror music', 'sleepy', 'classical ghazals', 'boomy', 'synthesised vocals', 'rock band playing', 'melodious', 'r&b’simple melody', 'calm', 'strong', 'wedding songs', 'swing beat', 'electronic', 'bouncy rhythm', 'majestic', 'flushing', 'indian film music', 'dance song for children', 'percussion played on contrabass', 'droning harmony', 'sad dark arpeggiated bells melody', 'purity', 'dungeon', 'it’s a wonderful life', 'harmonium player', 'musical trio', 'electric guitar blues', 'resonating mellow bells', 'groovy hi hats', 'offbeat sot piano chords', 'joy', 'cultural', 'intense keyboard', 'grungy gritty electric guitar', 'grunge rock', 'schizophrenic', 'reverse pedal effect', 'female choral harmony', 'sharp sudden sounds', 'female voice speaking', 'drums maestro', 'loud singing', 'deep growling', 'mellow rock', 'drum brushes percussions', 'memdium tenpo', 'applause', 'electro house', 'tinny echoing snare', 'solo horn', 'screenplay music', 'funk pop hits', 'drum stick clicks', 'wine cellar', 'violins strings plucked', 'hindi/pop/rock', 'recorder', 'rock song', 'latin singer', 'dub', 'bowed strings', 'suspenseful didgeridoo', 'marching beat', 'guitar pedal tones', 'trumpets play percussively', 'plucked strings', 'gritty singing', 'drum cover', 'thunder', 'racing car sounds', 'simple rhythm', 'organ accompaniment', 'filtered drums', 'viola harmony', 'intricate walking bassline', 'percussion focused song', 'synthesiser arrangements', '2000s pop/synth-rock', 'dramatic', 'cow bells', 'mellow strings', 'reggae music', 'wide harpsichord melody', 'waltz song', 'toddler tunes', 'muffled mixed vocals', 'dissonant sounds', 'small microphone', 'audio crackle', 'mandolin', 'fuzzy synth sound', 'room microphone', 'sustained suspenseful strings melody', 'manically arpeggiated electric guitar melody', 'wooden surface scratching sounds', 'grimelectronic music', 'tabla rhythm', 'bright bass lines', 'mellow soft', 'singing long notes', 'rap line', 'ambient room noise', 'indian pop music', 'bored', 'crooning', 'advertising', 'bass keyboard', 'mini theremin', 'percussion hit', 'oboes/flutes', 'wide whistling', 'mace', 'strong percussive bass line', 'crowds talk', 'complex', 'holidays', 'held strings', 'fade in', 'background instrumental music', 'male vocal sample', 'stuttering vocal effect', 'dance all night long', 'end credits music background', 'monoton', 'festive christian', 'groovy rhythm', 'soulful singing', 'philharmonic', 'blowing horn', 'insistent', 'ternary feel', 'lounge techno music', 'people cheering', 'traditional indian horn', 'wide nature sounds', 'wooden impacts', 'melodious harmony', 'untintelligible human vocal sounds', 'haunting synth lead', 'radio buzzing tones', 'car sound', 'male rapping/singing voice', 'loud metallic impact', 'full of tension', 'mellow backbeat', 'exorcism sounds', 'performance', 'cartoon show soundtrack', 'accordion song', 'busy street', 'melancholic music', 'digital strings and brass', 'off-pitch guitar playing', 'outdoor recording', 'brass bell', 'spooky glass melody', 'dj music', 'male deep voice screaming/crying', 'high register voice', 'door bell ringing', 'ancient traditional music', 'contemporary rock', 'retro metal hits', 'fuzzy  sound', 'simple rhythms', 'keyboard stringsound', 'ambient noises', 'a great day', 'rap dancers', 'tuba accompaniment', 'music', 'fruity male vocals talking', 'energetic riff', 'techno/minimal', 'soothing male vocal', 'groovy rhtyhm', 'male harmony', 'continuous percussion', 'white noise riser', 'country side singing', 'jittery piano playing', 'pizzicato violins', 'youtube songs', 'syncopated simple synth lead melody', 'reed instrument', 'bed creaking', 'wide strings rising melody', 'hip hop hits', 'active', 'electric guitar tuning', 'lively tabla', 'super hit song', 'dj scratching techniques', 'groo', 'power chords', 'dyi', 'people grunting', 'brush', 'repetitive weird burping sounds', 'classical style music', 'parody', 'explosion sound', 'cajon', 'i’d kan movie song', 'exotic steel pan melody', 'heavy metal', 'rock singer', 'beach party', 'vigorous electric guitar riff', 'army band music', 'chanting song', 'mellow arpeggiated acoustic guitar melody', 'metal scratching', 'ethic indian instruments', 'instruction', 'cheerfull', 'liquid', 'synth chords', 'shredding', 'narration', 'wide shimmering hi hats', 'soft sea waves', 'electric guitar solo melody', 'child speaking', 'liens adventure', 'instrument of goddess saraswati', 'abrupt end', 'timeless hits', 'no melody', 'harmonious classical music', 'metallic detuned percussion', 'oud accompaniment', 'strings', 'punjabi wedding song', 'solo sitar', 'fast paced bass guitar playing', 'emphatic cries', 'indian folk', 'digital melody', 'eerie harmonies', 'chinese instrumental', 'cheerful vibe', 'boomy bass drops', 'romantic spanish singing', 'utmost importance', 'never give up', 'plucked harp melody', 'a sense of low frequencies', 'save', 'hazy muffled', 'people chapping', 'solo artificial guitar', 'enchanting', 'guitar cover', 'narrative mood', 'distorted harmony', 'concentration', 'roll', 'electrifying music', 'male voice screaming', 'wind ensemble', 'symphonic song', 'violin tuning', 'slapping sounds', 'short synth lead sustained note', 'vibrant soulful male vocal', 'repetitive bells melody', 'cartoon soundtrack', 'inferior quality sound recording', 'keys/pads', 'street sounds', 'animated percussions', 'single notes', 'crashing noises', 'mono solo electric guitar lead melody', 'filtered electronic drum beat', 'sound of water', 'funky guitar melody', 'earthquake effects', 'raga', 'vigorous drumming', 'wide scratching effect', 'stringed instrument riff', 'synth-strings', 'ring modulator', 'lush', 'fantasy', 'ragtime', 'water fountain sounds', 'waltz', 'combat soundtrack', 'beach resort band', 'female voice screaming', 'vocal crooning', 'metallic percussive elements', 'very fast tempo', 'fast paced percussion', 'short electric guitar lick', 'oriental string drone', 'mindful state of being', 'filtered background male vocal', 'male and child voices', 'female voice singing/yodeling', 'contemporary blues', 'ost', 'rich country traditions', 'theme song', 'groovy accordion chords', 'song fade', 'dj song', 'bowl scraping resonance', 'floor crackles', 'amateur sounding', 'tanggu', 'filtered \"4 on the floor\" kick pattern', 'trendy', 'male voices interaction', 'dark arpeggiated bells', 'breathy flute', 'violin technique', 'slowed down audio', 'caribbean music', 'rock and rock', 'mellifluous dulcet', 'multi singer song', 'fusion genre', 'young love', 'crowd chant', 'vibrant', 'bells rining', 'hip hop dance hits', 'string harmony', 'addictive female vocal', 'vinyl hiss', 'sound of the crowd', 'crouching bass line', 'big clap', 'adventure', 'futuristic whirring sound', 'against all odds', 'overdriven', 'wide panned', 'techno dance tune', 'stuttering drums', 'organ accomapniment', 'enigmatic sound', 'enthusiastic drumming', 'evil melody', 'wide muffled brass section', 'higher register singing', 'santa claus', 'synthesized orchestral string pad', 'skurrile pad/whale singing sound', 'buddhism', 'loud bagpipes melody', 'filter modulated bass', 'religious recitation', 'normal tempo', 'chains being pulled', 'subtle drums rhythm', 'birds chirping loudly', 'vehicle sounds', 'finnish pop', 'foley studio', 'short violin melody', 'ambient tones', 'low percussive hits', 'indian ceremonial band', 'harpsichord solo', 'desert people', 'throbbing rhythm', 'echoing repetitive arpeggiated harp melody', 'bagpipes melody', 'drum track', 'slower to medium tempo', 'progressive metal music', 'banging sounds', 'aggressive vinyl scratching', 'squeaky sound effect', 'sunday morning', 'applied guitar', 'minimalist', 'embouchure', 'binaural', 'chanter', 'barking sounds', 'manic percussions', 'wide mellow high pitched sound effects', 'cheerful atmosphere', 'mumbling crowd noises', 'classic soul', 'female teen voice singing', 'wind section', 'mridangam percussion', 'philharmonic orchestral music', 'sweep riser', 'tech trance', 'scales', 'flute bass', 'auditorium acoustics', 'male latin singer', 'funk soul', 'camera flash sounds', 'strings sound', 'drum music', 'repetitive flat male vocal', 'analog synthesizer', 'bumblebee', 'taal', 'sound of water in background', 'propeller sound', 'smooth buzzy bass guitar', 'woodwindninst', 'muffled crash hit', 'driving bass', 'blaring horns', 'cool solo', 'bass lines', 'harmonica solo', 'animated electric guitar harmony', 'vocalist chanting', 'sustained woodwinds melody', 'upbeat jazzy music', 'mellow blues', 'kick', 'electric rhythm guitar melody', 'keyboard comparison video', 'powerful', 'backup harmony', 'spelling made easy', 'sinister cello drone', 'tinny wooden impacts', 'whip sounds', 'hindustani classical music', 'southern', 'holding notes', 'single string instrument', 'mandolin solo', 'children’s show', 'soothing performance', 'dangerous atmosphere', 'ceramic bowl tone', 'slow footsteps', 'low tom backbeat', 'crashing sounds', 'high-pitched synth', 'simple bass lines', 'fade out drums', 'swoosh sound effects', \"1970's\", 'trombone song', 'echoing bells', 'things burning', 'vocal chant', 'audio hiss tones', 'christian music', 'backbeat', 'jaw harp', 'child prodigy', 'amplified acoustic guitar', 'haunting melody', 'upbeat song', 'hindustaani music', 'brass band', 'tumbao', 'gamelan', 'cellist', 'tinny metallic impact', 'mellotron music', 'excited vocals', 'saxophone quartet', 'simple percussion', 'salsa/hiphop', 'meditative chant', 'cruel sounding', 'reflective', 'soft piano', 'tabla percussions', 'electric guitar instrumental', 'upbeat pop clip', 'learning to play', 'colorful', 'traditional stringed instrument', 'superimposed instrumental', 'modern sound', 'reversed dark mellow piano melody', 'reverberant percussion hit', 'fog horn', 'stacatto', 'muffled gunshots', 'phone tone', 'tragedy', 'ghatak', 'comedicsong', 'acoustic rhythm guitar', 'video game ambience', 'beeping style synth', 'male voice singing along', 'vocal vibrato', 'christian contemporary music', 'keyboard lesson', 'overdrive effect', 'hi-hat cymbals', 'stifled laughter', 'indian traditional song', 'belching', 'tom-toms', 'war', 'flute solo', 'ukelele strumming', 'telugu news report', 'guitar echo pedal', 'hindustan classical music', 'tone generator', 'distorted filtered synth bass', 'idiophone', 'extatic energy', 'hebrew man speaking', 'kathak dance', 'russian', 'baby sounds', 'patriotic music', 'flute-like instrument', 'heavy rain', 'big backbeat', 'club mix', 'stringed harmony', 'retro pop melody', 'high-pitch synth', 'keyboard music', 'drum kit', 'low to high notes', 'disturbed mind', 'slangy lyrics', 'room acoustics', 'excitement', 'ensemble', 'eerie', 'beeping sound effects', 'trimmings playing', 'male voice yodeling', 'walking synth bassline', 'jewish music', 'engine whirring', 'menacing', 'fight to the end', 'water sound', 'male deeper voice singing', 'ethereal music', 'smooth jazz', 'car honking', 'flamenco', 'desperate for you', 'latin percussion', 'crowd cheering', 'techno pop', 'organ keys', 'repetitive synth melody', 'rhythmic spanish guitar', 'chord ringing out', 'piano-composition', 'fiddler', 'samoan folk music', 'shaker like percussion', 'reverberant male vocal', 'dj introduction', 'uplifting', 'celtic music influences', 'finnish techno pop', 'tinny percussive element', 'rotary phone rings', 'ethereal harmony', 'reggae bassline', 'teen pop', 'harmonica song', 'ambient noise', 'suggestive', 'children’s favourites', 'manic snare hits', 'twilight', 'rehearsals session', 'picked', 'punchy', 'harmonious', 'filler music', 'digital bass', 'south asain', 'lighthearted', 'popular songs', 'reverb effect on voice', 'retro rap hits', 'pop/electro', 'longing for you', 'police siren', 'synth horn section', 'plucked sitar melody', 'glassy sound', 'male backing singers', 'funky bass line', 'minimal r&b drumming', 'south indian music', 'chinese string instrument', 'inferior audio recording', 'funny speaking', 'middle eastern folk music', 'monosynth', 'background electronic music', 'gentle choral singing', 'steelpan', 'guiro', 'bass-ukulele', 'video game like electronic beep', 'punk rock', 'various rhythms', 'glass shattering sound', 'dissonant harmonica melody', 'cello strings melody', 'buzzing electric circuit', 'percussive rhythm', 'music store', 'high pitched tone', 'smooth dance', 'edelweiss', 'big band hits', 'grunting sound effects', 'overdrive amp channel', 'dj talking', 'pamiri', 'traditional string bass instrument', 'drum roll solo', 'storytelling style singing', 'plucked double bass', 'om mantra', 'dj mix', 'mid-range', 'syncopated rhythms', 'staccato strings', 'sharp', 'rapid tempo', 'd]steady drumming rhythm', 'bass recorder', 'church bells', 'wide electric guitar melody', 'muffled guitar quality', 'strong bass line', 'metal plates', 'folk fusion', 'dj scratching sounds', 'punchy bass', 'clear sound', 'fret noise', 'gospel theme', 'birds noises in the background', 'low pitched harmony', 'soft female vocal', 'melodious piano accompaniment', 'middle eastern stringed instrument', 'phone recording', 'keyboard arpeggiated tones', 'groovy filter mod synth bass', 'ambient factory noise', 'groovy saxophone', 'asian pop', 'funny show', 'palm muting', 'wide dark synth pad', 'harp music', 'lute instrument', 'groovy thin bass', 'juvenile lyrics', 'play time', 'wedding band', 'ibiza party', 'syncopated open hat', 'garage', 'noisy ambience', 'synth pad srone sounds', 'sarangi', 'energetic open hats', 'respect the dead', 'resonating arpeggiated piano melody', 'horns playing trumpets', 'cover song', 'amplified music', 'wide male grunts', 'crowd cheering and singing', 'electro rock', 'harmonizing female vocal', 'repetitive vocal melody', 'ethereal soothing', 'weird arrangement', 'mellow woodwinds melody', 'piano groove', 'lap steel guitar', 'free singing', 'raw', 'disk jockey', 'acoustic/ digital drums', 'queen', 'funk/dance', 'quarter', 'progressive', 'drum machine tom melody', 'dog barking sample', 'pitch shift', 'medtiation music', 'uprightbass', 'modern pop hits', 'happy vibes', 'keyboard strings', 'bell-melody', 'good energetic vibes', 'synth song', 'jamaican feel', 'sleep', 'game sound tones', 'infatuation', 'bell-sounds', 'trumpets animated trumpet', 'african dance', 'playing rhythm guitar', 'circular breathing', 'beeping synth melody riff', 'goat horn', 'fake punching sounds', 'water splashing sound', 'melanchoic singing', 'soft echoing female vocal', 'xylophone sound', 'gangster rap', 'funk pop', 'homer simpson cover', 'breath', 'trip hop', 'raucous', 'slight distortion effect', 'repeated tune', 'vocal treat', 'stimulating', 'sound of running', 'animated kids movie', 'horror movie vibe', 'keyboard synth harmony', 'tv series theme', 'mood-lifting', 'peace', 'r&b song', 'weird beeping sound effect', 'badly tuned strings', 'christmas cheer', 'religious function', 'grunt-like singing', 'post-grunge', 'spanish guitar melody', 'timer clicking', 'eastern music', 'retro death metal', 'steel drum solo', 'temulous playing', 'seconds', 'wide harmonizing hums', 'backgroundmusic', 'guitar effects pedal', 'progressive trance', 'fun and groovy', 'blues melody', 'four stringed instrument', 'stadium', 'percussion shakers', 'bowed cello', 'female latin singer', 'lively acordion', 'slowly arpeggiated acoustic guitar melody', 'scratching disc', 'yodelling', 'cajun beat', 'ambient static sounds', 'female voice talking', 'lo-res', 'anticipa white noise', 'reverberant snaps', 'snap', 'christmas popular song', 'manic dj scratching sound effect', 'hypnotic', 'bowed string instruments', 'muffled electronic sounds', 'go go beat', 'church organ harmony', 'percussive bas slime', 'soul/r&b/rap/pop', 'wide vinyl crackles', 'emotional voice', 'chill', 'remembrance', 'pingpong', 'synthesises funk guitar', 'jet airplane', 'indian wedding', 'cheerful melody', 'environmental noises', 'recorded on phone', 'raspy male baritone vocal', 'clean electric guitar', 'lively beat', 'cymbal riser', 'carousel', 'ambient room notes', 'digital drumming', 'chinese traditional music', 'dream pop', 'droning', 'cracklings', 'rock music', 'mellow sustained female vocals', 'high pitched female melodic singing', 'martial arts movie', 'aakar style singing', 'fast strumming acoustic guitar', 'car horn playing percussively', 'effect pedal', 'ambient bell sounds', 'spanish dance', 'male kids voice', 'moroccan', 'amplified paino', 'hollow snare', 'grunting', 'reverb peas', 'vocal commentary', 'love you so badly', 'male and female players', 'hollow', 'mexican music', 'supercar engine', 'jazz-funk', 'crackle', 'african folk music', 'opera hall', 'ambient room nosiness', 'percussion bells', 'quirky sound', 'melodic violin', 'autotuned male vocals', 'sedate', 'unison', 'storm cloud noises', 'playing different notes', 'simple hi hat', 'male throaty vocals', 'non-musical', 'fast harp passages', 'upbeat catchy', 'female pop star', 'fervent', 'strong bass hits', 'female vocals', 'buzzy static noise', 'persistent', 'mellow dark synth pad chords', 'country music band', 'muffled bells melody', 'indie alternative vocal', 'get tones', 'synth effects', 'subtle percussion rhythm', 'syncopated drums', 'comedic', 'rapping', 'chinese instrumental music', 'uplifting atmosphere', 'filter mod', '4 on the floor kick pattern', 'deep male voice rapping/singing', 'wedding rituals', 'modern pop songs', 'disc scarring tones', 'piano arpeggio', 'metallophone sample', 'groovy rhodes keys melody', 'sere', 'drum practice pad', 'manic tom rolls', 'concerto', 'congas beat', 'gripping experience', 'rhythmic pattern', 'electro-r&b', 'almost fast tempo', 'zumba music', 'mid to high range singing', 'bouzouki', 'synth pluck', 'christian ballad', 'mellow acoustic rhythm guitar chords', 'solo instrumental', 'blues lessons', 'percussion beat', 'layers of music', 'bridal march', 'vocal range', 'muffled sustained strings melody', 'truck sounds', 'tambourine accompaniment', 'industrial rock', 'incomprehensible', 'the great life', 'cymbal crash tone', 'passionate harmonizing mixed vocals', 'bansuri melody', 'hindu', 'sound of rain', 'muddled singing', 'intense electric guitar lead', 'gentle notes', 'stringed guitar', 'unnerving', 'orchestral instrument', 'sound of tapping', 'pensive', 'life’s truths', 'hi- hop dance hits', 'exhilarating', 'alternative country', 'terror', 'female singing', 'bagpiper', 'arpeggiated banjo melody', 'solo live direct input acoustic guitar strumming', 'indirock', 'amplifiers', 'alto saxophone notes', 'repetitive pulsating synth pad chord progression', 'spirit connection', 'soft crash cymbal', 'royal dance', 'shimmering', 'duck song', 'horn instruments', 'soft double bass', 'whale music', 'enthusiastic riff', 'groovy guitar rhythm', 'wow', 'emphatic piano', 'backround music', 'rich sound', 'trip pop', 'funky piano melody', 'poor quality', 'string duet', 'highly aggressive and loud', 'happy feel', 'the kings court', 'metal song', 'twangy electric guitar', 'upbeat pop drumming', 'disappointment', 'mellow guitar', 'rimshots', 'irish folk music', 'marching band', 'vocal drum machine', 'auto harp accomapniment', 'pleasing', 'drum machine', 'lyrical singing', 'reggae music influences', 'singer self introduction', 'asphalt sounds', 'funky synth lead melody', 'subtle piano melody', 'car engine sound', 'intense violin', 'sharp sound', 'dilruba', 'steady bass lines', 'indian language', 'speaking man', 'harsh microphone feedback', 'country/blues/rock', 'staccato background vocals', 'doubled boy voice', 'blowing raspberries', 'goosebumps', 'audio quality deterioration', 'simple hip hop style drum beat', 'melodic flute harmony', 'home dj', 'empahtic', 'song fading', 'vocal echoes', 'omani traditional music', 'ethnic aboriginal instrument', 'whispers', 'chaotic harmony', 'tapping sound', 'melancholic', 'didgeridoo', 'grungy electric guitar', 'electric guitars', 'background harmonizing male vocals', 'airy soothing female voice', 'excitement in the air', 'filtered effect', 'mourning', 'still atmosphere', 'steady bass and drums', 'percussive acoustic rhythm guitar', 'reverberant breathy flute melody', 'stretched low pitched male vocal', 'passionate male vocals', 'oud rhythm', 'driving song', 'echoing electric guitar solo melody', 'live performance', 'whistling', 'crunchy electric guitar playing', 'love me', 'unobstructive', 'rhythmic guitar', 'ancient percussions', 'poor sound-quality recording', 'violin playing emotionally', 'masterpiece', 'male opera singer', 'huge church organ chords progression', 'intro', 'outdoor performance', 'funky jazz', 'shiny acoustic', 'old music box', 'painful screaming/crying sounds', 'crossover musical style', 'water flowing sound effect', 'high pitched wobbly synth', 'musical', 'organ song', 'native', 'youtube dj lessons', 'with you forever', 'nu-metal', 'sidechain', 'traditional indian music', 'crazy', 'turkish artists', 'dirty sound', 'slight tape hiss', 'mellifluous', 'exploring dangerous territory', 'mellow classical piano melody', 'celebration song', 'scraping sound', 'techno mucus', 'harmonizing french horn melody', 'cheering clapping', 'random sounds', 'joyous', 'bass guitar', 'traditional/far east', 'thumping', 'synth tones', 'bansuri', 'ducky quack sounds', 'love song', 'theremin solo', 'rhythm electric guitar strumming', 'ceremonial', 'playful atmosphere', 'harmonizing choir', 'repetitive short male vocal chant', 'crackling', 'vocal mimicry', 'slow song', 'christian orthodox church', 'minimalist music', 'hindi pop music', 'modulated noises', 'instruments', 'brass quartet', 'bellows', 'great adventure', 'deep sound', 'wind chimes', 'gasping vocals sounds', 'funk/disco', 'spirited singing', 'regional music', 'solos', 'splashing water', 'rhythmic electric guitar', 'generic female voice tag', 'male and female voice singing', 'dirty mix', 'christmas tree', 'ping pong shot tones', 'brush drumming rhythm', 'energetic drumming', 'horn and string quartet', 'backing track', 'reggae song', 'theremin solo melody', 'mellow instrumental', 'hammered dulcimer', 'down sweep synth', 'youtube music class', 'steel-drums', 'captivating', 'tabla percussion', 'indian wedding band', 'reverberant low male vocal', 'down strokes', 'post nuclear doom', 'fiddle solo', 'trumped sample', 'brass-section', 'amateur tapping tones', 'orchestra song', 'sitar', 'latin/spanisch', 'intense bass lines', 'camera clicking tones', 'tv show soundtrack', 'people cheering sounds', 'electronic drone sound', 'single reed instrument', 'xylophone tones', 'cymbals', 'bells ring', 'crowd singing', 'sound of someone talking in the background', 'water sounds', 'classical instrumental song', 'stringed instrument countermelody', 'sustained synth strings chords', 'sheep sound effects', 'seductive saxophone', 'distorted wide synths', 'bouncy hi hats', 'tender', 'dance clubs', 'ocean waves', 'militaristic', 'mixed audio tracks', 'vocal dialogue', 'sound effect', 'loud music', 'jazz-fusion genre', 'kindness', 'positive atmosphere', 'thumping drum beat', 'angry', 'mimicking drum machine', 'repetitive low plucked string melody', 'various sound effects', 'religious traditional indian music', 'speeding up wide synth lead', 'hollering sample', 'sliding', 'south asian', 'hymnal singing', 'traditional', 'hip hop music', 'crowd harmonized singing', 'grave', 'arabic string band', 'synth strings swell', 'calming female vocalist', 'space disco', 'male singers', 'ambient scary sounds', 'reversed synth keys melody', 'weird repetitive electric guitar melody', 'mid range singing', 'synth horn melody', 'synth lead', 'potent punchy drumming', 'tension creating', 'singer talking', 'squishy sounds', 'soulfulromantic', 'female choir melody', 'flute solo melody', 'tambourine beats', 'country guitar band', 'wait', 'plucking', '2000s hip hop', 'cowbell one shots', 'muddled', 'slow rock', 'percussion practice', 'aggressive electric guitar melody', 'lilting vocals', 'wide electric guitars melodies', 'age of discovery', 'wooden snare hits', 'sounds of crickets', 'show soundtrack', 'repeated melody', 'lawmen', 'cabaret', 'high-pitch singing', 'simple house drum beat', 'percussions playing rhythmically', 'friendly', 'upbeat r&b', 'slow paced melody picking', 'assertive', 'blue grass', 'lead strings melody', 'phone ringing', 'children’s popular songs', 'train journey', 'synchronized brass melody', 'interactive game music', 'dance studio', 'hand cymbal', 'national fervour', 'light', 'high pitched synth bells melody', 'echoing crash cymbal', 'smooth sub bass', 'low bass sound', 'repeated motif', 'filtered male breathing sound effects', 'sound of battle call', 'drummer solo', 'ominous tones', 'ad-lib', 'musical duo', 'congo', 'synth bells sound effect', 'rhythmic percussion', 'multitrack', 'surf rock', 'resonance', 'rich culture', 'medium  tempo', 'people talking in the background', 'amateur music mix', 'string plucking', 'progressive house', 'vintage guitar tone', 'percussive dance', 'duck sounds', 'north indian wedding music', 'solo percussion', 'dark ambience background', 'forever together', 'temple bells', 'steel pans melody', 'infectious drum', 'snare hits', 'epic feel', 'classical/experimental', 'percussive tones', 'acoustic rhythm guitar chords', 'flute samples', 'camera roll sound', 'wide synth pad', 'go-go music', 'harmonizing crowd vocals', 'funk jazz music', 'exhale sound effect', 'synthesized pan flute', 'harpsichord melody', 'one note', 'nasal echoing male vocal', 'thank you', 'harpsichord harmony', 'passionate sitar guitar', 'cinematic/meditative', 'orchestral/jingle', 'singer-songwriter', 'movie song', 'brass instruments playing percussively', 'percussive chime', 'crowd clapping', 'flute lesson', 'immersive', 'crash', 'two different songs', 'electropop', 'thumping bas slime', 'complicated', 'female backing vocal', 'congregation singing', 'harmonizing choir vocals', 'subtle strings melody', 'mixed background vocals', 'tambourine used as hand drum', 'metallic scraping sound effect', 'variables tempos', 'effected trumpet', 'funky keyboard harmony', 'keeping time', 'vibrating lips', 'shimmering crash cymbals', 'electric hum', 'wooden impact sound effect', 'hard metal', 'suspenseful', 'in game sound', 'rapid bright synth melody', 'erhu chinese instrument', 'playful', 'the blues', 'bass sounds', 'animated trombone', 'energetic', 'casual rock', 'simple blues drum beat', 'synth chords with delay', 'slide', 'palm muted arpeggios', 'engaging crowds', 'repeated chorus refrain', 'cartoons', 'mellow piano introduction', 'beast', 'arpeggios', 'chimes', 'electronic beat', 'emotional', 'east asian music', 'harmonizing vocals', 'latin band', 'passionate fruity male vocal', 'syncopated bass', 'groovy acoustic guitar melody', 'jazz song', 'retro techno music', 'meditation song', 'bird sounds', 'guitar/harp hybrid', 'falling in love', 'ghostly', 'medium uptempo', 'music keyboard demo', 'turkish', 'om chanting', 'keyboard trance melody', 'emphatic bass lines', 'energetic wide synth bass', 'funk bass', 'sleep music', 'keyboard beep tones', 'recorder melody', 'harmonizing background male vocals', 'southside/hiphop', 'echoing synth keys melody', 'exciting background male vocals', 'wobbly', 'reverbed kalimba', 'rap rock', 'harmonized children vocals', 'peaceful sounding', 'hindi pop song', 'four stringed guitar', 'choppy', 'rowland', 'mellow harmonizing reverberant female vocals', 'drum rolls', 'latin percussion rhythm', 'documentary music', 'tritone', 'wide echoing female vocal', 'snow', 'rapid rhythmic motifs', 'percussion technique', 'fruitful', 'concert bass drum', 'cocophony', 'money problems', 'the hood', 'atmospheric angelic synth', 'tempo changes', 'outer space feel', 'acoustic guitar tuning', 'jam', 'opera singer', 'filtered wide female vocal', 'goth rap', 'positive vibe', 'snipping sound', 'drum instruction', 'raspy male rock vocal', 'high-pitched singing', 'basketball', 'choral vocals', 'tropical beach party', 'tapping', 'charismatic male vocalists', 'mesmerising', 'e-guitar solo', 'rain', 'low pitched humming', 'deep synth hit', 'small bowed string instrument', 'deeper male voice singing', 'indie hip-hop', 'energetic energy', 'christian praise and worship', 'picked mandolin solo melody', 'elderly middle eastern man singing', 'tonal buzzes', 'gruesome', 'drowsy singing', 'percussion/drums', 'male vocal onomatopoeia', 'soul song', 'audio distorting', 'soft music background track', 'rhythmic rapid bass playing', 'movie theme music', 'low audio quality', 'high pitched piano chord progression', 'indie pop', 'male voice singing', 'k-pop hips', 'whooshing sounds', 'electronic harmony', 'merry', 'wide polyphonic theremin lead melody', 'devilish music', 'hardcore house', 'retro songs', 'electric guitar arpeggiated melody', 'musical rorschach', 'animals', 'soft bass line', 'latin percussions', '8 bit synth lead melody', 'soft scratching sound effect', 'conch shell sound', 'greek song', 'clothes movement sound effect', 'arpeggiated acoustic guitars melodies', 'toubeleki', 'ambient nature sounds', 'uptempo country beat', 'special someone', 'traffic sound effect', 'pop dance music', 'afghan song', 'olden days', 'mexican song', 'no music', 'guitar instrumental', 'wide percussion rolls', 'vigorous at the onset', 'pop music', 'zipper sound effect', 'bright high pitched synth', 'captivating keyboard harmony', 'violin doubling singer', 'experimental music', 'baby crying', 'background song', 'black gospel music influences', \"rock n' roll\", 'video game', 'short reversed crash riser', 'gentle ballad', 'rattling percussions', 'bass guitar solo', 'happy fun', 'high gliding synth melody', 'electric bass guitar playing', 'narrow', 'radio tuning buzz tones', 'sincere', 'czech', 'taiko drums', 'bagpipe music', 'mellow bells chord progression', 'sustained stings melody', 'strong rock drumming', 'sound of battlecry', 'loud crowd', 'bass guitar player', 'sniffing sounds', 'hard panned vocals', 'low pitched notes', 'silent', 'muffled syncopated snare', 'angelic voice', 'bongo', 'intense combat sounds', 'loud bagpipe melody', 'congos', 'slick drumming tones', 'dj face off', 'shofar', 'complex upbeat bassline', \"latin percussion's\", 'phaser', 'film reel', 'warbling sound effect', 'regal marching', 'various percussive hits', 'steel string guitar', 'drawer closing', 'transcendental', 'arabic percussions', 'polish fiddle', 'pop/backgroundmusic', 'drumming tutorial', 'rainfall', 'oceans waves', 'healing', 'wide reverberant riser', 'progrock', 'tropical dance party', 'alto recorder', 'passionate music', 'middle eastern song', 'ame sounds', 'echoing hi hats', 'metallophones', 'audience cheering', 'wide intimate female vocals', 'pop rock song', 'muffled trumpet melody', 'shoe squeaking sound', 'fast finger snapping', 'making love', 'vibraphone symphony', 'spanish song', 'no percussion', 'tight drum kit', 'teen age spirit', 'dark moody piano melody', 'all night party', 'digital drum machine', 'high-pitch', 'light music', 'the', 'guitar-like instrument', 'freddie mercury', 'soul music', 'arabic folk song', 'passionate electric guitar lick', 'party mix', 'hyperactive', 'female singer', 'upright bass', 'piano music', 'mediterranean folk', 'snappy', 'vigorous keyboard', 'ambient hall noise', 'pedal steel', 'mellow organ keys chords', 'trumpet harmony', 'magical energy', 'gliding bass', 'middle eastern pop dance', 'electric guitar playing', 'flute melody', 'organ melody', 'retro dance hits', 'choir', 'wooden bongo cajon', 'tremolo tones', 'improvisations', 'syncopated claps', 'tubas playing', 'mode music video', 'bebop', 'ambience vocal choir', 'soft synth pad chords', 'wide echoing female exhale', 'cymbals crashing', 'no percussion instruments', 'dancing sounds', 'orchestra playing', 'sound effects', 'double time percussion rhythm', 'deteriorated audio', 'harmonic pedal', 'bluegrass', 'game sound prediction', 'bombing', 'marching band-like', 'popping', 'creepy music box melody', 'home studio', 'snare on backbeat', 'woodwind section', 'promotion', 'heart felt', 'soft drum kit', 'loving', 'incessant eerie background music', 'dancing', 'speeding up', 'sound of shushing', 'r&b beat', 'sounds of whale', 'wind sections', 'vocal vibrations', 'church bells melody', 'specials sound effects', 'bach', 'bop tune', 'groovy buzzy synth bass', 'latin dance song', 'guitar overtones', 'post-hardcore', 'conical bore', 'bass flute instrument', 'up tempo', 'enteric', 'male vocal ad libs', 'spirited', 'western', 'perky', 'slap snare', 'water sound effects', 'funky electri guitar feedback', 'electronic elements', 'male voice singing/shouting', 'dark/postrock/electronic', 'north indian classical music', 'indian mythology', 'filtered clapping', 'bad quality', 'nursery rhymes', 'percussive bongos', 'creeping', 'string instruments', 'bagpipe harmony', 'classic melody', 'wide arpeggiated electric guitar melody', 'vigorous vocals', 'addictive synth brass melody', 'plastic percussion hits', 'wooden bouncy percussion', 'free melody', 'rim shots', 'bell-like sound', 'courtship song', 'rhythmic groovy drumline', 'guitar scratching', 'monotone harmony', 'synthesiser lesson', 'berimbau instrument', 'robotic sound effects', 'mellow bass', 'classical style', 'snare rolls', 'pop star sings live', 'dramatic music playing', 'harmonies', 'south indian language', 'incoherent music', 'rock&roll', 'low flute riff', 'soul/jazz', 'australian instrument', 'car rev sound', 'active bass drum', 'distortion', 'bas]d audio quality', 'reggae groove', 'male singer singing', 'bluesy guitar chords', 'steady marching rhythm', 'filtered echoing flat male vocal', 'compelling', 'violin riff', 'fantasy mood', 'neo-soul', 'stuttering synth chords', 'rom', 'dense', 'doubled flat male vocals', 'chiptune remix', 'gospel style', 'funky acoustic bass guitar solo melody', 'mandolin solo melody', 'sci-fi', 'enterprising', 'rustling sound', 'saxophones', 'reverse sound', 'classical sonata', 'video soundtrack’ toms sounds', 'contrasting aggressive sounds', 'evolving', 'symphonic black metal', 'triangle percussions', 'munching sound effects', 'intense siren sound effect', 'irish', 'low echoing vocal', 'quiet recording', 'latin influence music', 'two separate tracks', 'folk pop', 'rock bass', 'bowling sound fx', 'bass rumbling', 'wide', 'animated vocal backup', 'girl  singing', 'sustained strings melody', 'gentle female vocal', 'mellow kid vocal', 'horror', 'soft stomping noise', 'strong drum rhythm', 'county fair', 'female sounds', 'door opening sound effect', 'no accompaniment', 'jazz fusion', 'retro classic rock', 'screech', 'bright reverberated synth', 'resonating sound', 'acoustic guitar arpeggio playing', 'echo', 'loud white noise', 'bhangra music', 'baglama', 'vocal duel', 'non tuned percussion', 'dj mixer', 'bass guitar demo', 'hip-hop genre', 'trashy percussion', 'synthesiser articulation', 'steady rhythm', 'telephone', 'calming music', 'religious fervour', 'metal', 'middle eastern flute', 'wide acoustic rhythm guitar melody', 'romantic pop', 'cool saxophone solo melody', 'muffled acoustic rhythm guitar', 'game selection music', 'sipping sound effect', 'voices in harmony', 'kora song', 'amadinda', 'groovy music', 'reverberant make vocal', 'flat echoing male vocal', 'folk singers', 'violin lead', 'gadam rhythm', 'skilful', 'amateur music video', 'tropical feeling', 'animated acoustic guitar rhythm', 'attitude', 'thumping beat', 'good mood', 'airplane sound', 'affirmation', 'soul/blues/jazz', 'incessant', 'reverberating synth', 'ukele melody', 'shimmering wide cymbals', 'organic', 'aggressive male vocal', 'excishakers', 'militant', 'funk jazz hits', 'european instruments', 'two different tracks', 'high tempo', 'channeling state', 'pop dance hits', 'head banging', 'robotic harmony tones', 'no lyrical melody', 'four chord jam', 'drums tutorial', 'snappy snare', 'crowd noise', 'italian composer', 'percussive sound', 'offbeat electric guitar chords', 'roar', 'bell playing', 'country-folk', 'ice-cream cart', 'glory and honour', 'seagulls', 'wide acoustic rhythm guitar', 'synth down sweep', 'young dancers', 'drumline', 'wide shimmering shakers', 'drum lesson', 'bass guitar sound', 'forgotten traditional', 'customary', 'female child singer', 'hindi', 'educational recording', 'percussive wooden elements', 'distorted flat male vocal', 'hissing noises', 'dissonant beats', 'bluesy harmonica playing', 'children vocal group singing', 'engines revving', 'ska music', 'aggressive wide electric guitar chords', 'lively vigorous', 'pitched vocal sample', 'muffled instrumentation', 'live sessions', 'duet', 'percussive electronic music', 'hindipop/meditation', 'christian pop', 'minimalistic', 'hiphop/dj/scratching', 'metallic clicking sound', 'christmas time', 'solo banjo', 'hardcore', 'guitar string tones', 'baritone saxophone', 'diapason', 'digital pads', 'temple', 'celli', 'tom sounds', 'traditional south asian music', 'online tutorials', 'violin playing', 'electronic afrobeat', 'simple groove', 'ancient customs', 'basset horn', 'psychedelic song', 'groove to the music', 'brass sounds', 'muffled percussion', 'grand parade', 'digital bass string', 'panned hard right', 'flamenco guitar', 'bassoons', 'cheerful drumming', 'a new dangerous world', 'high pitched sped up audio', 'clasical music', 'digital piano', 'home music  video', 'groaning sound', 'wind chime', 'veena', 'day at the office', 'charming female vocalist', 'vibration magic', 'delay effect', 'folkmusic', 'shamanic drum', 'energetic beats', 'soft ride cymbals', 'studio recording', 'gentle music', 'demo', 'tanpura accompaniment', 'sped up song', 'hard-hitting', 'chalk writing on blackboard', 'female voice sample', 'male vocalisation', 'electronic sound arrangements', 'show tune', 'blues song', 'intriguing', 'active bass guitar', 'dense sounds', 'guns shooting rhythmically', 'steady percussions', 'wide dark mellow synth pad', 'ukulele strumming', 'country dance music', 'drum sticks countdown', 'unbalanced stereo', 'melancholic female vocal', 'kit', 'national spirit', 'punchy percussion hits', 'brass melody/keyboard', 'ambient song', 'reggae drum rhythm', 'tv', 'sea waves sound', 'gypsy music', 'metallic percussions', 'new-age', 'background crowd', 'naturesounds/kalimba', 'manjira', 'people chattering', 'phono output', 'sustained strings swell', 'snowfall', 'song retarding', 'church organ chords progression', 'trumpet/trombone', 'drums/percussion', 'advanced chord structure', 'retro tv show tunes', 'reggae/dub', 'upbeat vivacious', 'caribbean music style', 'clean tone', 'echoing autotune male vocal', 'ukelele tutorial', 'auto tuned female vocals', 'enthusiastic acoustic guitar accompaniment', 'dance party', 'light ethereal female vocals', 'ska', 'b3', 'ambient classical', 'bugle like sounding instrument', 'adorable', 'plucked string instrument', 'crowd cheering/whistling', 'blues/pop', 'harpsichordist', 'sounds in the forest', 'bright male vocals', 'dj scratching', 'indian', 'r&b genre', 'hawaiian guitar', 'calm background music', 'spirited guitar', 'drum banging loud', 'spherical', 'intricate acoustic guitar playing', 'sleeping music', 'minimal instruments', 'good vibes', 'lively cheerful', 'effected female vocal sample', 'reversed snare hits', 'modulated acid synth lead melody', 'impressive', 'rustling', 'orchestra percussions', 'grating female vocals', 'high pitched organ', 'home music video fast tempo', 'electric bass guitar bassline', 'fuzzy squeaky effect', 'steel drum', 'buses', 'feeling good', 'organ keys melody', 'inauthentic', 'greta composers', 'syncopated kick pattern', 'smooth jazz music', 'mixed harmonized vocals', 'breathy female vocals', 'northern soul', 'fuzzy warm synths', 'spiritual experience', 'mixed harmonizing choir', 'modern', 'sweet tone', 'electric guitar stabs', 'great technique', 'sympathetic', 'violas', 'insistetnyouthful', 'lively piano harmony', 'short flute licks', 'heart strings', 'quiet audience', 'recurring rhythm', 'positive', 'disco club', 'falsetto voice', 'rubab instrument', 'young male speaking', 'j-pop', 'stringed  instrument', 'haze machine sounds', 'loud drumming', 'blues turnaround', 'hollering', 'church bell sound effect', 'simple strings melody', 'flamenco influence', 'aggressive drum cymbals', 'prayers', 'rolling tongues', 'stationary', 'drum stick play', 'female voice like sound', 'keyboard  harmony', 'modern electric bass', 'mellow snare', 'dog barking sound', 'explicit lyrics', 'college music festival', 'spooky feel', 'folk dancing', 'tone fades', 'animated electric guitar accompaniment', 'guiro percussions', 'sad atmosphere', 'electric bass', 'tabla hit', 'high pitched female whistle tones', 'trombone solo', 'stylish singing voice', 'melodic female vocal', 'english folk style', 'announcements', 'spiritual music', 'echoing vocal melody', 'distorted guitar lead', 'cowbell sound', 'muted guitar', 'groovy dance beat', 'wide mixed harmonized vocals', 'schoenhut piano', 'quiet buzzy sound', 'pad/string sounds', 'aggressive distorted car engine revving sound effects', \"80's style synthesis\", 'church music/liturgical', 'elves', 'brass/horn section', 'virtuosos in play', 'guitar pedal demonstration', 'background harmonizing female vocals', 'veena solo', 'harsh electric guitar solo melody', 'acoustic guitar harmony', 'artist', 'wide male ad libs', 'fats tempo', 'passioante', 'animated piano', 'high pitched resonating sound', 'jolly', 'pulsating synth pad chords', 'concert', 'christian church', 'reggaeton', 'horror flick', 'per gig checklist', 'enka', 'tinny cowbell', 'violin harmony', 'female backing voices', 'groovy soft drums', 'upstroke rhythm guitar', 'oriental', 'passionate female vocalist', 'solo trumpet', 'synth module demo', 'car engine sound effect', 'two male vocalists', 'listening and learning', 'background harmonizing mixed choir', 'dog bark', 'hit song', 'burgeoning melody', 'congressional music', 'two seperate grooves', 'synth review', 'singing melodically', 'rock&rollmusic', 'modern country love songs', 'crestfallen', 'acoustic drums', 'festive singing', 'ballad/pop', 'string motif', 'synth noises', 'harmonic', 'grungy electric guitar chord strumming', 'male screaming /singing voice', 'shakers', 'italian foot ball team', 'wide aggressive electric guitars', 'echoing harmonizing vocals', 'cymbals clashing', 'mellow arpeggiated piano melody', 'drums playing slowly', 'mechanical sounds', 'song stops playing', 'funky jazz music', 'feminist', 'glass shattering', 'funky', 'arabic pop song', 'dance all night', 'teen age fun', 'funk/jazz', 'joyful singing', 'trance hits', 'repetitive violin melody', 'cymbals crashing loud', 'banjo lessons', 'male voclaist', 'bouncy piano chord progression', 'vocal sound effects', 'groovy synth bass', 'faint vocals', 'pop-ballad/comedy', 'shimmering wide bells melody', 'disco hits', 'percussive instrumental', 'shifting sound', 'classical-rock', 'echoing uptempo electric guitar melody', 'toy', 'longing', 'movie soundtracks', 'a great adventure', 'dance remix', 'glockenspiel', 'voice over radio', 'ending', 'perky vocals', 'simple bass pattern', 'disturbing', 'carnatic music', 'nasal male vocals', 'chill instrumental', 'chill beats', \"acoustic and digital percussion's\", 'careless nights', 'plucked celli/upright bass', 'bowl hit impact', 'lively spirited', 'warm brass', 'repetitive rhythm', 'greatest love sings', 'hysteria', 'rhythmic oud', 'workout classics', 'gun reload sound effect', 'me drum tempo', 'reverberant flute melody', 'atmospheric synth pad', 'how to play didgeridoo', 'double stops', 'emphatic', 'reverberant soft male vocal', 'choral section', 'feel good', 'mameluke in love', 'common', 'visual stimulation', 'aggressive guitars', 'arpeggiate synth melody', 'soulful', 'cycle bells', 'drum build up', 'earnest', 'wolf pack', 'passionate woodwind melody', 'rock/rap', 'style guitar playing', 'quiet', 'street vernacular', 'indian devotion music', 'preaching', 'tv advertisement sound track', 'stringed indian instruments', 'clean arpeggiated electric guitar melody', 'vintage rock vibes', 'loud clicking noises', 'tv season', 'cowbells', 'inspiring piano melody', 'no voices', 'shimmering muffled shakers', 'wedding love song', 'tinny off beat percussion', 'house party mix', 'acoustic guitar solo', 'folklore', 'ska orchestra', 'latin feel', 'dholak beat', 'digital lead sound', 'hurt', 'simlpe hi hats', 'sound of loud chewing', 'dissonant string melody', 'hindu festivals', 'soothing meditation music', 'moderate tempo', 'live concert', 'fuzzy synth', 'xylophone like instrument', 'harp song', 'wide funky electric guitar chords', 'soft toms', 'tambourine ke russian', 'music demonstration', 'overdriven electric guitar', 'booming and splashing sounds', 'amplified harmonica', 'music lesson  ideo', 'ethnic music', 'rapid riff', 'group male vocals', 'multiple male vocalists', 'haiti dance', 'tenor sax solo melody', 'switzerland music', 'uptempo acoustic rhythm guitar chord progression', 'subtle female vocal', 'varying range', 'soothing sounds', 'little pieces of metal', 'country folk musical folk singer', 'mouth organ', 'playful music', 'pulsating synth lead melody', 'low horn', 'uptempo chiptune song', 'super hits', 'miracles', 'wide low sustained strings', 'audio stuttering', 'scissors sound effects', 'sterile', 'string sample', 'sitar music', 'inspiring', 'cinematic music', 'pop melody', 'hi-hat cymbal', 'deep breaths', 'ambient room noises', 'medium fast tempo', 'live music', 'staccato', 'electronic  rhythm', 'intricate drum beat', 'electrostatic sounds', 'epic melody', 'dynamic low percussion roll', 'vulcan harp/theremin', 'piercing sound', \"1950's\", '90s/2000s', 'cartoon song', 'drums break', 'off key singing', 'despondent', 'side drum', 'electric rhythm guitar chords', 'bad audio quality', 'man grunting sound effects', 'person talking', 'chorus effect on guitar', 'plastic scraping sound effect', 'emphatic solos', 'double tonguing', 'mangled noises', 'abstract music', 'wide background crowd screaming', 'foot pedal', 'effects pedal', 'boys having fun', 'wide filter modulated synth pad melody', 'high pitched baby imitating voice singing', 'special effects', 'high pitched female grunt', 'accompanying', 'tambourine man', 'unsettling', 'sustained brass section', 'dance master’s fiddle', 'showman', 'wind of provence', 'funk', 'overdriven guitar', 'sustained note', 'charitable organisation advertisement', 'blues-rock', 'electronic tech', 'voices shouting', 'fusion song', 'drums', 'vocal effect', 'higher register yodeling', 'crying', 'steel pan', 'live dance class', 'enthusiastic electronic guitar melody', 'sustained passionate violin melody', 'siren at the end', 'roots reggae', 'wooden percussive elements', 'male vocoder', 'vocal chants', 'background nature ambient sound', 'distorted audio quality', 'audio', 'sequence', 'discovery tones', 'punjabi songs', 'child tv stars', 'gospel band', 'mandira taal percussion', 'irish-folk', 'spring sound', 'high gain recording', 'electricity', 'short growly synth bass', 'fingerstyle/tapping', 'wind sound effect', 'wobbly notes', 'marching rhythm', 'horror soundtrack', 'oud melody', 'groovy jazzy', 'indie music', 'open hats', 'vocable', '2000s pop', 'celtic new age', 'young female voice', 'intricate piano motif', 'eerie sound', 'classic dance hits', 'sharing', 'alto backup vocals', 'tambourine dance', 'lion roaring', 'note bending', 'travel show sound track', 'chimes bells', 'tropical steel drum melody', 'slick drumming rhythm', 'brass instruments harmony', 'movie themes', 'hissing vocals', 'out of key vocals', 'futuristic synth arpeggio playing', 'amateur singers', 'medieval sounding', 'thunderous', 'slow tempo po', 'harpsichord accompaniment', 'melodipiano accompaniment', 'passionate spirited', 'love music', 'tinny violin melody', 'traditional aboriginal music', 'first violin solo', 'glass-bowl singing', 'popular', 'wheels on concrete sound', 'rubbing tones', 'wide electric rhythm guitar', 'haunting sizzling bells', 'synth drone/pad', 'fluid', 'lively male singer', 'romantic era', 'synthpop/rock', 'printer sounds', 'barbershop quartet', 'groovy piano melody', 'tom drum', 'asian soap opera', 'afro cubaine', 'fast scales', 'guitar tuning check', 'wide plucked echoing strings', 'g]adrenaline rush', 'fast fingers', 'traditional arab music', 'sound of whirring engine', 'bass drum hits', 'studio chamber echo', 'double bass', 'higher pitch', 'soul music sample', 'classical guitar', 'khaliji music', 'animated trumpets', 'haunting boys vocal', 'dark night', 'flute sounds', 'aggressive male breathing', 'emotional music', 'simple guitar playing', 'high-pitched choir', 'interesting music', 'mystic', 'drum set', 'overuse of effect', 'goose sounds', 'alternative/indie', 'latinmusic', 'digital drum-sounds', 'jamaican accent', 'christian', 'quick slap bass inquest', 'calming', 'atonal', 'distorted amplified guitar', 'sustained synth strings', 'defiant voice', 'guitar test demo', 'flanger effect', 'afrodance/funk', 'hi hat on off beats', 'aggressive spanish guitar chord progression', 'organ', 'game show', 'male and female singing in octaves', 'low string melody', 'synth module', 'spiritual', 'slide technique', 'sharp piano lead', 'heavy percussion', 'comfort', 'bass drum', 'tremolo bar', 'playback beat', 'tanpura rhythm', 'repetitive backing melody', 'hardcore hip-hop', 'percussive playing', 'religious music', 'lute', 'floghera', 'simple plucked harp', 'classic rock', 'male mocking vocal', 'indian style violin playing', \"80's pop\", 'hindi bhajan', 'background ad-libs', 'march', 'acoustic', 'transverse flute', 'reverberant percussive elements', 'chords', 'powerful singing', 'harmonizing wide female vocals', 'pitch bend effect', 'brush work', 'rhythmi chanting', 'ambient room sounds', 'lively catchy', 'strong melodic lines', 'commercial', 'trombone', 'unrelated  music', 'female voice singing with reverb', 'low toms roll', 'complex notes', 'footstep sounds', 'synth-based', 'latin/african', 'percussions', 'operatic organ playing', 'blood spillage sound effects', 'genial', 'euphoric', 'male vocalists', 'noble', 'funky bass lines', 'folk music', 'retro pop', 'subtle strings', 'background vocals', 'vocal sound', 'sweep picking', 'ambient naturesounds', 'child vocals', 'ascending bassline', 'mellow arpeggiated melody', 'triumphant music', 'southern hip hop', 'synth articulation', 'amateur singing', 'male preacher talking', 'religious', 'traditional japanese', 'shouting sounds', 'amplifier tone', 'funk bass line', 'double stop', 'drum sticks', 'devotional song', 'groovy didgeridoo', 'metal clanging tones', 'accordion music', 'calming voices', 'upright bass guitar', 'heart-touching', 'parole', 'flourishes', 'mid range singer', 'sonorous harmony', 'dramatic music', 'bass notes', 'bowed string instrument', 'explicit  trance keyboard tones', 'syncopated synth chords', 'soft introduction', 'electronically arranged music', 'rock drumming', 'cebuano language', 'contemporary modern', 'superimposed speech', 'victorious', 'savage', 'ukulele song', 'groovy toms', 'progressive rock song', 'jazz classics', 'contemporary classical', 'traditional korean music', 'music game', 'box opening', 'low-pitch bass electronic sound', 'war drums', 'sadness', 'eurobeat', 'mellow male vocals', 'bagpipes', 'sound of blast', 'traditional latin instruments', 'hinduism', 'rattling noise', 'steel guitar repetitive guitar', 'death metal music', 'low microphone pop sound', 'subtle bass', 'bad audio recording', 'tone manipulation', 'filter effect', 'pulsating synth keys', 'cheeky', 'long crash cymbal', 'redemption', 'dark', 'lullaby', 'slightly', 's favourite', 'meditationmusic', 'blues guitar lessons', 'grunting noises', 'muffled strings section', 'hazy', 'addictive brass melody', 'echoing wide pig oink sound effects', 'military march', 'heartbeat kick', 'traditional african arabic music', 'mideum to uptempo', 'piano playing accompaniment', 'soft bass', 'harmonium playing accompaniment', 'technopop', 'electric guitar power chords', 'digital distortion', 'male voices yodeling', 'bass flute', 'painful cry', 'sounds of scribbling', 'haunting male vocal', 'king', 'fast bass playing', 'harmonica accompaniment', 'arabic dance music sultry vocals', 'electronic sounds', 'education songs', 'rock/country', 'agitated', 'quick melody', 'gongs', 'life lessons', 'lonely sad', 'swiss rap', 'youtube music video', 'metallic hit', 'wide background female doubling vocals', 'pure and innocent', 'versatile female vocal', 'emotional piano chord progression', 'professional production', 'strummed acoustic guitar', 'contemporary gospel song', 'soulful pop', 'lilting music', 'drawers opening sound effects', 'ukulele accompaniment', 'staccato brass melody', 'deep tone singing bowl resonance', 'sarod harmony', 'guiero rhythm', 'experimental pop', 'pleading', 'bluesrock', 'mellow female vocals', 'cello melody', 'background sounds', 'measured', 'greek folk music', 'mellow noise sound effect', 'ambient house', 'loud ambient room noise', 'classical piano piece', 'male narration', 'wooden rubbing sound effect', 'accents', 'arabic inspired', 'story tellers', 'hand tapping', 'accordion accompaniment', 'bagpipes melodies', 'tinny high pitched snaps', 'hindustani instrumental', 'collage', 'disco style', 'busy line sound effect', 'synthesised  chime like sound', 'accordion-like wind instrument', 'spanish music', 'sonic treat', 'good friday', 'cellos playing tense lower harmony', 'acoustic steel drum', 'trumpet playing', 'pre recorded background track', 'flat mel vocal', 'sustained organ keys chords', 'electronica/dance', 'brakes slamming', 'melbourne shuffle', 'easygoing', 'harmonica playing', 'wide electric guitars riffs', 'band arrangement', 'instrumental solo', 'maraca', 'country string instruments', 'futuristic synth pop', 'wide high pitched synth', 'avant-garde', 'synthesizer evolving pad sound', 'latin folk music', 'teen male vocal', 'comedy show', 'soft electric guitar arpeggiated melody', 'contemporary folk', 'didgeridoo harmony', 'traditional balinese music', 'saxophone playing', 'afrobeats', 'harmonizing trombone melodies', 'weird repetitive funny male vocal', 'theremin swell', 'swing era', 'off beat guitar strums', 'pulsating filter mod synth sound effect', 'atmosphere', '2000s r&b', 'qanun', 'female voice sample singing', 'sitar guitar melody', 'algerian folk music', 'scottish folk music', 'professionally recorded', 'percusssion', 'testosterone driven', 'scratching record', 'aggressive acoustic guitar strumming', 'gig', 'ambient synth', 'filtered synth pad melody', 'tom drums', 'chinese', 'female bagpiper', 'muffled snare', 'subtle jazz drumming', 'syncopated sloppy cowbell', 'drums demonstration', 'sense of duty', 'jazz/pop', 'sustained bass line', 'detuned synth lead melody', 'energetic tempo', 'female backing', 'pentatonic scale', 'aggressive wooden percussions', 'background harmonizing vocals', 'djembe', 'dubstep', 'ritardando', 'latin dance rhythm', 'dance arena', 'high pitched vocal sample', 'uncomplicated harmony', 'acustic guitar', 'electronic bass', 'soprano voices', 'retro blues', 'engine sounds', 'loud ambient sounds', 'dilruba instrument', 'fire alarm', 'wide clapping', 'sweeping sound effects', 'electronic beats', 'male voices singing/shouting', 'youtube music lessons', 'deep sustained bass notes', 'dance-off', 'mid-higher register', 'choir song', 'traditional song', 'unison singing', 'kindergarten videos', 'buzzing noise', 'loud feedback', 'romanian folk music', 'busy resonant synth bass', 'arpeggiate synth keys melody', 'resentment', 'poor quality video', 'hand saw', 'restless', 'sonatas', 'burgeoning tempo', 'instructional', 'raspy male vocalist', 'excessive', 'traditional custom dance', 'dive bomb', 'lagging video', 'low bells melody', 'loud cheering and clapping', 'barnyard', 'pentatonic scale descending run', 'quirky music', 'mellow metallic percussion', 'jazz dance music', 'rave', 'video-game sounds', 'intesnse drumming', 'jazz pianist', 'strong tones', 'party whistle', 'bells playing', 'korean love song', 'humming melody', 'sound of water drops', 'tech gear demos', 'funky electric guitar chords', 'clicking sounds', 'phone grip noises', 'explosion sound effect', 'mixed background choir', 'mome music video', 'cult classic', 'infectious drum grooves', 'life’s meanings', 'instrument samples', 'game song', 'chill-out music', 'travel', 'pluck sounds', 'punchy \"4 on the floor\" kick pattern', 'rhythmic chant', 'wide arpeggiated piano melody', 'soft percussive drums loop', 'subdued vocals', 'energetic orchestra drums', 'haunting female vocal', 'audible sound waves', 'hi-hat', 'echoing synth pad', 'crushed snare', 'dulcet', 'santoor harmony', 'gripping', 'incoherent sounds', 'cheerleaders', 'high pitch voice', 'synthesizer string like instrument', 'tempo increases', 'group singing', 'tribal/traditional feeling', 'repetitive cowbell percussion', 'offbeat organ chords', 'bellsounds', 'steady', 'whizzing tones', 'video game laser gun sounds', 'booming bass', 'growl synth bass', 'chopped-up sounds', 'cinematic strings', 'dance with you all night', 'bell harmony', 'turkish hip hop hits', 'opera classics', 'minimal music', 'bee buzzing', 'short plucked melody', 'twoubadou', 'youtube repair video', 'ubeat', 'different recordings of the same song', 'machine gun sounds', 'impressionable', 'crickets sound effect', 'volume increase', 'breezy fresh', 'ukelele', 'in game audio', 'sheriff', 'energy build-up', 'protest music', 'children’s education program', 'impressionist', 'subtle hi hat', 'crowds sing along', 'mexican vihuela', 'acordion melody', 'soaring melody', 'sound of', 'tv show music', 'accordion player', 'loungejazz', 'people talking in background', 'percussion tones', 'repeated riff', 'dominant', 'theremin whistle', 'rap music', 'dry flat male vocal', 'animal noises', 'guitar instructional clip', 'strummed strings', 'ancient music', 'fiddle', 'vocal jugalbandi', 'theremin melody', 'classic hits', 'quiet snare hits', 'christian rap', 'arpeggio playing', 'review', 'kazoo lead', 'sound of footsteps', 'electromagnetic instrument', 'strong harmony', 'new music', 'punjabi song', 'synth string sound', 'vocal performance', 'tooth brush music', 'bollywood dance music', 'energetic cymbals', 'serene and enchanting melody', 'syncopated percussion', 'electronic  instrumentation', 'afro beats', 'crescendo', 'motivation song', 'female percussionist', 'citar', 'exotic percussive elements', 'distant woodwinds melody', 'jamaican', 'tremulous tone', 'live choir recording', 'drums fade in', 'bluesy', 'popular spanish songs', 'authentic', 'yodeling', 'banjo harmony', 'wide groovy percussive elements', 'jingle bells', 'screaching noise and basssounds', 'schools', 'energetic bass guitar', 'pandeireta', 'fret noises', 'violent aggressive', 'male voice over', \"boys' choir\", 'hip-hop hits', 'infectious engaging', 'konkani love songs', 'jazz music', 'punk/heavy/rock', 'arpeggiator', 'loud vocal production', 'subtle electric guitar', 'akuba', 'vintage sound', 'fractal music', 'accompaniment', 'madly in love', 'virtuoso guitar lead', 'piano trio', 'swiss folk song', 'vibrato style', 'loud shoe tapping', 'calming melody', 'afro house', 'soft vocals', 'nostalgic', 'pig grunting', 'distorted bass guitar', 'male low pitch tones', 'sloppy', 'tutorial', 'bow stringed instruments', 'engine sound', 'suspenseful piano melody', 'rehearsal time', 'movie scene', 'beat repeat', 'amateur tourist video', 'delay guitar effects pedal', 'goofing around', 'rap/reggeaton', 'growly synth bass', 'voracious', 'camera fast shuttering sound effects', 'positive energy', 'female opera singer', 'atmospherical', 'simple pop style drumming', 'semi professional recording', 'amateur recording', 'peaceful relaxing', 'rhythm guitar', 'clicking sound', 'sound of bells church bells', 'arabic dance hits', 'high pitched brass instrument', 'country/pop', 'female vocalist', 'crowd hooting', 'chanting', 'sine wave', 'back street boys', 'vocal sample', 'aorangi vocals', 'recording an clicking noises', 'cheering fans', 'short burst of notes', 'concert performance', 'music box', 'huge reverb pedal effect', 'people whistling and clapping', 'chipmunk', 'brass melody', 'portable instrument', 'drum stick sound', 'strings melody', 'flute playing melodiously', 'country songs', 'edmdance music', 'wide synth melody', 'amplified cello harmony', 'funny videos', 'original song', 'house mix', 'punch', 'uneasy', 'acoustic-electric nylon string guitar', 'rhythm arrangement', 'aggressive electric guitar riffs', 'screeching sound effect', 'black gospel music', 'tense melody', 'various male voices', 'helicopter sound', 'calm atmosphere', 'daf', 'acoustic flamenco guitar melody', 'guitars strumming rhythm', 'regional song', 'amplified viloin', 'two part harmony', 'gentle breeze', 'simple song', 'analog', 'reverberant vocal chant', 'low staccato brass melody', 'autotune singing', 'female vocal backup', 'gear', 'symphonic rock', 'sitar arpeggio playing', 'incessant rhythm', 'volatile', 'squeaky toys sound effect', 'recurring riff', 'ukulele ensemble', 'oriental sound', 'energetic crash cymbal', 'australian wind instrument', 'boudin’s percussions', 'pulsating beats', 'skilled musician', 'pull-off', 'mosquito', 'echoing', 'clock tempo', 'hood old times', 'short toms roll', 'soulful male vocalist', 'gong sounds', 'medium to uptempo', 'house beat', 'heavy cymbal crashes', 'showdown music', 'funky guitar playing', 'turntables', 'organ keys lead melody', 'loud', 'pulsating synth melody', 'contrasting harmonies', 'seat crackles', 'piano accompaniment', 'heavy bass line', 'lo-fi', 'drumming pattern lesson', 'expectation', 'funny tones', 'female quartet', 'drum fill', 'tarab', 'swedish folk music', 'oriental/pop/ballad', 'exquisite technique', 'keyboard sounds', 'shimmering chain sound effects', 'exciting solo', 'warm tone', 'keyboard', 'indie/rock', 'oohs and aahs', 'sustained brass melody', 'horror theme', 'dominating electric guitar', 'sound of clapping', 'rejoicing', 'violence', 'appealing male vocals', 'rapping style vocals', 'twists and turns', 'brush technique', 'didgeridoo tone', 'electronic/techno', 'techno drumming rhythm', 'uptempo hi hats', 'medieval sound', 'loud thumping', 'classic pop songs', 'organ sound', 'gong/bowl', 'reverberant passionate female vocal', 'punchy 808 bass', 'suspenseful synth stab', 'papers rustling', 'bossanova cover', 'female sounding voice singing', 'boomy kick', 'polish folk music', 'tenor bass range', 'celebration music', 'manic', 'finger snap', 'memories', 'synth key melody', 'oud', 'ball bouncing sound', 'soothing sound', 'horn', 'percussive strumming', 'ominous laughing', 'simple electric guitar melody', 'inorganic sounds', 'jazz/ballad', 'marshlands', 'room tone ambience', 'pad chords', 'machine noises', 'soft male singer', 'droning keyboard harmony', 'western classical music', 'ball rom dancing', 'solo still guitar melody', 'sonorous tones', 'wide passionate female vocals', 'shrieking voice', 'kendang', 'distorted electric guitar chords', 'electronic organ', 'motor engine sound', 'jordanian folk music', 'earnest singing', 'wind band', 'whale sounds', 'exaltation', 'passionate accordion melody', 'choir singers', 'emergency', 'liquid synth sound and plucks', 'wooden percussion one shot', 'chorus ensemble', 'tutorial video soundtrack', 'chords played percussively', 'instructional clip', 'retro hip hop hits', 'tambourine rhythm', 'guitar notes playing', 'video game music track', 'no percussion instrumentation', 'motor racing sound', 'car engine', 'lower frequencies', 'punchy energetic drumming', 'tape recording', 'harp solo', 'changing tones', 'woodwind', 'exemplary stick work', 'shimmering ride cymbals', 'turning knobs', 'muffled drum roll', 'warriors fight', 'spooky movie', 'digital sound effects', 'tension', 'latin brass band', 'woodwind melody', 'intimate atmosphere', 'danceable', 'alto clarinet', 'resounding voices', 'lacking high frequencies', 'rising pattern', 'treble notes', 'acapella singers', 'cheerful energy', 'operatic drama', 'bell sound', 'amateur song', 'live studio performance', 'synth lead riser', 'serious', 'venezuelan', 'outer space', 'disjointed', 'animated music', 'mellow bells melody', 'marching group', 'echoing electric guitar licks', 'unearthly', 'energetic digital drum', 'zipper sound', 'arabic percussion', 'shaker song', 'story telling mood', 'background filtered male vocals', 'first love', 'energetic dancing sounds', 'audio cut', 'spanish language', 'clean notes', 'four chords', 'sensory experiences', 'tuneful', 'china cymbal', 'police siredn', 'techno hop', 'kindergarten', 'drum break', 'shrutibox', 'singing parts', 'tenor saxophone', 'enthusiastic electric guitar', 'cimbalom', 'indie folk music', 'resonator', 'couples dancing', 'industrial effects', 'electric guitar melody solo', 'walking bas s line', 'vocal virtuosity', 'legato playing', 'i’m sorry', 'loud drum roll', 'jingle bells in spanish', 'techno jazz line', 'mellow mellody', 'ceremonial drum', 'bass guitar accompaniment', 'bad recording', 'latin pop star', 'guitar tuning', 'action', 'guitar tuner', 'echoing electric guitar melody', 'techno remix', 'sustained strings', 'booming bass line', 'wide mellow synth pad chords', 'southern rap sound', 'sustained pulsating synth lead', 'cool and funky', 'hindu deities', 'kick drum', 'echoing flat male vocal', 'pop/ballad', 'burping sounds', 'wooden percussion hits', 'song walk through', 'english and foreign language', 'tinny shimmering bells melody', 'bouncy cowbell', 'synth rock/pop', 'rebellion', 'high pitch female vocal', 'simple bass lines violin hamony', 'percussive sounds', 'k-pop', 'jazz clarinet', 'beeping tones', 'simple motif', 'simple bassline', 'happy sounding bells melody', 'afro cuban', 'tuning pegs', 'celtic music', 'theremin song', 'latin love song', 'buzzy synth bass', 'passionate reverberant female vocal', 'picado', 'wide muffled sound effects', 'lively vocal backup', 'water stream', 'abstract tones', 'winter wonderland', 'guitar tuning lesson', 'syncopated snare hits', 'fashion show tune', 'guitar video blog', 'punchy music', 'hindustani music', 'wide sustained strings', 'metronome click', 'low voice', 'catchy vocal riff', 'italian music', 'killing time', 'dance mix', 'hippie style song', 'ney instrument', 'latin regional', 'jazz drumming rhythm', 'futuristic low-pitched pad', 'bell impact', 'piano solo', 'anime', 'regional musc', 'sound of static', 'toy helicopter sounds', 'carnatic classical', 'strummed string', 'tremolo picking', 'rapping vocals', 'low keys', 'simple drumming', 'bollywood retro', 'jazz and blues', 'muffled snare rolls', 'speech sounds', 'low pitch sounds', 'shuffle', 'amateur music', 'sad male vocals', 'squeaky toy sound', 'accordion harmony', 'chiptune melody', 'soul', 'keyboard styles', 'jazzy drums', 'live shows', 'tambura', 'amplified ney', 'two voices singing', 'saz', 'raper', 'instrumental player', 'no vocal melody', 'vigorous clarinet solo', 'lively', 'recurring beat', 'whirring sounds', 'telephone beep tone', 'chainsaw noises', 'clean electric guitar strumms', 'melody pie', 'indian festival', 'steady rock drumming', 'hissing sounds', 'lucid guitar lead', 'male voice rapping', 'groaning sounds', 'robotic', 'bright electric guitar lead', 'dance/folk', 'lightening', 'male', 'staccato band hits', 'french horns', 'retro pop songs', '4 on the floor boomy 808 bass', 'guitar played like a banjo', 'proposal song', 'madal', 'hindi/pop', 'wide reverberant flat male vocal', 'shadow guitar bass line', 'deep bass percussion instrument', 'ambient street noise', 'pleasant vocals', 'processed', 'whammy bar dive bomb', 'heavy noise', 'sitarist', 'trap music', 'vocal hocketing', 'punchy electro kick', 'subtle bass line', 'female voice over', 'echoing female exhale sound', 'interactive', 'clean sound', 'hip-hop beat', 'dhol', 'enthusiastic rhythmic drumming', 'left speaker', 'fight the machines', 'digital clicking sounds', 'reversed processed low pitched female vocal', 'elctronic beats', 'bells and chimes', 'timeless spirituality', 'jazz improvisation', 'complex electric guitar playing', 'bachata', 'doubled cool male vocals', 'mandolin instrumental', 'sultry female singer', 'unusual sounds', 'blues bassline', 'high fidelity production', 'techno drumming', 'country song instrumental', 'sustained synth lead', 'jazz steel pan', 'indie rock', 'swift', 'synth keys melody', 'rattle sound', 'movie sounds', 'celebrating', 'chill electric guitar melody', 'passionate piano melody', 'dj practising', 'synth wave disco', 'bright spacey synth sound', 'female laugh', 'virtuoso glass harpist', 'gadget porn', 'music legends', 'soft acoustic rhythm guitar', 'baroque', 'electronics', 'wildlife', 'pop rap', 'warp effect', 'western/county', 'pitched marimba', 'down sweep', 'interview', 'high school rock', 'low-quality audio', 'melodic singing keyboard', 'echoing synth bell melody', 'electric bass guitar', 'beeping noises', 'steel drums tropical melody', '\"4 on the floor\" kick', 'muffled singer', 'cello drone', 'intimate soft male vocal', 'single note melody', 'gypsy guitar music', 'russian pop star', 'low frequencies', 'laser synth riser', 'chorus pedal effect', 'turntablist', 'drum roll', 'reverberant', 'heavy  metal', 'simplicity', 'knob turns', 'psychedelic pop', 'quiet instrumental', 'groovy synth keys melody', 'country/folk/ballad', 'energising', 'heavily synthesised music', 'punchy drum beats', 'latin folk', 'sci-fi movie', 'dainty female vocal', 'upbeat rhythm', 'piper', 'slurring', 'distorted tones', 'boomy 808 bass', 'sitar playing', 'subtle short female vocal', 'happy mood', 'spine tingling', 'inaudible', 'woman muffled speaking', 'abstract', 'opera', 'hindi film music', 'calming atmosphere', 'broadway music', 'background accordion sounding instrument', 'finger tapping', 'americana', 'short strings licks', 'storytelling mood', 'flat filtered male vocal', 'drunken stupor', 'full band melodies', 'childhood memories', 'gamers', 'scene changes', 'scissors paper', 'feet scuffling', 'unsteady playing', 'female synth vocal', 'altai instruments', 'wide huge percussions', 'phone dialing sound effects', 'arcade games', 'rattle like instrument', 'pub', 'groovy organ keys melody', 'buoyant', 'rock and roll genre', 'organ keys chords', 'middle eastern cultural music', 'low-to-medium pitch singing', 'buzzing', 'amplified instrument', 'bright xylophone', 'air notes', 'awe', 'gypsy music influences', 'haunting bells melody', 'didgeridoo music', 'reverberant background music', 'punk-rock genre', 'organ chords', 'gothic', 'keyboards accompaniment', 'aural development', 'footsteps sound effect', 'promises', 'epic stories', 'wide exhale sounds', 'wind instrument', 'guitar fills', 'jazzy song', 'passionate tenor male vocal', 'phone message sound effect', 'loud bells impacts', 'belligerent', 'passionate harmonizing choir vocals', 'repeated theme', 'video game song', 'walking bass line', 'vital', 'lullaby/pop', 'reggae guitar', 'dubstep song', 'haunting music', 'atmospheric synthesiser', 'chineze flute', 'no other voices', 'future pop', 'speaking', 'low wooden percussions', 'skateboarding', 'female singing quarter', 'videogame sounds', 'oriental folk song', 'mumbling vocal', 'string backing', 'blues rock guitar', 'reverb', 'woodwinds', 'steel pan melody', 'underground', 'latin indie song', 'demo audio', 'single note', 'shocking strings playing', 'lively melodic', 'alphabets', 'groovy kick hits', 'aristocracy song', 'piano accordion', 'exotic', 'kurdish folk music', 'melodic', 'robotic voice', 'falsetto male vocals', 'records', 'electric rhythm guitar plays', 'showcasing air power', 'synth backing', 'bongo like percussion', 'wide synth pads', 'drones', 'seductive female pop vocals', 'outdoors', 'stereo microphone technique', 'car horn-like sounds', 'repetitive male vocal melody', 'groovy synth keys chords', 'teen rap', 'upbeat music', 'music box harmony', 'glass cracking tones', 'enthusiastic keyboard harmony', 'live performances', 'pitched up vocal', 'aggressive manic wobble bass', 'brass instruments', 'cheering hooting', 'aggressive electric guitar', 'flat male lead vocal', 'piano notes', 'gifts time', 'kids song', 'shimmering shaker', 'better watch out', 'elvis presley', 'south asian traditional music', 'inaudible lyrics', 'high gain volume', 'amateur home recording', 'meditation', 'police band', 'metallic electric guitar', 'quality of', 'string sounds', 'crowd talking sounds', 'horn siren pitch bend melody', 'mixed voices singing', 'bengali pujo', 'hiphop', 'wide electric guitars chord progressions', 'electric guitar sample', 'funk/rock', 'crowds clapping', 'harpsichord', 'broadway musical vibes', 'performers', 'male singing female voice', 'music therapy', 'nasheed', 'opera song', 'violins trilling', 'grandiose', 'new-wave', 'electric saw', 'blood thirsty', 'hindi music', 'intricate electric guitar licks', 'traditional horn instruments', 'quiet snare roll', 'passonate male vocal', 'carol', 'moog bass', 'cough', 'sustained stings', 'clubmusic', 'buffalo horn', 'electroclash', 'flageolet', 'complex harmonies', 'male chants', 'boomy playback', 'full o f tension', 'yoga music', 'uptempo drums', 'regular rhythm', 'buzzy groovy synth bass', 'yoga', 'glam metal', 'mouth percussions', 'huayno music', 'percussion dual', 'elegant', 'tamil love songs', 'latin percussion instruments', 'soft percussion', 'romantic theme', 'unpleasant droning sound', 'techno trance', 'wide acoustic guitars melody', 'harpsichord solo melody', 'complex motif', 'poor quality microphone', 'blues legends', 'string section accompaniment', 'educational material', 'synth brass', 'percussive horn play', 'bell tones', 'short accordion melody', 'arabian', 'lead melody', 'hissing and buzzing distortions', 'parisian streets', 'christmas song', 'bright steel drumming', 'male voice talking/shouting', 'build-up', 'guttural vocals', 'ducking volume', 'high pitched melody', 'pain', 'solo bagpipe', 'printer blues', 'crunchy kick', 'synth string pad section', 'lively singing', 'pleasant sounds', 'clock ticking', 'mexican regional music', 'slide guitar', 'retro rock hits', 'groovy finger snapping', 'hair metal', 'veena-like singing', 'strong metal drumming', 'slider didgeridoo', 'guitar skills', 'documentary video', 'hooting', 'amateur video quality', 'screechy tones', 'fighting sounds', 'snappy rimshot', 'wide electric guitar chords', 'drone pad', 'big burp', 'mellow wide bells', 'stuttering \"4 on the floor\" kick pattern', 'holiday mood', 'groovy electric guitar lead', 'two unrelated audios', 'synth choir keys', 'quaint', 'male voice singing midrange', 'sound of bell', 'low to higher register', 'robotic sounds', 'cafe', 'harmonizing mixed choir vocals', 'chiptune vocal', 'rhythmic bongos', 'electric guitar lesson', 'alternative', 'emotional electric guitar melody', 'fans shouting', 'rap artist', 'brass stabs', 'tinny sound', 'dissonant notes', 'sound of ambulance', 'cuica', 'heavy metal drumming', 'farting sounds', 'bell', 'chorus guitar effect', 'guiro rhythm', 'shimmering open hat', 'sea sound effect', 'mellow sustained strings melody', 'vocal percussionist', 'high pitched string-synth', 'curiousity', 'punchy hollow kick', 'amateur audio quality', 'banjo lesson', 'simple double bass', 'subbass', 'punchy muffled snare', 'cymbal riff', 'hare krishna', 'differing tones', 'male dialogue', 'mellow girl vocal', 'metallic percussive sound', 'precious moments', 'symphonic', 'naughty', 'camera shutter', 'sound healing', 'alternative hip-hop', 'the lord’s prayer', 'tencion', 'country dance', 'double base', 'sad mood', 'live show performance', 'ambient', 'blowing', 'vocal fry', 'indian dance music', 'love anthem', 'middle eastern pop music', 'depressed', 'cartoon show music theme', 'sound of bells', 'laser synth lead melody', 'youth music', 'organ legends', 'shakers percussions', 'classical orchestra', 'persian folk music', 'medicinal music', 'masenqo', 'crisp synth', 'acid house', 'virtuosity', 'beatbox', 'emotive music', 'acoustic guitar chords', 'upright bass playing', 'steady synth bass', 'resonating', 'melodic layer', 'clipping sound', 'echo tones', 'bomb falling', 'rousing', 'dixieland', 'crowd whistles', 'playful adventure', 'asian instruments', 'slow dancing', 'wide harmonizing vocals', 'mellow singing', 'violins playing', 'clean electric guitar melody', 'resonating bass', 'injury', 'digital music', 'choppy music', 'thin snare', 'french electronic pop', 'wide electric guitar melodies', 'intricate percussion', 'yodel-like singing', 'aggressive male vocals', 'raking guitar strings', 'loud booming noise', 'squeaking sound', 'male voices rapping/talking', 'acapella', 'classical influence', 'wide high pitched synth pad', 'projectile explosions', 'electronic vocals', 'good old days', 'deeper voice', 'plucked guitar', 'acoustic drum samples', 'soft metal', 'mic feedback tones', 'ukulele orchestra chord progressions', 'syncopated  music', 'hiphop/breakbeats', 'background voices', 'nightclub', 'loud electric guitar feed', 'low register sounds', 'new wonders', 'jewish', 'pop ballad', 'spanish guitar', 'retro pop hits', 'tubular bell', 'woman talking', 'retro drum hits', 'eastern', 'passionate', 'tuned advertisement', 'water running sound', 'guitar a', 'piano chords', 'audio popping sounds', 'syncopation', 'great memories', 'syncopated melody', 'no accompanying instruments', 'country blues', 'percussive drums', 'high pitched down sweeps', 'rabab', 'rhumba music', 'refreshing', 'animated vocals', 'electric guitar', 'retro jazz hits', 'new world', 'dangerous game', 'soul/ballad', 'crowd yelling crowd effect', 'male grunts sound effect', 'cuatro guitars', 'wide plucked strings', 'organ layer', 'passionate background female vocal', 'eerie music', 'sway to the music', 'cajun percussion', 'choir sound', 'slick techno tones', 'advanced technology', 'uillean pipes', 'accordions', 'male and female singers', 'gibberish', 'wide reverberant brass section melody', 'coffee cups rattle', 'biting', 'scheming music', 'heartbreak', 'harmonium solo', 'sound of metal', 'tuning demonstration', 'teaching to tune a guitar', 'eldery male vocals', 'retro video game beeping sounds', 'no string instruments', 'unison melody', 'backdoor shuffle', 'percussive instruments', 'rhythm machine', 'minimal drumming', 'enthralling', 'sonic power’', 'poor quality recording', 'slide guitar lesson', 'distorted guitar rhythm', 'harmonium', 'trumpet song', 'country love songs', 'banjo lead', 'horn playing melody', 'standing bell', 'stereo sound sensation', 'underground music', 'haunting theme', 'amateur tap dancing', 'muted audio track', 'female backup', 'metal rock', 'boomy bass drum', 'dance beats', 'soulful female vocalist', 'dholaki', 'simple piano chords', 'guitar riffs', 'high tubey synth', 'pop dance rhythm', 'violin music', 'steel guitar melody', 'simple harmony', 'eastern drums', 'digital soundeffects', 'ektara', 'dance rock', 'static', 'menacing sounds', 'chainsaw buzzing', \"unison children's vocals\", 'slower tempo', 'pulsating energy', 'slow rock song', 'thunderous percussion', 'slightly swung', 'cool and sophisticated', 'water splashing sounds', 'boomy bass line', 'piano playing chords', 'alap', 'clown horn', 'heavy grungy electric guitar strumming', 'dance-rap', 'controlled', 'harp playing beautifully', 'wide acoustic guitar chords', 'wide strings section', 'mallet melody', 'ukelele harmony', 'bass sound', 'staccato violins', 'chase sequence sounds', 'synth fill', 'syth pop', 'short groovy synth keys chords', 'musical/opera', 'epic sound', 'mallet', 'vietnamese ballad', 'loud low percussions', 'shell trumpet', 'ambient synth pads', 'hip hop dance song', 'party all night', 'wide brass melody', 'guqin chinese instrument', 'auto tuned voices', 'presence', 'whistles', 'rock music influences', 'cornets', 'theremin player', 'guitar strumming', 'scratchy male vocals', 'finale singer', 'people clapping', 'male actor voice', 'blues influences', 'string synth pad harmony', 'thriller', 'cutting sound', 'quiet bowl resonating sounds', 'banjo roll', 'indian music influences', 'joyful cheerful', 'snares riding fast', 'girlish female voice', 'laughing', 'metalophone', 'comedic atmosphere', 'muffled sound', 'punch digital drum beat', 'popular kids songs', 'playback', 'flamenco strumming', 'complex brass motif', 'quacking ducks sound effects', 'thick accent', 'latin rap singers', 'quirky and eccentric', 'orthodox christian music', 'female singers', 'crowd’s favourite', 'ukelele melody', 'keybiard harmony', 'bustling music', 'wide strings melody', 'hoppy jazz beat', 'sci-fi music', 'synth saw sound', 'buzzy', 'wide sustained synth lead', 'tinny muffled percussive elements', 'african', 'life is good', 'high pitched laser riser', 'guitar playing video', 'arpeggiated synth lead melody', 'angelic organ', 'dreamy lo-fi sound', 'bouncy feel', 'groovy steel guitars melody', 'acoustic delight', 'trumpets', 'hard-rock', 'bouncy kick', 'concert hall reverb', 'easy listening', 'boomy trombone', 'male music video', 'choral backup', 'vocal percussion simulation', 'guitar amplifiers', 'superimposed syncopated strings', 'classy', 'horn melody', 'hardstyle/trance', 'festivities', 'lecture', 'brent nature sounds', 'brass sound', 'repetitive acoustic guitar chord', 'harmony vocals', 'gameplay', 'western classic music legends', 'hand drums', 'ektare', 'no instruments', 'christmas', 'obscure audio', 'skateboarding sounds', 'electronic machine', 'recycled instrument', 'groovy walking bass', 'resonant', 'outworldly', 'soft kick', 'metronome beep', 'different sound tracks', 'synthesizer strings and pads', 'traditional chinese music', 'amateur sound recording', 'celtic christmas', 'rhythmic glass', 'rattling sound', 'simple music', 'amateur audio', 'cinematic/atmospherical', 'electronic sound', 'amateur music production', 'game lobby music', 'sad song', 'beat boating', 'midi music', 'orchestral music', 'magical journey', 'south india', 'no rhythm', 'sustained synth bass', 'extemporaneous', 'european folk song', 'seductive female vocal', 'triumphant', 'background chatter', 'reggae drum beat', 'banjo solo', 'strong vocals', 'free time', 'guitar demo', 'tinny switch sound effect', 'punchy drums', 'distorted  sound', 'unique sound', 'airy suspended open chords', 'breathing technique', 'drums playing', 'bongos playing', 'review video', 'hit', 'addictive trumpet melody', 'machine gun', 'quiet female voice', 'synth keys', 'groovy piano chords', 'high pitched male vocal one shot', 'arcade game music', 'soft background music', 'intricate organ playing', 'simple hi hats', 'suspenseful mood', 'guitar strings', 'hi-fi', 'alto', 'male voice streaming', 'home video recording', 'female voice', 'buzzy bass guitar', 'tinny glass impacts', 'passionate muddy male vocal', 'giggling', 'different tones', 'strong bas slide', 'live perforamnce', 'dhol playing percussively', 'synth rap', 'synth arpeggiated melody', 'electronic sounding', 'staccato strings melody', 'suspenseful music', 'wide filtered reverberant laser synth', 'great intonation', 'speakers', 'country ballad', 'male scream vocals', 'cheery bassline', 'bad quality recording', 'christian gospel song', 'the lush life', 'instrument reverb', 'audio units', 'worship music', 'tuning', 'background ambient noise', 'himdustani music hits', 'keyboard hamony', 'background orchestra music', \"70's\", 'riser sounds', 'paino tutorial', 'melodious violins', 'sound demo', 'background male vocal', 'tinny high pitched synth lead melody', 'walking bassline', 'chaotic music', 'animated movie soundtrack', 'middle-eastern song', 'american country music', 'wind player', 'drawer', 'repeated notes', 'strong bass guitar', 'funky drumming', 'chicago house', 'groovy double bass', 'sound of chatter', 'wood clock percussions', 'instructions', 'enthusiastic electric guitar harmony', 'background sound effects', 'uptempo kick pattern', 'pensive bass solo', 'percussion rhythm', 'repetitive filtered male vocal', 'experimental', 'manic metallic percussions', 'vintage european', 'echoing synth lead melody', 'children choir', 'disco rap', 'male spoken vocal', 'clapping and cheering', 'melisma', 'mellow', 'punk', 'solo flute melody', 'indian classical instruments', 'american folk', 'burping', 'terrified female voice', 'relaxing song', 'animal', 'gentle female vocalist', 'sing introduction', 'funerals', 'electric guitar sustain', 'home studio recording', 'funky guitar chords', 'badly distorted harmony section', 'religious customs', 'accordion lesson', 'lesson recording', 'chinese music', 'squeaky sounds', 'dissonant tapping', 'house', 'wide background female vocals', 'wind instruments', 'teenage female vocal', 'overdrive', 'whirring sound', 'children dancing', 'portuguese pop r&b music', 'patriotic', 'raaga', 'vocal double', 'poor audio quality hissing tones', 'energetic crash', 'choir singing', 'latin acoustic drums', 'huge space', 'stringed keyboard', 'heavily effected', 'battle march', 'plucked string melody', 'simple hip hop drum beat', 'ukulele bass guitar', 'alien sound of wood breaking', 'electro/funk', 'glissando', 'bow string instrument', 'string bending', 'cello', 'water droplet', 'amplified cello', 'powerful voice', 'soft crash cymbals', 'gregorian chant', 'animated piano harmony', 'wide acoustic rhythm guitars', 'funky electric rhythm guitar chords', 'slow melody', 'wondrous', 'cosmic bonds', 'muted acoustic guitar melody', 'simple synth bells melody', 'knives', 'high-spirited', 'raspy male vocals', 'male and female voices singing', 'incessant buzz', 'swung rhythm', 'disc scratching', 'mood', 'snappy rimshots', 'guitar tron effect', 'japanese singing', 'harp', 'roomy', 'energetic meditative', 'sustained horn tone', 'melodic violin harmony', 'wide mellow strings melody', 'descriptive words', 'video game music', 'loud steel pans melody', 'harmony beginning', 'drum demonstration', 'horn honking', 'simple rock drum beat', 'call and response style', 'quartzophonist', 'amateur home video', 'manic laughing sound effect', 'watch machine sound', 'electronic music genre', 'sit-com soundtrack', 'repetitive driving bass', 'rapid flute melody', 'alto-flute', 'subtle bass lines', 'no harmony instrumentation', 'spoken word', 'short offbeat accordion chords', 'angel', 'afro chant', 'native instruments', 'steady drum rhythm', 'soft sustained strings', 'stereo imbalance', 'glass smashing sound', 'female laughing', 'beatboxing', 'elderly raspy male country vocal', '80s', 'harp player', 'indian devotional song', 'lullaby/ballad', 'rhyming dance', 'armenian', 'latin pop', 'cathedral', 'shimmering 2 step hi hats', '808/sub bass', 'engine whirring noises', 'big show', 'rough male vocals', 'wind effect', 'echoing male chant', 'meditation playlist', 'relaxation', 'reverberating sounds', 'tv series', 'fire crackling', 'hero’s march', 'wide arpeggiated synth melody', 'therapeutic', 'country music vibes', 'ethereal harmony tones', 'basic percussion', 'quiet playback', 'male choir', 'fun happy', 'full of spunk', 'geek rock', 'reverberant reversed piano melody', 'electric guitar feedback', 'bassy sound', 'banshee tone', 'instrumental hits', 'spinal treatment', 'amateur musicians', 'classical concert', 'overtones', 'funk music', 'skillful', 'distant crowd chatter', 'clap sounds', 'hindustani', 'entertainer', 'valour and pride', 'digital flute', 'and audio quality', 'chinese fiddle', 'cover', 'percussions playing', 'aggressive brass melody', 'repetitive distorted synth cowbell percussion', 'synth bass sound', 'fast jazz drumming', 'love at first sight', 'parade', 'average sound quality', 'filtered male vocal', 'timpani hits', 'excited voice', 'chair crackling sounds', 'retro hits', 'youtube saxophone lessons', 'muffled background sounds', 'vocals', 'soft plucked strings melody', 'murderous theme', 'country folk song', 'leg tapping', 'sci-fi tv show', 'hard', 'nature', 'power metal', 'winter', 'rock-ish drums', 'mellow harp melody', 'horror film soundtrack', 'sound design', 'flat repetitive female vocal', 'high gain amp sound', 'steady drumming bass line', 'muffled snare hits', 'pristine audio quality', 'male backup singing', '90’s hit song', 'wide smooth sustained pad chord', 'reverberant female vocal', 'background talking', 'rapid synth', 'old recording', 'make vocals', 'wood percussion', 'bass line', 'triad based melody', 'sinister sounds', 'congregational singing', 'muffled passionate female opera singer', 'smooth electric guitar', 'synth pads/plucks', 'alternative dance', 'brazilian portuguese', 'traditional middle eastern instruments', 'backing voice', 'worship', 'tuned bellsounds', 'screaming vocals', 'hard synth bass', 'group male harmony vocals', 'electro swing', 'compilation', 'sawing noise', 'texture', 'continuous droning', 'dj vinyl scratching', 'hyper', 'jewish musical instruments', 'pop instrumental music', 'bass drums', '808 kick drum', 'traditional dance', 'muffled echoing male vocal', 'army marching', 'gospel song', 'no vocals', 'skillfull', 'high chest voice', 'western/folk/ballad', 'electropop song', 'hardcore techno', 'soothing ballad', 'crowd sound', 'short strings stabs', 'kids harmonizing vocals', 'burgeoning harmony', 'excite crowd', 'alternative rap', 'sikh music', 'fiesta', 'amplified keyboard', 'brain experiment', 'high chimes', 'phonograph record', 'boomy wooden percussion one shots', 'laser sound effects', 'piano tone', 'arpeggio', 'cats sound effect', 'chilled hip hop beat', 'flamenco guitar melody', 'guitar like sound', 'youtube music artist', 'sustained high pitched violin melody', 'prey', 'digital trumpet/guitar sound', 'idea music track', 'teen female vocal', 'distorted guitar playing rhythm', 'hallucinogenic', 'tunisian folk music', 'cinematic/ballad', 'jazz rock music', 'package opening', 'melodic percussive sound', 'seventies rock', 'powerful guitar stabs', 'wood instrument', 'battle cry', 'fading out strings', 'secret agent man', 'quacking vocals', 'amplified violins', 'traditional latin dance', 'digital sounds', 'theme music', 'wide wooden percussions', 'bell ringing lesson', 'low and high frequencies', 'hardrock/metal', 'chain rattle sound effect', 'rhythmic speechlow notes', 'aggressive strings lick', 'people chanting', 'choral singing', 'fresh punchy', 'water boiling', 'arabian nights', 'contemporary hip-hop', 'vibrant electric guitar harmony', 'distorted guitar chords', 'lively keyboard accompaniment', 'subtle wooden percussive element', 'wide punchy toms', 'beatle’s song country style', 'car passing by', 'football match theme', 'pop songs', 'claps on backbeat', '12 bar blues', 'retro gospel music', 'ride cymbal one shot', 'lucid vocals', 'small metal plates', 'steady bass', 'distorted audio', 'syncopated bass lines', 'long sustain', 'sweet melody', 'tireless', 'short haunting synth lead', 'light pad synth', 'contemporary', 'steeldrum', 'siren tones', 'simple electric guitar chords', 'man screaming in pain', 'brain exercise', 'pedal tap sound effect', 'indian/oriental', 'music building up', 'hymns', 'medium to fast tempo', 'sustained violin melody', 'bowed bass', 'calm music', 'guitar learner', 'ambient outdoor sounds', 'tv show tune', 'boisterous', 'clock bells', 'sitar licks', 'enthusiastic piano', 'boogie', 'syncopated', 'string noise', 'jazz style drumming', 'groovy dance drum beat', 'disconcerting music', 'fast beat', 'korean indie rock', 'guitar playing rhythm', 'tribal feel', 'horn player', 'carrie an', 'aggressive vibrato', 'movie theme song', 'haunting vocals', 'bright wide steel guitar melody', 'crowd sounds', \"acoustic drums/percussion's\", 'acid aggressive synth melody', 'mild', 'water flowing sounds', 'footstep sound', 'whistling wind blowing', 'sea waves sound effect', 'confusion', 'straight synth piano chords', 'four chord', 'deep bass male voice', 'calmness', 'aboriginal instruments', 'music coming from speakers', 'filtered echoing acid bass melody', 'icelandic song', 'acid folk', 'radio', 'small pipe harmony', 'addictive violin melody', 'death core', 'digital synth drums', 'flamenco acoustic guitar melody', 'digital choir', 'polyphonic ringtone sounding', 'passionate female vocal', 'live band', 'retro death metal hits', 'stuttering vocal sound effect', 'trance like', 'ambient  emphatic', 'drumming instructions', 'gangsta rap', 'gunshot', 'brazilian', 'humming vocals', 'percussive hits', 'shimmering ride cymbal', 'spectacular', 'people singing along', 'scream and shout', 'chiptune', 'traditional dancing', 'children’s ryymes', 'cartoony vocals', 'pop culture music', 'funky electric guitar', 'simple jazzy drum beat', 'mallets', 'shofar like instrument', 'gaiety', 'theatrical female voice', 'operatic theme', 'vibrant ukelele harmony', 'loud projection', 'dangerous tense sounds', 'jam session', 'sexy', 'pop/gospel', 'hand percussion accompaniment', 'rock and roll music', 'propulsive percussion', 'strings creaking sound', 'mellow brass section melody', 'synth arpeggio', 'cheerful mood', 'sad sounding', 'distant female vocals', 'techno song', 'traditional music influences', 'sustained strings progression', 'great journey', 'instructor', 'wide tinny percussive elements', 'bee', 'brass instrument', 'vigorous bass lines', 'folk dance music', 'industrial', 'bowing technique', 'crunchy', 'quartet', 'conga percussions rhythm', 'afropop', 'solid intro', 'threatening', 'tablas', 'drone harmony tones', 'laser gun sounds', 'old-school hip hop', 'echo vocals', 'making notes', 'very sad atmosphere', 'bustling', 'male higher voice singing', 'aggressive sounding', 'electronic drums', 'synthesizer pad', 'short flat female vocal', 'contemporary gospel', 'home studio setup', 'request', 'synth pluck sound', 'rhythmic beeps', 'muted plucked strings melody', 'gentle wind', 'fitness', 'chanson', 'repentance', 'multi layered sounds', 'young male rapper', 'silly', 'sad story', 'home studio sessions', 'traditional folk music', 'suspenseful orchestra', 'french horn plays', 'bass guitarș string slapping technique', 'dance/electronic', 'cheery female vocalist', 'big band jazz', 'deep healing', 'yodeling duet', 'soft passionate female vocal melody', 'recorded outside', 'reverence', 'wide background harmonizing female vocals', 'dancing rhythm', 'hunger', 'harmonizing female background vocals', 'insect noises', 'female vocal sample', 'latin hits', 'pulsating rhythm', 'harmonizing boy background vocals', 'hippie generation', 'advent', 'kicks', 'vibrant vocals', 'bowed string-instrument', 'finger snaps', 'footsteps or door-knocking', 'digital drum arrangement', 'flutes playing in unison', 'classical dance', 'theremin music', 'jazz influenced', 'german song', 'electro', 'brass stab', 'high pitched frequencies', 'bells sound', 'male vocal', 'blues feel', 'pop', 'doo wop', 'smashing', 'teen singer', 'delay effects', 'sustained string chords', 'italian  music', 'tense harmony', 'techno music', 'rock band', 'no beat', 'double reed solo', 'various frequency tones', 'keeping beat', 'out of time guitar', 'ambient rock', 'buzzing tones', 'prayer', 'powerfully voice', 'tao percussion', 'nagpada', 'freedom', 'feeling loved', 'magical', 'chopper', 'maharashtrian instrument', 'papery sound effect', 'german romantic music', 'wedding vows', 'guitar master class', 'guitar', 'spirituality', 'classical indian singing', 'tuba solo melody', 'strings making noises', 'fuzzy audio', 'hunting', 'sound of guns', 'medium to upbeat', 'comparison', 'bells percussions', 'punchy digital drumming', 'tinny reverberant percussive element', 'e-piano sounds', 'whooshing sound', 'adrenaline fix', 'sad music', 'distortion pedal effect', 'half time feel', 'reverberant saxophone', 'indian folk song', 'string section playing', 'sampled claps', 'spanish', 'champeta', 'magicalvocalisation', 'zipper', 'pulse effect', 'music demo', 'latin drums', 'deep bass sound', 'french horn tutorial', 'rising tempo', 'classical vocalist', 'adventures', 'lilting', 'uptempo didgeridoo melody', 'tenor banjo', 'tinny wooden percussions', 'modern production', 'shimmering sounds', 'korean rap', 'distorted sound', 'acapella band', 'insistent drone', 'deep male vocal hum', 'techno dance', 'important announcement', 'rhythmic shoe tapping foley', 'reverberant flat male vocal', 'computer', 'electronic pop', 'toddler’s attention', 'amplified  guitar', 'acoustic bass guitar', 'harmonized mixed choir vocals', 'no', 'cold', 'ukele tuning lesson', 'trance music vibes', 'r&b/soul', 'low pitched male voice', 'meditational', 'scientific exposition', 'playing rhythmically', 'groovy tempo', 'marimba', 'rock-n-roll', 'slow pop song', 'rock heritage', 'bow shaped harp', 'brass instruments playing triumphantly', 'repetitive aggressive male vocals', 'key sounds', 'tambourine', 'key changes', 'techno drum rhythm', 'wide vibrato synthesizer', 'deep', 'repetitive cowbell', 'fusion music', 'whistling sound', 'classical hindustani music', 'electric buzz', 'good ending', 'tribal instrument', 'indian dhol percussion', 'sustained strings section', 'female choir singing', 'afrobeat', 'trippy music', 'sound of beeping', 'symphonic music', 'syncopated piano', 'tenor', 'calming song', 'this  low notes', 'passioante affair', 'active drums', 'korean', 'adrenaline', 'booming lower harmony', 'helicopter starting engine', 'bright tinny ringing sound', 'auto tuned', 'one chord strings', 'chic', 'gangs', 'shimmering ride', 'ceremonial drums', 'trumpet sound', 'instrument of a goddess', 'jazz style piano', 'informative', 'stillness', 'christian song', 'glass', 'gamesounds', 'acoustic sitar guitar melody', 'strings/horns', 'christmas presents', 'forgive me', 'powerfull', 'irritating', 'grunge string section harmony', 'powerful rich female vocal', 'mystery', 'punchy \"4 on the floor\" kick', 'steel drums', 'country blues music', 'reverberant claps', 'emotional al', 'male narrative voice at the end', 'picking', 'indo western music', 'electronically arranged sounds', 'autotune voice', 'soulful singer', 'repetitive plucked arpeggiated melody', 'y traditional indian instruments', 'buzzing sound', 'animated male vocals', 'thumping bass', 'hand pan', 'string bend technique', 'eloquent', 'college humour', 'extremely bad audio quality', 'throaty male vocal', 'rotating platform', 'mismatched tempos', 'sustained filter mod bass', 'flute countermelody', 'distortion guitars', 'indo-european fusion', 'holiday theme', 'tuning lesson', 'repetitive percussive element', 'paper shuffling', 'ethereal voices', 'muffled autotuned vocals', 'acoustic guitar melody', 'learn music online', 'commanding', 'steady percussive rhythm', 'bagpipe', 'harmonizing staccato vocals melody', 'silence', 'dj scratching effect', 'short drum break', 'bright warm synths', 'gunslingers', 'trumpet solo', 'percussive blasts', 'shimmering brass melody', 'nature sounds', 'cars passing', 'sombre tone', 'laughing sample', 'tribal fusion song', 'fast paced drum beat', 'orchestral song', 'multiple layers', 'authoritative', 'fast high hat', 'power trio', 'loud wooden percussion', 'soulful female singer', 'shape shifting music', 'vintage middle eastern music', 'irish jig', 'bow stringed', 'online guitar lessons', 'low bass notes', 'loud vocals', 'ska punk', 'classical melody', 'cymbal hits', 'percussive hit', 'electric keyboard', 'sound of crowd', 'bright fuzzy synth', 'punjabi folk song', 'live country folk band', 'woodwind solo melody', 'carnatic music soundtrack', 'rumbling tones', 'percussion instrument', 'multiple tracks playing', 'psychedelic synthesiser', 'chiming sound', 'relaxing and comforting', 'vocal acapella', 'soft piano melody', 'paigu', 'ukelele tuning', 'analog chorus', 'percussive arpeggiated acoustic guitar melody', 'tranquil', 'low tuned guitar', 'cheery', 'r&b/disco', 'female vocal mumbling', 'rock guitar solo', 'beatboxer', 'synthesised choral harmony', 'instrument review', 'muffle audio', 'acoustic drum loop', 'punchy roomy kick', 'rumba', 'sundowner', 'tropical sound', 'different frequencies', 'low pitched synths', 'english dance', 'lively animated', 'changing songs', 'soft piano harmony', 'male lead vocalist', 'fantasy song', 'big-band/marching', 'william byrd', 'childlike', 'simple joys', 'funky bassline', 'bumble bee', 'amplified organ', 'ensemble of vocalists', 'ambient/noise', 'fart jokes', 'guitar amplifier', 'traditional string instrument', 'dominant music', 'instructional theme', 'piano ballad', 'sfx', 'experimental/classical', 'english', 'auxiliary percussion instruments', 'anxious', 'silky', 'indie7rock/pop', 'desperate male voice', 'solo guitarist', 'rock solo', 'march rhythm', 'string-section', 'siren sound effect', 'tinny syncopated percussive element', 'tap dancing sounds', 'elctronic instrument', 'reggae style influences', 'mind-bending', 'aggressive percussion', 'sound of breeze', 'nights are scenario', 'drill sounds', 'haunting whispering female vocal', 'passionate male vocalist', 'national anthem', 'tanpura', 'synth delay effect', 'excited', 'female voices talking', 'pulsating tones', 'funny spring sound effect', 'crisp', 'fingerstile acoustic guitar', 'passion', 'distortion guitar rhythm', 'christmas euphoria', '50s/60s ballad', 'cartoon sync sounds', 'encouraging vocals', 'party songs', 'playful singing', 'electric guitar techniques', 'sextet', 'energetic tom rolls', 'pulsating synth sound', 'cymbal rolls', 'echoing passionate female vocal', 'wide glass shattering sound sound effects', 'hardship', 'car door opening', 'emo teens', 'mellow electric guitar melody', 'seductive rhythm', 'experimental hip-hop', 'irish banjo', 'synthbass', 'train beat', 'programmed song', 'guitar arpeggio', 'persuasive', 'complex clapping', 'reverberant birds chirping sound effects', 'lyre', 'tinny mellow rubber impacts', 'eastern scale', 'plucked strings melody', 'stereo delay', 'funk pop music', 'classical duet', 'packed stadium', 'digital kick', 'energetic cymbal crash', 'harsh desert sun', 'classical/jazzy/piano-composition', 'frustrated', 'insightful', 'piano composition', 'overdrive kick', 'comforting', 'old desi music', 'echoing lead male vocal', 'loud synchronized percussions', 'cheering sounds', 'wide shimmering cymbals', 'high pitched quirky backing voice', 'power percussion', 'soul singer', 'adventure music', 'special sound effects', 'background male vocals', 'high pitched beeping tone', 'ethiopian traditional music', 'tubas', 'wind blowing', 'chromatic harmony', 'cinematic/orchestra', 'voice control', 'female backing voice', 'music tutor', 'high pitched tire screech', 'percussive elements', 'shimmering hi hat', 'two guitars', 'pleasant harmonious', 'dance hits', 'three unrelated tracks', 'nostalgic pop song', 'tenor guitar', '’ enjoyable', 'groovy bas slime', 'rain sounds', 'kids performance', 'stress relieving', 'dexterous', 'simple bass line', 'no tempo', 'conversations', 'violin lick', 'horn instrument', 'practice room', 'movie scene music', 'no stringed instrument', 'wide aggressive electric guitar chords', 'high pitched screaming', 'eighties', 'american', 'christian gospel music', 'heart beat', 'kids animated series', 'scracthing', 'youtube channel intro', 'distorted recording', 'trance trippy', 'sound of pealing', 'mellow tune', 'soft \"4 on the floor\" kick pattern', 'room reverb', 'comedy song', 'live orchestra', 'psychedelic harmony', 'low synth down sweep', 'latin vocal group', 'sustained chord strum', 'happy', 'crisis', 'amplified instruments', 'baleful', 'crackling sound', 'filtered vocal humming', 'female and male voice sample', 'clarinet solo melody', 'echoing effect', 'overdrive amps', 'light positive and melancholic atmosphere', 'various singing bowls', 'keyboard flute', 'big bend', 'guitar lessons online', 'women dancing', 'nature documentary', 'science fiction', 'december', 'caribbean feel', 'crowd chatter', 'huge low toms hits', 'continuous drone', 'phone dial tone', 'alarm clock', 'rich traditions', 'splendour', 'high vibrations', 'spike chilling', 'make your own songs', 'art song', 'jazzy pop', 'simple melody', 'cajun music', 'arabic music influences', 'sunny', 'sound manipulation', 'steady ride pattern', 'virtuously', 'syncopated sounds', 'screaming tones', 'echoing female scream', 'incessant beeping', 'instructive', 'percussive instrument', 'metallic vibrational bass', 'fuzzy wobbly synth', 'percussion sounds', 'tulna is playing loud', 'simple bass', 'intricate drum pattern', 'disco funk', 'youtube demo video', 'advertisement', 'electro hop', 'drum rhythm', 'digital flute melody', 'sneaky atmosphere', 'flute foley sound effects', 'conversation', 'singers chanting', 'synchronous playing', 'male backup', 'laid back energy', 'low quality sound', 'classical masterpieces', 'post-punk', 'percussive envelopes', 'synth sound', 'clarinet player', 'tinny bells melody', 'wolf howling', 'filtered pitched up female chant', 'echoing energetic male vocal', 'sikh', 'hollow percussive sounds', 'holy', 'muffled sounds', 'angelic female vocal humming', 'upbeat electronic riff', 'informal', 'turn table effects', 'vocal choral harmony', 'electrical reactance', 'gospel/folk', 'stuttering hi hat', 'laughing sound effect', 'piano keys chords', 'festive', 'sinister chime melody', 'fight club', 'fusion', 'energetic female pop vocal', 'violent', 'game theme song cover', 'creating awareness', 'raspy notes', 'superimposed sounds over song', 'male vocal mumbling', 'haunting sound', 'soft rimshot', 'youthfull', 'car engine sound effects', 'cajun', 'bass synth', 'theatrical', 'american instrument', 'online lessons', 'lead harmony', 'music instrument', 'groovy tabla percussion', 'prayer chanting', 'reindeer', 'double reed', 'common sounding', 'chinese stringed instrument', 'island', 'melancholic and light', 'lead guitar', 'melodic motif', 'traditional chinese instruments', 'harmonizing mixed vocals', 'offbeat synth keys chords', 'acoustic rhythm guitar melody', 'mellow synth pad chords', 'church organ', 'repetitive organ keys chords', 'liquid splashing sound', 'edm', 'reggae/pop', 'french horn sextet', 'synth layers', 'distorted voice', 'repeating note', 'piano cover', 'arabic pop', 'female lead vocalisation', 'r&b/reggae/soul', 'classic music', 'uplifitng energy', 'synth bell sound effects', 'birds', 'off-key singing', 'couple dancing', 'singing bowls', 'three tone wood blocks', 'simple tune', 'acoustic kick', 'four chord song', 'dismal', 'percussive blowing patterns', 'people dancing', 'timpani percussion', 'indian folk music', 'clapping cheering', 'oud riff', 'charismatic fiery male rapper', 'rock music cover', 'crowd screaming', 'classic acoustic string instrument', 'punchy youthful', 'digital brass', 'out of time', 'male duet', 'depressive', 'small adventures', 'backing drums', 'young energetic rapper', 'new ethiopian music', 'distortion tones', 'body movement noises', 'cajon percussion', 'discordant music', 'ugandan song', 'montessori', 'muddled audio', 'shomyo', 'beachside party', 'k-pop hits', 'energetic male vocal', 'flute', 'philharmonic orchestra', 'bulgarian', 'acoustic guitar sample', 'tricky', 'club song', 'christmas jingle', 'soft wide strings melody', 'cheerful', 'auto tuned voice', 'middle eastern music', 'male and female vocalists', 'ad jingle', 'wide distorted low tone sounds', 'dancehall', 'dance rap', 'youtube instrument tutorial', 'tapping sound effect', 'short notes', 'house/dance', 'stick count', 'home video sound track', 'breathy reverberant flute melody', 'dance tunes', 'aggressive guitar playing', 'lightning', 'country guitar', 'echoing dark rimshot', 'wobble bass', 'dance rhythm', 'sliding effect', 'straight drumming', 'canon', 'lively mandolin', 'keyboard song', 'scuffling sound in the background', 'screaming sounds', 'harmonious singing', 'ball room', 'retro instrumental', 'mid to high register', 'sustained pad synth', 'percussion track', 'fast playing', 'crunching sounds', 'fast paced rhythmic singing', 'flower power', 'soulful vocal refrain', 'latin/country', 'heart warming', 'solo performance', 'soothing melody', 'buzzy synth leads', 'dynamics', 'zumba', 'bright tinny synth melody', 'vintage middle eastern song', 'life', 'simple chord progression', 'psychophysics technique', 'vocal drumming', 'sportsmanship', 'electric guitar chord plucking', 'keyboard accomapniment', 'high gain audio', 'country folk songs', 'heavily distorted audio', 'afro percussion', 'sound of heartbeat', 'march rhythm drumming', 'rock/ballad', 'monotone singing', 'squeaking sound effects', 'adventurous', 'female guitarist', 'strange non-musical sounds', 'recurring', 'pomp', 'male back vocals', 'arpeggiated dark piano melody', 'acoustic drums and shaker', 'arpeggiated violin melody', 'range of emotions', 'cartoon sync sound', 'mridangam rhythm', 'groovy bass li e', 'low-to-medium range', 'lively electric guitar', 'sombre', 'synth bell sound', 'amplified organ evil', 'funky electric guitar melody', 'wide mellow synth pad progression', 'backgroundnoises', 'desk tapping rhythm', 'lilting melody', 'rapper', 'game sounds', 'tribal sound', 'songs for toddlers', 'popular folk music', 'harmony', 'live singing', 'somali pop music', 'twangy high pitched licks', 'enigmatic male vocalist', 'scratching tones', 'dealing with depression', 'trap beat', 'regimented', 'low to high note', 'church', 'melodic piano accompaniment', 'guitar tones', 'noise', 'strumming', 'subdued', 'subtle sitar melody', 'low tuned bass drum', 'galloping rhtyhm', 'accelerated rhythm', 'a warrior’s end', 'tabla playing steadily', 'burgeoning music', 'smooth male vocals', 'sonic power', 'mariachi music', 'vibrating strings', 'rock anthem', 'groovy didgeridoo melody', 'saxophonist', 'ritual', 'vintage country music', 'asian rap hits', 'background cheering and screaming', 'wooshing', 'instruments not audible', 'persia', 'bina', 'calming pad chord progression', 'fast paced electric guitar arpeggios', 'latin romantic hits', 'lullaby music', 'synthesizer pads', 'granular synth', 'thumping sounds', 'precarious', 'vielle', 'string rock drumming', 'guitar tone test demo', 'paranormal', 'togetherness', 'fast metal drumming', 'gang fights', 'no amplification', 'beeping tone', 'steel pedal guitar', 'lucid', 'war-like', 'uncomfortable', 'musical background', 'travel show', 'calming sound', 'drug wars', 'rock playback instrumental', 'didgeridoo melody', 'barrel drum', 'twangy electric guitar arpeggios', 'synthesised sounds', 'sustained low droning buzz', 'talking', 'european', 'full ensemble melody', 'effect on voice', 'echoing sleepdrone sound effects', 'car falling', 'guitar song', 'emphatic singing', 'indietronica', 'french horn solo', 'sound of wave board', 'synth electric guitar solo', 'tape speed up', 'female chanting sounds', 'pulsating filter modulated riser', 'voice speaking', 'hurrying', 'boing', 'sonic effects', 'ektar', 'layers of violins', 'hebrew traditions', 'amateur quality recording', 'poor video quality', 'harmonium accompaniment', 'dark synth', 'voice sample', 'build up to climax', 'guitar harmony', 'song cover', 'build up', 'timpani hit', 'beauty of life', 'xiao', 'dance hall rhythm', 'noir style', 'muffled hip hop song', 'muffled playback instrumental', 'playback instrumental', 'blues guitar', 'modern day romance', 'jazz/bossa-nova', 'toms', 'sunday worship', 'ghetto boys', 'violins/violas', 'peculiar', 'metal swiping', 'tense dissonant string harmonies', 'male voice backup vocalisation', 'ukuleles', 'simple kick/snare pattern', 'suspenseful strings chords', 'female higher register voice', 'out of sync tapping rhythm', 'wide keys melody', 'synth lead sound', 'repeated sample', 'harmonica melodies', 'lesson intro', 'dixie chicks  concert', 'bells chining', 'march like beat', 'muffled kick', 'italian classical', 'arabic song', 'latin hip-hop', 'chair squeaking sounds', 'pakistani music', 'mandolin harmony', 'rhythmic beats', 'music you', 'epic beginnings', 'mixed male voices singing', 'carnatic vocals', 'motor skills', 'folk dance', 'ancient art form', 'wide playback instrumental', 'tom tom', 'mellow kick hits', 'childlike singing', 'e-bass saxophones/brass', 'poignant mood', 'ragas', 'audio tracks super imposed on each other', 'muslim prayer anthem', 'trap/rap', 'synth arrangement', 'afrodance/pop', 'high pitched voice', 'harp accompaniment', 'meg whistle', 'acoustic/digital percussion', 'modern classical', 'arpeggiated soft piano melody', 'low string arpeggios', 'african feeling', 'jungle', 'vocal battle', 'energetic crash cymbals', 'calming folk pop', 'dissonant', 'door shutting', 'wide arpeggiated synth', 'acoustic guitar strumming', 'space sounds', 'curacao waltz', 'dark tinny bells melody', 'repetitive music', 'ghostly sounds', 'modern pop song', 'fans', 'never say die', 'celtic folkmusic', 'freaky', 'various instruments', 'soulful song', 'reverberant toms', 'retro music', 'repeating theme', 'nature sound effects', 'love you much', 'sad theremin lead melody', 'engaging', 'repeated piano arpeggio', 'muffled claps', 'reverberant percussion', 'ambient sounds of nature', 'beach party hits', 'tinny wooden percussive elements', 'theremin', 'stress', 'spirited vocals', 'slight wobble effect', 'acoustic guitar arpeggiated melody', 'friendship', 'male backing vocals singing', 'rajasthani folk music', 'crooning vocals', 'asmr', 'metallic impact sounds', 'arpeggiated acoustic flamenco guitar melody', 'slightly melodic', 'ice', 'harmonic singing', 'female choir', 'drum pad', 'percussion sound', 'rhythmic bass lines', 'quiet drums', 'indian/traditional', 'dj console', 'ambient scraping synth lead', 'songs for kids', 'fast', 'female voices', 'kids shouting', 'brass sample', 'lively piano accompaniment', 'song introduction', 'classical style piece', 'subtle drumming rhythm', 'peculiar beat', 'children cheering in unison', 'grating', 'female grunts', 'glass harp harmony', 'percussive elements and tones', 'angst', 'funk rap', 'spanish christmas song', 'mexican traditional music', 'evil', 'jazz funk', 'evil laughter', 'song for aristocracy', 'sad piano music', 'table turner', 'bubbling sound', 'lilting feel', 'buzzing synth', 'lounge', 'bad music', 'muffled melody', 'male singer chanting', 'strong bass', 'arcade synth', 'groovy bassline', 'booming explosions tones', 'soft water flowing sound effect', 'lively keyboard harmony', 'maracas rhythm', 'blues rock', 'furniture', 'backup female singers', 'violin harmony soft', 'fuzzy sound', 'tinny shimmering bells', 'reggae style rhythm', 'metal guitar strings squeaking sound effect', 'ttrumelts blaring', 'wistful', 'animated show music', 'increasing pitch', 'cash register click', 'mellow clap', 'anthem', 'american folk music', 'reversed hi hats', 'finger snapping', 'wide layered vocals', 'maghreb pop', 'clean e-guitar', 'short exhale blow', 'fingers sliding over fret', 'mellow piano melody', 'bird chirping tones', 'pop funk', 'sarcastic', 'church choir', 'breathy reverberant passionate flute', 'aggressive buildup', 'instrumental duo', 'energetic vocals', 'french jazz', 'harmonizing wide female background vocals', 'gear review', 'steady percussion rhythm', 'emphatic piano harmony', 'traditional music', 'one string', 'altered female voice', 'sax tonguing', 'loud static sound', 'straining', 'distorted harmonies', 'original pilipino music', 'uptempo amateur recording', 'wide electric guitars melody', 'new age/classical', 'groovy wide electric guitar riff', 'stuttering snares', 'action-filled', 'gospel hymn', 'harmonized vocals', 'passionate boy vocal', 'horns fading away', 'decks', 'hills', 'brass performance', 'stuttering effect', 'background percussive instrumental', 'foreign language', 'steady bass line', 'echoing male vocal', 'repetitive high pitched female vocal', 'grandeur', 'rhythmic latin percussion', 'solo harmonica', 'rhodes', 'mid tempo', 'suspicous music', 'andean harp', 'vinyl disc', 'noisy snare', 'back vocals', 'retro bollywood super hits', 'pop-ballad', 'funk/discofunk', 'folk song', 'door closing', 'rebab harmony', 'christian rock', 'horns plays howling tones', 'happiness', 'ambience synth', 'wide intimate percussive elements', 'nature atmosphere sound effect', 'bright synth', 'three part harmony', 'melodic hip hop', 'timpanie', 'nai', 'shrill vocal quality', 'enthusiastic vocals', 'heartfelt', 'catholic prayer', 'percussive play', 'irregular beats', 'loud church bells', 'harmonizing wide male vocals', 'heroes and villains', 'meditative music', 'old school players', 'performer', 'electronic/rapbeat', 'vigorous beat', 'hissing sound', 'cheerfully', 'shimmering acoustic guitar chords', 'harmonica melody', 'sprechstimme', 'sounds of nature', 'back beat', 'french horn', 'percussion synth', 'simple vivacious', 'drum routine', 'guitar instruction', 'black metal', 'last tempo heavy metal', 'jewish horn', 'monsters', 'monotone male vocal', 'sound of wind', 'crunchy sounds', 'laser sounds', 'off-key piano', 'male vocalist lead', 'keyboard arrangement', 'ducks quacking', 'stro telling', 'saxophone harmony', 'speaker', 'scuffling', 'crowd excitement', 'solo low tuba melody', 'melancholic melody', 'harsh electric guitar chords', 'breathy echoing flute melody', 'tonsl buzzz', 'chordophone', 'learner', 'mellow cowbell', 'christian worship song', 'laos folk song', 'crying vocals', 'swing house', 'rock beat', 'unimpressive', 'pitch bend male vocals', 'sword slicing sound effect', 'electronic articulation', 'arabic dance song', 'hip hop drum pattern', 'impending danger', 'uptempo electric guitar melody', 'dvorak', 'wide open space', 'dancing around', 'guitar strumming rhythm', 'cowbell music', 'tense atmosphere', 'bright flanger synth', 'alarm sound effects', 'steel orchestra', 'african tribal percussions', 'weird high pitched grunts', 'fans cheering', 'raspy vocals', 'children toy', 'uprightbass/cello', 'sinister', 'busy', 'party', 'superimposed tracks', 'mid-range singing acoustic drums', 'bleeding  crowd noise', 'disturbing noises', 'raspy croacky male rock vocal', 'metallic snare', 'gospel music', 'scratching sound', 'metallic percussive foley', 'steel pan percussion', 'vocal recital', 'falling rain', 'rock&roll/pop', 'wooden percussion', 'female crying in pain', 'traditional indian instruments', 'virtuoso playing', 'wide harmonizing female vocals', 'electric guitar arpeggio', 'charismatic male singer', 'classical/orchestra', 'deep 808 bass', 'calm before the storm', 'expressive', 'fats jazz drumming', 'r&b vocals', 'static melody', 'bells harmony', 'no periodicity', 'indie roc', 'bass rhythm', 'quiet resonating sound', 'non musical tones', 'remix', 'steady marching drumming rhythm', 'dance floor', 'electric jazz guitar', 'vedic music', 'videos for toddlers', 'various percussion instruments', 'syncopated toms', 'soprano', 'harp playing', 'impressive playing', 'bamboo flute song', 'electronic drum', 'well layerd harmony', 'subwoofer', 'orchestral brass', 'piano sample', 'party mood', 'messy', 'dissonant female vocal', 'incantation', 'animate vocals', 'dutch', 'inspirational music', 'cello bass', 'hindu rituals', 'flute like instrument', 'nomads', 'squealing', 'aggresive sounding', 'overdubbing', 'repetitive synth bassline', 'hooting sound', 'intricately coiled instrument', 'growling sound', 'distorted static sound', 'frightening', 'vocal chop sequences', 'punchy \"4 on the floor\"', 'laser', 'punchy snare', 'jugalbandi', 'nu metal', 'big reverb', 'club', 'r&b feel', 'wooden percussive element', 'amplified keyboard harmony', 'cheerful chimes', 'relaxing vibe', 'twisted', 'pop dance routine', 'finger style guitar', 'breezy', 'heavily synthesised voices', 'car door closing', 'bongos beat', 'ardent', 'trance dance hits', 'folk/county', 'songs for children', 'distorted synth bass', 'seductive singing', 'fuzzy sounding instrument', 'western swing', 'upbeat melody', 'creeps', 'retro electric piano', 'atmospherical sounds', 'wind orchestra', 'guiro accompaniment', 'happening paces', 'fearful male muttering', 'cowbell hits', 'repetitive harmonized mixed vocals', 'large bell ringing', 'splash sounds', 'indie-funk', 'lomba gong', 'amateur audio recording', 'pleasant melody', 'menacing voices', 'clickers', 'english tutorial for kids', 'space ship', 'varying pitch', 'metallic ball impact', 'out-of-tune singing', 'synthesiser demonstration', 'competition', 'pop super hits', 'echo delay', 'clarinet melody', 'cowbells percussion', 'snares playing', 'synth organ keys chords', 'folk tropics', 'high pitched female vocal', 'gated', 'funny pranks', 'crystal glass harp solo', 'sound of metal clanging', 'fingerstyle guitar', 'urgent', 'bell sound fx', 'animal grunting sounds', 'acoustic folk', 'life is beautiful', 'song for celebration', 'online classes', 'burly male rock vocal', 'car', 'button pressing', 'multi genre soundscape', 'popping sounds', 'disco', 'horn sounds', 'pianomusic/meditation', 'descending chords', 'latin folk song', 'heroic', 'dance song', 'out of tune guitar', 'short bass stabs', 'piano chord playing', 'beating', 'vigorous bass line', 'children music', 'synth/pop', 'instrumentals music', 'devotional', 'pitch bend wooden percussions', 'reggae', 'ambient wide synth pad', 'accordeon', 'arabesque rap', 'wedding dance song', 'stoic', 'creating overtones', 'vic latin dance', 'melodic pad', 'sufimusic', 'youtube music', 'pitch change', 'group vocals', 'heavy drumkit', 'open-mouthed humming', 'south asian ballad', 'jazzy electric guitar melody', 'rapid playing', 'fourth world music', 'calming male voice', 'woo her', 'weird short pitch bend riser', 'contemporary christian music', 'social gathering', 'mid-range voice', 'backing vocal harmony', 'dance-pop', 'intense bass', 'soul searching', 'female soprano like sound', 'shred', 'wide marimba melody', 'modern pop fusion', 'bright bells', 'rhythmic acousitc guitar', 'sixteenth notes', 'female voice singing vocables', 'wind', 'no vocal modulation', 'sparse', 'ballad', 'shimmering shakers', 'tinny laser percussive sound effect', 'low flat male vocal', 'korean language', 'papery', 'natural therapy', 'reggae music influence', 'no accompaniment instruments', 'regional mexican', 'sound of whistling', 'male guide', 'dholak', 'clocks ticking', 'engine choking', 'fast cars', 'tinny metallic impacts', 'majestic and scary', 'single instrument', 'female voice shouting', 'crackling sounds', 'rhythmic foot tapping', 'church hymn', 'crowd background talking noise', 'classic rock playlist', 'low notesmonotone', 'burgeoning', 'indian festivities', 'subdued music', 'body instruments', 'bright electric guitar', '4 on the floor punchy kick', 'malled', 'sleep-inducing', 'high gain music', 'bass hammer on', 'spanish female speech', 'soft snare hits', 'rhythmic', 'extravagant', 'electronic reggae', 'echoing synth keys', 'soothing music', 'synthesizer sounds', 'telephone ringing', 'plastic sound effect', 'turntable', 'caribbean percussions rhythm', 'distorted sound quality', 'experimental rock', 'goofy', 'echoing stuttering vocal', 'flamenco/ballad', 'bas ukulele', 'dissonant harmony', 'male barking onomatopoeia', 'exquisite', 'music for announcement', 'sharp piano rhythm', 'large room ambience', 'latin urba', 'shimmering xylophone', 'clapping hands effect', 'waiting', 'clarinet lead', 'ticking sound effects', 'psychedelic feel', 'mood elevating', 'acid bass', 'south asian dance music', \"children's music\", 'percussion melody', '7th chord', 'masterful string technique', 'male shouting sample', 'melancholic piano', 'clapping rhythm', 'boomy kicks', 'booming drums', 'high torque', 'mooing cow sound', 'mellow kick', 'encouraging', 'synchronized trombone melody', 'vintage pop', 'glass shattering sounds', 'female voice singing with backing vocals', 'family gatherings', 'oboist', 'trumpets b', 'laid back', 'camera noise', 'flamenco rhythm guitar', 'lifetime experience', 'electric guitar melody', 'solo oboe melody in background', 'choir ambience synth', 'tinny wide hi hats', 'electronic noises', 'muddled sounds', 'crackling noise', 'distant country rock music', 'animated melody', 'self discovery', 'low kick', 'hit songs', 'slow pop', 'softly arpeggiated harp melody', 'gayageum', 'elctronic music', 'bassline', 'female kids voice', 'trumpets plays', 'amateur guitarist', 'wide harmonizing male vocals', 'blues mood', 'hair-raising', 'room tone', 'digital string section', 'psychotic', 'energetic electric guitar lead', 'repeated refrain', 'bass riff', 'distorted guitars', 'gratitude', 'shimmering hi hats', 'distorted tone', 'praises', 'children speaking', 'korean rock band', 'dulcimer', 'classic rock band', 'background wind noise', 'emotional piano chords', 'korean song', 'groovy strings chords', 'fear', 'vigorous electric guitar lead', 'user busy sound effect', 'repetitive groove', 'strings scratched with plectrum percussions', 'old video recording', 'string composition', 'high pitched male vocal', 'slow tempo', 'distant mellow piano chord progression', 'funny singing', 'futuristic robotic sounds', 'soft white noise', 'wide echoing shimmering hi hats', 'conductors', 'galloping rhythm', 'spanish guitar harmony', 'heavy bass drum rhythm', 'congas beats', 'counterpoint', 'low brass melody', 'cameras clicking', 'clavicembalo', 'low sustained strings', 'strummed strings melody', 'replacing', 'noisy sound', 'repeated vocal phrases', 'pop love song', 'simple kick', 'fast-tempo electronic drums', 'spacey synth arpeggio', 'woman chuckles', 'accordian', 'intense violin harmony', 'steel drum band', 'private video', 'reversed high pitched vocal riser', 'male solo voice singing', 'work ethics', 'mantra', 'operatic', 'chords played', 'rough repetitive male vocal', 'echoing whispering vocal', 'french composition', 'crispy claps', 'didgeridoo drone melody', 'basic', 'ambient/dance', 'arpeggiated filtered melody', 'soft pop', 'unnatural mix', 'synth arpeggios', 'king of pop', 'soft wooden percussions', 'minimal production', 'ambientmusic', 'violent sounds', 'harmonizing male vocals', 'exciting synth riser', 'video soundtrack', 'high pitched bell sound', 'video game soundtrack', 'timeless', 'high-pitched', 'jazz hits', 'stuttering dj scratching sound effect', 'intrigue', 'high pitched whistle tone', 'subdued background song', 'electric guitar demo', 'enthusiastic saxophone', 'dj lessons online', 'tragic', 'tamil music', 'solo instrumentalist', 'indian morning prayer', 'atmospheric arpeggio', 'electronic harmony tones', 'super imposed male voice', 'exhaust', 'synth pop instrumental', 'minor scale played wrong', 'sustained soft strings melody', 'flutter', 'social activism', 'inaudible instruments', 'intricate piano playing', 'vinyl record', 'male backing vocal harmony', 'pop dance', 'trumpets playing percussively', 'reverberant addictive plucked synth melody', 'male voice screaming/rapping', 'bass hit', 'long echoes', 'male backing vocal', 'high pitched sound effect', 'obscene', 'synth trumpet lead', 'dreamy sequence', 'end credits', 'electro/dubstep/pop&lock', 'neurological test patterns', 'whammy bar', 'groovy dance music', 'slow jazz song', 'power drumming', 'cricket chirping', 'folk music influences', 'teen heartthrob', 'car starting', 'reverb guitar', 'lego', 'crunchy electric guitar strumming', 'jazz orchestra', 'tom hit', 'harsh cymbals', 'deep sounding', 'preschool teaching', 'amateur folk music', 'four on the floor kick', 'paying tribute', 'skilled guitarist', 'sad', 'glissando harp melody', 'wide brass section', 'retro classic hits', 'conga', 'strong voice', 'classical composition', 'grinding tool', 'celeste', 'mediocre sound recording', 'keyboard tapping sounds', 'school recital', 'double elcetric bass', 'culture', 'game sound', 'home audio', 'women chanting', 'metallic guitar', 'kids songs', 'summer', 'lower notes', 'spring break dance party', 'synth lead sounds', 'popular songs for children', 'sound fx', 'tinny snare rolls', 'amusing', 'timpani’s', 'eastern tune', 'syncopated bassline', 'sound of throwing objects', 'tollywood music', 'buzzy manic synth bass', 'man yelling sound effect', 'drums playing furiously', 'sound searching', 'heavy bass lines', 'pop instrumental', 'groovy acoustic rhythm guitar melody', 'organ trio', 'loud synth lead melody', 'fretboard sounds', 'somali music', 'mimicking digital drums', 'low pitched voices', 'white christmas', 'music fading out', 'computer music', 'wedding song', 'friction', 'noisy', 'camera shuttering sound effects', 'australian accent', 'mellow vocals', 'dancing with you', 'scream', 'classical song', 'deteriorated audio quality', 'walkthrough video', 'rock orchestra', 'didgeridoo tutorial', 'alpha waves', 'percussive tambourine', 'together always', 'interlude in song', 'cheer', 'catchy melody', 'sustained beeping tone', 'smooth double bass', 'soft crashes', 'indie folk', 'squeaking', 'glitch tones', 'romantic vibes', 'string section harmony', 'harmonizing high pitched female vocal', 'wide piano chords', 'banging', 'wobbly bass', 'fast rock', 'jazz band', 'celestial', 'panic female breathing', 'funky bass', 'happy piano chord progression', 'radio play', 'fully distorted e-guitar', 'country/yodeling', 'vintage country', 'violin playing solo', 'ethereal tones', 'ancient folk music', '\"4 on the floor\" kick pattern', 'traditional strings melody', 'percussion demonstration', 'vigorous mandolin harmony', 'bouncing ball', 'science experiment', 'wide percussive elements', 'disc scratching tones', 'tropical electronic', 'different tone settings', 'inferior quality audio', 'wide tinny percussions', 'arpeggiated echoing synth melody', 'guitar doubles vocal melody', 'sensual female vocalist', 'synth riser sound and lead', 'cuban ska', 'male ethnic vocals', 'standing bass line', 'synthesised vocal riff', 'muted brass melody', 'song beginning', 'amplified guitar', 'crickets chirping', 'hallucinatory', 'confident rapper', 'repetitive percussive synth melody', 'punk pop', 'psychedelic chanting', 'wind machine', 'vigorous instrumentation', 'intense orchestra music', 'youthful retro rock', 'melodic piano', 'marimba song', 'street smart', 'christian classical music', 'complex fast drum beat', 'background music', 'lead male voice', 'sizzling riser', 'fast paced scratching', 'car honking sound effects', 'fuzzy sustained bass', 'evie’s', 'female vocal response', 'uptempo toms rolls', 'high pitched harmonized male vocals', 'neo soul', 'latin pop song', 'thudding sound', 'warmth', 'keybiard accompaniment', 'bavarian folk music', 'tutorial video', 'italian composition', 'sharp male vocals', 'spirited paino', 'syncopated drumset', 'slap-bass', 'kids voice streaming', 'male voice cheering', 'walking march tempo', 'fender rhodes piano', 'camera click noises', 'reverb vocal sample', 'energetic coordination', 'rock/singer-songwriter', 'metallic impact sound effect', 'elecronic music', 'fry scream', 'classical music', 'metallic impacts', 'tech house', 'superimposed vocals', 'the first time', 'dominating vocals', 'conga percussion', 'spanish folk music', 'musical verse', 'children vocals', 'toner sounds', 'glass shattering sound effect', 'guitarist talks', 'digital drums', 'sad vibe', 'latin american music', 'ambient techno', 'mellow piano chord progression', 'victorious music', 'wind blowing sounds', 'timpani playing percussively', 'massive drum roll', 'tuner', 'clamorous', 'screaming josies', 'shimmering chime bell', 'old-school', 'synthesized horns', 'soft reverberant female vocal', 'sneeze', 'aggressive electric guitar melodies', 'choir backing', 'instrumental musical', 'weird pause', 'soft hi hats', 'repetitive male vocals', 'no fixed tempo', 'valentines', 'strings synth', 'trashy', 'wide aggressive distorted electric guitars', 'child performers', 'wide filtered stuttering down sweep sound effect', 'online tutorial', 'traditional percussion instruments', 'funky acoustic rhythm guitar', 'creepy voice samples', 'sense of adventure', 'average quality audio', 'bright piano', 'medium harmony', 'bright drumming', 'catchy', 'optimistic', 'banjos', 'mimicking drum machines', 'metal clanging', 'melodic acoustic guitar', 'wide electric guitar chord progression', 'gospel/blues', 'passionate electric guitar solo melody', 'causal', 'hard metal music', 'sizzling glassy melody', 'electric guitar power chord strumming', 'celebratory dhol', 'dubstep/electronic', 'empowering', 'oud cymbals', 'chime/bell', 'chanting male background vocal', 'new age music', 'no percussions', 'recording noises', 'karaoke', 'claviorgan', 'retro movie soundtrack', 'hmong pop', 'low pitched', 'nylon string acoustic', 'croaky male voice', 'electronic percussion', 'halay', 'colourful', 'circus', 'instrumental playback', 'guiro percussion', 'techno dance song', 'dramatic orchestral score', 'three letter spelling', 'thuds', 'female choral backup', 'inner self', 'female harmonized vocals', 'irish influence', 'laughing track', 'exciting male vocal', 'male voices speaking', 'gentle male vocals', 'frolic', 'accordion sound', 'brassband', 'busker', 'jazz guitar', 'medium-to-high pitch singing', 'christmas night', 'retro jazz classics', 'christian choir', 'filter modulated synth melody', 'holiday feel', 'crackling audio', 'heavy breathing', 'congas rhythm', 'guitar rhythm', 'afro-cuban', 'feedback', 'reggae hits', 'walking bass style', 'funky basslines', 'low frequency deficiency', 'alpine folk music', 'chasing sou dsl', 'sapp', 'orchestral piece', 'children talking', 'punjabi film music', 'electric guitar arp melody', 'roller skate wheel noises', 'bright blues lick', 'softer sound', 'tense background music', 'reverberant impact', 'glam rock', 'grunge low tones', 'grief', 'piano chords progression', 'simmering shaker', 'talented duo', 'pedal bass notes', 'mellow synth keys', 'calming voice', 'rock/ska', 'distorted electric guitar solo melody', 'psy trance', 'three scales', 'wind sound', 'melancholic mood', 'low pitch sound', 'rock and roll bass riffs', 'slang', 'youtube music videos', 'wave your hands', 'foreign language song', 'agressive', 'long sustained vocals', 'happy tinny bells melody', 'birds singing', 'mellow synth keys melody', 'drums lesson', 'wave sounds', 'amateur player', '4 on the floor cowbell pattern', 'waltz time', 'punchy tom', 'traditional drums', 'synth string stabs', 'video sound track', 'party music', 'punchy bass lines', 'reggae tones', 'heavy auto tune', 'best day of my life', 'acoustic live performance', 'chain saw', 'slow beginning', 'sprightly', 'various african percussion', 'wide toms roll', 'twin guitars', 'muddled music', 'subtle drumming', 'musical piece', 'lively drums', 'processed vocoder male vocals', 'ambient street noises', 'mirth', 'emotional song', 'game song cover', 'contrabass', 'male voice sample', 'electric guitar strumming', 'saxophone sample', 'spacey', 'sine wave synth melody', 'punchy kick', 'music documentary', 'man talking', 'sweet', 'no musical composition', 'receptive language', 'keys', 'game room', 'levity', 'bag crumpling sound effect', 'hypnotic synth lead melody', 'calm electric piano', 'romanian pop music', 'myriad of emotions', 'heavy metal song', 'simple theme', 'arabic music', 'birthday celebration', 'sinister keyboard harmony', 'mellow french horn melody', 'scratching noise', 'mellow sustained strings', 'muffled male voice', 'description', 'energy building', 'groovy solo', 'rudiments', 'groovy background bass', 'no accompaniments', 'nobo', 'north indian song', 'advertisement music track', 'vehicle engine sound', 'hindi song', 'funky keys melody', 'woman speaking', 'r&b/rap/hiphop', 'children’s church choir', 'fade out', 'higher key', 'home video quality', 'grand piano', 'pipa accompaniment', 'medium fast', 'electric cello', 'amateur beat boxer', 'bansuri flute', 'jazz paino', 'lute song', 'lead music', 'evil laugh', 'hard 808 bass', 'presents', 'animated yodelling', 'boomy xylophone melody', 'clap sound', 'traditional percussion', 'dirty', 'alto voices', 'mellow wooden percussion', 'recital', 'reverberant metallic sound effect', 'deep bellowing instrument', 'skilful musicians', 'incoherent', 'choral music', 'audio buzz noises', 'screaming female vocal', 'vocables', 'stick trick', 'rituals', 'latin pop music', 'sharp violins', 'church bell', 'italian', 'movie trailer', 'eighties pop style', 'straightforward bass lines', 'foot stomping', 'subtle funky electric guitar melody', 'plucks', 'epic song', 'banging sound', 'repetitive electric guitar melody', 'improvisational music', 'bizarre and creepy atmosphere', 'cello suite', 'classical singing style', 'violin virtuoso', 'acoustic steel guitar melody', 'rhythmic acoustic guitar', 'tape warble', 'indie/alternative', 'bass clarinet melody', 'versatile singing', 'anticipatory', 'steel guitar', 'amateur rock band', 'soul/funk', 'soft shakers', 'hand percussion', 'thumping bass line', 'suspense', 'simple tabla rhythm', 'ambient piano', 'guitarlike instrument', 'traditional chinese flute', 'electric  bass guitar playing', 'chilled song', 'loosely structured music', 'male voices shouting', 'dreamscapes', 'wide arpeggiated synth strings melody', 'dark melody', 'retro dj music', 'high fidelity', 'electric guitar tremolo tones', 'twang sounds', 'crowd laughing', 'atmospheric', 'instrumental cover', 'bright brass melody', 'people enjoying the music', 'historical', 'clean guitar', 'disney movie', 'hawaiian', 'blues guitar licks', 'kazoo', 'shimmering tambourine', 'scottish instrument', 'downtempo', 'sentimental’', 'electronic flute', 'riffs', 'various percussion effects', 'wonders of nature', 'offbeat acoustic rhythm guitar', 'always with you', 'children’s learning', 'youtube video', 'calming piano', 'vocal harmonies', 'subtly strummed acoustic rhythm guitar', 'deep techno house', 'flute/string/brass sound', 'passionate female singer', 'distorted male vocal', 'singer-songwriter/rap', 'bhangara', 'wide male doubling vocals', 'electric guitar chord progression', 'sampled brass', 'female child vocal', 'dj scratching sound effect', 'doom', 'ram’s horn', 'clean tones', 'high pitched male chant', 'echoing electric guitar arpeggiated melody', 'ambient street sounds', 'funny video', 'pitch changing', 'indian percussion instrument', 'slightly poor quality', 'street performance', 'orchestral string harmony', 'piano plays percussively', 'duel', 'male harmonized singing', 'low groovy bass', 'male higher singing voice', 'thumping beats', 'amplified', 'motivational song', 'chirpy', 'inferior sound quality', 'home rap video', 'sneaky', 'comforting song', 'idyllic music', 'religious song', 'happy woodwind instrument', 'trumpet section plays triumphantly', 'wide reverberant percussive elements', 'voice crack', 'rock playback', 'backup singer', 'learning to tune a guitar', 'love sing', 'girl power', 'water leaking sound', 'lesson', 'jazzy drum pattern', 'erotic', 'disco bassline', 'high pitched sounds', 'didgeridoo groovy melody', 'latin inspired', 'noisy traffic sounds', 'japanese folk music', 'breeze', 'international', 'spanish rock', 'boomy sound', 'higher register singing voice upbeat', 'christmas classics', 'toms percussions', 'sombre piano playing', 'cinematic experience', 'instrumental musical song fading', 'sound of horn', 'sacrifice', 'light-hearted', 'saxophone lessons online', 'hard hitting drumming', 'male singer', 'funky background vocals', 'chimes lute', 'piano arpeggios', 'elctro pop', 'drum beat', 'mystic vibe', 'whirring', 'synth rock', 'evolving synth pads', 'retro christian songs', 'tamil movie soundtrack', 'narrating', 'soulful female vocal', 'solo guitar', 'elctronic arangement', 'latin love hits', 'hip hop', 'serious business', 'half step bend', 'habban', 'sizzling triangle', 'country movie', 'bengali', 'keyboard synth tones', 'dotted bass rhythm', 'modern techno hits', 'mixed choir', 'mysterious', 'two didgeridoos', 'oriental/carnatic/vocal', 'cymbal rides', 'simple drum beat', 'metal band', 'acoustic drum', 'harmonizing girls vocals', 'groovy keys', 'electronic instrumental', 'erhu', 'synth wave', 'guitar amplifier tone', 'youtube funny videos', 'self healing', 'multiple female singers', 'excellent audio quality', 'ancient', 'brass band section', 'energetic passionate', 'medium/uptempo', 'metallic object sound effect', 'indian instrument', 'instructional audio', 'male voiceover', 'technically challenging', 'r&b/pop', 'relaxing playlist', 'violent tv show', 'chime', 'heartbeat low tom hits', 'home music video', 'trailer song', 'celebration', 'wide background harmonizing vocals', 'retro pop music', 'clapping sound', 'low toms', 'eloquent vocals', 'high pitched flute', 'catholic salutation', 'dj', 'holiday song', 'electronic guitar lead', 'classic latin songs', 'high strung', 'echoing effects', 'ukulele playing rhythm', 'disorganized', 'waltz beat', 'sound of person running in boots', 'french opera', 'accordion players', 'vocal backup', 'sloppy drums', 'thundering sounds', 'melancholic male vocal', 'hollow piano melody', 'modern folk rock', 'brass section progression', 'fireball sounds', 'strings section melody', 'grasslands', 'wedding', 'driving beat', 'flirty mood', 'classic bollywood hits', 'pigs oink sound effects', 'boomy hip hop song', 'volume ducking', 'rhythmic chatter', 'innocent', 'folklore backroundmusic', 'mantra meditation', 'medium drumming rhythm', 'shaman music', 'synth pad section', 'reverb pedal effect', 'stress relief', 'trance party', 'footsteps on wood', 'tambourine backing', 'indian classical music', 'shoe tapping', 'sound of switches', 'brass/string section', 'jive', 'recurring vocal riff', 'synth bassline', 'wild life documentary soundtrack', 'pop love hits', 'background sfx', 'indian percussion', 'sampled drums', 'spirited exciting', 'male voice superimposed over song', 'animated movie', 'kids talking', 'christian choral backing vocals', 'repeated line', 'latin male singers', 'monster noises', 'brush sound', 'clean electric guitar chords', 'bleating goat sound effect', 'groovy percussive elements', 'techno pop music', 'tibetan singing bowl', 'timid boy voice', 'french song', 'game time', 'black gospel influences', 'programmed percussion', 'doorsteps', 'emotional punchy bass line', 'fast paced', 'outdoor musc', 'french horn harmony', 'fast guitar strumming', 'french pop', 'instrumental ensemble', 'video game sounds', 'rock hits', 'tap dancing percussion', 'pulsating synth riser', 'traditional instruments', 'soulful vocals', 'garbled tones', 'dissonant harmonies', 'hynoptic', 'middle-eastern feel', 'guitar string plonk', 'patriotic song', 'muffled punchy snare', 'lute family', 'motown song', 'skateboard wheel noise', 'ice cream truck', 'euro pop hits', 'romantic melody', 'water leaking sound effect', 'loud wind sound effects', 'forever classics', 'sprightly acoustic guitar', 'steady beat', 'popular song', 'spirited drumming', 'hindu devotion music', 'def', 'amplified xylophone', 'am', 'low quality', 'carousel music', 'oriental song', 'mid-tempo', 'hurried', 'guitar practice routine', 'electric guitar rhythm', 'darbuka', 'enigmatic', 'new age song', 'poprock', 'suspenseful violin melody', 'droning music', 'random percussion', 'space ship sounds', 'short drums roll', 'paino accompaniment', 'sizzling synths', 'irish folk style song', 'joyful energy', '8 bit', 'reggeaton', 'electronic/rock', \"child's voice\", 'high pitch melody', 'fuzzy bass', 'background sounds super imposed by music', 'loud off beat hi-hat', 'boogie woogie piano', 'lively tabla rhythm', 'bells ringing', 'acoustic sitar chord progression', 'turkish pop/dancemusic', 'raspy rap vocal', 'retro game theme', 'loud horn plays', 'gets adventure', 'whistle', 'tv static sound', 'melancholic vibe', 'saw wave pad sounds', 'bass guitar effects', 'clicking', 'blues dance music', 'non-tertiary harmonies', 'human sounds', 'toy review', 'foreign language introduction', 'bouncy drum rhythm', 'bass song', 'breaking plastic sound effect', 'backup singers vocal harmony', 'happy birthday song', 'door knocking', 'acoustic jazz piano sample', 'fast percussion', 'mashak instrument', 'high pitched sustained tone', 'funky blues acoustic guitar melody', 'arpeggiated harp melody', 'having fun', 'latin style percussion', 'riser sound effect', 'rich and famous', 'tinny tap sound', 'wah pedal effect', 'staccato brass section', 'loud impact', 'no drums', 'male hispanic vocal group', 'violin ensemble melody', 'organ playing chords', 'airy strings', 'backing song', 'funny', 'lively trumpet', 'warm sounding guitar tone', 'hard rock', 'growling noises', 'fingerstyle acoustic guitar', 'full of cheer', 'slow', 'voices cheering', 'melancholic cello', 'man shouting', 'resolution', 'folk singer', 'heavy bass drops', 'old tv show', 'effects on voices', 'scottish bagpipes', 'doira', 'positive cheerful', 'product review', 'chaotic', 'guzheng harmony', 'stringed instrument', 'powerful percussion', 'electronic instrumentation', 'filter modulated acid synth bass', 'female opera vocal', 'star wars theme', 'low quality amateur recording', 'rhythm guitars', 'dolphin sounds', 'steeldrum-orchestra', 'arabic superstar', 'echoing pulsating synth lead melody', 'christmas greeting', 'wine glasses', 'murder mystery', 'subdued background music', 'rapid drum beat', 'woman talks', 'rhythmic beat', 'bowed violin', 'pedal steel guitar solo', 'arabic percussion instruments', 'aerophone', 'victory', 'traditional percussion rhythm', 'disco pop', 'star wars', 'synth pad', 'pulsating buzzy bass', 'children electronic toys', 'static tv sound effect', 'christmas concert', 'soul/r&b/gospel', 'no other instrumentation', 'techno drumming music', 'bright trumpet', 'fascinating animal sounds', 'imploring', 'traditional middle eastern music', 'minimal techno', 'mind games', 'snare drums', 'rebellious nature', 'people shouting', 'syncopated vocals', 'loud electric guitar', 'wide passionate harmonizing male vocals', 'at', 'no contact instrument', 'wireless doorbell sound', 'freestyle dance', 'learning for kids', 'rocket launcher firing', 'quirky sounds from the crowd', 'rapid trumpet motif', 'sensual music', 'steps', 'theatrical piece', 'forest ambient sounds', 'churchbell', 'scraping', 'sound of bubbling', 'arpeggiated echoing synth lead', 'reggae hip hops music', 'monster roaring', 'sharp electronic clap', 'hobbyist', 'whales singing', 'lively trumpets', 'hindi language', 'sensual', 'hard rock music', 'nylon string guitar', 'exotic marimba melody', 'male voice singing in higher pitch', 'traditional/folkmusic', '2010s r&b', 'wide stuttering synth melody', 'acoustic rhythm guitar chords progression', 'resounding sound', 'dance music', 'bright brass instruments', 'stringed instrument harmony', 'no words', 'jazzy funk', 'chamber instrument', 'winds section', 'song covers', 'discotheque', 'piano/opera', 'passionate emotion', 'musical glasses', 'arpeggiated mellow piano melody', 'groovy repetitive bass guitar', 'music for small kids and babies', 'mellow piano chords', 'classical ensemble', 'horn blowing', 'hydraulophone melody', 'arabesque', 'groovy bass lines', 'rap singer', 'dance club', 'scratching disc tones', 'distant brass melody', 'outro', 'british hip-hop music', 'harpsichord song', 'guitar bass line', 'american dance', 'strong abs slime', 'synth drones', 'intense electric guitar feedback', 'relaxing melody', 'weird', 'arpeggiated acoustic guitar', 'swishing sound', 'blues guitar tutorial', 'wide harmonizing bakcground vocals', 'fanfare and pomp', 'teen spirit', 'distant sounding voice', 'fading out', 'arab pop', 'synth string pads', 'sound of galloping horse', 'intricate basseline', 'simple youthful pop drum beat', 'vocal manipulation', 'dj introduction video', 'arabic folk singer', 'background', 'simple pop drum beat', 'rock', 'tango', 'music for aristocracy', 'jazz chord progression', 'sustained organ keys chord', 'electronic arrangements', 'christmas carol', 'easy', 'higher mid-register', 'downward bend', 'male voice rapping fast', 'solemn', 'manically arpeggiated steel guitar', 'exciting background male vocal', 'tranquility', 'bellows-blown bagpipe', 'learning is fun', 'asian/traditional', 'keyboard rhythm', 'euphonious', 'western india instrument', 'cheerful male pop vocal', 'body percussions', 'plucked arpeggiated zheng melody', 'bagpipe ensemble', 'mind stimulating', 'drumroll', 'perfectly synced', 'strumming guitars', 'synth pad drone', 'south asian music', 'string synth harmony', 'broken', 'synth pad swell', 'groovy 808 bass', 'dragon quest', 'background orchestral music', 'bow', 'spooky sounds', 'royal', 'girl metal band', 'humming', 'electric guitar licks', 'dynamic bass guitar', 'hall reverb', 'creepy atmosphere', 'orchestral elements', 'banjo playing', 'harpsichord player', 'scientific', 'blues licks', 'bass guitar technique', 'percussion hits', 't-pop', 'airy raspy male vocal', 'amateur play', 'cello playing', 'synthesizer arpeggios', 'latin', 'high gain noise', 'siren sound', 'audience singing along', 'contemporary indian pop', 'hot signal', 'fresh', 'addictive synth keys melody', 'children’s show soundtrack', 'classic county hits', 'muffled tuba melody', 'hindi hits', 'clicks', 'cheerful sound', 'repetitive synth hits', 'noises', 'synth lead melody', 'jeepers creeps', 'electronic drum beat', 'spirited string arrangement', 'blues notes', 'master class', 'fanfare', 'whistle harmony', 'movie music', 'music concert', 'synthesized electronic tones', 'intimidating', 'reverb electric guitar solo', 'ghazal', 'woodblock', 'wide choir', 'addictive electric guitar melody', 'huge orchestra drums', 'people screaming', 'people singing', 'conversation between two people', 'funky snare drumming', 'gospel hits', 'old school music', 'distant trumpet melody', 'energetic dholak', 'playing alone', 'descant', 'brass section melody', 'fast techno', 'lead', 'harmonized mixed vocal', 'embedded pickups', 'funky electric  guitar riff', 'beatiful', 'metallic buzzing', 'sustained electric guitar melody', 'contra alto clarinet', 'male and female conversation', 'dancers', \"90's hip hop\", 'very poor recording quality', 'flanger unit', 'groovy orchestra percussions', 'klick sound', 'wind ensemble accompaniment', 'electro rap', 'male talking', 'metronome', 'thudding', 'trance super hits', 'banjo players', 'happy mood song', 'rehearsal session', 'average music quality', 'lively piano', 'hip-hop', 'horns playing to a crescendo', 'animation', 'silky male baritone vocal', 'journey in to the unknown', 'rhythm & blues', 'loud brass section melody', 'harmonica tones', 'techno dance pop', 'zhongshan', 'metallic sound', 'oman screaming', 'festive spirit', 'repetitive modulate synth bass melody', 'indian wind instrument', 'game tune cover', 'videogame sound', 'electronic arrangement', 'organ note arpeggio', 'drink', 'stringed instrument accompaniment', 'christmas ade nature', 'famous song', 'icelandic lullaby', 'gospel', 'altered voice', 'shimmering snare', 'repetitive synth bass', 'metal being dragged', 'electric guitar slide', 'offbeat hi hats', 'crowd yelling sound effect', 'kurdish folk', 'sounds', 'ice break', 'violins playing sadly', 'low cello melody', 'energetic muffled crash cymbals', 'over produced', 'double reed instruments', 'vibrant piano playing', 'synth sound effects', 'techno dance music', 'crackling male vocals', 'double bass slap', '80s feel', 'intricate electric guitar solo', 'tremolo electric guitar chord', 'merrily singing', 'weird mouth noises', 'advertisement jingle', 'electronic bagpipe', 'battle ground', 'passionate singing', 'storm', 'groovy cajon percussion', 'synth arrangements', 'varying tempos', 'mellow keys chords', 'fast notes', 'monotonous', 'groovy piano chord progression', 'chanting sutras', 'clean electric guitar chord progression', 'goat sound', 'string bass', 'old world charm', 'instrument tutorial', 'spooky', 'guitar pedal chorus effect', 'blasts', 'tailpiece', 'nature documentary soundtrack', 'riser', 'jazz ballad', 'two tracks playing', 'victorious feel', 'ambient mixes', 'glitchy', 'collapsing', 'carnatic song', 'mysterious bell tones', 'flamboyant singing', 'twang', 'electronic xylophone melody', 'randomness', 'skateboard sound effects', 'cinematic', 'addictive piano melody', 'repetitive echoing bells', 'autotune', 'guitar solo artist', 'guzheng', 'english tutorials', 'string pad', 'psytrance', 'synthesiser arrangement', 'grim', 'bravado', 'free spirit', 'gallopping guitar', 'strong bass drum kicks', 'droning rhythm', 'marching percussion', 'mellow strings melody', 'rock guitarist', 'raspy male rap vocal', 'water', 'south indian classical music', 'incessant beats', 'simple production', 'energetic drumming rhythm', 'low pitched vocal effect', 'chipmunk vocals', 'screaming male vocal', 'male exciting screams', 'ending song', 'nigerian music', 'groovy digital rhythm', 'aggressive strumming', 'christmas adventure', 'synthesiser tutorial', 'home videos', 'wide sustained synth pad', 'corporate music', 'digital drum beats', 'flirting mood', 'reflecting', 'c shaped instrument', 'rat squealing sound', 'happy birthday tune', 'country feel', 'indian style percussion', 'entertaining', 'objects falling', 'serene', 'low-to-medium singing', 'childish crying', 'not pleasing', 'slow burn', 'euro pop', 'skateboarding sound effects', 'amplified guitar harmony', 'upbeat trumpet peace', 'e erotic', 'medium-fast tempo', 'tinny wooden sounds', 'thin kick', 'background laughter sounds', 'funny synth lead', 'repetitive suspenseful woodwinds', 'austria', 'discordant vocal tones', 'busking percussion', 'organist', 'happy cheerful positive', 'bedouin tribes', 'childish female vocal', 'fat bass guitar', 'flutes', 'thunder storm', 'resonator guitar', 'keyboard arrangements', 'distant traffic', 'low frequency sputter', 'intense music', 'heavily compressed drum samples', 'celticmusic', 'hissing ambient sound', 'charged up', 'groovy snare', 'blue notes', 'potent', 'scratching sound effects', 'demonstration', 'feedback noise', 'solo instrument', 'vocal emphasisengaging', 'rap hits', 'imbalanced', 'defiant', 'pulse', 'sensitive', 'strong sound', 'plification', 'spinning discs', 'yearned music', 'fret slide', 'chorus electric guitar', 'slow blues', 'groovy drumming', 'slowing down', 'baritone', 'water dripping/flowing', 'guitar harmonics', 'deteriorated music', 'epic rock', 'soap opera soundtrack', 'synth pad sounds', 'scratching', 'atmospherical/meditative', 'ponderous', 'break the tension', 'playful accordion harmony', 'complex rhythms', 'instructive speaking', 'distortion effect', 'audio pop', 'boring', 'resonating bowl', 'computer sounds', 'anime tv show tune', 'raspy male voice', 'arpeggiated electric guitar', 'vintage hits', 'music practice', 'lively trumpet harmony', 'background girls screaming', 'snare roll', 'live show', 'male voices singing', 'nails', 'velcro', 'elegy', 'alarm sound', 'coughing', 'voice whispering', 'harp plays', 'animated instrumentation', 'tom rolls', 'composer', 'grungy electric guitar strumming', 'dveep tones', 'acoustic guitar rhythm', 'synthesised arrangements', 'intense electric guitar', 'plucked melody', 'lively tambourine beats', 'simple piano chord progression', 'hissing tones', 'creating fear', 'creating tension', 'virtuosos playing', 'south american folk music', 'suspense music', 'background whispering', 'snare plays percussively', 'bass drum pedal', 'tropical vibes', 'castanets', 'pumping drums', 'tambourine/shaker', 'dubstep music', 'shaker', 'syncopated rimshots', 'instructional song', 'shofar tone', 'suspenseful song', 'improvised percussions', 'medium', 'soft bells melody', 'modern r&b', 'dread', 'high gain', 'no voice', 'theme of impending danger', 'amp', 'two chord song', 'coke studio', 'soothing song', 'music tutorial', 'blues lick', 'electronic wave sounds', 'low trumpet-like synth', 'fast percussion rhyme', 'shofar music', 'gurtural vocals', 'anime show', 'enthusiastic cello', 'blasting sounds', 'techno/singer-songwriter', 'major key', 'korean pop', 'punch bass line', 'tinny metallic percussive elements', 'steel pan music', 'heavy bass', 'horn siren sound', 'dinosaur', 'alternative metal', 'claves', 'boomy drumming', 'teens screaming', 'ethnic instruments', 'r&b music influences', 'funk/r&b/jazz', 'skilled', 'echoing pitch bend riser', 'string section crescendo', 'spirited passionate', 'punchy guitar rhythm', 'darl', 'smooth trombone', 'harmonizing throaty male vocal', 'groovy synth keys', 'steady drums', 'flutes playing', 'drum brush hits', 'heartbeat', 'christmasmusic', 'youtube', 'vintage metal', 'string percussion hits', 'belly dance', 'acoustic rock', 'repetitive didgeridoo melody', 'banjo melody', 'mystical', 'ethereal sound', 'digital drum imitation', 'baby home video', 'lively viloin', 'acoustic guitar arpeggio', 'shekere', 'didgeridoo lesson', 'low pitch percussive sound', 'comedic sound effects', 'tenor sax', 'crumbling sounds', 'elanchoilic', 'sharp industrial hihat', 'loud upright bass', 'booming kick', 'festivals', 'instrumental all music', 'didgeridoo solo', 'studio live sessions', 'big synthesizer pads', 'exercise', 'medium-to-high pitch pad', 'emotional passionate', 'gear showcase', 'supercar documentary soundtrack', 'uptempo hi hat triplets', 'arabic pop hits', 'lead sounds', 'sea waves', 'frequency sweep riser', 'electro music', 'sound of music', 'string drumming rhythm', 'raaga music', 'noisy snare hit', 'deliberate syncopation', 'clap', 'didgeridoo suspenseful tone', 'backing vocals', 'chord melody', 'off-tune notes', 'jarring tones', 'filtered sustained synth bass', 'baby crying incessantly', 'bubbles', 'animal-like', 'dexterity', 'pantomime', 'descending bassline', 'water splashing noise', 'bleak', 'silent practice', 'wide sustained strings melody', 'paraguayan harp', 'cello counter melody', 'celebratory', 'resonating shofar melody', 'swing pattern', 'buzzy sounds', 'latin/bossanova', 'melodeon', 'contemplative', 'clarinet song', 'sound testing', 'wintertime', 'child male voice', 'german language', 'video games', 'regimented rhythm', 'groovy drums', 'male backup singer', 'romantic piano accompaniment', 'feet scuttling', 'piano acc', 'fearsome atmosphere', 'death industrial', 'hiphop/souls', 'swing genre', 'offbeat acoustic rhythm guitar chords', 'sharp notes', 'microphone boomy feedback', 'guitar like instrumental', 'repetitive flute licks', 'exploding', 'exhale', 'fooling around', 'aggressive electric guitar chords progression', 'swiss folk music', 'ambient auditorium sounds', 'male choir sample', 'male screaming', 'slow dance music', 'vivid', 'traditional middle eastern percussion', 'big', 'steel pan playing melody', 'flugelhorn', 'speech', 'high register', 'music backing', 'blues progression', 'traditional wind instruments', 'pop-rock', 'xylophonist', 'simple percussion pattern', 'cheerful comforting', 'lounge vibes', 'strumpets', 'mellow flute melody', 'medium-to-high pitch male vocal', 'african tribal music', 'violin', 'static sound', 'chinese big drums', 'electric guitars melodies', 'calm female vocal', 'crowds cheering', 'healing music', 'resonating bells', 'intimate female vocal', 'tense playing', 'vacuum sounds', 'classical indian music', 'dimuendo', 'electronic dance', 'traditions', 'soft melody', 'instrumental song', 'low quality recording', 'saxophone solo', \"children's voice\", 'plastic tapping sound effect', 'beautiful melody', 'muffled rock music', 'horn section', 'loud voice', 'e-guitars', 'alarm beeping', 'active learning', 'alternate picking', 'prayerful', 'annoying sounds', 'children’s songs', 'screeching', 'muffled pop song', 'realisation', 'recorder player', 'folklore/country', 'memdiumm tempo', 'fireworks', 'arabic electronic music', 'sensuous', 'groovy trombone', 'baby shaker toy', 'speech like singing', 'retro jazz', 'mellow sustained brass melody', 'vintage indian music', 'female voices singing', 'bending note', 'solid drum play', 'christian praise hits', 'uninteresting', 'orchestra vibes', 'grim cello', 'loud guitar feedback', 'live recording', 'wide soft dark synth pad', 'shimmering triangle', 'groovy acoustic guitar accompaniment', 'short snare rolls', 'groovy cowbell', 'yodeling/folk', 'country/folkrock', 'very high key', 'keyboard organ accompaniment', 'indian instruments', 'harmonizing', 'experiment', 'high pitched singing', 'orchestra piece', 'chilling', 'retro ad', 'home production', 'dissonant vocal harmony', 'acoustic ensemble', 'soul singers', 'maracas playing percussively', 'simple bluesy drum beat', 'game music', 'repetitive bass guitar', 'digital drum sounds', 'muffled recording', 'lively sitar', 'gong', 'melancholic feel', 'breathing sounds', 'arpeggiated electric guitar melody', 'muddled recording', 'folk/country', 'steady drumming', 'female and male yodeling', 'bandolero music', 'laotian classical music', 'fast drumming rhythm', 'popular music', 'amateur band', 'guider sound of breeze', 'reverberant rimshot', 'jazzmusic', 'passionately', 'synth bell melody', 'busy work day', 'ambiance', 'dramatic singing', 'b ackground noises', 'traditional pop', 'appealing female vocals', 'wind sound effects', 'propulsive beats', 'medium-pitch singing', 'lurching', 'guitar fill', 'oud instrument', 'boomy bass', 'brass band harmony', 'child-like vocal', 'ambient music', 'supporting instrument', 'semi-acoustic guitar', 'sound of viola', 'noise threshold', 'aggressive song', 'ukelele tuning tutorial', 'low pitched harmonica', 'telugu comedy show', 'synth pad/drone', 'ticking clock percussions', 'environment', 'idiosyncratic', 'children’s song', 'breakbeat', 'big stage', 'high pitched notes', 'transposed instruments', 'rap', 'bells percussion tones', 'exstatic', 'trance/techno', 'percussive snare sound', 'bitter', 'timpani percussions', 'soldiers marching', 'high pitched whine', 'walking bass guitar', 'orchestra music', 'musicians diary', 'pop cover', 'vibraslap', 'percussion sound effects', 'mic feedback', 'violins melody', 'club track 16th note hi-hat', 'echo chamber', 'song ending', 'thunderstruck sound effect', 'chant', 'perfect sync', 'afghan music', 'digital noise', 'hypnotizing', 'soft sounding', 'bubblegum pop', 'holiday fun', 'heart break', 'delay vocal', 'urban pop', 'simple lyrics', 'victory chant', 'medieval music', 'no instrumentation', 'shoes', 'studio', 'sampled piano', 'percussive music bells', 'superimposed sounds', 'rock&roll/funk', 'rock drumming rhythm', 'life is tough', 'mellow and gentle female vocal', 'ethereal female vocal performance', 'glockenspiel song', 'no other instruments', 'male guitar teacher', 'retro electronica', 'groovy synth keys chord progression', 'latin dance band', 'wild life', 'chattering', 'house/techno', 'scientific music study', 'bollywood hits', 'funny video soundtrack', 'polyrhythms', 'soldiers match', 'street music', 'echoing tom', 'metal drumming', 'background cheering', 'smooth organ keys melody', 'background laughter', 'simple acoustic guitar chords', 'offbeat shimmering open hats', 'main road', 'crime', 'motown', 'slow-medium tempo', 'zurna', 'muffled shouting sound effect', 'beseeching', 'baptist choir', 'beeping sounds', 'gentle playing', 'tropical paradise', 'victorious mood', 'chatter of people', 'alternative/indi', 'noir fantasy', 'delicate', 'piano sound', 'italian folk music', 'vocal octaves', 'jazz tone', 'pulsating synth chords', 'violin playing countermelody', 'vocabulary expansion', 'wood wind', 'tribal song', 'digital flute sounds', 'exotic piano melody', 'snare played with brushes', 'female voice singing in higher register', 'cartoon theme', 'low', 'acoustic jazz drums', 'uplifting energy', 'bhangara beats', 'slow jazz ensemble', 'famous guitarist', 'instrumental rock', 'daw setup', 'child singer', 'tubular bells', 'reverberant trumpet melody', 'repetitive excited male vocal', 'animated sounds', 'irritated voice', 'childish lyrics', 'dissonant music', 'slick percussive rhythm', 'bassoon scale melody', 'diy tutorial music track', 'energetic female vocal', 'high pitch sound', 'amateur drumming', 'walking on concrete sound', 'mario theme', 'boisterous unrelated', 'female background harmonies', 'synthesizer beeping sounds', 'auxiliary percussions', 'chiming sounds', 'funky bass guitar', 'steady bassline', 'folk harmonies', 'vociferous', 'acoustic drum sample', 'acoustic/digital drums', 'pochette', 'phaser effect', 'analog sounding', 'blues/rock', 'background processed male vocal', 'flute song', 'synthetic vocal harmony', 'sound of objects striking each other', 'background-voices', 'synth string backing', 'oboe', 'bengali hits', 'fast guitar strums', 'amateur video', 'incoherent audio', 'slightly slow tempo', 'shofar repetitive melody', 'tense environment', 'male voice talking', 'cool melody', 'bassmarimba', 'high in adrenaline', 'regional pop', 'accompanying music', 'vigorous banjo', 'low-fidelity recording', 'doomsday', 'tire screeching sound effect', 'aggressive tones', 'battle song', 'live session', 'saxophones harmony', 'funny video music track', 'rap vocals', 'crashing', 'noise ambient sounds', 'turkish baglama', 'timpani playing', 'choral harmony', 'good old times', 'kids singing', 'hip hop/rap', 'bali', 'retro video game sound', 'hindu mythology', 'horrifying', 'electronic techniques', 'marching', 'snaps', 'crisp electronic drums', 'angry voice', 'revelation', 'big band', 'digital percussion sounds', 'allegro', 'introspective', 'sample', 'drum solo', 'filtered female vocal', 'dj scratching vinyl', 'tv spot', 'unfamiliar', 'counterculture', 'reverberant yodel male vocal', 'fun learning', 'subtle drum play', 'mice sounds effects', 'wanderlust', 'chopped vocal sample', 'electronic sound effects', 'romanian rap', 'oboe melody', 'disco song', 'extreme', 'shofar horn', 'grunting sounds', 'amplified guitar playing in rhythm', 'dolphin-like sounds', 'poignant music', 'echoes', 'chord arpeggios', 'mezzo', 'reciting pain', 'medium-pitched synth', 'metal cupboard banging sounds', 'aggressive tom rolls', 'carrie an music', 'vibrant brass melody', 'indian god', 'whistle tones', 'electro/rock', 'arabic wind instrument', 'melodic spanish guitar', 'gunshots sound effects', 'synced harmonies', 'trills', 'harmonizing vocals melody', 'female soul voice', 'piano playing lead', 'classic rock music', 'six stringed guitar', 'vintage pop song', 'no percusion', 'live singer', 'reindeers', 'humour', 'repetitive plucked synth melody', 'large room reverb', 'earthy', 'squeaky sound', 'portugal', 'lower octave', 'hawaiian luau music', 'loud siren like sound', 'building anticipation', 'synth-pop', 'train passing', 'wide electric guitars', 'pluck sound', 'western classical masterpieces', 'comically happy', 'music box bells melody', 'glitch', 'country-progrock', 'bowed string bass', 'energetic acoustic guitar', 'child talking', 'friends get together', 'choral harmonybright trumpet harmony', 'brutal singing', 'rising tension', 'scare as of agony', 'supernatural', 'saxophone lead', 'story-telling', 'besame mucho', 'banjo player', 'female vocal harmony', 'irish bouzouki guitark', 'throbbing', 'aggressive male voice', 'christian praise songs', 'acoustic sounding drums', 'repetitive arpeggiated synth lead', 'movie', 'wolves attacking', 'mellow acoustic guitar', 'hardstyle', 'oriental sounding string instrument', 'sax cover', 'flow', 'perseverance', 'fast melody', 'audience sounds', 'swung hi-hat', 'short strings melody', 'congregational', 'hip hops love song', 'shimmering bells', 'empahtic vocals', 'soft electric guitar', 'wide synth pad melody', 'syncopated rhythm', 'funk rock', 'wide harmonizing low male vocals', 'alarm clock beeping', 'male voice speaking', 'kickdrum', 'clean picked electric guitar', 'caribbean rhythm', 'children’s toy music', 'japanese jazz', 'fire sounds', 'repetitive synth lead melody', 'ukrainian song', 'delicate piano', 'horrorifying', 'mellow background music', 'funky wide electric guitar', 'reggae fusion', 'male child voices', 'retro rock covers', 'asian pop hits', 'sounds of footsteps', 'explosive', 'pedal tapping noise', 'deep bass', 'classic song', 'fluctuating', 'muted vocals', 'burly male vocal', 'male mid range singer', 'background cheering and clapping', 'ukulele music', 'groovy church organ melody', 'complex chords', 'french horn song', 'duo', 'indie', 'sound of laughter', 'suoerfats drumming rhythm', 'water dropping', 'high melody', 'critical', 'low tempo', 'low wide suspenseful pad', 'building tension', 'harmonica lesson', 'pop/country', 'spirited enthusiastic', 'soprano singers', '2 separate songs', 'passionate male singer', 'techno dance rhythm', 'guitarist', 'wide electric guitar arpeggiated melody', 'aggressive synth lead melody', 'atmospheric pad synth', 'accordion chords', 'meaningless words', 'versatile', 'offbeat wide electric guitar chords', 'tinny audio pop', 'sound frequency', 'non musical', 'cartoon sounds', 'sustained cello melody', 'inferior audio quality', 'french language', 'random', 'energetic drums', 'catchy rhythm', 'movie theme', 'subtle medium tempo', 'whining', 'guitar strums gently', 'shimmering tinny bells melody', 'extremely rapid guitar rhythm', 'oriental/ballad', 'addictive strings melody', 'video camera recording', 'conductor', 'game mode select sounds', 'harp sound', 'devotional singing', 'full bodied', 'autotuned male vocal', 'documentary  video soundtrack', 'cheesy organ', 'rock super-hits', 'qin', 'soft keyboard harmony', 'rapid change in pitch', 'subtle trumpets', 'strings sounds', 'royal feel', 'riveting', 'humming sound effects', 'acoustic strings melody', 'splashing sounds', 'synthesizer brass', 'steady drumming line', 'guitar licks', 'mellifluent', 'square dancing dance', 'trudging drum rhythm', 'mellow woodwind melody', 'screaming voice', 'electronic instrument', 'male singer backup singers', 'live elector', 'dull', 'sustained string swell', 'techno-like', 'watch and learn', 'quick fingers', 'praise and worship', 'ambulance siren', 'elecronica', 'brass quintet', 'low quality music', 'white noise', 'rap beat', 'singing along', 'dissonant bells chords', 'addictive synth lead', 'chord progression', 'groovy double bass melody', 'bass track', 'strong bass drum hits', 'legendary musicians', 'male voice choir', 'arabic retro hits', 'accident', 'computer-like', 'marching drumming rhythm', 'japanese dialogue', 'shofar sound', 'muffled crowd talking', 'male backing voice', 'the horn', 'punchy kick hit', 'audio crackling', 'male ad libs', 'brass section harmony', 'male backing vocals', 'playing percussively', 'monotone female vocal', 'fiery', 'tremolo effect', 'vigorous introduction', 'synthesised bass', 'organ keys glissando', 'bluesy guitar playing', 'creating solutions', 'ride cymbal', 'man narrating', 'pad', 'jewish instrument', 'choral arrangement', 'filtered synth bass', 'staggered play', 'groovy drumming rhythm', 'electronic instruments', 'electronic sound effect', 'synth hi hat', 'jukebox', 'wide acoustic guitar melody', '4 on the floor kick', 'kids voices talking and singing', 'celtic metal', 'trance', 'latin oercussions', 'designed to scare', 'explosion sounds', 'marching snare', 'intricate bassline', 'retro rock music', 'passionate background male vocal', 'dance rhythm l', 'sonic vibrations', 'jarring string noises', 'twelve bar blues', 'simple jazzy rock drumming', 'aisi an pop', 'vibrant female pop vocal', 'male and female vocals', 'camera shuttering sounds', 'male lead vocal', 'elctronic arrangement', 'wooden foley effects', 'energetic riser', 'beautiful orchestra', 'lively vocals', 'fading', 'salsa genre', 'teenage age angst', 'gambelan bamboo mallets', 'sound of victory', 'soft soothing', 'scary atmosphere', 'melodic church bells impacts', 'children’s movie', 'santeria', 'drone pipes', 'dj performance', 'accordion melody', 'drone pipe', 'backing voices', 'untiring', 'guitar slide', 'muddy kick', 'cowbell accent', 'piano or guitar', 'energetic emo vocalist', 'opera music', 'quick tempo', 'latin/country/folk', 'arpeggiated brass section', 'lively accompaniment music', 'wings flapping', 'reverb pedal effects', 'synth string section harmony', 'audience screaming', 'the good life', 'alien sounds', 'acousitc guitar', 'electronica', 'insistent rhythm', 'rhythmic patter', 'white noise with filter', 'alternative7rock', 'drone sound', 'country rock genre', 'urgency', 'guitars playing in harmony', 'ping pong sound effect', 'funny tv show', 'blues harp', 'happy song', 'chair squeaking', 'cheer chant', 'backups singers', 'powerful vocals', 'gruff male vocalist', 'sitar sample', 'quiet shimmering shaker', 'shout-like singing', 'retro guitar hits', 'adventure of a lifetime', 'clear', 'jumping', 'breathy woodwind melody', 'loud marimba melody', 'dangerous', 'passionate female lead vocal', 'funny male vocal', 'bagpipe group', 'popsong', 'mid-pitched male vocals', 'buoyant auto tune', 'distorted buzzy synth lead', 'experimental electronica', 'repetitive echoing male vocal', 'impactful', 'sacred', 'harmony tones', 'nightcore', 'turkish song', 'poor audio  quality', 'studio performance', 'love video performance', 'electric guitar tutorial', 'electronic effects', 'jazz electric guitar', 'emotional connection', 'gym talk', 'rock and roll', 'chinese lute', 'repetitive acoustic rhythm guitars chord progressions', 'padsounds/drone', 'folktronic', 'glitter sounds', 'animated synthesiser', 'choir sample', 'vocal male monologue', 'alternative rock', 'volume changes', 'pandemonium', 'bass', 'warm', 'bass drone sound', 'cozy', 'male and female singer', 'church organ playing', 'electric guitar melodies', 'cello harmony', 'harmonized male vocals', 'profound atmosphere', 'punchy toms', 'symphonic feel', 'male mid range voice singing', 'music build-up', 'memdium tehsil po', 'banjo playing demonstration', 'oriental dance', 'synth horns playing', 'guttural singing', 'samples', 'kids screaming in joy', 'vibrant trumpet harmony', 'jazz scatting', 'congas', 'middle eastern music influence', 'soft rock ballad', 'shuffled hi hats', 'wide groovy piano melody', 'southern country gospel music', \"women's choir\", 'weird funny repetitive percussion', 'male and female vocal', 'male voice rapping/singing', 'repetitive chant', 'romantic feel', 'simple rock drumming', 'uptempo song', 'forest', 'intricate piano motifs', 'melodious background music', 'semi acoustic mandolin', 'royal entry', 'vibrant electric guitars', 'hitting sound effects', 'ancient lineage instrument', 'unnatural', 'enthusiastic spanish guitar', 'screaming female background vocal', 'increasing speeds', 'breakdown section', 'reverb delay electric guitar', 'sustained bass', 'acordion', 'piano melody', 'electric organ', 'instrumentalist', 'electronic cymbal roll', 'men talking', 'vintage marching bands', 'amp plug', 'unexpected', 'collectors choice', 'latin dance', 'lounge music', 'reggae drums', 'airy', 'funky electric guitar melodies', 'popnrock', 'synth strings melody', 'pentatonic melody', 'tinny percussive elements', 'thin kick hits', 'buzzy harpsichord melody', 'simple bells', 'long note', 'hawaiian instrument', 'acoustic music', 'organ music', 'african beat', 'separate tracks', 'vocal turntablism', 'female background shouts', 'slow country music', 'hollow flute melody', 'freestyle', 'mid to high range', 'pannist', 'muffled song', 'spanish pop', 'alarm ringing', 'sports car engine whirring', 'tribal beat', 'burly raspy male vocal', 'incoherent lyrics', 'guitar tuning tutorial', 'video game sound effect', 'violent background music', 'reverberant high register passionate male vocal', 'southern rock', 'cars', 'string trio', 'muddled vocals', 'huge percussive toms', 'groovy piano', 'frenetic', 'song interlude', 'very high pitch', 'enthusiastic digital drum rhythm', 'piano plays suspenseful', 'techno/hardstyle', 'reggae band', 'sliding sound', 'symphony', 'singing bowl', 'bright female vocals', 'polka', 'spirited spanish guitar', 'vehement', 'repetitive echoing piano melody', 'western classical quartet', 'mellow sounding', 'etherophone', 'song the end', 'trumpets playing', 'tech solutions', 'wolves growling', 'tropical music', 'aggressive mood', 'laser-like synths', 'repeated rhythm', 'broadband noise', 'harmonizing female choir vocals', 'screechy', 'retro latin hits', 'just for laughs', 'dance lessons', 'huge arena', 'timpani’s playing loud', 'eccentric', 'instrumental squid', 'crackly sound', 'electronic  tropes', 'air hissing', 'traffic noise', 'simple drumming style', 'bengali pop song', 'hi hat', 'low male vocal', 'inhale sound', 'funky rhythm', 'latin instrumental music', 'male muffled screaming sound effect', 'harmonica licks', 'mid range', 'floor squeaking sound effect', 'introductory music', 'high pitched sustained string melody', 'overdriven electric guitar lead', 'loud gliding synth bass', 'classic romance', 'latin jazz', 'cascade of notes', 'screeching sound', 'wide toms', 'pop/electro/dubstep', 'sustained didgeridoo melody', 'ornamentation', 'flat female vocal', 'groovy organ keys chords', 'muffled electric guitar riff', 'dense bass lines', 'jazz genre', 'energetic snare hits', 'mellow drums', 'antique guitar', 'resilience', 'country style melody', 'short snare roll', 'cheerful acoustic guitar', 'reversed crash cymbal riser', 'punchy drumming', 'home music studio', 'repetitive plucked synth lick', 'glass friction sounds', 'punk rap', 'repetitive synth chords', 'metal bowls', 'yodelling song', 'latin/folklore/country', 'muffled kick hits', 'crowd voice', 'hip hop inspired drum beat', 'tonal differences', 'folk dubstep', 'acoustic guitar solo melody', 'filter modulation', 'ukulele player', 'pendulum choir', 'breakup song', 'retro love songs', 'coed group chanting', 'country/rock', 'crowd noises', 'harmonized kids vocals', 'sirens', 'dance beat', 'synthpad sounds', 'emotional female vocal', 'double bass harmony', 'electric bas guitar', 'mediocre audio recording', 'quirky voices', 'urdu narration', 'passionate saxophone melody', 'medium-to-high range', 'digital reversed sound', 'electro dub', 'regretful', 'wind instrument harmony', 'deep bass line', 'mystical woodwinds', 'warbled string harmony', 'psychedelic', 'motown feel', 'suspenseful synth pad', 'hindi devotion', 'simple woodwind melody', 'fingerstyle-guitar', 'chattering sounds', 'dissonant tones', 'digital bass sound', 'live perfomrance', 'bagpiper sound', 'crowd cheering/clapping', 'dance like', 'club house', 'pop anthem', 'synth funk', 'music artist', 'addictive', 'jazz piano', \"children's melody\", 'powerful music', 'classic rock influences', 'german', 'energetic male vocalist', 'transition effects', 'no harmony', 'dance', 'electric guitar harmony', 'punchy beats', 'hardrock/punkrock', '6/8 rhythm', 'prideful', 'guitar tap percussion', 'forceful', 'electric guitar solo', 'wide synth chords', 'crunching tones', 'apocalypse', 'punkrock', 'occult rock', 'laid-back singing', 'tabla playing percussively', 'napoletana', 'lively violin', 'zoo', 'catchy riff', 'complaining', 'autotuned background vocal harmonies', 'string melody', 'acordian harmony', 'singer songwriter', 'latin urban', 'melodic piano playing', 'rebellious', 'eloquent piano accompaniment', 'suspenseful synth', 'groovy bas line', 'telephone busy signal', 'scary laugh', 'echo tone', 'home video soundtrack', 'fast oud playing', 'music fade in', 'melodic male vocal', 'soaring harmonies', 'instrumental duet', 'distant music', 'elderly male vocalists', 'high pitched falsetto backing vocals', 'glass breaking sound', 'slow descending glissando', 'generational heritage', 'wide groovy clapping', 'jazz', 'muted trumpet solo', 'diva', 'industrial dance', 'electronic music', 'laitin dance hits', 'surround sound', 'acoustic guitar fingerpicking', 'syncopated synthesizer chords', 'xylophone', 'tuning notes', 'kick focused percussion', 'scratching sound effect', 'roller sakte wheel squeaking tones', 'hollow male vocal', 'animation theme', 'digital sub bass', 'inharmonious', 'samba', 'dreamy melody', 'american  accent', 'energetic music', 'acoustic guitar lead', 'monks', \"percussion's\", 'enthusiastic music', 'cheerful courtship song', 'koboro drums', 'coffee shop music', 'crossover song', 'jingle', 'south indian classical', 'light echoing percussive element', 'learning the fun way', 'giro', 'bell vibrations', 'sustained woodwind melody', 'distorted filtered bass', 'big band orchestra', 'punchy basslines', 'private music video', 'modern love', 'wooden impact', 'foreground-noises', 'rock & roll', 'harmonized ukulele melody', 'distorted guitar', 'singing', 'sweet female vocal', 'country/blues', 'intense organ music', 'aggressive singing', 'burning flame', 'relaxation song', 'profound', 'mellow marimba melody', 'slap technique', 'dangerous journey', 'latin songs', 'adventure sports documentary', 'rocksteady', 'stab bass', 'song tutorial', 'trap', 'bouncy', 'stamp', 'amplified violin', 'synthesised music', 'synthesizer riser', 'trance nights', 'sizzling high pitched synth pad', 'off beat hi-hat', 'pleasant', 'cymbals crashes', 'call response', 'chipmunk effect', 'squishy sound', 'sad soft rock song', 'keyboard fills', 'hi-hats', 'muffled vocals', 'ukele', 'reverberant synth bells melody', 'unity', 'low percussive elements', 'pleasant music', 'purring sound', 'japanese', 'filtered synth melody', 'percussive guitar strumming', 'sound of shooting', 'eternal love', 'electric guitar lick', 'mid-range singing', 'spitting vocals', 'islamic', 'foreboding', 'flute playing poignantly', 'world', 'xylophone family instrument', 'anger', 'expressive vocals', 'soprano string instrument', 'children’s favourite', 'granular', 'video game sound', 'odd meter', 'echoing passionate male vocal', 'extremely strong bass', 'nursery rhyme', 'instructive recording', 'intense bass line', 'arpeggiated synth melody', 'music jam', 'camera snapshot sound effect', 'wooden xylophone', 'coming of age movie', 'soft low tom hits', 'ghosts', 'ragga/drum&bass', 'digital reverb', 'fans going crazy', 'guitar pedal test', 'cumbia beat', 'tortuga martini review', 'bright warm pad synth', 'heavy synthesisation', 'rock&roll/soul', 'android voice', 'child vocalists', 'vinyl', 'sonic delight', 'echoing brass melody', 'amateur recording/pop/acapella', 'dainty', 'funny song', 'male voices singing/rapping', 'home video', 'acoustic song', 'female choir pad', 'dream of you', 'positive feel', 'amateur production', 'background song faded out', 'e emotional', 'strings section', 'composers', 'sunday tv shows', 'modulated vocal samples', 'bad signals', 'edgy', 'dizi', 'progressive rock', 'documentary', 'tibetan music', 'percussion layer', 'noise snare', 'no pulse', 'energetic female vocalist', 'woodwind instruments', 'outdoor sound effects', 'indian clasical', 'cello concerto', 'spirited harmonica lead', 'ambient sounds', 'clanging whirring', 'wide chicken clucking sound effect', 'increasing volume', 'art rock', 'low pitched female singer', 'climactic', 'comedic mood', 'animated interactions', 'delicate music', 'dj maestro', 'no instrument', 'live error', 'melodious violin symphony', 'cool attitude', 'musical notes', 'joyful melody', 'spanish speaking', 'uilleann pipes', 'trumelts playing', 'dreamy feel', 'airplane sound effect', 'glorious', 'rain storm', 'noisy crowd', 'fast-paced', 'ukulele', 'flat double male vocals', 'zen', 'full sounding', 'ukulele chord progression', 'staccato violin', 'harmonizing background vocal', 'irish fiddle sound', 'metallic impact', 'lovely', 'monologue', 'show intro music', 'reverberating', 'arcade game soundtrack', 'resonant filter', 'steady tempo', 'fans going berserk', 'missiles sound', 'clear horn tone', 'too loud', 'soft paino', 'tribal singing', 'mellow dark keys melody', 'rap song', 'repetitive addictive strings melody', 'enthusiastic', 'amateur live recording', 'workout song', 'heart rending', 'banjo riff', 'organ playing', 'sound of birds flying away', 'semi acoustic guitar', 'huffing and puffing', 'wide low synth pad', 'wah', 'german folk song', 'muddy', 'wide staccato female vocal melody', 'together for ever', 'trippy', 'recital hall', 'gasp', 'chaotic atmosphere', 'cosmic journey', 'strummed electric guitar', 'serenity', 'panic situation', 'adrenaline high', 'electro song', 'showcase', 'tube screamer pedal', 'dance party tunes', 'cartoon show', 'tinny percussions', 'latin music percussion', 'bicycle bell sound', 'gritty electric guitar strumming', 'overdriven electric guitar riff', 'screaming male voice', 'acoustic guitar', 'iconic solo', 'instruction song', 'sustained bagpipe melody', 'low frequency humming tone', 'poor sound quality', 'drunk singing', 'big chinese drums', 'goblet drum', 'timbales', 'terrifying', 'street busking', 'song intro', 'solo', 'tinny kick hits', 'indian classical violin', 'electric keys', 'traditional christmas song', 'theatrical singing', 'harmonizing female vocals', 'casual playing', 'love songs', 'electric guitar chords', 'clinking', 'tom roll', 'scraping noises', 'different sounds on cowbell', 'distant drums', 'loud wood block', 'passionate male vocal', 'carnatic violin', 'bright trumpet melody', 'electro/house', 'passionate muddy female vocal', 'mellow brass melody', 'timer ticking', 'auto tuned vocals', 'cembalo', 'snappy claps', 'regal', 'ambient swimming pool sounds', 'electrical waves', 'orchestral hit sound']\n"
          ]
        }
      ],
      "source": [
        "#Creating a list of all the unique tags in the data\n",
        "\n",
        "#the aspect_list col as a list\n",
        "tags_list = meta_df['aspect_list'].to_list()\n",
        "\n",
        "# Flatten the tags_list\n",
        "flat_list = [item for sublist in tags_list for item in sublist]\n",
        "\n",
        "# Remove duplicates\n",
        "tags_list_flat = list(set(flat_list))\n",
        "\n",
        "print(tags_list_flat)"
      ]
    },
    {
      "cell_type": "code",
      "execution_count": 13,
      "metadata": {},
      "outputs": [
        {
          "data": {
            "text/plain": [
              "13219"
            ]
          },
          "execution_count": 13,
          "metadata": {},
          "output_type": "execute_result"
        }
      ],
      "source": [
        "#Number of unique tags\n",
        "len(tags_list_flat)"
      ]
    },
    {
      "cell_type": "code",
      "execution_count": 14,
      "metadata": {},
      "outputs": [
        {
          "data": {
            "text/html": [
              "<div>\n",
              "<style scoped>\n",
              "    .dataframe tbody tr th:only-of-type {\n",
              "        vertical-align: middle;\n",
              "    }\n",
              "\n",
              "    .dataframe tbody tr th {\n",
              "        vertical-align: top;\n",
              "    }\n",
              "\n",
              "    .dataframe thead th {\n",
              "        text-align: right;\n",
              "    }\n",
              "</style>\n",
              "<table border=\"1\" class=\"dataframe\">\n",
              "  <thead>\n",
              "    <tr style=\"text-align: right;\">\n",
              "      <th></th>\n",
              "      <th>Tags</th>\n",
              "      <th>Count</th>\n",
              "    </tr>\n",
              "  </thead>\n",
              "  <tbody>\n",
              "    <tr>\n",
              "      <th>0</th>\n",
              "      <td>low quality</td>\n",
              "      <td>1220</td>\n",
              "    </tr>\n",
              "    <tr>\n",
              "      <th>1</th>\n",
              "      <td>instrumental</td>\n",
              "      <td>908</td>\n",
              "    </tr>\n",
              "    <tr>\n",
              "      <th>2</th>\n",
              "      <td>emotional</td>\n",
              "      <td>636</td>\n",
              "    </tr>\n",
              "    <tr>\n",
              "      <th>3</th>\n",
              "      <td>noisy</td>\n",
              "      <td>628</td>\n",
              "    </tr>\n",
              "    <tr>\n",
              "      <th>4</th>\n",
              "      <td>passionate</td>\n",
              "      <td>610</td>\n",
              "    </tr>\n",
              "    <tr>\n",
              "      <th>...</th>\n",
              "      <td>...</td>\n",
              "      <td>...</td>\n",
              "    </tr>\n",
              "    <tr>\n",
              "      <th>13214</th>\n",
              "      <td>ticking clock percussions</td>\n",
              "      <td>1</td>\n",
              "    </tr>\n",
              "    <tr>\n",
              "      <th>13215</th>\n",
              "      <td>various sound effects</td>\n",
              "      <td>1</td>\n",
              "    </tr>\n",
              "    <tr>\n",
              "      <th>13216</th>\n",
              "      <td>the sringa</td>\n",
              "      <td>1</td>\n",
              "    </tr>\n",
              "    <tr>\n",
              "      <th>13217</th>\n",
              "      <td>indonesian pop</td>\n",
              "      <td>1</td>\n",
              "    </tr>\n",
              "    <tr>\n",
              "      <th>13218</th>\n",
              "      <td>sci-fi movie</td>\n",
              "      <td>1</td>\n",
              "    </tr>\n",
              "  </tbody>\n",
              "</table>\n",
              "<p>13219 rows × 2 columns</p>\n",
              "</div>"
            ],
            "text/plain": [
              "                            Tags  Count\n",
              "0                    low quality   1220\n",
              "1                   instrumental    908\n",
              "2                      emotional    636\n",
              "3                          noisy    628\n",
              "4                     passionate    610\n",
              "...                          ...    ...\n",
              "13214  ticking clock percussions      1\n",
              "13215      various sound effects      1\n",
              "13216                 the sringa      1\n",
              "13217             indonesian pop      1\n",
              "13218               sci-fi movie      1\n",
              "\n",
              "[13219 rows x 2 columns]"
            ]
          },
          "execution_count": 14,
          "metadata": {},
          "output_type": "execute_result"
        }
      ],
      "source": [
        "# Count occurrences of each tag\n",
        "counter = Counter(flat_list)\n",
        "\n",
        "# Convert counter to DataFrame\n",
        "tags_counter = pd.DataFrame(counter.items(), columns=['Tags', 'Count'])\n",
        "tags_counter = tags_counter.sort_values('Count', ascending= False).reset_index(drop = True)\n",
        "\n",
        "tags_counter"
      ]
    },
    {
      "cell_type": "code",
      "execution_count": 15,
      "metadata": {},
      "outputs": [],
      "source": [
        "#Hand select the genrefrom the top 300 tags\n",
        "genre_tags = ['instrumental', 'instrumental music', 'rock', 'pop', 'electronic music', 'dance music', 'classical', 'traditional','orchestra',\n",
        " 'jazz', 'classical music', 'r&b', 'folk', 'electro', 'edm', 'folk music', 'hard rock', 'hip hop', 'hip-hop', 'reggae', 'blues', 'metal', 'pop song',\n",
        " 'heavy metal', 'urban', 'country music', 'electronic dance music', 'techno', 'rap', 'trance', 'folk song', 'pop music', 'soul', 'gospel', 'rock music',\n",
        " 'soft rock', 'synth pop', 'electronic', 'electro pop', 'country', 'western classical music', 'alternative rock']"
      ]
    },
    {
      "cell_type": "markdown",
      "metadata": {},
      "source": [
        "Eventually the genres we would be having are:\n",
        "- instrumental\n",
        "- rock\n",
        "- pop\n",
        "- electronic\n",
        "- classical\n",
        "- folk\n",
        "- hip hop\n",
        "- metal\n",
        "- country\n",
        "- r&b\n",
        "- orchestra\n",
        "- jazz\n",
        "- reggae\n",
        "- blues\n",
        "- gospel\n",
        "- electro pop\n",
        "\n",
        "as of now 16 genres"
      ]
    },
    {
      "cell_type": "code",
      "execution_count": 16,
      "metadata": {},
      "outputs": [],
      "source": [
        "#Creating a dictionary with the similar genres that can be merged\n",
        "same_tags = {'instrumental': ['instrumental', 'instrumental music'], 'rock': ['rock', 'hard rock', 'rock music', 'soft rock', 'alternative rock'],\n",
        "             'pop': ['pop', 'pop song', 'pop music', 'synth pop'], 'electronic': ['electronic music', 'electro', 'edm', 'electronic dance music',\n",
        "             'techno', 'trance', 'electronic'], 'classical': ['classical', 'classical music', 'western classical music', 'traditional'], 'folk': ['folk', \n",
        "             'folk music', 'folk song'], 'hip hop': ['hip hop', 'hip-hop', 'urban', 'rap'], 'metal': ['metal', 'heavy metal'], 'country': \n",
        "             ['country music', 'country'], 'r&b': ['r&b', 'soul']}"
      ]
    },
    {
      "cell_type": "code",
      "execution_count": 17,
      "metadata": {},
      "outputs": [
        {
          "data": {
            "text/html": [
              "<div>\n",
              "<style scoped>\n",
              "    .dataframe tbody tr th:only-of-type {\n",
              "        vertical-align: middle;\n",
              "    }\n",
              "\n",
              "    .dataframe tbody tr th {\n",
              "        vertical-align: top;\n",
              "    }\n",
              "\n",
              "    .dataframe thead th {\n",
              "        text-align: right;\n",
              "    }\n",
              "</style>\n",
              "<table border=\"1\" class=\"dataframe\">\n",
              "  <thead>\n",
              "    <tr style=\"text-align: right;\">\n",
              "      <th></th>\n",
              "      <th>Tags</th>\n",
              "      <th>Count</th>\n",
              "    </tr>\n",
              "  </thead>\n",
              "  <tbody>\n",
              "    <tr>\n",
              "      <th>288</th>\n",
              "      <td>alternative rock</td>\n",
              "      <td>32</td>\n",
              "    </tr>\n",
              "  </tbody>\n",
              "</table>\n",
              "</div>"
            ],
            "text/plain": [
              "                 Tags  Count\n",
              "288  alternative rock     32"
            ]
          },
          "execution_count": 17,
          "metadata": {},
          "output_type": "execute_result"
        }
      ],
      "source": [
        "tags_counter[tags_counter['Tags'] == 'alternative rock']"
      ]
    },
    {
      "cell_type": "code",
      "execution_count": 18,
      "metadata": {},
      "outputs": [
        {
          "name": "stdout",
          "output_type": "stream",
          "text": [
            "The total number of rows with the subset of tags is 3696\n"
          ]
        },
        {
          "data": {
            "text/html": [
              "<div>\n",
              "<style scoped>\n",
              "    .dataframe tbody tr th:only-of-type {\n",
              "        vertical-align: middle;\n",
              "    }\n",
              "\n",
              "    .dataframe tbody tr th {\n",
              "        vertical-align: top;\n",
              "    }\n",
              "\n",
              "    .dataframe thead th {\n",
              "        text-align: right;\n",
              "    }\n",
              "</style>\n",
              "<table border=\"1\" class=\"dataframe\">\n",
              "  <thead>\n",
              "    <tr style=\"text-align: right;\">\n",
              "      <th></th>\n",
              "      <th>Tags</th>\n",
              "      <th>Count</th>\n",
              "    </tr>\n",
              "  </thead>\n",
              "  <tbody>\n",
              "    <tr>\n",
              "      <th>0</th>\n",
              "      <td>instrumental</td>\n",
              "      <td>908</td>\n",
              "    </tr>\n",
              "    <tr>\n",
              "      <th>1</th>\n",
              "      <td>instrumental music</td>\n",
              "      <td>260</td>\n",
              "    </tr>\n",
              "    <tr>\n",
              "      <th>2</th>\n",
              "      <td>rock</td>\n",
              "      <td>207</td>\n",
              "    </tr>\n",
              "    <tr>\n",
              "      <th>3</th>\n",
              "      <td>pop</td>\n",
              "      <td>199</td>\n",
              "    </tr>\n",
              "    <tr>\n",
              "      <th>4</th>\n",
              "      <td>electronic music</td>\n",
              "      <td>134</td>\n",
              "    </tr>\n",
              "  </tbody>\n",
              "</table>\n",
              "</div>"
            ],
            "text/plain": [
              "                 Tags  Count\n",
              "0        instrumental    908\n",
              "1  instrumental music    260\n",
              "2                rock    207\n",
              "3                 pop    199\n",
              "4    electronic music    134"
            ]
          },
          "execution_count": 18,
          "metadata": {},
          "output_type": "execute_result"
        }
      ],
      "source": [
        "tags_counter_sub = tags_counter[tags_counter.Tags.isin(genre_tags)].reset_index(drop = True)\n",
        "print('The total number of rows with the subset of tags is', tags_counter_sub.Count.sum())\n",
        "\n",
        "tags_counter_sub.head()"
      ]
    },
    {
      "cell_type": "markdown",
      "metadata": {},
      "source": [
        "## Subsetting the data for the top genres"
      ]
    },
    {
      "cell_type": "code",
      "execution_count": 19,
      "metadata": {},
      "outputs": [
        {
          "data": {
            "text/html": [
              "<div>\n",
              "<style scoped>\n",
              "    .dataframe tbody tr th:only-of-type {\n",
              "        vertical-align: middle;\n",
              "    }\n",
              "\n",
              "    .dataframe tbody tr th {\n",
              "        vertical-align: top;\n",
              "    }\n",
              "\n",
              "    .dataframe thead th {\n",
              "        text-align: right;\n",
              "    }\n",
              "</style>\n",
              "<table border=\"1\" class=\"dataframe\">\n",
              "  <thead>\n",
              "    <tr style=\"text-align: right;\">\n",
              "      <th></th>\n",
              "      <th>fname</th>\n",
              "      <th>aspect_list</th>\n",
              "    </tr>\n",
              "  </thead>\n",
              "  <tbody>\n",
              "    <tr>\n",
              "      <th>0</th>\n",
              "      <td>[-0SdAVK79lg]-[30-40]</td>\n",
              "      <td>[instrumental]</td>\n",
              "    </tr>\n",
              "    <tr>\n",
              "      <th>1</th>\n",
              "      <td>[-1LrH01Ei1w]-[30-40]</td>\n",
              "      <td>[instrumental]</td>\n",
              "    </tr>\n",
              "    <tr>\n",
              "      <th>2</th>\n",
              "      <td>[-4NLarMj4xU]-[30-40]</td>\n",
              "      <td>[pop]</td>\n",
              "    </tr>\n",
              "    <tr>\n",
              "      <th>3</th>\n",
              "      <td>[-5f6hjZf9Yw]-[30-40]</td>\n",
              "      <td>[folk]</td>\n",
              "    </tr>\n",
              "    <tr>\n",
              "      <th>4</th>\n",
              "      <td>[-6QGvxvaTkI]-[280-290]</td>\n",
              "      <td>[classical]</td>\n",
              "    </tr>\n",
              "  </tbody>\n",
              "</table>\n",
              "</div>"
            ],
            "text/plain": [
              "                     fname     aspect_list\n",
              "0    [-0SdAVK79lg]-[30-40]  [instrumental]\n",
              "1    [-1LrH01Ei1w]-[30-40]  [instrumental]\n",
              "2    [-4NLarMj4xU]-[30-40]           [pop]\n",
              "3    [-5f6hjZf9Yw]-[30-40]          [folk]\n",
              "4  [-6QGvxvaTkI]-[280-290]     [classical]"
            ]
          },
          "execution_count": 19,
          "metadata": {},
          "output_type": "execute_result"
        }
      ],
      "source": [
        "# Create a new DataFrame to store the modified aspect lists\n",
        "filtered_df = meta_df.copy()\n",
        "filtered_df = filtered_df[['fname', 'aspect_list']]\n",
        "\n",
        "# Filter rows based on genre tags and keep only elements that are in genre_tags\n",
        "filtered_df['aspect_list'] = meta_df['aspect_list'].apply(lambda x: [tag for tag in x if tag in genre_tags])\n",
        "\n",
        "# Remove rows where aspect_list is empty\n",
        "filtered_df = filtered_df[filtered_df['aspect_list'].apply(len) > 0].reset_index(drop=True)\n",
        "\n",
        "# Replace tags in aspect_list with corresponding keys from same_tags dictionary\n",
        "for idx, row in filtered_df.iterrows():\n",
        "    new_tags = []\n",
        "    for tag in row['aspect_list']:\n",
        "        for key, values in same_tags.items():\n",
        "            if tag in values:\n",
        "                new_tags.append(key)\n",
        "                break\n",
        "        else:\n",
        "            new_tags.append(tag)\n",
        "    if len(new_tags) > 1 and 'instrumental' in new_tags:\n",
        "        new_tags.remove('instrumental')\n",
        "    filtered_df.at[idx, 'aspect_list'] = list(set(new_tags))\n",
        "\n",
        "filtered_df.head()"
      ]
    },
    {
      "cell_type": "code",
      "execution_count": 20,
      "metadata": {},
      "outputs": [
        {
          "data": {
            "text/html": [
              "<div>\n",
              "<style scoped>\n",
              "    .dataframe tbody tr th:only-of-type {\n",
              "        vertical-align: middle;\n",
              "    }\n",
              "\n",
              "    .dataframe tbody tr th {\n",
              "        vertical-align: top;\n",
              "    }\n",
              "\n",
              "    .dataframe thead th {\n",
              "        text-align: right;\n",
              "    }\n",
              "</style>\n",
              "<table border=\"1\" class=\"dataframe\">\n",
              "  <thead>\n",
              "    <tr style=\"text-align: right;\">\n",
              "      <th></th>\n",
              "      <th>fname</th>\n",
              "      <th>aspect_list</th>\n",
              "    </tr>\n",
              "  </thead>\n",
              "  <tbody>\n",
              "    <tr>\n",
              "      <th>5</th>\n",
              "      <td>[-6pcgdLfb_A]-[110-120]</td>\n",
              "      <td>[hip hop, r&amp;b]</td>\n",
              "    </tr>\n",
              "    <tr>\n",
              "      <th>14</th>\n",
              "      <td>[-YATTKBtmRA]-[190-200]</td>\n",
              "      <td>[electronic, hip hop]</td>\n",
              "    </tr>\n",
              "    <tr>\n",
              "      <th>21</th>\n",
              "      <td>[-wVWjl9Kq6U]-[240-250]</td>\n",
              "      <td>[r&amp;b, rock]</td>\n",
              "    </tr>\n",
              "    <tr>\n",
              "      <th>29</th>\n",
              "      <td>[0ADP-O_V3vA]-[30-40]</td>\n",
              "      <td>[folk, pop]</td>\n",
              "    </tr>\n",
              "    <tr>\n",
              "      <th>39</th>\n",
              "      <td>[0RDz0rLakwc]-[30-40]</td>\n",
              "      <td>[electronic, hip hop]</td>\n",
              "    </tr>\n",
              "    <tr>\n",
              "      <th>...</th>\n",
              "      <td>...</td>\n",
              "      <td>...</td>\n",
              "    </tr>\n",
              "    <tr>\n",
              "      <th>2580</th>\n",
              "      <td>[u9n4R78UBtA]-[30-40]</td>\n",
              "      <td>[dance music, electronic, pop, electro pop]</td>\n",
              "    </tr>\n",
              "    <tr>\n",
              "      <th>2591</th>\n",
              "      <td>[u_TfWvyYY0Y]-[30-40]</td>\n",
              "      <td>[metal, rock]</td>\n",
              "    </tr>\n",
              "    <tr>\n",
              "      <th>2620</th>\n",
              "      <td>[wXWpkfGfZD8]-[30-40]</td>\n",
              "      <td>[reggae, electronic]</td>\n",
              "    </tr>\n",
              "    <tr>\n",
              "      <th>2631</th>\n",
              "      <td>[xb07gLlmkL8]-[30-40]</td>\n",
              "      <td>[pop, rock]</td>\n",
              "    </tr>\n",
              "    <tr>\n",
              "      <th>2636</th>\n",
              "      <td>[xuxKtxzq2Cs]-[30-40]</td>\n",
              "      <td>[electronic, folk]</td>\n",
              "    </tr>\n",
              "  </tbody>\n",
              "</table>\n",
              "<p>267 rows × 2 columns</p>\n",
              "</div>"
            ],
            "text/plain": [
              "                        fname                                  aspect_list\n",
              "5     [-6pcgdLfb_A]-[110-120]                               [hip hop, r&b]\n",
              "14    [-YATTKBtmRA]-[190-200]                        [electronic, hip hop]\n",
              "21    [-wVWjl9Kq6U]-[240-250]                                  [r&b, rock]\n",
              "29      [0ADP-O_V3vA]-[30-40]                                  [folk, pop]\n",
              "39      [0RDz0rLakwc]-[30-40]                        [electronic, hip hop]\n",
              "...                       ...                                          ...\n",
              "2580    [u9n4R78UBtA]-[30-40]  [dance music, electronic, pop, electro pop]\n",
              "2591    [u_TfWvyYY0Y]-[30-40]                                [metal, rock]\n",
              "2620    [wXWpkfGfZD8]-[30-40]                         [reggae, electronic]\n",
              "2631    [xb07gLlmkL8]-[30-40]                                  [pop, rock]\n",
              "2636    [xuxKtxzq2Cs]-[30-40]                           [electronic, folk]\n",
              "\n",
              "[267 rows x 2 columns]"
            ]
          },
          "execution_count": 20,
          "metadata": {},
          "output_type": "execute_result"
        }
      ],
      "source": [
        "filtered_df[filtered_df['aspect_list'].apply(len) > 1]"
      ]
    },
    {
      "cell_type": "code",
      "execution_count": 21,
      "metadata": {},
      "outputs": [
        {
          "data": {
            "text/html": [
              "<div>\n",
              "<style scoped>\n",
              "    .dataframe tbody tr th:only-of-type {\n",
              "        vertical-align: middle;\n",
              "    }\n",
              "\n",
              "    .dataframe tbody tr th {\n",
              "        vertical-align: top;\n",
              "    }\n",
              "\n",
              "    .dataframe thead th {\n",
              "        text-align: right;\n",
              "    }\n",
              "</style>\n",
              "<table border=\"1\" class=\"dataframe\">\n",
              "  <thead>\n",
              "    <tr style=\"text-align: right;\">\n",
              "      <th></th>\n",
              "      <th>fname</th>\n",
              "      <th>aspect_list</th>\n",
              "    </tr>\n",
              "  </thead>\n",
              "  <tbody>\n",
              "    <tr>\n",
              "      <th>0</th>\n",
              "      <td>[-0SdAVK79lg]-[30-40]</td>\n",
              "      <td>instrumental</td>\n",
              "    </tr>\n",
              "    <tr>\n",
              "      <th>1</th>\n",
              "      <td>[-1LrH01Ei1w]-[30-40]</td>\n",
              "      <td>instrumental</td>\n",
              "    </tr>\n",
              "    <tr>\n",
              "      <th>2</th>\n",
              "      <td>[-4NLarMj4xU]-[30-40]</td>\n",
              "      <td>pop</td>\n",
              "    </tr>\n",
              "    <tr>\n",
              "      <th>3</th>\n",
              "      <td>[-5f6hjZf9Yw]-[30-40]</td>\n",
              "      <td>folk</td>\n",
              "    </tr>\n",
              "    <tr>\n",
              "      <th>4</th>\n",
              "      <td>[-6QGvxvaTkI]-[280-290]</td>\n",
              "      <td>classical</td>\n",
              "    </tr>\n",
              "  </tbody>\n",
              "</table>\n",
              "</div>"
            ],
            "text/plain": [
              "                     fname   aspect_list\n",
              "0    [-0SdAVK79lg]-[30-40]  instrumental\n",
              "1    [-1LrH01Ei1w]-[30-40]  instrumental\n",
              "2    [-4NLarMj4xU]-[30-40]           pop\n",
              "3    [-5f6hjZf9Yw]-[30-40]          folk\n",
              "4  [-6QGvxvaTkI]-[280-290]     classical"
            ]
          },
          "execution_count": 21,
          "metadata": {},
          "output_type": "execute_result"
        }
      ],
      "source": [
        "#Getting rid of all those rows that have two tags for simplicity\n",
        "\n",
        "# Remove rows where aspect_list contains two elements\n",
        "filtered_df = filtered_df[filtered_df['aspect_list'].apply(len) != 2].reset_index(drop=True)\n",
        "\n",
        "# Convert aspect_list into a string\n",
        "filtered_df['aspect_list'] = filtered_df['aspect_list'].apply(lambda x: x[0])\n",
        "\n",
        "filtered_df.head()"
      ]
    },
    {
      "cell_type": "code",
      "execution_count": 22,
      "metadata": {},
      "outputs": [
        {
          "data": {
            "text/html": [
              "<div>\n",
              "<style scoped>\n",
              "    .dataframe tbody tr th:only-of-type {\n",
              "        vertical-align: middle;\n",
              "    }\n",
              "\n",
              "    .dataframe tbody tr th {\n",
              "        vertical-align: top;\n",
              "    }\n",
              "\n",
              "    .dataframe thead th {\n",
              "        text-align: right;\n",
              "    }\n",
              "</style>\n",
              "<table border=\"1\" class=\"dataframe\">\n",
              "  <thead>\n",
              "    <tr style=\"text-align: right;\">\n",
              "      <th></th>\n",
              "      <th>Tags</th>\n",
              "      <th>Count</th>\n",
              "    </tr>\n",
              "  </thead>\n",
              "  <tbody>\n",
              "    <tr>\n",
              "      <th>0</th>\n",
              "      <td>instrumental</td>\n",
              "      <td>733</td>\n",
              "    </tr>\n",
              "    <tr>\n",
              "      <th>1</th>\n",
              "      <td>rock</td>\n",
              "      <td>254</td>\n",
              "    </tr>\n",
              "    <tr>\n",
              "      <th>2</th>\n",
              "      <td>pop</td>\n",
              "      <td>251</td>\n",
              "    </tr>\n",
              "    <tr>\n",
              "      <th>3</th>\n",
              "      <td>electronic</td>\n",
              "      <td>246</td>\n",
              "    </tr>\n",
              "    <tr>\n",
              "      <th>4</th>\n",
              "      <td>classical</td>\n",
              "      <td>244</td>\n",
              "    </tr>\n",
              "    <tr>\n",
              "      <th>5</th>\n",
              "      <td>hip hop</td>\n",
              "      <td>124</td>\n",
              "    </tr>\n",
              "    <tr>\n",
              "      <th>6</th>\n",
              "      <td>folk</td>\n",
              "      <td>120</td>\n",
              "    </tr>\n",
              "    <tr>\n",
              "      <th>7</th>\n",
              "      <td>dance music</td>\n",
              "      <td>69</td>\n",
              "    </tr>\n",
              "    <tr>\n",
              "      <th>8</th>\n",
              "      <td>jazz</td>\n",
              "      <td>63</td>\n",
              "    </tr>\n",
              "    <tr>\n",
              "      <th>9</th>\n",
              "      <td>country</td>\n",
              "      <td>62</td>\n",
              "    </tr>\n",
              "    <tr>\n",
              "      <th>10</th>\n",
              "      <td>r&amp;b</td>\n",
              "      <td>58</td>\n",
              "    </tr>\n",
              "    <tr>\n",
              "      <th>11</th>\n",
              "      <td>orchestra</td>\n",
              "      <td>56</td>\n",
              "    </tr>\n",
              "    <tr>\n",
              "      <th>12</th>\n",
              "      <td>metal</td>\n",
              "      <td>53</td>\n",
              "    </tr>\n",
              "    <tr>\n",
              "      <th>13</th>\n",
              "      <td>reggae</td>\n",
              "      <td>44</td>\n",
              "    </tr>\n",
              "    <tr>\n",
              "      <th>14</th>\n",
              "      <td>blues</td>\n",
              "      <td>40</td>\n",
              "    </tr>\n",
              "    <tr>\n",
              "      <th>15</th>\n",
              "      <td>gospel</td>\n",
              "      <td>36</td>\n",
              "    </tr>\n",
              "    <tr>\n",
              "      <th>16</th>\n",
              "      <td>electro pop</td>\n",
              "      <td>8</td>\n",
              "    </tr>\n",
              "  </tbody>\n",
              "</table>\n",
              "</div>"
            ],
            "text/plain": [
              "            Tags  Count\n",
              "0   instrumental    733\n",
              "1           rock    254\n",
              "2            pop    251\n",
              "3     electronic    246\n",
              "4      classical    244\n",
              "5        hip hop    124\n",
              "6           folk    120\n",
              "7    dance music     69\n",
              "8           jazz     63\n",
              "9        country     62\n",
              "10           r&b     58\n",
              "11     orchestra     56\n",
              "12         metal     53\n",
              "13        reggae     44\n",
              "14         blues     40\n",
              "15        gospel     36\n",
              "16   electro pop      8"
            ]
          },
          "execution_count": 22,
          "metadata": {},
          "output_type": "execute_result"
        }
      ],
      "source": [
        "#the aspect_list col as a list\n",
        "filtered_tags_list = filtered_df['aspect_list'].to_list()\n",
        "\n",
        "# Flatten the tags_list\n",
        "# flat_list_ = [item for sublist in filtered_tags_list for item in sublist]\n",
        "\n",
        "# Count occurrences of each tag\n",
        "counter_ = Counter(filtered_tags_list)\n",
        "\n",
        "# Convert counter to DataFrame\n",
        "filtered_tags_counter = pd.DataFrame(counter_.items(), columns=['Tags', 'Count'])\n",
        "filtered_tags_counter = filtered_tags_counter.sort_values('Count', ascending= False).reset_index(drop = True)\n",
        "\n",
        "filtered_tags_counter"
      ]
    },
    {
      "cell_type": "code",
      "execution_count": 23,
      "metadata": {},
      "outputs": [
        {
          "data": {
            "text/plain": [
              "['instrumental',\n",
              " 'rock',\n",
              " 'pop',\n",
              " 'electronic',\n",
              " 'classical',\n",
              " 'hip hop',\n",
              " 'folk',\n",
              " 'dance music',\n",
              " 'jazz',\n",
              " 'country',\n",
              " 'r&b',\n",
              " 'orchestra']"
            ]
          },
          "execution_count": 23,
          "metadata": {},
          "output_type": "execute_result"
        }
      ],
      "source": [
        "filtered_tags_counter['Tags'][:12].to_list()"
      ]
    },
    {
      "cell_type": "markdown",
      "metadata": {},
      "source": [
        "Only keeping the first 12 genres"
      ]
    },
    {
      "cell_type": "code",
      "execution_count": 24,
      "metadata": {},
      "outputs": [
        {
          "data": {
            "text/html": [
              "<div>\n",
              "<style scoped>\n",
              "    .dataframe tbody tr th:only-of-type {\n",
              "        vertical-align: middle;\n",
              "    }\n",
              "\n",
              "    .dataframe tbody tr th {\n",
              "        vertical-align: top;\n",
              "    }\n",
              "\n",
              "    .dataframe thead th {\n",
              "        text-align: right;\n",
              "    }\n",
              "</style>\n",
              "<table border=\"1\" class=\"dataframe\">\n",
              "  <thead>\n",
              "    <tr style=\"text-align: right;\">\n",
              "      <th></th>\n",
              "      <th>fname</th>\n",
              "      <th>aspect_list</th>\n",
              "    </tr>\n",
              "  </thead>\n",
              "  <tbody>\n",
              "    <tr>\n",
              "      <th>0</th>\n",
              "      <td>[-0SdAVK79lg]-[30-40]</td>\n",
              "      <td>instrumental</td>\n",
              "    </tr>\n",
              "    <tr>\n",
              "      <th>1</th>\n",
              "      <td>[-1LrH01Ei1w]-[30-40]</td>\n",
              "      <td>instrumental</td>\n",
              "    </tr>\n",
              "    <tr>\n",
              "      <th>2</th>\n",
              "      <td>[-4NLarMj4xU]-[30-40]</td>\n",
              "      <td>pop</td>\n",
              "    </tr>\n",
              "    <tr>\n",
              "      <th>3</th>\n",
              "      <td>[-5f6hjZf9Yw]-[30-40]</td>\n",
              "      <td>folk</td>\n",
              "    </tr>\n",
              "    <tr>\n",
              "      <th>4</th>\n",
              "      <td>[-6QGvxvaTkI]-[280-290]</td>\n",
              "      <td>classical</td>\n",
              "    </tr>\n",
              "    <tr>\n",
              "      <th>...</th>\n",
              "      <td>...</td>\n",
              "      <td>...</td>\n",
              "    </tr>\n",
              "    <tr>\n",
              "      <th>2236</th>\n",
              "      <td>[zjsWFvUkh7M]-[30-40]</td>\n",
              "      <td>rock</td>\n",
              "    </tr>\n",
              "    <tr>\n",
              "      <th>2237</th>\n",
              "      <td>[zrrM6Qg2Dwg]-[30-40]</td>\n",
              "      <td>instrumental</td>\n",
              "    </tr>\n",
              "    <tr>\n",
              "      <th>2238</th>\n",
              "      <td>[zwfo7wnXdjs]-[30-40]</td>\n",
              "      <td>folk</td>\n",
              "    </tr>\n",
              "    <tr>\n",
              "      <th>2239</th>\n",
              "      <td>[zx_vcwOsDO4]-[50-60]</td>\n",
              "      <td>instrumental</td>\n",
              "    </tr>\n",
              "    <tr>\n",
              "      <th>2240</th>\n",
              "      <td>[zzNdwF40ID8]-[70-80]</td>\n",
              "      <td>electronic</td>\n",
              "    </tr>\n",
              "  </tbody>\n",
              "</table>\n",
              "<p>2239 rows × 2 columns</p>\n",
              "</div>"
            ],
            "text/plain": [
              "                        fname   aspect_list\n",
              "0       [-0SdAVK79lg]-[30-40]  instrumental\n",
              "1       [-1LrH01Ei1w]-[30-40]  instrumental\n",
              "2       [-4NLarMj4xU]-[30-40]           pop\n",
              "3       [-5f6hjZf9Yw]-[30-40]          folk\n",
              "4     [-6QGvxvaTkI]-[280-290]     classical\n",
              "...                       ...           ...\n",
              "2236    [zjsWFvUkh7M]-[30-40]          rock\n",
              "2237    [zrrM6Qg2Dwg]-[30-40]  instrumental\n",
              "2238    [zwfo7wnXdjs]-[30-40]          folk\n",
              "2239    [zx_vcwOsDO4]-[50-60]  instrumental\n",
              "2240    [zzNdwF40ID8]-[70-80]    electronic\n",
              "\n",
              "[2239 rows x 2 columns]"
            ]
          },
          "execution_count": 24,
          "metadata": {},
          "output_type": "execute_result"
        }
      ],
      "source": [
        "#list of top twelve genres\n",
        "top_genres = filtered_tags_counter['Tags'][:12].to_list()\n",
        "\n",
        "#filtering df to only keep\n",
        "filtered_df = filtered_df[filtered_df['aspect_list'].isin(top_genres)].reset_index(drop = True)\n",
        "\n",
        "#Only keep those rows for which the mel-spec exists\n",
        "mel_list = os.listdir('/home/mendu/Thesis/data/musiccaps/mel-specs')\n",
        "mel_list = [fname.replace('.wav.npy', '') for fname in mel_list]\n",
        "\n",
        "filtered_df = filtered_df[filtered_df['fname'].isin(mel_list)].reset_index(drop = True)\n",
        "\n",
        "#Removing [pYXx0xXZiXk]-[14-24] and [-SWaCArvQug]-[21-31] because they are not of the right shape\n",
        "filtered_df = filtered_df.drop(filtered_df[filtered_df['fname'] == '[pYXx0xXZiXk]-[14-24]'].index)\n",
        "filtered_df = filtered_df.drop(filtered_df[filtered_df['fname'] == '[-SWaCArvQug]-[21-31]'].index)\n",
        "\n",
        "filtered_df"
      ]
    },
    {
      "cell_type": "markdown",
      "metadata": {},
      "source": [
        "## Generating mel-spectrograms"
      ]
    },
    {
      "cell_type": "code",
      "execution_count": 25,
      "metadata": {},
      "outputs": [],
      "source": [
        "# Function to convert mp3 files to mel-spectrograms\n",
        "def mp3_to_melspectrogram(input_folder, output_folder):\n",
        "    # Create the output folder if it doesn't exist\n",
        "    if not os.path.exists(output_folder):\n",
        "        os.makedirs(output_folder)\n",
        "\n",
        "    # Iterate over each file in the input folder\n",
        "    for filename in os.listdir(input_folder):\n",
        "        if filename.endswith(\".mp3\"):\n",
        "            # Load the audio file\n",
        "            audio_path = os.path.join(input_folder, filename)\n",
        "            y, sr = librosa.load(audio_path)\n",
        "\n",
        "            # Compute the mel-spectrogram\n",
        "            mel_spectrogram = librosa.feature.melspectrogram(y=y, sr=sr)\n",
        "\n",
        "            # Convert to decibel scale\n",
        "            mel_spectrogram_db = librosa.power_to_db(mel_spectrogram, ref=np.max)\n",
        "\n",
        "            # Save the mel-spectrogram as .npy file\n",
        "            output_path = os.path.join(output_folder, filename.replace('.mp3', '.npy'))\n",
        "            np.save(output_path, mel_spectrogram_db)\n",
        "\n",
        "            # print(f\"Mel-spectrogram saved: {output_path}\")"
      ]
    },
    {
      "cell_type": "code",
      "execution_count": null,
      "metadata": {},
      "outputs": [],
      "source": [
        "#generating mel-specs\n",
        "input_folder = '/home/mendu/Thesis/data/musiccaps/audio'\n",
        "output_folder = '/home/mendu/Thesis/data/musiccaps/mel-specs'\n",
        "# mp3_to_melspectrogram(input_folder, output_folder)"
      ]
    },
    {
      "cell_type": "markdown",
      "metadata": {
        "id": "9EQkgGg9q3v_"
      },
      "source": [
        "# Training the model"
      ]
    },
    {
      "cell_type": "code",
      "execution_count": 27,
      "metadata": {
        "id": "5GVjutXQLfTM"
      },
      "outputs": [],
      "source": [
        "def add_gauss_noise(image, mean = 0, var = 10):\n",
        "    '''function to add gaussian noise to an image'''\n",
        "    sigma = var ** 0.5\n",
        "\n",
        "    #creating a noise image with gaussian distribution\n",
        "    gaussian = np.random.normal(mean, sigma, (img.shape[0], img.shape[1]))\n",
        "\n",
        "    #creating a zeroes image\n",
        "    noisy_image = np.zeros(img.shape, np.float32)\n",
        "\n",
        "    #adding the noise to the original image\n",
        "    noisy_image = img + gaussian\n",
        "\n",
        "    #normalising the image\n",
        "    cv2.normalize(noisy_image, noisy_image, 0, 255, cv2.NORM_MINMAX, dtype=-1)\n",
        "\n",
        "    #changing type\n",
        "    noisy_image = noisy_image.astype(np.uint8)\n",
        "\n",
        "    return noisy_image"
      ]
    },
    {
      "cell_type": "code",
      "execution_count": 28,
      "metadata": {},
      "outputs": [
        {
          "data": {
            "text/plain": [
              "2239"
            ]
          },
          "execution_count": 28,
          "metadata": {},
          "output_type": "execute_result"
        }
      ],
      "source": [
        "len(filtered_df.fname.to_list())"
      ]
    },
    {
      "cell_type": "code",
      "execution_count": 29,
      "metadata": {},
      "outputs": [],
      "source": [
        "# temp_img = np.load('/home/mendu/Thesis/data/musiccaps/mel-specs/[kZPz8ExTzBk]-[280-290].wav.npy')\n",
        "# temp_img.shape"
      ]
    },
    {
      "cell_type": "code",
      "execution_count": 30,
      "metadata": {
        "colab": {
          "base_uri": "https://localhost:8080/"
        },
        "id": "mWzklUIEAxTy",
        "outputId": "c596c7a1-e15a-467f-f68a-86b9adf73db1"
      },
      "outputs": [
        {
          "name": "stdout",
          "output_type": "stream",
          "text": [
            "[-0SdAVK79lg]-[30-40]\n",
            "[-1LrH01Ei1w]-[30-40]\n",
            "[-4NLarMj4xU]-[30-40]\n",
            "[-5f6hjZf9Yw]-[30-40]\n",
            "[-6QGvxvaTkI]-[280-290]\n",
            "[-Dtir74TiUM]-[40-50]\n",
            "[-FlvaZQOr2I]-[90-100]\n",
            "[-JVWfFPBl84]-[330-340]\n",
            "[-M-6VinyMiY]-[30-40]\n",
            "[-O9mnfC61Ac]-[0-10]\n"
          ]
        }
      ],
      "source": [
        "#loading the cropped .npy files in a tensor\n",
        "\n",
        "#the folder path to where the mel-specs are stored\n",
        "folder_path_mel = '/home/mendu/Thesis/data/musiccaps/mel-specs'\n",
        "\n",
        "#The ordered list of all the filenames in the filtered_df\n",
        "audio_names_list = filtered_df.fname.to_list()\n",
        "\n",
        "data = []\n",
        "i = 0\n",
        "\n",
        "for filename in audio_names_list:\n",
        "  filename_npy = str(filename) + '.wav.npy'\n",
        "  file_path = os.path.join(folder_path_mel, filename_npy)\n",
        "  img = np.load(file_path)\n",
        "  \n",
        "  # Check to ensure the image has the minimum required dimensions\n",
        "  if img.shape[0] >= 128 and img.shape[1] >= 431:\n",
        "    img = img[:128, :431]\n",
        "    data.append(add_gauss_noise(img))\n",
        "  else:\n",
        "    print(f\"Error with file: {filename_npy}. Expected minimum shape of (128, 431) but got {img.shape}.\")\n",
        "    # Handle the error properly, either skip this image or pad/crop it accordingly\n",
        "\n",
        "  # data.append(add_gauss_noise(img))\n",
        "  if i < 10 :\n",
        "    print(filename)\n",
        "  i = i+1\n",
        "\n",
        "data = np.array(data)\n"
      ]
    },
    {
      "cell_type": "code",
      "execution_count": 31,
      "metadata": {
        "id": "TyQ564hXAxNh"
      },
      "outputs": [],
      "source": [
        "#normalize data\n",
        "data = data.astype('float32')/255.0"
      ]
    },
    {
      "cell_type": "code",
      "execution_count": 32,
      "metadata": {
        "colab": {
          "base_uri": "https://localhost:8080/"
        },
        "id": "3Y5q37Ny9YZ4",
        "outputId": "ba8882f7-9691-45f6-f0b6-fb19a7fa1ab2"
      },
      "outputs": [
        {
          "data": {
            "text/plain": [
              "(2239, 128, 431)"
            ]
          },
          "execution_count": 32,
          "metadata": {},
          "output_type": "execute_result"
        }
      ],
      "source": [
        "data.shape"
      ]
    },
    {
      "cell_type": "code",
      "execution_count": 33,
      "metadata": {},
      "outputs": [
        {
          "data": {
            "text/html": [
              "<div>\n",
              "<style scoped>\n",
              "    .dataframe tbody tr th:only-of-type {\n",
              "        vertical-align: middle;\n",
              "    }\n",
              "\n",
              "    .dataframe tbody tr th {\n",
              "        vertical-align: top;\n",
              "    }\n",
              "\n",
              "    .dataframe thead th {\n",
              "        text-align: right;\n",
              "    }\n",
              "</style>\n",
              "<table border=\"1\" class=\"dataframe\">\n",
              "  <thead>\n",
              "    <tr style=\"text-align: right;\">\n",
              "      <th></th>\n",
              "      <th>fname</th>\n",
              "      <th>aspect_list</th>\n",
              "    </tr>\n",
              "  </thead>\n",
              "  <tbody>\n",
              "    <tr>\n",
              "      <th>0</th>\n",
              "      <td>[-0SdAVK79lg]-[30-40]</td>\n",
              "      <td>instrumental</td>\n",
              "    </tr>\n",
              "    <tr>\n",
              "      <th>1</th>\n",
              "      <td>[-1LrH01Ei1w]-[30-40]</td>\n",
              "      <td>instrumental</td>\n",
              "    </tr>\n",
              "    <tr>\n",
              "      <th>2</th>\n",
              "      <td>[-4NLarMj4xU]-[30-40]</td>\n",
              "      <td>pop</td>\n",
              "    </tr>\n",
              "    <tr>\n",
              "      <th>3</th>\n",
              "      <td>[-5f6hjZf9Yw]-[30-40]</td>\n",
              "      <td>folk</td>\n",
              "    </tr>\n",
              "    <tr>\n",
              "      <th>4</th>\n",
              "      <td>[-6QGvxvaTkI]-[280-290]</td>\n",
              "      <td>classical</td>\n",
              "    </tr>\n",
              "    <tr>\n",
              "      <th>...</th>\n",
              "      <td>...</td>\n",
              "      <td>...</td>\n",
              "    </tr>\n",
              "    <tr>\n",
              "      <th>2236</th>\n",
              "      <td>[zjsWFvUkh7M]-[30-40]</td>\n",
              "      <td>rock</td>\n",
              "    </tr>\n",
              "    <tr>\n",
              "      <th>2237</th>\n",
              "      <td>[zrrM6Qg2Dwg]-[30-40]</td>\n",
              "      <td>instrumental</td>\n",
              "    </tr>\n",
              "    <tr>\n",
              "      <th>2238</th>\n",
              "      <td>[zwfo7wnXdjs]-[30-40]</td>\n",
              "      <td>folk</td>\n",
              "    </tr>\n",
              "    <tr>\n",
              "      <th>2239</th>\n",
              "      <td>[zx_vcwOsDO4]-[50-60]</td>\n",
              "      <td>instrumental</td>\n",
              "    </tr>\n",
              "    <tr>\n",
              "      <th>2240</th>\n",
              "      <td>[zzNdwF40ID8]-[70-80]</td>\n",
              "      <td>electronic</td>\n",
              "    </tr>\n",
              "  </tbody>\n",
              "</table>\n",
              "<p>2239 rows × 2 columns</p>\n",
              "</div>"
            ],
            "text/plain": [
              "                        fname   aspect_list\n",
              "0       [-0SdAVK79lg]-[30-40]  instrumental\n",
              "1       [-1LrH01Ei1w]-[30-40]  instrumental\n",
              "2       [-4NLarMj4xU]-[30-40]           pop\n",
              "3       [-5f6hjZf9Yw]-[30-40]          folk\n",
              "4     [-6QGvxvaTkI]-[280-290]     classical\n",
              "...                       ...           ...\n",
              "2236    [zjsWFvUkh7M]-[30-40]          rock\n",
              "2237    [zrrM6Qg2Dwg]-[30-40]  instrumental\n",
              "2238    [zwfo7wnXdjs]-[30-40]          folk\n",
              "2239    [zx_vcwOsDO4]-[50-60]  instrumental\n",
              "2240    [zzNdwF40ID8]-[70-80]    electronic\n",
              "\n",
              "[2239 rows x 2 columns]"
            ]
          },
          "execution_count": 33,
          "metadata": {},
          "output_type": "execute_result"
        }
      ],
      "source": [
        "filtered_df"
      ]
    },
    {
      "cell_type": "code",
      "execution_count": 34,
      "metadata": {
        "id": "avcBh83EUv2h"
      },
      "outputs": [],
      "source": [
        "# Reshape data to include the channel dimension\n",
        "data = data.reshape((-1, 128, 431, 1))\n",
        "\n",
        "# Split data into training and validation sets\n",
        "X_train, X_val, y_train, y_val = train_test_split(data, pd.get_dummies(filtered_df['aspect_list']), test_size=0.1, random_state=42)"
      ]
    },
    {
      "cell_type": "code",
      "execution_count": 35,
      "metadata": {
        "id": "d7GwoDyDUvyv"
      },
      "outputs": [],
      "source": [
        "# Initialize ImageDataGenerator with necessary augmentations\n",
        "datagen = ImageDataGenerator(\n",
        "    width_shift_range=0.2,\n",
        "    height_shift_range=0.2\n",
        ")\n",
        "\n",
        "datagen.fit(X_train)"
      ]
    },
    {
      "cell_type": "code",
      "execution_count": 36,
      "metadata": {
        "id": "rKrZwkL4xXc7"
      },
      "outputs": [
        {
          "data": {
            "text/plain": [
              "12"
            ]
          },
          "execution_count": 36,
          "metadata": {},
          "output_type": "execute_result"
        }
      ],
      "source": [
        "# Define num_classes based on the number of unique genres\n",
        "num_classes = y_train.shape[1]\n",
        "num_classes"
      ]
    },
    {
      "cell_type": "code",
      "execution_count": 37,
      "metadata": {
        "colab": {
          "base_uri": "https://localhost:8080/"
        },
        "id": "GYYjn2sVIz8f",
        "outputId": "c68e11da-a1fa-49e1-f550-f121e27f777a"
      },
      "outputs": [
        {
          "name": "stderr",
          "output_type": "stream",
          "text": [
            "/home/mendu/miniconda3/envs/myenv/lib/python3.11/site-packages/keras/src/layers/convolutional/base_conv.py:99: UserWarning: Do not pass an `input_shape`/`input_dim` argument to a layer. When using Sequential models, prefer using an `Input(shape)` object as the first layer in the model instead.\n",
            "  super().__init__(\n",
            "2024-03-27 06:53:29.974174: W tensorflow/core/common_runtime/gpu/gpu_device.cc:2251] Cannot dlopen some GPU libraries. Please make sure the missing libraries mentioned above are installed properly if you would like to use GPU. Follow the guide at https://www.tensorflow.org/install/gpu for how to download and setup the required libraries for your platform.\n",
            "Skipping registering GPU devices...\n"
          ]
        },
        {
          "data": {
            "text/html": [
              "<pre style=\"white-space:pre;overflow-x:auto;line-height:normal;font-family:Menlo,'DejaVu Sans Mono',consolas,'Courier New',monospace\"><span style=\"font-weight: bold\">Model: \"sequential\"</span>\n",
              "</pre>\n"
            ],
            "text/plain": [
              "\u001b[1mModel: \"sequential\"\u001b[0m\n"
            ]
          },
          "metadata": {},
          "output_type": "display_data"
        },
        {
          "data": {
            "text/html": [
              "<pre style=\"white-space:pre;overflow-x:auto;line-height:normal;font-family:Menlo,'DejaVu Sans Mono',consolas,'Courier New',monospace\">┏━━━━━━━━━━━━━━━━━━━━━━━━━━━━━━━━━┳━━━━━━━━━━━━━━━━━━━━━━━━┳━━━━━━━━━━━━━━━┓\n",
              "┃<span style=\"font-weight: bold\"> Layer (type)                    </span>┃<span style=\"font-weight: bold\"> Output Shape           </span>┃<span style=\"font-weight: bold\">       Param # </span>┃\n",
              "┡━━━━━━━━━━━━━━━━━━━━━━━━━━━━━━━━━╇━━━━━━━━━━━━━━━━━━━━━━━━╇━━━━━━━━━━━━━━━┩\n",
              "│ conv2d (<span style=\"color: #0087ff; text-decoration-color: #0087ff\">Conv2D</span>)                 │ (<span style=\"color: #00d7ff; text-decoration-color: #00d7ff\">None</span>, <span style=\"color: #00af00; text-decoration-color: #00af00\">126</span>, <span style=\"color: #00af00; text-decoration-color: #00af00\">429</span>, <span style=\"color: #00af00; text-decoration-color: #00af00\">32</span>)   │           <span style=\"color: #00af00; text-decoration-color: #00af00\">288</span> │\n",
              "├─────────────────────────────────┼────────────────────────┼───────────────┤\n",
              "│ batch_normalization             │ (<span style=\"color: #00d7ff; text-decoration-color: #00d7ff\">None</span>, <span style=\"color: #00af00; text-decoration-color: #00af00\">126</span>, <span style=\"color: #00af00; text-decoration-color: #00af00\">429</span>, <span style=\"color: #00af00; text-decoration-color: #00af00\">32</span>)   │           <span style=\"color: #00af00; text-decoration-color: #00af00\">128</span> │\n",
              "│ (<span style=\"color: #0087ff; text-decoration-color: #0087ff\">BatchNormalization</span>)            │                        │               │\n",
              "├─────────────────────────────────┼────────────────────────┼───────────────┤\n",
              "│ activation (<span style=\"color: #0087ff; text-decoration-color: #0087ff\">Activation</span>)         │ (<span style=\"color: #00d7ff; text-decoration-color: #00d7ff\">None</span>, <span style=\"color: #00af00; text-decoration-color: #00af00\">126</span>, <span style=\"color: #00af00; text-decoration-color: #00af00\">429</span>, <span style=\"color: #00af00; text-decoration-color: #00af00\">32</span>)   │             <span style=\"color: #00af00; text-decoration-color: #00af00\">0</span> │\n",
              "├─────────────────────────────────┼────────────────────────┼───────────────┤\n",
              "│ max_pooling2d (<span style=\"color: #0087ff; text-decoration-color: #0087ff\">MaxPooling2D</span>)    │ (<span style=\"color: #00d7ff; text-decoration-color: #00d7ff\">None</span>, <span style=\"color: #00af00; text-decoration-color: #00af00\">63</span>, <span style=\"color: #00af00; text-decoration-color: #00af00\">214</span>, <span style=\"color: #00af00; text-decoration-color: #00af00\">32</span>)    │             <span style=\"color: #00af00; text-decoration-color: #00af00\">0</span> │\n",
              "├─────────────────────────────────┼────────────────────────┼───────────────┤\n",
              "│ conv2d_1 (<span style=\"color: #0087ff; text-decoration-color: #0087ff\">Conv2D</span>)               │ (<span style=\"color: #00d7ff; text-decoration-color: #00d7ff\">None</span>, <span style=\"color: #00af00; text-decoration-color: #00af00\">61</span>, <span style=\"color: #00af00; text-decoration-color: #00af00\">212</span>, <span style=\"color: #00af00; text-decoration-color: #00af00\">64</span>)    │        <span style=\"color: #00af00; text-decoration-color: #00af00\">18,432</span> │\n",
              "├─────────────────────────────────┼────────────────────────┼───────────────┤\n",
              "│ batch_normalization_1           │ (<span style=\"color: #00d7ff; text-decoration-color: #00d7ff\">None</span>, <span style=\"color: #00af00; text-decoration-color: #00af00\">61</span>, <span style=\"color: #00af00; text-decoration-color: #00af00\">212</span>, <span style=\"color: #00af00; text-decoration-color: #00af00\">64</span>)    │           <span style=\"color: #00af00; text-decoration-color: #00af00\">256</span> │\n",
              "│ (<span style=\"color: #0087ff; text-decoration-color: #0087ff\">BatchNormalization</span>)            │                        │               │\n",
              "├─────────────────────────────────┼────────────────────────┼───────────────┤\n",
              "│ activation_1 (<span style=\"color: #0087ff; text-decoration-color: #0087ff\">Activation</span>)       │ (<span style=\"color: #00d7ff; text-decoration-color: #00d7ff\">None</span>, <span style=\"color: #00af00; text-decoration-color: #00af00\">61</span>, <span style=\"color: #00af00; text-decoration-color: #00af00\">212</span>, <span style=\"color: #00af00; text-decoration-color: #00af00\">64</span>)    │             <span style=\"color: #00af00; text-decoration-color: #00af00\">0</span> │\n",
              "├─────────────────────────────────┼────────────────────────┼───────────────┤\n",
              "│ max_pooling2d_1 (<span style=\"color: #0087ff; text-decoration-color: #0087ff\">MaxPooling2D</span>)  │ (<span style=\"color: #00d7ff; text-decoration-color: #00d7ff\">None</span>, <span style=\"color: #00af00; text-decoration-color: #00af00\">30</span>, <span style=\"color: #00af00; text-decoration-color: #00af00\">106</span>, <span style=\"color: #00af00; text-decoration-color: #00af00\">64</span>)    │             <span style=\"color: #00af00; text-decoration-color: #00af00\">0</span> │\n",
              "├─────────────────────────────────┼────────────────────────┼───────────────┤\n",
              "│ conv2d_2 (<span style=\"color: #0087ff; text-decoration-color: #0087ff\">Conv2D</span>)               │ (<span style=\"color: #00d7ff; text-decoration-color: #00d7ff\">None</span>, <span style=\"color: #00af00; text-decoration-color: #00af00\">28</span>, <span style=\"color: #00af00; text-decoration-color: #00af00\">104</span>, <span style=\"color: #00af00; text-decoration-color: #00af00\">128</span>)   │        <span style=\"color: #00af00; text-decoration-color: #00af00\">73,728</span> │\n",
              "├─────────────────────────────────┼────────────────────────┼───────────────┤\n",
              "│ batch_normalization_2           │ (<span style=\"color: #00d7ff; text-decoration-color: #00d7ff\">None</span>, <span style=\"color: #00af00; text-decoration-color: #00af00\">28</span>, <span style=\"color: #00af00; text-decoration-color: #00af00\">104</span>, <span style=\"color: #00af00; text-decoration-color: #00af00\">128</span>)   │           <span style=\"color: #00af00; text-decoration-color: #00af00\">512</span> │\n",
              "│ (<span style=\"color: #0087ff; text-decoration-color: #0087ff\">BatchNormalization</span>)            │                        │               │\n",
              "├─────────────────────────────────┼────────────────────────┼───────────────┤\n",
              "│ activation_2 (<span style=\"color: #0087ff; text-decoration-color: #0087ff\">Activation</span>)       │ (<span style=\"color: #00d7ff; text-decoration-color: #00d7ff\">None</span>, <span style=\"color: #00af00; text-decoration-color: #00af00\">28</span>, <span style=\"color: #00af00; text-decoration-color: #00af00\">104</span>, <span style=\"color: #00af00; text-decoration-color: #00af00\">128</span>)   │             <span style=\"color: #00af00; text-decoration-color: #00af00\">0</span> │\n",
              "├─────────────────────────────────┼────────────────────────┼───────────────┤\n",
              "│ max_pooling2d_2 (<span style=\"color: #0087ff; text-decoration-color: #0087ff\">MaxPooling2D</span>)  │ (<span style=\"color: #00d7ff; text-decoration-color: #00d7ff\">None</span>, <span style=\"color: #00af00; text-decoration-color: #00af00\">14</span>, <span style=\"color: #00af00; text-decoration-color: #00af00\">52</span>, <span style=\"color: #00af00; text-decoration-color: #00af00\">128</span>)    │             <span style=\"color: #00af00; text-decoration-color: #00af00\">0</span> │\n",
              "├─────────────────────────────────┼────────────────────────┼───────────────┤\n",
              "│ flatten (<span style=\"color: #0087ff; text-decoration-color: #0087ff\">Flatten</span>)               │ (<span style=\"color: #00d7ff; text-decoration-color: #00d7ff\">None</span>, <span style=\"color: #00af00; text-decoration-color: #00af00\">93184</span>)          │             <span style=\"color: #00af00; text-decoration-color: #00af00\">0</span> │\n",
              "├─────────────────────────────────┼────────────────────────┼───────────────┤\n",
              "│ dense (<span style=\"color: #0087ff; text-decoration-color: #0087ff\">Dense</span>)                   │ (<span style=\"color: #00d7ff; text-decoration-color: #00d7ff\">None</span>, <span style=\"color: #00af00; text-decoration-color: #00af00\">128</span>)            │    <span style=\"color: #00af00; text-decoration-color: #00af00\">11,927,552</span> │\n",
              "├─────────────────────────────────┼────────────────────────┼───────────────┤\n",
              "│ batch_normalization_3           │ (<span style=\"color: #00d7ff; text-decoration-color: #00d7ff\">None</span>, <span style=\"color: #00af00; text-decoration-color: #00af00\">128</span>)            │           <span style=\"color: #00af00; text-decoration-color: #00af00\">512</span> │\n",
              "│ (<span style=\"color: #0087ff; text-decoration-color: #0087ff\">BatchNormalization</span>)            │                        │               │\n",
              "├─────────────────────────────────┼────────────────────────┼───────────────┤\n",
              "│ activation_3 (<span style=\"color: #0087ff; text-decoration-color: #0087ff\">Activation</span>)       │ (<span style=\"color: #00d7ff; text-decoration-color: #00d7ff\">None</span>, <span style=\"color: #00af00; text-decoration-color: #00af00\">128</span>)            │             <span style=\"color: #00af00; text-decoration-color: #00af00\">0</span> │\n",
              "├─────────────────────────────────┼────────────────────────┼───────────────┤\n",
              "│ dropout (<span style=\"color: #0087ff; text-decoration-color: #0087ff\">Dropout</span>)               │ (<span style=\"color: #00d7ff; text-decoration-color: #00d7ff\">None</span>, <span style=\"color: #00af00; text-decoration-color: #00af00\">128</span>)            │             <span style=\"color: #00af00; text-decoration-color: #00af00\">0</span> │\n",
              "├─────────────────────────────────┼────────────────────────┼───────────────┤\n",
              "│ dense_1 (<span style=\"color: #0087ff; text-decoration-color: #0087ff\">Dense</span>)                 │ (<span style=\"color: #00d7ff; text-decoration-color: #00d7ff\">None</span>, <span style=\"color: #00af00; text-decoration-color: #00af00\">12</span>)             │         <span style=\"color: #00af00; text-decoration-color: #00af00\">1,548</span> │\n",
              "└─────────────────────────────────┴────────────────────────┴───────────────┘\n",
              "</pre>\n"
            ],
            "text/plain": [
              "┏━━━━━━━━━━━━━━━━━━━━━━━━━━━━━━━━━┳━━━━━━━━━━━━━━━━━━━━━━━━┳━━━━━━━━━━━━━━━┓\n",
              "┃\u001b[1m \u001b[0m\u001b[1mLayer (type)                   \u001b[0m\u001b[1m \u001b[0m┃\u001b[1m \u001b[0m\u001b[1mOutput Shape          \u001b[0m\u001b[1m \u001b[0m┃\u001b[1m \u001b[0m\u001b[1m      Param #\u001b[0m\u001b[1m \u001b[0m┃\n",
              "┡━━━━━━━━━━━━━━━━━━━━━━━━━━━━━━━━━╇━━━━━━━━━━━━━━━━━━━━━━━━╇━━━━━━━━━━━━━━━┩\n",
              "│ conv2d (\u001b[38;5;33mConv2D\u001b[0m)                 │ (\u001b[38;5;45mNone\u001b[0m, \u001b[38;5;34m126\u001b[0m, \u001b[38;5;34m429\u001b[0m, \u001b[38;5;34m32\u001b[0m)   │           \u001b[38;5;34m288\u001b[0m │\n",
              "├─────────────────────────────────┼────────────────────────┼───────────────┤\n",
              "│ batch_normalization             │ (\u001b[38;5;45mNone\u001b[0m, \u001b[38;5;34m126\u001b[0m, \u001b[38;5;34m429\u001b[0m, \u001b[38;5;34m32\u001b[0m)   │           \u001b[38;5;34m128\u001b[0m │\n",
              "│ (\u001b[38;5;33mBatchNormalization\u001b[0m)            │                        │               │\n",
              "├─────────────────────────────────┼────────────────────────┼───────────────┤\n",
              "│ activation (\u001b[38;5;33mActivation\u001b[0m)         │ (\u001b[38;5;45mNone\u001b[0m, \u001b[38;5;34m126\u001b[0m, \u001b[38;5;34m429\u001b[0m, \u001b[38;5;34m32\u001b[0m)   │             \u001b[38;5;34m0\u001b[0m │\n",
              "├─────────────────────────────────┼────────────────────────┼───────────────┤\n",
              "│ max_pooling2d (\u001b[38;5;33mMaxPooling2D\u001b[0m)    │ (\u001b[38;5;45mNone\u001b[0m, \u001b[38;5;34m63\u001b[0m, \u001b[38;5;34m214\u001b[0m, \u001b[38;5;34m32\u001b[0m)    │             \u001b[38;5;34m0\u001b[0m │\n",
              "├─────────────────────────────────┼────────────────────────┼───────────────┤\n",
              "│ conv2d_1 (\u001b[38;5;33mConv2D\u001b[0m)               │ (\u001b[38;5;45mNone\u001b[0m, \u001b[38;5;34m61\u001b[0m, \u001b[38;5;34m212\u001b[0m, \u001b[38;5;34m64\u001b[0m)    │        \u001b[38;5;34m18,432\u001b[0m │\n",
              "├─────────────────────────────────┼────────────────────────┼───────────────┤\n",
              "│ batch_normalization_1           │ (\u001b[38;5;45mNone\u001b[0m, \u001b[38;5;34m61\u001b[0m, \u001b[38;5;34m212\u001b[0m, \u001b[38;5;34m64\u001b[0m)    │           \u001b[38;5;34m256\u001b[0m │\n",
              "│ (\u001b[38;5;33mBatchNormalization\u001b[0m)            │                        │               │\n",
              "├─────────────────────────────────┼────────────────────────┼───────────────┤\n",
              "│ activation_1 (\u001b[38;5;33mActivation\u001b[0m)       │ (\u001b[38;5;45mNone\u001b[0m, \u001b[38;5;34m61\u001b[0m, \u001b[38;5;34m212\u001b[0m, \u001b[38;5;34m64\u001b[0m)    │             \u001b[38;5;34m0\u001b[0m │\n",
              "├─────────────────────────────────┼────────────────────────┼───────────────┤\n",
              "│ max_pooling2d_1 (\u001b[38;5;33mMaxPooling2D\u001b[0m)  │ (\u001b[38;5;45mNone\u001b[0m, \u001b[38;5;34m30\u001b[0m, \u001b[38;5;34m106\u001b[0m, \u001b[38;5;34m64\u001b[0m)    │             \u001b[38;5;34m0\u001b[0m │\n",
              "├─────────────────────────────────┼────────────────────────┼───────────────┤\n",
              "│ conv2d_2 (\u001b[38;5;33mConv2D\u001b[0m)               │ (\u001b[38;5;45mNone\u001b[0m, \u001b[38;5;34m28\u001b[0m, \u001b[38;5;34m104\u001b[0m, \u001b[38;5;34m128\u001b[0m)   │        \u001b[38;5;34m73,728\u001b[0m │\n",
              "├─────────────────────────────────┼────────────────────────┼───────────────┤\n",
              "│ batch_normalization_2           │ (\u001b[38;5;45mNone\u001b[0m, \u001b[38;5;34m28\u001b[0m, \u001b[38;5;34m104\u001b[0m, \u001b[38;5;34m128\u001b[0m)   │           \u001b[38;5;34m512\u001b[0m │\n",
              "│ (\u001b[38;5;33mBatchNormalization\u001b[0m)            │                        │               │\n",
              "├─────────────────────────────────┼────────────────────────┼───────────────┤\n",
              "│ activation_2 (\u001b[38;5;33mActivation\u001b[0m)       │ (\u001b[38;5;45mNone\u001b[0m, \u001b[38;5;34m28\u001b[0m, \u001b[38;5;34m104\u001b[0m, \u001b[38;5;34m128\u001b[0m)   │             \u001b[38;5;34m0\u001b[0m │\n",
              "├─────────────────────────────────┼────────────────────────┼───────────────┤\n",
              "│ max_pooling2d_2 (\u001b[38;5;33mMaxPooling2D\u001b[0m)  │ (\u001b[38;5;45mNone\u001b[0m, \u001b[38;5;34m14\u001b[0m, \u001b[38;5;34m52\u001b[0m, \u001b[38;5;34m128\u001b[0m)    │             \u001b[38;5;34m0\u001b[0m │\n",
              "├─────────────────────────────────┼────────────────────────┼───────────────┤\n",
              "│ flatten (\u001b[38;5;33mFlatten\u001b[0m)               │ (\u001b[38;5;45mNone\u001b[0m, \u001b[38;5;34m93184\u001b[0m)          │             \u001b[38;5;34m0\u001b[0m │\n",
              "├─────────────────────────────────┼────────────────────────┼───────────────┤\n",
              "│ dense (\u001b[38;5;33mDense\u001b[0m)                   │ (\u001b[38;5;45mNone\u001b[0m, \u001b[38;5;34m128\u001b[0m)            │    \u001b[38;5;34m11,927,552\u001b[0m │\n",
              "├─────────────────────────────────┼────────────────────────┼───────────────┤\n",
              "│ batch_normalization_3           │ (\u001b[38;5;45mNone\u001b[0m, \u001b[38;5;34m128\u001b[0m)            │           \u001b[38;5;34m512\u001b[0m │\n",
              "│ (\u001b[38;5;33mBatchNormalization\u001b[0m)            │                        │               │\n",
              "├─────────────────────────────────┼────────────────────────┼───────────────┤\n",
              "│ activation_3 (\u001b[38;5;33mActivation\u001b[0m)       │ (\u001b[38;5;45mNone\u001b[0m, \u001b[38;5;34m128\u001b[0m)            │             \u001b[38;5;34m0\u001b[0m │\n",
              "├─────────────────────────────────┼────────────────────────┼───────────────┤\n",
              "│ dropout (\u001b[38;5;33mDropout\u001b[0m)               │ (\u001b[38;5;45mNone\u001b[0m, \u001b[38;5;34m128\u001b[0m)            │             \u001b[38;5;34m0\u001b[0m │\n",
              "├─────────────────────────────────┼────────────────────────┼───────────────┤\n",
              "│ dense_1 (\u001b[38;5;33mDense\u001b[0m)                 │ (\u001b[38;5;45mNone\u001b[0m, \u001b[38;5;34m12\u001b[0m)             │         \u001b[38;5;34m1,548\u001b[0m │\n",
              "└─────────────────────────────────┴────────────────────────┴───────────────┘\n"
            ]
          },
          "metadata": {},
          "output_type": "display_data"
        },
        {
          "data": {
            "text/html": [
              "<pre style=\"white-space:pre;overflow-x:auto;line-height:normal;font-family:Menlo,'DejaVu Sans Mono',consolas,'Courier New',monospace\"><span style=\"font-weight: bold\"> Total params: </span><span style=\"color: #00af00; text-decoration-color: #00af00\">12,022,956</span> (45.86 MB)\n",
              "</pre>\n"
            ],
            "text/plain": [
              "\u001b[1m Total params: \u001b[0m\u001b[38;5;34m12,022,956\u001b[0m (45.86 MB)\n"
            ]
          },
          "metadata": {},
          "output_type": "display_data"
        },
        {
          "data": {
            "text/html": [
              "<pre style=\"white-space:pre;overflow-x:auto;line-height:normal;font-family:Menlo,'DejaVu Sans Mono',consolas,'Courier New',monospace\"><span style=\"font-weight: bold\"> Trainable params: </span><span style=\"color: #00af00; text-decoration-color: #00af00\">12,022,252</span> (45.86 MB)\n",
              "</pre>\n"
            ],
            "text/plain": [
              "\u001b[1m Trainable params: \u001b[0m\u001b[38;5;34m12,022,252\u001b[0m (45.86 MB)\n"
            ]
          },
          "metadata": {},
          "output_type": "display_data"
        },
        {
          "data": {
            "text/html": [
              "<pre style=\"white-space:pre;overflow-x:auto;line-height:normal;font-family:Menlo,'DejaVu Sans Mono',consolas,'Courier New',monospace\"><span style=\"font-weight: bold\"> Non-trainable params: </span><span style=\"color: #00af00; text-decoration-color: #00af00\">704</span> (2.75 KB)\n",
              "</pre>\n"
            ],
            "text/plain": [
              "\u001b[1m Non-trainable params: \u001b[0m\u001b[38;5;34m704\u001b[0m (2.75 KB)\n"
            ]
          },
          "metadata": {},
          "output_type": "display_data"
        }
      ],
      "source": [
        "#l2 regularisation\n",
        "ltwo_reg = 0.1\n",
        "\n",
        "# Initialize the model\n",
        "model = Sequential()\n",
        "\n",
        "#Convolution layers\n",
        "model.add(Conv2D(32, (3, 3), kernel_regularizer=l2(ltwo_reg), input_shape=(128, 431, 1), use_bias=False))\n",
        "model.add(BatchNormalization())\n",
        "model.add(Activation('relu'))\n",
        "model.add(MaxPooling2D((2, 2)))\n",
        "\n",
        "model.add(Conv2D(64, (3, 3), kernel_regularizer=l2(ltwo_reg), use_bias=False))\n",
        "model.add(BatchNormalization())\n",
        "model.add(Activation('relu'))\n",
        "model.add(MaxPooling2D((2, 2)))\n",
        "\n",
        "model.add(Conv2D(128, (3, 3), kernel_regularizer=l2(ltwo_reg), use_bias=False))\n",
        "model.add(BatchNormalization())\n",
        "model.add(Activation('relu'))\n",
        "model.add(MaxPooling2D((2, 2)))\n",
        "\n",
        "# Flatten layer\n",
        "model.add(Flatten())\n",
        "\n",
        "# Fully connected layers with L2 regularization\n",
        "model.add(Dense(128, kernel_regularizer=l2(ltwo_reg), use_bias=False))\n",
        "model.add(BatchNormalization())\n",
        "model.add(Activation('relu'))\n",
        "model.add(Dropout(0.5))\n",
        "\n",
        "# Output layer\n",
        "model.add(Dense(num_classes, activation='softmax', kernel_regularizer=l2(ltwo_reg)))\n",
        "\n",
        "# Compile the model\n",
        "model.compile(optimizer='adam', loss='categorical_crossentropy', metrics=['accuracy'])\n",
        "\n",
        "# Print the model summary\n",
        "model.summary()"
      ]
    },
    {
      "cell_type": "code",
      "execution_count": 38,
      "metadata": {},
      "outputs": [
        {
          "data": {
            "text/plain": [
              "(2239, 128, 431, 1)"
            ]
          },
          "execution_count": 38,
          "metadata": {},
          "output_type": "execute_result"
        }
      ],
      "source": [
        "data.shape"
      ]
    },
    {
      "cell_type": "code",
      "execution_count": 39,
      "metadata": {},
      "outputs": [
        {
          "name": "stdout",
          "output_type": "stream",
          "text": [
            "Epoch 1/100\n",
            "\u001b[1m63/63\u001b[0m \u001b[32m━━━━━━━━━━━━━━━━━━━━\u001b[0m\u001b[37m\u001b[0m \u001b[1m25s\u001b[0m 365ms/step - accuracy: 0.2059 - loss: 31.1586 - val_accuracy: 0.3705 - val_loss: 7.7583\n",
            "Epoch 2/100\n",
            "\u001b[1m63/63\u001b[0m \u001b[32m━━━━━━━━━━━━━━━━━━━━\u001b[0m\u001b[37m\u001b[0m \u001b[1m23s\u001b[0m 361ms/step - accuracy: 0.2744 - loss: 6.3856 - val_accuracy: 0.3705 - val_loss: 4.8851\n",
            "Epoch 3/100\n",
            "\u001b[1m63/63\u001b[0m \u001b[32m━━━━━━━━━━━━━━━━━━━━\u001b[0m\u001b[37m\u001b[0m \u001b[1m23s\u001b[0m 359ms/step - accuracy: 0.2846 - loss: 4.4387 - val_accuracy: 0.3705 - val_loss: 3.8868\n",
            "Epoch 4/100\n",
            "\u001b[1m63/63\u001b[0m \u001b[32m━━━━━━━━━━━━━━━━━━━━\u001b[0m\u001b[37m\u001b[0m \u001b[1m23s\u001b[0m 360ms/step - accuracy: 0.3165 - loss: 3.6649 - val_accuracy: 0.0759 - val_loss: 3.5896\n",
            "Epoch 5/100\n",
            "\u001b[1m63/63\u001b[0m \u001b[32m━━━━━━━━━━━━━━━━━━━━\u001b[0m\u001b[37m\u001b[0m \u001b[1m23s\u001b[0m 360ms/step - accuracy: 0.3325 - loss: 3.3029 - val_accuracy: 0.3705 - val_loss: 3.2508\n",
            "Epoch 6/100\n",
            "\u001b[1m63/63\u001b[0m \u001b[32m━━━━━━━━━━━━━━━━━━━━\u001b[0m\u001b[37m\u001b[0m \u001b[1m23s\u001b[0m 360ms/step - accuracy: 0.3223 - loss: 2.9972 - val_accuracy: 0.3705 - val_loss: 3.0690\n",
            "Epoch 7/100\n",
            "\u001b[1m63/63\u001b[0m \u001b[32m━━━━━━━━━━━━━━━━━━━━\u001b[0m\u001b[37m\u001b[0m \u001b[1m23s\u001b[0m 360ms/step - accuracy: 0.3232 - loss: 2.8716 - val_accuracy: 0.3705 - val_loss: 2.9503\n",
            "Epoch 8/100\n",
            "\u001b[1m63/63\u001b[0m \u001b[32m━━━━━━━━━━━━━━━━━━━━\u001b[0m\u001b[37m\u001b[0m \u001b[1m23s\u001b[0m 360ms/step - accuracy: 0.3309 - loss: 2.7626 - val_accuracy: 0.3705 - val_loss: 2.8683\n",
            "Epoch 9/100\n",
            "\u001b[1m63/63\u001b[0m \u001b[32m━━━━━━━━━━━━━━━━━━━━\u001b[0m\u001b[37m\u001b[0m \u001b[1m23s\u001b[0m 359ms/step - accuracy: 0.3240 - loss: 2.7249 - val_accuracy: 0.3705 - val_loss: 2.9655\n",
            "Epoch 10/100\n",
            "\u001b[1m63/63\u001b[0m \u001b[32m━━━━━━━━━━━━━━━━━━━━\u001b[0m\u001b[37m\u001b[0m \u001b[1m23s\u001b[0m 360ms/step - accuracy: 0.3374 - loss: 2.6774 - val_accuracy: 0.3705 - val_loss: 2.7952\n",
            "Epoch 11/100\n",
            "\u001b[1m63/63\u001b[0m \u001b[32m━━━━━━━━━━━━━━━━━━━━\u001b[0m\u001b[37m\u001b[0m \u001b[1m23s\u001b[0m 360ms/step - accuracy: 0.3354 - loss: 2.6360 - val_accuracy: 0.3705 - val_loss: 2.8384\n",
            "Epoch 12/100\n",
            "\u001b[1m63/63\u001b[0m \u001b[32m━━━━━━━━━━━━━━━━━━━━\u001b[0m\u001b[37m\u001b[0m \u001b[1m23s\u001b[0m 361ms/step - accuracy: 0.3039 - loss: 2.6667 - val_accuracy: 0.3705 - val_loss: 2.7259\n",
            "Epoch 13/100\n",
            "\u001b[1m63/63\u001b[0m \u001b[32m━━━━━━━━━━━━━━━━━━━━\u001b[0m\u001b[37m\u001b[0m \u001b[1m23s\u001b[0m 360ms/step - accuracy: 0.3058 - loss: 2.6357 - val_accuracy: 0.3705 - val_loss: 2.8531\n",
            "Epoch 14/100\n",
            "\u001b[1m63/63\u001b[0m \u001b[32m━━━━━━━━━━━━━━━━━━━━\u001b[0m\u001b[37m\u001b[0m \u001b[1m23s\u001b[0m 360ms/step - accuracy: 0.3183 - loss: 2.6870 - val_accuracy: 0.3705 - val_loss: 2.7970\n",
            "Epoch 15/100\n",
            "\u001b[1m63/63\u001b[0m \u001b[32m━━━━━━━━━━━━━━━━━━━━\u001b[0m\u001b[37m\u001b[0m \u001b[1m23s\u001b[0m 358ms/step - accuracy: 0.3216 - loss: 2.6298 - val_accuracy: 0.3705 - val_loss: 2.7343\n",
            "Epoch 16/100\n",
            "\u001b[1m63/63\u001b[0m \u001b[32m━━━━━━━━━━━━━━━━━━━━\u001b[0m\u001b[37m\u001b[0m \u001b[1m23s\u001b[0m 357ms/step - accuracy: 0.3184 - loss: 2.7089 - val_accuracy: 0.3705 - val_loss: 4.4422\n",
            "Epoch 17/100\n",
            "\u001b[1m63/63\u001b[0m \u001b[32m━━━━━━━━━━━━━━━━━━━━\u001b[0m\u001b[37m\u001b[0m \u001b[1m23s\u001b[0m 358ms/step - accuracy: 0.3269 - loss: 2.6421 - val_accuracy: 0.3705 - val_loss: 2.5554\n",
            "Epoch 18/100\n",
            "\u001b[1m63/63\u001b[0m \u001b[32m━━━━━━━━━━━━━━━━━━━━\u001b[0m\u001b[37m\u001b[0m \u001b[1m23s\u001b[0m 361ms/step - accuracy: 0.3327 - loss: 2.6637 - val_accuracy: 0.3705 - val_loss: 2.7973\n",
            "Epoch 19/100\n",
            "\u001b[1m63/63\u001b[0m \u001b[32m━━━━━━━━━━━━━━━━━━━━\u001b[0m\u001b[37m\u001b[0m \u001b[1m23s\u001b[0m 360ms/step - accuracy: 0.3095 - loss: 2.6961 - val_accuracy: 0.3705 - val_loss: 2.7609\n",
            "Epoch 20/100\n",
            "\u001b[1m63/63\u001b[0m \u001b[32m━━━━━━━━━━━━━━━━━━━━\u001b[0m\u001b[37m\u001b[0m \u001b[1m23s\u001b[0m 360ms/step - accuracy: 0.3264 - loss: 2.7470 - val_accuracy: 0.3705 - val_loss: 3.6800\n",
            "Epoch 21/100\n",
            "\u001b[1m63/63\u001b[0m \u001b[32m━━━━━━━━━━━━━━━━━━━━\u001b[0m\u001b[37m\u001b[0m \u001b[1m23s\u001b[0m 358ms/step - accuracy: 0.3319 - loss: 2.6965 - val_accuracy: 0.3705 - val_loss: 2.7808\n",
            "Epoch 22/100\n",
            "\u001b[1m63/63\u001b[0m \u001b[32m━━━━━━━━━━━━━━━━━━━━\u001b[0m\u001b[37m\u001b[0m \u001b[1m23s\u001b[0m 360ms/step - accuracy: 0.3225 - loss: 2.7749 - val_accuracy: 0.3705 - val_loss: 2.7783\n",
            "Epoch 23/100\n",
            "\u001b[1m63/63\u001b[0m \u001b[32m━━━━━━━━━━━━━━━━━━━━\u001b[0m\u001b[37m\u001b[0m \u001b[1m23s\u001b[0m 359ms/step - accuracy: 0.3303 - loss: 2.7226 - val_accuracy: 0.3705 - val_loss: 2.8381\n",
            "Epoch 23: early stopping\n",
            "Restoring model weights from the end of the best epoch: 17.\n"
          ]
        }
      ],
      "source": [
        "#Fitting the model and early stopping\n",
        "early_stopper = EarlyStopping(monitor='val_loss', patience=6, verbose=1, restore_best_weights=True)\n",
        "\n",
        "history = model.fit(\n",
        "    X_train,\n",
        "    y_train,\n",
        "    epochs=100,\n",
        "    batch_size=32,\n",
        "    validation_data=(X_val, y_val),\n",
        "    callbacks=[early_stopper]\n",
        ")"
      ]
    },
    {
      "cell_type": "code",
      "execution_count": 40,
      "metadata": {},
      "outputs": [
        {
          "data": {
            "image/png": "[encoded data removed]",
            "text/plain": [
              "<Figure size 640x480 with 1 Axes>"
            ]
          },
          "metadata": {},
          "output_type": "display_data"
        },
        {
          "data": {
            "image/png": "[encoded data removed]",
            "text/plain": [
              "<Figure size 640x480 with 1 Axes>"
            ]
          },
          "metadata": {},
          "output_type": "display_data"
        }
      ],
      "source": [
        "# Plot training loss\n",
        "plt.plot(history.history['loss'], label='Training Loss')\n",
        "plt.plot(history.history['val_loss'], label='Validation Loss')\n",
        "plt.title('Training and Validation Loss')\n",
        "plt.xlabel('Epoch')\n",
        "plt.ylabel('Loss')\n",
        "plt.legend()\n",
        "plt.show()\n",
        "\n",
        "# Plot training accuracy\n",
        "plt.plot(history.history['accuracy'], label='Training Accuracy')\n",
        "plt.plot(history.history['val_accuracy'], label='Validation Accuracy')\n",
        "plt.title('Training and Validation Accuracy')\n",
        "plt.xlabel('Epoch')\n",
        "plt.ylabel('Accuracy')\n",
        "plt.legend()\n",
        "plt.show()"
      ]
    },
    {
      "cell_type": "code",
      "execution_count": 52,
      "metadata": {},
      "outputs": [
        {
          "name": "stdout",
          "output_type": "stream",
          "text": [
            "\u001b[1m2/7\u001b[0m \u001b[32m━━━━━\u001b[0m\u001b[37m━━━━━━━━━━━━━━━\u001b[0m \u001b[1m0s\u001b[0m 57ms/step"
          ]
        },
        {
          "name": "stdout",
          "output_type": "stream",
          "text": [
            "\u001b[1m7/7\u001b[0m \u001b[32m━━━━━━━━━━━━━━━━━━━━\u001b[0m\u001b[37m\u001b[0m \u001b[1m0s\u001b[0m 56ms/step\n"
          ]
        }
      ],
      "source": [
        "class_labels = ['classical', 'country', 'dance music', 'electronic', 'folk', 'hip hop', \n",
        "               'instrumental', 'jazz', 'orchestra', 'pop', 'r&b', 'rock']\n",
        "\n",
        "predictions = model.predict(X_val)\n",
        "predicted_labels = np.argmax(predictions, axis=1)  # Converting probabilities to class labels\n",
        "ground_truth = np.argmax(y_val, axis=1)  # Converting one-hot encoded ground truth to class labels\n",
        "\n",
        "# Reshape predicted_labels and ground_truth to be 1D arrays\n",
        "predicted_labels = np.reshape(predicted_labels, (-1,))\n",
        "ground_truth = np.reshape(ground_truth, (-1,))\n",
        "\n",
        "predicted_labels = [class_labels[i] for i in predicted_labels]\n",
        "ground_truth = [class_labels[i] for i in ground_truth]\n",
        "\n",
        "# Creating a table with prediction and ground truth\n",
        "comparison_table = pd.DataFrame({'Predicted': predicted_labels, 'Ground Truth': ground_truth})"
      ]
    },
    {
      "cell_type": "code",
      "execution_count": 53,
      "metadata": {},
      "outputs": [
        {
          "data": {
            "text/html": [
              "<div>\n",
              "<style scoped>\n",
              "    .dataframe tbody tr th:only-of-type {\n",
              "        vertical-align: middle;\n",
              "    }\n",
              "\n",
              "    .dataframe tbody tr th {\n",
              "        vertical-align: top;\n",
              "    }\n",
              "\n",
              "    .dataframe thead th {\n",
              "        text-align: right;\n",
              "    }\n",
              "</style>\n",
              "<table border=\"1\" class=\"dataframe\">\n",
              "  <thead>\n",
              "    <tr style=\"text-align: right;\">\n",
              "      <th></th>\n",
              "      <th>Predicted</th>\n",
              "      <th>Ground Truth</th>\n",
              "    </tr>\n",
              "  </thead>\n",
              "  <tbody>\n",
              "    <tr>\n",
              "      <th>0</th>\n",
              "      <td>instrumental</td>\n",
              "      <td>electronic</td>\n",
              "    </tr>\n",
              "    <tr>\n",
              "      <th>1</th>\n",
              "      <td>instrumental</td>\n",
              "      <td>classical</td>\n",
              "    </tr>\n",
              "    <tr>\n",
              "      <th>2</th>\n",
              "      <td>instrumental</td>\n",
              "      <td>instrumental</td>\n",
              "    </tr>\n",
              "    <tr>\n",
              "      <th>3</th>\n",
              "      <td>instrumental</td>\n",
              "      <td>pop</td>\n",
              "    </tr>\n",
              "    <tr>\n",
              "      <th>4</th>\n",
              "      <td>instrumental</td>\n",
              "      <td>electronic</td>\n",
              "    </tr>\n",
              "    <tr>\n",
              "      <th>...</th>\n",
              "      <td>...</td>\n",
              "      <td>...</td>\n",
              "    </tr>\n",
              "    <tr>\n",
              "      <th>219</th>\n",
              "      <td>instrumental</td>\n",
              "      <td>instrumental</td>\n",
              "    </tr>\n",
              "    <tr>\n",
              "      <th>220</th>\n",
              "      <td>instrumental</td>\n",
              "      <td>orchestra</td>\n",
              "    </tr>\n",
              "    <tr>\n",
              "      <th>221</th>\n",
              "      <td>instrumental</td>\n",
              "      <td>rock</td>\n",
              "    </tr>\n",
              "    <tr>\n",
              "      <th>222</th>\n",
              "      <td>instrumental</td>\n",
              "      <td>instrumental</td>\n",
              "    </tr>\n",
              "    <tr>\n",
              "      <th>223</th>\n",
              "      <td>instrumental</td>\n",
              "      <td>instrumental</td>\n",
              "    </tr>\n",
              "  </tbody>\n",
              "</table>\n",
              "<p>224 rows × 2 columns</p>\n",
              "</div>"
            ],
            "text/plain": [
              "        Predicted  Ground Truth\n",
              "0    instrumental    electronic\n",
              "1    instrumental     classical\n",
              "2    instrumental  instrumental\n",
              "3    instrumental           pop\n",
              "4    instrumental    electronic\n",
              "..            ...           ...\n",
              "219  instrumental  instrumental\n",
              "220  instrumental     orchestra\n",
              "221  instrumental          rock\n",
              "222  instrumental  instrumental\n",
              "223  instrumental  instrumental\n",
              "\n",
              "[224 rows x 2 columns]"
            ]
          },
          "execution_count": 53,
          "metadata": {},
          "output_type": "execute_result"
        }
      ],
      "source": [
        "comparison_table"
      ]
    },
    {
      "cell_type": "code",
      "execution_count": 54,
      "metadata": {},
      "outputs": [
        {
          "data": {
            "text/plain": [
              "Ground Truth\n",
              "instrumental    83\n",
              "rock            28\n",
              "classical       24\n",
              "pop             21\n",
              "electronic      17\n",
              "hip hop         11\n",
              "dance music     11\n",
              "country          7\n",
              "orchestra        7\n",
              "folk             6\n",
              "jazz             6\n",
              "r&b              3\n",
              "Name: count, dtype: int64"
            ]
          },
          "execution_count": 54,
          "metadata": {},
          "output_type": "execute_result"
        }
      ],
      "source": [
        "comparison_table['Ground Truth'].value_counts()"
      ]
    },
    {
      "cell_type": "code",
      "execution_count": null,
      "metadata": {
        "id": "-j4Mkqae20mE"
      },
      "outputs": [],
      "source": [
        "# Save the model\n",
        "model.save('/content/drive/MyDrive/colab_data/cnn_4k_l20.002_30ep.keras')"
      ]
    },
    {
      "cell_type": "code",
      "execution_count": null,
      "metadata": {
        "id": "fKRlgmfHI3Js"
      },
      "outputs": [],
      "source": [
        "# Load the model\n",
        "loaded_model = load_model('/content/drive/MyDrive/colab_data/cnn_3k_l20.004_30ep.keras')"
      ]
    },
    {
      "cell_type": "code",
      "execution_count": 40,
      "metadata": {},
      "outputs": [
        {
          "name": "stdout",
          "output_type": "stream",
          "text": [
            "\u001b[1m8/8\u001b[0m \u001b[32m━━━━━━━━━━━━━━━━━━━━\u001b[0m\u001b[37m\u001b[0m \u001b[1m0s\u001b[0m 49ms/step - accuracy: 0.3287 - loss: 2.6297\n",
            "Validation Loss: 2.602569341659546, Validation Accuracy: 0.3539822995662689\n"
          ]
        }
      ],
      "source": [
        "# last val loss and val acc\n",
        "loss, accuracy = model.evaluate(X_val, y_val)\n",
        "print(f'Validation Loss: {loss}, Validation Accuracy: {accuracy}')"
      ]
    },
    {
      "cell_type": "code",
      "execution_count": null,
      "metadata": {},
      "outputs": [],
      "source": []
    },
    {
      "cell_type": "code",
      "execution_count": null,
      "metadata": {},
      "outputs": [],
      "source": []
    },
    {
      "cell_type": "code",
      "execution_count": null,
      "metadata": {},
      "outputs": [],
      "source": []
    },
    {
      "cell_type": "code",
      "execution_count": null,
      "metadata": {},
      "outputs": [],
      "source": []
    },
    {
      "cell_type": "code",
      "execution_count": null,
      "metadata": {},
      "outputs": [],
      "source": []
    },
    {
      "cell_type": "code",
      "execution_count": null,
      "metadata": {},
      "outputs": [],
      "source": []
    },
    {
      "cell_type": "code",
      "execution_count": null,
      "metadata": {},
      "outputs": [],
      "source": []
    },
    {
      "cell_type": "code",
      "execution_count": null,
      "metadata": {},
      "outputs": [],
      "source": []
    },
    {
      "cell_type": "code",
      "execution_count": null,
      "metadata": {
        "colab": {
          "base_uri": "https://localhost:8080/"
        },
        "id": "thR_D7ujUvtV",
        "outputId": "3c44b786-2079-4be6-b7fc-6c9d8de1d6f4"
      },
      "outputs": [],
      "source": [
        "# # Train model\n",
        "# history = model.fit(X_train, y_train, batch_size=32, epochs=10, validation_data=(X_val, y_val))\n",
        "\n",
        "# # history = model.fit(\n",
        "# #     augmented_data_gen,\n",
        "# #     steps_per_epoch=len(X_train) // batch_size,\n",
        "# #     epochs=10,  # Number of epochs to train for\n",
        "# #     validation_data=(X_val, y_val)\n",
        "# # )"
      ]
    },
    {
      "cell_type": "code",
      "execution_count": null,
      "metadata": {
        "colab": {
          "base_uri": "https://localhost:8080/"
        },
        "id": "n0eSqbAwhDTS",
        "outputId": "79105061-bf68-4eb2-9988-c100d2e85c50"
      },
      "outputs": [],
      "source": [
        "# # Train for 10 more epochs\n",
        "# history_20 = model.fit(X_train, y_train, batch_size=32, epochs=20, validation_data=(X_val, y_val), initial_epoch=10)\n",
        "\n",
        "# # history_20 = model.fit(\n",
        "# #     augmented_data_gen,\n",
        "# #     steps_per_epoch=len(X_train) // batch_size,\n",
        "# #     epochs=20,\n",
        "# #     validation_data=(X_val, y_val),\n",
        "# #     initial_epoch=10\n",
        "# # )"
      ]
    },
    {
      "cell_type": "code",
      "execution_count": null,
      "metadata": {
        "colab": {
          "base_uri": "https://localhost:8080/"
        },
        "id": "Y9CtIapt2qL1",
        "outputId": "0c6129d3-f2d5-4fe2-c728-e69b878a77cd"
      },
      "outputs": [],
      "source": [
        "# # Train for 10 more epochs\n",
        "# history_30 = model.fit(X_train, y_train, batch_size=32, epochs=30, validation_data=(X_val, y_val), initial_epoch=20)\n",
        "\n",
        "# # history_30 = model.fit(\n",
        "# #     augmented_data_gen,\n",
        "# #     steps_per_epoch=len(X_train) // batch_size,\n",
        "# #     epochs=30,\n",
        "# #     validation_data=(X_val, y_val),\n",
        "# #     initial_epoch=20\n",
        "# # )"
      ]
    },
    {
      "cell_type": "code",
      "execution_count": null,
      "metadata": {
        "colab": {
          "base_uri": "https://localhost:8080/"
        },
        "id": "kLC3tdizX9sm",
        "outputId": "0b78bbf2-8b32-4bfc-8a72-91f48317dd46"
      },
      "outputs": [],
      "source": [
        "# history_40 = model.fit(X_train, y_train, batch_size=32, epochs=40, validation_data=(X_val, y_val), initial_epoch=30)"
      ]
    },
    {
      "cell_type": "code",
      "execution_count": null,
      "metadata": {
        "colab": {
          "base_uri": "https://localhost:8080/"
        },
        "id": "npLdJc5HdtQ1",
        "outputId": "4a7ad3b5-3d95-482e-e175-e9b3d1584e60"
      },
      "outputs": [],
      "source": [
        "# history_50 = model.fit(X_train, y_train, batch_size=32, epochs=50, validation_data=(X_val, y_val), initial_epoch=40)"
      ]
    },
    {
      "cell_type": "code",
      "execution_count": null,
      "metadata": {
        "colab": {
          "base_uri": "https://localhost:8080/"
        },
        "id": "zJnnL33uZzIz",
        "outputId": "54b4908a-3897-4e20-9155-f923e1f2a3d7"
      },
      "outputs": [],
      "source": [
        "# history_60 = model.fit(X_train, y_train, batch_size=32, epochs=60, validation_data=(X_val, y_val), initial_epoch=50)"
      ]
    },
    {
      "cell_type": "code",
      "execution_count": null,
      "metadata": {
        "colab": {
          "base_uri": "https://localhost:8080/"
        },
        "id": "5hacpAreZ6q4",
        "outputId": "b7fd6c46-a650-483e-c04a-d035bd151be2"
      },
      "outputs": [],
      "source": [
        "# history_70 = model.fit(X_train, y_train, batch_size=32, epochs=70, validation_data=(X_val, y_val), initial_epoch=60)"
      ]
    },
    {
      "cell_type": "code",
      "execution_count": null,
      "metadata": {
        "colab": {
          "base_uri": "https://localhost:8080/"
        },
        "id": "OvvS19vpaPhx",
        "outputId": "2ad9862e-9a38-45d7-c230-d3399461270e"
      },
      "outputs": [],
      "source": [
        "# history_80 = model.fit(X_train, y_train, batch_size=32, epochs=80, validation_data=(X_val, y_val), initial_epoch=70)"
      ]
    },
    {
      "cell_type": "code",
      "execution_count": null,
      "metadata": {
        "colab": {
          "base_uri": "https://localhost:8080/"
        },
        "id": "09G373aMcHbw",
        "outputId": "dbcb7a5e-6e49-41fd-f18c-a8be33f31287"
      },
      "outputs": [],
      "source": [
        "# history_90 = model.fit(X_train, y_train, batch_size=32, epochs=90, validation_data=(X_val, y_val), initial_epoch=80)"
      ]
    },
    {
      "cell_type": "code",
      "execution_count": null,
      "metadata": {
        "colab": {
          "base_uri": "https://localhost:8080/"
        },
        "id": "aDGVknNScX1g",
        "outputId": "4d98e7da-ec81-468c-f040-07cb08a4a6e9"
      },
      "outputs": [],
      "source": [
        "# history_100 = model.fit(X_train, y_train, batch_size=32, epochs=100, validation_data=(X_val, y_val), initial_epoch=90)"
      ]
    },
    {
      "cell_type": "code",
      "execution_count": null,
      "metadata": {
        "id": "vTTxD_MshbJw"
      },
      "outputs": [],
      "source": [
        "# # Concatenate the old and new history\n",
        "# full_history = {}\n",
        "# for key in history.history.keys():\n",
        "#     # full_history[key] = history.history[key] + history_20.history[key] + history_30.history[key] + history_40.history[key] + history_50.history[key] + history_60.history[key] + history_70.history[key] + history_80.history[key] + history_90.history[key] + history_100.history[key]\n",
        "#     full_history[key] = history.history[key] + history_20.history[key]"
      ]
    },
    {
      "cell_type": "code",
      "execution_count": null,
      "metadata": {
        "colab": {
          "base_uri": "https://localhost:8080/",
          "height": 927
        },
        "id": "nGcI_J4kCThE",
        "outputId": "2361faf3-d743-4fca-96f1-954a02a0b0a5"
      },
      "outputs": [],
      "source": [
        "# # Plot training loss\n",
        "# plt.plot(full_history['loss'], label='Training Loss')\n",
        "# plt.plot(full_history['val_loss'], label='Validation Loss')\n",
        "# plt.title('Training and Validation Loss')\n",
        "# plt.xlabel('Epoch')\n",
        "# plt.ylabel('Loss')\n",
        "# plt.legend()\n",
        "# plt.show()\n",
        "\n",
        "# # Plot training accuracy\n",
        "# plt.plot(full_history['accuracy'], label='Training Accuracy')\n",
        "# plt.plot(full_history['val_accuracy'], label='Validation Accuracy')\n",
        "# plt.title('Training and Validation Accuracy')\n",
        "# plt.xlabel('Epoch')\n",
        "# plt.ylabel('Accuracy')\n",
        "# plt.legend()\n",
        "# plt.show()\n"
      ]
    },
    {
      "cell_type": "code",
      "execution_count": null,
      "metadata": {
        "id": "SVpRcKz3SZAb"
      },
      "outputs": [],
      "source": [
        "# #checking the no. of spectrograms and their size\n",
        "# mel_dir = '/home/mendu/Thesis/data/musiccaps/audio'\n",
        "# mel_list = os.listdir(mel_dir)\n",
        "# # mel_npy = np.load(f'{mel_dir}/{mel_list[25]}') #loading the 26th file to check the size\n",
        "# print('Count of npy files: ', len(mel_list))\n",
        "# # print('Size of image: ', mel_npy.shape)"
      ]
    },
    {
      "cell_type": "code",
      "execution_count": null,
      "metadata": {},
      "outputs": [],
      "source": [
        "# # Filter rows based on genre tags\n",
        "# filtered_df = meta_df[meta_df['aspect_list'].apply(lambda x: any(tag in x for tag in genre_tags))]\n",
        "\n",
        "# print(filtered_df)"
      ]
    },
    {
      "cell_type": "code",
      "execution_count": null,
      "metadata": {
        "colab": {
          "base_uri": "https://localhost:8080/",
          "height": 591
        },
        "id": "_MXKl7KEJiBd",
        "outputId": "67406196-8738-43d4-c2b0-8342c559baa4"
      },
      "outputs": [],
      "source": [
        "# import matplotlib.pyplot as plt\n",
        "\n",
        "# # Define the data\n",
        "# epochs = list(range(1, 31))  # Assuming 30 epochs\n",
        "# train_loss = [3.1024, 2.3673, 2.2814, 2.2056, 2.1723, 2.1417, 2.1223, 2.1314, 2.1052, 2.1025, 2.0961, 2.0911, 2.0806, 2.1007, 2.0791, 2.0792, 2.0732, 2.0681, 2.0666, 2.0602, 2.0665, 2.0690, 2.0689, 2.0640, 2.0514, 2.0593, 2.0629, 2.0557, 2.0695, 2.0646]\n",
        "# val_loss = [2.3848, 2.2317, 2.1796, 2.1162, 2.0936, 2.0726, 2.0700, 2.0816, 2.1067, 2.0504, 2.0372, 2.0261, 2.0269, 2.0264, 2.0271, 2.0361, 2.0115, 2.0132, 1.9988, 2.0171, 2.0062, 2.0093, 2.0190, 2.0003, 1.9912, 2.0077, 2.0126, 1.9861, 2.0034, 2.0032]\n",
        "# train_accuracy = [0.2343, 0.2407, 0.2444, 0.2415, 0.2464, 0.2577, 0.2556, 0.2569, 0.2593, 0.2782, 0.2621, 0.2754, 0.2625, 0.2681, 0.2839, 0.2762, 0.2730, 0.2815, 0.2806, 0.2786, 0.2774, 0.2750, 0.2810, 0.2742, 0.2843, 0.2738, 0.2742, 0.2766, 0.2815, 0.2802]\n",
        "# val_accuracy = [0.2560, 0.2609, 0.2754, 0.2593, 0.2625, 0.2609, 0.2705, 0.2802, 0.2609, 0.2271, 0.2866, 0.2754, 0.2882, 0.2818, 0.2915, 0.2866, 0.2915, 0.2995, 0.3043, 0.3060, 0.2947, 0.2995, 0.2866, 0.3027, 0.3124, 0.3043, 0.3060, 0.3140, 0.2963, 0.2995]\n",
        "\n",
        "# # Plot training & validation accuracy values\n",
        "# plt.figure(figsize=(12, 6))\n",
        "# plt.subplot(1, 2, 1)\n",
        "# plt.plot(epochs, train_accuracy, label='Training Accuracy')\n",
        "# plt.plot(epochs, val_accuracy, label='Validation Accuracy')\n",
        "# plt.title('Model Accuracy')\n",
        "# plt.xlabel('Epoch')\n",
        "# plt.ylabel('Accuracy')\n",
        "# plt.legend()\n",
        "\n",
        "# # Plot training & validation loss values\n",
        "# plt.subplot(1, 2, 2)\n",
        "# plt.plot(epochs, train_loss, label='Training Loss')\n",
        "# plt.plot(epochs, val_loss, label='Validation Loss')\n",
        "# plt.title('Model Loss')\n",
        "# plt.xlabel('Epoch')\n",
        "# plt.ylabel('Loss')\n",
        "# plt.legend()\n",
        "\n",
        "# plt.tight_layout()\n",
        "# plt.show()\n"
      ]
    },
    {
      "cell_type": "code",
      "execution_count": null,
      "metadata": {
        "colab": {
          "base_uri": "https://localhost:8080/",
          "height": 591
        },
        "id": "MzUEd7OZDNVy",
        "outputId": "cb0b9002-5f7b-4fd0-e8bf-06bab38e480d"
      },
      "outputs": [],
      "source": [
        "# # Extend the data\n",
        "# epochs.extend(list(range(31, 41)))\n",
        "# train_loss.extend([2.0558, 2.0505, 2.0560, 2.0447, 2.0454, 2.0497, 2.0410, 2.0472, 2.0453, 2.0478])\n",
        "# val_loss.extend([1.9879, 1.9850, 1.9891, 1.9840, 2.0198, 1.9872, 1.9954, 1.9865, 1.9993, 1.9872])\n",
        "# train_accuracy.extend([0.2891, 0.2823, 0.2847, 0.2653, 0.2891, 0.2750, 0.2730, 0.2851, 0.2835, 0.2871])\n",
        "# val_accuracy.extend([0.3156, 0.3060, 0.3124, 0.3060, 0.3043, 0.3011, 0.2963, 0.3092, 0.3124, 0.3060])\n",
        "\n",
        "# # Plot the data\n",
        "# import matplotlib.pyplot as plt\n",
        "\n",
        "# plt.figure(figsize=(12, 6))\n",
        "\n",
        "# # Loss plot\n",
        "# plt.subplot(1, 2, 1)\n",
        "# plt.plot(epochs, train_loss, label='Training Loss')\n",
        "# plt.plot(epochs, val_loss, label='Validation Loss')\n",
        "# plt.title('Training and Validation Loss')\n",
        "# plt.xlabel('Epochs')\n",
        "# plt.ylabel('Loss')\n",
        "# plt.legend()\n",
        "\n",
        "# # Accuracy plot\n",
        "# plt.subplot(1, 2, 2)\n",
        "# plt.plot(epochs, train_accuracy, label='Training Accuracy')\n",
        "# plt.plot(epochs, val_accuracy, label='Validation Accuracy')\n",
        "# plt.title('Training and Validation Accuracy')\n",
        "# plt.xlabel('Epochs')\n",
        "# plt.ylabel('Accuracy')\n",
        "# plt.legend()\n",
        "\n",
        "# plt.tight_layout()\n",
        "# plt.show()\n"
      ]
    },
    {
      "cell_type": "code",
      "execution_count": null,
      "metadata": {
        "id": "ggjow7E8q8uh"
      },
      "outputs": [],
      "source": [
        "#This was without l2 reg\n",
        "\n",
        "'''\n",
        "model = Sequential()\n",
        "\n",
        "# Convolutional layers\n",
        "model.add(Conv2D(32, (3, 3), activation='relu', input_shape=(96, 1406, 1)))\n",
        "model.add(MaxPooling2D((2, 2)))\n",
        "model.add(Conv2D(64, (3, 3), activation='relu'))\n",
        "model.add(MaxPooling2D((2, 2)))\n",
        "model.add(Conv2D(128, (3, 3), activation='relu'))\n",
        "model.add(MaxPooling2D((2, 2)))\n",
        "\n",
        "# Flatten layer to transition from convolutional layers to fully connected layers\n",
        "model.add(Flatten())\n",
        "\n",
        "# Fully connected layers\n",
        "model.add(Dense(256, activation='relu'))\n",
        "model.add(Dropout(0.5))  # Introducing dropout for regularization\n",
        "model.add(Dense(128, activation='relu'))\n",
        "model.add(Dropout(0.5))  # Introducing dropout for regularization\n",
        "\n",
        "# Output layer\n",
        "model.add(Dense(num_classes, activation='softmax'))\n",
        "\n",
        "# Compile the model\n",
        "model.compile(optimizer='adam', loss='categorical_crossentropy', metrics=['accuracy'])\n",
        "\n",
        "# Print model summary for an overview of the architecture\n",
        "model.summary()'''"
      ]
    },
    {
      "cell_type": "code",
      "execution_count": null,
      "metadata": {
        "id": "z1oebNXYDBHi"
      },
      "outputs": [],
      "source": [
        "'''\n",
        "import keras\n",
        "# Save the entire model to a file\n",
        "model.save('/content/drive/MyDrive/colab_data/simple_cnn_3kmel.keras')\n",
        "\n",
        "# Load the model back\n",
        "loaded_model = keras.models.load_model('/content/drive/MyDrive/colab_data/simple_cnn_3kmel.keras')'''"
      ]
    },
    {
      "cell_type": "code",
      "execution_count": null,
      "metadata": {
        "id": "8FTyK2MCEMAi"
      },
      "outputs": [],
      "source": [
        "'''\n",
        "# Plot training loss\n",
        "plt.plot(history.history['loss'], label='Training Loss')\n",
        "plt.plot(history.history['val_loss'], label='Validation Loss')\n",
        "plt.title('Training and Validation Loss')\n",
        "plt.xlabel('Epoch')\n",
        "plt.ylabel('Loss')\n",
        "plt.legend()\n",
        "plt.show()\n",
        "\n",
        "# Plot training accuracy\n",
        "plt.plot(history.history['accuracy'], label='Training Accuracy')\n",
        "plt.plot(history.history['val_accuracy'], label='Validation Accuracy')\n",
        "plt.title('Training and Validation Accuracy')\n",
        "plt.xlabel('Epoch')\n",
        "plt.ylabel('Accuracy')\n",
        "plt.legend()\n",
        "plt.show()\n",
        "'''"
      ]
    },
    {
      "cell_type": "code",
      "execution_count": null,
      "metadata": {},
      "outputs": [],
      "source": [
        "'''creates a custom data generator for data augmentation and adds gaussian noise to 20% of the training data and mixup to all'''\n",
        "\n",
        "# # Define a Mixup function\n",
        "# def mixup(X, y, alpha=0.2):\n",
        "#     if np.random.rand() < 0.2:  # Apply Mixup to 20% of the images\n",
        "#         batch_size = X.shape[0]\n",
        "#         l = np.random.beta(alpha, alpha, batch_size)\n",
        "#         X_l = l.reshape(batch_size, 1, 1, 1)\n",
        "#         y_l = l.reshape(batch_size, 1)\n",
        "\n",
        "#         X_mixup = X * X_l + X[::-1] * (1 - X_l)\n",
        "#         y_mixup = y * y_l + y[::-1] * (1 - y_l)\n",
        "#         return X_mixup, y_mixup\n",
        "#     else:\n",
        "#         return X, y\n",
        "\n",
        "# # Create an augmenter for Gaussian noise\n",
        "# gaussian_noise = iaa.AdditiveGaussianNoise(scale=0.01 * 255)\n",
        "\n",
        "# # Define the custom generator\n",
        "# def custom_generator(datagen, gaussian_noise, X_train, Y_train, batch_size):\n",
        "#     generator = datagen.flow(X_train, Y_train, batch_size=batch_size)\n",
        "#     while True:\n",
        "#         X_batch, y_batch = next(generator)\n",
        "\n",
        "#         # Decide whether to apply Gaussian noise\n",
        "#         if np.random.rand() < 0.2:  # Apply Gaussian noise to 20% of the images\n",
        "#             X_batch = gaussian_noise.augment_images(X_batch)\n",
        "\n",
        "#         # Apply Mixup\n",
        "#         X_batch, y_batch = mixup(X_batch, y_batch)\n",
        "#         yield X_batch, y_batch\n",
        "\n",
        "# # Usage example\n",
        "# batch_size = 32\n",
        "# alpha = 0.2  # Adjust Mixup's alpha value if needed\n",
        "# augmented_data_gen = custom_generator(datagen, gaussian_noise, X_train, y_train, batch_size)"
      ]
    }
  ],
  "metadata": {
    "colab": {
      "provenance": []
    },
    "kernelspec": {
      "display_name": "Python 3",
      "name": "python3"
    },
    "language_info": {
      "codemirror_mode": {
        "name": "ipython",
        "version": 3
      },
      "file_extension": ".py",
      "mimetype": "text/x-python",
      "name": "python",
      "nbconvert_exporter": "python",
      "pygments_lexer": "ipython3",
      "version": "3.11.8"
    }
  },
  "nbformat": 4,
  "nbformat_minor": 0
}
